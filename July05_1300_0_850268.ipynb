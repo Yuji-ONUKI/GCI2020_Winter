{
  "cells": [
    {
      "cell_type": "markdown",
      "metadata": {
        "id": "view-in-github",
        "colab_type": "text"
      },
      "source": [
        "<a href=\"https://colab.research.google.com/github/Yuji-ONUKI/GCI2020_Winter/blob/main/July05_1300_0_850268.ipynb\" target=\"_parent\"><img src=\"https://colab.research.google.com/assets/colab-badge.svg\" alt=\"Open In Colab\"/></a>"
      ]
    },
    {
      "cell_type": "code",
      "execution_count": 276,
      "metadata": {
        "colab": {
          "base_uri": "https://localhost:8080/"
        },
        "id": "HehSKiyFonMe",
        "outputId": "15803b26-005b-4221-a0ad-112299810439"
      },
      "outputs": [
        {
          "output_type": "stream",
          "name": "stdout",
          "text": [
            "Importing data...\n",
            "Drive already mounted at /content/drive; to attempt to forcibly remount, call drive.mount(\"/content/drive\", force_remount=True).\n"
          ]
        }
      ],
      "source": [
        "import pandas as pd\n",
        "import numpy as np\n",
        "from sklearn.preprocessing import MinMaxScaler, LabelEncoder\n",
        "from sklearn.model_selection import train_test_split\n",
        "from sklearn.metrics import accuracy_score, roc_auc_score, confusion_matrix\n",
        "from sklearn.feature_selection import VarianceThreshold\n",
        "import lightgbm as lgb\n",
        "import matplotlib.pyplot as plt\n",
        "import seaborn as sns\n",
        "\n",
        "print('Importing data...')\n",
        "# Google Colaboratoryで作業する場合はこちらも実行してください。\n",
        "from google.colab import drive\n",
        "drive.mount('/content/drive')\n",
        "# %cd 以降にこのnotebookを置いているディレクトリを指定してください。\n",
        "data = pd.read_csv(\"/content/drive/MyDrive/GCI/02.（公開）コンペ2-20220621T094535Z-001.zip (Unzipped Files)/02.（公開）コンペ2/input/train.csv\")\n",
        "test = pd.read_csv(\"/content/drive/MyDrive/GCI/02.（公開）コンペ2-20220621T094535Z-001.zip (Unzipped Files)/02.（公開）コンペ2/input/test.csv\")"
      ]
    },
    {
      "cell_type": "code",
      "execution_count": 277,
      "metadata": {
        "id": "wcaqCGyJgUdx"
      },
      "outputs": [],
      "source": [
        "data['FLAG_NOT_EMPLOYED']=0\n",
        "data.loc[data['DAYS_EMPLOYED']==365243,'FLAG_NOT_EMPLOYED']=1\n",
        "#data.loc[data['DAYS_EMPLOYED']==365243,'DAYS_EMPLOYED']=np.NAN\n",
        "test['FLAG_NOT_EMPLOYED']=0\n",
        "test.loc[test['DAYS_EMPLOYED']==365243,'FLAG_NOT_EMPLOYED']=1\n",
        "#test.loc[test['DAYS_EMPLOYED']==365243,'DAYS_EMPLOYED']=np.NAN"
      ]
    },
    {
      "cell_type": "code",
      "execution_count": 278,
      "metadata": {
        "colab": {
          "base_uri": "https://localhost:8080/"
        },
        "id": "TWS2OXgqonMp",
        "outputId": "e0b52767-335d-48cc-93ea-2cbc0c5f45b8"
      },
      "outputs": [
        {
          "output_type": "execute_result",
          "data": {
            "text/plain": [
              "['SK_ID_CURR',\n",
              " 'NAME_CONTRACT_TYPE',\n",
              " 'CODE_GENDER',\n",
              " 'FLAG_OWN_CAR',\n",
              " 'FLAG_OWN_REALTY',\n",
              " 'CNT_CHILDREN',\n",
              " 'AMT_INCOME_TOTAL',\n",
              " 'AMT_CREDIT',\n",
              " 'AMT_ANNUITY',\n",
              " 'AMT_GOODS_PRICE',\n",
              " 'NAME_TYPE_SUITE',\n",
              " 'NAME_INCOME_TYPE',\n",
              " 'NAME_EDUCATION_TYPE',\n",
              " 'NAME_FAMILY_STATUS',\n",
              " 'NAME_HOUSING_TYPE',\n",
              " 'REGION_POPULATION_RELATIVE',\n",
              " 'DAYS_BIRTH',\n",
              " 'DAYS_EMPLOYED',\n",
              " 'DAYS_REGISTRATION',\n",
              " 'DAYS_ID_PUBLISH',\n",
              " 'OWN_CAR_AGE',\n",
              " 'FLAG_MOBIL',\n",
              " 'FLAG_EMP_PHONE',\n",
              " 'FLAG_WORK_PHONE',\n",
              " 'FLAG_CONT_MOBILE',\n",
              " 'FLAG_PHONE',\n",
              " 'FLAG_EMAIL',\n",
              " 'OCCUPATION_TYPE',\n",
              " 'CNT_FAM_MEMBERS',\n",
              " 'REGION_RATING_CLIENT',\n",
              " 'REGION_RATING_CLIENT_W_CITY',\n",
              " 'REG_REGION_NOT_LIVE_REGION',\n",
              " 'REG_REGION_NOT_WORK_REGION',\n",
              " 'LIVE_REGION_NOT_WORK_REGION',\n",
              " 'REG_CITY_NOT_LIVE_CITY',\n",
              " 'REG_CITY_NOT_WORK_CITY',\n",
              " 'LIVE_CITY_NOT_WORK_CITY',\n",
              " 'ORGANIZATION_TYPE',\n",
              " 'EXT_SOURCE_1',\n",
              " 'EXT_SOURCE_2',\n",
              " 'EXT_SOURCE_3',\n",
              " 'OBS_30_CNT_SOCIAL_CIRCLE',\n",
              " 'DEF_30_CNT_SOCIAL_CIRCLE',\n",
              " 'OBS_60_CNT_SOCIAL_CIRCLE',\n",
              " 'DEF_60_CNT_SOCIAL_CIRCLE',\n",
              " 'DAYS_LAST_PHONE_CHANGE',\n",
              " 'AMT_REQ_CREDIT_BUREAU_HOUR',\n",
              " 'AMT_REQ_CREDIT_BUREAU_MON',\n",
              " 'AMT_REQ_CREDIT_BUREAU_QRT',\n",
              " 'AMT_REQ_CREDIT_BUREAU_YEAR',\n",
              " 'FLAG_NOT_EMPLOYED']"
            ]
          },
          "metadata": {},
          "execution_count": 278
        }
      ],
      "source": [
        "cols =list(test.columns)\n",
        "cols"
      ]
    },
    {
      "cell_type": "code",
      "execution_count": 279,
      "metadata": {
        "id": "YbB7BC-ap5iK"
      },
      "outputs": [],
      "source": [
        "data['YEARS_BIRTH']=round(data['DAYS_BIRTH']/365.25)\n",
        "test['YEARS_BIRTH']=round(test['DAYS_BIRTH']/365.25)\n",
        "data['YEARS_BIRTH_S']=data['YEARS_BIRTH'].astype(str)\n",
        "test['YEARS_BIRTH_S']=test['YEARS_BIRTH'].astype(str)\n",
        "\n",
        "data['MONTHS_BIRTH']=round(data['DAYS_BIRTH']/30)\n",
        "test['MONTHS_BIRTH']=round(test['DAYS_BIRTH']/30)\n",
        "\n",
        "data['YEARS_ID_PUBLISH']=round(data['DAYS_ID_PUBLISH']/365.25)\n",
        "test['YEARS_ID_PUBLISH']=round(test['DAYS_ID_PUBLISH']/365.25)\n",
        "\n",
        "data['YEARS_REGISTRATION']=round(data['DAYS_REGISTRATION']/365.25)\n",
        "test['YEARS_REGISTRATION']=round(test['DAYS_REGISTRATION']/365.25)\n",
        "\n",
        "data['YEARS_EMPLOYED']=round(data['DAYS_EMPLOYED']/365.25)\n",
        "test['YEARS_EMPLOYED']=round(test['DAYS_EMPLOYED']/365.25)"
      ]
    },
    {
      "cell_type": "code",
      "execution_count": 280,
      "metadata": {
        "id": "VMv3GVRdNWe_"
      },
      "outputs": [],
      "source": [
        "dict={}\n",
        "for item in data['AMT_INCOME_TOTAL'].unique():\n",
        "  dict[item]=data.loc[data['AMT_INCOME_TOTAL']==item,'SK_ID_CURR'].count()\n",
        "df = pd.DataFrame.from_dict(dict,orient='index')\n",
        "\n",
        "items = list(df[df[0]>10])"
      ]
    },
    {
      "cell_type": "code",
      "execution_count": 281,
      "metadata": {
        "id": "zdHMsgUQMyin"
      },
      "outputs": [],
      "source": [
        "data['AMT_INCOME_TOTAL_2']=np.NAN\n",
        "test['AMT_INCOME_TOTAL_2']=np.NAN\n",
        "for item in items:\n",
        "  data.loc[data['AMT_INCOME_TOTAL']==item,'AMT_INCOME_TOTAL_2']=data.loc[data['AMT_INCOME_TOTAL']==item,'AMT_INCOME_TOTAL']\n",
        "  test.loc[test['AMT_INCOME_TOTAL']==item,'AMT_INCOME_TOTAL_2']=test.loc[test['AMT_INCOME_TOTAL']==item,'AMT_INCOME_TOTAL']\n",
        "\n",
        "data=pd.get_dummies(data,columns=['AMT_INCOME_TOTAL_2'])\n",
        "test=pd.get_dummies(test,columns={'AMT_INCOME_TOTAL_2'})"
      ]
    },
    {
      "cell_type": "code",
      "execution_count": 282,
      "metadata": {
        "colab": {
          "base_uri": "https://localhost:8080/"
        },
        "id": "EvbVtWnV-ksW",
        "outputId": "382595ef-b959-4c28-e255-8439b20e0108"
      },
      "outputs": [
        {
          "output_type": "execute_result",
          "data": {
            "text/plain": [
              "array([0.072508, 0.04622 ])"
            ]
          },
          "metadata": {},
          "execution_count": 282
        }
      ],
      "source": [
        "data.loc[data['REGION_POPULATION_RELATIVE']>0.04,'REGION_POPULATION_RELATIVE'].unique()"
      ]
    },
    {
      "cell_type": "code",
      "execution_count": 283,
      "metadata": {
        "id": "0RnkvlFI-mxA"
      },
      "outputs": [],
      "source": [
        "data['REGION_POPULATION_RELATIVE_0.04622']=0\n",
        "data['REGION_POPULATION_RELATIVE'==0.4622,'REGION_POPULATION_RELATIVE_0.04622']=1\n",
        "data['REGION_POPULATION_RELATIVE'==0.4622,'REGION_POPULATION_RELATIVE']=np.nan\n",
        "\n",
        "test['REGION_POPULATION_RELATIVE_0.04622']=0\n",
        "test['REGION_POPULATION_RELATIVE'==0.4622,'REGION_POPULATION_RELATIVE_0.04622']=1\n",
        "test['REGION_POPULATION_RELATIVE'==0.4622,'REGION_POPULATION_RELATIVE']=np.nan\n",
        "\n",
        "data['REGION_POPULATION_RELATIVE_0.072508']=0\n",
        "data['REGION_POPULATION_RELATIVE'==0.072508,'REGION_POPULATION_RELATIVE_0.072508']=1\n",
        "data['REGION_POPULATION_RELATIVE'==0.072508,'REGION_POPULATION_RELATIVE']=np.nan\n",
        "\n",
        "test['REGION_POPULATION_RELATIVE_0.072508']=0\n",
        "test['REGION_POPULATION_RELATIVE'==0.072508,'REGION_POPULATION_RELATIVE_0.072508']=1\n",
        "test['REGION_POPULATION_RELATIVE'==0.072508,'REGION_POPULATION_RELATIVE']=np.nan"
      ]
    },
    {
      "cell_type": "code",
      "execution_count": 284,
      "metadata": {
        "id": "o3KNWUU8yasX"
      },
      "outputs": [],
      "source": [
        "data['OWN_CAR_AGE_64']=0\n",
        "data['OWN_CAR_AGE'==64,'OWN_CAR_AGE_64']=1\n",
        "data['OWN_CAR_AGE'==64,'OWN_CAR_AGE']=np.nan\n",
        "\n",
        "test['OWN_CAR_AGE_64']=0\n",
        "test['OWN_CAR_AGE'==64,'OWN_CAR_AGE_64']=1\n",
        "test['OWN_CAR_AGE'==64,'OWN_CAR_AGE']=np.nan\n",
        "\n",
        "data['OWN_CAR_AGE_65']=0\n",
        "data['OWN_CAR_AGE'==65,'OWN_CAR_AGE_65']=1\n",
        "data['OWN_CAR_AGE'==65,'OWN_CAR_AGE']=np.nan\n",
        "\n",
        "test['OWN_CAR_AGE_65']=0\n",
        "test['OWN_CAR_AGE'==65,'OWN_CAR_AGE_65']=1\n",
        "test['OWN_CAR_AGE'==65,'OWN_CAR_AGE']=np.nan"
      ]
    },
    {
      "cell_type": "code",
      "execution_count": 285,
      "metadata": {
        "id": "pxb1HwR9-k3o"
      },
      "outputs": [],
      "source": [
        "data['CREDIT_TERM'] = data['AMT_CREDIT'] / data['AMT_ANNUITY']\n",
        "test['CREDIT_TERM'] = test['AMT_CREDIT'] / test['AMT_ANNUITY']\n",
        "\n",
        "data['CREDIT_REPAY'] = data['CREDIT_TERM'] - data['MONTHS_BIRTH']\n",
        "test['CREDIT_REPAY'] = test['CREDIT_TERM'] - test['MONTHS_BIRTH']"
      ]
    },
    {
      "cell_type": "code",
      "source": [
        "data['NAME_CONTRACT_TYPE'].unique()"
      ],
      "metadata": {
        "colab": {
          "base_uri": "https://localhost:8080/"
        },
        "id": "Mpa-tlGHoqxc",
        "outputId": "e14907bd-edfb-4f05-a622-9ef5364187fa"
      },
      "execution_count": 286,
      "outputs": [
        {
          "output_type": "execute_result",
          "data": {
            "text/plain": [
              "array(['Cash loans', 'Revolving loans'], dtype=object)"
            ]
          },
          "metadata": {},
          "execution_count": 286
        }
      ]
    },
    {
      "cell_type": "code",
      "source": [
        "data['FLAG_10times_Revo']=0\n",
        "test['FLAG_10times_Revo']=0\n",
        "data.loc[(data['CREDIT_TERM']==10)&(data['NAME_CONTRACT_TYPE']=='Revolving loans'),'FLAG_10times_Revo']=1\n",
        "test.loc[(test['CREDIT_TERM']==10)&(test['NAME_CONTRACT_TYPE']=='Revolving loans'),'FLAG_10times_Revo']=1\n",
        "data.loc[(data['CREDIT_TERM']==10)&(data['NAME_CONTRACT_TYPE']=='Revolving loans'),'CREDIT_TERM']=np.NAN\n",
        "test.loc[(test['CREDIT_TERM']==10)&(test['NAME_CONTRACT_TYPE']=='Revolving loans'),'CREDIT_TERM']=np.NAN\n",
        "data['FLAG_20times_Revo']=0\n",
        "test['FLAG_20times_Revo']=0\n",
        "data.loc[(data['CREDIT_TERM']==20)&(data['NAME_CONTRACT_TYPE']=='Revolving loans'),'FLAG_20times_Revo']=1\n",
        "test.loc[(test['CREDIT_TERM']==20)&(test['NAME_CONTRACT_TYPE']=='Revolving loans'),'FLAG_20times_Revo']=1\n",
        "data.loc[(data['CREDIT_TERM']==20)&(data['NAME_CONTRACT_TYPE']=='Revolving loans'),'CREDIT_TERM']=np.NAN\n",
        "test.loc[(test['CREDIT_TERM']==20)&(test['NAME_CONTRACT_TYPE']=='Revolving loans'),'CREDIT_TERM']=np.NAN\n",
        "# remaining only cash loans\n",
        "data.drop(['NAME_CONTRACT_TYPE'],axis=1,inplace=True)\n",
        "test.drop(['NAME_CONTRACT_TYPE'],axis=1,inplace=True)"
      ],
      "metadata": {
        "id": "f3922WnSn0GF"
      },
      "execution_count": 287,
      "outputs": []
    },
    {
      "cell_type": "code",
      "source": [
        "data['CREDIT_TERM_ROUND']=round(data['CREDIT_TERM']).astype(str)\n",
        "test['CREDIT_TERM_ROUND']=round(test['CREDIT_TERM']).astype(str)"
      ],
      "metadata": {
        "id": "Ngs2k6tQvEmx"
      },
      "execution_count": 288,
      "outputs": []
    },
    {
      "cell_type": "code",
      "execution_count": 289,
      "metadata": {
        "id": "Wp4aiRibK_9D"
      },
      "outputs": [],
      "source": [
        "data['CREDIT_GOODS_RATIO'] = data['AMT_CREDIT'] / data['AMT_GOODS_PRICE']*100\n",
        "test['CREDIT_GOODS_RATIO'] = test['AMT_CREDIT'] / test['AMT_GOODS_PRICE']*100"
      ]
    },
    {
      "cell_type": "code",
      "source": [
        "data['FLAG_CREDIT_TO_GOODS_RATIO_OVER2']=0\n",
        "data.loc[data['CREDIT_GOODS_RATIO']>160,'FLAG_CREDIT_TO_GOODS_RATIO_OVER2']=1\n",
        "data.loc[data['CREDIT_GOODS_RATIO']>160,'CREDIT_GOODS_RATIO']=np.NAN\n",
        "test['FLAG_CREDIT_TO_GOODS_RATIO_OVER2']=0\n",
        "test.loc[test['CREDIT_GOODS_RATIO']>160,'FLAG_CREDIT_TO_GOODS_RATIO_OVER2']=1\n",
        "test.loc[test['CREDIT_GOODS_RATIO']>160,'CREDIT_GOODS_RATIO']=np.NAN\n",
        "data['FLAG_CREDIT_TO_GOODS_RATIO_UNDER1']=0\n",
        "data.loc[data['CREDIT_GOODS_RATIO']<100,'FLAG_CREDIT_TO_GOODS_RATIO_UNDER1']=1\n",
        "data.loc[data['CREDIT_GOODS_RATIO']<100,'CREDIT_GOODS_RATIO']=np.NAN\n",
        "test['FLAG_CREDIT_TO_GOODS_RATIO_UNDER1']=0\n",
        "test.loc[test['CREDIT_GOODS_RATIO']<100,'FLAG_CREDIT_TO_GOODS_RATIO_UNDER1']=1\n",
        "test.loc[test['CREDIT_GOODS_RATIO']<100,'CREDIT_GOODS_RATIO']=np.NAN"
      ],
      "metadata": {
        "id": "GRbry3DHxsK1"
      },
      "execution_count": 290,
      "outputs": []
    },
    {
      "cell_type": "markdown",
      "source": [
        "in test no records FLAG_CREDIT_TO_GOODS_RATIO_OVER2"
      ],
      "metadata": {
        "id": "tzrPZUiM0jcQ"
      }
    },
    {
      "cell_type": "code",
      "source": [
        "data['CREDIT_GOODS_RATIO']=round(data['CREDIT_GOODS_RATIO'])\n",
        "test['CREDIT_GOODS_RATIO']=round(test['CREDIT_GOODS_RATIO'])\n",
        "data=pd.get_dummies(data,columns=['CREDIT_GOODS_RATIO'])\n",
        "test=pd.get_dummies(test,columns=['CREDIT_GOODS_RATIO'])"
      ],
      "metadata": {
        "id": "Fcub5Cn50r2t"
      },
      "execution_count": 291,
      "outputs": []
    },
    {
      "cell_type": "code",
      "execution_count": 292,
      "metadata": {
        "id": "v29vVfC0ljQm"
      },
      "outputs": [],
      "source": [
        "data['LOW_DEFAULT_ORG']=0\n",
        "data.loc[data['ORGANIZATION_TYPE']=='Industry: type 12','LOW_DEFAULT_ORG' ]=1\n",
        "data.loc[data['ORGANIZATION_TYPE']=='Trade: type 4','LOW_DEFAULT_ORG' ]=1\n",
        "test['LOW_DEFAULT_ORG']=0\n",
        "test.loc[test['ORGANIZATION_TYPE']=='Industry: type 12','LOW_DEFAULT_ORG' ]=1\n",
        "test.loc[test['ORGANIZATION_TYPE']=='Trade: type 4','LOW_DEFAULT_ORG' ]=1\n",
        "\n",
        "data['HIGH_DEFAULT_ORG']=0\n",
        "data.loc[data['ORGANIZATION_TYPE']=='Transport: type 3','HIGH_DEFAULT_ORG']=1\n",
        "test['HIGH_DEFAULT_ORG']=0\n",
        "test.loc[test['ORGANIZATION_TYPE']=='Transport: type 3','HIGH_DEFAULT_ORG']=1"
      ]
    },
    {
      "cell_type": "code",
      "execution_count": 293,
      "metadata": {
        "id": "5pYCjGXmwz-2"
      },
      "outputs": [],
      "source": [
        "# 欠測値であれば'_NAN'を加えたカラムを作る\n",
        "def flag_isNan(column_target):\n",
        "  if type(column_target)==str:\n",
        "    data[column_target+'_NAN']=0\n",
        "    test[column_target+'_NAN']=0\n",
        "    #\n",
        "    data.loc[data[column_target].isna(),column_target+'_NAN']=1\n",
        "    test.loc[test[column_target].isna(),column_target+'_NAN']=1"
      ]
    },
    {
      "cell_type": "code",
      "execution_count": 295,
      "metadata": {
        "id": "UtcXCBAGzfQZ"
      },
      "outputs": [],
      "source": [
        "for col in ['AMT_INCOME_TOTAL',\n",
        " 'AMT_CREDIT',\n",
        " 'REGION_POPULATION_RELATIVE',\n",
        " 'DAYS_REGISTRATION',\n",
        " 'CNT_FAM_MEMBERS',\n",
        " 'EXT_SOURCE_3',\n",
        " 'DEF_30_CNT_SOCIAL_CIRCLE',\n",
        " 'DEF_60_CNT_SOCIAL_CIRCLE',\n",
        " 'DAYS_LAST_PHONE_CHANGE',\n",
        " 'YEARS_BIRTH',\n",
        " 'YEARS_ID_PUBLISH',\n",
        " 'YEARS_REGISTRATION',\n",
        " 'YEARS_EMPLOYED',\n",
        " #(False, 'REGION_POPULATION_RELATIVE'),\n",
        " #(False, 'OWN_CAR_AGE')\n",
        " ]:\n",
        "  if (test.loc[test[col].isna(),'SK_ID_CURR'].count()>0):\n",
        "    flag_isNan(col)"
      ]
    },
    {
      "cell_type": "code",
      "execution_count": 296,
      "metadata": {
        "id": "NOeyCa9ylhzq"
      },
      "outputs": [],
      "source": [
        "#for col in list(test.dtypes[data.dtypes!='float'].keys()):\n",
        "#  if (test.loc[test[col].isna(),'SK_ID_CURR'].count()>0):\n",
        "#    flag_isNan(col)"
      ]
    },
    {
      "cell_type": "code",
      "execution_count": 297,
      "metadata": {
        "id": "COyKL4UZZZYc"
      },
      "outputs": [],
      "source": [
        "data['RT_CREDIT']=data['AMT_CREDIT']/data['AMT_INCOME_TOTAL']\n",
        "test['RT_CREDIT']=test['AMT_CREDIT']/test['AMT_INCOME_TOTAL']\n",
        "\n",
        "#data['FLAG_RT_CREDIT_OVER1']=0\n",
        "#test['FLAG_RT_CREDIT_OVER1']=0\n",
        "#data.loc[data['RT_CREDIT']>1,'FLAG_RT_CREDIT_OVER1']=1\n",
        "#test.loc[data['RT_CREDIT']>1,'FLAG_RT_CREDIT_OVER1']=1"
      ]
    },
    {
      "cell_type": "code",
      "execution_count": 298,
      "metadata": {
        "id": "zpaSJddDn5TT"
      },
      "outputs": [],
      "source": [
        "data['ROUND_RT_CREDIT']=round(data['RT_CREDIT'])\n",
        "data['ROUND_RT_CREDIT'].fillna(0,inplace=True)\n",
        "data.loc[data['ROUND_RT_CREDIT']>6,'ROUND_RT_CREDIT']=6\n",
        "data['ROUND_RT_CREDIT']=data['ROUND_RT_CREDIT'].astype(str)\n",
        "\n",
        "data=pd.get_dummies(data,columns=['ROUND_RT_CREDIT'])\n",
        "\n",
        "test['ROUND_RT_CREDIT']=round(test['RT_CREDIT'])\n",
        "test['ROUND_RT_CREDIT'].fillna(0,inplace=True)\n",
        "test.loc[test['ROUND_RT_CREDIT']>6,'ROUND_RT_CREDIT']=6\n",
        "test['ROUND_RT_CREDIT']=test['ROUND_RT_CREDIT'].astype(str)\n",
        "\n",
        "test=pd.get_dummies(test,columns=['ROUND_RT_CREDIT'])"
      ]
    },
    {
      "cell_type": "code",
      "execution_count": 299,
      "metadata": {
        "id": "3sqbzKd94syY"
      },
      "outputs": [],
      "source": [
        "data['AGE_EMP']=data['YEARS_BIRTH']-data['YEARS_EMPLOYED']\n",
        "test['AGE_EMP']=test['YEARS_BIRTH']-test['YEARS_EMPLOYED']\n",
        "\n",
        "# 26歳までの上昇局面とそれ以降の下降局面を別のカラムにする\n",
        "data['AGE_EMP1']=np.NAN\n",
        "test['AGE_EMP1']=np.NAN\n",
        "data.loc[data['AGE_EMP']<-26,'AGE_EMP1']=data['AGE_EMP']\n",
        "test.loc[test['AGE_EMP']<-26,'AGE_EMP1']=test['AGE_EMP']\n",
        "data.loc[data['AGE_EMP']<-26,'AGE_EMP']=np.NAN\n",
        "test.loc[test['AGE_EMP']<-26,'AGE_EMP']=np.NAN"
      ]
    },
    {
      "cell_type": "code",
      "execution_count": 300,
      "metadata": {
        "id": "qA2NRgcEC6EF"
      },
      "outputs": [],
      "source": [
        "data['TMP_FLAG_OWN_REALTY']=data['FLAG_OWN_REALTY']\n",
        "data.loc[data['TMP_FLAG_OWN_REALTY'].isna(),'TMP_FLAG_OWN_REALTY']='O'\n",
        "data['ROUND_AMT_INCOME_TOTAL']=round(data['AMT_INCOME_TOTAL']/100000)\n",
        "data.loc[data['ROUND_AMT_INCOME_TOTAL']>6,'ROUND_AMT_INCOME_TOTAL']=6\n",
        "data['ROUND_AMT_INCOME_TOTAL']=data['ROUND_AMT_INCOME_TOTAL'].astype(str)\n",
        "data['ROUND_RT_CREDIT']=round(data['RT_CREDIT'])\n",
        "data.loc[data['ROUND_RT_CREDIT']>6,'ROUND_RT_CREDIT']=6\n",
        "data['ROUND_RT_CREDIT'].fillna(0,inplace=True)\n",
        "data['ROUND_RT_CREDIT']=data['ROUND_RT_CREDIT'].astype(str)\n",
        "data['REALTY_INCOME_CREDIT']=data['TMP_FLAG_OWN_REALTY']+data['ROUND_AMT_INCOME_TOTAL']+data['ROUND_RT_CREDIT']\n",
        "data['REALTY_INCOME_TERM']=data['TMP_FLAG_OWN_REALTY']+data['ROUND_AMT_INCOME_TOTAL']+data['CREDIT_TERM_ROUND']\n",
        "data['REALTY_INCOME_TERM_BIRTH']=data['TMP_FLAG_OWN_REALTY']+data['ROUND_AMT_INCOME_TOTAL']+data['CREDIT_TERM_ROUND']+data['YEARS_BIRTH_S']\n",
        "data.drop(['ROUND_RT_CREDIT'],axis=1,inplace=True)\n",
        "data.drop(['YEARS_BIRTH_S'],axis=1,inplace=True)\n",
        "\n",
        "\n",
        "test['TMP_FLAG_OWN_REALTY']=test['FLAG_OWN_REALTY']\n",
        "test.loc[test['TMP_FLAG_OWN_REALTY'].isna(),'TMP_FLAG_OWN_REALTY']='O'\n",
        "test['ROUND_AMT_INCOME_TOTAL']=round(test['AMT_INCOME_TOTAL']/100000)\n",
        "test['ROUND_AMT_INCOME_TOTAL'].fillna(0,inplace=True)\n",
        "test.loc[test['ROUND_AMT_INCOME_TOTAL']>6,'ROUND_AMT_INCOME_TOTAL']=6\n",
        "test['ROUND_AMT_INCOME_TOTAL']=test['ROUND_AMT_INCOME_TOTAL'].astype(str)\n",
        "test['ROUND_RT_CREDIT']=round(test['RT_CREDIT'])\n",
        "test.loc[test['ROUND_RT_CREDIT']>6,'ROUND_RT_CREDIT']=6\n",
        "test['ROUND_RT_CREDIT'].fillna(0,inplace=True)\n",
        "test['ROUND_RT_CREDIT']=test['ROUND_RT_CREDIT'].astype(str)\n",
        "test['REALTY_INCOME_CREDIT']=test['TMP_FLAG_OWN_REALTY']+test['ROUND_AMT_INCOME_TOTAL']+test['ROUND_RT_CREDIT']\n",
        "test['REALTY_INCOME_TERM']=test['TMP_FLAG_OWN_REALTY']+test['ROUND_AMT_INCOME_TOTAL']+test['CREDIT_TERM_ROUND']\n",
        "test['REALTY_INCOME_TERM_BIRTH']=test['TMP_FLAG_OWN_REALTY']+test['ROUND_AMT_INCOME_TOTAL']+test['CREDIT_TERM_ROUND']+test['YEARS_BIRTH_S']\n",
        "test.drop(['ROUND_RT_CREDIT'],axis=1,inplace=True)\n",
        "test.drop(['YEARS_BIRTH_S'],axis=1,inplace=True)"
      ]
    },
    {
      "cell_type": "code",
      "source": [
        "data=pd.get_dummies(data,columns=['CREDIT_TERM_ROUND'])\n",
        "test=pd.get_dummies(test,columns=['CREDIT_TERM_ROUND'])"
      ],
      "metadata": {
        "id": "RFWaPo13GBas"
      },
      "execution_count": 301,
      "outputs": []
    },
    {
      "cell_type": "code",
      "execution_count": 302,
      "metadata": {
        "id": "5cJpga-BIi85"
      },
      "outputs": [],
      "source": [
        "data['ROUND_EXT_SOURCE_1']=round(data['EXT_SOURCE_1']*100)\n",
        "data['ROUND_EXT_SOURCE_2']=round(data['EXT_SOURCE_2']*100)\n",
        "data['ROUND_EXT_SOURCE_3']=round(data['EXT_SOURCE_3']*100)\n",
        "\n",
        "test['ROUND_EXT_SOURCE_1']=round(test['EXT_SOURCE_1']*100)\n",
        "test['ROUND_EXT_SOURCE_2']=round(test['EXT_SOURCE_2']*100)\n",
        "test['ROUND_EXT_SOURCE_3']=round(test['EXT_SOURCE_3']*100)"
      ]
    },
    {
      "cell_type": "code",
      "execution_count": 303,
      "metadata": {
        "id": "9EGH5oBkDAwL"
      },
      "outputs": [],
      "source": [
        "t1=data.loc[data['TARGET']==1]\n",
        "t0=data.loc[data['TARGET']==0]\n",
        "ta=data\n",
        "def addColumnOfNumber(column_target):\n",
        "    column_new = 'NEW_NUM_'+column_target\n",
        "    cats = ta[column_target].unique()\n",
        "\n",
        "    dict={}\n",
        "    for cat in cats:\n",
        "      dict[cat]=(t1.loc[ta[column_target]==cat,'SK_ID_CURR'].count()/ta.loc[ta[column_target]==cat,'SK_ID_CURR'].count()).astype(str)\n",
        "\n",
        "    data[column_new]=data[column_target]\n",
        "    test[column_new]=test[column_target]\n",
        "\n",
        "    data[column_new]=data[column_new].map(dict)\n",
        "    test[column_new]=test[column_new].map(dict)\n",
        "\n",
        "    data[column_new]=data[column_new].astype(float)\n",
        "    test[column_new]=test[column_new].astype(float)"
      ]
    },
    {
      "cell_type": "code",
      "execution_count": 304,
      "metadata": {
        "colab": {
          "base_uri": "https://localhost:8080/"
        },
        "id": "7wNq5TNgDPIo",
        "outputId": "4a982a4c-0b82-4786-cd9f-64da699f4aab"
      },
      "outputs": [
        {
          "output_type": "stream",
          "name": "stderr",
          "text": [
            "/usr/local/lib/python3.7/dist-packages/ipykernel_launcher.py:10: RuntimeWarning: invalid value encountered in long_scalars\n",
            "  # Remove the CWD from sys.path while we load stuff.\n"
          ]
        }
      ],
      "source": [
        "from pandas.core.groupby.generic import DataFrameGroupBy\n",
        "addColumnOfNumber('REALTY_INCOME_CREDIT')\n",
        "data.drop(['REALTY_INCOME_CREDIT'],axis=1,inplace=True)\n",
        "test.drop(['REALTY_INCOME_CREDIT'],axis=1,inplace=True)\n",
        "\n",
        "addColumnOfNumber('REALTY_INCOME_TERM')\n",
        "data.drop(['REALTY_INCOME_TERM'],axis=1,inplace=True)\n",
        "test.drop(['REALTY_INCOME_TERM'],axis=1,inplace=True)\n",
        "\n",
        "addColumnOfNumber('REALTY_INCOME_TERM_BIRTH')\n",
        "data.drop(['REALTY_INCOME_TERM_BIRTH'],axis=1,inplace=True)\n",
        "test.drop(['REALTY_INCOME_TERM_BIRTH'],axis=1,inplace=True)\n",
        "\n",
        "addColumnOfNumber('ROUND_EXT_SOURCE_1')\n",
        "addColumnOfNumber('ROUND_EXT_SOURCE_2')\n",
        "addColumnOfNumber('ROUND_EXT_SOURCE_3')"
      ]
    },
    {
      "cell_type": "code",
      "execution_count": 305,
      "metadata": {
        "id": "y40rbuRAonMq"
      },
      "outputs": [],
      "source": [
        "# Create an anomalous flag column\n",
        "data['DAYS_EMPLOYED_ANOM'] = data[\"DAYS_EMPLOYED\"] == 365243\n",
        "\n",
        "# Replace the anomalous values with nan\n",
        "data['DAYS_EMPLOYED'].replace({365243: np.nan}, inplace = True)\n",
        "\n",
        "# Create an anomalous flag column\n",
        "test['DAYS_EMPLOYED_ANOM'] = test[\"DAYS_EMPLOYED\"] == 365243\n",
        "\n",
        "# Replace the anomalous values with nan\n",
        "test['DAYS_EMPLOYED'].replace({365243: np.nan}, inplace = True)"
      ]
    },
    {
      "cell_type": "code",
      "execution_count": 306,
      "metadata": {
        "id": "Ozd_2gLronMr"
      },
      "outputs": [],
      "source": [
        "data['DAYS_LAST_PHONE_CHANGE'].replace(0, np.nan, inplace=True)\n",
        "test['DAYS_LAST_PHONE_CHANGE'].replace(0, np.nan, inplace=True)\n",
        "\n",
        "data['NEW_PHONE_TO_REGISTRATION_NUM'] = data['DAYS_REGISTRATION'] - data['DAYS_LAST_PHONE_CHANGE']\n",
        "test['NEW_PHONE_TO_REGISTRATION_NUM'] = test['DAYS_REGISTRATION'] - test['DAYS_LAST_PHONE_CHANGE']\n",
        "data['NEW_PHONE_TO_EMPLOY_NUM'] = data['DAYS_EMPLOYED'] - data['DAYS_LAST_PHONE_CHANGE']\n",
        "test['NEW_PHONE_TO_EMPLOY_NUM'] = test['DAYS_EMPLOYED'] - test['DAYS_LAST_PHONE_CHANGE']\n",
        "\n",
        "\n",
        "data['YEARS_LAST_PHONE_CHANGE']=round(data['DAYS_LAST_PHONE_CHANGE']/365)\n",
        "test['YEARS_LAST_PHONE_CHANGE']=round(test['DAYS_LAST_PHONE_CHANGE']/365)\n",
        "\n",
        "data['MONTH_LAST_PHONE_CHANGE']=round(data['DAYS_LAST_PHONE_CHANGE']/30)\n",
        "test['MONTH_LAST_PHONE_CHANGE']=round(test['DAYS_LAST_PHONE_CHANGE']/30)"
      ]
    },
    {
      "cell_type": "code",
      "execution_count": 307,
      "metadata": {
        "id": "tTXJRsZqXh9J"
      },
      "outputs": [],
      "source": [
        "data['NEW_EXT_SOURCES_MEAN'] = data[['EXT_SOURCE_1', 'EXT_SOURCE_2', 'EXT_SOURCE_3']].mean(axis=1)\n",
        "data['DAYS_EMPLOYED_PERCENT'] = data['DAYS_EMPLOYED'] / data['DAYS_BIRTH']\n",
        "data['NEW_EMPLOY_TO_BIRTH_RATIO'] = data['DAYS_EMPLOYED'] / data['DAYS_BIRTH']\n",
        "data['NEW_EMPLOY_TO_BIRTH_NUM'] = data['DAYS_BIRTH'] - data['DAYS_EMPLOYED']\n",
        "data['NEW_PHONE_TO_BIRTH_NUM'] = data['DAYS_BIRTH'] - data['DAYS_LAST_PHONE_CHANGE']\n",
        "data['NEW_REGISTRATION_TO_BIRTH_NUM'] = data['DAYS_BIRTH'] - data['DAYS_REGISTRATION']\n",
        "data['NEW_ID_PUBLISH_TO_BIRTH_NUM'] = data['DAYS_BIRTH'] - data['DAYS_ID_PUBLISH']\n",
        "\n",
        "test['NEW_EXT_SOURCES_MEAN'] = test[['EXT_SOURCE_1', 'EXT_SOURCE_2', 'EXT_SOURCE_3']].mean(axis=1)\n",
        "test['DAYS_EMPLOYED_PERCENT'] = test['DAYS_EMPLOYED'] / test['DAYS_BIRTH']\n",
        "test['NEW_EMPLOY_TO_BIRTH_RATIO'] = test['DAYS_EMPLOYED'] / test['DAYS_BIRTH']\n",
        "test['NEW_EMPLOY_TO_BIRTH_NUM'] = test['DAYS_BIRTH'] - test['DAYS_EMPLOYED']\n",
        "test['NEW_PHONE_TO_BIRTH_NUM'] = test['DAYS_BIRTH'] - test['DAYS_LAST_PHONE_CHANGE']\n",
        "test['NEW_REGISTRATION_TO_BIRTH_NUM'] = test['DAYS_BIRTH'] - test['DAYS_REGISTRATION']\n",
        "test['NEW_ID_PUBLISH_TO_BIRTH_NUM'] = test['DAYS_BIRTH'] - test['DAYS_ID_PUBLISH']\n"
      ]
    },
    {
      "cell_type": "code",
      "execution_count": 308,
      "metadata": {
        "id": "-cbgC9G8yy8-"
      },
      "outputs": [],
      "source": [
        "\n",
        "#Separate target variable\n",
        "y = data['TARGET']\n",
        "del data['TARGET']\n",
        "\n",
        "#One-hot encoding of categorical features in data and test sets\n",
        "categorical_features = [col for col in data.columns if data[col].dtype == 'object']\n",
        "\n",
        "one_hot_df = pd.concat([data,test])\n",
        "one_hot_df = pd.get_dummies(one_hot_df, columns=categorical_features)\n",
        "\n",
        "data = one_hot_df.iloc[:data.shape[0],:]\n",
        "test = one_hot_df.iloc[data.shape[0]:,]"
      ]
    },
    {
      "cell_type": "markdown",
      "source": [
        "# temp_data.csv, temp_test.csv saved from this stage"
      ],
      "metadata": {
        "id": "-fGRleyQWawf"
      }
    },
    {
      "cell_type": "code",
      "execution_count": 311,
      "metadata": {
        "colab": {
          "base_uri": "https://localhost:8080/"
        },
        "id": "jkf6FEVeonMu",
        "outputId": "888692ed-a793-4fbb-9a92-c5593ed4bce0"
      },
      "outputs": [
        {
          "output_type": "stream",
          "name": "stdout",
          "text": [
            "dataing Features shape:  (171202, 303)\n",
            "Testing Features shape:  (61500, 302)\n"
          ]
        }
      ],
      "source": [
        "# Align data and test\n",
        "\n",
        "data_labels = y\n",
        "\n",
        "# Align the dataing and testing data, keep only columns present in both dataframes\n",
        "data, test = data.align(test, join = 'inner', axis = 1)\n",
        "\n",
        "# Add the target back in\n",
        "data['TARGET'] = y\n",
        "\n",
        "print('dataing Features shape: ', data.shape)\n",
        "print('Testing Features shape: ', test.shape)"
      ]
    },
    {
      "cell_type": "code",
      "execution_count": 312,
      "metadata": {
        "colab": {
          "base_uri": "https://localhost:8080/"
        },
        "id": "6gFmtjzWonMv",
        "outputId": "94430b2f-68b5-46c1-f120-622b396f6770"
      },
      "outputs": [
        {
          "output_type": "stream",
          "name": "stdout",
          "text": [
            "There are 0 anomalies in the test data out of 61500 entries\n"
          ]
        }
      ],
      "source": [
        "test['DAYS_EMPLOYED_ANOM'] = test[\"DAYS_EMPLOYED\"] == 365243\n",
        "test[\"DAYS_EMPLOYED\"].replace({365243: np.nan}, inplace = True)\n",
        "\n",
        "print('There are %d anomalies in the test data out of %d entries' % (test[\"DAYS_EMPLOYED_ANOM\"].sum(), len(test)))"
      ]
    },
    {
      "cell_type": "code",
      "execution_count": 313,
      "metadata": {
        "id": "Q9bMtZCTonMw"
      },
      "outputs": [],
      "source": [
        "#Polynomial Features\n",
        "\n",
        "# Make a new dataframe for polynomial features\n",
        "poly_features = data[['EXT_SOURCE_1', 'EXT_SOURCE_2', 'EXT_SOURCE_3','NEW_NUM_REALTY_INCOME_TERM_BIRTH', 'CREDIT_TERM','DAYS_BIRTH', 'DAYS_LAST_PHONE_CHANGE','TARGET']]\n",
        "poly_features_test = test[['EXT_SOURCE_1', 'EXT_SOURCE_2', 'EXT_SOURCE_3','NEW_NUM_REALTY_INCOME_TERM_BIRTH', 'CREDIT_TERM', 'DAYS_BIRTH','DAYS_LAST_PHONE_CHANGE']]\n",
        "\n",
        "# imputer for handling missing values\n",
        "from sklearn.impute import SimpleImputer\n",
        "imputer = SimpleImputer(strategy = 'median')\n",
        "\n",
        "poly_target = poly_features['TARGET']\n",
        "\n",
        "poly_features = poly_features.drop(columns = ['TARGET'])\n",
        "\n",
        "# Need to impute missing values\n",
        "poly_features = imputer.fit_transform(poly_features)\n",
        "poly_features_test = imputer.transform(poly_features_test)\n",
        "\n",
        "from sklearn.preprocessing import PolynomialFeatures\n",
        "                                  \n",
        "# Create the polynomial object with specified degree\n",
        "poly_transformer = PolynomialFeatures(degree = 3)"
      ]
    },
    {
      "cell_type": "code",
      "execution_count": 314,
      "metadata": {
        "colab": {
          "base_uri": "https://localhost:8080/"
        },
        "id": "_-IaPc9eonMw",
        "outputId": "859bc6be-a106-4bf8-d800-a2437054d018"
      },
      "outputs": [
        {
          "output_type": "stream",
          "name": "stdout",
          "text": [
            "Polynomial Features shape:  (171202, 120)\n"
          ]
        }
      ],
      "source": [
        "# data the polynomial features\n",
        "poly_transformer.fit(poly_features)\n",
        "\n",
        "# Transform the features\n",
        "poly_features = poly_transformer.transform(poly_features)\n",
        "poly_features_test = poly_transformer.transform(poly_features_test)\n",
        "print('Polynomial Features shape: ', poly_features.shape)"
      ]
    },
    {
      "cell_type": "code",
      "execution_count": 315,
      "metadata": {
        "colab": {
          "base_uri": "https://localhost:8080/"
        },
        "id": "xJjUa1VbonMx",
        "outputId": "ac066872-7215-4740-aa0f-2f9fec853abc"
      },
      "outputs": [
        {
          "output_type": "execute_result",
          "data": {
            "text/plain": [
              "array(['1', 'EXT_SOURCE_1', 'EXT_SOURCE_2', 'EXT_SOURCE_3',\n",
              "       'NEW_NUM_REALTY_INCOME_TERM_BIRTH', 'DAYS_BIRTH', 'CREDIT_TERM',\n",
              "       'DAYS_LAST_PHONE_CHANGE', 'EXT_SOURCE_1^2',\n",
              "       'EXT_SOURCE_1 EXT_SOURCE_2', 'EXT_SOURCE_1 EXT_SOURCE_3',\n",
              "       'EXT_SOURCE_1 NEW_NUM_REALTY_INCOME_TERM_BIRTH',\n",
              "       'EXT_SOURCE_1 DAYS_BIRTH', 'EXT_SOURCE_1 CREDIT_TERM',\n",
              "       'EXT_SOURCE_1 DAYS_LAST_PHONE_CHANGE', 'EXT_SOURCE_2^2',\n",
              "       'EXT_SOURCE_2 EXT_SOURCE_3',\n",
              "       'EXT_SOURCE_2 NEW_NUM_REALTY_INCOME_TERM_BIRTH',\n",
              "       'EXT_SOURCE_2 DAYS_BIRTH', 'EXT_SOURCE_2 CREDIT_TERM',\n",
              "       'EXT_SOURCE_2 DAYS_LAST_PHONE_CHANGE', 'EXT_SOURCE_3^2',\n",
              "       'EXT_SOURCE_3 NEW_NUM_REALTY_INCOME_TERM_BIRTH',\n",
              "       'EXT_SOURCE_3 DAYS_BIRTH', 'EXT_SOURCE_3 CREDIT_TERM',\n",
              "       'EXT_SOURCE_3 DAYS_LAST_PHONE_CHANGE',\n",
              "       'NEW_NUM_REALTY_INCOME_TERM_BIRTH^2',\n",
              "       'NEW_NUM_REALTY_INCOME_TERM_BIRTH DAYS_BIRTH',\n",
              "       'NEW_NUM_REALTY_INCOME_TERM_BIRTH CREDIT_TERM',\n",
              "       'NEW_NUM_REALTY_INCOME_TERM_BIRTH DAYS_LAST_PHONE_CHANGE',\n",
              "       'DAYS_BIRTH^2', 'DAYS_BIRTH CREDIT_TERM',\n",
              "       'DAYS_BIRTH DAYS_LAST_PHONE_CHANGE', 'CREDIT_TERM^2',\n",
              "       'CREDIT_TERM DAYS_LAST_PHONE_CHANGE', 'DAYS_LAST_PHONE_CHANGE^2',\n",
              "       'EXT_SOURCE_1^3', 'EXT_SOURCE_1^2 EXT_SOURCE_2',\n",
              "       'EXT_SOURCE_1^2 EXT_SOURCE_3',\n",
              "       'EXT_SOURCE_1^2 NEW_NUM_REALTY_INCOME_TERM_BIRTH',\n",
              "       'EXT_SOURCE_1^2 DAYS_BIRTH', 'EXT_SOURCE_1^2 CREDIT_TERM',\n",
              "       'EXT_SOURCE_1^2 DAYS_LAST_PHONE_CHANGE',\n",
              "       'EXT_SOURCE_1 EXT_SOURCE_2^2',\n",
              "       'EXT_SOURCE_1 EXT_SOURCE_2 EXT_SOURCE_3',\n",
              "       'EXT_SOURCE_1 EXT_SOURCE_2 NEW_NUM_REALTY_INCOME_TERM_BIRTH',\n",
              "       'EXT_SOURCE_1 EXT_SOURCE_2 DAYS_BIRTH',\n",
              "       'EXT_SOURCE_1 EXT_SOURCE_2 CREDIT_TERM',\n",
              "       'EXT_SOURCE_1 EXT_SOURCE_2 DAYS_LAST_PHONE_CHANGE',\n",
              "       'EXT_SOURCE_1 EXT_SOURCE_3^2',\n",
              "       'EXT_SOURCE_1 EXT_SOURCE_3 NEW_NUM_REALTY_INCOME_TERM_BIRTH',\n",
              "       'EXT_SOURCE_1 EXT_SOURCE_3 DAYS_BIRTH',\n",
              "       'EXT_SOURCE_1 EXT_SOURCE_3 CREDIT_TERM',\n",
              "       'EXT_SOURCE_1 EXT_SOURCE_3 DAYS_LAST_PHONE_CHANGE',\n",
              "       'EXT_SOURCE_1 NEW_NUM_REALTY_INCOME_TERM_BIRTH^2',\n",
              "       'EXT_SOURCE_1 NEW_NUM_REALTY_INCOME_TERM_BIRTH DAYS_BIRTH',\n",
              "       'EXT_SOURCE_1 NEW_NUM_REALTY_INCOME_TERM_BIRTH CREDIT_TERM',\n",
              "       'EXT_SOURCE_1 NEW_NUM_REALTY_INCOME_TERM_BIRTH DAYS_LAST_PHONE_CHANGE',\n",
              "       'EXT_SOURCE_1 DAYS_BIRTH^2', 'EXT_SOURCE_1 DAYS_BIRTH CREDIT_TERM',\n",
              "       'EXT_SOURCE_1 DAYS_BIRTH DAYS_LAST_PHONE_CHANGE',\n",
              "       'EXT_SOURCE_1 CREDIT_TERM^2',\n",
              "       'EXT_SOURCE_1 CREDIT_TERM DAYS_LAST_PHONE_CHANGE',\n",
              "       'EXT_SOURCE_1 DAYS_LAST_PHONE_CHANGE^2', 'EXT_SOURCE_2^3',\n",
              "       'EXT_SOURCE_2^2 EXT_SOURCE_3',\n",
              "       'EXT_SOURCE_2^2 NEW_NUM_REALTY_INCOME_TERM_BIRTH',\n",
              "       'EXT_SOURCE_2^2 DAYS_BIRTH', 'EXT_SOURCE_2^2 CREDIT_TERM',\n",
              "       'EXT_SOURCE_2^2 DAYS_LAST_PHONE_CHANGE',\n",
              "       'EXT_SOURCE_2 EXT_SOURCE_3^2',\n",
              "       'EXT_SOURCE_2 EXT_SOURCE_3 NEW_NUM_REALTY_INCOME_TERM_BIRTH',\n",
              "       'EXT_SOURCE_2 EXT_SOURCE_3 DAYS_BIRTH',\n",
              "       'EXT_SOURCE_2 EXT_SOURCE_3 CREDIT_TERM',\n",
              "       'EXT_SOURCE_2 EXT_SOURCE_3 DAYS_LAST_PHONE_CHANGE'], dtype=object)"
            ]
          },
          "metadata": {},
          "execution_count": 315
        }
      ],
      "source": [
        "poly_transformer.get_feature_names_out(input_features = ['EXT_SOURCE_1', 'EXT_SOURCE_2', 'EXT_SOURCE_3','NEW_NUM_REALTY_INCOME_TERM_BIRTH', 'DAYS_BIRTH', 'CREDIT_TERM','DAYS_LAST_PHONE_CHANGE'])[:75]"
      ]
    },
    {
      "cell_type": "code",
      "execution_count": 316,
      "metadata": {
        "colab": {
          "base_uri": "https://localhost:8080/"
        },
        "id": "Bo1ma7ZponMx",
        "outputId": "ca0b2920-7d1f-49ad-ba88-1dc605280584"
      },
      "outputs": [
        {
          "output_type": "stream",
          "name": "stdout",
          "text": [
            "NEW_NUM_REALTY_INCOME_TERM_BIRTH CREDIT_TERM                           -0.307924\n",
            "EXT_SOURCE_1 NEW_NUM_REALTY_INCOME_TERM_BIRTH CREDIT_TERM              -0.271403\n",
            "NEW_NUM_REALTY_INCOME_TERM_BIRTH DAYS_BIRTH CREDIT_TERM                -0.268678\n",
            "NEW_NUM_REALTY_INCOME_TERM_BIRTH^2 CREDIT_TERM                         -0.243208\n",
            "EXT_SOURCE_3 NEW_NUM_REALTY_INCOME_TERM_BIRTH CREDIT_TERM              -0.223006\n",
            "NEW_NUM_REALTY_INCOME_TERM_BIRTH DAYS_LAST_PHONE_CHANGE                -0.203266\n",
            "EXT_SOURCE_2 NEW_NUM_REALTY_INCOME_TERM_BIRTH CREDIT_TERM              -0.196084\n",
            "NEW_NUM_REALTY_INCOME_TERM_BIRTH^2 DAYS_LAST_PHONE_CHANGE              -0.194757\n",
            "EXT_SOURCE_2 EXT_SOURCE_3                                              -0.190619\n",
            "EXT_SOURCE_1 EXT_SOURCE_2 EXT_SOURCE_3                                 -0.187364\n",
            "NEW_NUM_REALTY_INCOME_TERM_BIRTH DAYS_BIRTH DAYS_LAST_PHONE_CHANGE     -0.184911\n",
            "EXT_SOURCE_1 NEW_NUM_REALTY_INCOME_TERM_BIRTH DAYS_LAST_PHONE_CHANGE   -0.178708\n",
            "EXT_SOURCE_2^2 EXT_SOURCE_3                                            -0.174604\n",
            "EXT_SOURCE_2 EXT_SOURCE_3^2                                            -0.169516\n",
            "EXT_SOURCE_1 EXT_SOURCE_2                                              -0.165062\n",
            "EXT_SOURCE_2                                                           -0.162383\n",
            "EXT_SOURCE_2 EXT_SOURCE_3 DAYS_BIRTH                                   -0.156406\n",
            "EXT_SOURCE_1 EXT_SOURCE_2^2                                            -0.155854\n",
            "EXT_SOURCE_2^2                                                         -0.151487\n",
            "EXT_SOURCE_1 EXT_SOURCE_3                                              -0.150418\n",
            "Name: TARGET, dtype: float64\n",
            "EXT_SOURCE_2 NEW_NUM_REALTY_INCOME_TERM_BIRTH DAYS_BIRTH      0.191898\n",
            "NEW_NUM_REALTY_INCOME_TERM_BIRTH^3                            0.192747\n",
            "EXT_SOURCE_2 NEW_NUM_REALTY_INCOME_TERM_BIRTH^2               0.209916\n",
            "EXT_SOURCE_2 NEW_NUM_REALTY_INCOME_TERM_BIRTH                 0.212253\n",
            "EXT_SOURCE_1 EXT_SOURCE_3 NEW_NUM_REALTY_INCOME_TERM_BIRTH    0.215530\n",
            "EXT_SOURCE_3 NEW_NUM_REALTY_INCOME_TERM_BIRTH DAYS_BIRTH      0.219042\n",
            "EXT_SOURCE_3 NEW_NUM_REALTY_INCOME_TERM_BIRTH^2               0.225497\n",
            "NEW_NUM_REALTY_INCOME_TERM_BIRTH^2 DAYS_BIRTH                 0.232037\n",
            "NEW_NUM_REALTY_INCOME_TERM_BIRTH DAYS_BIRTH^2                 0.237379\n",
            "EXT_SOURCE_3 NEW_NUM_REALTY_INCOME_TERM_BIRTH                 0.243993\n",
            "EXT_SOURCE_1 NEW_NUM_REALTY_INCOME_TERM_BIRTH^2               0.247534\n",
            "EXT_SOURCE_1^2 NEW_NUM_REALTY_INCOME_TERM_BIRTH               0.256491\n",
            "NEW_NUM_REALTY_INCOME_TERM_BIRTH CREDIT_TERM^2                0.259309\n",
            "NEW_NUM_REALTY_INCOME_TERM_BIRTH^2                            0.260964\n",
            "EXT_SOURCE_1 NEW_NUM_REALTY_INCOME_TERM_BIRTH DAYS_BIRTH      0.265766\n",
            "EXT_SOURCE_1 NEW_NUM_REALTY_INCOME_TERM_BIRTH                 0.297191\n",
            "NEW_NUM_REALTY_INCOME_TERM_BIRTH DAYS_BIRTH                   0.297832\n",
            "NEW_NUM_REALTY_INCOME_TERM_BIRTH                              0.330877\n",
            "TARGET                                                        1.000000\n",
            "1                                                                  NaN\n",
            "Name: TARGET, dtype: float64\n"
          ]
        }
      ],
      "source": [
        "# Create a dataframe of the features \n",
        "poly_features = pd.DataFrame(poly_features, \n",
        "                             columns = poly_transformer.get_feature_names_out(['EXT_SOURCE_1', 'EXT_SOURCE_2', \n",
        "                                                                           'EXT_SOURCE_3','NEW_NUM_REALTY_INCOME_TERM_BIRTH', 'DAYS_BIRTH', 'CREDIT_TERM','DAYS_LAST_PHONE_CHANGE']))\n",
        "\n",
        "# Add in the target\n",
        "poly_features['TARGET'] = poly_target\n",
        "\n",
        "# Find the correlations with the target\n",
        "poly_corrs = poly_features.corr()['TARGET'].sort_values()\n",
        "\n",
        "# Display most negative and most positive\n",
        "print(poly_corrs.head(20))\n",
        "print(poly_corrs.tail(20))"
      ]
    },
    {
      "cell_type": "code",
      "execution_count": 317,
      "metadata": {
        "colab": {
          "base_uri": "https://localhost:8080/"
        },
        "id": "bWg1TKruonMy",
        "outputId": "be6f5e85-8475-484e-80cb-421711728911"
      },
      "outputs": [
        {
          "output_type": "stream",
          "name": "stdout",
          "text": [
            "dataing data with polynomial features shape:  (171202, 422)\n",
            "Testing data with polynomial features shape:   (61500, 422)\n"
          ]
        }
      ],
      "source": [
        "# Put test features into dataframe\n",
        "poly_features_test = pd.DataFrame(poly_features_test, \n",
        "                                  columns = poly_transformer.get_feature_names_out(['EXT_SOURCE_1', 'EXT_SOURCE_2', \n",
        "                                                                                'EXT_SOURCE_3','NEW_NUM_REALTY_INCOME_TERM_BIRTH', 'DAYS_BIRTH', 'CREDIT_TERM','DAYS_LAST_PHONE_CHANGE']))\n",
        "\n",
        "# Merge polynomial features into dataing dataframe\n",
        "poly_features['SK_ID_CURR'] = data['SK_ID_CURR']\n",
        "app_train_poly = data.merge(poly_features, on = 'SK_ID_CURR', how = 'left')\n",
        "\n",
        "# Merge polnomial features into testing dataframe\n",
        "poly_features_test['SK_ID_CURR'] = test['SK_ID_CURR']\n",
        "app_test_poly = test.merge(poly_features_test, on = 'SK_ID_CURR', how = 'left')\n",
        "\n",
        "# Align the dataframes\n",
        "app_train_poly, app_test_poly = app_train_poly.align(app_test_poly, join = 'inner', axis = 1)\n",
        "\n",
        "# Print out the new shapes\n",
        "print('dataing data with polynomial features shape: ', app_train_poly.shape)\n",
        "print('Testing data with polynomial features shape:  ', app_test_poly.shape)"
      ]
    },
    {
      "cell_type": "code",
      "execution_count": 318,
      "metadata": {
        "id": "I4WHW6wqonMy"
      },
      "outputs": [],
      "source": [
        "app_test_poly.drop('1',axis=1,inplace=True)\n",
        "app_train_poly.drop('1',axis=1,inplace=True)"
      ]
    },
    {
      "cell_type": "code",
      "execution_count": 319,
      "metadata": {
        "id": "EnrINXikonM0"
      },
      "outputs": [],
      "source": [
        "app_train_poly=app_train_poly.rename(columns={'AMT_CREDIT_x':'AMT_CREDIT','AMT_GOODS_PRICE_x':'AMT_GOODS_PRICE'})\n",
        "app_test_poly=app_test_poly.rename(columns={'AMT_CREDIT_x':'AMT_CREDIT','AMT_GOODS_PRICE_x':'AMT_GOODS_PRICE'})"
      ]
    },
    {
      "cell_type": "code",
      "execution_count": 320,
      "metadata": {
        "id": "-37XbYmgonM1"
      },
      "outputs": [],
      "source": [
        "app_train_domain = app_train_poly.copy()\n",
        "app_test_domain = app_test_poly.copy()\n",
        "\n",
        "app_train_domain['CREDIT_INCOME_PERCENT'] = app_train_domain['AMT_CREDIT'] / app_train_domain['AMT_INCOME_TOTAL']\n",
        "app_train_domain['ANNUITY_INCOME_PERCENT'] = app_train_domain['AMT_ANNUITY'] / app_train_domain['AMT_INCOME_TOTAL']\n",
        "#\n",
        "app_train_domain['NEW_EMPLOY_TO_REGISTRATION_NUM'] = app_train_domain['DAYS_REGISTRATION'] - app_train_domain['DAYS_EMPLOYED']\n",
        "app_train_domain['NEW_ID_PUBLISH_TO_REGISTRATION_NUM'] = app_train_domain['DAYS_REGISTRATION'] - app_train_domain['DAYS_ID_PUBLISH']\n",
        "app_train_domain['NEW_ID_PUBLISH_TO_EMPLOY_NUM'] = app_train_domain['DAYS_EMPLOYED'] - app_train_domain['DAYS_ID_PUBLISH']\n",
        "app_train_domain['NEW_REGION_RATING_CLIENT_NUM'] = app_train_domain['REGION_RATING_CLIENT_W_CITY'] - app_train_domain['REGION_RATING_CLIENT']\n",
        "app_train_domain['NEW_FAM_MEMBERS_NUM'] = app_train_domain['CNT_FAM_MEMBERS'] - app_train_domain['CNT_CHILDREN']\n",
        "app_train_domain['NEW_EMPLOY_TO_BIRTH_YEAR'] = app_train_domain['YEARS_BIRTH'] - app_train_domain['YEARS_EMPLOYED']\n",
        "app_train_domain['NEW_PHONE_TO_BIRTH_YEAR'] = app_train_domain['YEARS_BIRTH'] - app_train_domain['YEARS_LAST_PHONE_CHANGE']\n",
        "app_train_domain['NEW_REGISTRATION_TO_BIRTH_YEAR'] = app_train_domain['YEARS_BIRTH'] - app_train_domain['YEARS_REGISTRATION']\n",
        "app_train_domain['NEW_ID_PUBLISH_TO_BIRTH_YEAR'] = app_train_domain['YEARS_BIRTH'] - app_train_domain['YEARS_ID_PUBLISH']\n",
        "app_train_domain['NEW_OWN_CAR_TO_BIRTH_YEAR'] = app_train_domain['YEARS_BIRTH'] - app_train_domain['OWN_CAR_AGE']\n",
        "app_train_domain['NEW_PHONE_TO_REGISTRATION_YEAR'] = app_train_domain['YEARS_REGISTRATION'] - app_train_domain['YEARS_LAST_PHONE_CHANGE']\n",
        "app_train_domain['NEW_EMPLOY_TO_REGISTRATION_YEAR'] = app_train_domain['YEARS_REGISTRATION'] - app_train_domain['YEARS_EMPLOYED']\n",
        "app_train_domain['NEW_ID_PUBLISH_TO_REGISTRATION_YEAR'] = app_train_domain['YEARS_REGISTRATION'] - app_train_domain['YEARS_ID_PUBLISH']\n",
        "app_train_domain['NEW_OWN_CAR_TO_REGISTRATION_YEAR'] = app_train_domain['YEARS_REGISTRATION'] - app_train_domain['OWN_CAR_AGE']\n",
        "app_train_domain['NEW_PHONE_TO_EMPLOY_YEAR'] = app_train_domain['YEARS_EMPLOYED'] - app_train_domain['YEARS_LAST_PHONE_CHANGE']\n",
        "app_train_domain['NEW_ID_PUBLISH_TO_EMPLOY_YEAR'] = app_train_domain['YEARS_EMPLOYED'] - app_train_domain['YEARS_ID_PUBLISH']\n",
        "app_train_domain['NEW_OWN_CAR_TO_EMPLOY_YEAR'] = app_train_domain['YEARS_EMPLOYED'] - app_train_domain['OWN_CAR_AGE']\n",
        "app_train_domain['NEW_ID_PUBLISH_TO_OWN_CAR'] = app_train_domain['OWN_CAR_AGE'] - app_train_domain['YEARS_ID_PUBLISH']"
      ]
    },
    {
      "cell_type": "code",
      "execution_count": 321,
      "metadata": {
        "id": "YK6YfTJJonM1"
      },
      "outputs": [],
      "source": [
        "app_test_domain['CREDIT_INCOME_PERCENT'] = app_test_domain['AMT_CREDIT'] / app_test_domain['AMT_INCOME_TOTAL']\n",
        "app_test_domain['ANNUITY_INCOME_PERCENT'] = app_test_domain['AMT_ANNUITY'] / app_test_domain['AMT_INCOME_TOTAL']\n",
        "#\n",
        "app_test_domain['NEW_EMPLOY_TO_REGISTRATION_NUM'] = app_test_domain['DAYS_REGISTRATION'] - app_test_domain['DAYS_EMPLOYED']\n",
        "app_test_domain['NEW_ID_PUBLISH_TO_REGISTRATION_NUM'] = app_test_domain['DAYS_REGISTRATION'] - app_test_domain['DAYS_ID_PUBLISH']\n",
        "app_test_domain['NEW_ID_PUBLISH_TO_EMPLOY_NUM'] = app_test_domain['DAYS_EMPLOYED'] - app_test_domain['DAYS_ID_PUBLISH']\n",
        "app_test_domain['NEW_REGION_RATING_CLIENT_NUM'] = app_test_domain['REGION_RATING_CLIENT_W_CITY'] - app_test_domain['REGION_RATING_CLIENT']\n",
        "app_test_domain['NEW_FAM_MEMBERS_NUM'] = app_test_domain['CNT_FAM_MEMBERS'] - app_test_domain['CNT_CHILDREN']\n",
        "app_test_domain['NEW_EMPLOY_TO_BIRTH_YEAR'] = app_test_domain['YEARS_BIRTH'] - app_test_domain['YEARS_EMPLOYED']\n",
        "app_test_domain['NEW_PHONE_TO_BIRTH_YEAR'] = app_test_domain['YEARS_BIRTH'] - app_test_domain['YEARS_LAST_PHONE_CHANGE']\n",
        "app_test_domain['NEW_REGISTRATION_TO_BIRTH_YEAR'] = app_test_domain['YEARS_BIRTH'] - app_test_domain['YEARS_REGISTRATION']\n",
        "app_test_domain['NEW_ID_PUBLISH_TO_BIRTH_YEAR'] = app_test_domain['YEARS_BIRTH'] - app_test_domain['YEARS_ID_PUBLISH']\n",
        "app_test_domain['NEW_OWN_CAR_TO_BIRTH_YEAR'] = app_test_domain['YEARS_BIRTH'] - app_test_domain['OWN_CAR_AGE']\n",
        "app_test_domain['NEW_PHONE_TO_REGISTRATION_YEAR'] = app_test_domain['YEARS_REGISTRATION'] - app_test_domain['YEARS_LAST_PHONE_CHANGE']\n",
        "app_test_domain['NEW_EMPLOY_TO_REGISTRATION_YEAR'] = app_test_domain['YEARS_REGISTRATION'] - app_test_domain['YEARS_EMPLOYED']\n",
        "app_test_domain['NEW_ID_PUBLISH_TO_REGISTRATION_YEAR'] = app_test_domain['YEARS_REGISTRATION'] - app_test_domain['YEARS_ID_PUBLISH']\n",
        "app_test_domain['NEW_OWN_CAR_TO_REGISTRATION_YEAR'] = app_test_domain['YEARS_REGISTRATION'] - app_test_domain['OWN_CAR_AGE']\n",
        "app_test_domain['NEW_PHONE_TO_EMPLOY_YEAR'] = app_test_domain['YEARS_EMPLOYED'] - app_test_domain['YEARS_LAST_PHONE_CHANGE']\n",
        "app_test_domain['NEW_ID_PUBLISH_TO_EMPLOY_YEAR'] = app_test_domain['YEARS_EMPLOYED'] - app_test_domain['YEARS_ID_PUBLISH']\n",
        "app_test_domain['NEW_OWN_CAR_TO_EMPLOY_YEAR'] = app_test_domain['YEARS_EMPLOYED'] - app_test_domain['OWN_CAR_AGE']\n",
        "app_test_domain['NEW_ID_PUBLISH_TO_OWN_CAR'] = app_test_domain['OWN_CAR_AGE'] - app_test_domain['YEARS_ID_PUBLISH']"
      ]
    },
    {
      "cell_type": "code",
      "execution_count": 322,
      "metadata": {
        "colab": {
          "base_uri": "https://localhost:8080/"
        },
        "id": "2HYOhQeFonM2",
        "outputId": "4bf08672-fba3-4eff-a69c-c104f63b52ef"
      },
      "outputs": [
        {
          "output_type": "stream",
          "name": "stdout",
          "text": [
            "Training data with polynomial features shape:  (171202, 442)\n",
            "Testing data with polynomial features shape:   (61500, 441)\n"
          ]
        }
      ],
      "source": [
        "app_train_domain['TARGET'] = poly_target\n",
        "print('Training data with polynomial features shape: ', app_train_domain.shape)\n",
        "print('Testing data with polynomial features shape:  ', app_test_domain.shape)"
      ]
    },
    {
      "cell_type": "code",
      "execution_count": 323,
      "metadata": {
        "colab": {
          "base_uri": "https://localhost:8080/"
        },
        "id": "Pf7NVRztonM3",
        "outputId": "018dee1a-3c69-47f3-a528-eb30c1c75255"
      },
      "outputs": [
        {
          "output_type": "stream",
          "name": "stdout",
          "text": [
            "Training data with polynomial features shape:  (171202, 442)\n",
            "Testing data with polynomial features shape:   (61500, 441)\n"
          ]
        }
      ],
      "source": [
        "app_train_domain['TARGET'] = poly_target\n",
        "print('Training data with polynomial features shape: ', app_train_domain.shape)\n",
        "print('Testing data with polynomial features shape:  ', app_test_domain.shape)"
      ]
    },
    {
      "cell_type": "code",
      "execution_count": 324,
      "metadata": {
        "id": "W9WgYpa-onM4"
      },
      "outputs": [],
      "source": [
        "from sklearn.model_selection import KFold\n",
        "from sklearn.metrics import roc_auc_score\n",
        "import lightgbm as lgb\n",
        "import gc\n",
        "\n",
        "def model(features, test_features, encoding = 'ohe', n_folds =5 ):\n",
        "    \n",
        "    \"\"\"Train and test a light gradient boosting model using\n",
        "    cross validation. \n",
        "    \n",
        "    Parameters\n",
        "    --------\n",
        "        features (pd.DataFrame): \n",
        "            dataframe of training features to use \n",
        "            for training a model. Must include the TARGET column.\n",
        "        test_features (pd.DataFrame): \n",
        "            dataframe of testing features to use\n",
        "            for making predictions with the model. \n",
        "        encoding (str, default = 'ohe'): \n",
        "            method for encoding categorical variables. Either 'ohe' for one-hot encoding or 'le' for integer label encoding\n",
        "            n_folds (int, default = 5): number of folds to use for cross validation\n",
        "        \n",
        "    Return\n",
        "    --------\n",
        "        submission (pd.DataFrame): \n",
        "            dataframe with `SK_ID_CURR` and `TARGET` probabilities\n",
        "            predicted by the model.\n",
        "        feature_importances (pd.DataFrame): \n",
        "            dataframe with the feature importances from the model.\n",
        "        valid_metrics (pd.DataFrame): \n",
        "            dataframe with training and validation metrics (ROC AUC) for each fold and overall.\n",
        "        \n",
        "    \"\"\"\n",
        "    \n",
        "    # Extract the ids\n",
        "    train_ids = features['SK_ID_CURR']\n",
        "    test_ids = test_features['SK_ID_CURR']\n",
        "    \n",
        "    # Extract the labels for training\n",
        "    labels = features['TARGET']\n",
        "    \n",
        "    # Remove the ids and target\n",
        "    features = features.drop(columns = ['SK_ID_CURR', 'TARGET'])\n",
        "    test_features = test_features.drop(columns = ['SK_ID_CURR'])\n",
        "    \n",
        "    \n",
        "    # One Hot Encoding\n",
        "    if encoding == 'ohe':\n",
        "        features = pd.get_dummies(features)\n",
        "        test_features = pd.get_dummies(test_features)\n",
        "        \n",
        "        # Align the dataframes by the columns\n",
        "        features, test_features = features.align(test_features, join = 'inner', axis = 1)\n",
        "        \n",
        "        # No categorical indices to record\n",
        "        cat_indices = 'auto'\n",
        "    \n",
        "    # Integer label encoding\n",
        "    elif encoding == 'le':\n",
        "        \n",
        "        # Create a label encoder\n",
        "        label_encoder = LabelEncoder()\n",
        "        \n",
        "        # List for storing categorical indices\n",
        "        cat_indices = []\n",
        "        \n",
        "        # Iterate through each column\n",
        "        for i, col in enumerate(features):\n",
        "            if features[col].dtype == 'object':\n",
        "                # Map the categorical features to integers\n",
        "                features[col] = label_encoder.fit_transform(np.array(features[col].astype(str)).reshape((-1,)))\n",
        "                test_features[col] = label_encoder.transform(np.array(test_features[col].astype(str)).reshape((-1,)))\n",
        "\n",
        "                # Record the categorical indices\n",
        "                cat_indices.append(i)\n",
        "    \n",
        "    # Catch error if label encoding scheme is not valid\n",
        "    else:\n",
        "        raise ValueError(\"Encoding must be either 'ohe' or 'le'\")\n",
        "        \n",
        "    print('Training Data Shape: ', features.shape)\n",
        "    print('Testing Data Shape: ', test_features.shape)\n",
        "    \n",
        "    # Extract feature names\n",
        "    feature_names = list(features.columns)\n",
        "    \n",
        "    # Convert to np arrays\n",
        "    features = np.array(features)\n",
        "    test_features = np.array(test_features)\n",
        "    \n",
        "    # Create the kfold object\n",
        "    k_fold = KFold(n_splits = n_folds, shuffle = True, random_state = 50)\n",
        "    \n",
        "    # Empty array for feature importances\n",
        "    feature_importance_values = np.zeros(len(feature_names))\n",
        "    \n",
        "    # Empty array for test predictions\n",
        "    test_predictions = np.zeros(test_features.shape[0])\n",
        "    \n",
        "    # Empty array for out of fold validation predictions\n",
        "    out_of_fold = np.zeros(features.shape[0])\n",
        "    \n",
        "    # Lists for recording validation and training scores\n",
        "    valid_scores = []\n",
        "    train_scores = []\n",
        "    \n",
        "    # Iterate through each fold\n",
        "    for train_indices, valid_indices in k_fold.split(features):\n",
        "        \n",
        "        # Training data for the fold\n",
        "        train_features, train_labels = features[train_indices], labels[train_indices]\n",
        "        # Validation data for the fold\n",
        "        valid_features, valid_labels = features[valid_indices], labels[valid_indices]\n",
        "        \n",
        "        # Create the model\n",
        "        model = lgb.LGBMClassifier(n_estimators=10000, nthread=4,objective = 'binary', \n",
        "                                   class_weight = 'balanced', learning_rate = 0.015, \n",
        "                                   reg_alpha = 0.041545473, reg_lambda = 0.1, \n",
        "                                   n_jobs = -1, random_state = 50,num_leaves=32,colsample_bytree=.9497036,subsample=.8715623,\n",
        "                                  max_depth=5,min_split_gain=.0222415,min_child_weight=39.3259775,max_bin=200,num_boost_round=3000,min_data_in_leaf=100,bagging_fraction=0.5,bagging_freq=10)\n",
        "        \n",
        "        # Train the model\n",
        "        model.fit(train_features, train_labels, eval_metric = 'auc',\n",
        "                  eval_set = [(valid_features, valid_labels), (train_features, train_labels)],\n",
        "                  eval_names = ['valid', 'train'], categorical_feature = cat_indices,\n",
        "                  early_stopping_rounds = 100, verbose = 200)\n",
        "        \n",
        "        # Record the best iteration\n",
        "        best_iteration = model.best_iteration_\n",
        "        \n",
        "        # Record the feature importances\n",
        "        feature_importance_values += model.feature_importances_ / k_fold.n_splits\n",
        "        \n",
        "        # Make predictions\n",
        "        test_predictions += model.predict_proba(test_features, num_iteration = best_iteration)[:, 1] / k_fold.n_splits\n",
        "        \n",
        "        # Record the out of fold predictions\n",
        "        out_of_fold[valid_indices] = model.predict_proba(valid_features, num_iteration = best_iteration)[:, 1]\n",
        "        \n",
        "        # Record the best score\n",
        "        valid_score = model.best_score_['valid']['auc']\n",
        "        train_score = model.best_score_['train']['auc']\n",
        "        \n",
        "        valid_scores.append(valid_score)\n",
        "        train_scores.append(train_score)\n",
        "        \n",
        "        # Clean up memory\n",
        "        gc.enable()\n",
        "        del model, train_features, valid_features\n",
        "        gc.collect()\n",
        "        \n",
        "    # Make the submission dataframe\n",
        "    submission = pd.DataFrame({'SK_ID_CURR': test_ids, 'TARGET': test_predictions})\n",
        "    \n",
        "    # Make the feature importance dataframe\n",
        "    feature_importances = pd.DataFrame({'feature': feature_names, 'importance': feature_importance_values})\n",
        "    \n",
        "    # Overall validation score\n",
        "    valid_auc = roc_auc_score(labels, out_of_fold)\n",
        "    \n",
        "    # Add the overall scores to the metrics\n",
        "    valid_scores.append(valid_auc)\n",
        "    train_scores.append(np.mean(train_scores))\n",
        "    \n",
        "    # Needed for creating dataframe of validation scores\n",
        "    fold_names = list(range(n_folds))\n",
        "    fold_names.append('overall')\n",
        "    \n",
        "    # Dataframe of validation scores\n",
        "    metrics = pd.DataFrame({'fold': fold_names,\n",
        "                            'train': train_scores,\n",
        "                            'valid': valid_scores}) \n",
        "    \n",
        "    return submission, feature_importances, metrics"
      ]
    },
    {
      "cell_type": "markdown",
      "source": [
        "# 加工済みファイルの保存と読み込み"
      ],
      "metadata": {
        "id": "8QQaLu91YCKN"
      }
    },
    {
      "cell_type": "code",
      "source": [
        "app_train_domain.to_csv('/content/drive/MyDrive/July051200processed_data.csv',index=False)\n",
        "app_test_domain.to_csv('/content/drive/MyDrive/July051200processed_test.csv',index=False)"
      ],
      "metadata": {
        "id": "J-g7AzLFXVDm"
      },
      "execution_count": 328,
      "outputs": []
    },
    {
      "cell_type": "code",
      "execution_count": 327,
      "metadata": {
        "colab": {
          "base_uri": "https://localhost:8080/"
        },
        "id": "6vIfFptGrWvW",
        "outputId": "c2873e2d-e47e-48c0-b605-6e2aded9ad80"
      },
      "outputs": [
        {
          "output_type": "stream",
          "name": "stdout",
          "text": [
            "Training Data Shape:  (171202, 440)\n",
            "Testing Data Shape:  (61500, 440)\n"
          ]
        },
        {
          "output_type": "stream",
          "name": "stderr",
          "text": [
            "/usr/local/lib/python3.7/dist-packages/lightgbm/engine.py:118: UserWarning: Found `num_boost_round` in params. Will use it instead of argument\n",
            "  warnings.warn(\"Found `{}` in params. Will use it instead of argument\".format(alias))\n"
          ]
        },
        {
          "output_type": "stream",
          "name": "stdout",
          "text": [
            "Training until validation scores don't improve for 100 rounds.\n",
            "[200]\ttrain's binary_logloss: 0.468065\ttrain's auc: 0.851252\tvalid's binary_logloss: 0.488631\tvalid's auc: 0.846236\n",
            "[400]\ttrain's binary_logloss: 0.449847\ttrain's auc: 0.860668\tvalid's binary_logloss: 0.474018\tvalid's auc: 0.851783\n",
            "[600]\ttrain's binary_logloss: 0.437733\ttrain's auc: 0.869423\tvalid's binary_logloss: 0.465181\tvalid's auc: 0.853747\n",
            "[800]\ttrain's binary_logloss: 0.427954\ttrain's auc: 0.876045\tvalid's binary_logloss: 0.459787\tvalid's auc: 0.854851\n",
            "[1000]\ttrain's binary_logloss: 0.419298\ttrain's auc: 0.882233\tvalid's binary_logloss: 0.455035\tvalid's auc: 0.855173\n",
            "[1200]\ttrain's binary_logloss: 0.412501\ttrain's auc: 0.886976\tvalid's binary_logloss: 0.449599\tvalid's auc: 0.855326\n",
            "Early stopping, best iteration is:\n",
            "[1129]\ttrain's binary_logloss: 0.414714\ttrain's auc: 0.885556\tvalid's binary_logloss: 0.452077\tvalid's auc: 0.855459\n"
          ]
        },
        {
          "output_type": "stream",
          "name": "stderr",
          "text": [
            "/usr/local/lib/python3.7/dist-packages/lightgbm/engine.py:118: UserWarning: Found `num_boost_round` in params. Will use it instead of argument\n",
            "  warnings.warn(\"Found `{}` in params. Will use it instead of argument\".format(alias))\n"
          ]
        },
        {
          "output_type": "stream",
          "name": "stdout",
          "text": [
            "Training until validation scores don't improve for 100 rounds.\n",
            "[200]\ttrain's binary_logloss: 0.468471\ttrain's auc: 0.851121\tvalid's binary_logloss: 0.488613\tvalid's auc: 0.84869\n",
            "[400]\ttrain's binary_logloss: 0.450518\ttrain's auc: 0.860608\tvalid's binary_logloss: 0.475091\tvalid's auc: 0.852024\n",
            "[600]\ttrain's binary_logloss: 0.438806\ttrain's auc: 0.868869\tvalid's binary_logloss: 0.467399\tvalid's auc: 0.853672\n",
            "[800]\ttrain's binary_logloss: 0.429757\ttrain's auc: 0.874967\tvalid's binary_logloss: 0.460535\tvalid's auc: 0.854789\n",
            "Early stopping, best iteration is:\n",
            "[810]\ttrain's binary_logloss: 0.42924\ttrain's auc: 0.8753\tvalid's binary_logloss: 0.460393\tvalid's auc: 0.854816\n"
          ]
        },
        {
          "output_type": "stream",
          "name": "stderr",
          "text": [
            "/usr/local/lib/python3.7/dist-packages/lightgbm/engine.py:118: UserWarning: Found `num_boost_round` in params. Will use it instead of argument\n",
            "  warnings.warn(\"Found `{}` in params. Will use it instead of argument\".format(alias))\n"
          ]
        },
        {
          "output_type": "stream",
          "name": "stdout",
          "text": [
            "Training until validation scores don't improve for 100 rounds.\n",
            "[200]\ttrain's binary_logloss: 0.4672\ttrain's auc: 0.851949\tvalid's binary_logloss: 0.490345\tvalid's auc: 0.845032\n",
            "[400]\ttrain's binary_logloss: 0.448555\ttrain's auc: 0.861854\tvalid's binary_logloss: 0.476601\tvalid's auc: 0.848727\n",
            "[600]\ttrain's binary_logloss: 0.436736\ttrain's auc: 0.870054\tvalid's binary_logloss: 0.46885\tvalid's auc: 0.850503\n",
            "Early stopping, best iteration is:\n",
            "[633]\ttrain's binary_logloss: 0.435109\ttrain's auc: 0.871232\tvalid's binary_logloss: 0.467825\tvalid's auc: 0.85061\n"
          ]
        },
        {
          "output_type": "stream",
          "name": "stderr",
          "text": [
            "/usr/local/lib/python3.7/dist-packages/lightgbm/engine.py:118: UserWarning: Found `num_boost_round` in params. Will use it instead of argument\n",
            "  warnings.warn(\"Found `{}` in params. Will use it instead of argument\".format(alias))\n"
          ]
        },
        {
          "output_type": "stream",
          "name": "stdout",
          "text": [
            "Training until validation scores don't improve for 100 rounds.\n",
            "[200]\ttrain's binary_logloss: 0.465736\ttrain's auc: 0.853541\tvalid's binary_logloss: 0.494773\tvalid's auc: 0.839131\n",
            "[400]\ttrain's binary_logloss: 0.447368\ttrain's auc: 0.862615\tvalid's binary_logloss: 0.480495\tvalid's auc: 0.843026\n",
            "[600]\ttrain's binary_logloss: 0.435843\ttrain's auc: 0.870808\tvalid's binary_logloss: 0.472148\tvalid's auc: 0.844184\n",
            "[800]\ttrain's binary_logloss: 0.426466\ttrain's auc: 0.877231\tvalid's binary_logloss: 0.465596\tvalid's auc: 0.844629\n",
            "Early stopping, best iteration is:\n",
            "[711]\ttrain's binary_logloss: 0.430294\ttrain's auc: 0.874642\tvalid's binary_logloss: 0.470539\tvalid's auc: 0.844891\n"
          ]
        },
        {
          "output_type": "stream",
          "name": "stderr",
          "text": [
            "/usr/local/lib/python3.7/dist-packages/lightgbm/engine.py:118: UserWarning: Found `num_boost_round` in params. Will use it instead of argument\n",
            "  warnings.warn(\"Found `{}` in params. Will use it instead of argument\".format(alias))\n"
          ]
        },
        {
          "output_type": "stream",
          "name": "stdout",
          "text": [
            "Training until validation scores don't improve for 100 rounds.\n",
            "[200]\ttrain's binary_logloss: 0.46523\ttrain's auc: 0.85373\tvalid's binary_logloss: 0.492818\tvalid's auc: 0.839641\n",
            "[400]\ttrain's binary_logloss: 0.44665\ttrain's auc: 0.863418\tvalid's binary_logloss: 0.478259\tvalid's auc: 0.843417\n",
            "[600]\ttrain's binary_logloss: 0.436084\ttrain's auc: 0.870657\tvalid's binary_logloss: 0.470554\tvalid's auc: 0.844746\n",
            "[800]\ttrain's binary_logloss: 0.426287\ttrain's auc: 0.877594\tvalid's binary_logloss: 0.464773\tvalid's auc: 0.845715\n",
            "Early stopping, best iteration is:\n",
            "[800]\ttrain's binary_logloss: 0.426287\ttrain's auc: 0.877594\tvalid's binary_logloss: 0.464773\tvalid's auc: 0.845715\n",
            "Baseline metrics\n",
            "      fold     train     valid\n",
            "0        0  0.885556  0.855459\n",
            "1        1  0.875300  0.854816\n",
            "2        2  0.871232  0.850610\n",
            "3        3  0.874642  0.844891\n",
            "4        4  0.877594  0.845715\n",
            "5  overall  0.876865  0.850268\n"
          ]
        }
      ],
      "source": [
        "submission, fi, metrics = model(app_train_domain, app_test_domain)\n",
        "print('Baseline metrics')\n",
        "print(metrics)"
      ]
    },
    {
      "cell_type": "markdown",
      "metadata": {
        "id": "DzUSIX7uHJ2K"
      },
      "source": [
        "n=440 Baseline metrics\n",
        "\n",
        "      fold     train     valid\n",
        "\n",
        "*       0  0.885556  0.855459\n",
        "*        1  0.875300  0.854816\n",
        "*        2  0.871232  0.850610\n",
        "*        3  0.874642  0.844891\n",
        "*       4  0.877594  0.845715\n",
        "*  overall  0.876865  0.850268"
      ]
    },
    {
      "cell_type": "code",
      "execution_count": 335,
      "metadata": {
        "id": "H3V45Au-onM5"
      },
      "outputs": [],
      "source": [
        "def plot_feature_importances(df):\n",
        "    \"\"\"\n",
        "    Plot importances returned by a model. This can work with any measure of\n",
        "    feature importance provided that higher importance is better. \n",
        "    \n",
        "    Args:\n",
        "        df (dataframe): feature importances. Must have the features in a column\n",
        "        called `features` and the importances in a column called `importance\n",
        "        \n",
        "    Returns:\n",
        "        shows a plot of the 15 most importance features\n",
        "        \n",
        "        df (dataframe): feature importances sorted by importance (highest to lowest) \n",
        "        with a column for normalized importance\n",
        "        \"\"\"\n",
        "    \n",
        "    # Sort features according to importance\n",
        "    df = df.sort_values('importance', ascending = False).reset_index()\n",
        "    \n",
        "    # Normalize the feature importances to add up to one\n",
        "    df['importance_normalized'] = df['importance'] / df['importance'].sum()\n",
        "\n",
        "    # Make a horizontal bar chart of feature importances\n",
        "    plt.figure(figsize = (20, 60))\n",
        "    ax = plt.subplot()\n",
        "    \n",
        "    # Need to reverse the index to plot most important on top\n",
        "    ax.barh(list(reversed(list(df.index[:100]))), \n",
        "            df['importance_normalized'].head(100), \n",
        "            align = 'center', edgecolor = 'k')\n",
        "    \n",
        "    # Set the yticks and labels\n",
        "    ax.set_yticks(list(reversed(list(df.index[:100]))))\n",
        "    ax.set_yticklabels(df['feature'].head(100))\n",
        "    \n",
        "    # Plot labeling\n",
        "    plt.xlabel('Normalized Importance'); plt.title('Feature Importances')\n",
        "    plt.show()\n",
        "    \n",
        "    return df"
      ]
    },
    {
      "cell_type": "code",
      "execution_count": 336,
      "metadata": {
        "id": "yT__4iaXonM5",
        "colab": {
          "base_uri": "https://localhost:8080/",
          "height": 1000
        },
        "outputId": "1125777c-eeb2-4feb-b344-5a53db30304f"
      },
      "outputs": [
        {
          "output_type": "display_data",
          "data": {
            "text/plain": [
              "<Figure size 1440x4320 with 1 Axes>"
            ],
            "image/png": "[encoded data removed]"
          },
          "metadata": {
            "needs_background": "light"
          }
        }
      ],
      "source": [
        "fi_sorted = plot_feature_importances(fi)"
      ]
    },
    {
      "cell_type": "code",
      "source": [
        "non=list(fi_sorted.loc[fi_sorted['importance']==0,'feature'])"
      ],
      "metadata": {
        "id": "WeP3cO3N8GbD"
      },
      "execution_count": 332,
      "outputs": []
    },
    {
      "cell_type": "code",
      "source": [
        "non"
      ],
      "metadata": {
        "colab": {
          "base_uri": "https://localhost:8080/"
        },
        "id": "PgLVrAjJCeE4",
        "outputId": "e98093c6-086e-4955-9c9f-d2e3dac3f92a"
      },
      "execution_count": 333,
      "outputs": [
        {
          "output_type": "execute_result",
          "data": {
            "text/plain": [
              "['CREDIT_GOODS_RATIO_103.0',\n",
              " 'CREDIT_GOODS_RATIO_104.0',\n",
              " 'NEW_NUM_REALTY_INCOME_TERM_BIRTH^3',\n",
              " 'CREDIT_GOODS_RATIO_105.0',\n",
              " 'ORGANIZATION_TYPE_Agriculture',\n",
              " 'CREDIT_GOODS_RATIO_102.0',\n",
              " 'ORGANIZATION_TYPE_Business Entity Type 1',\n",
              " 'ORGANIZATION_TYPE_Cleaning',\n",
              " 'ORGANIZATION_TYPE_Culture',\n",
              " 'ORGANIZATION_TYPE_Electricity',\n",
              " 'CREDIT_GOODS_RATIO_114.0',\n",
              " 'ORGANIZATION_TYPE_Emergency',\n",
              " 'ORGANIZATION_TYPE_Hotel',\n",
              " 'ORGANIZATION_TYPE_Industry: type 1',\n",
              " 'CREDIT_GOODS_RATIO_118.0',\n",
              " 'FLAG_CREDIT_TO_GOODS_RATIO_OVER2',\n",
              " 'ORGANIZATION_TYPE_Industry: type 10',\n",
              " 'CREDIT_GOODS_RATIO_121.0',\n",
              " 'ORGANIZATION_TYPE_Industry: type 11',\n",
              " 'EXT_SOURCE_3^3',\n",
              " 'CREDIT_GOODS_RATIO_123.0',\n",
              " 'ORGANIZATION_TYPE_Industry: type 12',\n",
              " 'CREDIT_GOODS_RATIO_125.0',\n",
              " 'ORGANIZATION_TYPE_Industry: type 13',\n",
              " 'CREDIT_GOODS_RATIO_128.0',\n",
              " 'CREDIT_GOODS_RATIO_129.0',\n",
              " 'CREDIT_GOODS_RATIO_130.0',\n",
              " 'CREDIT_GOODS_RATIO_131.0',\n",
              " 'CREDIT_GOODS_RATIO_133.0',\n",
              " 'FLAG_CREDIT_TO_GOODS_RATIO_UNDER1',\n",
              " (False, 'OWN_CAR_AGE_65'),\n",
              " 'ORGANIZATION_TYPE_Advertising',\n",
              " 'OCCUPATION_TYPE_IT staff',\n",
              " 'FLAG_MOBIL',\n",
              " 'FLAG_EMP_PHONE',\n",
              " 'FLAG_CONT_MOBILE',\n",
              " 'NAME_EDUCATION_TYPE_Incomplete higher',\n",
              " 'NAME_FAMILY_STATUS_Unknown',\n",
              " 'NAME_EDUCATION_TYPE_Academic degree',\n",
              " 'NAME_INCOME_TYPE_Unemployed',\n",
              " 'NAME_INCOME_TYPE_Student',\n",
              " 'OCCUPATION_TYPE_Cooking staff',\n",
              " 'NAME_INCOME_TYPE_Pensioner',\n",
              " 'NAME_INCOME_TYPE_Maternity leave',\n",
              " 'FLAG_NOT_EMPLOYED',\n",
              " 'NAME_INCOME_TYPE_Businessman',\n",
              " 'REGION_POPULATION_RELATIVE_0.04622',\n",
              " 'FLAG_10times_Revo',\n",
              " 'OCCUPATION_TYPE_Realty agents',\n",
              " 'OCCUPATION_TYPE_Secretaries',\n",
              " (False, 'REGION_POPULATION_RELATIVE_0.04622'),\n",
              " (False, 'REGION_POPULATION_RELATIVE'),\n",
              " 'CREDIT_TERM^3',\n",
              " 'REGION_POPULATION_RELATIVE_0.072508',\n",
              " (False, 'REGION_POPULATION_RELATIVE_0.072508'),\n",
              " 'OWN_CAR_AGE_64',\n",
              " (False, 'OWN_CAR_AGE_64'),\n",
              " (False, 'OWN_CAR_AGE'),\n",
              " 'DAYS_BIRTH^3',\n",
              " 'OWN_CAR_AGE_65',\n",
              " 'CREDIT_GOODS_RATIO_136.0',\n",
              " 'CREDIT_GOODS_RATIO_134.0',\n",
              " 'CREDIT_GOODS_RATIO_145.0',\n",
              " 'CREDIT_GOODS_RATIO_137.0',\n",
              " 'CREDIT_TERM_ROUND_42.0',\n",
              " 'ORGANIZATION_TYPE_Trade: type 1',\n",
              " 'CREDIT_TERM_ROUND_32.0',\n",
              " 'EXT_SOURCE_1^3',\n",
              " 'ORGANIZATION_TYPE_Trade: type 4',\n",
              " 'CREDIT_TERM_ROUND_33.0',\n",
              " 'ORGANIZATION_TYPE_Trade: type 5',\n",
              " 'CREDIT_TERM_ROUND_35.0',\n",
              " 'CREDIT_TERM_ROUND_36.0',\n",
              " 'ORGANIZATION_TYPE_Trade: type 6',\n",
              " 'CREDIT_TERM_ROUND_37.0',\n",
              " 'CREDIT_TERM_ROUND_38.0',\n",
              " 'CREDIT_TERM_ROUND_39.0',\n",
              " 'NEW_NUM_REALTY_INCOME_TERM_BIRTH^2',\n",
              " 'CREDIT_TERM_ROUND_40.0',\n",
              " 'CREDIT_TERM_ROUND_45.0',\n",
              " 'ROUND_AMT_INCOME_TOTAL_6.0',\n",
              " 'ORGANIZATION_TYPE_Transport: type 1',\n",
              " 'ORGANIZATION_TYPE_University',\n",
              " 'CREDIT_TERM_ROUND_9.0',\n",
              " 'CREDIT_TERM_ROUND_nan',\n",
              " 'DAYS_EMPLOYED_ANOM',\n",
              " 'ORGANIZATION_TYPE_XNA',\n",
              " 'CREDIT_GOODS_RATIO_119.0',\n",
              " 'CREDIT_GOODS_RATIO_138.0',\n",
              " 'CREDIT_GOODS_RATIO_156.0',\n",
              " 'CREDIT_GOODS_RATIO_160.0',\n",
              " 'CODE_GENDER_XNA',\n",
              " 'ROUND_AMT_INCOME_TOTAL_0.0',\n",
              " 'ROUND_AMT_INCOME_TOTAL_3.0',\n",
              " 'ROUND_AMT_INCOME_TOTAL_5.0',\n",
              " 'CREDIT_TERM_ROUND_30.0',\n",
              " 'CREDIT_TERM_ROUND_29.0',\n",
              " 'ORGANIZATION_TYPE_Telecom',\n",
              " 'ORGANIZATION_TYPE_Services',\n",
              " 'CREDIT_GOODS_RATIO_148.0',\n",
              " 'CREDIT_GOODS_RATIO_150.0',\n",
              " 'LOW_DEFAULT_ORG',\n",
              " 'ORGANIZATION_TYPE_Industry: type 2',\n",
              " 'DEF_30_CNT_SOCIAL_CIRCLE_NAN',\n",
              " 'DEF_60_CNT_SOCIAL_CIRCLE_NAN',\n",
              " 'ROUND_RT_CREDIT_0.0',\n",
              " 'EXT_SOURCE_2^3',\n",
              " 'ROUND_RT_CREDIT_1.0',\n",
              " 'ORGANIZATION_TYPE_Industry: type 3',\n",
              " 'ORGANIZATION_TYPE_Industry: type 4',\n",
              " 'ROUND_RT_CREDIT_6.0',\n",
              " 'ORGANIZATION_TYPE_Industry: type 5',\n",
              " 'CREDIT_TERM_ROUND_11.0',\n",
              " 'CREDIT_TERM_ROUND_12.0',\n",
              " 'ORGANIZATION_TYPE_Industry: type 6',\n",
              " 'CREDIT_TERM_ROUND_14.0',\n",
              " 'ORGANIZATION_TYPE_Industry: type 8',\n",
              " 'NAME_TYPE_SUITE_Other_B',\n",
              " 'ORGANIZATION_TYPE_Insurance',\n",
              " 'ORGANIZATION_TYPE_Legal Services',\n",
              " 'NAME_TYPE_SUITE_Other_A',\n",
              " 'ORGANIZATION_TYPE_Mobile',\n",
              " 'NAME_TYPE_SUITE_Group of people',\n",
              " 'ORGANIZATION_TYPE_Postal',\n",
              " 'ORGANIZATION_TYPE_Realtor',\n",
              " 'ORGANIZATION_TYPE_Religion',\n",
              " 'ORGANIZATION_TYPE_Restaurant',\n",
              " 'ORGANIZATION_TYPE_Security',\n",
              " 'OCCUPATION_TYPE_HR staff']"
            ]
          },
          "metadata": {},
          "execution_count": 333
        }
      ]
    },
    {
      "cell_type": "code",
      "source": [
        "len(non)"
      ],
      "metadata": {
        "colab": {
          "base_uri": "https://localhost:8080/"
        },
        "id": "n97OvCYsg0EO",
        "outputId": "69e4b63c-7039-43c5-c2d1-f4da40cd1b6b"
      },
      "execution_count": 345,
      "outputs": [
        {
          "output_type": "execute_result",
          "data": {
            "text/plain": [
              "129"
            ]
          },
          "metadata": {},
          "execution_count": 345
        }
      ]
    },
    {
      "cell_type": "code",
      "source": [
        "len(app_train_domain.columns)"
      ],
      "metadata": {
        "colab": {
          "base_uri": "https://localhost:8080/"
        },
        "id": "miw55KmLiM2F",
        "outputId": "58164c7b-1083-4ddc-9bde-2e1dab77f372"
      },
      "execution_count": 344,
      "outputs": [
        {
          "output_type": "execute_result",
          "data": {
            "text/plain": [
              "442"
            ]
          },
          "metadata": {},
          "execution_count": 344
        }
      ]
    },
    {
      "cell_type": "code",
      "execution_count": 272,
      "metadata": {
        "id": "Z9lziqV4sBt3"
      },
      "outputs": [],
      "source": [
        "n=len(app_train_domain.columns)-len(non)"
      ]
    },
    {
      "cell_type": "markdown",
      "source": [
        "442-177=265"
      ],
      "metadata": {
        "id": "S9m45zgciZhE"
      }
    },
    {
      "cell_type": "code",
      "execution_count": 346,
      "metadata": {
        "id": "3XE8n9cFq5ky"
      },
      "outputs": [],
      "source": [
        "feats=list(fi_sorted[0:n:1]['feature'])"
      ]
    },
    {
      "cell_type": "code",
      "execution_count": 340,
      "metadata": {
        "id": "wiCn5xQ7dPwn"
      },
      "outputs": [],
      "source": [
        "app_train_domain=app_train_domain.rename(columns=lambda x: str(x).replace(u' ', u''))\n",
        "app_test_domain=app_test_domain.rename(columns=lambda x: str(x).replace(u' ', u''))\n",
        "\n",
        "feats = list(map(lambda x: str(x).replace(u' ', u''),feats))\n",
        "feats.append('SK_ID_CURR')\n",
        "feats_test = feats.copy()\n",
        "\n",
        "feats.append('TARGET')"
      ]
    },
    {
      "cell_type": "code",
      "execution_count": 341,
      "metadata": {
        "id": "-yJV0Cm9onM4",
        "colab": {
          "base_uri": "https://localhost:8080/"
        },
        "outputId": "4391fd60-a39a-40bc-a07c-c911b64e2c33"
      },
      "outputs": [
        {
          "output_type": "stream",
          "name": "stdout",
          "text": [
            "Training Data Shape:  (171202, 265)\n",
            "Testing Data Shape:  (61500, 265)\n"
          ]
        },
        {
          "output_type": "stream",
          "name": "stderr",
          "text": [
            "/usr/local/lib/python3.7/dist-packages/lightgbm/engine.py:118: UserWarning: Found `num_boost_round` in params. Will use it instead of argument\n",
            "  warnings.warn(\"Found `{}` in params. Will use it instead of argument\".format(alias))\n"
          ]
        },
        {
          "output_type": "stream",
          "name": "stdout",
          "text": [
            "Training until validation scores don't improve for 100 rounds.\n",
            "[200]\ttrain's binary_logloss: 0.468024\ttrain's auc: 0.851315\tvalid's binary_logloss: 0.488587\tvalid's auc: 0.846228\n",
            "[400]\ttrain's binary_logloss: 0.449631\ttrain's auc: 0.860876\tvalid's binary_logloss: 0.473716\tvalid's auc: 0.851692\n",
            "[600]\ttrain's binary_logloss: 0.437401\ttrain's auc: 0.869708\tvalid's binary_logloss: 0.464962\tvalid's auc: 0.853514\n",
            "[800]\ttrain's binary_logloss: 0.428226\ttrain's auc: 0.875908\tvalid's binary_logloss: 0.460178\tvalid's auc: 0.85447\n",
            "[1000]\ttrain's binary_logloss: 0.419609\ttrain's auc: 0.882106\tvalid's binary_logloss: 0.455529\tvalid's auc: 0.854904\n",
            "Early stopping, best iteration is:\n",
            "[1034]\ttrain's binary_logloss: 0.418124\ttrain's auc: 0.883113\tvalid's binary_logloss: 0.453281\tvalid's auc: 0.855039\n"
          ]
        },
        {
          "output_type": "stream",
          "name": "stderr",
          "text": [
            "/usr/local/lib/python3.7/dist-packages/lightgbm/engine.py:118: UserWarning: Found `num_boost_round` in params. Will use it instead of argument\n",
            "  warnings.warn(\"Found `{}` in params. Will use it instead of argument\".format(alias))\n"
          ]
        },
        {
          "output_type": "stream",
          "name": "stdout",
          "text": [
            "Training until validation scores don't improve for 100 rounds.\n",
            "[200]\ttrain's binary_logloss: 0.468501\ttrain's auc: 0.851092\tvalid's binary_logloss: 0.488534\tvalid's auc: 0.84877\n",
            "[400]\ttrain's binary_logloss: 0.450526\ttrain's auc: 0.86061\tvalid's binary_logloss: 0.475121\tvalid's auc: 0.852375\n",
            "[600]\ttrain's binary_logloss: 0.439083\ttrain's auc: 0.868611\tvalid's binary_logloss: 0.467489\tvalid's auc: 0.854169\n",
            "[800]\ttrain's binary_logloss: 0.429814\ttrain's auc: 0.87494\tvalid's binary_logloss: 0.460321\tvalid's auc: 0.855345\n",
            "[1000]\ttrain's binary_logloss: 0.421391\ttrain's auc: 0.880746\tvalid's binary_logloss: 0.45574\tvalid's auc: 0.855246\n",
            "Early stopping, best iteration is:\n",
            "[931]\ttrain's binary_logloss: 0.424029\ttrain's auc: 0.879013\tvalid's binary_logloss: 0.457223\tvalid's auc: 0.855493\n"
          ]
        },
        {
          "output_type": "stream",
          "name": "stderr",
          "text": [
            "/usr/local/lib/python3.7/dist-packages/lightgbm/engine.py:118: UserWarning: Found `num_boost_round` in params. Will use it instead of argument\n",
            "  warnings.warn(\"Found `{}` in params. Will use it instead of argument\".format(alias))\n"
          ]
        },
        {
          "output_type": "stream",
          "name": "stdout",
          "text": [
            "Training until validation scores don't improve for 100 rounds.\n",
            "[200]\ttrain's binary_logloss: 0.467211\ttrain's auc: 0.851929\tvalid's binary_logloss: 0.490412\tvalid's auc: 0.845209\n",
            "[400]\ttrain's binary_logloss: 0.44866\ttrain's auc: 0.86173\tvalid's binary_logloss: 0.476628\tvalid's auc: 0.849067\n",
            "[600]\ttrain's binary_logloss: 0.436946\ttrain's auc: 0.869866\tvalid's binary_logloss: 0.46906\tvalid's auc: 0.850758\n",
            "Early stopping, best iteration is:\n",
            "[580]\ttrain's binary_logloss: 0.437605\ttrain's auc: 0.869432\tvalid's binary_logloss: 0.470204\tvalid's auc: 0.850898\n"
          ]
        },
        {
          "output_type": "stream",
          "name": "stderr",
          "text": [
            "/usr/local/lib/python3.7/dist-packages/lightgbm/engine.py:118: UserWarning: Found `num_boost_round` in params. Will use it instead of argument\n",
            "  warnings.warn(\"Found `{}` in params. Will use it instead of argument\".format(alias))\n"
          ]
        },
        {
          "output_type": "stream",
          "name": "stdout",
          "text": [
            "Training until validation scores don't improve for 100 rounds.\n",
            "[200]\ttrain's binary_logloss: 0.465755\ttrain's auc: 0.853565\tvalid's binary_logloss: 0.494828\tvalid's auc: 0.839076\n",
            "[400]\ttrain's binary_logloss: 0.447348\ttrain's auc: 0.862697\tvalid's binary_logloss: 0.480553\tvalid's auc: 0.84307\n",
            "[600]\ttrain's binary_logloss: 0.43573\ttrain's auc: 0.870911\tvalid's binary_logloss: 0.472067\tvalid's auc: 0.844313\n",
            "[800]\ttrain's binary_logloss: 0.426166\ttrain's auc: 0.877443\tvalid's binary_logloss: 0.465292\tvalid's auc: 0.845074\n",
            "Early stopping, best iteration is:\n",
            "[710]\ttrain's binary_logloss: 0.430256\ttrain's auc: 0.874669\tvalid's binary_logloss: 0.470572\tvalid's auc: 0.845159\n"
          ]
        },
        {
          "output_type": "stream",
          "name": "stderr",
          "text": [
            "/usr/local/lib/python3.7/dist-packages/lightgbm/engine.py:118: UserWarning: Found `num_boost_round` in params. Will use it instead of argument\n",
            "  warnings.warn(\"Found `{}` in params. Will use it instead of argument\".format(alias))\n"
          ]
        },
        {
          "output_type": "stream",
          "name": "stdout",
          "text": [
            "Training until validation scores don't improve for 100 rounds.\n",
            "[200]\ttrain's binary_logloss: 0.465196\ttrain's auc: 0.853708\tvalid's binary_logloss: 0.49293\tvalid's auc: 0.839632\n",
            "[400]\ttrain's binary_logloss: 0.44642\ttrain's auc: 0.863601\tvalid's binary_logloss: 0.478163\tvalid's auc: 0.843433\n",
            "[600]\ttrain's binary_logloss: 0.435532\ttrain's auc: 0.871057\tvalid's binary_logloss: 0.470094\tvalid's auc: 0.844874\n",
            "[800]\ttrain's binary_logloss: 0.425887\ttrain's auc: 0.877828\tvalid's binary_logloss: 0.46439\tvalid's auc: 0.846038\n",
            "Early stopping, best iteration is:\n",
            "[782]\ttrain's binary_logloss: 0.426994\ttrain's auc: 0.877107\tvalid's binary_logloss: 0.464836\tvalid's auc: 0.846049\n",
            "Baseline metrics\n",
            "      fold     train     valid\n",
            "0        0  0.883113  0.855039\n",
            "1        1  0.879013  0.855493\n",
            "2        2  0.869432  0.850898\n",
            "3        3  0.874669  0.845159\n",
            "4        4  0.877107  0.846049\n",
            "5  overall  0.876667  0.850496\n"
          ]
        }
      ],
      "source": [
        "submission, fi, metrics = model(app_train_domain[feats], app_test_domain[feats_test])\n",
        "print('Baseline metrics')\n",
        "print(metrics)"
      ]
    },
    {
      "cell_type": "markdown",
      "source": [
        "n=265 Baseline metrics\n",
        "\n",
        "*        0  0.883113  0.855039\n",
        "*        1  0.879013  0.855493\n",
        "*        2  0.869432  0.850898\n",
        "*        3  0.874669  0.845159\n",
        "*        4  0.877107  0.846049\n",
        "*  overall  0.876667  0.850496"
      ],
      "metadata": {
        "id": "0M_TdpmbMsm2"
      }
    },
    {
      "cell_type": "code",
      "execution_count": 347,
      "metadata": {
        "id": "LSQ2ifqaonM5"
      },
      "outputs": [],
      "source": [
        "submission.to_csv('second_sub.csv', index = False)"
      ]
    }
  ],
  "metadata": {
    "colab": {
      "collapsed_sections": [],
      "name": "July05_1300_0.850268.ipynb",
      "provenance": [],
      "include_colab_link": true
    },
    "kernelspec": {
      "display_name": "Python 3",
      "language": "python",
      "name": "python3"
    },
    "language_info": {
      "codemirror_mode": {
        "name": "ipython",
        "version": 3
      },
      "file_extension": ".py",
      "mimetype": "text/x-python",
      "name": "python",
      "nbconvert_exporter": "python",
      "pygments_lexer": "ipython3",
      "version": "3.6.6"
    }
  },
  "nbformat": 4,
  "nbformat_minor": 0
}