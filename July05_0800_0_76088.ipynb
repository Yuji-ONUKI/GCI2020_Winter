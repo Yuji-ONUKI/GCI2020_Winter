{
  "cells": [
    {
      "cell_type": "markdown",
      "metadata": {
        "id": "view-in-github",
        "colab_type": "text"
      },
      "source": [
        "<a href=\"https://colab.research.google.com/github/Yuji-ONUKI/GCI2020_Winter/blob/main/July05_0800_0_76088.ipynb\" target=\"_parent\"><img src=\"https://colab.research.google.com/assets/colab-badge.svg\" alt=\"Open In Colab\"/></a>"
      ]
    },
    {
      "cell_type": "code",
      "execution_count": 3,
      "metadata": {
        "colab": {
          "base_uri": "https://localhost:8080/"
        },
        "id": "HehSKiyFonMe",
        "outputId": "e0d2ade3-3fce-4e7c-f2b6-3ca855a77527"
      },
      "outputs": [
        {
          "output_type": "stream",
          "name": "stdout",
          "text": [
            "Importing data...\n",
            "Mounted at /content/drive\n"
          ]
        }
      ],
      "source": [
        "import pandas as pd\n",
        "import numpy as np\n",
        "from sklearn.preprocessing import MinMaxScaler, LabelEncoder\n",
        "from sklearn.model_selection import train_test_split\n",
        "from sklearn.metrics import accuracy_score, roc_auc_score, confusion_matrix\n",
        "from sklearn.feature_selection import VarianceThreshold\n",
        "import lightgbm as lgb\n",
        "import matplotlib.pyplot as plt\n",
        "import seaborn as sns\n",
        "\n",
        "print('Importing data...')\n",
        "# Google Colaboratoryで作業する場合はこちらも実行してください。\n",
        "from google.colab import drive\n",
        "drive.mount('/content/drive')\n",
        "# %cd 以降にこのnotebookを置いているディレクトリを指定してください。\n",
        "data = pd.read_csv(\"/content/drive/MyDrive/GCI/02.（公開）コンペ2-20220621T094535Z-001.zip (Unzipped Files)/02.（公開）コンペ2/input/train.csv\")\n",
        "test = pd.read_csv(\"/content/drive/MyDrive/GCI/02.（公開）コンペ2-20220621T094535Z-001.zip (Unzipped Files)/02.（公開）コンペ2/input/test.csv\")\n",
        "\n"
      ]
    },
    {
      "cell_type": "code",
      "execution_count": 4,
      "metadata": {
        "id": "TWiL7ZhXonMo"
      },
      "outputs": [],
      "source": [
        "#test = test[test.columns[data.isnull().mean() < 0.85]]\n",
        "#data = data[data.columns[data.isnull().mean() < 0.85]]"
      ]
    },
    {
      "cell_type": "code",
      "execution_count": 5,
      "metadata": {
        "id": "wcaqCGyJgUdx"
      },
      "outputs": [],
      "source": [
        "data['FLAG_NOT_EMPLOYED']=0\n",
        "data.loc[data['DAYS_EMPLOYED']==365243,'FLAG_NOT_EMPLOYED']=1\n",
        "#data.loc[data['DAYS_EMPLOYED']==365243,'DAYS_EMPLOYED']=np.NAN\n",
        "test['FLAG_NOT_EMPLOYED']=0\n",
        "test.loc[test['DAYS_EMPLOYED']==365243,'FLAG_NOT_EMPLOYED']=1\n",
        "#test.loc[test['DAYS_EMPLOYED']==365243,'DAYS_EMPLOYED']=np.NAN"
      ]
    },
    {
      "cell_type": "code",
      "execution_count": 6,
      "metadata": {
        "colab": {
          "base_uri": "https://localhost:8080/"
        },
        "id": "TWS2OXgqonMp",
        "outputId": "2f89246f-788b-4cc4-b25d-1b82dace88d2"
      },
      "outputs": [
        {
          "output_type": "execute_result",
          "data": {
            "text/plain": [
              "['SK_ID_CURR',\n",
              " 'NAME_CONTRACT_TYPE',\n",
              " 'CODE_GENDER',\n",
              " 'FLAG_OWN_CAR',\n",
              " 'FLAG_OWN_REALTY',\n",
              " 'CNT_CHILDREN',\n",
              " 'AMT_INCOME_TOTAL',\n",
              " 'AMT_CREDIT',\n",
              " 'AMT_ANNUITY',\n",
              " 'AMT_GOODS_PRICE',\n",
              " 'NAME_TYPE_SUITE',\n",
              " 'NAME_INCOME_TYPE',\n",
              " 'NAME_EDUCATION_TYPE',\n",
              " 'NAME_FAMILY_STATUS',\n",
              " 'NAME_HOUSING_TYPE',\n",
              " 'REGION_POPULATION_RELATIVE',\n",
              " 'DAYS_BIRTH',\n",
              " 'DAYS_EMPLOYED',\n",
              " 'DAYS_REGISTRATION',\n",
              " 'DAYS_ID_PUBLISH',\n",
              " 'OWN_CAR_AGE',\n",
              " 'FLAG_MOBIL',\n",
              " 'FLAG_EMP_PHONE',\n",
              " 'FLAG_WORK_PHONE',\n",
              " 'FLAG_CONT_MOBILE',\n",
              " 'FLAG_PHONE',\n",
              " 'FLAG_EMAIL',\n",
              " 'OCCUPATION_TYPE',\n",
              " 'CNT_FAM_MEMBERS',\n",
              " 'REGION_RATING_CLIENT',\n",
              " 'REGION_RATING_CLIENT_W_CITY',\n",
              " 'REG_REGION_NOT_LIVE_REGION',\n",
              " 'REG_REGION_NOT_WORK_REGION',\n",
              " 'LIVE_REGION_NOT_WORK_REGION',\n",
              " 'REG_CITY_NOT_LIVE_CITY',\n",
              " 'REG_CITY_NOT_WORK_CITY',\n",
              " 'LIVE_CITY_NOT_WORK_CITY',\n",
              " 'ORGANIZATION_TYPE',\n",
              " 'EXT_SOURCE_1',\n",
              " 'EXT_SOURCE_2',\n",
              " 'EXT_SOURCE_3',\n",
              " 'OBS_30_CNT_SOCIAL_CIRCLE',\n",
              " 'DEF_30_CNT_SOCIAL_CIRCLE',\n",
              " 'OBS_60_CNT_SOCIAL_CIRCLE',\n",
              " 'DEF_60_CNT_SOCIAL_CIRCLE',\n",
              " 'DAYS_LAST_PHONE_CHANGE',\n",
              " 'AMT_REQ_CREDIT_BUREAU_HOUR',\n",
              " 'AMT_REQ_CREDIT_BUREAU_MON',\n",
              " 'AMT_REQ_CREDIT_BUREAU_QRT',\n",
              " 'AMT_REQ_CREDIT_BUREAU_YEAR',\n",
              " 'FLAG_NOT_EMPLOYED']"
            ]
          },
          "metadata": {},
          "execution_count": 6
        }
      ],
      "source": [
        "cols =list(test.columns)\n",
        "cols"
      ]
    },
    {
      "cell_type": "code",
      "execution_count": 6,
      "metadata": {
        "id": "YMIQmpxB16vE"
      },
      "outputs": [],
      "source": [
        ""
      ]
    },
    {
      "cell_type": "code",
      "execution_count": 7,
      "metadata": {
        "id": "YbB7BC-ap5iK"
      },
      "outputs": [],
      "source": [
        "data['YEARS_BIRTH']=round(data['DAYS_BIRTH']/365)\n",
        "test['YEARS_BIRTH']=round(test['DAYS_BIRTH']/365)\n",
        "\n",
        "data['YEARS_ID_PUBLISH']=round(data['DAYS_ID_PUBLISH']/365)\n",
        "test['YEARS_ID_PUBLISH']=round(test['DAYS_ID_PUBLISH']/365)\n",
        "\n",
        "data['YEARS_REGISTRATION']=round(data['DAYS_REGISTRATION']/365)\n",
        "test['YEARS_REGISTRATION']=round(test['DAYS_REGISTRATION']/365)\n",
        "\n",
        "\n",
        "data['YEARS_EMPLOYED']=round(data['DAYS_EMPLOYED']/365)\n",
        "test['YEARS_EMPLOYED']=round(test['DAYS_EMPLOYED']/365)\n",
        "\n"
      ]
    },
    {
      "cell_type": "code",
      "execution_count": 7,
      "metadata": {
        "id": "utnmj5332Ci1"
      },
      "outputs": [],
      "source": [
        ""
      ]
    },
    {
      "cell_type": "code",
      "execution_count": 8,
      "metadata": {
        "id": "VMv3GVRdNWe_"
      },
      "outputs": [],
      "source": [
        "dict={}\n",
        "for item in data['AMT_INCOME_TOTAL'].unique():\n",
        "  dict[item]=data.loc[data['AMT_INCOME_TOTAL']==item,'SK_ID_CURR'].count()\n",
        "df = pd.DataFrame.from_dict(dict,orient='index')\n",
        "\n",
        "items = list(df[df[0]>10])"
      ]
    },
    {
      "cell_type": "code",
      "execution_count": 9,
      "metadata": {
        "id": "zdHMsgUQMyin"
      },
      "outputs": [],
      "source": [
        "data['AMT_INCOME_TOTAL_2']=np.NAN\n",
        "test['AMT_INCOME_TOTAL_2']=np.NAN\n",
        "for item in items:\n",
        "  data.loc[data['AMT_INCOME_TOTAL']==item,'AMT_INCOME_TOTAL_2']=data.loc[data['AMT_INCOME_TOTAL']==item,'AMT_INCOME_TOTAL']\n",
        "  test.loc[test['AMT_INCOME_TOTAL']==item,'AMT_INCOME_TOTAL_2']=test.loc[test['AMT_INCOME_TOTAL']==item,'AMT_INCOME_TOTAL']\n",
        "\n",
        "data=pd.get_dummies(data,columns=['AMT_INCOME_TOTAL_2'])\n",
        "test=pd.get_dummies(test,columns={'AMT_INCOME_TOTAL_2'})"
      ]
    },
    {
      "cell_type": "code",
      "execution_count": 10,
      "metadata": {
        "colab": {
          "base_uri": "https://localhost:8080/"
        },
        "id": "EvbVtWnV-ksW",
        "outputId": "b54adf26-05fa-44e1-f9fd-2b7fe77d9345"
      },
      "outputs": [
        {
          "output_type": "execute_result",
          "data": {
            "text/plain": [
              "array([0.072508, 0.04622 ])"
            ]
          },
          "metadata": {},
          "execution_count": 10
        }
      ],
      "source": [
        "data.loc[data['REGION_POPULATION_RELATIVE']>0.04,'REGION_POPULATION_RELATIVE'].unique()"
      ]
    },
    {
      "cell_type": "code",
      "execution_count": 11,
      "metadata": {
        "id": "0RnkvlFI-mxA"
      },
      "outputs": [],
      "source": [
        "data['REGION_POPULATION_RELATIVE_0.04622']=0\n",
        "data['REGION_POPULATION_RELATIVE'==0.4622,'REGION_POPULATION_RELATIVE_0.04622']=1\n",
        "data['REGION_POPULATION_RELATIVE'==0.4622,'REGION_POPULATION_RELATIVE']=np.nan\n",
        "\n",
        "test['REGION_POPULATION_RELATIVE_0.04622']=0\n",
        "test['REGION_POPULATION_RELATIVE'==0.4622,'REGION_POPULATION_RELATIVE_0.04622']=1\n",
        "test['REGION_POPULATION_RELATIVE'==0.4622,'REGION_POPULATION_RELATIVE']=np.nan\n",
        "\n",
        "data['REGION_POPULATION_RELATIVE_0.072508']=0\n",
        "data['REGION_POPULATION_RELATIVE'==0.072508,'REGION_POPULATION_RELATIVE_0.072508']=1\n",
        "data['REGION_POPULATION_RELATIVE'==0.072508,'REGION_POPULATION_RELATIVE']=np.nan\n",
        "\n",
        "test['REGION_POPULATION_RELATIVE_0.072508']=0\n",
        "test['REGION_POPULATION_RELATIVE'==0.072508,'REGION_POPULATION_RELATIVE_0.072508']=1\n",
        "test['REGION_POPULATION_RELATIVE'==0.072508,'REGION_POPULATION_RELATIVE']=np.nan"
      ]
    },
    {
      "cell_type": "code",
      "execution_count": 12,
      "metadata": {
        "id": "o3KNWUU8yasX"
      },
      "outputs": [],
      "source": [
        "data['OWN_CAR_AGE_64']=0\n",
        "data['OWN_CAR_AGE'==64,'OWN_CAR_AGE_64']=1\n",
        "data['OWN_CAR_AGE'==64,'OWN_CAR_AGE']=np.nan\n",
        "\n",
        "test['OWN_CAR_AGE_64']=0\n",
        "test['OWN_CAR_AGE'==64,'OWN_CAR_AGE_64']=1\n",
        "test['OWN_CAR_AGE'==64,'OWN_CAR_AGE']=np.nan\n",
        "\n",
        "data['OWN_CAR_AGE_65']=0\n",
        "data['OWN_CAR_AGE'==65,'OWN_CAR_AGE_65']=1\n",
        "data['OWN_CAR_AGE'==65,'OWN_CAR_AGE']=np.nan\n",
        "\n",
        "test['OWN_CAR_AGE_65']=0\n",
        "test['OWN_CAR_AGE'==65,'OWN_CAR_AGE_65']=1\n",
        "test['OWN_CAR_AGE'==65,'OWN_CAR_AGE']=np.nan\n"
      ]
    },
    {
      "cell_type": "code",
      "execution_count": 13,
      "metadata": {
        "id": "pxb1HwR9-k3o"
      },
      "outputs": [],
      "source": [
        "data['CREDIT_TERM'] = data['AMT_ANNUITY'] / data['AMT_CREDIT']\n",
        "test['CREDIT_TERM'] = test['AMT_ANNUITY'] / test['AMT_CREDIT']"
      ]
    },
    {
      "cell_type": "code",
      "execution_count": 14,
      "metadata": {
        "id": "Wp4aiRibK_9D"
      },
      "outputs": [],
      "source": [
        "data['NEW_CREDIT_TO_GOODS_RATIO'] = data['AMT_CREDIT'] / data['AMT_GOODS_PRICE']\n",
        "test['NEW_CREDIT_TO_GOODS_RATIO'] = test['AMT_CREDIT'] / test['AMT_GOODS_PRICE']"
      ]
    },
    {
      "cell_type": "code",
      "execution_count": 15,
      "metadata": {
        "id": "v29vVfC0ljQm"
      },
      "outputs": [],
      "source": [
        "data['LOW_DEFAULT_ORG']=0\n",
        "data.loc[data['ORGANIZATION_TYPE']=='Industry: type 12','LOW_DEFAULT_ORG' ]=1\n",
        "data.loc[data['ORGANIZATION_TYPE']=='Trade: type 4','LOW_DEFAULT_ORG' ]=1\n",
        "test['LOW_DEFAULT_ORG']=0\n",
        "test.loc[test['ORGANIZATION_TYPE']=='Industry: type 12','LOW_DEFAULT_ORG' ]=1\n",
        "test.loc[test['ORGANIZATION_TYPE']=='Trade: type 4','LOW_DEFAULT_ORG' ]=1\n",
        "\n",
        "data['HIGH_DEFAULT_ORG']=0\n",
        "data.loc[data['ORGANIZATION_TYPE']=='Transport: type 3','HIGH_DEFAULT_ORG']=1\n",
        "test['HIGH_DEFAULT_ORG']=0\n",
        "test.loc[test['ORGANIZATION_TYPE']=='Transport: type 3','HIGH_DEFAULT_ORG']=1"
      ]
    },
    {
      "cell_type": "code",
      "execution_count": 16,
      "metadata": {
        "id": "5pYCjGXmwz-2"
      },
      "outputs": [],
      "source": [
        "# 欠測値であれば'_NAN'を加えたカラムを作る\n",
        "def flag_isNan(column_target):\n",
        "  if type(column_target)==str:\n",
        "    data[column_target+'_NAN']=0\n",
        "    test[column_target+'_NAN']=0\n",
        "    #\n",
        "    data.loc[data[column_target].isna(),column_target+'_NAN']=1\n",
        "    test.loc[test[column_target].isna(),column_target+'_NAN']=1"
      ]
    },
    {
      "cell_type": "code",
      "execution_count": 17,
      "metadata": {
        "colab": {
          "base_uri": "https://localhost:8080/"
        },
        "id": "kvnyK8cwqoVL",
        "outputId": "98fd95df-0b23-42b5-9aa4-94a11765ea92"
      },
      "outputs": [
        {
          "output_type": "execute_result",
          "data": {
            "text/plain": [
              "['AMT_INCOME_TOTAL',\n",
              " 'AMT_CREDIT',\n",
              " 'AMT_ANNUITY',\n",
              " 'AMT_GOODS_PRICE',\n",
              " 'REGION_POPULATION_RELATIVE',\n",
              " 'DAYS_REGISTRATION',\n",
              " 'OWN_CAR_AGE',\n",
              " 'CNT_FAM_MEMBERS',\n",
              " 'EXT_SOURCE_1',\n",
              " 'EXT_SOURCE_2',\n",
              " 'EXT_SOURCE_3',\n",
              " 'OBS_30_CNT_SOCIAL_CIRCLE',\n",
              " 'DEF_30_CNT_SOCIAL_CIRCLE',\n",
              " 'OBS_60_CNT_SOCIAL_CIRCLE',\n",
              " 'DEF_60_CNT_SOCIAL_CIRCLE',\n",
              " 'DAYS_LAST_PHONE_CHANGE',\n",
              " 'AMT_REQ_CREDIT_BUREAU_HOUR',\n",
              " 'AMT_REQ_CREDIT_BUREAU_MON',\n",
              " 'AMT_REQ_CREDIT_BUREAU_QRT',\n",
              " 'AMT_REQ_CREDIT_BUREAU_YEAR',\n",
              " 'YEARS_BIRTH',\n",
              " 'YEARS_ID_PUBLISH',\n",
              " 'YEARS_REGISTRATION',\n",
              " 'YEARS_EMPLOYED',\n",
              " (False, 'REGION_POPULATION_RELATIVE'),\n",
              " (False, 'OWN_CAR_AGE'),\n",
              " 'CREDIT_TERM',\n",
              " 'NEW_CREDIT_TO_GOODS_RATIO']"
            ]
          },
          "metadata": {},
          "execution_count": 17
        }
      ],
      "source": [
        "list(test.dtypes[data.dtypes=='float'].keys())"
      ]
    },
    {
      "cell_type": "code",
      "execution_count": 18,
      "metadata": {
        "id": "UtcXCBAGzfQZ"
      },
      "outputs": [],
      "source": [
        "for col in ['AMT_INCOME_TOTAL',\n",
        " 'AMT_CREDIT',\n",
        " 'AMT_ANNUITY',\n",
        " 'AMT_GOODS_PRICE',\n",
        " 'REGION_POPULATION_RELATIVE',\n",
        " 'DAYS_REGISTRATION',\n",
        " 'OWN_CAR_AGE',\n",
        " 'CNT_FAM_MEMBERS',\n",
        " 'EXT_SOURCE_1',\n",
        " 'EXT_SOURCE_2',\n",
        " 'EXT_SOURCE_3',\n",
        " 'OBS_30_CNT_SOCIAL_CIRCLE',\n",
        " 'DEF_30_CNT_SOCIAL_CIRCLE',\n",
        " 'OBS_60_CNT_SOCIAL_CIRCLE',\n",
        " 'DEF_60_CNT_SOCIAL_CIRCLE',\n",
        " 'DAYS_LAST_PHONE_CHANGE',\n",
        " 'AMT_REQ_CREDIT_BUREAU_HOUR',\n",
        " 'AMT_REQ_CREDIT_BUREAU_MON',\n",
        " 'AMT_REQ_CREDIT_BUREAU_QRT',\n",
        " 'AMT_REQ_CREDIT_BUREAU_YEAR',\n",
        " 'YEARS_BIRTH',\n",
        " 'YEARS_ID_PUBLISH',\n",
        " 'YEARS_REGISTRATION',\n",
        " 'YEARS_EMPLOYED',\n",
        " #(False, 'REGION_POPULATION_RELATIVE'),\n",
        " #(False, 'OWN_CAR_AGE')\n",
        " ]:\n",
        "  if (test.loc[test[col].isna(),'SK_ID_CURR'].count()>0):\n",
        "    flag_isNan(col)"
      ]
    },
    {
      "cell_type": "code",
      "execution_count": 19,
      "metadata": {
        "id": "NOeyCa9ylhzq"
      },
      "outputs": [],
      "source": [
        "#for col in list(test.dtypes[data.dtypes!='float'].keys()):\n",
        "#  if (test.loc[test[col].isna(),'SK_ID_CURR'].count()>0):\n",
        "#    flag_isNan(col)"
      ]
    },
    {
      "cell_type": "code",
      "execution_count": 20,
      "metadata": {
        "id": "COyKL4UZZZYc"
      },
      "outputs": [],
      "source": [
        "data['RT_CREDIT']=data['AMT_CREDIT']/data['AMT_INCOME_TOTAL']\n",
        "test['RT_CREDIT']=test['AMT_CREDIT']/test['AMT_INCOME_TOTAL']\n",
        "\n",
        "#data['FLAG_RT_CREDIT_OVER1']=0\n",
        "#test['FLAG_RT_CREDIT_OVER1']=0\n",
        "#data.loc[data['RT_CREDIT']>1,'FLAG_RT_CREDIT_OVER1']=1\n",
        "#test.loc[data['RT_CREDIT']>1,'FLAG_RT_CREDIT_OVER1']=1"
      ]
    },
    {
      "cell_type": "code",
      "execution_count": 21,
      "metadata": {
        "id": "zpaSJddDn5TT"
      },
      "outputs": [],
      "source": [
        "data['ROUND_RT_CREDIT']=round(data['RT_CREDIT'])\n",
        "data['ROUND_RT_CREDIT'].fillna(0,inplace=True)\n",
        "data.loc[data['ROUND_RT_CREDIT']>6,'ROUND_RT_CREDIT']=6\n",
        "data['ROUND_RT_CREDIT']=data['ROUND_RT_CREDIT'].astype(str)\n",
        "\n",
        "data=pd.get_dummies(data,columns=['ROUND_RT_CREDIT'])\n",
        "\n",
        "test['ROUND_RT_CREDIT']=round(test['RT_CREDIT'])\n",
        "test['ROUND_RT_CREDIT'].fillna(0,inplace=True)\n",
        "test.loc[test['ROUND_RT_CREDIT']>6,'ROUND_RT_CREDIT']=6\n",
        "test['ROUND_RT_CREDIT']=test['ROUND_RT_CREDIT'].astype(str)\n",
        "\n",
        "test=pd.get_dummies(test,columns=['ROUND_RT_CREDIT'])"
      ]
    },
    {
      "cell_type": "code",
      "execution_count": 22,
      "metadata": {
        "id": "3sqbzKd94syY"
      },
      "outputs": [],
      "source": [
        "data['AGE_EMP']=data['YEARS_BIRTH']-data['YEARS_EMPLOYED']\n",
        "test['AGE_EMP']=test['YEARS_BIRTH']-test['YEARS_EMPLOYED']\n",
        "\n",
        "# 26歳までの上昇局面とそれ以降の下降局面を別のカラムにする\n",
        "data['AGE_EMP1']=np.NAN\n",
        "test['AGE_EMP1']=np.NAN\n",
        "data.loc[data['AGE_EMP']<-26,'AGE_EMP1']=data['AGE_EMP']\n",
        "test.loc[test['AGE_EMP']<-26,'AGE_EMP1']=test['AGE_EMP']\n",
        "data.loc[data['AGE_EMP']<-26,'AGE_EMP']=np.NAN\n",
        "test.loc[test['AGE_EMP']<-26,'AGE_EMP']=np.NAN"
      ]
    },
    {
      "cell_type": "code",
      "execution_count": 23,
      "metadata": {
        "id": "qA2NRgcEC6EF"
      },
      "outputs": [],
      "source": [
        "data['TMP_FLAG_OWN_REALTY']=data['FLAG_OWN_REALTY']\n",
        "data.loc[data['TMP_FLAG_OWN_REALTY'].isna(),'TMP_FLAG_OWN_REALTY']='O'\n",
        "data['ROUND_AMT_INCOME_TOTAL']=round(data['AMT_INCOME_TOTAL']/100000)\n",
        "data.loc[data['ROUND_AMT_INCOME_TOTAL']>6,'ROUND_AMT_INCOME_TOTAL']=6\n",
        "data['ROUND_AMT_INCOME_TOTAL']=data['ROUND_AMT_INCOME_TOTAL'].astype(str)\n",
        "data['ROUND_RT_CREDIT']=round(data['RT_CREDIT'])\n",
        "data.loc[data['ROUND_RT_CREDIT']>6,'ROUND_RT_CREDIT']=6\n",
        "data['ROUND_RT_CREDIT'].fillna(0,inplace=True)\n",
        "data['ROUND_RT_CREDIT']=data['ROUND_RT_CREDIT'].astype(str)\n",
        "data['REALTY_INCOME_CREDIT']=data['TMP_FLAG_OWN_REALTY']+data['ROUND_AMT_INCOME_TOTAL']+data['ROUND_RT_CREDIT']\n",
        "data.drop(['TMP_FLAG_OWN_REALTY'], axis=1, inplace=True)\n",
        "data.drop(['ROUND_AMT_INCOME_TOTAL'], axis=1, inplace=True)\n",
        "data.drop(['ROUND_RT_CREDIT'], axis=1, inplace=True)\n",
        "\n",
        "test['TMP_FLAG_OWN_REALTY']=test['FLAG_OWN_REALTY']\n",
        "test.loc[test['TMP_FLAG_OWN_REALTY'].isna(),'TMP_FLAG_OWN_REALTY']='O'\n",
        "test['ROUND_AMT_INCOME_TOTAL']=round(test['AMT_INCOME_TOTAL']/100000)\n",
        "test['ROUND_AMT_INCOME_TOTAL'].fillna(0,inplace=True)\n",
        "test.loc[test['ROUND_AMT_INCOME_TOTAL']>6,'ROUND_AMT_INCOME_TOTAL']=6\n",
        "test['ROUND_AMT_INCOME_TOTAL']=test['ROUND_AMT_INCOME_TOTAL'].astype(str)\n",
        "test['ROUND_RT_CREDIT']=round(test['RT_CREDIT'])\n",
        "test.loc[test['ROUND_RT_CREDIT']>6,'ROUND_RT_CREDIT']=6\n",
        "test['ROUND_RT_CREDIT'].fillna(0,inplace=True)\n",
        "test['ROUND_RT_CREDIT']=test['ROUND_RT_CREDIT'].astype(str)\n",
        "test['REALTY_INCOME_CREDIT']=test['TMP_FLAG_OWN_REALTY']+test['ROUND_AMT_INCOME_TOTAL']+test['ROUND_RT_CREDIT']"
      ]
    },
    {
      "cell_type": "code",
      "execution_count": 24,
      "metadata": {
        "id": "5cJpga-BIi85"
      },
      "outputs": [],
      "source": [
        "data['ROUND_EXT_SOURCE_1']=round(data['EXT_SOURCE_1']*100)\n",
        "data['ROUND_EXT_SOURCE_2']=round(data['EXT_SOURCE_2']*100)\n",
        "data['ROUND_EXT_SOURCE_3']=round(data['EXT_SOURCE_3']*100)\n",
        "\n",
        "test['ROUND_EXT_SOURCE_1']=round(test['EXT_SOURCE_1']*100)\n",
        "test['ROUND_EXT_SOURCE_2']=round(test['EXT_SOURCE_2']*100)\n",
        "test['ROUND_EXT_SOURCE_3']=round(test['EXT_SOURCE_3']*100)"
      ]
    },
    {
      "cell_type": "code",
      "execution_count": 25,
      "metadata": {
        "id": "9EGH5oBkDAwL"
      },
      "outputs": [],
      "source": [
        "t1=data.loc[data['TARGET']==1]\n",
        "t0=data.loc[data['TARGET']==0]\n",
        "ta=data\n",
        "def addColumnOfNumber(column_target):\n",
        "    column_new = 'NEW_NUM_'+column_target\n",
        "    cats = ta[column_target].unique()\n",
        "\n",
        "    dict={}\n",
        "    for cat in cats:\n",
        "      dict[cat]=(t1.loc[ta[column_target]==cat,'SK_ID_CURR'].count()/ta.loc[ta[column_target]==cat,'SK_ID_CURR'].count()).astype(str)\n",
        "\n",
        "    data[column_new]=data[column_target]\n",
        "    test[column_new]=test[column_target]\n",
        "\n",
        "    data[column_new]=data[column_new].map(dict)\n",
        "    test[column_new]=test[column_new].map(dict)\n",
        "\n",
        "    data[column_new]=data[column_new].astype(float)\n",
        "    test[column_new]=test[column_new].astype(float)"
      ]
    },
    {
      "cell_type": "code",
      "execution_count": 26,
      "metadata": {
        "colab": {
          "base_uri": "https://localhost:8080/"
        },
        "id": "7wNq5TNgDPIo",
        "outputId": "eebb0307-7299-4e30-8227-5eeb58624539"
      },
      "outputs": [
        {
          "output_type": "stream",
          "name": "stderr",
          "text": [
            "/usr/local/lib/python3.7/dist-packages/ipykernel_launcher.py:10: RuntimeWarning: invalid value encountered in long_scalars\n",
            "  # Remove the CWD from sys.path while we load stuff.\n"
          ]
        }
      ],
      "source": [
        "addColumnOfNumber('REALTY_INCOME_CREDIT')\n",
        "addColumnOfNumber('ROUND_EXT_SOURCE_1')\n",
        "addColumnOfNumber('ROUND_EXT_SOURCE_2')\n",
        "addColumnOfNumber('ROUND_EXT_SOURCE_3')"
      ]
    },
    {
      "cell_type": "code",
      "execution_count": 27,
      "metadata": {
        "id": "y40rbuRAonMq"
      },
      "outputs": [],
      "source": [
        "# Create an anomalous flag column\n",
        "data['DAYS_EMPLOYED_ANOM'] = data[\"DAYS_EMPLOYED\"] == 365243\n",
        "\n",
        "# Replace the anomalous values with nan\n",
        "data['DAYS_EMPLOYED'].replace({365243: np.nan}, inplace = True)\n",
        "\n",
        "# Create an anomalous flag column\n",
        "test['DAYS_EMPLOYED_ANOM'] = test[\"DAYS_EMPLOYED\"] == 365243\n",
        "\n",
        "# Replace the anomalous values with nan\n",
        "test['DAYS_EMPLOYED'].replace({365243: np.nan}, inplace = True)"
      ]
    },
    {
      "cell_type": "code",
      "execution_count": 28,
      "metadata": {
        "id": "Ozd_2gLronMr"
      },
      "outputs": [],
      "source": [
        "data['DAYS_LAST_PHONE_CHANGE'].replace(0, np.nan, inplace=True)\n",
        "test['DAYS_LAST_PHONE_CHANGE'].replace(0, np.nan, inplace=True)\n",
        "\n",
        "data['NEW_PHONE_TO_REGISTRATION_NUM'] = data['DAYS_REGISTRATION'] - data['DAYS_LAST_PHONE_CHANGE']\n",
        "test['NEW_PHONE_TO_REGISTRATION_NUM'] = test['DAYS_REGISTRATION'] - test['DAYS_LAST_PHONE_CHANGE']\n",
        "data['NEW_PHONE_TO_EMPLOY_NUM'] = data['DAYS_EMPLOYED'] - data['DAYS_LAST_PHONE_CHANGE']\n",
        "test['NEW_PHONE_TO_EMPLOY_NUM'] = test['DAYS_EMPLOYED'] - test['DAYS_LAST_PHONE_CHANGE']\n",
        "\n",
        "\n",
        "data['YEARS_LAST_PHONE_CHANGE']=round(data['DAYS_LAST_PHONE_CHANGE']/365)\n",
        "test['YEARS_LAST_PHONE_CHANGE']=round(test['DAYS_LAST_PHONE_CHANGE']/365)\n",
        "\n",
        "data['MONTH_LAST_PHONE_CHANGE']=round(data['DAYS_LAST_PHONE_CHANGE']/30)\n",
        "test['MONTH_LAST_PHONE_CHANGE']=round(test['DAYS_LAST_PHONE_CHANGE']/30)"
      ]
    },
    {
      "cell_type": "code",
      "execution_count": 29,
      "metadata": {
        "id": "tTXJRsZqXh9J"
      },
      "outputs": [],
      "source": [
        "data['NEW_EXT_SOURCES_MEAN'] = data[['EXT_SOURCE_1', 'EXT_SOURCE_2', 'EXT_SOURCE_3']].mean(axis=1)\n",
        "data['DAYS_EMPLOYED_PERCENT'] = data['DAYS_EMPLOYED'] / data['DAYS_BIRTH']\n",
        "data['NEW_EMPLOY_TO_BIRTH_RATIO'] = data['DAYS_EMPLOYED'] / data['DAYS_BIRTH']\n",
        "data['NEW_EMPLOY_TO_BIRTH_NUM'] = data['DAYS_BIRTH'] - data['DAYS_EMPLOYED']\n",
        "data['NEW_PHONE_TO_BIRTH_NUM'] = data['DAYS_BIRTH'] - data['DAYS_LAST_PHONE_CHANGE']\n",
        "data['NEW_REGISTRATION_TO_BIRTH_NUM'] = data['DAYS_BIRTH'] - data['DAYS_REGISTRATION']\n",
        "data['NEW_ID_PUBLISH_TO_BIRTH_NUM'] = data['DAYS_BIRTH'] - data['DAYS_ID_PUBLISH']\n",
        "\n",
        "test['NEW_EXT_SOURCES_MEAN'] = test[['EXT_SOURCE_1', 'EXT_SOURCE_2', 'EXT_SOURCE_3']].mean(axis=1)\n",
        "test['DAYS_EMPLOYED_PERCENT'] = test['DAYS_EMPLOYED'] / test['DAYS_BIRTH']\n",
        "test['NEW_EMPLOY_TO_BIRTH_RATIO'] = test['DAYS_EMPLOYED'] / test['DAYS_BIRTH']\n",
        "test['NEW_EMPLOY_TO_BIRTH_NUM'] = test['DAYS_BIRTH'] - test['DAYS_EMPLOYED']\n",
        "test['NEW_PHONE_TO_BIRTH_NUM'] = test['DAYS_BIRTH'] - test['DAYS_LAST_PHONE_CHANGE']\n",
        "test['NEW_REGISTRATION_TO_BIRTH_NUM'] = test['DAYS_BIRTH'] - test['DAYS_REGISTRATION']\n",
        "test['NEW_ID_PUBLISH_TO_BIRTH_NUM'] = test['DAYS_BIRTH'] - test['DAYS_ID_PUBLISH']\n"
      ]
    },
    {
      "cell_type": "code",
      "execution_count": 30,
      "metadata": {
        "id": "-cbgC9G8yy8-"
      },
      "outputs": [],
      "source": [
        "\n",
        "#Separate target variable\n",
        "y = data['TARGET']\n",
        "del data['TARGET']\n",
        "\n",
        "#One-hot encoding of categorical features in data and test sets\n",
        "categorical_features = [col for col in data.columns if data[col].dtype == 'object']\n",
        "\n",
        "one_hot_df = pd.concat([data,test])\n",
        "one_hot_df = pd.get_dummies(one_hot_df, columns=categorical_features)\n",
        "\n",
        "data = one_hot_df.iloc[:data.shape[0],:]\n",
        "test = one_hot_df.iloc[data.shape[0]:,]\n",
        "\n"
      ]
    },
    {
      "cell_type": "code",
      "execution_count": 31,
      "metadata": {
        "colab": {
          "base_uri": "https://localhost:8080/"
        },
        "id": "jkf6FEVeonMu",
        "outputId": "c7983be5-c5a0-4632-fcc8-175224805039"
      },
      "outputs": [
        {
          "output_type": "stream",
          "name": "stdout",
          "text": [
            "dataing Features shape:  (171202, 363)\n",
            "Testing Features shape:  (61500, 362)\n"
          ]
        }
      ],
      "source": [
        "# Align data and test\n",
        "\n",
        "data_labels = y\n",
        "\n",
        "# Align the dataing and testing data, keep only columns present in both dataframes\n",
        "data, test = data.align(test, join = 'inner', axis = 1)\n",
        "\n",
        "# Add the target back in\n",
        "data['TARGET'] = y\n",
        "\n",
        "print('dataing Features shape: ', data.shape)\n",
        "print('Testing Features shape: ', test.shape)"
      ]
    },
    {
      "cell_type": "code",
      "execution_count": 32,
      "metadata": {
        "colab": {
          "base_uri": "https://localhost:8080/"
        },
        "id": "6gFmtjzWonMv",
        "outputId": "b5244051-27fb-4d8c-e8b8-7883842230b9"
      },
      "outputs": [
        {
          "output_type": "stream",
          "name": "stdout",
          "text": [
            "There are 0 anomalies in the test data out of 61500 entries\n"
          ]
        }
      ],
      "source": [
        "test['DAYS_EMPLOYED_ANOM'] = test[\"DAYS_EMPLOYED\"] == 365243\n",
        "test[\"DAYS_EMPLOYED\"].replace({365243: np.nan}, inplace = True)\n",
        "\n",
        "print('There are %d anomalies in the test data out of %d entries' % (test[\"DAYS_EMPLOYED_ANOM\"].sum(), len(test)))"
      ]
    },
    {
      "cell_type": "code",
      "execution_count": 33,
      "metadata": {
        "id": "sSJNDcVzonMv"
      },
      "outputs": [],
      "source": [
        "#data['EXT_SOURCE_1_y']"
      ]
    },
    {
      "cell_type": "code",
      "execution_count": 34,
      "metadata": {
        "id": "Q9bMtZCTonMw"
      },
      "outputs": [],
      "source": [
        "#Polynomial Features\n",
        "\n",
        "# Make a new dataframe for polynomial features\n",
        "poly_features = data[['EXT_SOURCE_1', 'EXT_SOURCE_2', 'EXT_SOURCE_3', 'CREDIT_TERM','NEW_CREDIT_TO_GOODS_RATIO','DAYS_BIRTH', 'DAYS_LAST_PHONE_CHANGE','TARGET']]\n",
        "poly_features_test = test[['EXT_SOURCE_1', 'EXT_SOURCE_2', 'EXT_SOURCE_3', 'CREDIT_TERM','NEW_CREDIT_TO_GOODS_RATIO', 'DAYS_BIRTH','DAYS_LAST_PHONE_CHANGE']]\n",
        "\n",
        "# imputer for handling missing values\n",
        "from sklearn.impute import SimpleImputer\n",
        "imputer = SimpleImputer(strategy = 'median')\n",
        "\n",
        "poly_target = poly_features['TARGET']\n",
        "\n",
        "poly_features = poly_features.drop(columns = ['TARGET'])\n",
        "\n",
        "# Need to impute missing values\n",
        "poly_features = imputer.fit_transform(poly_features)\n",
        "poly_features_test = imputer.transform(poly_features_test)\n",
        "\n",
        "from sklearn.preprocessing import PolynomialFeatures\n",
        "                                  \n",
        "# Create the polynomial object with specified degree\n",
        "poly_transformer = PolynomialFeatures(degree = 3)"
      ]
    },
    {
      "cell_type": "code",
      "execution_count": 35,
      "metadata": {
        "colab": {
          "base_uri": "https://localhost:8080/"
        },
        "id": "_-IaPc9eonMw",
        "outputId": "3d24fbf7-1dc5-4a54-e80c-56fca58cfe9e"
      },
      "outputs": [
        {
          "output_type": "stream",
          "name": "stdout",
          "text": [
            "Polynomial Features shape:  (171202, 120)\n"
          ]
        }
      ],
      "source": [
        "# data the polynomial features\n",
        "poly_transformer.fit(poly_features)\n",
        "\n",
        "# Transform the features\n",
        "poly_features = poly_transformer.transform(poly_features)\n",
        "poly_features_test = poly_transformer.transform(poly_features_test)\n",
        "print('Polynomial Features shape: ', poly_features.shape)"
      ]
    },
    {
      "cell_type": "code",
      "execution_count": 36,
      "metadata": {
        "colab": {
          "base_uri": "https://localhost:8080/"
        },
        "id": "xJjUa1VbonMx",
        "outputId": "ee0b58f5-ca3f-49c2-e130-9e9dfc929b88"
      },
      "outputs": [
        {
          "output_type": "execute_result",
          "data": {
            "text/plain": [
              "array(['1', 'EXT_SOURCE_1', 'EXT_SOURCE_2', 'EXT_SOURCE_3', 'DAYS_BIRTH',\n",
              "       'CREDIT_TERM', 'NEW_CREDIT_TO_GOODS_RATIO',\n",
              "       'DAYS_LAST_PHONE_CHANGE', 'EXT_SOURCE_1^2',\n",
              "       'EXT_SOURCE_1 EXT_SOURCE_2', 'EXT_SOURCE_1 EXT_SOURCE_3',\n",
              "       'EXT_SOURCE_1 DAYS_BIRTH', 'EXT_SOURCE_1 CREDIT_TERM',\n",
              "       'EXT_SOURCE_1 NEW_CREDIT_TO_GOODS_RATIO',\n",
              "       'EXT_SOURCE_1 DAYS_LAST_PHONE_CHANGE', 'EXT_SOURCE_2^2',\n",
              "       'EXT_SOURCE_2 EXT_SOURCE_3', 'EXT_SOURCE_2 DAYS_BIRTH',\n",
              "       'EXT_SOURCE_2 CREDIT_TERM',\n",
              "       'EXT_SOURCE_2 NEW_CREDIT_TO_GOODS_RATIO',\n",
              "       'EXT_SOURCE_2 DAYS_LAST_PHONE_CHANGE', 'EXT_SOURCE_3^2',\n",
              "       'EXT_SOURCE_3 DAYS_BIRTH', 'EXT_SOURCE_3 CREDIT_TERM',\n",
              "       'EXT_SOURCE_3 NEW_CREDIT_TO_GOODS_RATIO',\n",
              "       'EXT_SOURCE_3 DAYS_LAST_PHONE_CHANGE', 'DAYS_BIRTH^2',\n",
              "       'DAYS_BIRTH CREDIT_TERM', 'DAYS_BIRTH NEW_CREDIT_TO_GOODS_RATIO',\n",
              "       'DAYS_BIRTH DAYS_LAST_PHONE_CHANGE', 'CREDIT_TERM^2',\n",
              "       'CREDIT_TERM NEW_CREDIT_TO_GOODS_RATIO',\n",
              "       'CREDIT_TERM DAYS_LAST_PHONE_CHANGE',\n",
              "       'NEW_CREDIT_TO_GOODS_RATIO^2',\n",
              "       'NEW_CREDIT_TO_GOODS_RATIO DAYS_LAST_PHONE_CHANGE',\n",
              "       'DAYS_LAST_PHONE_CHANGE^2', 'EXT_SOURCE_1^3',\n",
              "       'EXT_SOURCE_1^2 EXT_SOURCE_2', 'EXT_SOURCE_1^2 EXT_SOURCE_3',\n",
              "       'EXT_SOURCE_1^2 DAYS_BIRTH', 'EXT_SOURCE_1^2 CREDIT_TERM',\n",
              "       'EXT_SOURCE_1^2 NEW_CREDIT_TO_GOODS_RATIO',\n",
              "       'EXT_SOURCE_1^2 DAYS_LAST_PHONE_CHANGE',\n",
              "       'EXT_SOURCE_1 EXT_SOURCE_2^2',\n",
              "       'EXT_SOURCE_1 EXT_SOURCE_2 EXT_SOURCE_3',\n",
              "       'EXT_SOURCE_1 EXT_SOURCE_2 DAYS_BIRTH',\n",
              "       'EXT_SOURCE_1 EXT_SOURCE_2 CREDIT_TERM',\n",
              "       'EXT_SOURCE_1 EXT_SOURCE_2 NEW_CREDIT_TO_GOODS_RATIO',\n",
              "       'EXT_SOURCE_1 EXT_SOURCE_2 DAYS_LAST_PHONE_CHANGE',\n",
              "       'EXT_SOURCE_1 EXT_SOURCE_3^2',\n",
              "       'EXT_SOURCE_1 EXT_SOURCE_3 DAYS_BIRTH',\n",
              "       'EXT_SOURCE_1 EXT_SOURCE_3 CREDIT_TERM',\n",
              "       'EXT_SOURCE_1 EXT_SOURCE_3 NEW_CREDIT_TO_GOODS_RATIO',\n",
              "       'EXT_SOURCE_1 EXT_SOURCE_3 DAYS_LAST_PHONE_CHANGE',\n",
              "       'EXT_SOURCE_1 DAYS_BIRTH^2', 'EXT_SOURCE_1 DAYS_BIRTH CREDIT_TERM',\n",
              "       'EXT_SOURCE_1 DAYS_BIRTH NEW_CREDIT_TO_GOODS_RATIO',\n",
              "       'EXT_SOURCE_1 DAYS_BIRTH DAYS_LAST_PHONE_CHANGE',\n",
              "       'EXT_SOURCE_1 CREDIT_TERM^2',\n",
              "       'EXT_SOURCE_1 CREDIT_TERM NEW_CREDIT_TO_GOODS_RATIO',\n",
              "       'EXT_SOURCE_1 CREDIT_TERM DAYS_LAST_PHONE_CHANGE',\n",
              "       'EXT_SOURCE_1 NEW_CREDIT_TO_GOODS_RATIO^2',\n",
              "       'EXT_SOURCE_1 NEW_CREDIT_TO_GOODS_RATIO DAYS_LAST_PHONE_CHANGE',\n",
              "       'EXT_SOURCE_1 DAYS_LAST_PHONE_CHANGE^2', 'EXT_SOURCE_2^3',\n",
              "       'EXT_SOURCE_2^2 EXT_SOURCE_3', 'EXT_SOURCE_2^2 DAYS_BIRTH',\n",
              "       'EXT_SOURCE_2^2 CREDIT_TERM',\n",
              "       'EXT_SOURCE_2^2 NEW_CREDIT_TO_GOODS_RATIO',\n",
              "       'EXT_SOURCE_2^2 DAYS_LAST_PHONE_CHANGE',\n",
              "       'EXT_SOURCE_2 EXT_SOURCE_3^2',\n",
              "       'EXT_SOURCE_2 EXT_SOURCE_3 DAYS_BIRTH',\n",
              "       'EXT_SOURCE_2 EXT_SOURCE_3 CREDIT_TERM',\n",
              "       'EXT_SOURCE_2 EXT_SOURCE_3 NEW_CREDIT_TO_GOODS_RATIO',\n",
              "       'EXT_SOURCE_2 EXT_SOURCE_3 DAYS_LAST_PHONE_CHANGE'], dtype=object)"
            ]
          },
          "metadata": {},
          "execution_count": 36
        }
      ],
      "source": [
        "poly_transformer.get_feature_names_out(input_features = ['EXT_SOURCE_1', 'EXT_SOURCE_2', 'EXT_SOURCE_3', 'DAYS_BIRTH', 'CREDIT_TERM','NEW_CREDIT_TO_GOODS_RATIO','DAYS_LAST_PHONE_CHANGE'])[:75]"
      ]
    },
    {
      "cell_type": "code",
      "execution_count": 37,
      "metadata": {
        "colab": {
          "base_uri": "https://localhost:8080/"
        },
        "id": "Bo1ma7ZponMx",
        "outputId": "fa4b3a85-6831-4fd4-9deb-ef06bf747968"
      },
      "outputs": [
        {
          "output_type": "stream",
          "name": "stdout",
          "text": [
            "EXT_SOURCE_2 EXT_SOURCE_3                  -0.190619\n",
            "EXT_SOURCE_1 EXT_SOURCE_2 EXT_SOURCE_3     -0.187364\n",
            "EXT_SOURCE_2 EXT_SOURCE_3 CREDIT_TERM      -0.177261\n",
            "EXT_SOURCE_2^2 EXT_SOURCE_3                -0.174604\n",
            "EXT_SOURCE_2 EXT_SOURCE_3^2                -0.169516\n",
            "EXT_SOURCE_1 EXT_SOURCE_2                  -0.165062\n",
            "EXT_SOURCE_2                               -0.162383\n",
            "EXT_SOURCE_1 EXT_SOURCE_2^2                -0.155854\n",
            "EXT_SOURCE_2^2                             -0.151487\n",
            "EXT_SOURCE_1 EXT_SOURCE_3                  -0.150418\n",
            "EXT_SOURCE_1 EXT_SOURCE_2 CREDIT_TERM      -0.150223\n",
            "EXT_SOURCE_3                               -0.142190\n",
            "EXT_SOURCE_2^3                             -0.142178\n",
            "EXT_SOURCE_2 CREDIT_TERM                   -0.141497\n",
            "EXT_SOURCE_2^2 CREDIT_TERM                 -0.140059\n",
            "EXT_SOURCE_1 EXT_SOURCE_3^2                -0.138980\n",
            "EXT_SOURCE_1^2 EXT_SOURCE_2                -0.138804\n",
            "EXT_SOURCE_2 NEW_CREDIT_TO_GOODS_RATIO^2   -0.135825\n",
            "EXT_SOURCE_2 EXT_SOURCE_3 DAYS_BIRTH       -0.135338\n",
            "EXT_SOURCE_1 EXT_SOURCE_3 CREDIT_TERM      -0.130428\n",
            "Name: TARGET, dtype: float64\n",
            "EXT_SOURCE_3 DAYS_BIRTH NEW_CREDIT_TO_GOODS_RATIO      0.096349\n",
            "EXT_SOURCE_1 NEW_CREDIT_TO_GOODS_RATIO                 0.097990\n",
            "EXT_SOURCE_2 DAYS_LAST_PHONE_CHANGE                    0.099161\n",
            "EXT_SOURCE_3^2 DAYS_LAST_PHONE_CHANGE                  0.100359\n",
            "EXT_SOURCE_1 EXT_SOURCE_3 DAYS_LAST_PHONE_CHANGE       0.103235\n",
            "EXT_SOURCE_2^2 DAYS_LAST_PHONE_CHANGE                  0.104724\n",
            "EXT_SOURCE_1 EXT_SOURCE_2 DAYS_LAST_PHONE_CHANGE       0.106408\n",
            "EXT_SOURCE_2 DAYS_BIRTH NEW_CREDIT_TO_GOODS_RATIO      0.114652\n",
            "EXT_SOURCE_2 EXT_SOURCE_3 DAYS_LAST_PHONE_CHANGE       0.121426\n",
            "EXT_SOURCE_3 CREDIT_TERM NEW_CREDIT_TO_GOODS_RATIO     0.123599\n",
            "EXT_SOURCE_3^2 NEW_CREDIT_TO_GOODS_RATIO               0.133807\n",
            "EXT_SOURCE_3 NEW_CREDIT_TO_GOODS_RATIO                 0.141401\n",
            "EXT_SOURCE_1 EXT_SOURCE_3 NEW_CREDIT_TO_GOODS_RATIO    0.143557\n",
            "EXT_SOURCE_2 CREDIT_TERM NEW_CREDIT_TO_GOODS_RATIO     0.145046\n",
            "EXT_SOURCE_2^2 NEW_CREDIT_TO_GOODS_RATIO               0.152261\n",
            "EXT_SOURCE_1 EXT_SOURCE_2 NEW_CREDIT_TO_GOODS_RATIO    0.157203\n",
            "EXT_SOURCE_2 NEW_CREDIT_TO_GOODS_RATIO                 0.159863\n",
            "EXT_SOURCE_2 EXT_SOURCE_3 NEW_CREDIT_TO_GOODS_RATIO    0.179790\n",
            "TARGET                                                 1.000000\n",
            "1                                                           NaN\n",
            "Name: TARGET, dtype: float64\n"
          ]
        }
      ],
      "source": [
        "# Create a dataframe of the features \n",
        "poly_features = pd.DataFrame(poly_features, \n",
        "                             columns = poly_transformer.get_feature_names_out(['EXT_SOURCE_1', 'EXT_SOURCE_2', \n",
        "                                                                           'EXT_SOURCE_3', 'DAYS_BIRTH', 'CREDIT_TERM','NEW_CREDIT_TO_GOODS_RATIO','DAYS_LAST_PHONE_CHANGE']))\n",
        "\n",
        "# Add in the target\n",
        "poly_features['TARGET'] = poly_target\n",
        "\n",
        "# Find the correlations with the target\n",
        "poly_corrs = poly_features.corr()['TARGET'].sort_values()\n",
        "\n",
        "# Display most negative and most positive\n",
        "print(poly_corrs.head(20))\n",
        "print(poly_corrs.tail(20))"
      ]
    },
    {
      "cell_type": "code",
      "execution_count": 38,
      "metadata": {
        "colab": {
          "base_uri": "https://localhost:8080/"
        },
        "id": "bWg1TKruonMy",
        "outputId": "51058219-9c3f-4b36-bbfe-21078d709ce1"
      },
      "outputs": [
        {
          "output_type": "stream",
          "name": "stdout",
          "text": [
            "dataing data with polynomial features shape:  (171202, 482)\n",
            "Testing data with polynomial features shape:   (61500, 482)\n"
          ]
        }
      ],
      "source": [
        "# Put test features into dataframe\n",
        "poly_features_test = pd.DataFrame(poly_features_test, \n",
        "                                  columns = poly_transformer.get_feature_names_out(['EXT_SOURCE_1', 'EXT_SOURCE_2', \n",
        "                                                                                'EXT_SOURCE_3', 'DAYS_BIRTH', 'CREDIT_TERM','NEW_CREDIT_TO_GOODS_RATIO','DAYS_LAST_PHONE_CHANGE']))\n",
        "\n",
        "# Merge polynomial features into dataing dataframe\n",
        "poly_features['SK_ID_CURR'] = data['SK_ID_CURR']\n",
        "app_train_poly = data.merge(poly_features, on = 'SK_ID_CURR', how = 'left')\n",
        "\n",
        "# Merge polnomial features into testing dataframe\n",
        "poly_features_test['SK_ID_CURR'] = test['SK_ID_CURR']\n",
        "app_test_poly = test.merge(poly_features_test, on = 'SK_ID_CURR', how = 'left')\n",
        "\n",
        "# Align the dataframes\n",
        "app_train_poly, app_test_poly = app_train_poly.align(app_test_poly, join = 'inner', axis = 1)\n",
        "\n",
        "# Print out the new shapes\n",
        "print('dataing data with polynomial features shape: ', app_train_poly.shape)\n",
        "print('Testing data with polynomial features shape:  ', app_test_poly.shape)"
      ]
    },
    {
      "cell_type": "code",
      "execution_count": 39,
      "metadata": {
        "id": "Nx8q0Wt8onMy"
      },
      "outputs": [],
      "source": [
        "#app_train_poly.head()\n",
        "\n",
        "#app_train_poly=app_train_poly.rename(columns={'EXT_SOURCE_1_x':'EXT_SOURCE_1','EXT_SOURCE_2_x':'EXT_SOURCE_2','EXT_SOURCE_3_x':'EXT_SOURCE_3','DAYS_BIRTH_x':'DAYS_BIRTH'})\n",
        "#app_train_poly=app_train_poly.drop('1',inplace=True)\n",
        "\n",
        "#app_test_poly=app_test_poly.rename(columns={'EXT_SOURCE_1_x':'EXT_SOURCE_1','EXT_SOURCE_2_x':'EXT_SOURCE_2','EXT_SOURCE_3_x':'EXT_SOURCE_3','DAYS_BIRTH_x':'DAYS_BIRTH'})"
      ]
    },
    {
      "cell_type": "code",
      "execution_count": 40,
      "metadata": {
        "id": "I4WHW6wqonMy"
      },
      "outputs": [],
      "source": [
        "app_test_poly.drop('1',axis=1,inplace=True)\n",
        "app_train_poly.drop('1',axis=1,inplace=True)"
      ]
    },
    {
      "cell_type": "code",
      "execution_count": 41,
      "metadata": {
        "id": "EeXj1CY4onMz"
      },
      "outputs": [],
      "source": [
        "#app_train_poly['NAME_TYPE_SUITE_Spouse, partner_x']"
      ]
    },
    {
      "cell_type": "code",
      "execution_count": 42,
      "metadata": {
        "id": "TXWT6dREonMz"
      },
      "outputs": [],
      "source": [
        "# check and remove constant columns\n",
        "#colsToRemove = []\n",
        "#for col in app_train_poly.columns:\n",
        "#    if col != 'SK_ID_CURR' and col != 'TARGET':\n",
        "#        if app_train_poly[col].std() == 0: \n",
        "#            colsToRemove.append(col)\n",
        "        \n",
        "# remove constant columns in the training set\n",
        "#app_train_poly.drop(colsToRemove, axis=1, inplace=True)\n",
        "\n",
        "# remove constant columns in the test set\n",
        "#app_test_poly.drop(colsToRemove, axis=1, inplace=True) \n",
        "\n",
        "#print(\"Removed `{}` Constant Columns\\n\".format(len(colsToRemove)))\n",
        "#print(colsToRemove)"
      ]
    },
    {
      "cell_type": "code",
      "execution_count": 43,
      "metadata": {
        "id": "0XnhH-PDonMz"
      },
      "outputs": [],
      "source": [
        "#app_train_domain['SK_ID_CURR']"
      ]
    },
    {
      "cell_type": "code",
      "execution_count": 44,
      "metadata": {
        "id": "0yIeCNBOonM0"
      },
      "outputs": [],
      "source": [
        "# create temp DF\n",
        "#data1 = pd.read_csv('../input/application_train.csv')\n",
        "#test1 = pd.read_csv('../input/application_test.csv')\n",
        "\n",
        "#app_train_domain = app_test_domain.drop('SK_ID_PREV_x',axis=1)\n",
        "#app_test_domain = app_test_domain.drop('SK_ID_PREV_x',axis=1)\n",
        "\n",
        "#app_train_domain = app_test_domain.drop('SK_ID_PREV_y',axis=1)\n",
        "#app_test_domain = app_test_domain.drop('SK_ID_PREV_y',axis=1)"
      ]
    },
    {
      "cell_type": "code",
      "execution_count": 45,
      "metadata": {
        "id": "EnrINXikonM0"
      },
      "outputs": [],
      "source": [
        "#app_train_poly['AMT_CREDIT'] = data1['AMT_CREDIT']\n",
        "#app_test_poly['AMT_CREDIT'] = test1['AMT_CREDIT']\n",
        "#app_train_poly['AMT_GOODS_PRICE'] = data1['AMT_GOODS_PRICE']\n",
        "#app_test_poly['AMT_GOODS_PRICE'] = test1['AMT_GOODS_PRICE']\n",
        "app_train_poly=app_train_poly.rename(columns={'AMT_CREDIT_x':'AMT_CREDIT','AMT_GOODS_PRICE_x':'AMT_GOODS_PRICE'})\n",
        "app_test_poly=app_test_poly.rename(columns={'AMT_CREDIT_x':'AMT_CREDIT','AMT_GOODS_PRICE_x':'AMT_GOODS_PRICE'})"
      ]
    },
    {
      "cell_type": "code",
      "execution_count": 46,
      "metadata": {
        "id": "SwY10T5IonM1"
      },
      "outputs": [],
      "source": [
        "#app_train_poly['AMT_ANNUITY_x']"
      ]
    },
    {
      "cell_type": "code",
      "execution_count": 47,
      "metadata": {
        "id": "-37XbYmgonM1"
      },
      "outputs": [],
      "source": [
        "app_train_domain = app_train_poly.copy()\n",
        "app_test_domain = app_test_poly.copy()\n",
        "\n",
        "app_train_domain['CREDIT_INCOME_PERCENT'] = app_train_domain['AMT_CREDIT'] / app_train_domain['AMT_INCOME_TOTAL']\n",
        "app_train_domain['ANNUITY_INCOME_PERCENT'] = app_train_domain['AMT_ANNUITY'] / app_train_domain['AMT_INCOME_TOTAL']\n",
        "app_train_domain['NEW_CREDIT_TO_ANNUITY_RATIO'] = app_train_domain['AMT_CREDIT'] / app_train_domain['AMT_ANNUITY']\n",
        "#\n",
        "app_train_domain['NEW_EMPLOY_TO_REGISTRATION_NUM'] = app_train_domain['DAYS_REGISTRATION'] - app_train_domain['DAYS_EMPLOYED']\n",
        "app_train_domain['NEW_ID_PUBLISH_TO_REGISTRATION_NUM'] = app_train_domain['DAYS_REGISTRATION'] - app_train_domain['DAYS_ID_PUBLISH']\n",
        "app_train_domain['NEW_ID_PUBLISH_TO_EMPLOY_NUM'] = app_train_domain['DAYS_EMPLOYED'] - app_train_domain['DAYS_ID_PUBLISH']\n",
        "app_train_domain['NEW_REGION_RATING_CLIENT_NUM'] = app_train_domain['REGION_RATING_CLIENT_W_CITY'] - app_train_domain['REGION_RATING_CLIENT']\n",
        "app_train_domain['NEW_FAM_MEMBERS_NUM'] = app_train_domain['CNT_FAM_MEMBERS'] - app_train_domain['CNT_CHILDREN']\n",
        "app_train_domain['NEW_EMPLOY_TO_BIRTH_YEAR'] = app_train_domain['YEARS_BIRTH'] - app_train_domain['YEARS_EMPLOYED']\n",
        "app_train_domain['NEW_PHONE_TO_BIRTH_YEAR'] = app_train_domain['YEARS_BIRTH'] - app_train_domain['YEARS_LAST_PHONE_CHANGE']\n",
        "app_train_domain['NEW_REGISTRATION_TO_BIRTH_YEAR'] = app_train_domain['YEARS_BIRTH'] - app_train_domain['YEARS_REGISTRATION']\n",
        "app_train_domain['NEW_ID_PUBLISH_TO_BIRTH_YEAR'] = app_train_domain['YEARS_BIRTH'] - app_train_domain['YEARS_ID_PUBLISH']\n",
        "app_train_domain['NEW_OWN_CAR_TO_BIRTH_YEAR'] = app_train_domain['YEARS_BIRTH'] - app_train_domain['OWN_CAR_AGE']\n",
        "app_train_domain['NEW_PHONE_TO_REGISTRATION_YEAR'] = app_train_domain['YEARS_REGISTRATION'] - app_train_domain['YEARS_LAST_PHONE_CHANGE']\n",
        "app_train_domain['NEW_EMPLOY_TO_REGISTRATION_YEAR'] = app_train_domain['YEARS_REGISTRATION'] - app_train_domain['YEARS_EMPLOYED']\n",
        "app_train_domain['NEW_ID_PUBLISH_TO_REGISTRATION_YEAR'] = app_train_domain['YEARS_REGISTRATION'] - app_train_domain['YEARS_ID_PUBLISH']\n",
        "app_train_domain['NEW_OWN_CAR_TO_REGISTRATION_YEAR'] = app_train_domain['YEARS_REGISTRATION'] - app_train_domain['OWN_CAR_AGE']\n",
        "app_train_domain['NEW_PHONE_TO_EMPLOY_YEAR'] = app_train_domain['YEARS_EMPLOYED'] - app_train_domain['YEARS_LAST_PHONE_CHANGE']\n",
        "app_train_domain['NEW_ID_PUBLISH_TO_EMPLOY_YEAR'] = app_train_domain['YEARS_EMPLOYED'] - app_train_domain['YEARS_ID_PUBLISH']\n",
        "app_train_domain['NEW_OWN_CAR_TO_EMPLOY_YEAR'] = app_train_domain['YEARS_EMPLOYED'] - app_train_domain['OWN_CAR_AGE']\n",
        "app_train_domain['NEW_ID_PUBLISH_TO_OWN_CAR'] = app_train_domain['OWN_CAR_AGE'] - app_train_domain['YEARS_ID_PUBLISH']"
      ]
    },
    {
      "cell_type": "code",
      "execution_count": 48,
      "metadata": {
        "id": "YK6YfTJJonM1"
      },
      "outputs": [],
      "source": [
        "app_test_domain['CREDIT_INCOME_PERCENT'] = app_test_domain['AMT_CREDIT'] / app_test_domain['AMT_INCOME_TOTAL']\n",
        "app_test_domain['ANNUITY_INCOME_PERCENT'] = app_test_domain['AMT_ANNUITY'] / app_test_domain['AMT_INCOME_TOTAL']\n",
        "\n",
        "app_test_domain['NEW_CREDIT_TO_ANNUITY_RATIO'] = app_test_domain['AMT_CREDIT'] / app_test_domain['AMT_ANNUITY']\n",
        "\n",
        "#\n",
        "app_test_domain['NEW_EMPLOY_TO_REGISTRATION_NUM'] = app_test_domain['DAYS_REGISTRATION'] - app_test_domain['DAYS_EMPLOYED']\n",
        "app_test_domain['NEW_ID_PUBLISH_TO_REGISTRATION_NUM'] = app_test_domain['DAYS_REGISTRATION'] - app_test_domain['DAYS_ID_PUBLISH']\n",
        "app_test_domain['NEW_ID_PUBLISH_TO_EMPLOY_NUM'] = app_test_domain['DAYS_EMPLOYED'] - app_test_domain['DAYS_ID_PUBLISH']\n",
        "app_test_domain['NEW_REGION_RATING_CLIENT_NUM'] = app_test_domain['REGION_RATING_CLIENT_W_CITY'] - app_test_domain['REGION_RATING_CLIENT']\n",
        "app_test_domain['NEW_FAM_MEMBERS_NUM'] = app_test_domain['CNT_FAM_MEMBERS'] - app_test_domain['CNT_CHILDREN']\n",
        "app_test_domain['NEW_EMPLOY_TO_BIRTH_YEAR'] = app_test_domain['YEARS_BIRTH'] - app_test_domain['YEARS_EMPLOYED']\n",
        "app_test_domain['NEW_PHONE_TO_BIRTH_YEAR'] = app_test_domain['YEARS_BIRTH'] - app_test_domain['YEARS_LAST_PHONE_CHANGE']\n",
        "app_test_domain['NEW_REGISTRATION_TO_BIRTH_YEAR'] = app_test_domain['YEARS_BIRTH'] - app_test_domain['YEARS_REGISTRATION']\n",
        "app_test_domain['NEW_ID_PUBLISH_TO_BIRTH_YEAR'] = app_test_domain['YEARS_BIRTH'] - app_test_domain['YEARS_ID_PUBLISH']\n",
        "app_test_domain['NEW_OWN_CAR_TO_BIRTH_YEAR'] = app_test_domain['YEARS_BIRTH'] - app_test_domain['OWN_CAR_AGE']\n",
        "app_test_domain['NEW_PHONE_TO_REGISTRATION_YEAR'] = app_test_domain['YEARS_REGISTRATION'] - app_test_domain['YEARS_LAST_PHONE_CHANGE']\n",
        "app_test_domain['NEW_EMPLOY_TO_REGISTRATION_YEAR'] = app_test_domain['YEARS_REGISTRATION'] - app_test_domain['YEARS_EMPLOYED']\n",
        "app_test_domain['NEW_ID_PUBLISH_TO_REGISTRATION_YEAR'] = app_test_domain['YEARS_REGISTRATION'] - app_test_domain['YEARS_ID_PUBLISH']\n",
        "app_test_domain['NEW_OWN_CAR_TO_REGISTRATION_YEAR'] = app_test_domain['YEARS_REGISTRATION'] - app_test_domain['OWN_CAR_AGE']\n",
        "app_test_domain['NEW_PHONE_TO_EMPLOY_YEAR'] = app_test_domain['YEARS_EMPLOYED'] - app_test_domain['YEARS_LAST_PHONE_CHANGE']\n",
        "app_test_domain['NEW_ID_PUBLISH_TO_EMPLOY_YEAR'] = app_test_domain['YEARS_EMPLOYED'] - app_test_domain['YEARS_ID_PUBLISH']\n",
        "app_test_domain['NEW_OWN_CAR_TO_EMPLOY_YEAR'] = app_test_domain['YEARS_EMPLOYED'] - app_test_domain['OWN_CAR_AGE']\n",
        "app_test_domain['NEW_ID_PUBLISH_TO_OWN_CAR'] = app_test_domain['OWN_CAR_AGE'] - app_test_domain['YEARS_ID_PUBLISH']"
      ]
    },
    {
      "cell_type": "code",
      "execution_count": 49,
      "metadata": {
        "colab": {
          "base_uri": "https://localhost:8080/"
        },
        "id": "2HYOhQeFonM2",
        "outputId": "dbcb2a41-18ff-4f50-becc-7488157955da"
      },
      "outputs": [
        {
          "output_type": "stream",
          "name": "stdout",
          "text": [
            "Training data with polynomial features shape:  (171202, 503)\n",
            "Testing data with polynomial features shape:   (61500, 502)\n"
          ]
        }
      ],
      "source": [
        "app_train_domain['TARGET'] = poly_target\n",
        "print('Training data with polynomial features shape: ', app_train_domain.shape)\n",
        "print('Testing data with polynomial features shape:  ', app_test_domain.shape)"
      ]
    },
    {
      "cell_type": "code",
      "execution_count": 50,
      "metadata": {
        "id": "b_eUsThqonM2"
      },
      "outputs": [],
      "source": [
        "#app_train_domain = app_train_domain[app_train_domain.columns[app_train_domain.isnull().mean() < 0.80]]\n",
        "#app_test_domain = app_test_domain[app_test_domain.columns[app_test_domain.isnull().mean() < 0.80]]\n",
        "#print('Training data with polynomial features shape: ', app_train_domain.shape)\n",
        "#print('Testing data with polynomial features shape:  ', app_test_domain.shape)"
      ]
    },
    {
      "cell_type": "code",
      "execution_count": 51,
      "metadata": {
        "id": "CWyvuokconM2"
      },
      "outputs": [],
      "source": [
        "#app_train_domain = app_test_domain.drop('AMT_ANNUITY',axis=1)\n",
        "#app_test_domain = app_test_domain.drop('AMT_ANNUITY',axis=1)"
      ]
    },
    {
      "cell_type": "code",
      "execution_count": 52,
      "metadata": {
        "id": "xwfRLeVoonM2"
      },
      "outputs": [],
      "source": [
        "#app_train_domain['TARGET']"
      ]
    },
    {
      "cell_type": "code",
      "execution_count": 53,
      "metadata": {
        "colab": {
          "base_uri": "https://localhost:8080/"
        },
        "id": "Pf7NVRztonM3",
        "outputId": "b888358a-6709-4307-828f-72951ecc7d24"
      },
      "outputs": [
        {
          "output_type": "stream",
          "name": "stdout",
          "text": [
            "Training data with polynomial features shape:  (171202, 503)\n",
            "Testing data with polynomial features shape:   (61500, 502)\n"
          ]
        }
      ],
      "source": [
        "app_train_domain['TARGET'] = poly_target\n",
        "print('Training data with polynomial features shape: ', app_train_domain.shape)\n",
        "print('Testing data with polynomial features shape:  ', app_test_domain.shape)"
      ]
    },
    {
      "cell_type": "code",
      "execution_count": 54,
      "metadata": {
        "id": "cHKp00mAonM3"
      },
      "outputs": [],
      "source": [
        "#app_train_domain = app_train_domain.reindex(\n",
        " #   np.random.permutation(app_train_domain.index))"
      ]
    },
    {
      "cell_type": "code",
      "execution_count": 55,
      "metadata": {
        "id": "vann9ARGonM3"
      },
      "outputs": [],
      "source": [
        "#app_train_domain=app_train_domain.drop('TARGET',axis=1)\n",
        "#app_train_domain = np.log1p(app_train_domain)\n",
        "#app_test_domain=np.log1p(app_test_domain)\n",
        "#print('Training data with polynomial features shape: ', app_train_domain.shape)\n",
        "#print('Testing data with polynomial features shape:  ', app_test_domain.shape)"
      ]
    },
    {
      "cell_type": "code",
      "execution_count": 56,
      "metadata": {
        "id": "W9WgYpa-onM4"
      },
      "outputs": [],
      "source": [
        "from sklearn.model_selection import KFold\n",
        "from sklearn.metrics import roc_auc_score\n",
        "import lightgbm as lgb\n",
        "import gc\n",
        "\n",
        "def model(features, test_features, encoding = 'ohe', n_folds =5 ):\n",
        "    \n",
        "    \"\"\"Train and test a light gradient boosting model using\n",
        "    cross validation. \n",
        "    \n",
        "    Parameters\n",
        "    --------\n",
        "        features (pd.DataFrame): \n",
        "            dataframe of training features to use \n",
        "            for training a model. Must include the TARGET column.\n",
        "        test_features (pd.DataFrame): \n",
        "            dataframe of testing features to use\n",
        "            for making predictions with the model. \n",
        "        encoding (str, default = 'ohe'): \n",
        "            method for encoding categorical variables. Either 'ohe' for one-hot encoding or 'le' for integer label encoding\n",
        "            n_folds (int, default = 5): number of folds to use for cross validation\n",
        "        \n",
        "    Return\n",
        "    --------\n",
        "        submission (pd.DataFrame): \n",
        "            dataframe with `SK_ID_CURR` and `TARGET` probabilities\n",
        "            predicted by the model.\n",
        "        feature_importances (pd.DataFrame): \n",
        "            dataframe with the feature importances from the model.\n",
        "        valid_metrics (pd.DataFrame): \n",
        "            dataframe with training and validation metrics (ROC AUC) for each fold and overall.\n",
        "        \n",
        "    \"\"\"\n",
        "    \n",
        "    # Extract the ids\n",
        "    train_ids = features['SK_ID_CURR']\n",
        "    test_ids = test_features['SK_ID_CURR']\n",
        "    \n",
        "    # Extract the labels for training\n",
        "    labels = features['TARGET']\n",
        "    \n",
        "    # Remove the ids and target\n",
        "    features = features.drop(columns = ['SK_ID_CURR', 'TARGET'])\n",
        "    test_features = test_features.drop(columns = ['SK_ID_CURR'])\n",
        "    \n",
        "    \n",
        "    # One Hot Encoding\n",
        "    if encoding == 'ohe':\n",
        "        features = pd.get_dummies(features)\n",
        "        test_features = pd.get_dummies(test_features)\n",
        "        \n",
        "        # Align the dataframes by the columns\n",
        "        features, test_features = features.align(test_features, join = 'inner', axis = 1)\n",
        "        \n",
        "        # No categorical indices to record\n",
        "        cat_indices = 'auto'\n",
        "    \n",
        "    # Integer label encoding\n",
        "    elif encoding == 'le':\n",
        "        \n",
        "        # Create a label encoder\n",
        "        label_encoder = LabelEncoder()\n",
        "        \n",
        "        # List for storing categorical indices\n",
        "        cat_indices = []\n",
        "        \n",
        "        # Iterate through each column\n",
        "        for i, col in enumerate(features):\n",
        "            if features[col].dtype == 'object':\n",
        "                # Map the categorical features to integers\n",
        "                features[col] = label_encoder.fit_transform(np.array(features[col].astype(str)).reshape((-1,)))\n",
        "                test_features[col] = label_encoder.transform(np.array(test_features[col].astype(str)).reshape((-1,)))\n",
        "\n",
        "                # Record the categorical indices\n",
        "                cat_indices.append(i)\n",
        "    \n",
        "    # Catch error if label encoding scheme is not valid\n",
        "    else:\n",
        "        raise ValueError(\"Encoding must be either 'ohe' or 'le'\")\n",
        "        \n",
        "    print('Training Data Shape: ', features.shape)\n",
        "    print('Testing Data Shape: ', test_features.shape)\n",
        "    \n",
        "    # Extract feature names\n",
        "    feature_names = list(features.columns)\n",
        "    \n",
        "    # Convert to np arrays\n",
        "    features = np.array(features)\n",
        "    test_features = np.array(test_features)\n",
        "    \n",
        "    # Create the kfold object\n",
        "    k_fold = KFold(n_splits = n_folds, shuffle = True, random_state = 50)\n",
        "    \n",
        "    # Empty array for feature importances\n",
        "    feature_importance_values = np.zeros(len(feature_names))\n",
        "    \n",
        "    # Empty array for test predictions\n",
        "    test_predictions = np.zeros(test_features.shape[0])\n",
        "    \n",
        "    # Empty array for out of fold validation predictions\n",
        "    out_of_fold = np.zeros(features.shape[0])\n",
        "    \n",
        "    # Lists for recording validation and training scores\n",
        "    valid_scores = []\n",
        "    train_scores = []\n",
        "    \n",
        "    # Iterate through each fold\n",
        "    for train_indices, valid_indices in k_fold.split(features):\n",
        "        \n",
        "        # Training data for the fold\n",
        "        train_features, train_labels = features[train_indices], labels[train_indices]\n",
        "        # Validation data for the fold\n",
        "        valid_features, valid_labels = features[valid_indices], labels[valid_indices]\n",
        "        \n",
        "        # Create the model\n",
        "        model = lgb.LGBMClassifier(n_estimators=10000, nthread=4,objective = 'binary', \n",
        "                                   class_weight = 'balanced', learning_rate = 0.015, \n",
        "                                   reg_alpha = 0.041545473, reg_lambda = 0.1, \n",
        "                                   n_jobs = -1, random_state = 50,num_leaves=32,colsample_bytree=.9497036,subsample=.8715623,\n",
        "                                  max_depth=5,min_split_gain=.0222415,min_child_weight=39.3259775,max_bin=200,num_boost_round=3000,min_data_in_leaf=100,bagging_fraction=0.5,bagging_freq=10)\n",
        "        \n",
        "        # Train the model\n",
        "        model.fit(train_features, train_labels, eval_metric = 'auc',\n",
        "                  eval_set = [(valid_features, valid_labels), (train_features, train_labels)],\n",
        "                  eval_names = ['valid', 'train'], categorical_feature = cat_indices,\n",
        "                  early_stopping_rounds = 100, verbose = 200)\n",
        "        \n",
        "        # Record the best iteration\n",
        "        best_iteration = model.best_iteration_\n",
        "        \n",
        "        # Record the feature importances\n",
        "        feature_importance_values += model.feature_importances_ / k_fold.n_splits\n",
        "        \n",
        "        # Make predictions\n",
        "        test_predictions += model.predict_proba(test_features, num_iteration = best_iteration)[:, 1] / k_fold.n_splits\n",
        "        \n",
        "        # Record the out of fold predictions\n",
        "        out_of_fold[valid_indices] = model.predict_proba(valid_features, num_iteration = best_iteration)[:, 1]\n",
        "        \n",
        "        # Record the best score\n",
        "        valid_score = model.best_score_['valid']['auc']\n",
        "        train_score = model.best_score_['train']['auc']\n",
        "        \n",
        "        valid_scores.append(valid_score)\n",
        "        train_scores.append(train_score)\n",
        "        \n",
        "        # Clean up memory\n",
        "        gc.enable()\n",
        "        del model, train_features, valid_features\n",
        "        gc.collect()\n",
        "        \n",
        "    # Make the submission dataframe\n",
        "    submission = pd.DataFrame({'SK_ID_CURR': test_ids, 'TARGET': test_predictions})\n",
        "    \n",
        "    # Make the feature importance dataframe\n",
        "    feature_importances = pd.DataFrame({'feature': feature_names, 'importance': feature_importance_values})\n",
        "    \n",
        "    # Overall validation score\n",
        "    valid_auc = roc_auc_score(labels, out_of_fold)\n",
        "    \n",
        "    # Add the overall scores to the metrics\n",
        "    valid_scores.append(valid_auc)\n",
        "    train_scores.append(np.mean(train_scores))\n",
        "    \n",
        "    # Needed for creating dataframe of validation scores\n",
        "    fold_names = list(range(n_folds))\n",
        "    fold_names.append('overall')\n",
        "    \n",
        "    # Dataframe of validation scores\n",
        "    metrics = pd.DataFrame({'fold': fold_names,\n",
        "                            'train': train_scores,\n",
        "                            'valid': valid_scores}) \n",
        "    \n",
        "    return submission, feature_importances, metrics"
      ]
    },
    {
      "cell_type": "code",
      "execution_count": 57,
      "metadata": {
        "colab": {
          "base_uri": "https://localhost:8080/"
        },
        "id": "6vIfFptGrWvW",
        "outputId": "9ccd06ee-c647-400b-d6f9-cc308fae74ee"
      },
      "outputs": [
        {
          "output_type": "stream",
          "name": "stdout",
          "text": [
            "Training Data Shape:  (171202, 505)\n",
            "Testing Data Shape:  (61500, 505)\n"
          ]
        },
        {
          "output_type": "stream",
          "name": "stderr",
          "text": [
            "/usr/local/lib/python3.7/dist-packages/lightgbm/engine.py:118: UserWarning: Found `num_boost_round` in params. Will use it instead of argument\n",
            "  warnings.warn(\"Found `{}` in params. Will use it instead of argument\".format(alias))\n"
          ]
        },
        {
          "output_type": "stream",
          "name": "stdout",
          "text": [
            "Training until validation scores don't improve for 100 rounds.\n",
            "[200]\ttrain's binary_logloss: 0.578832\ttrain's auc: 0.769081\tvalid's binary_logloss: 0.580268\tvalid's auc: 0.751667\n",
            "[400]\ttrain's binary_logloss: 0.55948\ttrain's auc: 0.786433\tvalid's binary_logloss: 0.565776\tvalid's auc: 0.759394\n",
            "[600]\ttrain's binary_logloss: 0.548336\ttrain's auc: 0.797079\tvalid's binary_logloss: 0.558418\tvalid's auc: 0.760938\n",
            "[800]\ttrain's binary_logloss: 0.538044\ttrain's auc: 0.807427\tvalid's binary_logloss: 0.552841\tvalid's auc: 0.762226\n",
            "Early stopping, best iteration is:\n",
            "[801]\ttrain's binary_logloss: 0.537969\ttrain's auc: 0.807517\tvalid's binary_logloss: 0.5528\tvalid's auc: 0.762241\n"
          ]
        },
        {
          "output_type": "stream",
          "name": "stderr",
          "text": [
            "/usr/local/lib/python3.7/dist-packages/lightgbm/engine.py:118: UserWarning: Found `num_boost_round` in params. Will use it instead of argument\n",
            "  warnings.warn(\"Found `{}` in params. Will use it instead of argument\".format(alias))\n"
          ]
        },
        {
          "output_type": "stream",
          "name": "stdout",
          "text": [
            "Training until validation scores don't improve for 100 rounds.\n",
            "[200]\ttrain's binary_logloss: 0.579252\ttrain's auc: 0.768858\tvalid's binary_logloss: 0.583271\tvalid's auc: 0.750054\n",
            "[400]\ttrain's binary_logloss: 0.560444\ttrain's auc: 0.785769\tvalid's binary_logloss: 0.571575\tvalid's auc: 0.755418\n",
            "[600]\ttrain's binary_logloss: 0.547097\ttrain's auc: 0.798787\tvalid's binary_logloss: 0.563673\tvalid's auc: 0.757625\n",
            "[800]\ttrain's binary_logloss: 0.537697\ttrain's auc: 0.807647\tvalid's binary_logloss: 0.556788\tvalid's auc: 0.759193\n",
            "Early stopping, best iteration is:\n",
            "[800]\ttrain's binary_logloss: 0.537697\ttrain's auc: 0.807647\tvalid's binary_logloss: 0.556788\tvalid's auc: 0.759193\n"
          ]
        },
        {
          "output_type": "stream",
          "name": "stderr",
          "text": [
            "/usr/local/lib/python3.7/dist-packages/lightgbm/engine.py:118: UserWarning: Found `num_boost_round` in params. Will use it instead of argument\n",
            "  warnings.warn(\"Found `{}` in params. Will use it instead of argument\".format(alias))\n"
          ]
        },
        {
          "output_type": "stream",
          "name": "stdout",
          "text": [
            "Training until validation scores don't improve for 100 rounds.\n",
            "[200]\ttrain's binary_logloss: 0.580241\ttrain's auc: 0.767594\tvalid's binary_logloss: 0.579697\tvalid's auc: 0.753023\n",
            "[400]\ttrain's binary_logloss: 0.55942\ttrain's auc: 0.786915\tvalid's binary_logloss: 0.566354\tvalid's auc: 0.758457\n",
            "[600]\ttrain's binary_logloss: 0.547516\ttrain's auc: 0.798265\tvalid's binary_logloss: 0.560622\tvalid's auc: 0.761004\n",
            "[800]\ttrain's binary_logloss: 0.537957\ttrain's auc: 0.807538\tvalid's binary_logloss: 0.554637\tvalid's auc: 0.761908\n",
            "Early stopping, best iteration is:\n",
            "[829]\ttrain's binary_logloss: 0.536546\ttrain's auc: 0.808783\tvalid's binary_logloss: 0.553102\tvalid's auc: 0.762027\n"
          ]
        },
        {
          "output_type": "stream",
          "name": "stderr",
          "text": [
            "/usr/local/lib/python3.7/dist-packages/lightgbm/engine.py:118: UserWarning: Found `num_boost_round` in params. Will use it instead of argument\n",
            "  warnings.warn(\"Found `{}` in params. Will use it instead of argument\".format(alias))\n"
          ]
        },
        {
          "output_type": "stream",
          "name": "stdout",
          "text": [
            "Training until validation scores don't improve for 100 rounds.\n",
            "[200]\ttrain's binary_logloss: 0.576667\ttrain's auc: 0.771535\tvalid's binary_logloss: 0.583629\tvalid's auc: 0.740271\n",
            "[400]\ttrain's binary_logloss: 0.556672\ttrain's auc: 0.789423\tvalid's binary_logloss: 0.569754\tvalid's auc: 0.746253\n",
            "[600]\ttrain's binary_logloss: 0.545266\ttrain's auc: 0.800429\tvalid's binary_logloss: 0.562322\tvalid's auc: 0.74842\n",
            "[800]\ttrain's binary_logloss: 0.535854\ttrain's auc: 0.809502\tvalid's binary_logloss: 0.557319\tvalid's auc: 0.749215\n",
            "Early stopping, best iteration is:\n",
            "[716]\ttrain's binary_logloss: 0.539887\ttrain's auc: 0.805776\tvalid's binary_logloss: 0.561341\tvalid's auc: 0.749588\n"
          ]
        },
        {
          "output_type": "stream",
          "name": "stderr",
          "text": [
            "/usr/local/lib/python3.7/dist-packages/lightgbm/engine.py:118: UserWarning: Found `num_boost_round` in params. Will use it instead of argument\n",
            "  warnings.warn(\"Found `{}` in params. Will use it instead of argument\".format(alias))\n"
          ]
        },
        {
          "output_type": "stream",
          "name": "stdout",
          "text": [
            "Training until validation scores don't improve for 100 rounds.\n",
            "[200]\ttrain's binary_logloss: 0.577188\ttrain's auc: 0.771007\tvalid's binary_logloss: 0.582216\tvalid's auc: 0.740777\n",
            "[400]\ttrain's binary_logloss: 0.556676\ttrain's auc: 0.78953\tvalid's binary_logloss: 0.566397\tvalid's auc: 0.74855\n",
            "[600]\ttrain's binary_logloss: 0.545062\ttrain's auc: 0.80085\tvalid's binary_logloss: 0.559447\tvalid's auc: 0.751378\n",
            "[800]\ttrain's binary_logloss: 0.534719\ttrain's auc: 0.810778\tvalid's binary_logloss: 0.554817\tvalid's auc: 0.752172\n",
            "Early stopping, best iteration is:\n",
            "[896]\ttrain's binary_logloss: 0.530299\ttrain's auc: 0.814992\tvalid's binary_logloss: 0.551137\tvalid's auc: 0.752448\n",
            "Baseline metrics\n",
            "      fold     train     valid\n",
            "0        0  0.807517  0.762241\n",
            "1        1  0.807647  0.759193\n",
            "2        2  0.808783  0.762027\n",
            "3        3  0.805776  0.749588\n",
            "4        4  0.814992  0.752448\n",
            "5  overall  0.808943  0.757038\n"
          ]
        }
      ],
      "source": [
        "submission, fi, metrics = model(app_train_domain, app_test_domain)\n",
        "print('Baseline metrics')\n",
        "print(metrics)"
      ]
    },
    {
      "cell_type": "markdown",
      "metadata": {
        "id": "DzUSIX7uHJ2K"
      },
      "source": [
        "n=505 Baseline metrics\n",
        "\n",
        "      fold     train     valid\n",
        "\n",
        "*        0  0.807517  0.762241\n",
        "*        1  0.807647  0.759193\n",
        "*        2  0.808783  0.762027\n",
        "*        3  0.805776  0.749588\n",
        "*        4  0.814992  0.752448\n",
        "*  overall  0.808943  0.757038"
      ]
    },
    {
      "cell_type": "code",
      "execution_count": 58,
      "metadata": {
        "id": "H3V45Au-onM5"
      },
      "outputs": [],
      "source": [
        "def plot_feature_importances(df):\n",
        "    \"\"\"\n",
        "    Plot importances returned by a model. This can work with any measure of\n",
        "    feature importance provided that higher importance is better. \n",
        "    \n",
        "    Args:\n",
        "        df (dataframe): feature importances. Must have the features in a column\n",
        "        called `features` and the importances in a column called `importance\n",
        "        \n",
        "    Returns:\n",
        "        shows a plot of the 15 most importance features\n",
        "        \n",
        "        df (dataframe): feature importances sorted by importance (highest to lowest) \n",
        "        with a column for normalized importance\n",
        "        \"\"\"\n",
        "    \n",
        "    # Sort features according to importance\n",
        "    df = df.sort_values('importance', ascending = False).reset_index()\n",
        "    \n",
        "    # Normalize the feature importances to add up to one\n",
        "    df['importance_normalized'] = df['importance'] / df['importance'].sum()\n",
        "\n",
        "    # Make a horizontal bar chart of feature importances\n",
        "    plt.figure(figsize = (20, 60))\n",
        "    ax = plt.subplot()\n",
        "    \n",
        "    # Need to reverse the index to plot most important on top\n",
        "    ax.barh(list(reversed(list(df.index[:100]))), \n",
        "            df['importance_normalized'].head(100), \n",
        "            align = 'center', edgecolor = 'k')\n",
        "    \n",
        "    # Set the yticks and labels\n",
        "    ax.set_yticks(list(reversed(list(df.index[:100]))))\n",
        "    ax.set_yticklabels(df['feature'].head(100))\n",
        "    \n",
        "    # Plot labeling\n",
        "    plt.xlabel('Normalized Importance'); plt.title('Feature Importances')\n",
        "    plt.show()\n",
        "    \n",
        "    return df"
      ]
    },
    {
      "cell_type": "code",
      "execution_count": 59,
      "metadata": {
        "colab": {
          "base_uri": "https://localhost:8080/",
          "height": 1000
        },
        "id": "yT__4iaXonM5",
        "outputId": "7cfbe39c-64ea-463a-b4cb-ce1afc1f2b11"
      },
      "outputs": [
        {
          "output_type": "display_data",
          "data": {
            "text/plain": [
              "<Figure size 1440x4320 with 1 Axes>"
            ],
            "image/png": "[encoded data removed]"
          },
          "metadata": {
            "needs_background": "light"
          }
        }
      ],
      "source": [
        "fi_sorted = plot_feature_importances(fi)"
      ]
    },
    {
      "cell_type": "code",
      "execution_count": 105,
      "metadata": {
        "id": "Z9lziqV4sBt3"
      },
      "outputs": [],
      "source": [
        "n=412"
      ]
    },
    {
      "cell_type": "code",
      "execution_count": 106,
      "metadata": {
        "id": "3XE8n9cFq5ky"
      },
      "outputs": [],
      "source": [
        "feats=list(fi_sorted[0:n:1]['feature'])"
      ]
    },
    {
      "cell_type": "code",
      "execution_count": 107,
      "metadata": {
        "id": "wiCn5xQ7dPwn"
      },
      "outputs": [],
      "source": [
        "app_train_domain=app_train_domain.rename(columns=lambda x: str(x).replace(u' ', u''))\n",
        "app_test_domain=app_test_domain.rename(columns=lambda x: str(x).replace(u' ', u''))\n",
        "\n",
        "feats = list(map(lambda x: str(x).replace(u' ', u''),feats))\n",
        "feats.append('SK_ID_CURR')\n",
        "feats_test = feats.copy()\n",
        "\n",
        "feats.append('TARGET')"
      ]
    },
    {
      "cell_type": "code",
      "execution_count": 108,
      "metadata": {
        "colab": {
          "base_uri": "https://localhost:8080/"
        },
        "id": "-yJV0Cm9onM4",
        "outputId": "a3e3bbe7-85a6-42d3-b0b7-536174be5f30"
      },
      "outputs": [
        {
          "output_type": "stream",
          "name": "stdout",
          "text": [
            "Training Data Shape:  (171202, 412)\n",
            "Testing Data Shape:  (61500, 412)\n"
          ]
        },
        {
          "output_type": "stream",
          "name": "stderr",
          "text": [
            "/usr/local/lib/python3.7/dist-packages/lightgbm/engine.py:118: UserWarning: Found `num_boost_round` in params. Will use it instead of argument\n",
            "  warnings.warn(\"Found `{}` in params. Will use it instead of argument\".format(alias))\n"
          ]
        },
        {
          "output_type": "stream",
          "name": "stdout",
          "text": [
            "Training until validation scores don't improve for 100 rounds.\n",
            "[200]\ttrain's binary_logloss: 0.578858\ttrain's auc: 0.769179\tvalid's binary_logloss: 0.58016\tvalid's auc: 0.751509\n",
            "[400]\ttrain's binary_logloss: 0.559852\ttrain's auc: 0.786094\tvalid's binary_logloss: 0.566081\tvalid's auc: 0.759173\n",
            "[600]\ttrain's binary_logloss: 0.548608\ttrain's auc: 0.79678\tvalid's binary_logloss: 0.558632\tvalid's auc: 0.760951\n",
            "[800]\ttrain's binary_logloss: 0.538372\ttrain's auc: 0.807124\tvalid's binary_logloss: 0.553107\tvalid's auc: 0.762524\n",
            "Early stopping, best iteration is:\n",
            "[800]\ttrain's binary_logloss: 0.538372\ttrain's auc: 0.807124\tvalid's binary_logloss: 0.553107\tvalid's auc: 0.762524\n"
          ]
        },
        {
          "output_type": "stream",
          "name": "stderr",
          "text": [
            "/usr/local/lib/python3.7/dist-packages/lightgbm/engine.py:118: UserWarning: Found `num_boost_round` in params. Will use it instead of argument\n",
            "  warnings.warn(\"Found `{}` in params. Will use it instead of argument\".format(alias))\n"
          ]
        },
        {
          "output_type": "stream",
          "name": "stdout",
          "text": [
            "Training until validation scores don't improve for 100 rounds.\n",
            "[200]\ttrain's binary_logloss: 0.579128\ttrain's auc: 0.769106\tvalid's binary_logloss: 0.583119\tvalid's auc: 0.750502\n",
            "[400]\ttrain's binary_logloss: 0.560198\ttrain's auc: 0.786072\tvalid's binary_logloss: 0.571019\tvalid's auc: 0.756241\n",
            "[600]\ttrain's binary_logloss: 0.546857\ttrain's auc: 0.79909\tvalid's binary_logloss: 0.563342\tvalid's auc: 0.758561\n",
            "[800]\ttrain's binary_logloss: 0.537608\ttrain's auc: 0.807794\tvalid's binary_logloss: 0.556558\tvalid's auc: 0.760061\n",
            "Early stopping, best iteration is:\n",
            "[801]\ttrain's binary_logloss: 0.537545\ttrain's auc: 0.807858\tvalid's binary_logloss: 0.556561\tvalid's auc: 0.760061\n"
          ]
        },
        {
          "output_type": "stream",
          "name": "stderr",
          "text": [
            "/usr/local/lib/python3.7/dist-packages/lightgbm/engine.py:118: UserWarning: Found `num_boost_round` in params. Will use it instead of argument\n",
            "  warnings.warn(\"Found `{}` in params. Will use it instead of argument\".format(alias))\n"
          ]
        },
        {
          "output_type": "stream",
          "name": "stdout",
          "text": [
            "Training until validation scores don't improve for 100 rounds.\n",
            "[200]\ttrain's binary_logloss: 0.580208\ttrain's auc: 0.767663\tvalid's binary_logloss: 0.579854\tvalid's auc: 0.753535\n",
            "[400]\ttrain's binary_logloss: 0.559624\ttrain's auc: 0.786664\tvalid's binary_logloss: 0.566324\tvalid's auc: 0.759244\n",
            "[600]\ttrain's binary_logloss: 0.547667\ttrain's auc: 0.798008\tvalid's binary_logloss: 0.560629\tvalid's auc: 0.761201\n",
            "[800]\ttrain's binary_logloss: 0.538024\ttrain's auc: 0.807434\tvalid's binary_logloss: 0.554504\tvalid's auc: 0.762284\n",
            "Early stopping, best iteration is:\n",
            "[830]\ttrain's binary_logloss: 0.536638\ttrain's auc: 0.808646\tvalid's binary_logloss: 0.552967\tvalid's auc: 0.762427\n"
          ]
        },
        {
          "output_type": "stream",
          "name": "stderr",
          "text": [
            "/usr/local/lib/python3.7/dist-packages/lightgbm/engine.py:118: UserWarning: Found `num_boost_round` in params. Will use it instead of argument\n",
            "  warnings.warn(\"Found `{}` in params. Will use it instead of argument\".format(alias))\n"
          ]
        },
        {
          "output_type": "stream",
          "name": "stdout",
          "text": [
            "Training until validation scores don't improve for 100 rounds.\n",
            "[200]\ttrain's binary_logloss: 0.57676\ttrain's auc: 0.771435\tvalid's binary_logloss: 0.583495\tvalid's auc: 0.740472\n",
            "[400]\ttrain's binary_logloss: 0.556532\ttrain's auc: 0.789502\tvalid's binary_logloss: 0.569528\tvalid's auc: 0.746893\n",
            "[600]\ttrain's binary_logloss: 0.544581\ttrain's auc: 0.801143\tvalid's binary_logloss: 0.561512\tvalid's auc: 0.749186\n",
            "[800]\ttrain's binary_logloss: 0.534848\ttrain's auc: 0.810567\tvalid's binary_logloss: 0.556349\tvalid's auc: 0.750135\n",
            "Early stopping, best iteration is:\n",
            "[712]\ttrain's binary_logloss: 0.53933\ttrain's auc: 0.806303\tvalid's binary_logloss: 0.561041\tvalid's auc: 0.750428\n"
          ]
        },
        {
          "output_type": "stream",
          "name": "stderr",
          "text": [
            "/usr/local/lib/python3.7/dist-packages/lightgbm/engine.py:118: UserWarning: Found `num_boost_round` in params. Will use it instead of argument\n",
            "  warnings.warn(\"Found `{}` in params. Will use it instead of argument\".format(alias))\n"
          ]
        },
        {
          "output_type": "stream",
          "name": "stdout",
          "text": [
            "Training until validation scores don't improve for 100 rounds.\n",
            "[200]\ttrain's binary_logloss: 0.577252\ttrain's auc: 0.770932\tvalid's binary_logloss: 0.582063\tvalid's auc: 0.741368\n",
            "[400]\ttrain's binary_logloss: 0.556786\ttrain's auc: 0.789285\tvalid's binary_logloss: 0.566224\tvalid's auc: 0.749336\n",
            "[600]\ttrain's binary_logloss: 0.544771\ttrain's auc: 0.801139\tvalid's binary_logloss: 0.559071\tvalid's auc: 0.752408\n",
            "Early stopping, best iteration is:\n",
            "[680]\ttrain's binary_logloss: 0.540624\ttrain's auc: 0.804945\tvalid's binary_logloss: 0.55757\tvalid's auc: 0.752905\n",
            "Baseline metrics\n",
            "      fold     train     valid\n",
            "0        0  0.807124  0.762524\n",
            "1        1  0.807858  0.760061\n",
            "2        2  0.808646  0.762427\n",
            "3        3  0.806303  0.750428\n",
            "4        4  0.804945  0.752905\n",
            "5  overall  0.806975  0.757639\n"
          ]
        }
      ],
      "source": [
        "submission, fi, metrics = model(app_train_domain[feats], app_test_domain[feats_test])\n",
        "print('Baseline metrics')\n",
        "print(metrics)"
      ]
    },
    {
      "cell_type": "markdown",
      "source": [
        "n=450 Baseline metrics\n",
        "\n",
        "      fold     train     valid\n",
        "*        0  0.807607  0.762115\n",
        "*        1  0.807456  0.759540\n",
        "*        2  0.808654  0.761850\n",
        "*        3  0.806181  0.749975\n",
        "*        4  0.815303  0.752403\n",
        "*  overall  0.809040  0.757108"
      ],
      "metadata": {
        "id": "iJJ1yhC78WZe"
      }
    },
    {
      "cell_type": "markdown",
      "source": [
        "n=425 Baseline metrics\n",
        "      fold     train     valid\n",
        "*        0  0.815786  0.762734\n",
        "*        1  0.807091  0.759639\n",
        "*        2  0.808481  0.762062\n",
        "*        3  0.806042  0.749372\n",
        "*        4  0.805075  0.752234\n",
        "*  overall  0.808495  0.757197"
      ],
      "metadata": {
        "id": "NeGWnGcrDKIT"
      }
    },
    {
      "cell_type": "markdown",
      "source": [
        "n=415 Baseline metrics\n",
        "\n",
        "      fold     train     valid\n",
        "*        0  0.807216  0.762273\n",
        "*        1  0.808829  0.759573\n",
        "*        2  0.808742  0.762001\n",
        "*        3  0.806531  0.749905\n",
        "*        4  0.825544  0.752743\n",
        "*  overall  0.811373  0.757188"
      ],
      "metadata": {
        "id": "7khIqXxyOIex"
      }
    },
    {
      "cell_type": "markdown",
      "source": [
        "n=412 Baseline metrics\n",
        "\n",
        "      fold     train     valid\n",
        "*        0  0.807124  0.762524\n",
        "*        1  0.807858  0.760061\n",
        "*        2  0.808646  0.762427\n",
        "*        3  0.806303  0.750428\n",
        "*        4  0.804945  0.752905\n",
        "*  overall  0.806975  0.757639"
      ],
      "metadata": {
        "id": "9IoTolFudfeX"
      }
    },
    {
      "cell_type": "markdown",
      "source": [
        "n=410 Baseline metrics\n",
        "\n",
        "      fold     train     valid\n",
        "\n",
        "*        0  0.806994  0.763094\n",
        "*        1  0.807833  0.759739\n",
        "*        2  0.808409  0.762146\n",
        "*        3  0.805583  0.750110\n",
        "*        4  0.814868  0.752679\n",
        "*  overall  0.808738  0.757489\n"
      ],
      "metadata": {
        "id": "A-ZuEzvNMGhE"
      }
    },
    {
      "cell_type": "markdown",
      "source": [
        "n=408 Baseline metrics\n",
        "\n",
        "fold     train     valid\n",
        "*        0  0.806625  0.762266\n",
        "*        1  0.807295  0.759287\n",
        "*        2  0.808515  0.762363\n",
        "*        3  0.806447  0.749806\n",
        "*        4  0.815271  0.752714\n",
        "*  overall  0.808831  0.757227"
      ],
      "metadata": {
        "id": "JLSXhY2DSVTT"
      }
    },
    {
      "cell_type": "markdown",
      "source": [
        "n=405 Baseline metrics\n",
        "\n",
        "      fold     train     valid\n",
        "*        0  0.807507  0.762223\n",
        "*        1  0.808089  0.759679\n",
        "*        2  0.808224  0.762243\n",
        "*        3  0.806174  0.750640\n",
        "*        4  0.812756  0.752400\n",
        "*  overall  0.808550  0.757389"
      ],
      "metadata": {
        "id": "peVaBlpJPkxV"
      }
    },
    {
      "cell_type": "markdown",
      "source": [
        "n=400 Baseline metrics\n",
        "\n",
        "      fold     train     valid\n",
        "*        0  0.807216  0.762346\n",
        "*        1  0.807767  0.760205\n",
        "*        2  0.808200  0.761879\n",
        "*        3  0.806521  0.750283\n",
        "*        4  0.816019  0.752638\n",
        "*  overall  0.809145  0.757405\n"
      ],
      "metadata": {
        "id": "y1ZJLQnY16yS"
      }
    },
    {
      "cell_type": "markdown",
      "source": [
        "n=390 Baseline metrics\n",
        "\n",
        "      fold     train     valid\n",
        "*        0  0.806984  0.762233\n",
        "*        1  0.808035  0.759610\n",
        "*        2  0.808197  0.761938\n",
        "*        3  0.806319  0.750432\n",
        "*        4  0.804545  0.752443\n",
        "*  overall  0.806816  0.757298"
      ],
      "metadata": {
        "id": "3qHZAiBqJMlA"
      }
    },
    {
      "cell_type": "markdown",
      "source": [
        "n=375 Baseline metrics\n",
        "\n",
        "      fold     train     valid\n",
        "\n",
        "*        0  0.792475  0.760818\n",
        "*        1  0.806909  0.759404\n",
        "*        2  0.808398  0.762133\n",
        "*        3  0.811164  0.749630\n",
        "*        4  0.810570  0.751947\n",
        "*  overall  0.805903  0.756643"
      ],
      "metadata": {
        "id": "RBPh5zzOGr71"
      }
    },
    {
      "cell_type": "markdown",
      "source": [
        "n=350 Baseline metrics\n",
        "\n",
        "      fold     train     valid\n",
        "\n",
        "*        0  0.807811  0.762345\n",
        "*        1  0.807367  0.759472\n",
        "*        2  0.793993  0.760812\n",
        "*        3  0.805855  0.749894\n",
        "*        4  0.815932  0.752622\n",
        "*  overall  0.806192  0.756897"
      ],
      "metadata": {
        "id": "Yr9NnTheAWBv"
      }
    },
    {
      "cell_type": "code",
      "source": [
        ""
      ],
      "metadata": {
        "id": "Poic6NAJ5AiL"
      },
      "execution_count": null,
      "outputs": []
    },
    {
      "cell_type": "markdown",
      "source": [
        "n=300 Baseline metrics\n",
        "\n",
        "      fold     train     valid\n",
        "*        0  0.807610  0.762381\n",
        "*        1  0.818994  0.760118\n",
        "*        2  0.808363  0.761736\n",
        "*        3  0.806373  0.750174\n",
        "*        4  0.815416  0.752678\n",
        "*  overall  0.811351  0.757360"
      ],
      "metadata": {
        "id": "XwgD7fz5iKhs"
      }
    },
    {
      "cell_type": "markdown",
      "source": [
        "n=200 Baseline metrics\n",
        "\n",
        "      fold     train     valid\n",
        "\n",
        "*        0  0.807125  0.762092\n",
        "*        1  0.809244  0.759352\n",
        "*        2  0.809061  0.762795\n",
        "*        3  0.806356  0.749931\n",
        "*        4  0.819184  0.752719\n",
        "*  overall  0.810194  0.757299"
      ],
      "metadata": {
        "id": "dG2leEHZwnXa"
      }
    },
    {
      "cell_type": "markdown",
      "source": [
        "n=150\n",
        "\n",
        "Baseline metrics\n",
        "\n",
        "      fold     train     valid\n",
        "*        0  0.807301  0.762222\n",
        "*        1  0.808917  0.758541\n",
        "*        2  0.809496  0.763033\n",
        "*        3  0.806128  0.748877\n",
        "*        4  0.815874  0.752874\n",
        "*  overall  0.809543  0.757050"
      ],
      "metadata": {
        "id": "vuizakSO1kEh"
      }
    },
    {
      "cell_type": "code",
      "execution_count": 109,
      "metadata": {
        "id": "LSQ2ifqaonM5"
      },
      "outputs": [],
      "source": [
        "submission.to_csv('second_sub.csv', index = False)"
      ]
    }
  ],
  "metadata": {
    "colab": {
      "collapsed_sections": [],
      "name": "July05_0800_0_76088.ipynb",
      "provenance": [],
      "include_colab_link": true
    },
    "kernelspec": {
      "display_name": "Python 3",
      "language": "python",
      "name": "python3"
    },
    "language_info": {
      "codemirror_mode": {
        "name": "ipython",
        "version": 3
      },
      "file_extension": ".py",
      "mimetype": "text/x-python",
      "name": "python",
      "nbconvert_exporter": "python",
      "pygments_lexer": "ipython3",
      "version": "3.6.6"
    }
  },
  "nbformat": 4,
  "nbformat_minor": 0
}