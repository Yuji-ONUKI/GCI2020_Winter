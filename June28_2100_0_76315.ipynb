{
  "metadata": {
    "kernelspec": {
      "display_name": "Python 3",
      "language": "python",
      "name": "python3"
    },
    "language_info": {
      "name": "python",
      "version": "3.6.6",
      "mimetype": "text/x-python",
      "codemirror_mode": {
        "name": "ipython",
        "version": 3
      },
      "pygments_lexer": "ipython3",
      "nbconvert_exporter": "python",
      "file_extension": ".py"
    },
    "colab": {
      "name": "June28_2100_0.76315",
      "provenance": [],
      "collapsed_sections": [],
      "include_colab_link": true
    }
  },
  "nbformat_minor": 0,
  "nbformat": 4,
  "cells": [
    {
      "cell_type": "markdown",
      "metadata": {
        "id": "view-in-github",
        "colab_type": "text"
      },
      "source": [
        "<a href=\"https://colab.research.google.com/github/Yuji-ONUKI/GCI2020_Winter/blob/main/June28_2100_0_76315.ipynb\" target=\"_parent\"><img src=\"https://colab.research.google.com/assets/colab-badge.svg\" alt=\"Open In Colab\"/></a>"
      ]
    },
    {
      "cell_type": "code",
      "source": [
        "import pandas as pd\n",
        "import numpy as np\n",
        "from sklearn.preprocessing import MinMaxScaler, LabelEncoder\n",
        "from sklearn.model_selection import train_test_split\n",
        "from sklearn.metrics import accuracy_score, roc_auc_score, confusion_matrix\n",
        "from sklearn.feature_selection import VarianceThreshold\n",
        "import lightgbm as lgb\n",
        "import matplotlib.pyplot as plt\n",
        "import seaborn as sns\n",
        "\n",
        "print('Importing data...')\n",
        "# Google Colaboratoryで作業する場合はこちらも実行してください。\n",
        "from google.colab import drive\n",
        "drive.mount('/content/drive')\n",
        "# %cd 以降にこのnotebookを置いているディレクトリを指定してください。\n",
        "data = pd.read_csv(\"/content/drive/MyDrive/GCI/02.（公開）コンペ2-20220621T094535Z-001.zip (Unzipped Files)/02.（公開）コンペ2/input/train.csv\")\n",
        "test = pd.read_csv(\"/content/drive/MyDrive/GCI/02.（公開）コンペ2-20220621T094535Z-001.zip (Unzipped Files)/02.（公開）コンペ2/input/test.csv\")\n",
        "\n"
      ],
      "metadata": {
        "_uuid": "1ff174931af1e4c26e808ab542c8d0a299d08c09",
        "trusted": true,
        "colab": {
          "base_uri": "https://localhost:8080/"
        },
        "id": "HehSKiyFonMe",
        "outputId": "7e88f7f9-5b67-4d4f-f2df-5ea8b790752c"
      },
      "execution_count": 140,
      "outputs": [
        {
          "output_type": "stream",
          "name": "stdout",
          "text": [
            "Importing data...\n",
            "Drive already mounted at /content/drive; to attempt to forcibly remount, call drive.mount(\"/content/drive\", force_remount=True).\n"
          ]
        }
      ]
    },
    {
      "cell_type": "code",
      "source": [
        "#test = test[test.columns[data.isnull().mean() < 0.85]]\n",
        "#data = data[data.columns[data.isnull().mean() < 0.85]]"
      ],
      "metadata": {
        "_uuid": "71cb6a2bc692e7dc940ce445740e5bf067cc4e16",
        "trusted": true,
        "id": "TWiL7ZhXonMo"
      },
      "execution_count": 141,
      "outputs": []
    },
    {
      "cell_type": "code",
      "execution_count": 142,
      "metadata": {
        "id": "wcaqCGyJgUdx"
      },
      "outputs": [],
      "source": [
        "data['FLAG_NOT_EMPLOYED']=0\n",
        "data.loc[data['DAYS_EMPLOYED']==365243,'FLAG_NOT_EMPLOYED']=1\n",
        "#data.loc[data['DAYS_EMPLOYED']==365243,'DAYS_EMPLOYED']=np.NAN\n",
        "test['FLAG_NOT_EMPLOYED']=0\n",
        "test.loc[test['DAYS_EMPLOYED']==365243,'FLAG_NOT_EMPLOYED']=1\n",
        "#test.loc[test['DAYS_EMPLOYED']==365243,'DAYS_EMPLOYED']=np.NAN"
      ]
    },
    {
      "cell_type": "code",
      "source": [
        "cols =list(test.columns)\n",
        "cols"
      ],
      "metadata": {
        "_uuid": "d39bac7ac55b2843f952111194508968bad6597f",
        "trusted": true,
        "id": "TWS2OXgqonMp",
        "colab": {
          "base_uri": "https://localhost:8080/"
        },
        "outputId": "62b4765b-92ca-4a63-a550-02727ed437ad"
      },
      "execution_count": 143,
      "outputs": [
        {
          "output_type": "execute_result",
          "data": {
            "text/plain": [
              "['SK_ID_CURR',\n",
              " 'NAME_CONTRACT_TYPE',\n",
              " 'CODE_GENDER',\n",
              " 'FLAG_OWN_CAR',\n",
              " 'FLAG_OWN_REALTY',\n",
              " 'CNT_CHILDREN',\n",
              " 'AMT_INCOME_TOTAL',\n",
              " 'AMT_CREDIT',\n",
              " 'AMT_ANNUITY',\n",
              " 'AMT_GOODS_PRICE',\n",
              " 'NAME_TYPE_SUITE',\n",
              " 'NAME_INCOME_TYPE',\n",
              " 'NAME_EDUCATION_TYPE',\n",
              " 'NAME_FAMILY_STATUS',\n",
              " 'NAME_HOUSING_TYPE',\n",
              " 'REGION_POPULATION_RELATIVE',\n",
              " 'DAYS_BIRTH',\n",
              " 'DAYS_EMPLOYED',\n",
              " 'DAYS_REGISTRATION',\n",
              " 'DAYS_ID_PUBLISH',\n",
              " 'OWN_CAR_AGE',\n",
              " 'FLAG_MOBIL',\n",
              " 'FLAG_EMP_PHONE',\n",
              " 'FLAG_WORK_PHONE',\n",
              " 'FLAG_CONT_MOBILE',\n",
              " 'FLAG_PHONE',\n",
              " 'FLAG_EMAIL',\n",
              " 'OCCUPATION_TYPE',\n",
              " 'CNT_FAM_MEMBERS',\n",
              " 'REGION_RATING_CLIENT',\n",
              " 'REGION_RATING_CLIENT_W_CITY',\n",
              " 'REG_REGION_NOT_LIVE_REGION',\n",
              " 'REG_REGION_NOT_WORK_REGION',\n",
              " 'LIVE_REGION_NOT_WORK_REGION',\n",
              " 'REG_CITY_NOT_LIVE_CITY',\n",
              " 'REG_CITY_NOT_WORK_CITY',\n",
              " 'LIVE_CITY_NOT_WORK_CITY',\n",
              " 'ORGANIZATION_TYPE',\n",
              " 'EXT_SOURCE_1',\n",
              " 'EXT_SOURCE_2',\n",
              " 'EXT_SOURCE_3',\n",
              " 'OBS_30_CNT_SOCIAL_CIRCLE',\n",
              " 'DEF_30_CNT_SOCIAL_CIRCLE',\n",
              " 'OBS_60_CNT_SOCIAL_CIRCLE',\n",
              " 'DEF_60_CNT_SOCIAL_CIRCLE',\n",
              " 'DAYS_LAST_PHONE_CHANGE',\n",
              " 'AMT_REQ_CREDIT_BUREAU_HOUR',\n",
              " 'AMT_REQ_CREDIT_BUREAU_MON',\n",
              " 'AMT_REQ_CREDIT_BUREAU_QRT',\n",
              " 'AMT_REQ_CREDIT_BUREAU_YEAR',\n",
              " 'FLAG_NOT_EMPLOYED']"
            ]
          },
          "metadata": {},
          "execution_count": 143
        }
      ]
    },
    {
      "cell_type": "code",
      "source": [
        ""
      ],
      "metadata": {
        "id": "YMIQmpxB16vE"
      },
      "execution_count": 143,
      "outputs": []
    },
    {
      "cell_type": "code",
      "execution_count": 144,
      "metadata": {
        "id": "YbB7BC-ap5iK"
      },
      "outputs": [],
      "source": [
        "data['YEARS_BIRTH']=round(data['DAYS_BIRTH']/365)\n",
        "test['YEARS_BIRTH']=round(test['DAYS_BIRTH']/365)\n",
        "\n",
        "data['YEARS_ID_PUBLISH']=round(data['DAYS_ID_PUBLISH']/365)\n",
        "test['YEARS_ID_PUBLISH']=round(test['DAYS_ID_PUBLISH']/365)\n",
        "\n",
        "data['YEARS_REGISTRATION']=round(data['DAYS_REGISTRATION']/365)\n",
        "test['YEARS_REGISTRATION']=round(test['DAYS_REGISTRATION']/365)\n",
        "\n",
        "\n",
        "data['YEARS_EMPLOYED']=round(data['DAYS_EMPLOYED']/365)\n",
        "test['YEARS_EMPLOYED']=round(test['DAYS_EMPLOYED']/365)\n",
        "\n"
      ]
    },
    {
      "cell_type": "code",
      "source": [
        ""
      ],
      "metadata": {
        "id": "utnmj5332Ci1"
      },
      "execution_count": 144,
      "outputs": []
    },
    {
      "cell_type": "code",
      "execution_count": 145,
      "metadata": {
        "id": "VMv3GVRdNWe_"
      },
      "outputs": [],
      "source": [
        "dict={}\n",
        "for item in data['AMT_INCOME_TOTAL'].unique():\n",
        "  dict[item]=data.loc[data['AMT_INCOME_TOTAL']==item,'SK_ID_CURR'].count()\n",
        "df = pd.DataFrame.from_dict(dict,orient='index')\n",
        "\n",
        "items = list(df[df[0]>10])"
      ]
    },
    {
      "cell_type": "code",
      "execution_count": 146,
      "metadata": {
        "id": "zdHMsgUQMyin"
      },
      "outputs": [],
      "source": [
        "data['AMT_INCOME_TOTAL_2']=np.NAN\n",
        "test['AMT_INCOME_TOTAL_2']=np.NAN\n",
        "for item in items:\n",
        "  data.loc[data['AMT_INCOME_TOTAL']==item,'AMT_INCOME_TOTAL_2']=data.loc[data['AMT_INCOME_TOTAL']==item,'AMT_INCOME_TOTAL']\n",
        "  test.loc[test['AMT_INCOME_TOTAL']==item,'AMT_INCOME_TOTAL_2']=test.loc[test['AMT_INCOME_TOTAL']==item,'AMT_INCOME_TOTAL']\n",
        "\n",
        "data=pd.get_dummies(data,columns=['AMT_INCOME_TOTAL_2'])\n",
        "test=pd.get_dummies(test,columns={'AMT_INCOME_TOTAL_2'})"
      ]
    },
    {
      "cell_type": "code",
      "execution_count": 147,
      "metadata": {
        "colab": {
          "base_uri": "https://localhost:8080/"
        },
        "id": "EvbVtWnV-ksW",
        "outputId": "c70126a5-5dc2-40c1-fe63-f5270aa1157a"
      },
      "outputs": [
        {
          "output_type": "execute_result",
          "data": {
            "text/plain": [
              "array([0.072508, 0.04622 ])"
            ]
          },
          "metadata": {},
          "execution_count": 147
        }
      ],
      "source": [
        "data.loc[data['REGION_POPULATION_RELATIVE']>0.04,'REGION_POPULATION_RELATIVE'].unique()"
      ]
    },
    {
      "cell_type": "code",
      "execution_count": 148,
      "metadata": {
        "id": "0RnkvlFI-mxA"
      },
      "outputs": [],
      "source": [
        "data['REGION_POPULATION_RELATIVE_0.04622']=0\n",
        "data['REGION_POPULATION_RELATIVE'==0.4622,'REGION_POPULATION_RELATIVE_0.04622']=1\n",
        "data['REGION_POPULATION_RELATIVE'==0.4622,'REGION_POPULATION_RELATIVE']=np.nan\n",
        "\n",
        "test['REGION_POPULATION_RELATIVE_0.04622']=0\n",
        "test['REGION_POPULATION_RELATIVE'==0.4622,'REGION_POPULATION_RELATIVE_0.04622']=1\n",
        "test['REGION_POPULATION_RELATIVE'==0.4622,'REGION_POPULATION_RELATIVE']=np.nan\n",
        "\n",
        "data['REGION_POPULATION_RELATIVE_0.072508']=0\n",
        "data['REGION_POPULATION_RELATIVE'==0.072508,'REGION_POPULATION_RELATIVE_0.072508']=1\n",
        "data['REGION_POPULATION_RELATIVE'==0.072508,'REGION_POPULATION_RELATIVE']=np.nan\n",
        "\n",
        "test['REGION_POPULATION_RELATIVE_0.072508']=0\n",
        "test['REGION_POPULATION_RELATIVE'==0.072508,'REGION_POPULATION_RELATIVE_0.072508']=1\n",
        "test['REGION_POPULATION_RELATIVE'==0.072508,'REGION_POPULATION_RELATIVE']=np.nan"
      ]
    },
    {
      "cell_type": "code",
      "execution_count": 149,
      "metadata": {
        "id": "o3KNWUU8yasX"
      },
      "outputs": [],
      "source": [
        "data['OWN_CAR_AGE_64']=0\n",
        "data['OWN_CAR_AGE'==64,'OWN_CAR_AGE_64']=1\n",
        "data['OWN_CAR_AGE'==64,'OWN_CAR_AGE']=np.nan\n",
        "\n",
        "test['OWN_CAR_AGE_64']=0\n",
        "test['OWN_CAR_AGE'==64,'OWN_CAR_AGE_64']=1\n",
        "test['OWN_CAR_AGE'==64,'OWN_CAR_AGE']=np.nan\n",
        "\n",
        "data['OWN_CAR_AGE_65']=0\n",
        "data['OWN_CAR_AGE'==65,'OWN_CAR_AGE_65']=1\n",
        "data['OWN_CAR_AGE'==65,'OWN_CAR_AGE']=np.nan\n",
        "\n",
        "test['OWN_CAR_AGE_65']=0\n",
        "test['OWN_CAR_AGE'==65,'OWN_CAR_AGE_65']=1\n",
        "test['OWN_CAR_AGE'==65,'OWN_CAR_AGE']=np.nan\n"
      ]
    },
    {
      "cell_type": "code",
      "execution_count": 150,
      "metadata": {
        "id": "v29vVfC0ljQm"
      },
      "outputs": [],
      "source": [
        "data['LOW_DEFAULT_ORG']=0\n",
        "data.loc[data['ORGANIZATION_TYPE']=='Industry: type 12','LOW_DEFAULT_ORG' ]=1\n",
        "data.loc[data['ORGANIZATION_TYPE']=='Trade: type 4','LOW_DEFAULT_ORG' ]=1\n",
        "test['LOW_DEFAULT_ORG']=0\n",
        "test.loc[test['ORGANIZATION_TYPE']=='Industry: type 12','LOW_DEFAULT_ORG' ]=1\n",
        "test.loc[test['ORGANIZATION_TYPE']=='Trade: type 4','LOW_DEFAULT_ORG' ]=1\n",
        "\n",
        "data['HIGH_DEFAULT_ORG']=0\n",
        "data.loc[data['ORGANIZATION_TYPE']=='Transport: type 3','HIGH_DEFAULT_ORG']=1\n",
        "test['HIGH_DEFAULT_ORG']=0\n",
        "test.loc[test['ORGANIZATION_TYPE']=='Transport: type 3','HIGH_DEFAULT_ORG']=1"
      ]
    },
    {
      "cell_type": "code",
      "execution_count": 151,
      "metadata": {
        "id": "5pYCjGXmwz-2"
      },
      "outputs": [],
      "source": [
        "# 欠測値であれば'_NAN'を加えたカラムを作る\n",
        "def flag_isNan(column_target):\n",
        "  if type(column_target)==str:\n",
        "    data[column_target+'_NAN']=0\n",
        "    test[column_target+'_NAN']=0\n",
        "    #\n",
        "    data.loc[data[column_target].isna(),column_target+'_NAN']=1\n",
        "    test.loc[test[column_target].isna(),column_target+'_NAN']=1"
      ]
    },
    {
      "cell_type": "code",
      "source": [
        "list(test.dtypes[data.dtypes=='float'].keys())"
      ],
      "metadata": {
        "colab": {
          "base_uri": "https://localhost:8080/"
        },
        "id": "kvnyK8cwqoVL",
        "outputId": "8c73d0b3-6a61-4ca3-840c-db812aa0cba4"
      },
      "execution_count": 152,
      "outputs": [
        {
          "output_type": "execute_result",
          "data": {
            "text/plain": [
              "['AMT_INCOME_TOTAL',\n",
              " 'AMT_CREDIT',\n",
              " 'AMT_ANNUITY',\n",
              " 'AMT_GOODS_PRICE',\n",
              " 'REGION_POPULATION_RELATIVE',\n",
              " 'DAYS_REGISTRATION',\n",
              " 'OWN_CAR_AGE',\n",
              " 'CNT_FAM_MEMBERS',\n",
              " 'EXT_SOURCE_1',\n",
              " 'EXT_SOURCE_2',\n",
              " 'EXT_SOURCE_3',\n",
              " 'OBS_30_CNT_SOCIAL_CIRCLE',\n",
              " 'DEF_30_CNT_SOCIAL_CIRCLE',\n",
              " 'OBS_60_CNT_SOCIAL_CIRCLE',\n",
              " 'DEF_60_CNT_SOCIAL_CIRCLE',\n",
              " 'DAYS_LAST_PHONE_CHANGE',\n",
              " 'AMT_REQ_CREDIT_BUREAU_HOUR',\n",
              " 'AMT_REQ_CREDIT_BUREAU_MON',\n",
              " 'AMT_REQ_CREDIT_BUREAU_QRT',\n",
              " 'AMT_REQ_CREDIT_BUREAU_YEAR',\n",
              " 'YEARS_BIRTH',\n",
              " 'YEARS_ID_PUBLISH',\n",
              " 'YEARS_REGISTRATION',\n",
              " 'YEARS_EMPLOYED',\n",
              " (False, 'REGION_POPULATION_RELATIVE'),\n",
              " (False, 'OWN_CAR_AGE')]"
            ]
          },
          "metadata": {},
          "execution_count": 152
        }
      ]
    },
    {
      "cell_type": "code",
      "execution_count": 153,
      "metadata": {
        "id": "UtcXCBAGzfQZ"
      },
      "outputs": [],
      "source": [
        "for col in ['AMT_INCOME_TOTAL',\n",
        " 'AMT_CREDIT',\n",
        " 'AMT_ANNUITY',\n",
        " 'AMT_GOODS_PRICE',\n",
        " 'REGION_POPULATION_RELATIVE',\n",
        " 'DAYS_REGISTRATION',\n",
        " 'OWN_CAR_AGE',\n",
        " 'CNT_FAM_MEMBERS',\n",
        " 'EXT_SOURCE_1',\n",
        " 'EXT_SOURCE_2',\n",
        " 'EXT_SOURCE_3',\n",
        " 'OBS_30_CNT_SOCIAL_CIRCLE',\n",
        " 'DEF_30_CNT_SOCIAL_CIRCLE',\n",
        " 'OBS_60_CNT_SOCIAL_CIRCLE',\n",
        " 'DEF_60_CNT_SOCIAL_CIRCLE',\n",
        " 'DAYS_LAST_PHONE_CHANGE',\n",
        " 'AMT_REQ_CREDIT_BUREAU_HOUR',\n",
        " 'AMT_REQ_CREDIT_BUREAU_MON',\n",
        " 'AMT_REQ_CREDIT_BUREAU_QRT',\n",
        " 'AMT_REQ_CREDIT_BUREAU_YEAR',\n",
        " 'YEARS_BIRTH',\n",
        " 'YEARS_ID_PUBLISH',\n",
        " 'YEARS_REGISTRATION',\n",
        " 'YEARS_EMPLOYED',\n",
        " #(False, 'REGION_POPULATION_RELATIVE'),\n",
        " #(False, 'OWN_CAR_AGE')\n",
        " ]:\n",
        "  if (test.loc[test[col].isna(),'SK_ID_CURR'].count()>0):\n",
        "    flag_isNan(col)"
      ]
    },
    {
      "cell_type": "code",
      "execution_count": 154,
      "metadata": {
        "id": "NOeyCa9ylhzq"
      },
      "outputs": [],
      "source": [
        "#for col in list(test.dtypes[data.dtypes!='float'].keys()):\n",
        "#  if (test.loc[test[col].isna(),'SK_ID_CURR'].count()>0):\n",
        "#    flag_isNan(col)"
      ]
    },
    {
      "cell_type": "code",
      "execution_count": 155,
      "metadata": {
        "id": "COyKL4UZZZYc"
      },
      "outputs": [],
      "source": [
        "data['RT_CREDIT']=data['AMT_CREDIT']/data['AMT_INCOME_TOTAL']\n",
        "test['RT_CREDIT']=test['AMT_CREDIT']/test['AMT_INCOME_TOTAL']\n",
        "\n",
        "#data['FLAG_RT_CREDIT_OVER1']=0\n",
        "#test['FLAG_RT_CREDIT_OVER1']=0\n",
        "#data.loc[data['RT_CREDIT']>1,'FLAG_RT_CREDIT_OVER1']=1\n",
        "#test.loc[data['RT_CREDIT']>1,'FLAG_RT_CREDIT_OVER1']=1"
      ]
    },
    {
      "cell_type": "code",
      "execution_count": 156,
      "metadata": {
        "id": "zpaSJddDn5TT"
      },
      "outputs": [],
      "source": [
        "data['ROUND_RT_CREDIT']=round(data['RT_CREDIT'])\n",
        "data['ROUND_RT_CREDIT'].fillna(0,inplace=True)\n",
        "data.loc[data['ROUND_RT_CREDIT']>6,'ROUND_RT_CREDIT']=6\n",
        "data['ROUND_RT_CREDIT']=data['ROUND_RT_CREDIT'].astype(str)\n",
        "\n",
        "data=pd.get_dummies(data,columns=['ROUND_RT_CREDIT'])\n",
        "\n",
        "test['ROUND_RT_CREDIT']=round(test['RT_CREDIT'])\n",
        "test['ROUND_RT_CREDIT'].fillna(0,inplace=True)\n",
        "test.loc[test['ROUND_RT_CREDIT']>6,'ROUND_RT_CREDIT']=6\n",
        "test['ROUND_RT_CREDIT']=test['ROUND_RT_CREDIT'].astype(str)\n",
        "\n",
        "test=pd.get_dummies(test,columns=['ROUND_RT_CREDIT'])"
      ]
    },
    {
      "cell_type": "code",
      "execution_count": 157,
      "metadata": {
        "id": "3sqbzKd94syY"
      },
      "outputs": [],
      "source": [
        "data['AGE_EMP']=data['YEARS_BIRTH']-data['YEARS_EMPLOYED']\n",
        "test['AGE_EMP']=test['YEARS_BIRTH']-test['YEARS_EMPLOYED']\n",
        "\n",
        "# 26歳までの上昇局面とそれ以降の下降局面を別のカラムにする\n",
        "data['AGE_EMP1']=np.NAN\n",
        "test['AGE_EMP1']=np.NAN\n",
        "data.loc[data['AGE_EMP']<-26,'AGE_EMP1']=data['AGE_EMP']\n",
        "test.loc[test['AGE_EMP']<-26,'AGE_EMP1']=test['AGE_EMP']\n",
        "data.loc[data['AGE_EMP']<-26,'AGE_EMP']=np.NAN\n",
        "test.loc[test['AGE_EMP']<-26,'AGE_EMP']=np.NAN"
      ]
    },
    {
      "cell_type": "code",
      "source": [
        "#data['TMP_FLAG_OWN_REALTY']=data['FLAG_OWN_REALTY']\n",
        "#data.loc[data['TMP_FLAG_OWN_REALTY'].isna(),'TMP_FLAG_OWN_REALTY']='O'\n",
        "#data['ROUND_AMT_INCOME_TOTAL']=round(data['AMT_INCOME_TOTAL']/100000)\n",
        "#data.loc[data['ROUND_AMT_INCOME_TOTAL']>6,'ROUND_AMT_INCOME_TOTAL']=6\n",
        "#data['ROUND_AMT_INCOME_TOTAL']=data['ROUND_AMT_INCOME_TOTAL'].astype(str)\n",
        "#data['ROUND_RT_CREDIT']=round(data['RT_CREDIT'])\n",
        "#data.loc[data['ROUND_RT_CREDIT']>6,'ROUND_RT_CREDIT']=6\n",
        "#data['ROUND_RT_CREDIT'].fillna(0,inplace=True)\n",
        "#data['ROUND_RT_CREDIT']=data['ROUND_RT_CREDIT'].astype(str)\n",
        "#data['REALTY_INCOME_CREDIT']=data['TMP_FLAG_OWN_REALTY']+data['ROUND_AMT_INCOME_TOTAL']+data['ROUND_RT_CREDIT']\n",
        "#data.drop(['TMP_FLAG_OWN_REALTY'], axis=1, inplace=True)\n",
        "#data.drop(['ROUND_AMT_INCOME_TOTAL'], axis=1, inplace=True)\n",
        "#data.drop(['ROUND_RT_CREDIT'], axis=1, inplace=True)\n",
        "\n",
        "#test['TMP_FLAG_OWN_REALTY']=test['FLAG_OWN_REALTY']\n",
        "#test.loc[test['TMP_FLAG_OWN_REALTY'].isna(),'TMP_FLAG_OWN_REALTY']='O'\n",
        "#test['ROUND_AMT_INCOME_TOTAL']=round(test['AMT_INCOME_TOTAL']/100000)\n",
        "#test['ROUND_AMT_INCOME_TOTAL'].fillna(0,inplace=True)\n",
        "#test.loc[test['ROUND_AMT_INCOME_TOTAL']>6,'ROUND_AMT_INCOME_TOTAL']=6\n",
        "#test['ROUND_AMT_INCOME_TOTAL']=test['ROUND_AMT_INCOME_TOTAL'].astype(str)\n",
        "#test['ROUND_RT_CREDIT']=round(test['RT_CREDIT'])\n",
        "#test.loc[test['ROUND_RT_CREDIT']>6,'ROUND_RT_CREDIT']=6\n",
        "#test['ROUND_RT_CREDIT'].fillna(0,inplace=True)\n",
        "#test['ROUND_RT_CREDIT']=test['ROUND_RT_CREDIT'].astype(str)\n",
        "#test['REALTY_INCOME_CREDIT']=test['TMP_FLAG_OWN_REALTY']+test['ROUND_AMT_INCOME_TOTAL']+test['ROUND_RT_CREDIT']"
      ],
      "metadata": {
        "id": "qA2NRgcEC6EF"
      },
      "execution_count": 158,
      "outputs": []
    },
    {
      "cell_type": "code",
      "source": [
        "#data['ROUND_EXT_SOURCE_1']=round(data['EXT_SOURCE_1']*100)\n",
        "#data['ROUND_EXT_SOURCE_2']=round(data['EXT_SOURCE_2']*100)\n",
        "#data['ROUND_EXT_SOURCE_3']=round(data['EXT_SOURCE_3']*100)\n",
        "\n",
        "#test['ROUND_EXT_SOURCE_1']=round(test['EXT_SOURCE_1']*100)\n",
        "#test['ROUND_EXT_SOURCE_2']=round(test['EXT_SOURCE_2']*100)\n",
        "#test['ROUND_EXT_SOURCE_3']=round(test['EXT_SOURCE_3']*100)"
      ],
      "metadata": {
        "id": "5cJpga-BIi85"
      },
      "execution_count": 159,
      "outputs": []
    },
    {
      "cell_type": "code",
      "source": [
        "t1=data.loc[data['TARGET']==1]\n",
        "t0=data.loc[data['TARGET']==0]\n",
        "ta=data\n",
        "def addColumnOfNumber(column_target):\n",
        "    column_new = 'NEW_NUM_'+column_target\n",
        "    cats = ta[column_target].unique()\n",
        "\n",
        "    dict={}\n",
        "    for cat in cats:\n",
        "      dict[cat]=(t1.loc[ta[column_target]==cat,'SK_ID_CURR'].count()/ta.loc[ta[column_target]==cat,'SK_ID_CURR'].count()).astype(str)\n",
        "\n",
        "    data[column_new]=data[column_target]\n",
        "    test[column_new]=test[column_target]\n",
        "\n",
        "    data[column_new]=data[column_new].map(dict)\n",
        "    test[column_new]=test[column_new].map(dict)\n",
        "\n",
        "    data[column_new]=data[column_new].astype(float)\n",
        "    test[column_new]=test[column_new].astype(float)"
      ],
      "metadata": {
        "id": "9EGH5oBkDAwL"
      },
      "execution_count": 160,
      "outputs": []
    },
    {
      "cell_type": "code",
      "source": [
        "#addColumnOfNumber('REALTY_INCOME_CREDIT')\n",
        "#addColumnOfNumber('ROUND_EXT_SOURCE_1')\n",
        "#addColumnOfNumber('ROUND_EXT_SOURCE_2')\n",
        "#addColumnOfNumber('ROUND_EXT_SOURCE_3')"
      ],
      "metadata": {
        "id": "7wNq5TNgDPIo"
      },
      "execution_count": 161,
      "outputs": []
    },
    {
      "cell_type": "code",
      "source": [
        "# Create an anomalous flag column\n",
        "data['DAYS_EMPLOYED_ANOM'] = data[\"DAYS_EMPLOYED\"] == 365243\n",
        "\n",
        "# Replace the anomalous values with nan\n",
        "data['DAYS_EMPLOYED'].replace({365243: np.nan}, inplace = True)\n",
        "\n",
        "# Create an anomalous flag column\n",
        "test['DAYS_EMPLOYED_ANOM'] = test[\"DAYS_EMPLOYED\"] == 365243\n",
        "\n",
        "# Replace the anomalous values with nan\n",
        "test['DAYS_EMPLOYED'].replace({365243: np.nan}, inplace = True)"
      ],
      "metadata": {
        "_uuid": "1fe25018b69513696fa11a9f75d548e95010ffa2",
        "trusted": true,
        "id": "y40rbuRAonMq"
      },
      "execution_count": 162,
      "outputs": []
    },
    {
      "cell_type": "code",
      "source": [
        "data['DAYS_LAST_PHONE_CHANGE'].replace(0, np.nan, inplace=True)\n",
        "test['DAYS_LAST_PHONE_CHANGE'].replace(0, np.nan, inplace=True)\n",
        "\n",
        "data['YEARS_LAST_PHONE_CHANGE']=round(data['DAYS_LAST_PHONE_CHANGE']/365)\n",
        "test['YEARS_LAST_PHONE_CHANGE']=round(test['DAYS_LAST_PHONE_CHANGE']/365)\n",
        "\n",
        "data['MONTH_LAST_PHONE_CHANGE']=round(data['DAYS_LAST_PHONE_CHANGE']/30)\n",
        "test['MONTH_LAST_PHONE_CHANGE']=round(test['DAYS_LAST_PHONE_CHANGE']/30)"
      ],
      "metadata": {
        "_uuid": "f655026a52241ad6f63bd8260420edb648790bd9",
        "trusted": true,
        "id": "Ozd_2gLronMr"
      },
      "execution_count": 163,
      "outputs": []
    },
    {
      "cell_type": "code",
      "source": [
        "\n",
        "#Separate target variable\n",
        "y = data['TARGET']\n",
        "del data['TARGET']\n",
        "\n",
        "#One-hot encoding of categorical features in data and test sets\n",
        "categorical_features = [col for col in data.columns if data[col].dtype == 'object']\n",
        "\n",
        "one_hot_df = pd.concat([data,test])\n",
        "one_hot_df = pd.get_dummies(one_hot_df, columns=categorical_features)\n",
        "\n",
        "data = one_hot_df.iloc[:data.shape[0],:]\n",
        "test = one_hot_df.iloc[data.shape[0]:,]\n",
        "\n"
      ],
      "metadata": {
        "id": "-cbgC9G8yy8-"
      },
      "execution_count": 164,
      "outputs": []
    },
    {
      "cell_type": "code",
      "source": [
        "# Align data and test\n",
        "\n",
        "data_labels = y\n",
        "\n",
        "# Align the dataing and testing data, keep only columns present in both dataframes\n",
        "data, test = data.align(test, join = 'inner', axis = 1)\n",
        "\n",
        "# Add the target back in\n",
        "data['TARGET'] = y\n",
        "\n",
        "print('dataing Features shape: ', data.shape)\n",
        "print('Testing Features shape: ', test.shape)"
      ],
      "metadata": {
        "_uuid": "6e757d42434a84f5ea6f0db4504d0dec3ed77b09",
        "trusted": true,
        "colab": {
          "base_uri": "https://localhost:8080/"
        },
        "id": "jkf6FEVeonMu",
        "outputId": "de77ffa1-7c78-4d20-a809-0c74f6754551"
      },
      "execution_count": 165,
      "outputs": [
        {
          "output_type": "stream",
          "name": "stdout",
          "text": [
            "dataing Features shape:  (171202, 201)\n",
            "Testing Features shape:  (61500, 200)\n"
          ]
        }
      ]
    },
    {
      "cell_type": "code",
      "source": [
        "test['DAYS_EMPLOYED_ANOM'] = test[\"DAYS_EMPLOYED\"] == 365243\n",
        "test[\"DAYS_EMPLOYED\"].replace({365243: np.nan}, inplace = True)\n",
        "\n",
        "print('There are %d anomalies in the test data out of %d entries' % (test[\"DAYS_EMPLOYED_ANOM\"].sum(), len(test)))"
      ],
      "metadata": {
        "_uuid": "5f551a724dc078d9f896ad928d064dd034b62f6a",
        "trusted": true,
        "colab": {
          "base_uri": "https://localhost:8080/"
        },
        "id": "6gFmtjzWonMv",
        "outputId": "418d208d-bc0c-47bf-8b0b-d31da66f8417"
      },
      "execution_count": 166,
      "outputs": [
        {
          "output_type": "stream",
          "name": "stdout",
          "text": [
            "There are 0 anomalies in the test data out of 61500 entries\n"
          ]
        }
      ]
    },
    {
      "cell_type": "code",
      "source": [
        "#data['EXT_SOURCE_1_y']"
      ],
      "metadata": {
        "_uuid": "b7badfd2cfe1d10c58987c50eb9073d6fc7a7793",
        "trusted": true,
        "id": "sSJNDcVzonMv"
      },
      "execution_count": 167,
      "outputs": []
    },
    {
      "cell_type": "code",
      "source": [
        "#Polynomial Features\n",
        "\n",
        "# Make a new dataframe for polynomial features\n",
        "poly_features = data[['EXT_SOURCE_1', 'EXT_SOURCE_2', 'EXT_SOURCE_3', 'DAYS_BIRTH', 'TARGET']]\n",
        "poly_features_test = test[['EXT_SOURCE_1', 'EXT_SOURCE_2', 'EXT_SOURCE_3', 'DAYS_BIRTH']]\n",
        "\n",
        "# imputer for handling missing values\n",
        "from sklearn.impute import SimpleImputer\n",
        "imputer = SimpleImputer(strategy = 'median')\n",
        "\n",
        "poly_target = poly_features['TARGET']\n",
        "\n",
        "poly_features = poly_features.drop(columns = ['TARGET'])\n",
        "\n",
        "# Need to impute missing values\n",
        "poly_features = imputer.fit_transform(poly_features)\n",
        "poly_features_test = imputer.transform(poly_features_test)\n",
        "\n",
        "from sklearn.preprocessing import PolynomialFeatures\n",
        "                                  \n",
        "# Create the polynomial object with specified degree\n",
        "poly_transformer = PolynomialFeatures(degree = 3)"
      ],
      "metadata": {
        "_uuid": "736bdd44bf134095f687e2e3b91196d56cc71c53",
        "trusted": true,
        "id": "Q9bMtZCTonMw"
      },
      "execution_count": 168,
      "outputs": []
    },
    {
      "cell_type": "code",
      "source": [
        "# data the polynomial features\n",
        "poly_transformer.fit(poly_features)\n",
        "\n",
        "# Transform the features\n",
        "poly_features = poly_transformer.transform(poly_features)\n",
        "poly_features_test = poly_transformer.transform(poly_features_test)\n",
        "print('Polynomial Features shape: ', poly_features.shape)"
      ],
      "metadata": {
        "_uuid": "61ee5da3f1dbcb10867ff7c585745f3808e570e5",
        "trusted": true,
        "colab": {
          "base_uri": "https://localhost:8080/"
        },
        "id": "_-IaPc9eonMw",
        "outputId": "54a9ffae-33ec-4521-e11e-65b5191ac52a"
      },
      "execution_count": 169,
      "outputs": [
        {
          "output_type": "stream",
          "name": "stdout",
          "text": [
            "Polynomial Features shape:  (171202, 35)\n"
          ]
        }
      ]
    },
    {
      "cell_type": "code",
      "source": [
        "poly_transformer.get_feature_names(input_features = ['EXT_SOURCE_1', 'EXT_SOURCE_2', 'EXT_SOURCE_3', 'DAYS_BIRTH'])[:15]"
      ],
      "metadata": {
        "_uuid": "c9b450d23bba070a887b0a4ed3bbb0d9f0e29499",
        "trusted": true,
        "colab": {
          "base_uri": "https://localhost:8080/"
        },
        "id": "xJjUa1VbonMx",
        "outputId": "fb63a5ea-5d2e-442b-eb80-c4f5bf2e16a2"
      },
      "execution_count": 170,
      "outputs": [
        {
          "output_type": "stream",
          "name": "stderr",
          "text": [
            "/usr/local/lib/python3.7/dist-packages/sklearn/utils/deprecation.py:87: FutureWarning: Function get_feature_names is deprecated; get_feature_names is deprecated in 1.0 and will be removed in 1.2. Please use get_feature_names_out instead.\n",
            "  warnings.warn(msg, category=FutureWarning)\n"
          ]
        },
        {
          "output_type": "execute_result",
          "data": {
            "text/plain": [
              "['1',\n",
              " 'EXT_SOURCE_1',\n",
              " 'EXT_SOURCE_2',\n",
              " 'EXT_SOURCE_3',\n",
              " 'DAYS_BIRTH',\n",
              " 'EXT_SOURCE_1^2',\n",
              " 'EXT_SOURCE_1 EXT_SOURCE_2',\n",
              " 'EXT_SOURCE_1 EXT_SOURCE_3',\n",
              " 'EXT_SOURCE_1 DAYS_BIRTH',\n",
              " 'EXT_SOURCE_2^2',\n",
              " 'EXT_SOURCE_2 EXT_SOURCE_3',\n",
              " 'EXT_SOURCE_2 DAYS_BIRTH',\n",
              " 'EXT_SOURCE_3^2',\n",
              " 'EXT_SOURCE_3 DAYS_BIRTH',\n",
              " 'DAYS_BIRTH^2']"
            ]
          },
          "metadata": {},
          "execution_count": 170
        }
      ]
    },
    {
      "cell_type": "code",
      "source": [
        "# Create a dataframe of the features \n",
        "poly_features = pd.DataFrame(poly_features, \n",
        "                             columns = poly_transformer.get_feature_names(['EXT_SOURCE_1', 'EXT_SOURCE_2', \n",
        "                                                                           'EXT_SOURCE_3', 'DAYS_BIRTH']))\n",
        "\n",
        "# Add in the target\n",
        "poly_features['TARGET'] = poly_target\n",
        "\n",
        "# Find the correlations with the target\n",
        "poly_corrs = poly_features.corr()['TARGET'].sort_values()\n",
        "\n",
        "# Display most negative and most positive\n",
        "print(poly_corrs.head(20))\n",
        "print(poly_corrs.tail(20))"
      ],
      "metadata": {
        "_uuid": "153207b73e2b7977487c84cc9260323e30f3561a",
        "trusted": true,
        "colab": {
          "base_uri": "https://localhost:8080/"
        },
        "id": "Bo1ma7ZponMx",
        "outputId": "ffb7495b-9955-42c4-bf42-1ef54db6655e"
      },
      "execution_count": 171,
      "outputs": [
        {
          "output_type": "stream",
          "name": "stderr",
          "text": [
            "/usr/local/lib/python3.7/dist-packages/sklearn/utils/deprecation.py:87: FutureWarning: Function get_feature_names is deprecated; get_feature_names is deprecated in 1.0 and will be removed in 1.2. Please use get_feature_names_out instead.\n",
            "  warnings.warn(msg, category=FutureWarning)\n"
          ]
        },
        {
          "output_type": "stream",
          "name": "stdout",
          "text": [
            "EXT_SOURCE_2 EXT_SOURCE_3                -0.190619\n",
            "EXT_SOURCE_1 EXT_SOURCE_2 EXT_SOURCE_3   -0.187364\n",
            "EXT_SOURCE_2^2 EXT_SOURCE_3              -0.174604\n",
            "EXT_SOURCE_2 EXT_SOURCE_3^2              -0.169516\n",
            "EXT_SOURCE_1 EXT_SOURCE_2                -0.165062\n",
            "EXT_SOURCE_2                             -0.162383\n",
            "EXT_SOURCE_1 EXT_SOURCE_2^2              -0.155854\n",
            "EXT_SOURCE_2^2                           -0.151487\n",
            "EXT_SOURCE_1 EXT_SOURCE_3                -0.150418\n",
            "EXT_SOURCE_3                             -0.142190\n",
            "EXT_SOURCE_2^3                           -0.142178\n",
            "EXT_SOURCE_1 EXT_SOURCE_3^2              -0.138980\n",
            "EXT_SOURCE_1^2 EXT_SOURCE_2              -0.138804\n",
            "EXT_SOURCE_2 DAYS_BIRTH^2                -0.135825\n",
            "EXT_SOURCE_3^2                           -0.129820\n",
            "EXT_SOURCE_1^2 EXT_SOURCE_3              -0.127705\n",
            "EXT_SOURCE_3 DAYS_BIRTH^2                -0.120932\n",
            "EXT_SOURCE_3^3                           -0.117608\n",
            "EXT_SOURCE_1 DAYS_BIRTH^2                -0.090729\n",
            "EXT_SOURCE_1                             -0.081994\n",
            "Name: TARGET, dtype: float64\n",
            "EXT_SOURCE_3 DAYS_BIRTH^2              -0.120932\n",
            "EXT_SOURCE_3^3                         -0.117608\n",
            "EXT_SOURCE_1 DAYS_BIRTH^2              -0.090729\n",
            "EXT_SOURCE_1                           -0.081994\n",
            "DAYS_BIRTH^2                           -0.077987\n",
            "EXT_SOURCE_1^2                         -0.075605\n",
            "EXT_SOURCE_1^3                         -0.068726\n",
            "DAYS_BIRTH^3                            0.075583\n",
            "DAYS_BIRTH                              0.079541\n",
            "EXT_SOURCE_1^2 DAYS_BIRTH               0.089520\n",
            "EXT_SOURCE_1 DAYS_BIRTH                 0.097990\n",
            "EXT_SOURCE_3^2 DAYS_BIRTH               0.133807\n",
            "EXT_SOURCE_3 DAYS_BIRTH                 0.141401\n",
            "EXT_SOURCE_1 EXT_SOURCE_3 DAYS_BIRTH    0.143557\n",
            "EXT_SOURCE_2^2 DAYS_BIRTH               0.152261\n",
            "EXT_SOURCE_1 EXT_SOURCE_2 DAYS_BIRTH    0.157203\n",
            "EXT_SOURCE_2 DAYS_BIRTH                 0.159863\n",
            "EXT_SOURCE_2 EXT_SOURCE_3 DAYS_BIRTH    0.179790\n",
            "TARGET                                  1.000000\n",
            "1                                            NaN\n",
            "Name: TARGET, dtype: float64\n"
          ]
        }
      ]
    },
    {
      "cell_type": "code",
      "source": [
        "# Put test features into dataframe\n",
        "poly_features_test = pd.DataFrame(poly_features_test, \n",
        "                                  columns = poly_transformer.get_feature_names(['EXT_SOURCE_1', 'EXT_SOURCE_2', \n",
        "                                                                                'EXT_SOURCE_3', 'DAYS_BIRTH']))\n",
        "\n",
        "# Merge polynomial features into dataing dataframe\n",
        "poly_features['SK_ID_CURR'] = data['SK_ID_CURR']\n",
        "app_train_poly = data.merge(poly_features, on = 'SK_ID_CURR', how = 'left')\n",
        "\n",
        "# Merge polnomial features into testing dataframe\n",
        "poly_features_test['SK_ID_CURR'] = test['SK_ID_CURR']\n",
        "app_test_poly = test.merge(poly_features_test, on = 'SK_ID_CURR', how = 'left')\n",
        "\n",
        "# Align the dataframes\n",
        "app_train_poly, app_test_poly = app_train_poly.align(app_test_poly, join = 'inner', axis = 1)\n",
        "\n",
        "# Print out the new shapes\n",
        "print('dataing data with polynomial features shape: ', app_train_poly.shape)\n",
        "print('Testing data with polynomial features shape:  ', app_test_poly.shape)"
      ],
      "metadata": {
        "_uuid": "9b871b3d3c3779694cc5a91e2871f1843f50ea10",
        "trusted": true,
        "colab": {
          "base_uri": "https://localhost:8080/"
        },
        "id": "bWg1TKruonMy",
        "outputId": "733afe1e-62c9-498c-eb3a-c42c34db0649"
      },
      "execution_count": 172,
      "outputs": [
        {
          "output_type": "stream",
          "name": "stderr",
          "text": [
            "/usr/local/lib/python3.7/dist-packages/sklearn/utils/deprecation.py:87: FutureWarning: Function get_feature_names is deprecated; get_feature_names is deprecated in 1.0 and will be removed in 1.2. Please use get_feature_names_out instead.\n",
            "  warnings.warn(msg, category=FutureWarning)\n"
          ]
        },
        {
          "output_type": "stream",
          "name": "stdout",
          "text": [
            "dataing data with polynomial features shape:  (171202, 235)\n",
            "Testing data with polynomial features shape:   (61500, 235)\n"
          ]
        }
      ]
    },
    {
      "cell_type": "code",
      "source": [
        "app_train_poly.head()\n",
        "\n",
        "app_train_poly=app_train_poly.rename(columns={'EXT_SOURCE_1_x':'EXT_SOURCE_1','EXT_SOURCE_2_x':'EXT_SOURCE_2','EXT_SOURCE_3_x':'EXT_SOURCE_3','DAYS_BIRTH_x':'DAYS_BIRTH'})\n",
        "#app_train_poly=app_train_poly.drop('1',inplace=True)\n",
        "\n",
        "app_test_poly=app_test_poly.rename(columns={'EXT_SOURCE_1_x':'EXT_SOURCE_1','EXT_SOURCE_2_x':'EXT_SOURCE_2','EXT_SOURCE_3_x':'EXT_SOURCE_3','DAYS_BIRTH_x':'DAYS_BIRTH'})"
      ],
      "metadata": {
        "_uuid": "caa0f8362cb926895b0fdfcbaf4e10142bdd59aa",
        "trusted": true,
        "id": "Nx8q0Wt8onMy"
      },
      "execution_count": 173,
      "outputs": []
    },
    {
      "cell_type": "code",
      "source": [
        "app_test_poly.drop('1',axis=1,inplace=True)\n",
        "app_train_poly.drop('1',axis=1,inplace=True)"
      ],
      "metadata": {
        "_uuid": "a310f5f00e12cf5caa074727275b1fa2a9bb8351",
        "trusted": true,
        "id": "I4WHW6wqonMy"
      },
      "execution_count": 174,
      "outputs": []
    },
    {
      "cell_type": "code",
      "source": [
        "#app_train_poly['NAME_TYPE_SUITE_Spouse, partner_x']"
      ],
      "metadata": {
        "_uuid": "eeb37d66185421105ef0d95ddd62de144ac273d6",
        "trusted": true,
        "id": "EeXj1CY4onMz"
      },
      "execution_count": 175,
      "outputs": []
    },
    {
      "cell_type": "code",
      "source": [
        "# check and remove constant columns\n",
        "#colsToRemove = []\n",
        "#for col in app_train_poly.columns:\n",
        "#    if col != 'SK_ID_CURR' and col != 'TARGET':\n",
        "#        if app_train_poly[col].std() == 0: \n",
        "#            colsToRemove.append(col)\n",
        "        \n",
        "# remove constant columns in the training set\n",
        "#app_train_poly.drop(colsToRemove, axis=1, inplace=True)\n",
        "\n",
        "# remove constant columns in the test set\n",
        "#app_test_poly.drop(colsToRemove, axis=1, inplace=True) \n",
        "\n",
        "#print(\"Removed `{}` Constant Columns\\n\".format(len(colsToRemove)))\n",
        "#print(colsToRemove)"
      ],
      "metadata": {
        "_uuid": "3385d341e3db4d3cd7c8f1d822a1eaa9f962a4d9",
        "trusted": true,
        "id": "TXWT6dREonMz"
      },
      "execution_count": 176,
      "outputs": []
    },
    {
      "cell_type": "code",
      "source": [
        "#app_train_domain['SK_ID_CURR']"
      ],
      "metadata": {
        "_uuid": "c6db4452ac6ec7ff57e558e9e84809b019d84e06",
        "trusted": true,
        "id": "0XnhH-PDonMz"
      },
      "execution_count": 177,
      "outputs": []
    },
    {
      "cell_type": "code",
      "source": [
        "# create temp DF\n",
        "#data1 = pd.read_csv('../input/application_train.csv')\n",
        "#test1 = pd.read_csv('../input/application_test.csv')\n",
        "\n",
        "#app_train_domain = app_test_domain.drop('SK_ID_PREV_x',axis=1)\n",
        "#app_test_domain = app_test_domain.drop('SK_ID_PREV_x',axis=1)\n",
        "\n",
        "#app_train_domain = app_test_domain.drop('SK_ID_PREV_y',axis=1)\n",
        "#app_test_domain = app_test_domain.drop('SK_ID_PREV_y',axis=1)"
      ],
      "metadata": {
        "_uuid": "68e3df2199a9739da046815e73b6ab5e74014d41",
        "trusted": true,
        "id": "0yIeCNBOonM0"
      },
      "execution_count": 178,
      "outputs": []
    },
    {
      "cell_type": "code",
      "source": [
        "#app_train_poly['AMT_CREDIT'] = data1['AMT_CREDIT']\n",
        "#app_test_poly['AMT_CREDIT'] = test1['AMT_CREDIT']\n",
        "#app_train_poly['AMT_GOODS_PRICE'] = data1['AMT_GOODS_PRICE']\n",
        "#app_test_poly['AMT_GOODS_PRICE'] = test1['AMT_GOODS_PRICE']\n",
        "app_train_poly=app_train_poly.rename(columns={'AMT_CREDIT_x':'AMT_CREDIT','AMT_GOODS_PRICE_x':'AMT_GOODS_PRICE'})\n",
        "app_test_poly=app_test_poly.rename(columns={'AMT_CREDIT_x':'AMT_CREDIT','AMT_GOODS_PRICE_x':'AMT_GOODS_PRICE'})"
      ],
      "metadata": {
        "_uuid": "0e2e7d47f1cfb74e80fe0645cdf63f845ccfa24a",
        "trusted": true,
        "id": "EnrINXikonM0"
      },
      "execution_count": 179,
      "outputs": []
    },
    {
      "cell_type": "code",
      "source": [
        "#app_train_poly['AMT_ANNUITY_x']"
      ],
      "metadata": {
        "_uuid": "83924f6574e86c8afbc187448b21a96fd5b84957",
        "trusted": true,
        "id": "SwY10T5IonM1"
      },
      "execution_count": 180,
      "outputs": []
    },
    {
      "cell_type": "code",
      "source": [
        "app_train_domain = app_train_poly.copy()\n",
        "app_test_domain = app_test_poly.copy()\n",
        "\n",
        "app_train_domain['CREDIT_INCOME_PERCENT'] = app_train_domain['AMT_CREDIT'] / app_train_domain['AMT_INCOME_TOTAL']\n",
        "app_train_domain['ANNUITY_INCOME_PERCENT'] = app_train_domain['AMT_ANNUITY'] / app_train_domain['AMT_INCOME_TOTAL']\n",
        "app_train_domain['CREDIT_TERM'] = app_train_domain['AMT_ANNUITY'] / app_train_domain['AMT_CREDIT']\n",
        "app_train_domain['DAYS_EMPLOYED_PERCENT'] = app_train_domain['DAYS_EMPLOYED'] / app_train_domain['DAYS_BIRTH']\n",
        "app_train_domain['NEW_CREDIT_TO_ANNUITY_RATIO'] = app_train_domain['AMT_CREDIT'] / app_train_domain['AMT_ANNUITY']\n",
        "app_train_domain['NEW_CREDIT_TO_GOODS_RATIO'] = app_train_domain['AMT_CREDIT'] / app_train_domain['AMT_GOODS_PRICE']\n",
        "app_train_domain['NEW_EXT_SOURCES_MEAN'] = app_train_domain[['EXT_SOURCE_1', 'EXT_SOURCE_2', 'EXT_SOURCE_3']].mean(axis=1)\n",
        "app_train_domain['NEW_EMPLOY_TO_BIRTH_RATIO'] = app_train_domain['DAYS_EMPLOYED'] / app_train_domain['DAYS_BIRTH']\n",
        "#\n",
        "app_train_domain['NEW_EMPLOY_TO_BIRTH_NUM'] = app_train_domain['DAYS_BIRTH'] - app_train_domain['DAYS_EMPLOYED']\n",
        "app_train_domain['NEW_PHONE_TO_BIRTH_NUM'] = app_train_domain['DAYS_BIRTH'] - app_train_domain['DAYS_LAST_PHONE_CHANGE']\n",
        "app_train_domain['NEW_REGISTRATION_TO_BIRTH_NUM'] = app_train_domain['DAYS_BIRTH'] - app_train_domain['DAYS_REGISTRATION']\n",
        "app_train_domain['NEW_ID_PUBLISH_TO_BIRTH_NUM'] = app_train_domain['DAYS_BIRTH'] - app_train_domain['DAYS_ID_PUBLISH']\n",
        "app_train_domain['NEW_PHONE_TO_REGISTRATION_NUM'] = app_train_domain['DAYS_REGISTRATION'] - app_train_domain['DAYS_LAST_PHONE_CHANGE']\n",
        "app_train_domain['NEW_EMPLOY_TO_REGISTRATION_NUM'] = app_train_domain['DAYS_REGISTRATION'] - app_train_domain['DAYS_EMPLOYED']\n",
        "app_train_domain['NEW_ID_PUBLISH_TO_REGISTRATION_NUM'] = app_train_domain['DAYS_REGISTRATION'] - app_train_domain['DAYS_ID_PUBLISH']\n",
        "app_train_domain['NEW_PHONE_TO_EMPLOY_NUM'] = app_train_domain['DAYS_EMPLOYED'] - app_train_domain['DAYS_LAST_PHONE_CHANGE']\n",
        "app_train_domain['NEW_ID_PUBLISH_TO_EMPLOY_NUM'] = app_train_domain['DAYS_EMPLOYED'] - app_train_domain['DAYS_ID_PUBLISH']\n",
        "app_train_domain['NEW_REGION_RATING_CLIENT_NUM'] = app_train_domain['REGION_RATING_CLIENT_W_CITY'] - app_train_domain['REGION_RATING_CLIENT']\n",
        "app_train_domain['NEW_FAM_MEMBERS_NUM'] = app_train_domain['CNT_FAM_MEMBERS'] - app_train_domain['CNT_CHILDREN']\n",
        "app_train_domain['NEW_EMPLOY_TO_BIRTH_YEAR'] = app_train_domain['YEARS_BIRTH'] - app_train_domain['YEARS_EMPLOYED']\n",
        "app_train_domain['NEW_PHONE_TO_BIRTH_YEAR'] = app_train_domain['YEARS_BIRTH'] - app_train_domain['YEARS_LAST_PHONE_CHANGE']\n",
        "app_train_domain['NEW_REGISTRATION_TO_BIRTH_YEAR'] = app_train_domain['YEARS_BIRTH'] - app_train_domain['YEARS_REGISTRATION']\n",
        "app_train_domain['NEW_ID_PUBLISH_TO_BIRTH_YEAR'] = app_train_domain['YEARS_BIRTH'] - app_train_domain['YEARS_ID_PUBLISH']\n",
        "app_train_domain['NEW_OWN_CAR_TO_BIRTH_YEAR'] = app_train_domain['YEARS_BIRTH'] - app_train_domain['OWN_CAR_AGE']\n",
        "app_train_domain['NEW_PHONE_TO_REGISTRATION_YEAR'] = app_train_domain['YEARS_REGISTRATION'] - app_train_domain['YEARS_LAST_PHONE_CHANGE']\n",
        "app_train_domain['NEW_EMPLOY_TO_REGISTRATION_YEAR'] = app_train_domain['YEARS_REGISTRATION'] - app_train_domain['YEARS_EMPLOYED']\n",
        "app_train_domain['NEW_ID_PUBLISH_TO_REGISTRATION_YEAR'] = app_train_domain['YEARS_REGISTRATION'] - app_train_domain['YEARS_ID_PUBLISH']\n",
        "app_train_domain['NEW_OWN_CAR_TO_REGISTRATION_YEAR'] = app_train_domain['YEARS_REGISTRATION'] - app_train_domain['OWN_CAR_AGE']\n",
        "app_train_domain['NEW_PHONE_TO_EMPLOY_YEAR'] = app_train_domain['YEARS_EMPLOYED'] - app_train_domain['YEARS_LAST_PHONE_CHANGE']\n",
        "app_train_domain['NEW_ID_PUBLISH_TO_EMPLOY_YEAR'] = app_train_domain['YEARS_EMPLOYED'] - app_train_domain['YEARS_ID_PUBLISH']\n",
        "app_train_domain['NEW_OWN_CAR_TO_EMPLOY_YEAR'] = app_train_domain['YEARS_EMPLOYED'] - app_train_domain['OWN_CAR_AGE']\n",
        "app_train_domain['NEW_ID_PUBLISH_TO_OWN_CAR'] = app_train_domain['OWN_CAR_AGE'] - app_train_domain['YEARS_ID_PUBLISH']"
      ],
      "metadata": {
        "_uuid": "6b77e86a1f80af0623a4bdc6572b1e7d64f868cb",
        "trusted": true,
        "id": "-37XbYmgonM1"
      },
      "execution_count": 181,
      "outputs": []
    },
    {
      "cell_type": "code",
      "source": [
        "app_test_domain['CREDIT_INCOME_PERCENT'] = app_test_domain['AMT_CREDIT'] / app_test_domain['AMT_INCOME_TOTAL']\n",
        "app_test_domain['ANNUITY_INCOME_PERCENT'] = app_test_domain['AMT_ANNUITY'] / app_test_domain['AMT_INCOME_TOTAL']\n",
        "app_test_domain['CREDIT_TERM'] = app_test_domain['AMT_ANNUITY'] / app_test_domain['AMT_CREDIT']\n",
        "app_test_domain['DAYS_EMPLOYED_PERCENT'] = app_test_domain['DAYS_EMPLOYED'] / app_test_domain['DAYS_BIRTH']\n",
        "\n",
        "app_test_domain['NEW_CREDIT_TO_ANNUITY_RATIO'] = app_test_domain['AMT_CREDIT'] / app_test_domain['AMT_ANNUITY']\n",
        "app_test_domain['NEW_CREDIT_TO_GOODS_RATIO'] = app_test_domain['AMT_CREDIT'] / app_test_domain['AMT_GOODS_PRICE']\n",
        "app_test_domain['NEW_EXT_SOURCES_MEAN'] = app_test_domain[['EXT_SOURCE_1', 'EXT_SOURCE_2', 'EXT_SOURCE_3']].mean(axis=1)\n",
        "app_test_domain['NEW_EMPLOY_TO_BIRTH_RATIO'] = app_test_domain['DAYS_EMPLOYED'] / app_test_domain['DAYS_BIRTH']\n",
        "\n",
        "#\n",
        "app_test_domain['NEW_EMPLOY_TO_BIRTH_NUM'] = app_test_domain['DAYS_BIRTH'] - app_test_domain['DAYS_EMPLOYED']\n",
        "app_test_domain['NEW_PHONE_TO_BIRTH_NUM'] = app_test_domain['DAYS_BIRTH'] - app_test_domain['DAYS_LAST_PHONE_CHANGE']\n",
        "app_test_domain['NEW_REGISTRATION_TO_BIRTH_NUM'] = app_test_domain['DAYS_BIRTH'] - app_test_domain['DAYS_REGISTRATION']\n",
        "app_test_domain['NEW_ID_PUBLISH_TO_BIRTH_NUM'] = app_test_domain['DAYS_BIRTH'] - app_test_domain['DAYS_ID_PUBLISH']\n",
        "app_test_domain['NEW_PHONE_TO_REGISTRATION_NUM'] = app_test_domain['DAYS_REGISTRATION'] - app_test_domain['DAYS_LAST_PHONE_CHANGE']\n",
        "app_test_domain['NEW_EMPLOY_TO_REGISTRATION_NUM'] = app_test_domain['DAYS_REGISTRATION'] - app_test_domain['DAYS_EMPLOYED']\n",
        "app_test_domain['NEW_ID_PUBLISH_TO_REGISTRATION_NUM'] = app_test_domain['DAYS_REGISTRATION'] - app_test_domain['DAYS_ID_PUBLISH']\n",
        "app_test_domain['NEW_PHONE_TO_EMPLOY_NUM'] = app_test_domain['DAYS_EMPLOYED'] - app_test_domain['DAYS_LAST_PHONE_CHANGE']\n",
        "app_test_domain['NEW_ID_PUBLISH_TO_EMPLOY_NUM'] = app_test_domain['DAYS_EMPLOYED'] - app_test_domain['DAYS_ID_PUBLISH']\n",
        "app_test_domain['NEW_REGION_RATING_CLIENT_NUM'] = app_test_domain['REGION_RATING_CLIENT_W_CITY'] - app_test_domain['REGION_RATING_CLIENT']\n",
        "app_test_domain['NEW_FAM_MEMBERS_NUM'] = app_test_domain['CNT_FAM_MEMBERS'] - app_test_domain['CNT_CHILDREN']\n",
        "app_test_domain['NEW_EMPLOY_TO_BIRTH_YEAR'] = app_test_domain['YEARS_BIRTH'] - app_test_domain['YEARS_EMPLOYED']\n",
        "app_test_domain['NEW_PHONE_TO_BIRTH_YEAR'] = app_test_domain['YEARS_BIRTH'] - app_test_domain['YEARS_LAST_PHONE_CHANGE']\n",
        "app_test_domain['NEW_REGISTRATION_TO_BIRTH_YEAR'] = app_test_domain['YEARS_BIRTH'] - app_test_domain['YEARS_REGISTRATION']\n",
        "app_test_domain['NEW_ID_PUBLISH_TO_BIRTH_YEAR'] = app_test_domain['YEARS_BIRTH'] - app_test_domain['YEARS_ID_PUBLISH']\n",
        "app_test_domain['NEW_OWN_CAR_TO_BIRTH_YEAR'] = app_test_domain['YEARS_BIRTH'] - app_test_domain['OWN_CAR_AGE']\n",
        "app_test_domain['NEW_PHONE_TO_REGISTRATION_YEAR'] = app_test_domain['YEARS_REGISTRATION'] - app_test_domain['YEARS_LAST_PHONE_CHANGE']\n",
        "app_test_domain['NEW_EMPLOY_TO_REGISTRATION_YEAR'] = app_test_domain['YEARS_REGISTRATION'] - app_test_domain['YEARS_EMPLOYED']\n",
        "app_test_domain['NEW_ID_PUBLISH_TO_REGISTRATION_YEAR'] = app_test_domain['YEARS_REGISTRATION'] - app_test_domain['YEARS_ID_PUBLISH']\n",
        "app_test_domain['NEW_OWN_CAR_TO_REGISTRATION_YEAR'] = app_test_domain['YEARS_REGISTRATION'] - app_test_domain['OWN_CAR_AGE']\n",
        "app_test_domain['NEW_PHONE_TO_EMPLOY_YEAR'] = app_test_domain['YEARS_EMPLOYED'] - app_test_domain['YEARS_LAST_PHONE_CHANGE']\n",
        "app_test_domain['NEW_ID_PUBLISH_TO_EMPLOY_YEAR'] = app_test_domain['YEARS_EMPLOYED'] - app_test_domain['YEARS_ID_PUBLISH']\n",
        "app_test_domain['NEW_OWN_CAR_TO_EMPLOY_YEAR'] = app_test_domain['YEARS_EMPLOYED'] - app_test_domain['OWN_CAR_AGE']\n",
        "app_test_domain['NEW_ID_PUBLISH_TO_OWN_CAR'] = app_test_domain['OWN_CAR_AGE'] - app_test_domain['YEARS_ID_PUBLISH']"
      ],
      "metadata": {
        "_uuid": "4505cd992232d3158315214fedfd525c4c9977e9",
        "trusted": true,
        "id": "YK6YfTJJonM1"
      },
      "execution_count": 182,
      "outputs": []
    },
    {
      "cell_type": "code",
      "source": [
        "app_train_domain['TARGET'] = poly_target\n",
        "print('Training data with polynomial features shape: ', app_train_domain.shape)\n",
        "print('Testing data with polynomial features shape:  ', app_test_domain.shape)"
      ],
      "metadata": {
        "_uuid": "5ea0b3d3ee19c8adfb307fd13f53e02f018be762",
        "trusted": true,
        "id": "2HYOhQeFonM2",
        "colab": {
          "base_uri": "https://localhost:8080/"
        },
        "outputId": "f8568d85-a0d5-4c62-d707-460c5e6e7241"
      },
      "execution_count": 183,
      "outputs": [
        {
          "output_type": "stream",
          "name": "stdout",
          "text": [
            "Training data with polynomial features shape:  (171202, 267)\n",
            "Testing data with polynomial features shape:   (61500, 266)\n"
          ]
        }
      ]
    },
    {
      "cell_type": "code",
      "source": [
        "#app_train_domain = app_train_domain[app_train_domain.columns[app_train_domain.isnull().mean() < 0.80]]\n",
        "#app_test_domain = app_test_domain[app_test_domain.columns[app_test_domain.isnull().mean() < 0.80]]\n",
        "#print('Training data with polynomial features shape: ', app_train_domain.shape)\n",
        "#print('Testing data with polynomial features shape:  ', app_test_domain.shape)"
      ],
      "metadata": {
        "_uuid": "336e903a7a4c4be26bc3cc4943cd11c243970c02",
        "trusted": true,
        "id": "b_eUsThqonM2"
      },
      "execution_count": 184,
      "outputs": []
    },
    {
      "cell_type": "code",
      "source": [
        "#app_train_domain = app_test_domain.drop('AMT_ANNUITY',axis=1)\n",
        "#app_test_domain = app_test_domain.drop('AMT_ANNUITY',axis=1)"
      ],
      "metadata": {
        "_uuid": "d6d064e084efb6373abd92c4961fab4552b02d71",
        "trusted": true,
        "id": "CWyvuokconM2"
      },
      "execution_count": 185,
      "outputs": []
    },
    {
      "cell_type": "code",
      "source": [
        "#app_train_domain['TARGET']"
      ],
      "metadata": {
        "_uuid": "f293952bbffde2a8b4e6ad4524cf9de08eb8e6dd",
        "trusted": true,
        "id": "xwfRLeVoonM2"
      },
      "execution_count": 186,
      "outputs": []
    },
    {
      "cell_type": "code",
      "source": [
        "app_train_domain['TARGET'] = poly_target\n",
        "print('Training data with polynomial features shape: ', app_train_domain.shape)\n",
        "print('Testing data with polynomial features shape:  ', app_test_domain.shape)"
      ],
      "metadata": {
        "_uuid": "f4621c5cdf5ed89f3a3806f689e93c64bd1d4fae",
        "trusted": true,
        "id": "Pf7NVRztonM3",
        "colab": {
          "base_uri": "https://localhost:8080/"
        },
        "outputId": "3b9a8a5b-e627-45a2-c539-49701ccc7eae"
      },
      "execution_count": 187,
      "outputs": [
        {
          "output_type": "stream",
          "name": "stdout",
          "text": [
            "Training data with polynomial features shape:  (171202, 267)\n",
            "Testing data with polynomial features shape:   (61500, 266)\n"
          ]
        }
      ]
    },
    {
      "cell_type": "code",
      "source": [
        "#app_train_domain = app_train_domain.reindex(\n",
        " #   np.random.permutation(app_train_domain.index))"
      ],
      "metadata": {
        "_uuid": "b50311403d93e99586819404a60997fd815db0cf",
        "trusted": true,
        "id": "cHKp00mAonM3"
      },
      "execution_count": 188,
      "outputs": []
    },
    {
      "cell_type": "code",
      "source": [
        "#app_train_domain=app_train_domain.drop('TARGET',axis=1)\n",
        "#app_train_domain = np.log1p(app_train_domain)\n",
        "#app_test_domain=np.log1p(app_test_domain)\n",
        "#print('Training data with polynomial features shape: ', app_train_domain.shape)\n",
        "#print('Testing data with polynomial features shape:  ', app_test_domain.shape)"
      ],
      "metadata": {
        "_uuid": "70d8c21e78526c445819b3f78647ab3bcd0615de",
        "trusted": true,
        "id": "vann9ARGonM3"
      },
      "execution_count": 189,
      "outputs": []
    },
    {
      "cell_type": "code",
      "source": [
        "from sklearn.model_selection import KFold\n",
        "from sklearn.metrics import roc_auc_score\n",
        "import lightgbm as lgb\n",
        "import gc\n",
        "\n",
        "def model(features, test_features, encoding = 'ohe', n_folds =5 ):\n",
        "    \n",
        "    \"\"\"Train and test a light gradient boosting model using\n",
        "    cross validation. \n",
        "    \n",
        "    Parameters\n",
        "    --------\n",
        "        features (pd.DataFrame): \n",
        "            dataframe of training features to use \n",
        "            for training a model. Must include the TARGET column.\n",
        "        test_features (pd.DataFrame): \n",
        "            dataframe of testing features to use\n",
        "            for making predictions with the model. \n",
        "        encoding (str, default = 'ohe'): \n",
        "            method for encoding categorical variables. Either 'ohe' for one-hot encoding or 'le' for integer label encoding\n",
        "            n_folds (int, default = 5): number of folds to use for cross validation\n",
        "        \n",
        "    Return\n",
        "    --------\n",
        "        submission (pd.DataFrame): \n",
        "            dataframe with `SK_ID_CURR` and `TARGET` probabilities\n",
        "            predicted by the model.\n",
        "        feature_importances (pd.DataFrame): \n",
        "            dataframe with the feature importances from the model.\n",
        "        valid_metrics (pd.DataFrame): \n",
        "            dataframe with training and validation metrics (ROC AUC) for each fold and overall.\n",
        "        \n",
        "    \"\"\"\n",
        "    \n",
        "    # Extract the ids\n",
        "    train_ids = features['SK_ID_CURR']\n",
        "    test_ids = test_features['SK_ID_CURR']\n",
        "    \n",
        "    # Extract the labels for training\n",
        "    labels = features['TARGET']\n",
        "    \n",
        "    # Remove the ids and target\n",
        "    features = features.drop(columns = ['SK_ID_CURR', 'TARGET'])\n",
        "    test_features = test_features.drop(columns = ['SK_ID_CURR'])\n",
        "    \n",
        "    \n",
        "    # One Hot Encoding\n",
        "    if encoding == 'ohe':\n",
        "        features = pd.get_dummies(features)\n",
        "        test_features = pd.get_dummies(test_features)\n",
        "        \n",
        "        # Align the dataframes by the columns\n",
        "        features, test_features = features.align(test_features, join = 'inner', axis = 1)\n",
        "        \n",
        "        # No categorical indices to record\n",
        "        cat_indices = 'auto'\n",
        "    \n",
        "    # Integer label encoding\n",
        "    elif encoding == 'le':\n",
        "        \n",
        "        # Create a label encoder\n",
        "        label_encoder = LabelEncoder()\n",
        "        \n",
        "        # List for storing categorical indices\n",
        "        cat_indices = []\n",
        "        \n",
        "        # Iterate through each column\n",
        "        for i, col in enumerate(features):\n",
        "            if features[col].dtype == 'object':\n",
        "                # Map the categorical features to integers\n",
        "                features[col] = label_encoder.fit_transform(np.array(features[col].astype(str)).reshape((-1,)))\n",
        "                test_features[col] = label_encoder.transform(np.array(test_features[col].astype(str)).reshape((-1,)))\n",
        "\n",
        "                # Record the categorical indices\n",
        "                cat_indices.append(i)\n",
        "    \n",
        "    # Catch error if label encoding scheme is not valid\n",
        "    else:\n",
        "        raise ValueError(\"Encoding must be either 'ohe' or 'le'\")\n",
        "        \n",
        "    print('Training Data Shape: ', features.shape)\n",
        "    print('Testing Data Shape: ', test_features.shape)\n",
        "    \n",
        "    # Extract feature names\n",
        "    feature_names = list(features.columns)\n",
        "    \n",
        "    # Convert to np arrays\n",
        "    features = np.array(features)\n",
        "    test_features = np.array(test_features)\n",
        "    \n",
        "    # Create the kfold object\n",
        "    k_fold = KFold(n_splits = n_folds, shuffle = True, random_state = 50)\n",
        "    \n",
        "    # Empty array for feature importances\n",
        "    feature_importance_values = np.zeros(len(feature_names))\n",
        "    \n",
        "    # Empty array for test predictions\n",
        "    test_predictions = np.zeros(test_features.shape[0])\n",
        "    \n",
        "    # Empty array for out of fold validation predictions\n",
        "    out_of_fold = np.zeros(features.shape[0])\n",
        "    \n",
        "    # Lists for recording validation and training scores\n",
        "    valid_scores = []\n",
        "    train_scores = []\n",
        "    \n",
        "    # Iterate through each fold\n",
        "    for train_indices, valid_indices in k_fold.split(features):\n",
        "        \n",
        "        # Training data for the fold\n",
        "        train_features, train_labels = features[train_indices], labels[train_indices]\n",
        "        # Validation data for the fold\n",
        "        valid_features, valid_labels = features[valid_indices], labels[valid_indices]\n",
        "        \n",
        "        # Create the model\n",
        "        model = lgb.LGBMClassifier(n_estimators=10000, nthread=4,objective = 'binary', \n",
        "                                   class_weight = 'balanced', learning_rate = 0.015, \n",
        "                                   reg_alpha = 0.041545473, reg_lambda = 0.1, \n",
        "                                   n_jobs = -1, random_state = 50,num_leaves=32,colsample_bytree=.9497036,subsample=.8715623,\n",
        "                                  max_depth=5,min_split_gain=.0222415,min_child_weight=39.3259775,max_bin=200,num_boost_round=3000,min_data_in_leaf=100,bagging_fraction=0.5,bagging_freq=10)\n",
        "        \n",
        "        # Train the model\n",
        "        model.fit(train_features, train_labels, eval_metric = 'auc',\n",
        "                  eval_set = [(valid_features, valid_labels), (train_features, train_labels)],\n",
        "                  eval_names = ['valid', 'train'], categorical_feature = cat_indices,\n",
        "                  early_stopping_rounds = 100, verbose = 200)\n",
        "        \n",
        "        # Record the best iteration\n",
        "        best_iteration = model.best_iteration_\n",
        "        \n",
        "        # Record the feature importances\n",
        "        feature_importance_values += model.feature_importances_ / k_fold.n_splits\n",
        "        \n",
        "        # Make predictions\n",
        "        test_predictions += model.predict_proba(test_features, num_iteration = best_iteration)[:, 1] / k_fold.n_splits\n",
        "        \n",
        "        # Record the out of fold predictions\n",
        "        out_of_fold[valid_indices] = model.predict_proba(valid_features, num_iteration = best_iteration)[:, 1]\n",
        "        \n",
        "        # Record the best score\n",
        "        valid_score = model.best_score_['valid']['auc']\n",
        "        train_score = model.best_score_['train']['auc']\n",
        "        \n",
        "        valid_scores.append(valid_score)\n",
        "        train_scores.append(train_score)\n",
        "        \n",
        "        # Clean up memory\n",
        "        gc.enable()\n",
        "        del model, train_features, valid_features\n",
        "        gc.collect()\n",
        "        \n",
        "    # Make the submission dataframe\n",
        "    submission = pd.DataFrame({'SK_ID_CURR': test_ids, 'TARGET': test_predictions})\n",
        "    \n",
        "    # Make the feature importance dataframe\n",
        "    feature_importances = pd.DataFrame({'feature': feature_names, 'importance': feature_importance_values})\n",
        "    \n",
        "    # Overall validation score\n",
        "    valid_auc = roc_auc_score(labels, out_of_fold)\n",
        "    \n",
        "    # Add the overall scores to the metrics\n",
        "    valid_scores.append(valid_auc)\n",
        "    train_scores.append(np.mean(train_scores))\n",
        "    \n",
        "    # Needed for creating dataframe of validation scores\n",
        "    fold_names = list(range(n_folds))\n",
        "    fold_names.append('overall')\n",
        "    \n",
        "    # Dataframe of validation scores\n",
        "    metrics = pd.DataFrame({'fold': fold_names,\n",
        "                            'train': train_scores,\n",
        "                            'valid': valid_scores}) \n",
        "    \n",
        "    return submission, feature_importances, metrics"
      ],
      "metadata": {
        "_uuid": "b5b517cbd8769326456ce8936659088c2445859b",
        "trusted": true,
        "id": "W9WgYpa-onM4"
      },
      "execution_count": 190,
      "outputs": []
    },
    {
      "cell_type": "code",
      "source": [
        "submission, fi, metrics = model(app_train_domain, app_test_domain)\n",
        "print('Baseline metrics')\n",
        "print(metrics)"
      ],
      "metadata": {
        "_uuid": "a1c8b9a78defac7e48f7188ce2b0dc851c1b5788",
        "trusted": true,
        "id": "-yJV0Cm9onM4",
        "colab": {
          "base_uri": "https://localhost:8080/"
        },
        "outputId": "bb04f002-9e53-4a96-fe40-9e16678c0132"
      },
      "execution_count": 191,
      "outputs": [
        {
          "output_type": "stream",
          "name": "stdout",
          "text": [
            "Training Data Shape:  (171202, 265)\n",
            "Testing Data Shape:  (61500, 265)\n"
          ]
        },
        {
          "output_type": "stream",
          "name": "stderr",
          "text": [
            "/usr/local/lib/python3.7/dist-packages/lightgbm/engine.py:118: UserWarning: Found `num_boost_round` in params. Will use it instead of argument\n",
            "  warnings.warn(\"Found `{}` in params. Will use it instead of argument\".format(alias))\n"
          ]
        },
        {
          "output_type": "stream",
          "name": "stdout",
          "text": [
            "Training until validation scores don't improve for 100 rounds.\n",
            "[200]\ttrain's auc: 0.766866\ttrain's binary_logloss: 0.58085\tvalid's auc: 0.751107\tvalid's binary_logloss: 0.582091\n",
            "[400]\ttrain's auc: 0.784362\ttrain's binary_logloss: 0.561574\tvalid's auc: 0.759347\tvalid's binary_logloss: 0.567602\n",
            "[600]\ttrain's auc: 0.795097\ttrain's binary_logloss: 0.550599\tvalid's auc: 0.761461\tvalid's binary_logloss: 0.55993\n",
            "[800]\ttrain's auc: 0.804386\ttrain's binary_logloss: 0.541187\tvalid's auc: 0.763319\tvalid's binary_logloss: 0.554717\n",
            "[1000]\ttrain's auc: 0.812058\ttrain's binary_logloss: 0.533353\tvalid's auc: 0.763739\tvalid's binary_logloss: 0.551667\n",
            "Early stopping, best iteration is:\n",
            "[997]\ttrain's auc: 0.811888\ttrain's binary_logloss: 0.533512\tvalid's auc: 0.763755\tvalid's binary_logloss: 0.551523\n"
          ]
        },
        {
          "output_type": "stream",
          "name": "stderr",
          "text": [
            "/usr/local/lib/python3.7/dist-packages/lightgbm/engine.py:118: UserWarning: Found `num_boost_round` in params. Will use it instead of argument\n",
            "  warnings.warn(\"Found `{}` in params. Will use it instead of argument\".format(alias))\n"
          ]
        },
        {
          "output_type": "stream",
          "name": "stdout",
          "text": [
            "Training until validation scores don't improve for 100 rounds.\n",
            "[200]\ttrain's auc: 0.766862\ttrain's binary_logloss: 0.581127\tvalid's auc: 0.750526\tvalid's binary_logloss: 0.584709\n",
            "[400]\ttrain's auc: 0.783849\ttrain's binary_logloss: 0.562496\tvalid's auc: 0.757877\tvalid's binary_logloss: 0.571681\n",
            "[600]\ttrain's auc: 0.795238\ttrain's binary_logloss: 0.550647\tvalid's auc: 0.759992\tvalid's binary_logloss: 0.565081\n",
            "[800]\ttrain's auc: 0.803973\ttrain's binary_logloss: 0.541615\tvalid's auc: 0.761314\tvalid's binary_logloss: 0.558743\n",
            "Early stopping, best iteration is:\n",
            "[870]\ttrain's auc: 0.807078\ttrain's binary_logloss: 0.538295\tvalid's auc: 0.761591\tvalid's binary_logloss: 0.559317\n"
          ]
        },
        {
          "output_type": "stream",
          "name": "stderr",
          "text": [
            "/usr/local/lib/python3.7/dist-packages/lightgbm/engine.py:118: UserWarning: Found `num_boost_round` in params. Will use it instead of argument\n",
            "  warnings.warn(\"Found `{}` in params. Will use it instead of argument\".format(alias))\n"
          ]
        },
        {
          "output_type": "stream",
          "name": "stdout",
          "text": [
            "Training until validation scores don't improve for 100 rounds.\n",
            "[200]\ttrain's auc: 0.7664\ttrain's binary_logloss: 0.581416\tvalid's auc: 0.754217\tvalid's binary_logloss: 0.580593\n",
            "[400]\ttrain's auc: 0.784807\ttrain's binary_logloss: 0.561505\tvalid's auc: 0.760216\tvalid's binary_logloss: 0.567364\n",
            "[600]\ttrain's auc: 0.79547\ttrain's binary_logloss: 0.550401\tvalid's auc: 0.761648\tvalid's binary_logloss: 0.562025\n",
            "[800]\ttrain's auc: 0.805605\ttrain's binary_logloss: 0.540253\tvalid's auc: 0.762048\tvalid's binary_logloss: 0.555338\n",
            "[1000]\ttrain's auc: 0.814337\ttrain's binary_logloss: 0.531458\tvalid's auc: 0.762611\tvalid's binary_logloss: 0.549766\n",
            "[1200]\ttrain's auc: 0.821891\ttrain's binary_logloss: 0.523625\tvalid's auc: 0.762984\tvalid's binary_logloss: 0.544333\n",
            "[1400]\ttrain's auc: 0.829021\ttrain's binary_logloss: 0.516101\tvalid's auc: 0.763175\tvalid's binary_logloss: 0.541128\n",
            "Early stopping, best iteration is:\n",
            "[1410]\ttrain's auc: 0.829285\ttrain's binary_logloss: 0.515814\tvalid's auc: 0.763293\tvalid's binary_logloss: 0.540808\n"
          ]
        },
        {
          "output_type": "stream",
          "name": "stderr",
          "text": [
            "/usr/local/lib/python3.7/dist-packages/lightgbm/engine.py:118: UserWarning: Found `num_boost_round` in params. Will use it instead of argument\n",
            "  warnings.warn(\"Found `{}` in params. Will use it instead of argument\".format(alias))\n"
          ]
        },
        {
          "output_type": "stream",
          "name": "stdout",
          "text": [
            "Training until validation scores don't improve for 100 rounds.\n",
            "[200]\ttrain's auc: 0.769687\ttrain's binary_logloss: 0.578436\tvalid's auc: 0.740462\tvalid's binary_logloss: 0.584993\n",
            "[400]\ttrain's auc: 0.78781\ttrain's binary_logloss: 0.558272\tvalid's auc: 0.746747\tvalid's binary_logloss: 0.570772\n",
            "[600]\ttrain's auc: 0.797789\ttrain's binary_logloss: 0.547844\tvalid's auc: 0.748439\tvalid's binary_logloss: 0.563895\n",
            "[800]\ttrain's auc: 0.807209\ttrain's binary_logloss: 0.538142\tvalid's auc: 0.749049\tvalid's binary_logloss: 0.558596\n",
            "Early stopping, best iteration is:\n",
            "[740]\ttrain's auc: 0.804734\ttrain's binary_logloss: 0.540822\tvalid's auc: 0.749407\tvalid's binary_logloss: 0.560541\n"
          ]
        },
        {
          "output_type": "stream",
          "name": "stderr",
          "text": [
            "/usr/local/lib/python3.7/dist-packages/lightgbm/engine.py:118: UserWarning: Found `num_boost_round` in params. Will use it instead of argument\n",
            "  warnings.warn(\"Found `{}` in params. Will use it instead of argument\".format(alias))\n"
          ]
        },
        {
          "output_type": "stream",
          "name": "stdout",
          "text": [
            "Training until validation scores don't improve for 100 rounds.\n",
            "[200]\ttrain's auc: 0.769031\ttrain's binary_logloss: 0.578988\tvalid's auc: 0.741079\tvalid's binary_logloss: 0.583624\n",
            "[400]\ttrain's auc: 0.786744\ttrain's binary_logloss: 0.559112\tvalid's auc: 0.748387\tvalid's binary_logloss: 0.568126\n",
            "[600]\ttrain's auc: 0.797633\ttrain's binary_logloss: 0.548087\tvalid's auc: 0.750933\tvalid's binary_logloss: 0.561973\n",
            "[800]\ttrain's auc: 0.807659\ttrain's binary_logloss: 0.537848\tvalid's auc: 0.752477\tvalid's binary_logloss: 0.556935\n",
            "Early stopping, best iteration is:\n",
            "[809]\ttrain's auc: 0.808156\ttrain's binary_logloss: 0.537275\tvalid's auc: 0.752579\tvalid's binary_logloss: 0.55633\n",
            "Baseline metrics\n",
            "      fold     train     valid\n",
            "0        0  0.811888  0.763755\n",
            "1        1  0.807078  0.761591\n",
            "2        2  0.829285  0.763293\n",
            "3        3  0.804734  0.749407\n",
            "4        4  0.808156  0.752579\n",
            "5  overall  0.812228  0.758108\n"
          ]
        }
      ]
    },
    {
      "cell_type": "markdown",
      "source": [
        "June27_11:00\n",
        "      fold     train     valid\n",
        "\n",
        "* 0    0.812380    0.763470\n",
        "* 1    0.800873    0.761361\n",
        "* 2    0.829364    0.763497\n",
        "* 3    0.804734    0.749407\n",
        "* 4    0.808092    0.752702\n",
        "*  overall  0.811088  0.758063\n",
        "\n",
        "This is 0.76335 on leader board\n",
        "\n",
        "June27　1530　（Ext_1-3を100で導入）\n",
        "      fold     train     valid\n",
        "*        0  0.812034  0.763665\n",
        "*        1  0.814457  0.761841\n",
        "*        2  0.795298  0.761181\n",
        "*        3  0.804273  0.749477\n",
        "*        4  0.806116  0.753385\n",
        "*  overall  0.806436  0.757831\n",
        "\n",
        "June27 1630 (Realty_Income_Credit_Num)\n",
        "\n",
        "      fold     train     valid\n",
        "*        0  0.811275  0.764974\n",
        "*        1  0.810877  0.763801\n",
        "*        2  0.806269  0.763429\n",
        "*        3  0.818493  0.751784\n",
        "*        4  0.807860  0.754887\n",
        "*  overall  0.810955  0.759639\n",
        "\n",
        "June27 1700 (Ext1_3 Num)\n",
        "\n",
        "      fold     train     valid\n",
        "*        0  0.812888  0.763947\n",
        "*        1  0.803323  0.762918\n",
        "*        2  0.821568  0.765399\n",
        "*        3  0.817804  0.753279\n",
        "*        4  0.808146  0.754978\n",
        "*  overall  0.812746  0.760012\n",
        "\n",
        "This is 0.7596 on Public Leader Board\n",
        "\n",
        "      fold     train     valid\n",
        "*        0  0.811275  0.764974\n",
        "*        1  0.810877  0.763801\n",
        "*        2  0.806269  0.763429\n",
        "*        3  0.818493  0.751784\n",
        "*        4  0.807860  0.754887\n",
        "*  overall  0.810955  0.759639\n",
        "\n",
        "This is 0.75981 on Public Leader Board\n",
        "\n",
        "This is 0.76315 on Public Leader Board\n",
        "\n",
        "      fold     train     valid\n",
        "*        0  0.811888  0.763755\n",
        "*        1  0.807078  0.761591\n",
        "*        2  0.829285  0.763293\n",
        "*        3  0.804734  0.749407\n",
        "*        4  0.808156  0.752579\n",
        "*  overall  0.812228  0.758108\n",
        "\n",
        "This is 0.76342 on Public Leader BoardThis is 0.76342 on Public Leader Board\n",
        "\n"
      ],
      "metadata": {
        "id": "lxaVrnbTh3N5"
      }
    },
    {
      "cell_type": "code",
      "source": [
        "def plot_feature_importances(df):\n",
        "    \"\"\"\n",
        "    Plot importances returned by a model. This can work with any measure of\n",
        "    feature importance provided that higher importance is better. \n",
        "    \n",
        "    Args:\n",
        "        df (dataframe): feature importances. Must have the features in a column\n",
        "        called `features` and the importances in a column called `importance\n",
        "        \n",
        "    Returns:\n",
        "        shows a plot of the 15 most importance features\n",
        "        \n",
        "        df (dataframe): feature importances sorted by importance (highest to lowest) \n",
        "        with a column for normalized importance\n",
        "        \"\"\"\n",
        "    \n",
        "    # Sort features according to importance\n",
        "    df = df.sort_values('importance', ascending = False).reset_index()\n",
        "    \n",
        "    # Normalize the feature importances to add up to one\n",
        "    df['importance_normalized'] = df['importance'] / df['importance'].sum()\n",
        "\n",
        "    # Make a horizontal bar chart of feature importances\n",
        "    plt.figure(figsize = (20, 20))\n",
        "    ax = plt.subplot()\n",
        "    \n",
        "    # Need to reverse the index to plot most important on top\n",
        "    ax.barh(list(reversed(list(df.index[:50]))), \n",
        "            df['importance_normalized'].head(50), \n",
        "            align = 'center', edgecolor = 'k')\n",
        "    \n",
        "    # Set the yticks and labels\n",
        "    ax.set_yticks(list(reversed(list(df.index[:50]))))\n",
        "    ax.set_yticklabels(df['feature'].head(50))\n",
        "    \n",
        "    # Plot labeling\n",
        "    plt.xlabel('Normalized Importance'); plt.title('Feature Importances')\n",
        "    plt.show()\n",
        "    \n",
        "    return df"
      ],
      "metadata": {
        "_uuid": "bf1f0015f8b8eb24747a59b13c5f980f450a8da0",
        "trusted": true,
        "id": "H3V45Au-onM5"
      },
      "execution_count": 192,
      "outputs": []
    },
    {
      "cell_type": "code",
      "source": [
        "fi_sorted = plot_feature_importances(fi)"
      ],
      "metadata": {
        "_uuid": "8a2d7f50ba5347ab337d851f3a5a5cfe765e098f",
        "trusted": true,
        "id": "yT__4iaXonM5",
        "colab": {
          "base_uri": "https://localhost:8080/",
          "height": 1000
        },
        "outputId": "b09eb588-6d42-4f82-ef31-ce305b7993d5"
      },
      "execution_count": 193,
      "outputs": [
        {
          "output_type": "display_data",
          "data": {
            "text/plain": [
              "<Figure size 1440x1440 with 1 Axes>"
            ],
            "image/png": "[encoded data removed]"
          },
          "metadata": {
            "needs_background": "light"
          }
        }
      ]
    },
    {
      "cell_type": "code",
      "source": [
        "submission.to_csv('second_sub.csv', index = False)"
      ],
      "metadata": {
        "_uuid": "6ac3c002d26190d507f2634a11feb98d0569d6f6",
        "trusted": true,
        "id": "LSQ2ifqaonM5"
      },
      "execution_count": 194,
      "outputs": []
    },
    {
      "cell_type": "code",
      "source": [
        "app_test_domain['TARGET']=np.NAN\n",
        "df = pd.concat([app_train_domain,app_test_domain])\n",
        "df_noNAN = df[df.columns[df.isnull().mean() == 0]]\n",
        "df_noNAN.columns"
      ],
      "metadata": {
        "_uuid": "d7d65820dfa0782f770ff075410320167718de27",
        "trusted": true,
        "id": "_TL9vP7oonM5",
        "colab": {
          "base_uri": "https://localhost:8080/"
        },
        "outputId": "52c91566-59a1-4549-ed4f-0ca710059d36"
      },
      "execution_count": 195,
      "outputs": [
        {
          "output_type": "execute_result",
          "data": {
            "text/plain": [
              "Index([                         'SK_ID_CURR',\n",
              "                              'CNT_CHILDREN',\n",
              "                          'AMT_INCOME_TOTAL',\n",
              "                                'AMT_CREDIT',\n",
              "                'REGION_POPULATION_RELATIVE',\n",
              "                                'DAYS_BIRTH',\n",
              "                         'DAYS_REGISTRATION',\n",
              "                           'DAYS_ID_PUBLISH',\n",
              "                                'FLAG_MOBIL',\n",
              "                            'FLAG_EMP_PHONE',\n",
              "       ...\n",
              "             'NEW_REGISTRATION_TO_BIRTH_NUM',\n",
              "               'NEW_ID_PUBLISH_TO_BIRTH_NUM',\n",
              "        'NEW_ID_PUBLISH_TO_REGISTRATION_NUM',\n",
              "              'NEW_REGION_RATING_CLIENT_NUM',\n",
              "                  'NEW_EMPLOY_TO_BIRTH_YEAR',\n",
              "            'NEW_REGISTRATION_TO_BIRTH_YEAR',\n",
              "              'NEW_ID_PUBLISH_TO_BIRTH_YEAR',\n",
              "           'NEW_EMPLOY_TO_REGISTRATION_YEAR',\n",
              "       'NEW_ID_PUBLISH_TO_REGISTRATION_YEAR',\n",
              "             'NEW_ID_PUBLISH_TO_EMPLOY_YEAR'],\n",
              "      dtype='object', length=222)"
            ]
          },
          "metadata": {},
          "execution_count": 195
        }
      ]
    },
    {
      "cell_type": "code",
      "source": [
        "from sklearn.cluster import KMeans\n",
        "k=5\n",
        "kmeans = KMeans(n_clusters=k)\n",
        "y_pred = kmeans.fit_predict(df_noNAN)\n",
        "df['labels']=kmeans.labels_"
      ],
      "metadata": {
        "colab": {
          "base_uri": "https://localhost:8080/"
        },
        "id": "TCRtX5dl5nIR",
        "outputId": "a37f6ebd-5033-4351-d0fc-c782a3d74458"
      },
      "execution_count": 196,
      "outputs": [
        {
          "output_type": "stream",
          "name": "stderr",
          "text": [
            "/usr/local/lib/python3.7/dist-packages/sklearn/utils/validation.py:1692: FutureWarning: Feature names only support names that are all strings. Got feature names with dtypes: ['str', 'tuple']. An error will be raised in 1.2.\n",
            "  FutureWarning,\n"
          ]
        }
      ]
    },
    {
      "cell_type": "code",
      "source": [
        "app_test_domain_1 = df[(df['labels']==1)&(df['TARGET'].isna())].reset_index()\n",
        "app_train_domain_1 = df[(df['labels']==1)&(df['TARGET'].notna())].reset_index()\n",
        "app_test_domain_1.drop(['labels'],axis=1,inplace=True)\n",
        "app_train_domain_1.drop(['labels'],axis=1,inplace=True)\n",
        "submission_1, fi, metrics = model(app_train_domain_1, app_test_domain_1)\n",
        "print('Baseline metrics')\n",
        "print(metrics)"
      ],
      "metadata": {
        "colab": {
          "base_uri": "https://localhost:8080/"
        },
        "id": "4jCeVoZS_0tM",
        "outputId": "acf6bf2c-469e-4a0b-b378-6f22108cde3c"
      },
      "execution_count": 201,
      "outputs": [
        {
          "output_type": "stream",
          "name": "stdout",
          "text": [
            "Training Data Shape:  (23482, 266)\n",
            "Testing Data Shape:  (8149, 266)\n"
          ]
        },
        {
          "output_type": "stream",
          "name": "stderr",
          "text": [
            "/usr/local/lib/python3.7/dist-packages/lightgbm/engine.py:118: UserWarning: Found `num_boost_round` in params. Will use it instead of argument\n",
            "  warnings.warn(\"Found `{}` in params. Will use it instead of argument\".format(alias))\n"
          ]
        },
        {
          "output_type": "stream",
          "name": "stdout",
          "text": [
            "Training until validation scores don't improve for 100 rounds.\n",
            "[200]\ttrain's auc: 0.819989\ttrain's binary_logloss: 0.542206\tvalid's auc: 0.728899\tvalid's binary_logloss: 0.543019\n",
            "Early stopping, best iteration is:\n",
            "[240]\ttrain's auc: 0.825694\ttrain's binary_logloss: 0.532536\tvalid's auc: 0.730348\tvalid's binary_logloss: 0.540763\n"
          ]
        },
        {
          "output_type": "stream",
          "name": "stderr",
          "text": [
            "/usr/local/lib/python3.7/dist-packages/lightgbm/engine.py:118: UserWarning: Found `num_boost_round` in params. Will use it instead of argument\n",
            "  warnings.warn(\"Found `{}` in params. Will use it instead of argument\".format(alias))\n"
          ]
        },
        {
          "output_type": "stream",
          "name": "stdout",
          "text": [
            "Training until validation scores don't improve for 100 rounds.\n",
            "[200]\ttrain's auc: 0.81934\ttrain's binary_logloss: 0.541947\tvalid's auc: 0.729674\tvalid's binary_logloss: 0.546972\n",
            "Early stopping, best iteration is:\n",
            "[108]\ttrain's auc: 0.795724\ttrain's binary_logloss: 0.576216\tvalid's auc: 0.735906\tvalid's binary_logloss: 0.567759\n"
          ]
        },
        {
          "output_type": "stream",
          "name": "stderr",
          "text": [
            "/usr/local/lib/python3.7/dist-packages/lightgbm/engine.py:118: UserWarning: Found `num_boost_round` in params. Will use it instead of argument\n",
            "  warnings.warn(\"Found `{}` in params. Will use it instead of argument\".format(alias))\n"
          ]
        },
        {
          "output_type": "stream",
          "name": "stdout",
          "text": [
            "Training until validation scores don't improve for 100 rounds.\n",
            "[200]\ttrain's auc: 0.819689\ttrain's binary_logloss: 0.54157\tvalid's auc: 0.711876\tvalid's binary_logloss: 0.536074\n",
            "Early stopping, best iteration is:\n",
            "[250]\ttrain's auc: 0.833236\ttrain's binary_logloss: 0.527314\tvalid's auc: 0.71625\tvalid's binary_logloss: 0.530575\n"
          ]
        },
        {
          "output_type": "stream",
          "name": "stderr",
          "text": [
            "/usr/local/lib/python3.7/dist-packages/lightgbm/engine.py:118: UserWarning: Found `num_boost_round` in params. Will use it instead of argument\n",
            "  warnings.warn(\"Found `{}` in params. Will use it instead of argument\".format(alias))\n"
          ]
        },
        {
          "output_type": "stream",
          "name": "stdout",
          "text": [
            "Training until validation scores don't improve for 100 rounds.\n",
            "[200]\ttrain's auc: 0.819487\ttrain's binary_logloss: 0.540141\tvalid's auc: 0.712251\tvalid's binary_logloss: 0.543824\n",
            "[400]\ttrain's auc: 0.859476\ttrain's binary_logloss: 0.494365\tvalid's auc: 0.711888\tvalid's binary_logloss: 0.516812\n",
            "Early stopping, best iteration is:\n",
            "[340]\ttrain's auc: 0.849568\ttrain's binary_logloss: 0.505486\tvalid's auc: 0.715475\tvalid's binary_logloss: 0.519709\n"
          ]
        },
        {
          "output_type": "stream",
          "name": "stderr",
          "text": [
            "/usr/local/lib/python3.7/dist-packages/lightgbm/engine.py:118: UserWarning: Found `num_boost_round` in params. Will use it instead of argument\n",
            "  warnings.warn(\"Found `{}` in params. Will use it instead of argument\".format(alias))\n"
          ]
        },
        {
          "output_type": "stream",
          "name": "stdout",
          "text": [
            "Training until validation scores don't improve for 100 rounds.\n",
            "[200]\ttrain's auc: 0.820254\ttrain's binary_logloss: 0.541665\tvalid's auc: 0.696268\tvalid's binary_logloss: 0.552093\n",
            "Early stopping, best iteration is:\n",
            "[110]\ttrain's auc: 0.798943\ttrain's binary_logloss: 0.571989\tvalid's auc: 0.696525\tvalid's binary_logloss: 0.571019\n",
            "Baseline metrics\n",
            "      fold     train     valid\n",
            "0        0  0.825694  0.730348\n",
            "1        1  0.795724  0.735906\n",
            "2        2  0.833236  0.716250\n",
            "3        3  0.849568  0.715475\n",
            "4        4  0.798943  0.696525\n",
            "5  overall  0.820633  0.716786\n"
          ]
        }
      ]
    },
    {
      "cell_type": "code",
      "source": [
        "app_test_domain_2 = df[(df['labels']==2)&(df['TARGET'].isna())].reset_index()\n",
        "app_train_domain_2 = df[(df['labels']==2)&(df['TARGET'].notna())].reset_index()\n",
        "app_test_domain_2.drop(['labels'],axis=1,inplace=True)\n",
        "app_train_domain_2.drop(['labels'],axis=1,inplace=True)\n",
        "submission_2, fi, metrics = model(app_train_domain_2, app_test_domain_2)\n",
        "print('Baseline metrics')\n",
        "print(metrics)"
      ],
      "metadata": {
        "colab": {
          "base_uri": "https://localhost:8080/"
        },
        "outputId": "b7b5a9ff-c99e-42c0-9159-cd45b9199f8d",
        "id": "to5IVPT3QQPA"
      },
      "execution_count": 202,
      "outputs": [
        {
          "output_type": "stream",
          "name": "stdout",
          "text": [
            "Training Data Shape:  (29289, 266)\n",
            "Testing Data Shape:  (10369, 266)\n"
          ]
        },
        {
          "output_type": "stream",
          "name": "stderr",
          "text": [
            "/usr/local/lib/python3.7/dist-packages/lightgbm/engine.py:118: UserWarning: Found `num_boost_round` in params. Will use it instead of argument\n",
            "  warnings.warn(\"Found `{}` in params. Will use it instead of argument\".format(alias))\n"
          ]
        },
        {
          "output_type": "stream",
          "name": "stdout",
          "text": [
            "Training until validation scores don't improve for 100 rounds.\n",
            "[200]\ttrain's auc: 0.812659\ttrain's binary_logloss: 0.545118\tvalid's auc: 0.738453\tvalid's binary_logloss: 0.554431\n",
            "Early stopping, best iteration is:\n",
            "[260]\ttrain's auc: 0.823942\ttrain's binary_logloss: 0.530526\tvalid's auc: 0.739623\tvalid's binary_logloss: 0.544037\n"
          ]
        },
        {
          "output_type": "stream",
          "name": "stderr",
          "text": [
            "/usr/local/lib/python3.7/dist-packages/lightgbm/engine.py:118: UserWarning: Found `num_boost_round` in params. Will use it instead of argument\n",
            "  warnings.warn(\"Found `{}` in params. Will use it instead of argument\".format(alias))\n"
          ]
        },
        {
          "output_type": "stream",
          "name": "stdout",
          "text": [
            "Training until validation scores don't improve for 100 rounds.\n",
            "[200]\ttrain's auc: 0.814476\ttrain's binary_logloss: 0.543063\tvalid's auc: 0.740878\tvalid's binary_logloss: 0.560956\n",
            "[400]\ttrain's auc: 0.846154\ttrain's binary_logloss: 0.504238\tvalid's auc: 0.741906\tvalid's binary_logloss: 0.539129\n",
            "Early stopping, best iteration is:\n",
            "[300]\ttrain's auc: 0.831371\ttrain's binary_logloss: 0.521915\tvalid's auc: 0.742363\tvalid's binary_logloss: 0.546121\n"
          ]
        },
        {
          "output_type": "stream",
          "name": "stderr",
          "text": [
            "/usr/local/lib/python3.7/dist-packages/lightgbm/engine.py:118: UserWarning: Found `num_boost_round` in params. Will use it instead of argument\n",
            "  warnings.warn(\"Found `{}` in params. Will use it instead of argument\".format(alias))\n"
          ]
        },
        {
          "output_type": "stream",
          "name": "stdout",
          "text": [
            "Training until validation scores don't improve for 100 rounds.\n",
            "[200]\ttrain's auc: 0.810287\ttrain's binary_logloss: 0.546739\tvalid's auc: 0.750939\tvalid's binary_logloss: 0.54573\n",
            "Early stopping, best iteration is:\n",
            "[219]\ttrain's auc: 0.815978\ttrain's binary_logloss: 0.540978\tvalid's auc: 0.752829\tvalid's binary_logloss: 0.540335\n"
          ]
        },
        {
          "output_type": "stream",
          "name": "stderr",
          "text": [
            "/usr/local/lib/python3.7/dist-packages/lightgbm/engine.py:118: UserWarning: Found `num_boost_round` in params. Will use it instead of argument\n",
            "  warnings.warn(\"Found `{}` in params. Will use it instead of argument\".format(alias))\n"
          ]
        },
        {
          "output_type": "stream",
          "name": "stdout",
          "text": [
            "Training until validation scores don't improve for 100 rounds.\n",
            "[200]\ttrain's auc: 0.813057\ttrain's binary_logloss: 0.544669\tvalid's auc: 0.739577\tvalid's binary_logloss: 0.54695\n",
            "[400]\ttrain's auc: 0.846079\ttrain's binary_logloss: 0.504981\tvalid's auc: 0.745496\tvalid's binary_logloss: 0.521387\n",
            "[600]\ttrain's auc: 0.872519\ttrain's binary_logloss: 0.474199\tvalid's auc: 0.746983\tvalid's binary_logloss: 0.50151\n",
            "Early stopping, best iteration is:\n",
            "[689]\ttrain's auc: 0.883031\ttrain's binary_logloss: 0.461634\tvalid's auc: 0.748259\tvalid's binary_logloss: 0.492999\n"
          ]
        },
        {
          "output_type": "stream",
          "name": "stderr",
          "text": [
            "/usr/local/lib/python3.7/dist-packages/lightgbm/engine.py:118: UserWarning: Found `num_boost_round` in params. Will use it instead of argument\n",
            "  warnings.warn(\"Found `{}` in params. Will use it instead of argument\".format(alias))\n"
          ]
        },
        {
          "output_type": "stream",
          "name": "stdout",
          "text": [
            "Training until validation scores don't improve for 100 rounds.\n",
            "[200]\ttrain's auc: 0.811758\ttrain's binary_logloss: 0.544076\tvalid's auc: 0.725396\tvalid's binary_logloss: 0.544569\n",
            "Early stopping, best iteration is:\n",
            "[289]\ttrain's auc: 0.825746\ttrain's binary_logloss: 0.526466\tvalid's auc: 0.72864\tvalid's binary_logloss: 0.538564\n",
            "Baseline metrics\n",
            "      fold     train     valid\n",
            "0        0  0.823942  0.739623\n",
            "1        1  0.831371  0.742363\n",
            "2        2  0.815978  0.752829\n",
            "3        3  0.883031  0.748259\n",
            "4        4  0.825746  0.728640\n",
            "5  overall  0.836014  0.741695\n"
          ]
        }
      ]
    },
    {
      "cell_type": "code",
      "source": [
        "app_test_domain_3 = df[(df['labels']==3)&(df['TARGET'].isna())].reset_index()\n",
        "app_train_domain_3 = df[(df['labels']==3)&(df['TARGET'].notna())].reset_index()\n",
        "app_test_domain_3.drop(['labels'],axis=1,inplace=True)\n",
        "app_train_domain_3.drop(['labels'],axis=1,inplace=True)\n",
        "submission_3, fi, metrics = model(app_train_domain_3, app_test_domain_3)\n",
        "print('Baseline metrics')\n",
        "print(metrics)"
      ],
      "metadata": {
        "colab": {
          "base_uri": "https://localhost:8080/"
        },
        "id": "zfqBdZxPQdWm",
        "outputId": "0ac344a2-5fc4-49fa-ae45-acc878366000"
      },
      "execution_count": 203,
      "outputs": [
        {
          "output_type": "stream",
          "name": "stdout",
          "text": [
            "Training Data Shape:  (15622, 266)\n",
            "Testing Data Shape:  (5328, 266)\n"
          ]
        },
        {
          "output_type": "stream",
          "name": "stderr",
          "text": [
            "/usr/local/lib/python3.7/dist-packages/lightgbm/engine.py:118: UserWarning: Found `num_boost_round` in params. Will use it instead of argument\n",
            "  warnings.warn(\"Found `{}` in params. Will use it instead of argument\".format(alias))\n"
          ]
        },
        {
          "output_type": "stream",
          "name": "stdout",
          "text": [
            "Training until validation scores don't improve for 100 rounds.\n",
            "[200]\ttrain's auc: 0.832469\ttrain's binary_logloss: 0.53277\tvalid's auc: 0.681193\tvalid's binary_logloss: 0.536482\n",
            "Early stopping, best iteration is:\n",
            "[210]\ttrain's auc: 0.836269\ttrain's binary_logloss: 0.52957\tvalid's auc: 0.682673\tvalid's binary_logloss: 0.536568\n"
          ]
        },
        {
          "output_type": "stream",
          "name": "stderr",
          "text": [
            "/usr/local/lib/python3.7/dist-packages/lightgbm/engine.py:118: UserWarning: Found `num_boost_round` in params. Will use it instead of argument\n",
            "  warnings.warn(\"Found `{}` in params. Will use it instead of argument\".format(alias))\n"
          ]
        },
        {
          "output_type": "stream",
          "name": "stdout",
          "text": [
            "Training until validation scores don't improve for 100 rounds.\n",
            "[200]\ttrain's auc: 0.823973\ttrain's binary_logloss: 0.540917\tvalid's auc: 0.716701\tvalid's binary_logloss: 0.52603\n",
            "Early stopping, best iteration is:\n",
            "[190]\ttrain's auc: 0.823008\ttrain's binary_logloss: 0.543639\tvalid's auc: 0.719619\tvalid's binary_logloss: 0.526832\n"
          ]
        },
        {
          "output_type": "stream",
          "name": "stderr",
          "text": [
            "/usr/local/lib/python3.7/dist-packages/lightgbm/engine.py:118: UserWarning: Found `num_boost_round` in params. Will use it instead of argument\n",
            "  warnings.warn(\"Found `{}` in params. Will use it instead of argument\".format(alias))\n"
          ]
        },
        {
          "output_type": "stream",
          "name": "stdout",
          "text": [
            "Training until validation scores don't improve for 100 rounds.\n",
            "Early stopping, best iteration is:\n",
            "[31]\ttrain's auc: 0.762386\ttrain's binary_logloss: 0.636192\tvalid's auc: 0.709655\tvalid's binary_logloss: 0.62599\n"
          ]
        },
        {
          "output_type": "stream",
          "name": "stderr",
          "text": [
            "/usr/local/lib/python3.7/dist-packages/lightgbm/engine.py:118: UserWarning: Found `num_boost_round` in params. Will use it instead of argument\n",
            "  warnings.warn(\"Found `{}` in params. Will use it instead of argument\".format(alias))\n"
          ]
        },
        {
          "output_type": "stream",
          "name": "stdout",
          "text": [
            "Training until validation scores don't improve for 100 rounds.\n",
            "[200]\ttrain's auc: 0.833534\ttrain's binary_logloss: 0.53357\tvalid's auc: 0.678008\tvalid's binary_logloss: 0.529333\n",
            "Early stopping, best iteration is:\n",
            "[184]\ttrain's auc: 0.82647\ttrain's binary_logloss: 0.540252\tvalid's auc: 0.682883\tvalid's binary_logloss: 0.532215\n"
          ]
        },
        {
          "output_type": "stream",
          "name": "stderr",
          "text": [
            "/usr/local/lib/python3.7/dist-packages/lightgbm/engine.py:118: UserWarning: Found `num_boost_round` in params. Will use it instead of argument\n",
            "  warnings.warn(\"Found `{}` in params. Will use it instead of argument\".format(alias))\n"
          ]
        },
        {
          "output_type": "stream",
          "name": "stdout",
          "text": [
            "Training until validation scores don't improve for 100 rounds.\n",
            "Early stopping, best iteration is:\n",
            "[30]\ttrain's auc: 0.767067\ttrain's binary_logloss: 0.637137\tvalid's auc: 0.676279\tvalid's binary_logloss: 0.627671\n",
            "Baseline metrics\n",
            "      fold     train     valid\n",
            "0        0  0.836269  0.682673\n",
            "1        1  0.823008  0.719619\n",
            "2        2  0.762386  0.709655\n",
            "3        3  0.826470  0.682883\n",
            "4        4  0.767067  0.676279\n",
            "5  overall  0.803040  0.683171\n"
          ]
        }
      ]
    },
    {
      "cell_type": "code",
      "source": [
        "app_test_domain_4 = df[(df['labels']==4)&(df['TARGET'].isna())].reset_index()\n",
        "app_train_domain_4 = df[(df['labels']==4)&(df['TARGET'].notna())].reset_index()\n",
        "app_test_domain_4.drop(['labels'],axis=1,inplace=True)\n",
        "app_train_domain_4.drop(['labels'],axis=1,inplace=True)\n",
        "submission_4, fi, metrics = model(app_train_domain_4, app_test_domain_4)\n",
        "print('Baseline metrics')\n",
        "print(metrics)"
      ],
      "metadata": {
        "colab": {
          "base_uri": "https://localhost:8080/"
        },
        "id": "ebrTVPhhQdAb",
        "outputId": "b3f137f8-b8d1-4795-fa8b-9f9e4a541bdd"
      },
      "execution_count": 204,
      "outputs": [
        {
          "output_type": "stream",
          "name": "stdout",
          "text": [
            "Training Data Shape:  (42856, 266)\n",
            "Testing Data Shape:  (15438, 266)\n"
          ]
        },
        {
          "output_type": "stream",
          "name": "stderr",
          "text": [
            "/usr/local/lib/python3.7/dist-packages/lightgbm/engine.py:118: UserWarning: Found `num_boost_round` in params. Will use it instead of argument\n",
            "  warnings.warn(\"Found `{}` in params. Will use it instead of argument\".format(alias))\n"
          ]
        },
        {
          "output_type": "stream",
          "name": "stdout",
          "text": [
            "Training until validation scores don't improve for 100 rounds.\n",
            "[200]\ttrain's auc: 0.793109\ttrain's binary_logloss: 0.560228\tvalid's auc: 0.751425\tvalid's binary_logloss: 0.569435\n",
            "Early stopping, best iteration is:\n",
            "[294]\ttrain's auc: 0.808526\ttrain's binary_logloss: 0.541617\tvalid's auc: 0.752817\tvalid's binary_logloss: 0.557634\n"
          ]
        },
        {
          "output_type": "stream",
          "name": "stderr",
          "text": [
            "/usr/local/lib/python3.7/dist-packages/lightgbm/engine.py:118: UserWarning: Found `num_boost_round` in params. Will use it instead of argument\n",
            "  warnings.warn(\"Found `{}` in params. Will use it instead of argument\".format(alias))\n"
          ]
        },
        {
          "output_type": "stream",
          "name": "stdout",
          "text": [
            "Training until validation scores don't improve for 100 rounds.\n",
            "[200]\ttrain's auc: 0.795598\ttrain's binary_logloss: 0.556852\tvalid's auc: 0.732175\tvalid's binary_logloss: 0.563792\n",
            "Early stopping, best iteration is:\n",
            "[290]\ttrain's auc: 0.811032\ttrain's binary_logloss: 0.539567\tvalid's auc: 0.736037\tvalid's binary_logloss: 0.553565\n"
          ]
        },
        {
          "output_type": "stream",
          "name": "stderr",
          "text": [
            "/usr/local/lib/python3.7/dist-packages/lightgbm/engine.py:118: UserWarning: Found `num_boost_round` in params. Will use it instead of argument\n",
            "  warnings.warn(\"Found `{}` in params. Will use it instead of argument\".format(alias))\n"
          ]
        },
        {
          "output_type": "stream",
          "name": "stdout",
          "text": [
            "Training until validation scores don't improve for 100 rounds.\n",
            "[200]\ttrain's auc: 0.792972\ttrain's binary_logloss: 0.559784\tvalid's auc: 0.729585\tvalid's binary_logloss: 0.568877\n",
            "[400]\ttrain's auc: 0.821859\ttrain's binary_logloss: 0.527065\tvalid's auc: 0.73359\tvalid's binary_logloss: 0.546541\n",
            "Early stopping, best iteration is:\n",
            "[477]\ttrain's auc: 0.830239\ttrain's binary_logloss: 0.517705\tvalid's auc: 0.734242\tvalid's binary_logloss: 0.543779\n"
          ]
        },
        {
          "output_type": "stream",
          "name": "stderr",
          "text": [
            "/usr/local/lib/python3.7/dist-packages/lightgbm/engine.py:118: UserWarning: Found `num_boost_round` in params. Will use it instead of argument\n",
            "  warnings.warn(\"Found `{}` in params. Will use it instead of argument\".format(alias))\n"
          ]
        },
        {
          "output_type": "stream",
          "name": "stdout",
          "text": [
            "Training until validation scores don't improve for 100 rounds.\n",
            "[200]\ttrain's auc: 0.794137\ttrain's binary_logloss: 0.558283\tvalid's auc: 0.740914\tvalid's binary_logloss: 0.559213\n",
            "[400]\ttrain's auc: 0.824943\ttrain's binary_logloss: 0.52461\tvalid's auc: 0.745811\tvalid's binary_logloss: 0.542039\n",
            "Early stopping, best iteration is:\n",
            "[371]\ttrain's auc: 0.820362\ttrain's binary_logloss: 0.529343\tvalid's auc: 0.746122\tvalid's binary_logloss: 0.54495\n"
          ]
        },
        {
          "output_type": "stream",
          "name": "stderr",
          "text": [
            "/usr/local/lib/python3.7/dist-packages/lightgbm/engine.py:118: UserWarning: Found `num_boost_round` in params. Will use it instead of argument\n",
            "  warnings.warn(\"Found `{}` in params. Will use it instead of argument\".format(alias))\n"
          ]
        },
        {
          "output_type": "stream",
          "name": "stdout",
          "text": [
            "Training until validation scores don't improve for 100 rounds.\n",
            "[200]\ttrain's auc: 0.79091\ttrain's binary_logloss: 0.561067\tvalid's auc: 0.73766\tvalid's binary_logloss: 0.567726\n",
            "[400]\ttrain's auc: 0.819808\ttrain's binary_logloss: 0.529441\tvalid's auc: 0.74111\tvalid's binary_logloss: 0.550614\n",
            "Early stopping, best iteration is:\n",
            "[390]\ttrain's auc: 0.818254\ttrain's binary_logloss: 0.531104\tvalid's auc: 0.74161\tvalid's binary_logloss: 0.551571\n",
            "Baseline metrics\n",
            "      fold     train     valid\n",
            "0        0  0.808526  0.752817\n",
            "1        1  0.811032  0.736037\n",
            "2        2  0.830239  0.734242\n",
            "3        3  0.820362  0.746122\n",
            "4        4  0.818254  0.741610\n",
            "5  overall  0.817683  0.741849\n"
          ]
        }
      ]
    },
    {
      "cell_type": "code",
      "source": [
        "app_test_domain_0 = df[(df['labels']==0)&(df['TARGET'].isna())].reset_index()\n",
        "app_train_domain_0 = df[(df['labels']==0)&(df['TARGET'].notna())].reset_index()\n",
        "app_test_domain_0.drop(['labels'],axis=1,inplace=True)\n",
        "app_train_domain_0.drop(['labels'],axis=1,inplace=True)\n",
        "submission_0, fi, metrics = model(app_train_domain_0, app_test_domain_0)\n",
        "print('Baseline metrics')\n",
        "print(metrics)"
      ],
      "metadata": {
        "colab": {
          "base_uri": "https://localhost:8080/"
        },
        "id": "vSH4rr1TQcUQ",
        "outputId": "c4a751dc-4895-4a48-a650-b2f9126b8389"
      },
      "execution_count": 206,
      "outputs": [
        {
          "output_type": "stream",
          "name": "stdout",
          "text": [
            "Training Data Shape:  (59953, 266)\n",
            "Testing Data Shape:  (22216, 266)\n"
          ]
        },
        {
          "output_type": "stream",
          "name": "stderr",
          "text": [
            "/usr/local/lib/python3.7/dist-packages/lightgbm/engine.py:118: UserWarning: Found `num_boost_round` in params. Will use it instead of argument\n",
            "  warnings.warn(\"Found `{}` in params. Will use it instead of argument\".format(alias))\n"
          ]
        },
        {
          "output_type": "stream",
          "name": "stdout",
          "text": [
            "Training until validation scores don't improve for 100 rounds.\n",
            "[200]\ttrain's auc: 0.775558\ttrain's binary_logloss: 0.574447\tvalid's auc: 0.73874\tvalid's binary_logloss: 0.581503\n",
            "[400]\ttrain's auc: 0.797924\ttrain's binary_logloss: 0.549518\tvalid's auc: 0.743819\tvalid's binary_logloss: 0.56367\n",
            "[600]\ttrain's auc: 0.814996\ttrain's binary_logloss: 0.532737\tvalid's auc: 0.745249\tvalid's binary_logloss: 0.557026\n",
            "Early stopping, best iteration is:\n",
            "[583]\ttrain's auc: 0.813842\ttrain's binary_logloss: 0.533938\tvalid's auc: 0.745494\tvalid's binary_logloss: 0.556764\n"
          ]
        },
        {
          "output_type": "stream",
          "name": "stderr",
          "text": [
            "/usr/local/lib/python3.7/dist-packages/lightgbm/engine.py:118: UserWarning: Found `num_boost_round` in params. Will use it instead of argument\n",
            "  warnings.warn(\"Found `{}` in params. Will use it instead of argument\".format(alias))\n"
          ]
        },
        {
          "output_type": "stream",
          "name": "stdout",
          "text": [
            "Training until validation scores don't improve for 100 rounds.\n",
            "[200]\ttrain's auc: 0.77454\ttrain's binary_logloss: 0.574118\tvalid's auc: 0.737658\tvalid's binary_logloss: 0.586403\n",
            "[400]\ttrain's auc: 0.796247\ttrain's binary_logloss: 0.55036\tvalid's auc: 0.740764\tvalid's binary_logloss: 0.576713\n",
            "Early stopping, best iteration is:\n",
            "[459]\ttrain's auc: 0.799602\ttrain's binary_logloss: 0.546174\tvalid's auc: 0.741608\tvalid's binary_logloss: 0.574578\n"
          ]
        },
        {
          "output_type": "stream",
          "name": "stderr",
          "text": [
            "/usr/local/lib/python3.7/dist-packages/lightgbm/engine.py:118: UserWarning: Found `num_boost_round` in params. Will use it instead of argument\n",
            "  warnings.warn(\"Found `{}` in params. Will use it instead of argument\".format(alias))\n"
          ]
        },
        {
          "output_type": "stream",
          "name": "stdout",
          "text": [
            "Training until validation scores don't improve for 100 rounds.\n",
            "[200]\ttrain's auc: 0.775074\ttrain's binary_logloss: 0.574065\tvalid's auc: 0.727142\tvalid's binary_logloss: 0.58551\n",
            "[400]\ttrain's auc: 0.799325\ttrain's binary_logloss: 0.548018\tvalid's auc: 0.735317\tvalid's binary_logloss: 0.56956\n",
            "[600]\ttrain's auc: 0.816744\ttrain's binary_logloss: 0.530097\tvalid's auc: 0.734973\tvalid's binary_logloss: 0.560155\n",
            "Early stopping, best iteration is:\n",
            "[520]\ttrain's auc: 0.809419\ttrain's binary_logloss: 0.537407\tvalid's auc: 0.735783\tvalid's binary_logloss: 0.564291\n"
          ]
        },
        {
          "output_type": "stream",
          "name": "stderr",
          "text": [
            "/usr/local/lib/python3.7/dist-packages/lightgbm/engine.py:118: UserWarning: Found `num_boost_round` in params. Will use it instead of argument\n",
            "  warnings.warn(\"Found `{}` in params. Will use it instead of argument\".format(alias))\n"
          ]
        },
        {
          "output_type": "stream",
          "name": "stdout",
          "text": [
            "Training until validation scores don't improve for 100 rounds.\n",
            "[200]\ttrain's auc: 0.772392\ttrain's binary_logloss: 0.576526\tvalid's auc: 0.741516\tvalid's binary_logloss: 0.584007\n",
            "[400]\ttrain's auc: 0.795878\ttrain's binary_logloss: 0.550705\tvalid's auc: 0.745648\tvalid's binary_logloss: 0.567167\n",
            "[600]\ttrain's auc: 0.814005\ttrain's binary_logloss: 0.532678\tvalid's auc: 0.746882\tvalid's binary_logloss: 0.560592\n",
            "Early stopping, best iteration is:\n",
            "[527]\ttrain's auc: 0.807594\ttrain's binary_logloss: 0.538967\tvalid's auc: 0.747465\tvalid's binary_logloss: 0.564485\n"
          ]
        },
        {
          "output_type": "stream",
          "name": "stderr",
          "text": [
            "/usr/local/lib/python3.7/dist-packages/lightgbm/engine.py:118: UserWarning: Found `num_boost_round` in params. Will use it instead of argument\n",
            "  warnings.warn(\"Found `{}` in params. Will use it instead of argument\".format(alias))\n"
          ]
        },
        {
          "output_type": "stream",
          "name": "stdout",
          "text": [
            "Training until validation scores don't improve for 100 rounds.\n",
            "[200]\ttrain's auc: 0.774904\ttrain's binary_logloss: 0.57396\tvalid's auc: 0.738221\tvalid's binary_logloss: 0.58287\n",
            "[400]\ttrain's auc: 0.795022\ttrain's binary_logloss: 0.550718\tvalid's auc: 0.74326\tvalid's binary_logloss: 0.56508\n",
            "Early stopping, best iteration is:\n",
            "[401]\ttrain's auc: 0.795113\ttrain's binary_logloss: 0.550625\tvalid's auc: 0.74327\tvalid's binary_logloss: 0.565076\n",
            "Baseline metrics\n",
            "      fold     train     valid\n",
            "0        0  0.813842  0.745494\n",
            "1        1  0.799602  0.741608\n",
            "2        2  0.809419  0.735783\n",
            "3        3  0.807594  0.747465\n",
            "4        4  0.795113  0.743270\n",
            "5  overall  0.805114  0.742688\n"
          ]
        }
      ]
    },
    {
      "cell_type": "code",
      "source": [
        "submission_new = pd.concat([submission_0, submission_1, submission_2, submission_3, submission_4])\n"
      ],
      "metadata": {
        "id": "dGO1JGTJBmTI"
      },
      "execution_count": 208,
      "outputs": []
    },
    {
      "cell_type": "code",
      "source": [
        "submission_new.sort_values(by='SK_ID_CURR',inplace=True)"
      ],
      "metadata": {
        "id": "_1Q7z4VVSu7F"
      },
      "execution_count": 209,
      "outputs": []
    },
    {
      "cell_type": "code",
      "source": [
        "submission_new.to_csv('submission_new.csv',index=False)"
      ],
      "metadata": {
        "id": "oboB3KUUSo1S"
      },
      "execution_count": 211,
      "outputs": []
    }
  ]
}