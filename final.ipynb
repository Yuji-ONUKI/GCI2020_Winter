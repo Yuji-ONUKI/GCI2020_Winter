{
  "nbformat": 4,
  "nbformat_minor": 0,
  "metadata": {
    "colab": {
      "name": "final.ipynb",
      "provenance": [],
      "authorship_tag": "ABX9TyPGMAtCV2eOjn2bgPfa4mHP",
      "include_colab_link": true
    },
    "kernelspec": {
      "name": "python3",
      "display_name": "Python 3"
    },
    "language_info": {
      "name": "python"
    }
  },
  "cells": [
    {
      "cell_type": "markdown",
      "metadata": {
        "id": "view-in-github",
        "colab_type": "text"
      },
      "source": [
        "<a href=\"https://colab.research.google.com/github/Yuji-ONUKI/GCI2020_Winter/blob/main/final.ipynb\" target=\"_parent\"><img src=\"https://colab.research.google.com/assets/colab-badge.svg\" alt=\"Open In Colab\"/></a>"
      ]
    },
    {
      "cell_type": "code",
      "execution_count": null,
      "metadata": {
        "id": "s2tSOD2ks3mI"
      },
      "outputs": [],
      "source": [
        ""
      ]
    },
    {
      "cell_type": "code",
      "source": [
        "import pandas as pd\n",
        "import numpy as np\n",
        "from sklearn.preprocessing import MinMaxScaler, LabelEncoder\n",
        "from sklearn.model_selection import train_test_split\n",
        "from sklearn.metrics import accuracy_score, roc_auc_score, confusion_matrix\n",
        "from sklearn.feature_selection import VarianceThreshold\n",
        "import lightgbm as lgb\n",
        "import matplotlib.pyplot as plt\n",
        "import seaborn as sns\n",
        "\n",
        "print('Importing data...')\n",
        "# Google Colaboratoryで作業する場合はこちらも実行してください。\n",
        "from google.colab import drive\n",
        "drive.mount('/content/drive')\n",
        "# %cd 以降にこのnotebookを置いているディレクトリを指定してください。\n",
        "record = pd.read_csv(\"/content/drive/MyDrive/Record.csv\")\n",
        "client = pd.read_csv(\"/content/drive/MyDrive/Client.csv\")"
      ],
      "metadata": {
        "_uuid": "1ff174931af1e4c26e808ab542c8d0a299d08c09",
        "trusted": true,
        "colab": {
          "base_uri": "https://localhost:8080/"
        },
        "id": "HehSKiyFonMe",
        "outputId": "9d87dbfb-2b93-4192-8285-b5a3e90178d8"
      },
      "execution_count": 290,
      "outputs": [
        {
          "output_type": "stream",
          "name": "stdout",
          "text": [
            "Importing data...\n",
            "Drive already mounted at /content/drive; to attempt to forcibly remount, call drive.mount(\"/content/drive\", force_remount=True).\n"
          ]
        }
      ]
    },
    {
      "cell_type": "code",
      "source": [
        "record.columns"
      ],
      "metadata": {
        "id": "EsA0clLQtqPi",
        "colab": {
          "base_uri": "https://localhost:8080/"
        },
        "outputId": "f9889e90-0349-4885-f101-b38f1160c0f6"
      },
      "execution_count": 214,
      "outputs": [
        {
          "output_type": "execute_result",
          "data": {
            "text/plain": [
              "Index(['rev_Mean', 'mou_Mean', 'totmrc_Mean', 'da_Mean', 'ovrmou_Mean',\n",
              "       'ovrrev_Mean', 'vceovr_Mean', 'datovr_Mean', 'roam_Mean', 'change_mou',\n",
              "       'change_rev', 'drop_vce_Mean', 'drop_dat_Mean', 'blck_vce_Mean',\n",
              "       'blck_dat_Mean', 'unan_vce_Mean', 'unan_dat_Mean', 'plcd_vce_Mean',\n",
              "       'plcd_dat_Mean', 'recv_vce_Mean', 'recv_sms_Mean', 'comp_vce_Mean',\n",
              "       'comp_dat_Mean', 'custcare_Mean', 'ccrndmou_Mean', 'cc_mou_Mean',\n",
              "       'inonemin_Mean', 'threeway_Mean', 'mou_cvce_Mean', 'mou_cdat_Mean',\n",
              "       'mou_rvce_Mean', 'owylis_vce_Mean', 'mouowylisv_Mean',\n",
              "       'iwylis_vce_Mean', 'mouiwylisv_Mean', 'peak_vce_Mean', 'peak_dat_Mean',\n",
              "       'mou_peav_Mean', 'mou_pead_Mean', 'opk_vce_Mean', 'opk_dat_Mean',\n",
              "       'mou_opkv_Mean', 'mou_opkd_Mean', 'drop_blk_Mean', 'attempt_Mean',\n",
              "       'complete_Mean', 'callfwdv_Mean', 'callwait_Mean', 'churn', 'months'],\n",
              "      dtype='object')"
            ]
          },
          "metadata": {},
          "execution_count": 214
        }
      ]
    },
    {
      "cell_type": "code",
      "source": [
        "record['rev_Mean'].describe()"
      ],
      "metadata": {
        "colab": {
          "base_uri": "https://localhost:8080/"
        },
        "id": "ZINDzgahmFoa",
        "outputId": "a2aa9109-a90e-46db-c470-4830a2bf845f"
      },
      "execution_count": 212,
      "outputs": [
        {
          "output_type": "execute_result",
          "data": {
            "text/plain": [
              "count    99643.000000\n",
              "mean        58.719985\n",
              "std         46.291677\n",
              "min         -6.167500\n",
              "25%         33.260000\n",
              "50%         48.195000\n",
              "75%         70.750000\n",
              "max       3843.262500\n",
              "Name: rev_Mean, dtype: float64"
            ]
          },
          "metadata": {},
          "execution_count": 212
        }
      ]
    },
    {
      "cell_type": "code",
      "source": [
        "#record.describe()"
      ],
      "metadata": {
        "id": "DP1JZagi2UKd"
      },
      "execution_count": null,
      "outputs": []
    },
    {
      "cell_type": "code",
      "source": [
        "for col in record.columns:\n",
        "  if(record[col].min()<0):\n",
        "    print(col)"
      ],
      "metadata": {
        "colab": {
          "base_uri": "https://localhost:8080/"
        },
        "id": "_oGT6gOO3mOC",
        "outputId": "f7ce33a9-8fbc-4a1a-99c2-8b99cc504db6"
      },
      "execution_count": null,
      "outputs": [
        {
          "output_type": "stream",
          "name": "stdout",
          "text": [
            "rev_Mean\n",
            "totmrc_Mean\n",
            "change_mou\n",
            "change_rev\n"
          ]
        }
      ]
    },
    {
      "cell_type": "code",
      "source": [
        "cols_min = ['rev_Mean',\n",
        "'totmrc_Mean',\n",
        "'change_mou',\n",
        "'change_rev']"
      ],
      "metadata": {
        "id": "uZEk2ody4JWh"
      },
      "execution_count": null,
      "outputs": []
    },
    {
      "cell_type": "code",
      "source": [
        "#for col in cols_min:\n",
        "#  print(col,'\\t',record.loc[record[col]<0,col].count())"
      ],
      "metadata": {
        "id": "yKPmejEK4Ub5"
      },
      "execution_count": null,
      "outputs": []
    },
    {
      "cell_type": "markdown",
      "source": [
        "rev_Mean:\n",
        "Mean monthly revenue (charge amount)\n",
        "\n",
        "totmrc_Mean:\n",
        "Mean total monthly recurring charge 定期的な料金\n",
        "\n",
        "change_mou:\n",
        "Percentage change in monthly minutes of use vs previous three month average\n",
        "\n",
        "change_rev:\n",
        "Percentage change in monthly revenue vs previous three month average"
      ],
      "metadata": {
        "id": "x843CwYK_o7Z"
      }
    },
    {
      "cell_type": "code",
      "source": [
        "#record.loc[record['rev_Mean']<0]"
      ],
      "metadata": {
        "id": "AUEx8T455-bm"
      },
      "execution_count": null,
      "outputs": []
    },
    {
      "cell_type": "markdown",
      "source": [
        "10万レコード同士なので両者対応していると考える。これ違うかも！"
      ],
      "metadata": {
        "id": "vPEZRquU_Jcm"
      }
    },
    {
      "cell_type": "code",
      "source": [
        "#df=pd.concat([client,record],axis=1)\n",
        "#org=df\n",
        "df=record"
      ],
      "metadata": {
        "id": "76eOj5lhDGHv"
      },
      "execution_count": 215,
      "outputs": []
    },
    {
      "cell_type": "code",
      "source": [
        "df.columns"
      ],
      "metadata": {
        "id": "S1Qhso3PDTZ4",
        "colab": {
          "base_uri": "https://localhost:8080/"
        },
        "outputId": "8a174a7d-d4dc-4b2a-a7dc-61e9ea028eb2"
      },
      "execution_count": 217,
      "outputs": [
        {
          "output_type": "execute_result",
          "data": {
            "text/plain": [
              "Index(['rev_Mean', 'mou_Mean', 'totmrc_Mean', 'da_Mean', 'ovrmou_Mean',\n",
              "       'ovrrev_Mean', 'vceovr_Mean', 'datovr_Mean', 'roam_Mean', 'change_mou',\n",
              "       'change_rev', 'drop_vce_Mean', 'drop_dat_Mean', 'blck_vce_Mean',\n",
              "       'blck_dat_Mean', 'unan_vce_Mean', 'unan_dat_Mean', 'plcd_vce_Mean',\n",
              "       'plcd_dat_Mean', 'recv_vce_Mean', 'recv_sms_Mean', 'comp_vce_Mean',\n",
              "       'comp_dat_Mean', 'custcare_Mean', 'ccrndmou_Mean', 'cc_mou_Mean',\n",
              "       'inonemin_Mean', 'threeway_Mean', 'mou_cvce_Mean', 'mou_cdat_Mean',\n",
              "       'mou_rvce_Mean', 'owylis_vce_Mean', 'mouowylisv_Mean',\n",
              "       'iwylis_vce_Mean', 'mouiwylisv_Mean', 'peak_vce_Mean', 'peak_dat_Mean',\n",
              "       'mou_peav_Mean', 'mou_pead_Mean', 'opk_vce_Mean', 'opk_dat_Mean',\n",
              "       'mou_opkv_Mean', 'mou_opkd_Mean', 'drop_blk_Mean', 'attempt_Mean',\n",
              "       'complete_Mean', 'callfwdv_Mean', 'callwait_Mean', 'churn', 'months'],\n",
              "      dtype='object')"
            ]
          },
          "metadata": {},
          "execution_count": 217
        }
      ]
    },
    {
      "cell_type": "code",
      "source": [
        "for col in df.columns:\n",
        "  if len(df[col].unique()) > 1000:\n",
        "      print(col, '\\t',len(df[col].unique()))"
      ],
      "metadata": {
        "id": "svrX3OcdD6aN"
      },
      "execution_count": 257,
      "outputs": []
    },
    {
      "cell_type": "markdown",
      "source": [
        "# 'churn'解約をターゲットとする。"
      ],
      "metadata": {
        "id": "MRup5nEyD1MQ"
      }
    },
    {
      "cell_type": "code",
      "source": [
        "cols=[\n",
        "'rev_Mean',\n",
        "'ovrrev_Mean',\n",
        "'change_rev',\n",
        "'mou_cvce_Mean',\n",
        "'mou_rvce_Mean',\n",
        "'mouowylisv_Mean',\n",
        "'mouiwylisv_Mean',\n",
        "'mou_peav_Mean',\n",
        "'mou_opkv_Mean']"
      ],
      "metadata": {
        "id": "qmrn6XmrFKPr"
      },
      "execution_count": 258,
      "outputs": []
    },
    {
      "cell_type": "code",
      "source": [
        "for col in cols:\n",
        "  df[cols]=round(df[cols])"
      ],
      "metadata": {
        "id": "7Y4xHX6iGxap"
      },
      "execution_count": 259,
      "outputs": []
    },
    {
      "cell_type": "code",
      "source": [
        "cols=[\n",
        "'mou_Mean',\n",
        "'totmrc_Mean',\n",
        "'ovrmou_Mean',\n",
        "'vceovr_Mean',\n",
        "'roam_Mean',\n",
        "'change_mou',\n",
        "'plcd_vce_Mean',\n",
        "'recv_vce_Mean',\n",
        "'comp_vce_Mean',\n",
        "'cc_mou_Mean',\n",
        "'inonemin_Mean',\n",
        "'mou_cdat_Mean',\n",
        "'peak_vce_Mean',\n",
        "'mou_pead_Mean',\n",
        "'opk_vce_Mean',\n",
        "'mou_opkd_Mean',\n",
        "'attempt_Mean',\n",
        "'complete_Mean']"
      ],
      "metadata": {
        "id": "mO1WNIJoH08H"
      },
      "execution_count": 260,
      "outputs": []
    },
    {
      "cell_type": "code",
      "source": [
        "for col in cols:\n",
        "  df[col]=round(df[col])"
      ],
      "metadata": {
        "id": "mUAkbXvvI2gy"
      },
      "execution_count": 261,
      "outputs": []
    },
    {
      "cell_type": "code",
      "source": [
        "#for col in df.columns:\n",
        "#  if len(df[col].unique()) > 100:\n",
        "#      print(col, '\\t',len(df[col].unique()))"
      ],
      "metadata": {
        "id": "WARbUfOLI6Td"
      },
      "execution_count": null,
      "outputs": []
    },
    {
      "cell_type": "code",
      "source": [
        "#df.drop(['Customer_ID'],axis=1,inplace=True)"
      ],
      "metadata": {
        "id": "L6Gh-KoCKwSy"
      },
      "execution_count": null,
      "outputs": []
    },
    {
      "cell_type": "code",
      "source": [
        "df['callwait_Mean'].dtype"
      ],
      "metadata": {
        "colab": {
          "base_uri": "https://localhost:8080/"
        },
        "id": "bNEKScRaVyO4",
        "outputId": "469b825c-b061-49c5-8fb2-9b7aa044858d"
      },
      "execution_count": 262,
      "outputs": [
        {
          "output_type": "execute_result",
          "data": {
            "text/plain": [
              "dtype('float64')"
            ]
          },
          "metadata": {},
          "execution_count": 262
        }
      ]
    },
    {
      "cell_type": "code",
      "source": [
        "cols = [col for col in df.columns if df[col].dtype == 'object']"
      ],
      "metadata": {
        "id": "z_LOT_BOWvu-"
      },
      "execution_count": 263,
      "outputs": []
    },
    {
      "cell_type": "code",
      "source": [
        "#for col in cols:\n",
        "#  print(col,'\\t',len(df[col].unique()))"
      ],
      "metadata": {
        "id": "mv5KdfJqVCDo"
      },
      "execution_count": 264,
      "outputs": []
    },
    {
      "cell_type": "code",
      "source": [
        "#df=pd.get_dummies(df,columns=cols)"
      ],
      "metadata": {
        "id": "9vMefuusLiHh"
      },
      "execution_count": null,
      "outputs": []
    },
    {
      "cell_type": "code",
      "source": [
        "import gc\n",
        "gc.collect()\n",
        "\n",
        "from sklearn.preprocessing import MinMaxScaler\n",
        "scaler = MinMaxScaler()\n",
        "scaler.fit(df)\n",
        "\n",
        "scaler.transform(df)"
      ],
      "metadata": {
        "colab": {
          "base_uri": "https://localhost:8080/"
        },
        "id": "fosHjBqYOzxd",
        "outputId": "934d602c-4c4b-4950-e599-6487fc991e94"
      },
      "execution_count": 265,
      "outputs": [
        {
          "output_type": "execute_result",
          "data": {
            "text/plain": [
              "array([[0.00000000e+00, 1.80180180e-02, 1.13636364e-01, ...,\n",
              "        1.56739812e-03, 1.00000000e+00, 1.00000000e+00],\n",
              "       [0.00000000e+00, 3.93120393e-02, 1.59090909e-01, ...,\n",
              "        2.66457680e-02, 0.00000000e+00, 9.09090909e-01],\n",
              "       [0.00000000e+00, 8.19000819e-04, 1.13636364e-01, ...,\n",
              "        0.00000000e+00, 1.00000000e+00, 9.45454545e-01],\n",
              "       ...,\n",
              "       [           nan,            nan,            nan, ...,\n",
              "        0.00000000e+00, 0.00000000e+00, 4.54545455e-01],\n",
              "       [           nan,            nan,            nan, ...,\n",
              "        0.00000000e+00, 0.00000000e+00, 3.45454545e-01],\n",
              "       [           nan,            nan,            nan, ...,\n",
              "        0.00000000e+00, 1.00000000e+00, 3.45454545e-01]])"
            ]
          },
          "metadata": {},
          "execution_count": 265
        }
      ]
    },
    {
      "cell_type": "code",
      "source": [
        "df"
      ],
      "metadata": {
        "colab": {
          "base_uri": "https://localhost:8080/",
          "height": 488
        },
        "id": "T8rpn0DzPwFC",
        "outputId": "f774aa2e-4ec5-4686-fe31-e94ab68d0f14"
      },
      "execution_count": 229,
      "outputs": [
        {
          "output_type": "execute_result",
          "data": {
            "text/plain": [
              "       rev_Mean  mou_Mean  totmrc_Mean  da_Mean  ovrmou_Mean  ovrrev_Mean  \\\n",
              "0           0.0      22.0          2.0   0.2475          0.0          0.0   \n",
              "1           0.0      48.0          4.0   0.2475          2.0          0.0   \n",
              "2           0.0       1.0          2.0   0.0000          0.0          0.0   \n",
              "3           0.0       1.0          4.0   0.0000          0.0          0.0   \n",
              "4           0.0      57.0          7.0   0.0000          0.0          0.0   \n",
              "...         ...       ...          ...      ...          ...          ...   \n",
              "99995       NaN       NaN          NaN      NaN          NaN          NaN   \n",
              "99996       NaN       NaN          NaN      NaN          NaN          NaN   \n",
              "99997       NaN       NaN          NaN      NaN          NaN          NaN   \n",
              "99998       NaN       NaN          NaN      NaN          NaN          NaN   \n",
              "99999       NaN       NaN          NaN      NaN          NaN          NaN   \n",
              "\n",
              "       vceovr_Mean  datovr_Mean  roam_Mean  change_mou  ...  opk_dat_Mean  \\\n",
              "0              0.0          0.0        0.0       -16.0  ...           0.0   \n",
              "1              1.0          0.0        0.0        53.0  ...           0.0   \n",
              "2              0.0          0.0        0.0        -0.0  ...           0.0   \n",
              "3              0.0          0.0        0.0        -0.0  ...           0.0   \n",
              "4              0.0          0.0        0.0         4.0  ...           0.0   \n",
              "...            ...          ...        ...         ...  ...           ...   \n",
              "99995          NaN          NaN        NaN         NaN  ...           0.0   \n",
              "99996          NaN          NaN        NaN         NaN  ...           0.0   \n",
              "99997          NaN          NaN        NaN         NaN  ...           0.0   \n",
              "99998          NaN          NaN        NaN         NaN  ...           0.0   \n",
              "99999          NaN          NaN        NaN         NaN  ...           0.0   \n",
              "\n",
              "       mou_opkv_Mean  mou_opkd_Mean  drop_blk_Mean  attempt_Mean  \\\n",
              "0                0.0            0.0       1.333333           5.0   \n",
              "1                0.0            0.0       9.333333          26.0   \n",
              "2                0.0            0.0       0.333333           1.0   \n",
              "3                0.0            0.0       0.000000           0.0   \n",
              "4                0.0            0.0      10.333333          22.0   \n",
              "...              ...            ...            ...           ...   \n",
              "99995            0.0            0.0       2.000000           5.0   \n",
              "99996            0.0            0.0       4.000000           7.0   \n",
              "99997            0.0            0.0       0.000000           0.0   \n",
              "99998            0.0            0.0      19.333333          55.0   \n",
              "99999            0.0            0.0       6.333333          16.0   \n",
              "\n",
              "       complete_Mean  callfwdv_Mean  callwait_Mean  churn  months  \n",
              "0                4.0            0.0       0.333333      1      61  \n",
              "1               19.0            0.0       5.666667      0      56  \n",
              "2                1.0            0.0       0.000000      1      58  \n",
              "3                0.0            0.0       0.000000      0      60  \n",
              "4               14.0            0.0       0.000000      0      57  \n",
              "...              ...            ...            ...    ...     ...  \n",
              "99995            5.0            0.0       0.000000      1      25  \n",
              "99996            5.0            0.0       0.000000      0      27  \n",
              "99997            0.0            0.0       0.000000      0      31  \n",
              "99998           42.0            0.0       0.000000      0      25  \n",
              "99999           13.0            0.0       0.000000      1      25  \n",
              "\n",
              "[100000 rows x 50 columns]"
            ],
            "text/html": [
              "\n",
              "  <div id=\"df-71f8ac9c-26bb-4b7c-a201-efb9aa703463\">\n",
              "    <div class=\"colab-df-container\">\n",
              "      <div>\n",
              "<style scoped>\n",
              "    .dataframe tbody tr th:only-of-type {\n",
              "        vertical-align: middle;\n",
              "    }\n",
              "\n",
              "    .dataframe tbody tr th {\n",
              "        vertical-align: top;\n",
              "    }\n",
              "\n",
              "    .dataframe thead th {\n",
              "        text-align: right;\n",
              "    }\n",
              "</style>\n",
              "<table border=\"1\" class=\"dataframe\">\n",
              "  <thead>\n",
              "    <tr style=\"text-align: right;\">\n",
              "      <th></th>\n",
              "      <th>rev_Mean</th>\n",
              "      <th>mou_Mean</th>\n",
              "      <th>totmrc_Mean</th>\n",
              "      <th>da_Mean</th>\n",
              "      <th>ovrmou_Mean</th>\n",
              "      <th>ovrrev_Mean</th>\n",
              "      <th>vceovr_Mean</th>\n",
              "      <th>datovr_Mean</th>\n",
              "      <th>roam_Mean</th>\n",
              "      <th>change_mou</th>\n",
              "      <th>...</th>\n",
              "      <th>opk_dat_Mean</th>\n",
              "      <th>mou_opkv_Mean</th>\n",
              "      <th>mou_opkd_Mean</th>\n",
              "      <th>drop_blk_Mean</th>\n",
              "      <th>attempt_Mean</th>\n",
              "      <th>complete_Mean</th>\n",
              "      <th>callfwdv_Mean</th>\n",
              "      <th>callwait_Mean</th>\n",
              "      <th>churn</th>\n",
              "      <th>months</th>\n",
              "    </tr>\n",
              "  </thead>\n",
              "  <tbody>\n",
              "    <tr>\n",
              "      <th>0</th>\n",
              "      <td>0.0</td>\n",
              "      <td>22.0</td>\n",
              "      <td>2.0</td>\n",
              "      <td>0.2475</td>\n",
              "      <td>0.0</td>\n",
              "      <td>0.0</td>\n",
              "      <td>0.0</td>\n",
              "      <td>0.0</td>\n",
              "      <td>0.0</td>\n",
              "      <td>-16.0</td>\n",
              "      <td>...</td>\n",
              "      <td>0.0</td>\n",
              "      <td>0.0</td>\n",
              "      <td>0.0</td>\n",
              "      <td>1.333333</td>\n",
              "      <td>5.0</td>\n",
              "      <td>4.0</td>\n",
              "      <td>0.0</td>\n",
              "      <td>0.333333</td>\n",
              "      <td>1</td>\n",
              "      <td>61</td>\n",
              "    </tr>\n",
              "    <tr>\n",
              "      <th>1</th>\n",
              "      <td>0.0</td>\n",
              "      <td>48.0</td>\n",
              "      <td>4.0</td>\n",
              "      <td>0.2475</td>\n",
              "      <td>2.0</td>\n",
              "      <td>0.0</td>\n",
              "      <td>1.0</td>\n",
              "      <td>0.0</td>\n",
              "      <td>0.0</td>\n",
              "      <td>53.0</td>\n",
              "      <td>...</td>\n",
              "      <td>0.0</td>\n",
              "      <td>0.0</td>\n",
              "      <td>0.0</td>\n",
              "      <td>9.333333</td>\n",
              "      <td>26.0</td>\n",
              "      <td>19.0</td>\n",
              "      <td>0.0</td>\n",
              "      <td>5.666667</td>\n",
              "      <td>0</td>\n",
              "      <td>56</td>\n",
              "    </tr>\n",
              "    <tr>\n",
              "      <th>2</th>\n",
              "      <td>0.0</td>\n",
              "      <td>1.0</td>\n",
              "      <td>2.0</td>\n",
              "      <td>0.0000</td>\n",
              "      <td>0.0</td>\n",
              "      <td>0.0</td>\n",
              "      <td>0.0</td>\n",
              "      <td>0.0</td>\n",
              "      <td>0.0</td>\n",
              "      <td>-0.0</td>\n",
              "      <td>...</td>\n",
              "      <td>0.0</td>\n",
              "      <td>0.0</td>\n",
              "      <td>0.0</td>\n",
              "      <td>0.333333</td>\n",
              "      <td>1.0</td>\n",
              "      <td>1.0</td>\n",
              "      <td>0.0</td>\n",
              "      <td>0.000000</td>\n",
              "      <td>1</td>\n",
              "      <td>58</td>\n",
              "    </tr>\n",
              "    <tr>\n",
              "      <th>3</th>\n",
              "      <td>0.0</td>\n",
              "      <td>1.0</td>\n",
              "      <td>4.0</td>\n",
              "      <td>0.0000</td>\n",
              "      <td>0.0</td>\n",
              "      <td>0.0</td>\n",
              "      <td>0.0</td>\n",
              "      <td>0.0</td>\n",
              "      <td>0.0</td>\n",
              "      <td>-0.0</td>\n",
              "      <td>...</td>\n",
              "      <td>0.0</td>\n",
              "      <td>0.0</td>\n",
              "      <td>0.0</td>\n",
              "      <td>0.000000</td>\n",
              "      <td>0.0</td>\n",
              "      <td>0.0</td>\n",
              "      <td>0.0</td>\n",
              "      <td>0.000000</td>\n",
              "      <td>0</td>\n",
              "      <td>60</td>\n",
              "    </tr>\n",
              "    <tr>\n",
              "      <th>4</th>\n",
              "      <td>0.0</td>\n",
              "      <td>57.0</td>\n",
              "      <td>7.0</td>\n",
              "      <td>0.0000</td>\n",
              "      <td>0.0</td>\n",
              "      <td>0.0</td>\n",
              "      <td>0.0</td>\n",
              "      <td>0.0</td>\n",
              "      <td>0.0</td>\n",
              "      <td>4.0</td>\n",
              "      <td>...</td>\n",
              "      <td>0.0</td>\n",
              "      <td>0.0</td>\n",
              "      <td>0.0</td>\n",
              "      <td>10.333333</td>\n",
              "      <td>22.0</td>\n",
              "      <td>14.0</td>\n",
              "      <td>0.0</td>\n",
              "      <td>0.000000</td>\n",
              "      <td>0</td>\n",
              "      <td>57</td>\n",
              "    </tr>\n",
              "    <tr>\n",
              "      <th>...</th>\n",
              "      <td>...</td>\n",
              "      <td>...</td>\n",
              "      <td>...</td>\n",
              "      <td>...</td>\n",
              "      <td>...</td>\n",
              "      <td>...</td>\n",
              "      <td>...</td>\n",
              "      <td>...</td>\n",
              "      <td>...</td>\n",
              "      <td>...</td>\n",
              "      <td>...</td>\n",
              "      <td>...</td>\n",
              "      <td>...</td>\n",
              "      <td>...</td>\n",
              "      <td>...</td>\n",
              "      <td>...</td>\n",
              "      <td>...</td>\n",
              "      <td>...</td>\n",
              "      <td>...</td>\n",
              "      <td>...</td>\n",
              "      <td>...</td>\n",
              "    </tr>\n",
              "    <tr>\n",
              "      <th>99995</th>\n",
              "      <td>NaN</td>\n",
              "      <td>NaN</td>\n",
              "      <td>NaN</td>\n",
              "      <td>NaN</td>\n",
              "      <td>NaN</td>\n",
              "      <td>NaN</td>\n",
              "      <td>NaN</td>\n",
              "      <td>NaN</td>\n",
              "      <td>NaN</td>\n",
              "      <td>NaN</td>\n",
              "      <td>...</td>\n",
              "      <td>0.0</td>\n",
              "      <td>0.0</td>\n",
              "      <td>0.0</td>\n",
              "      <td>2.000000</td>\n",
              "      <td>5.0</td>\n",
              "      <td>5.0</td>\n",
              "      <td>0.0</td>\n",
              "      <td>0.000000</td>\n",
              "      <td>1</td>\n",
              "      <td>25</td>\n",
              "    </tr>\n",
              "    <tr>\n",
              "      <th>99996</th>\n",
              "      <td>NaN</td>\n",
              "      <td>NaN</td>\n",
              "      <td>NaN</td>\n",
              "      <td>NaN</td>\n",
              "      <td>NaN</td>\n",
              "      <td>NaN</td>\n",
              "      <td>NaN</td>\n",
              "      <td>NaN</td>\n",
              "      <td>NaN</td>\n",
              "      <td>NaN</td>\n",
              "      <td>...</td>\n",
              "      <td>0.0</td>\n",
              "      <td>0.0</td>\n",
              "      <td>0.0</td>\n",
              "      <td>4.000000</td>\n",
              "      <td>7.0</td>\n",
              "      <td>5.0</td>\n",
              "      <td>0.0</td>\n",
              "      <td>0.000000</td>\n",
              "      <td>0</td>\n",
              "      <td>27</td>\n",
              "    </tr>\n",
              "    <tr>\n",
              "      <th>99997</th>\n",
              "      <td>NaN</td>\n",
              "      <td>NaN</td>\n",
              "      <td>NaN</td>\n",
              "      <td>NaN</td>\n",
              "      <td>NaN</td>\n",
              "      <td>NaN</td>\n",
              "      <td>NaN</td>\n",
              "      <td>NaN</td>\n",
              "      <td>NaN</td>\n",
              "      <td>NaN</td>\n",
              "      <td>...</td>\n",
              "      <td>0.0</td>\n",
              "      <td>0.0</td>\n",
              "      <td>0.0</td>\n",
              "      <td>0.000000</td>\n",
              "      <td>0.0</td>\n",
              "      <td>0.0</td>\n",
              "      <td>0.0</td>\n",
              "      <td>0.000000</td>\n",
              "      <td>0</td>\n",
              "      <td>31</td>\n",
              "    </tr>\n",
              "    <tr>\n",
              "      <th>99998</th>\n",
              "      <td>NaN</td>\n",
              "      <td>NaN</td>\n",
              "      <td>NaN</td>\n",
              "      <td>NaN</td>\n",
              "      <td>NaN</td>\n",
              "      <td>NaN</td>\n",
              "      <td>NaN</td>\n",
              "      <td>NaN</td>\n",
              "      <td>NaN</td>\n",
              "      <td>NaN</td>\n",
              "      <td>...</td>\n",
              "      <td>0.0</td>\n",
              "      <td>0.0</td>\n",
              "      <td>0.0</td>\n",
              "      <td>19.333333</td>\n",
              "      <td>55.0</td>\n",
              "      <td>42.0</td>\n",
              "      <td>0.0</td>\n",
              "      <td>0.000000</td>\n",
              "      <td>0</td>\n",
              "      <td>25</td>\n",
              "    </tr>\n",
              "    <tr>\n",
              "      <th>99999</th>\n",
              "      <td>NaN</td>\n",
              "      <td>NaN</td>\n",
              "      <td>NaN</td>\n",
              "      <td>NaN</td>\n",
              "      <td>NaN</td>\n",
              "      <td>NaN</td>\n",
              "      <td>NaN</td>\n",
              "      <td>NaN</td>\n",
              "      <td>NaN</td>\n",
              "      <td>NaN</td>\n",
              "      <td>...</td>\n",
              "      <td>0.0</td>\n",
              "      <td>0.0</td>\n",
              "      <td>0.0</td>\n",
              "      <td>6.333333</td>\n",
              "      <td>16.0</td>\n",
              "      <td>13.0</td>\n",
              "      <td>0.0</td>\n",
              "      <td>0.000000</td>\n",
              "      <td>1</td>\n",
              "      <td>25</td>\n",
              "    </tr>\n",
              "  </tbody>\n",
              "</table>\n",
              "<p>100000 rows × 50 columns</p>\n",
              "</div>\n",
              "      <button class=\"colab-df-convert\" onclick=\"convertToInteractive('df-71f8ac9c-26bb-4b7c-a201-efb9aa703463')\"\n",
              "              title=\"Convert this dataframe to an interactive table.\"\n",
              "              style=\"display:none;\">\n",
              "        \n",
              "  <svg xmlns=\"http://www.w3.org/2000/svg\" height=\"24px\"viewBox=\"0 0 24 24\"\n",
              "       width=\"24px\">\n",
              "    <path d=\"M0 0h24v24H0V0z\" fill=\"none\"/>\n",
              "    <path d=\"M18.56 5.44l.94 2.06.94-2.06 2.06-.94-2.06-.94-.94-2.06-.94 2.06-2.06.94zm-11 1L8.5 8.5l.94-2.06 2.06-.94-2.06-.94L8.5 2.5l-.94 2.06-2.06.94zm10 10l.94 2.06.94-2.06 2.06-.94-2.06-.94-.94-2.06-.94 2.06-2.06.94z\"/><path d=\"M17.41 7.96l-1.37-1.37c-.4-.4-.92-.59-1.43-.59-.52 0-1.04.2-1.43.59L10.3 9.45l-7.72 7.72c-.78.78-.78 2.05 0 2.83L4 21.41c.39.39.9.59 1.41.59.51 0 1.02-.2 1.41-.59l7.78-7.78 2.81-2.81c.8-.78.8-2.07 0-2.86zM5.41 20L4 18.59l7.72-7.72 1.47 1.35L5.41 20z\"/>\n",
              "  </svg>\n",
              "      </button>\n",
              "      \n",
              "  <style>\n",
              "    .colab-df-container {\n",
              "      display:flex;\n",
              "      flex-wrap:wrap;\n",
              "      gap: 12px;\n",
              "    }\n",
              "\n",
              "    .colab-df-convert {\n",
              "      background-color: #E8F0FE;\n",
              "      border: none;\n",
              "      border-radius: 50%;\n",
              "      cursor: pointer;\n",
              "      display: none;\n",
              "      fill: #1967D2;\n",
              "      height: 32px;\n",
              "      padding: 0 0 0 0;\n",
              "      width: 32px;\n",
              "    }\n",
              "\n",
              "    .colab-df-convert:hover {\n",
              "      background-color: #E2EBFA;\n",
              "      box-shadow: 0px 1px 2px rgba(60, 64, 67, 0.3), 0px 1px 3px 1px rgba(60, 64, 67, 0.15);\n",
              "      fill: #174EA6;\n",
              "    }\n",
              "\n",
              "    [theme=dark] .colab-df-convert {\n",
              "      background-color: #3B4455;\n",
              "      fill: #D2E3FC;\n",
              "    }\n",
              "\n",
              "    [theme=dark] .colab-df-convert:hover {\n",
              "      background-color: #434B5C;\n",
              "      box-shadow: 0px 1px 3px 1px rgba(0, 0, 0, 0.15);\n",
              "      filter: drop-shadow(0px 1px 2px rgba(0, 0, 0, 0.3));\n",
              "      fill: #FFFFFF;\n",
              "    }\n",
              "  </style>\n",
              "\n",
              "      <script>\n",
              "        const buttonEl =\n",
              "          document.querySelector('#df-71f8ac9c-26bb-4b7c-a201-efb9aa703463 button.colab-df-convert');\n",
              "        buttonEl.style.display =\n",
              "          google.colab.kernel.accessAllowed ? 'block' : 'none';\n",
              "\n",
              "        async function convertToInteractive(key) {\n",
              "          const element = document.querySelector('#df-71f8ac9c-26bb-4b7c-a201-efb9aa703463');\n",
              "          const dataTable =\n",
              "            await google.colab.kernel.invokeFunction('convertToInteractive',\n",
              "                                                     [key], {});\n",
              "          if (!dataTable) return;\n",
              "\n",
              "          const docLinkHtml = 'Like what you see? Visit the ' +\n",
              "            '<a target=\"_blank\" href=https://colab.research.google.com/notebooks/data_table.ipynb>data table notebook</a>'\n",
              "            + ' to learn more about interactive tables.';\n",
              "          element.innerHTML = '';\n",
              "          dataTable['output_type'] = 'display_data';\n",
              "          await google.colab.output.renderOutput(dataTable, element);\n",
              "          const docLink = document.createElement('div');\n",
              "          docLink.innerHTML = docLinkHtml;\n",
              "          element.appendChild(docLink);\n",
              "        }\n",
              "      </script>\n",
              "    </div>\n",
              "  </div>\n",
              "  "
            ]
          },
          "metadata": {},
          "execution_count": 229
        }
      ]
    },
    {
      "cell_type": "code",
      "metadata": {
        "id": "zO33TTaZmmAJ"
      },
      "source": [
        "from sklearn.model_selection import train_test_split\n",
        "import lightgbm as lgb"
      ],
      "execution_count": 266,
      "outputs": []
    },
    {
      "cell_type": "code",
      "metadata": {
        "id": "bc9PFQIHmTu-"
      },
      "source": [
        "X = df.drop('churn',axis=1) \n",
        "y = df['churn'] # 目的変数\n",
        "# トレーニングデータ,テストデータの分割\n",
        "X_train, X_valid, y_train, y_valid = train_test_split(X, y,test_size=0.2, random_state=0)"
      ],
      "execution_count": 267,
      "outputs": []
    },
    {
      "cell_type": "code",
      "metadata": {
        "colab": {
          "base_uri": "https://localhost:8080/"
        },
        "id": "TROzBdTSmfBi",
        "outputId": "d781ba12-b5d8-41df-c422-23e624195ae5"
      },
      "source": [
        "# 学習に使用するデータを設定\n",
        "lgb_train = lgb.Dataset(X_train, y_train)\n",
        "lgb_eval = lgb.Dataset(X_valid, y_valid, reference=lgb_train) \n",
        "\n",
        "# パラメータ\n",
        "params = {\n",
        "        'task': 'train',\n",
        "        'boosting_type': 'gbdt',\n",
        "        'objective': 'binary', # 目的 : 分類\n",
        "        'metric': {'auc'},\n",
        "         'num_leaves': 20,             \n",
        "        'max_depth':5,\n",
        "        'min_data_in_leaf': 3,        \n",
        "        'num_iteration': 100,            \n",
        "        'learning_rate':0.03,\n",
        "        'num_boost_round':100,\n",
        "         'early_stopping_rounds':20, \n",
        "}\n",
        "\n",
        "# モデルの学習\n",
        "model = lgb.train(params,\n",
        "                  train_set=lgb_train, # トレーニングデータの指定\n",
        "                  valid_sets=lgb_eval, # 検証データの指定\n",
        "                  )\n",
        "\n",
        "# テストデータの予測\n",
        "y_pred = model.predict(X_valid)"
      ],
      "execution_count": 268,
      "outputs": [
        {
          "output_type": "stream",
          "name": "stderr",
          "text": [
            "/usr/local/lib/python3.7/dist-packages/lightgbm/engine.py:118: UserWarning: Found `num_iteration` in params. Will use it instead of argument\n",
            "  warnings.warn(\"Found `{}` in params. Will use it instead of argument\".format(alias))\n",
            "/usr/local/lib/python3.7/dist-packages/lightgbm/engine.py:123: UserWarning: Found `early_stopping_rounds` in params. Will use it instead of argument\n",
            "  warnings.warn(\"Found `{}` in params. Will use it instead of argument\".format(alias))\n"
          ]
        },
        {
          "output_type": "stream",
          "name": "stdout",
          "text": [
            "[1]\tvalid_0's auc: 0.622971\n",
            "Training until validation scores don't improve for 20 rounds.\n",
            "[2]\tvalid_0's auc: 0.624785\n",
            "[3]\tvalid_0's auc: 0.627015\n",
            "[4]\tvalid_0's auc: 0.627768\n",
            "[5]\tvalid_0's auc: 0.627627\n",
            "[6]\tvalid_0's auc: 0.631479\n",
            "[7]\tvalid_0's auc: 0.632001\n",
            "[8]\tvalid_0's auc: 0.632604\n",
            "[9]\tvalid_0's auc: 0.632963\n",
            "[10]\tvalid_0's auc: 0.633394\n",
            "[11]\tvalid_0's auc: 0.63391\n",
            "[12]\tvalid_0's auc: 0.634267\n",
            "[13]\tvalid_0's auc: 0.635221\n",
            "[14]\tvalid_0's auc: 0.63588\n",
            "[15]\tvalid_0's auc: 0.635919\n",
            "[16]\tvalid_0's auc: 0.636462\n",
            "[17]\tvalid_0's auc: 0.636821\n",
            "[18]\tvalid_0's auc: 0.637545\n",
            "[19]\tvalid_0's auc: 0.637736\n",
            "[20]\tvalid_0's auc: 0.637848\n",
            "[21]\tvalid_0's auc: 0.638088\n",
            "[22]\tvalid_0's auc: 0.638514\n",
            "[23]\tvalid_0's auc: 0.638708\n",
            "[24]\tvalid_0's auc: 0.639015\n",
            "[25]\tvalid_0's auc: 0.639887\n",
            "[26]\tvalid_0's auc: 0.640039\n",
            "[27]\tvalid_0's auc: 0.640578\n",
            "[28]\tvalid_0's auc: 0.640685\n",
            "[29]\tvalid_0's auc: 0.641236\n",
            "[30]\tvalid_0's auc: 0.641687\n",
            "[31]\tvalid_0's auc: 0.641672\n",
            "[32]\tvalid_0's auc: 0.641953\n",
            "[33]\tvalid_0's auc: 0.642061\n",
            "[34]\tvalid_0's auc: 0.64236\n",
            "[35]\tvalid_0's auc: 0.642297\n",
            "[36]\tvalid_0's auc: 0.64262\n",
            "[37]\tvalid_0's auc: 0.642522\n",
            "[38]\tvalid_0's auc: 0.642793\n",
            "[39]\tvalid_0's auc: 0.64302\n",
            "[40]\tvalid_0's auc: 0.643263\n",
            "[41]\tvalid_0's auc: 0.643162\n",
            "[42]\tvalid_0's auc: 0.643386\n",
            "[43]\tvalid_0's auc: 0.643434\n",
            "[44]\tvalid_0's auc: 0.643507\n",
            "[45]\tvalid_0's auc: 0.643563\n",
            "[46]\tvalid_0's auc: 0.643753\n",
            "[47]\tvalid_0's auc: 0.643838\n",
            "[48]\tvalid_0's auc: 0.64407\n",
            "[49]\tvalid_0's auc: 0.644019\n",
            "[50]\tvalid_0's auc: 0.644207\n",
            "[51]\tvalid_0's auc: 0.644272\n",
            "[52]\tvalid_0's auc: 0.644454\n",
            "[53]\tvalid_0's auc: 0.644402\n",
            "[54]\tvalid_0's auc: 0.644707\n",
            "[55]\tvalid_0's auc: 0.644955\n",
            "[56]\tvalid_0's auc: 0.645114\n",
            "[57]\tvalid_0's auc: 0.645125\n",
            "[58]\tvalid_0's auc: 0.645357\n",
            "[59]\tvalid_0's auc: 0.645347\n",
            "[60]\tvalid_0's auc: 0.645521\n",
            "[61]\tvalid_0's auc: 0.645553\n",
            "[62]\tvalid_0's auc: 0.645662\n",
            "[63]\tvalid_0's auc: 0.645957\n",
            "[64]\tvalid_0's auc: 0.646133\n",
            "[65]\tvalid_0's auc: 0.646215\n",
            "[66]\tvalid_0's auc: 0.646262\n",
            "[67]\tvalid_0's auc: 0.646466\n",
            "[68]\tvalid_0's auc: 0.646638\n",
            "[69]\tvalid_0's auc: 0.646663\n",
            "[70]\tvalid_0's auc: 0.646719\n",
            "[71]\tvalid_0's auc: 0.647001\n",
            "[72]\tvalid_0's auc: 0.646989\n",
            "[73]\tvalid_0's auc: 0.647303\n",
            "[74]\tvalid_0's auc: 0.647442\n",
            "[75]\tvalid_0's auc: 0.647651\n",
            "[76]\tvalid_0's auc: 0.647694\n",
            "[77]\tvalid_0's auc: 0.647825\n",
            "[78]\tvalid_0's auc: 0.648041\n",
            "[79]\tvalid_0's auc: 0.648185\n",
            "[80]\tvalid_0's auc: 0.648326\n",
            "[81]\tvalid_0's auc: 0.648624\n",
            "[82]\tvalid_0's auc: 0.648673\n",
            "[83]\tvalid_0's auc: 0.648751\n",
            "[84]\tvalid_0's auc: 0.648851\n",
            "[85]\tvalid_0's auc: 0.648916\n",
            "[86]\tvalid_0's auc: 0.649036\n",
            "[87]\tvalid_0's auc: 0.64905\n",
            "[88]\tvalid_0's auc: 0.649032\n",
            "[89]\tvalid_0's auc: 0.649094\n",
            "[90]\tvalid_0's auc: 0.64916\n",
            "[91]\tvalid_0's auc: 0.649279\n",
            "[92]\tvalid_0's auc: 0.649363\n",
            "[93]\tvalid_0's auc: 0.649389\n",
            "[94]\tvalid_0's auc: 0.649571\n",
            "[95]\tvalid_0's auc: 0.649722\n",
            "[96]\tvalid_0's auc: 0.649666\n",
            "[97]\tvalid_0's auc: 0.649702\n",
            "[98]\tvalid_0's auc: 0.649744\n",
            "[99]\tvalid_0's auc: 0.649844\n",
            "[100]\tvalid_0's auc: 0.649953\n",
            "Did not meet early stopping. Best iteration is:\n",
            "[100]\tvalid_0's auc: 0.649953\n"
          ]
        }
      ]
    },
    {
      "cell_type": "code",
      "metadata": {
        "id": "1UP_4Dv8nJrv",
        "colab": {
          "base_uri": "https://localhost:8080/",
          "height": 1000
        },
        "outputId": "7a96b286-49dd-457a-f759-c8f7c61fad61"
      },
      "source": [
        "lgb.plot_importance(model, height=0.5, figsize=(40,40))"
      ],
      "execution_count": 269,
      "outputs": [
        {
          "output_type": "execute_result",
          "data": {
            "text/plain": [
              "<matplotlib.axes._subplots.AxesSubplot at 0x7f52b10f5810>"
            ]
          },
          "metadata": {},
          "execution_count": 269
        },
        {
          "output_type": "display_data",
          "data": {
            "text/plain": [
              "<Figure size 2880x2880 with 1 Axes>"
            ],
            "image/png": "[encoded data removed]"
          },
          "metadata": {
            "needs_background": "light"
          }
        }
      ]
    },
    {
      "cell_type": "code",
      "source": [
        "sns.histplot(data=df, x=\"change_mou\",bins=range(-50,50,1),hue='churn')"
      ],
      "metadata": {
        "colab": {
          "base_uri": "https://localhost:8080/",
          "height": 298
        },
        "id": "63OoNe57ZjoZ",
        "outputId": "c723df84-78d9-47bd-a91a-7c00fdc809c1"
      },
      "execution_count": 270,
      "outputs": [
        {
          "output_type": "execute_result",
          "data": {
            "text/plain": [
              "<matplotlib.axes._subplots.AxesSubplot at 0x7f52b0df5150>"
            ]
          },
          "metadata": {},
          "execution_count": 270
        },
        {
          "output_type": "display_data",
          "data": {
            "text/plain": [
              "<Figure size 432x288 with 1 Axes>"
            ],
            "image/png": "[encoded data removed]"
          },
          "metadata": {
            "needs_background": "light"
          }
        }
      ]
    },
    {
      "cell_type": "code",
      "source": [
        "sns.histplot(data=df, x=\"months\",hue='churn')"
      ],
      "metadata": {
        "colab": {
          "base_uri": "https://localhost:8080/",
          "height": 297
        },
        "id": "SL3NcVkwp-45",
        "outputId": "a5643692-570e-4cf4-a7a0-3a7039d8aacc"
      },
      "execution_count": 271,
      "outputs": [
        {
          "output_type": "execute_result",
          "data": {
            "text/plain": [
              "<matplotlib.axes._subplots.AxesSubplot at 0x7f52b0dbd410>"
            ]
          },
          "metadata": {},
          "execution_count": 271
        },
        {
          "output_type": "display_data",
          "data": {
            "text/plain": [
              "<Figure size 432x288 with 1 Axes>"
            ],
            "image/png": "[encoded data removed]"
          },
          "metadata": {
            "needs_background": "light"
          }
        }
      ]
    },
    {
      "cell_type": "markdown",
      "source": [
        "# 12か月目に離脱している顧客が非常に多い"
      ],
      "metadata": {
        "id": "Rqa3ZLs6q3y_"
      }
    },
    {
      "cell_type": "code",
      "metadata": {
        "id": "IluopZDnrToo"
      },
      "source": [
        "X = df.loc[df['months']==12]\n",
        "X = X.drop('churn',axis=1)\n",
        "y = df.loc[df['months']==12,'churn'] # 目的変数\n",
        "# トレーニングデータ,テストデータの分割\n",
        "X_train, X_valid, y_train, y_valid = train_test_split(X, y,test_size=0.2, random_state=0)"
      ],
      "execution_count": 272,
      "outputs": []
    },
    {
      "cell_type": "code",
      "source": [
        ""
      ],
      "metadata": {
        "id": "d3OGx6vtsm3L"
      },
      "execution_count": null,
      "outputs": []
    },
    {
      "cell_type": "code",
      "metadata": {
        "colab": {
          "base_uri": "https://localhost:8080/"
        },
        "id": "b_et3dQ6rjje",
        "outputId": "0e1b51bb-414c-41ef-a790-1c116f189d0d"
      },
      "source": [
        "# 学習に使用するデータを設定\n",
        "lgb_train = lgb.Dataset(X_train, y_train)\n",
        "lgb_eval = lgb.Dataset(X_valid, y_valid, reference=lgb_train) \n",
        "\n",
        "# パラメータ\n",
        "params = {\n",
        "        'task': 'train',\n",
        "        'boosting_type': 'gbdt',\n",
        "        'objective': 'binary', # 目的 : 分類\n",
        "        'metric': {'auc'},\n",
        "         'num_leaves': 20,             \n",
        "        'max_depth':5,\n",
        "        'min_data_in_leaf': 3,        \n",
        "        'num_iteration': 100,            \n",
        "        'learning_rate':0.03,\n",
        "        'num_boost_round':100,\n",
        "         'early_stopping_rounds':20, \n",
        "}\n",
        "\n",
        "# モデルの学習\n",
        "model = lgb.train(params,\n",
        "                  train_set=lgb_train, # トレーニングデータの指定\n",
        "                  valid_sets=lgb_eval, # 検証データの指定\n",
        "                  )\n",
        "\n",
        "# テストデータの予測\n",
        "y_pred = model.predict(X_valid)"
      ],
      "execution_count": 273,
      "outputs": [
        {
          "output_type": "stream",
          "name": "stdout",
          "text": [
            "[1]\tvalid_0's auc: 0.548285\n",
            "Training until validation scores don't improve for 20 rounds.\n",
            "[2]\tvalid_0's auc: 0.552116\n",
            "[3]\tvalid_0's auc: 0.55235\n",
            "[4]\tvalid_0's auc: 0.552888\n",
            "[5]\tvalid_0's auc: 0.553364\n",
            "[6]\tvalid_0's auc: 0.555547\n",
            "[7]\tvalid_0's auc: 0.554401\n",
            "[8]\tvalid_0's auc: 0.559109\n",
            "[9]\tvalid_0's auc: 0.555906\n",
            "[10]\tvalid_0's auc: 0.555939\n",
            "[11]\tvalid_0's auc: 0.555783\n",
            "[12]\tvalid_0's auc: 0.551876\n",
            "[13]\tvalid_0's auc: 0.555515\n",
            "[14]\tvalid_0's auc: 0.558353\n",
            "[15]\tvalid_0's auc: 0.559948\n",
            "[16]\tvalid_0's auc: 0.567033\n",
            "[17]\tvalid_0's auc: 0.567012\n",
            "[18]\tvalid_0's auc: 0.567632\n",
            "[19]\tvalid_0's auc: 0.569008\n",
            "[20]\tvalid_0's auc: 0.569046\n",
            "[21]\tvalid_0's auc: 0.568462\n",
            "[22]\tvalid_0's auc: 0.568833\n",
            "[23]\tvalid_0's auc: 0.569857\n",
            "[24]\tvalid_0's auc: 0.569471\n",
            "[25]\tvalid_0's auc: 0.569934\n",
            "[26]\tvalid_0's auc: 0.570799\n",
            "[27]\tvalid_0's auc: 0.569743\n",
            "[28]\tvalid_0's auc: 0.571341\n",
            "[29]\tvalid_0's auc: 0.571813\n",
            "[30]\tvalid_0's auc: 0.572425\n",
            "[31]\tvalid_0's auc: 0.57121\n",
            "[32]\tvalid_0's auc: 0.571067\n",
            "[33]\tvalid_0's auc: 0.571742\n",
            "[34]\tvalid_0's auc: 0.571233\n",
            "[35]\tvalid_0's auc: 0.572122\n",
            "[36]\tvalid_0's auc: 0.572545\n",
            "[37]\tvalid_0's auc: 0.573266\n",
            "[38]\tvalid_0's auc: 0.573439\n",
            "[39]\tvalid_0's auc: 0.57458\n",
            "[40]\tvalid_0's auc: 0.573974\n",
            "[41]\tvalid_0's auc: 0.573824\n",
            "[42]\tvalid_0's auc: 0.571916\n",
            "[43]\tvalid_0's auc: 0.571184\n",
            "[44]\tvalid_0's auc: 0.571893\n",
            "[45]\tvalid_0's auc: 0.572368\n",
            "[46]\tvalid_0's auc: 0.573217\n",
            "[47]\tvalid_0's auc: 0.572468\n",
            "[48]\tvalid_0's auc: 0.572325\n",
            "[49]\tvalid_0's auc: 0.572359\n",
            "[50]\tvalid_0's auc: 0.573146\n",
            "[51]\tvalid_0's auc: 0.573207\n",
            "[52]\tvalid_0's auc: 0.572753\n",
            "[53]\tvalid_0's auc: 0.572487\n",
            "[54]\tvalid_0's auc: 0.572753\n",
            "[55]\tvalid_0's auc: 0.572663\n",
            "[56]\tvalid_0's auc: 0.573266\n",
            "[57]\tvalid_0's auc: 0.572794\n",
            "[58]\tvalid_0's auc: 0.573666\n",
            "[59]\tvalid_0's auc: 0.573826\n",
            "Early stopping, best iteration is:\n",
            "[39]\tvalid_0's auc: 0.57458\n"
          ]
        },
        {
          "output_type": "stream",
          "name": "stderr",
          "text": [
            "/usr/local/lib/python3.7/dist-packages/lightgbm/engine.py:118: UserWarning: Found `num_iteration` in params. Will use it instead of argument\n",
            "  warnings.warn(\"Found `{}` in params. Will use it instead of argument\".format(alias))\n",
            "/usr/local/lib/python3.7/dist-packages/lightgbm/engine.py:123: UserWarning: Found `early_stopping_rounds` in params. Will use it instead of argument\n",
            "  warnings.warn(\"Found `{}` in params. Will use it instead of argument\".format(alias))\n"
          ]
        }
      ]
    },
    {
      "cell_type": "code",
      "metadata": {
        "colab": {
          "base_uri": "https://localhost:8080/",
          "height": 1000
        },
        "outputId": "120ecf9a-333e-4a42-b681-d5142aa278f5",
        "id": "4EY7QhfBr2g2"
      },
      "source": [
        "lgb.plot_importance(model, height=0.5, figsize=(30,40))"
      ],
      "execution_count": 274,
      "outputs": [
        {
          "output_type": "execute_result",
          "data": {
            "text/plain": [
              "<matplotlib.axes._subplots.AxesSubplot at 0x7f52b08c2850>"
            ]
          },
          "metadata": {},
          "execution_count": 274
        },
        {
          "output_type": "display_data",
          "data": {
            "text/plain": [
              "<Figure size 2160x2880 with 1 Axes>"
            ],
            "image/png": "[encoded data removed]"
          },
          "metadata": {
            "needs_background": "light"
          }
        }
      ]
    },
    {
      "cell_type": "code",
      "source": [
        "sns.histplot(data=df.loc[df['months']==12], x=\"mou_Mean\",bins=range(0,50,1),hue='churn')"
      ],
      "metadata": {
        "colab": {
          "base_uri": "https://localhost:8080/",
          "height": 298
        },
        "outputId": "4b317e7d-1817-41f6-c3c1-4ce570d60416",
        "id": "wv8lA7kzvQoV"
      },
      "execution_count": 275,
      "outputs": [
        {
          "output_type": "execute_result",
          "data": {
            "text/plain": [
              "<matplotlib.axes._subplots.AxesSubplot at 0x7f52b073bf10>"
            ]
          },
          "metadata": {},
          "execution_count": 275
        },
        {
          "output_type": "display_data",
          "data": {
            "text/plain": [
              "<Figure size 432x288 with 1 Axes>"
            ],
            "image/png": "[encoded data removed]"
          },
          "metadata": {
            "needs_background": "light"
          }
        }
      ]
    },
    {
      "cell_type": "code",
      "source": [
        ""
      ],
      "metadata": {
        "id": "F80nv2n4rTYE"
      },
      "execution_count": null,
      "outputs": []
    },
    {
      "cell_type": "markdown",
      "source": [
        "# **月間使用量が減少した顧客に脱退が多い**"
      ],
      "metadata": {
        "id": "7HxTBds3wiPE"
      }
    },
    {
      "cell_type": "code",
      "source": [
        "record.loc[(record['months']==12)&(record['churn']==1),'rev_Mean'].mode()"
      ],
      "metadata": {
        "colab": {
          "base_uri": "https://localhost:8080/"
        },
        "id": "qRlUlO56zdCo",
        "outputId": "815c4284-20b7-484d-c4ea-b2834160a73e"
      },
      "execution_count": 292,
      "outputs": [
        {
          "output_type": "execute_result",
          "data": {
            "text/plain": [
              "0    29.99\n",
              "dtype: float64"
            ]
          },
          "metadata": {},
          "execution_count": 292
        }
      ]
    },
    {
      "cell_type": "code",
      "source": [
        "record.loc[(record['months']==12)&(record['churn']==0),'rev_Mean'].mode()"
      ],
      "metadata": {
        "colab": {
          "base_uri": "https://localhost:8080/"
        },
        "id": "1fDASXpv0TeG",
        "outputId": "a60218e9-0178-46eb-8368-b533ce980f43"
      },
      "execution_count": 293,
      "outputs": [
        {
          "output_type": "execute_result",
          "data": {
            "text/plain": [
              "0    29.99\n",
              "dtype: float64"
            ]
          },
          "metadata": {},
          "execution_count": 293
        }
      ]
    },
    {
      "cell_type": "code",
      "source": [
        "record.loc[(record['months']==12)&(record['churn']==1),'rev_Mean'].hist()"
      ],
      "metadata": {
        "colab": {
          "base_uri": "https://localhost:8080/",
          "height": 283
        },
        "id": "ni9rqY1y1FdM",
        "outputId": "5bdf00ab-b49b-4583-830a-06d97581ad6e"
      },
      "execution_count": 294,
      "outputs": [
        {
          "output_type": "execute_result",
          "data": {
            "text/plain": [
              "<matplotlib.axes._subplots.AxesSubplot at 0x7f52b041ca50>"
            ]
          },
          "metadata": {},
          "execution_count": 294
        },
        {
          "output_type": "display_data",
          "data": {
            "text/plain": [
              "<Figure size 432x288 with 1 Axes>"
            ],
            "image/png": "[encoded data removed]"
          },
          "metadata": {
            "needs_background": "light"
          }
        }
      ]
    },
    {
      "cell_type": "code",
      "source": [
        "#df.loc[(df['months']==12)&(df['churn']==1),'avg6mou'].hist(bins=50)"
      ],
      "metadata": {
        "id": "cS8-kRUj1QVs"
      },
      "execution_count": 279,
      "outputs": []
    },
    {
      "cell_type": "code",
      "source": [
        ""
      ],
      "metadata": {
        "id": "899opVUf1YQ0"
      },
      "execution_count": null,
      "outputs": []
    },
    {
      "cell_type": "code",
      "source": [
        "#df.loc[(df['months']==12)&(df['churn']==0),'avg3mou'].hist(bins=50)"
      ],
      "metadata": {
        "id": "fWZJkp4_1Yk2"
      },
      "execution_count": null,
      "outputs": []
    },
    {
      "cell_type": "code",
      "source": [
        ""
      ],
      "metadata": {
        "id": "qp5898731caU"
      },
      "execution_count": null,
      "outputs": []
    },
    {
      "cell_type": "code",
      "source": [
        "#df.loc[(df['months']==12)&(df['churn']==0),'avg6mou'].hist(bins=50)"
      ],
      "metadata": {
        "id": "gpgNSluR1c8F"
      },
      "execution_count": null,
      "outputs": []
    },
    {
      "cell_type": "code",
      "source": [
        ""
      ],
      "metadata": {
        "id": "L1_e0Bpi38sw"
      },
      "execution_count": null,
      "outputs": []
    },
    {
      "cell_type": "code",
      "source": [
        "#df['dec']=df['avg6mou']-df['avg3mou']\n",
        "#sns.histplot(data=df.loc[df['months']==12], bins=range(-50,50,1), x=\"dec\",hue='churn')"
      ],
      "metadata": {
        "id": "jQtJS4Ih39jo"
      },
      "execution_count": 280,
      "outputs": []
    },
    {
      "cell_type": "code",
      "source": [
        ""
      ],
      "metadata": {
        "id": "OQlmEX-O5WNt"
      },
      "execution_count": null,
      "outputs": []
    },
    {
      "cell_type": "markdown",
      "source": [
        "Mean monthly revenue (charge amount)"
      ],
      "metadata": {
        "id": "Z85k98ojaMzX"
      }
    },
    {
      "cell_type": "code",
      "source": [
        "record.loc[record['rev_Mean'].notna(),'rev_Mean']"
      ],
      "metadata": {
        "colab": {
          "base_uri": "https://localhost:8080/"
        },
        "id": "f0POeVI3xvE3",
        "outputId": "7279bf91-caee-4ea7-b83e-1e115c7e5e7d"
      },
      "execution_count": 295,
      "outputs": [
        {
          "output_type": "execute_result",
          "data": {
            "text/plain": [
              "0         23.997500\n",
              "1         57.492500\n",
              "2         16.990000\n",
              "3         38.000000\n",
              "4         55.230000\n",
              "            ...    \n",
              "99984     85.150000\n",
              "99985     71.993333\n",
              "99986    117.490000\n",
              "99990     29.990000\n",
              "99993     95.170000\n",
              "Name: rev_Mean, Length: 99643, dtype: float64"
            ]
          },
          "metadata": {},
          "execution_count": 295
        }
      ]
    },
    {
      "cell_type": "code",
      "source": [
        "ser = record.loc[record['rev_Mean'].notna()].groupby('months')['rev_Mean'].sum()/record.loc[record['rev_Mean'].notna(),'rev_Mean'].sum()\n",
        "dfp = pd.DataFrame({'month':ser.keys(), 'percent':ser})\n",
        "sns.lineplot(x='month', y='percent',data=dfp)"
      ],
      "metadata": {
        "colab": {
          "base_uri": "https://localhost:8080/",
          "height": 297
        },
        "id": "INgRfxp3NE_k",
        "outputId": "45581a4b-af09-496d-eb8e-567f9b99b5ad"
      },
      "execution_count": 296,
      "outputs": [
        {
          "output_type": "execute_result",
          "data": {
            "text/plain": [
              "<matplotlib.axes._subplots.AxesSubplot at 0x7f52b028fd90>"
            ]
          },
          "metadata": {},
          "execution_count": 296
        },
        {
          "output_type": "display_data",
          "data": {
            "text/plain": [
              "<Figure size 432x288 with 1 Axes>"
            ],
            "image/png": "[encoded data removed]"
          },
          "metadata": {
            "needs_background": "light"
          }
        }
      ]
    },
    {
      "cell_type": "markdown",
      "source": [
        "# 顧客の累計支払額のシェアBilling adjusted total revenue over the life of the customer"
      ],
      "metadata": {
        "id": "Cd5UNVD9TybR"
      }
    },
    {
      "cell_type": "code",
      "source": [
        "ser = record.groupby('months')['rev_Mean'].sum()/record['rev_Mean'].sum()\n",
        "dfp = pd.DataFrame({'month':ser.keys(), 'percent':ser})\n",
        "sns.lineplot(x='month', y='percent',data=dfp)"
      ],
      "metadata": {
        "colab": {
          "base_uri": "https://localhost:8080/",
          "height": 297
        },
        "id": "cSL56nsYTHsb",
        "outputId": "6cc24015-6c3f-45f6-8a80-3c63f92e1976"
      },
      "execution_count": 297,
      "outputs": [
        {
          "output_type": "execute_result",
          "data": {
            "text/plain": [
              "<matplotlib.axes._subplots.AxesSubplot at 0x7f52b027ce10>"
            ]
          },
          "metadata": {},
          "execution_count": 297
        },
        {
          "output_type": "display_data",
          "data": {
            "text/plain": [
              "<Figure size 432x288 with 1 Axes>"
            ],
            "image/png": "[encoded data removed]"
          },
          "metadata": {
            "needs_background": "light"
          }
        }
      ]
    },
    {
      "cell_type": "markdown",
      "source": [
        "Average monthly number of calls over the life of the customer"
      ],
      "metadata": {
        "id": "TkfH-jnvYIrO"
      }
    },
    {
      "cell_type": "code",
      "source": [
        "ser = record.groupby('months')['rev_Mean'].mean()\n",
        "dfp = pd.DataFrame({'month':ser.keys(), 'number':ser})\n",
        "sns.lineplot(x='month', y='number',data=dfp)"
      ],
      "metadata": {
        "colab": {
          "base_uri": "https://localhost:8080/",
          "height": 297
        },
        "id": "1QV2X_y_XH2s",
        "outputId": "1881f466-590d-4137-e50f-a92180f938db"
      },
      "execution_count": 301,
      "outputs": [
        {
          "output_type": "execute_result",
          "data": {
            "text/plain": [
              "<matplotlib.axes._subplots.AxesSubplot at 0x7f52b0132190>"
            ]
          },
          "metadata": {},
          "execution_count": 301
        },
        {
          "output_type": "display_data",
          "data": {
            "text/plain": [
              "<Figure size 432x288 with 1 Axes>"
            ],
            "image/png": "[encoded data removed]"
          },
          "metadata": {
            "needs_background": "light"
          }
        }
      ]
    },
    {
      "cell_type": "markdown",
      "source": [
        "Average monthly revenue over the life of the customer"
      ],
      "metadata": {
        "id": "gkXOC6PqYlYn"
      }
    },
    {
      "cell_type": "code",
      "source": [
        "ser = record.groupby('months')['rev_Mean'].mean()\n",
        "dfp = pd.DataFrame({'month':ser.keys(), 'revenue':ser})\n",
        "sns.lineplot(x='month', y='revenue',data=dfp)"
      ],
      "metadata": {
        "colab": {
          "base_uri": "https://localhost:8080/",
          "height": 297
        },
        "id": "fsgFYD7KYvCE",
        "outputId": "715473dc-8667-4e9b-8a59-80d85875ff4c"
      },
      "execution_count": 302,
      "outputs": [
        {
          "output_type": "execute_result",
          "data": {
            "text/plain": [
              "<matplotlib.axes._subplots.AxesSubplot at 0x7f52b0378950>"
            ]
          },
          "metadata": {},
          "execution_count": 302
        },
        {
          "output_type": "display_data",
          "data": {
            "text/plain": [
              "<Figure size 432x288 with 1 Axes>"
            ],
            "image/png": "[encoded data removed]"
          },
          "metadata": {
            "needs_background": "light"
          }
        }
      ]
    },
    {
      "cell_type": "markdown",
      "source": [
        "顧客数のシェア"
      ],
      "metadata": {
        "id": "eZDVz8t6awat"
      }
    },
    {
      "cell_type": "code",
      "source": [
        "ser = record.groupby('months')['rev_Mean'].count()\n",
        "dfp = pd.DataFrame({'month':ser.keys(), 'number':ser})\n",
        "sns.lineplot(x='month', y='number',data=dfp)"
      ],
      "metadata": {
        "colab": {
          "base_uri": "https://localhost:8080/",
          "height": 297
        },
        "outputId": "df31f27f-1948-4227-b93c-dcce68e926f8",
        "id": "P8DfQkncZr8u"
      },
      "execution_count": 303,
      "outputs": [
        {
          "output_type": "execute_result",
          "data": {
            "text/plain": [
              "<matplotlib.axes._subplots.AxesSubplot at 0x7f52b0028110>"
            ]
          },
          "metadata": {},
          "execution_count": 303
        },
        {
          "output_type": "display_data",
          "data": {
            "text/plain": [
              "<Figure size 432x288 with 1 Axes>"
            ],
            "image/png": "[encoded data removed]"
          },
          "metadata": {
            "needs_background": "light"
          }
        }
      ]
    },
    {
      "cell_type": "code",
      "source": [
        "record.loc[record['rev_Mean']-record['ovrrev_Mean']-record['totmrc_Mean']<0]"
      ],
      "metadata": {
        "colab": {
          "base_uri": "https://localhost:8080/",
          "height": 488
        },
        "id": "qEcrEkBmgn49",
        "outputId": "abf185a9-2b37-450b-c589-087ca8132768"
      },
      "execution_count": 304,
      "outputs": [
        {
          "output_type": "execute_result",
          "data": {
            "text/plain": [
              "       rev_Mean     mou_Mean  totmrc_Mean  da_Mean  ovrmou_Mean  ovrrev_Mean  \\\n",
              "4       55.2300   570.500000       71.980   0.0000          0.0        0.000   \n",
              "7       38.0525   682.500000       52.490   0.2475          0.0        0.000   \n",
              "10      62.1275    97.500000       65.985   2.4750          0.0        0.000   \n",
              "19      50.9650   162.000000       69.990   0.0000          2.5        0.975   \n",
              "28      98.4225   608.000000       94.990   1.2375         41.5       12.195   \n",
              "...         ...          ...          ...      ...          ...          ...   \n",
              "99973    0.0000    76.000000       29.670   0.0000          0.0        0.000   \n",
              "99981   34.9900     6.333333       44.990   0.0000          0.0        0.000   \n",
              "99984   85.1500   815.000000       87.990   0.0000          1.0        0.390   \n",
              "99986  117.4900   384.000000       29.990   0.0000        250.0       87.500   \n",
              "99993   95.1700  1745.000000       84.990   0.9900         45.0       11.250   \n",
              "\n",
              "       vceovr_Mean  datovr_Mean  roam_Mean  change_mou  ...  opk_dat_Mean  \\\n",
              "4            0.000        0.000       0.00   38.500000  ...      0.000000   \n",
              "7            0.000        0.000       0.00  147.500000  ...      0.000000   \n",
              "10           0.000        0.000       0.00   23.500000  ...      0.000000   \n",
              "19           0.000        0.975       0.00  -58.000000  ...      1.333333   \n",
              "28           7.125        5.070       0.00 -563.000000  ...      0.000000   \n",
              "...            ...          ...        ...         ...  ...           ...   \n",
              "99973        0.000        0.000       0.00    0.000000  ...      0.000000   \n",
              "99981        0.000        0.000       0.00   -6.333333  ...      0.000000   \n",
              "99984        0.000        0.390       0.39    0.000000  ...      0.000000   \n",
              "99986       87.500        0.000       0.00    0.000000  ...      0.000000   \n",
              "99993       11.250        0.000       4.69  122.000000  ...      0.333333   \n",
              "\n",
              "       mou_opkv_Mean  mou_opkd_Mean  drop_blk_Mean  attempt_Mean  \\\n",
              "4         218.086667       0.000000      10.333333    222.333333   \n",
              "7         431.153333       0.000000      10.666667     97.000000   \n",
              "10         70.420000       0.000000       0.333333     19.666667   \n",
              "19         66.353333       2.373333       2.000000     62.000000   \n",
              "28        151.060000       0.000000       9.000000    284.666667   \n",
              "...              ...            ...            ...           ...   \n",
              "99973      35.530000       0.000000       6.666667     62.333333   \n",
              "99981       8.256667       0.000000       1.333333     13.666667   \n",
              "99984     189.606667       0.000000      12.000000     83.333333   \n",
              "99986      32.786667       0.000000       5.000000    169.333333   \n",
              "99993     523.593333       0.366667      17.333333    366.000000   \n",
              "\n",
              "       complete_Mean  callfwdv_Mean  callwait_Mean  churn  months  \n",
              "4         137.000000            0.0       0.000000      0      57  \n",
              "7          73.333333            0.0       0.666667      0      53  \n",
              "10         15.333333            0.0       0.000000      0      59  \n",
              "19         51.333333            0.0       0.000000      0      56  \n",
              "28        206.000000            0.0       4.666667      1      56  \n",
              "...              ...            ...            ...    ...     ...  \n",
              "99973      43.000000            0.0       0.000000      0      30  \n",
              "99981      11.666667            0.0       0.000000      1      30  \n",
              "99984      60.000000            0.0       0.000000      1      27  \n",
              "99986     138.000000            0.0       0.000000      1      30  \n",
              "99993     316.000000            0.0      14.333333      0      29  \n",
              "\n",
              "[50198 rows x 50 columns]"
            ],
            "text/html": [
              "\n",
              "  <div id=\"df-5952acf0-13ce-42f0-99dd-ab47d0f3f27f\">\n",
              "    <div class=\"colab-df-container\">\n",
              "      <div>\n",
              "<style scoped>\n",
              "    .dataframe tbody tr th:only-of-type {\n",
              "        vertical-align: middle;\n",
              "    }\n",
              "\n",
              "    .dataframe tbody tr th {\n",
              "        vertical-align: top;\n",
              "    }\n",
              "\n",
              "    .dataframe thead th {\n",
              "        text-align: right;\n",
              "    }\n",
              "</style>\n",
              "<table border=\"1\" class=\"dataframe\">\n",
              "  <thead>\n",
              "    <tr style=\"text-align: right;\">\n",
              "      <th></th>\n",
              "      <th>rev_Mean</th>\n",
              "      <th>mou_Mean</th>\n",
              "      <th>totmrc_Mean</th>\n",
              "      <th>da_Mean</th>\n",
              "      <th>ovrmou_Mean</th>\n",
              "      <th>ovrrev_Mean</th>\n",
              "      <th>vceovr_Mean</th>\n",
              "      <th>datovr_Mean</th>\n",
              "      <th>roam_Mean</th>\n",
              "      <th>change_mou</th>\n",
              "      <th>...</th>\n",
              "      <th>opk_dat_Mean</th>\n",
              "      <th>mou_opkv_Mean</th>\n",
              "      <th>mou_opkd_Mean</th>\n",
              "      <th>drop_blk_Mean</th>\n",
              "      <th>attempt_Mean</th>\n",
              "      <th>complete_Mean</th>\n",
              "      <th>callfwdv_Mean</th>\n",
              "      <th>callwait_Mean</th>\n",
              "      <th>churn</th>\n",
              "      <th>months</th>\n",
              "    </tr>\n",
              "  </thead>\n",
              "  <tbody>\n",
              "    <tr>\n",
              "      <th>4</th>\n",
              "      <td>55.2300</td>\n",
              "      <td>570.500000</td>\n",
              "      <td>71.980</td>\n",
              "      <td>0.0000</td>\n",
              "      <td>0.0</td>\n",
              "      <td>0.000</td>\n",
              "      <td>0.000</td>\n",
              "      <td>0.000</td>\n",
              "      <td>0.00</td>\n",
              "      <td>38.500000</td>\n",
              "      <td>...</td>\n",
              "      <td>0.000000</td>\n",
              "      <td>218.086667</td>\n",
              "      <td>0.000000</td>\n",
              "      <td>10.333333</td>\n",
              "      <td>222.333333</td>\n",
              "      <td>137.000000</td>\n",
              "      <td>0.0</td>\n",
              "      <td>0.000000</td>\n",
              "      <td>0</td>\n",
              "      <td>57</td>\n",
              "    </tr>\n",
              "    <tr>\n",
              "      <th>7</th>\n",
              "      <td>38.0525</td>\n",
              "      <td>682.500000</td>\n",
              "      <td>52.490</td>\n",
              "      <td>0.2475</td>\n",
              "      <td>0.0</td>\n",
              "      <td>0.000</td>\n",
              "      <td>0.000</td>\n",
              "      <td>0.000</td>\n",
              "      <td>0.00</td>\n",
              "      <td>147.500000</td>\n",
              "      <td>...</td>\n",
              "      <td>0.000000</td>\n",
              "      <td>431.153333</td>\n",
              "      <td>0.000000</td>\n",
              "      <td>10.666667</td>\n",
              "      <td>97.000000</td>\n",
              "      <td>73.333333</td>\n",
              "      <td>0.0</td>\n",
              "      <td>0.666667</td>\n",
              "      <td>0</td>\n",
              "      <td>53</td>\n",
              "    </tr>\n",
              "    <tr>\n",
              "      <th>10</th>\n",
              "      <td>62.1275</td>\n",
              "      <td>97.500000</td>\n",
              "      <td>65.985</td>\n",
              "      <td>2.4750</td>\n",
              "      <td>0.0</td>\n",
              "      <td>0.000</td>\n",
              "      <td>0.000</td>\n",
              "      <td>0.000</td>\n",
              "      <td>0.00</td>\n",
              "      <td>23.500000</td>\n",
              "      <td>...</td>\n",
              "      <td>0.000000</td>\n",
              "      <td>70.420000</td>\n",
              "      <td>0.000000</td>\n",
              "      <td>0.333333</td>\n",
              "      <td>19.666667</td>\n",
              "      <td>15.333333</td>\n",
              "      <td>0.0</td>\n",
              "      <td>0.000000</td>\n",
              "      <td>0</td>\n",
              "      <td>59</td>\n",
              "    </tr>\n",
              "    <tr>\n",
              "      <th>19</th>\n",
              "      <td>50.9650</td>\n",
              "      <td>162.000000</td>\n",
              "      <td>69.990</td>\n",
              "      <td>0.0000</td>\n",
              "      <td>2.5</td>\n",
              "      <td>0.975</td>\n",
              "      <td>0.000</td>\n",
              "      <td>0.975</td>\n",
              "      <td>0.00</td>\n",
              "      <td>-58.000000</td>\n",
              "      <td>...</td>\n",
              "      <td>1.333333</td>\n",
              "      <td>66.353333</td>\n",
              "      <td>2.373333</td>\n",
              "      <td>2.000000</td>\n",
              "      <td>62.000000</td>\n",
              "      <td>51.333333</td>\n",
              "      <td>0.0</td>\n",
              "      <td>0.000000</td>\n",
              "      <td>0</td>\n",
              "      <td>56</td>\n",
              "    </tr>\n",
              "    <tr>\n",
              "      <th>28</th>\n",
              "      <td>98.4225</td>\n",
              "      <td>608.000000</td>\n",
              "      <td>94.990</td>\n",
              "      <td>1.2375</td>\n",
              "      <td>41.5</td>\n",
              "      <td>12.195</td>\n",
              "      <td>7.125</td>\n",
              "      <td>5.070</td>\n",
              "      <td>0.00</td>\n",
              "      <td>-563.000000</td>\n",
              "      <td>...</td>\n",
              "      <td>0.000000</td>\n",
              "      <td>151.060000</td>\n",
              "      <td>0.000000</td>\n",
              "      <td>9.000000</td>\n",
              "      <td>284.666667</td>\n",
              "      <td>206.000000</td>\n",
              "      <td>0.0</td>\n",
              "      <td>4.666667</td>\n",
              "      <td>1</td>\n",
              "      <td>56</td>\n",
              "    </tr>\n",
              "    <tr>\n",
              "      <th>...</th>\n",
              "      <td>...</td>\n",
              "      <td>...</td>\n",
              "      <td>...</td>\n",
              "      <td>...</td>\n",
              "      <td>...</td>\n",
              "      <td>...</td>\n",
              "      <td>...</td>\n",
              "      <td>...</td>\n",
              "      <td>...</td>\n",
              "      <td>...</td>\n",
              "      <td>...</td>\n",
              "      <td>...</td>\n",
              "      <td>...</td>\n",
              "      <td>...</td>\n",
              "      <td>...</td>\n",
              "      <td>...</td>\n",
              "      <td>...</td>\n",
              "      <td>...</td>\n",
              "      <td>...</td>\n",
              "      <td>...</td>\n",
              "      <td>...</td>\n",
              "    </tr>\n",
              "    <tr>\n",
              "      <th>99973</th>\n",
              "      <td>0.0000</td>\n",
              "      <td>76.000000</td>\n",
              "      <td>29.670</td>\n",
              "      <td>0.0000</td>\n",
              "      <td>0.0</td>\n",
              "      <td>0.000</td>\n",
              "      <td>0.000</td>\n",
              "      <td>0.000</td>\n",
              "      <td>0.00</td>\n",
              "      <td>0.000000</td>\n",
              "      <td>...</td>\n",
              "      <td>0.000000</td>\n",
              "      <td>35.530000</td>\n",
              "      <td>0.000000</td>\n",
              "      <td>6.666667</td>\n",
              "      <td>62.333333</td>\n",
              "      <td>43.000000</td>\n",
              "      <td>0.0</td>\n",
              "      <td>0.000000</td>\n",
              "      <td>0</td>\n",
              "      <td>30</td>\n",
              "    </tr>\n",
              "    <tr>\n",
              "      <th>99981</th>\n",
              "      <td>34.9900</td>\n",
              "      <td>6.333333</td>\n",
              "      <td>44.990</td>\n",
              "      <td>0.0000</td>\n",
              "      <td>0.0</td>\n",
              "      <td>0.000</td>\n",
              "      <td>0.000</td>\n",
              "      <td>0.000</td>\n",
              "      <td>0.00</td>\n",
              "      <td>-6.333333</td>\n",
              "      <td>...</td>\n",
              "      <td>0.000000</td>\n",
              "      <td>8.256667</td>\n",
              "      <td>0.000000</td>\n",
              "      <td>1.333333</td>\n",
              "      <td>13.666667</td>\n",
              "      <td>11.666667</td>\n",
              "      <td>0.0</td>\n",
              "      <td>0.000000</td>\n",
              "      <td>1</td>\n",
              "      <td>30</td>\n",
              "    </tr>\n",
              "    <tr>\n",
              "      <th>99984</th>\n",
              "      <td>85.1500</td>\n",
              "      <td>815.000000</td>\n",
              "      <td>87.990</td>\n",
              "      <td>0.0000</td>\n",
              "      <td>1.0</td>\n",
              "      <td>0.390</td>\n",
              "      <td>0.000</td>\n",
              "      <td>0.390</td>\n",
              "      <td>0.39</td>\n",
              "      <td>0.000000</td>\n",
              "      <td>...</td>\n",
              "      <td>0.000000</td>\n",
              "      <td>189.606667</td>\n",
              "      <td>0.000000</td>\n",
              "      <td>12.000000</td>\n",
              "      <td>83.333333</td>\n",
              "      <td>60.000000</td>\n",
              "      <td>0.0</td>\n",
              "      <td>0.000000</td>\n",
              "      <td>1</td>\n",
              "      <td>27</td>\n",
              "    </tr>\n",
              "    <tr>\n",
              "      <th>99986</th>\n",
              "      <td>117.4900</td>\n",
              "      <td>384.000000</td>\n",
              "      <td>29.990</td>\n",
              "      <td>0.0000</td>\n",
              "      <td>250.0</td>\n",
              "      <td>87.500</td>\n",
              "      <td>87.500</td>\n",
              "      <td>0.000</td>\n",
              "      <td>0.00</td>\n",
              "      <td>0.000000</td>\n",
              "      <td>...</td>\n",
              "      <td>0.000000</td>\n",
              "      <td>32.786667</td>\n",
              "      <td>0.000000</td>\n",
              "      <td>5.000000</td>\n",
              "      <td>169.333333</td>\n",
              "      <td>138.000000</td>\n",
              "      <td>0.0</td>\n",
              "      <td>0.000000</td>\n",
              "      <td>1</td>\n",
              "      <td>30</td>\n",
              "    </tr>\n",
              "    <tr>\n",
              "      <th>99993</th>\n",
              "      <td>95.1700</td>\n",
              "      <td>1745.000000</td>\n",
              "      <td>84.990</td>\n",
              "      <td>0.9900</td>\n",
              "      <td>45.0</td>\n",
              "      <td>11.250</td>\n",
              "      <td>11.250</td>\n",
              "      <td>0.000</td>\n",
              "      <td>4.69</td>\n",
              "      <td>122.000000</td>\n",
              "      <td>...</td>\n",
              "      <td>0.333333</td>\n",
              "      <td>523.593333</td>\n",
              "      <td>0.366667</td>\n",
              "      <td>17.333333</td>\n",
              "      <td>366.000000</td>\n",
              "      <td>316.000000</td>\n",
              "      <td>0.0</td>\n",
              "      <td>14.333333</td>\n",
              "      <td>0</td>\n",
              "      <td>29</td>\n",
              "    </tr>\n",
              "  </tbody>\n",
              "</table>\n",
              "<p>50198 rows × 50 columns</p>\n",
              "</div>\n",
              "      <button class=\"colab-df-convert\" onclick=\"convertToInteractive('df-5952acf0-13ce-42f0-99dd-ab47d0f3f27f')\"\n",
              "              title=\"Convert this dataframe to an interactive table.\"\n",
              "              style=\"display:none;\">\n",
              "        \n",
              "  <svg xmlns=\"http://www.w3.org/2000/svg\" height=\"24px\"viewBox=\"0 0 24 24\"\n",
              "       width=\"24px\">\n",
              "    <path d=\"M0 0h24v24H0V0z\" fill=\"none\"/>\n",
              "    <path d=\"M18.56 5.44l.94 2.06.94-2.06 2.06-.94-2.06-.94-.94-2.06-.94 2.06-2.06.94zm-11 1L8.5 8.5l.94-2.06 2.06-.94-2.06-.94L8.5 2.5l-.94 2.06-2.06.94zm10 10l.94 2.06.94-2.06 2.06-.94-2.06-.94-.94-2.06-.94 2.06-2.06.94z\"/><path d=\"M17.41 7.96l-1.37-1.37c-.4-.4-.92-.59-1.43-.59-.52 0-1.04.2-1.43.59L10.3 9.45l-7.72 7.72c-.78.78-.78 2.05 0 2.83L4 21.41c.39.39.9.59 1.41.59.51 0 1.02-.2 1.41-.59l7.78-7.78 2.81-2.81c.8-.78.8-2.07 0-2.86zM5.41 20L4 18.59l7.72-7.72 1.47 1.35L5.41 20z\"/>\n",
              "  </svg>\n",
              "      </button>\n",
              "      \n",
              "  <style>\n",
              "    .colab-df-container {\n",
              "      display:flex;\n",
              "      flex-wrap:wrap;\n",
              "      gap: 12px;\n",
              "    }\n",
              "\n",
              "    .colab-df-convert {\n",
              "      background-color: #E8F0FE;\n",
              "      border: none;\n",
              "      border-radius: 50%;\n",
              "      cursor: pointer;\n",
              "      display: none;\n",
              "      fill: #1967D2;\n",
              "      height: 32px;\n",
              "      padding: 0 0 0 0;\n",
              "      width: 32px;\n",
              "    }\n",
              "\n",
              "    .colab-df-convert:hover {\n",
              "      background-color: #E2EBFA;\n",
              "      box-shadow: 0px 1px 2px rgba(60, 64, 67, 0.3), 0px 1px 3px 1px rgba(60, 64, 67, 0.15);\n",
              "      fill: #174EA6;\n",
              "    }\n",
              "\n",
              "    [theme=dark] .colab-df-convert {\n",
              "      background-color: #3B4455;\n",
              "      fill: #D2E3FC;\n",
              "    }\n",
              "\n",
              "    [theme=dark] .colab-df-convert:hover {\n",
              "      background-color: #434B5C;\n",
              "      box-shadow: 0px 1px 3px 1px rgba(0, 0, 0, 0.15);\n",
              "      filter: drop-shadow(0px 1px 2px rgba(0, 0, 0, 0.3));\n",
              "      fill: #FFFFFF;\n",
              "    }\n",
              "  </style>\n",
              "\n",
              "      <script>\n",
              "        const buttonEl =\n",
              "          document.querySelector('#df-5952acf0-13ce-42f0-99dd-ab47d0f3f27f button.colab-df-convert');\n",
              "        buttonEl.style.display =\n",
              "          google.colab.kernel.accessAllowed ? 'block' : 'none';\n",
              "\n",
              "        async function convertToInteractive(key) {\n",
              "          const element = document.querySelector('#df-5952acf0-13ce-42f0-99dd-ab47d0f3f27f');\n",
              "          const dataTable =\n",
              "            await google.colab.kernel.invokeFunction('convertToInteractive',\n",
              "                                                     [key], {});\n",
              "          if (!dataTable) return;\n",
              "\n",
              "          const docLinkHtml = 'Like what you see? Visit the ' +\n",
              "            '<a target=\"_blank\" href=https://colab.research.google.com/notebooks/data_table.ipynb>data table notebook</a>'\n",
              "            + ' to learn more about interactive tables.';\n",
              "          element.innerHTML = '';\n",
              "          dataTable['output_type'] = 'display_data';\n",
              "          await google.colab.output.renderOutput(dataTable, element);\n",
              "          const docLink = document.createElement('div');\n",
              "          docLink.innerHTML = docLinkHtml;\n",
              "          element.appendChild(docLink);\n",
              "        }\n",
              "      </script>\n",
              "    </div>\n",
              "  </div>\n",
              "  "
            ]
          },
          "metadata": {},
          "execution_count": 304
        }
      ]
    },
    {
      "cell_type": "markdown",
      "source": [
        "org.loc[org['rev_Mean']-org['ovrrev_Mean']-org['totmrc_Mean']>0] 42362\n",
        "\n",
        "org.loc[org['rev_Mean']-org['ovrrev_Mean']-org['totmrc_Mean']<0 50198\n"
      ],
      "metadata": {
        "id": "qhAYnYQQk8RD"
      }
    }
  ]
}