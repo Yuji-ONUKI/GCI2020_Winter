{
  "cells": [
    {
      "cell_type": "markdown",
      "metadata": {
        "id": "view-in-github",
        "colab_type": "text"
      },
      "source": [
        "<a href=\"https://colab.research.google.com/github/Yuji-ONUKI/GCI2020_Winter/blob/main/July08_1400_0_76278.ipynb\" target=\"_parent\"><img src=\"https://colab.research.google.com/assets/colab-badge.svg\" alt=\"Open In Colab\"/></a>"
      ]
    },
    {
      "cell_type": "code",
      "execution_count": 115,
      "metadata": {
        "colab": {
          "base_uri": "https://localhost:8080/"
        },
        "id": "HehSKiyFonMe",
        "outputId": "2ecb63b8-8b12-4fae-86cb-044d3d453436"
      },
      "outputs": [
        {
          "output_type": "stream",
          "name": "stdout",
          "text": [
            "Importing data...\n",
            "Drive already mounted at /content/drive; to attempt to forcibly remount, call drive.mount(\"/content/drive\", force_remount=True).\n"
          ]
        }
      ],
      "source": [
        "import pandas as pd\n",
        "import numpy as np\n",
        "from sklearn.preprocessing import MinMaxScaler, LabelEncoder\n",
        "from sklearn.model_selection import train_test_split\n",
        "from sklearn.metrics import accuracy_score, roc_auc_score, confusion_matrix\n",
        "from sklearn.feature_selection import VarianceThreshold\n",
        "import lightgbm as lgb\n",
        "import matplotlib.pyplot as plt\n",
        "import seaborn as sns\n",
        "\n",
        "print('Importing data...')\n",
        "# Google Colaboratoryで作業する場合はこちらも実行してください。\n",
        "from google.colab import drive\n",
        "drive.mount('/content/drive')\n",
        "# %cd 以降にこのnotebookを置いているディレクトリを指定してください。\n",
        "data = pd.read_csv(\"/content/drive/MyDrive/GCI/02.（公開）コンペ2-20220621T094535Z-001.zip (Unzipped Files)/02.（公開）コンペ2/input/train.csv\")\n",
        "test = pd.read_csv(\"/content/drive/MyDrive/GCI/02.（公開）コンペ2-20220621T094535Z-001.zip (Unzipped Files)/02.（公開）コンペ2/input/test.csv\")"
      ]
    },
    {
      "cell_type": "code",
      "execution_count": 116,
      "metadata": {
        "id": "wcaqCGyJgUdx"
      },
      "outputs": [],
      "source": [
        "data['FLAG_NOT_EMPLOYED']=0\n",
        "data.loc[data['DAYS_EMPLOYED']==365243,'FLAG_NOT_EMPLOYED']=1\n",
        "#data.loc[data['DAYS_EMPLOYED']==365243,'DAYS_EMPLOYED']=np.NAN\n",
        "test['FLAG_NOT_EMPLOYED']=0\n",
        "test.loc[test['DAYS_EMPLOYED']==365243,'FLAG_NOT_EMPLOYED']=1\n",
        "#test.loc[test['DAYS_EMPLOYED']==365243,'DAYS_EMPLOYED']=np.NAN"
      ]
    },
    {
      "cell_type": "code",
      "execution_count": 117,
      "metadata": {
        "colab": {
          "base_uri": "https://localhost:8080/"
        },
        "id": "TWS2OXgqonMp",
        "outputId": "4ef005e9-017c-40af-fdd0-0f1db4eac8f3"
      },
      "outputs": [
        {
          "output_type": "execute_result",
          "data": {
            "text/plain": [
              "['SK_ID_CURR',\n",
              " 'NAME_CONTRACT_TYPE',\n",
              " 'CODE_GENDER',\n",
              " 'FLAG_OWN_CAR',\n",
              " 'FLAG_OWN_REALTY',\n",
              " 'CNT_CHILDREN',\n",
              " 'AMT_INCOME_TOTAL',\n",
              " 'AMT_CREDIT',\n",
              " 'AMT_ANNUITY',\n",
              " 'AMT_GOODS_PRICE',\n",
              " 'NAME_TYPE_SUITE',\n",
              " 'NAME_INCOME_TYPE',\n",
              " 'NAME_EDUCATION_TYPE',\n",
              " 'NAME_FAMILY_STATUS',\n",
              " 'NAME_HOUSING_TYPE',\n",
              " 'REGION_POPULATION_RELATIVE',\n",
              " 'DAYS_BIRTH',\n",
              " 'DAYS_EMPLOYED',\n",
              " 'DAYS_REGISTRATION',\n",
              " 'DAYS_ID_PUBLISH',\n",
              " 'OWN_CAR_AGE',\n",
              " 'FLAG_MOBIL',\n",
              " 'FLAG_EMP_PHONE',\n",
              " 'FLAG_WORK_PHONE',\n",
              " 'FLAG_CONT_MOBILE',\n",
              " 'FLAG_PHONE',\n",
              " 'FLAG_EMAIL',\n",
              " 'OCCUPATION_TYPE',\n",
              " 'CNT_FAM_MEMBERS',\n",
              " 'REGION_RATING_CLIENT',\n",
              " 'REGION_RATING_CLIENT_W_CITY',\n",
              " 'REG_REGION_NOT_LIVE_REGION',\n",
              " 'REG_REGION_NOT_WORK_REGION',\n",
              " 'LIVE_REGION_NOT_WORK_REGION',\n",
              " 'REG_CITY_NOT_LIVE_CITY',\n",
              " 'REG_CITY_NOT_WORK_CITY',\n",
              " 'LIVE_CITY_NOT_WORK_CITY',\n",
              " 'ORGANIZATION_TYPE',\n",
              " 'EXT_SOURCE_1',\n",
              " 'EXT_SOURCE_2',\n",
              " 'EXT_SOURCE_3',\n",
              " 'OBS_30_CNT_SOCIAL_CIRCLE',\n",
              " 'DEF_30_CNT_SOCIAL_CIRCLE',\n",
              " 'OBS_60_CNT_SOCIAL_CIRCLE',\n",
              " 'DEF_60_CNT_SOCIAL_CIRCLE',\n",
              " 'DAYS_LAST_PHONE_CHANGE',\n",
              " 'AMT_REQ_CREDIT_BUREAU_HOUR',\n",
              " 'AMT_REQ_CREDIT_BUREAU_MON',\n",
              " 'AMT_REQ_CREDIT_BUREAU_QRT',\n",
              " 'AMT_REQ_CREDIT_BUREAU_YEAR',\n",
              " 'FLAG_NOT_EMPLOYED']"
            ]
          },
          "metadata": {},
          "execution_count": 117
        }
      ],
      "source": [
        "cols =list(test.columns)\n",
        "cols"
      ]
    },
    {
      "cell_type": "code",
      "execution_count": 118,
      "metadata": {
        "id": "YbB7BC-ap5iK"
      },
      "outputs": [],
      "source": [
        "data['DAYS_BIRTH']=data['DAYS_BIRTH'] * (-1)\n",
        "test['DAYS_BIRTH']=test['DAYS_BIRTH'] * (-1)\n",
        "\n",
        "data['YEARS_BIRTH']=round(data['DAYS_BIRTH']/365.25)\n",
        "test['YEARS_BIRTH']=round(test['DAYS_BIRTH']/365.25)\n",
        "\n",
        "data['MONTHS_BIRTH']=round(data['DAYS_BIRTH']/30.4375)\n",
        "test['MONTHS_BIRTH']=round(test['DAYS_BIRTH']/30.4375)\n",
        "\n",
        "data['DAYS_ID_PUBLISH']=data['DAYS_ID_PUBLISH']*(-1)\n",
        "test['DAYS_ID_PUBLISH']=test['DAYS_ID_PUBLISH']*(-1)\n",
        "\n",
        "data['YEARS_ID_PUBLISH']=round(data['DAYS_ID_PUBLISH']/365.25)\n",
        "test['YEARS_ID_PUBLISH']=round(test['DAYS_ID_PUBLISH']/365.25)\n",
        "\n",
        "data['DAYS_REGISTRATION']=data['DAYS_REGISTRATION']*(-1)\n",
        "test['DAYS_REGISTRATION']=test['DAYS_REGISTRATION']*(-1)\n",
        "\n",
        "data['YEARS_REGISTRATION']=round(data['DAYS_REGISTRATION']/365.25)\n",
        "test['YEARS_REGISTRATION']=round(test['DAYS_REGISTRATION']/365.25)\n",
        "\n",
        "data['DAYS_EMPLOYED']=data['DAYS_EMPLOYED']*(-1)\n",
        "test['DAYS_EMPLOYED']=test['DAYS_EMPLOYED']*(-1)\n",
        "\n",
        "data['YEARS_EMPLOYED']=round(data['DAYS_EMPLOYED']/365.25)\n",
        "test['YEARS_EMPLOYED']=round(test['DAYS_EMPLOYED']/365.25)"
      ]
    },
    {
      "cell_type": "code",
      "execution_count": 119,
      "metadata": {
        "id": "VMv3GVRdNWe_"
      },
      "outputs": [],
      "source": [
        "dict={}\n",
        "for item in data['AMT_INCOME_TOTAL'].unique():\n",
        "  dict[item]=data.loc[data['AMT_INCOME_TOTAL']==item,'SK_ID_CURR'].count()\n",
        "df = pd.DataFrame.from_dict(dict,orient='index')\n",
        "\n",
        "items = list(df[df[0]>10])"
      ]
    },
    {
      "cell_type": "code",
      "execution_count": 120,
      "metadata": {
        "id": "zdHMsgUQMyin"
      },
      "outputs": [],
      "source": [
        "data['AMT_INCOME_TOTAL_2']=np.NAN\n",
        "test['AMT_INCOME_TOTAL_2']=np.NAN\n",
        "for item in items:\n",
        "  data.loc[data['AMT_INCOME_TOTAL']==item,'AMT_INCOME_TOTAL_2']=data.loc[data['AMT_INCOME_TOTAL']==item,'AMT_INCOME_TOTAL']\n",
        "  test.loc[test['AMT_INCOME_TOTAL']==item,'AMT_INCOME_TOTAL_2']=test.loc[test['AMT_INCOME_TOTAL']==item,'AMT_INCOME_TOTAL']\n",
        "\n",
        "data=pd.get_dummies(data,columns=['AMT_INCOME_TOTAL_2'])\n",
        "test=pd.get_dummies(test,columns={'AMT_INCOME_TOTAL_2'})"
      ]
    },
    {
      "cell_type": "code",
      "execution_count": 121,
      "metadata": {
        "colab": {
          "base_uri": "https://localhost:8080/"
        },
        "id": "EvbVtWnV-ksW",
        "outputId": "07984823-0ec5-4682-ea4e-e5f9ca8fbeb5"
      },
      "outputs": [
        {
          "output_type": "execute_result",
          "data": {
            "text/plain": [
              "array([0.072508, 0.04622 ])"
            ]
          },
          "metadata": {},
          "execution_count": 121
        }
      ],
      "source": [
        "data.loc[data['REGION_POPULATION_RELATIVE']>0.04,'REGION_POPULATION_RELATIVE'].unique()"
      ]
    },
    {
      "cell_type": "code",
      "execution_count": 122,
      "metadata": {
        "id": "0RnkvlFI-mxA"
      },
      "outputs": [],
      "source": [
        "data['REGION_POPULATION_RELATIVE_0.04622']=0\n",
        "data['REGION_POPULATION_RELATIVE'==0.4622,'REGION_POPULATION_RELATIVE_0.04622']=1\n",
        "data['REGION_POPULATION_RELATIVE'==0.4622,'REGION_POPULATION_RELATIVE']=np.nan\n",
        "\n",
        "test['REGION_POPULATION_RELATIVE_0.04622']=0\n",
        "test['REGION_POPULATION_RELATIVE'==0.4622,'REGION_POPULATION_RELATIVE_0.04622']=1\n",
        "test['REGION_POPULATION_RELATIVE'==0.4622,'REGION_POPULATION_RELATIVE']=np.nan\n",
        "\n",
        "data['REGION_POPULATION_RELATIVE_0.072508']=0\n",
        "data['REGION_POPULATION_RELATIVE'==0.072508,'REGION_POPULATION_RELATIVE_0.072508']=1\n",
        "data['REGION_POPULATION_RELATIVE'==0.072508,'REGION_POPULATION_RELATIVE']=np.nan\n",
        "\n",
        "test['REGION_POPULATION_RELATIVE_0.072508']=0\n",
        "test['REGION_POPULATION_RELATIVE'==0.072508,'REGION_POPULATION_RELATIVE_0.072508']=1\n",
        "test['REGION_POPULATION_RELATIVE'==0.072508,'REGION_POPULATION_RELATIVE']=np.nan"
      ]
    },
    {
      "cell_type": "code",
      "execution_count": 123,
      "metadata": {
        "id": "o3KNWUU8yasX"
      },
      "outputs": [],
      "source": [
        "data['OWN_CAR_AGE_64']=0\n",
        "data['OWN_CAR_AGE'==64,'OWN_CAR_AGE_64']=1\n",
        "data['OWN_CAR_AGE'==64,'OWN_CAR_AGE']=np.nan\n",
        "\n",
        "test['OWN_CAR_AGE_64']=0\n",
        "test['OWN_CAR_AGE'==64,'OWN_CAR_AGE_64']=1\n",
        "test['OWN_CAR_AGE'==64,'OWN_CAR_AGE']=np.nan\n",
        "\n",
        "data['OWN_CAR_AGE_65']=0\n",
        "data['OWN_CAR_AGE'==65,'OWN_CAR_AGE_65']=1\n",
        "data['OWN_CAR_AGE'==65,'OWN_CAR_AGE']=np.nan\n",
        "\n",
        "test['OWN_CAR_AGE_65']=0\n",
        "test['OWN_CAR_AGE'==65,'OWN_CAR_AGE_65']=1\n",
        "test['OWN_CAR_AGE'==65,'OWN_CAR_AGE']=np.nan"
      ]
    },
    {
      "cell_type": "code",
      "execution_count": 124,
      "metadata": {
        "id": "v29vVfC0ljQm"
      },
      "outputs": [],
      "source": [
        "data['LOW_DEFAULT_ORG']=0\n",
        "data.loc[data['ORGANIZATION_TYPE']=='Industry: type 12','LOW_DEFAULT_ORG' ]=1\n",
        "data.loc[data['ORGANIZATION_TYPE']=='Trade: type 4','LOW_DEFAULT_ORG' ]=1\n",
        "test['LOW_DEFAULT_ORG']=0\n",
        "test.loc[test['ORGANIZATION_TYPE']=='Industry: type 12','LOW_DEFAULT_ORG' ]=1\n",
        "test.loc[test['ORGANIZATION_TYPE']=='Trade: type 4','LOW_DEFAULT_ORG' ]=1\n",
        "\n",
        "data['HIGH_DEFAULT_ORG']=0\n",
        "data.loc[data['ORGANIZATION_TYPE']=='Transport: type 3','HIGH_DEFAULT_ORG']=1\n",
        "test['HIGH_DEFAULT_ORG']=0\n",
        "test.loc[test['ORGANIZATION_TYPE']=='Transport: type 3','HIGH_DEFAULT_ORG']=1"
      ]
    },
    {
      "cell_type": "code",
      "execution_count": 125,
      "metadata": {
        "id": "AG0vTPvBgzXo"
      },
      "outputs": [],
      "source": [
        "data['CREDIT_TERM'] = data['AMT_CREDIT'] / data['AMT_ANNUITY']\n",
        "test['CREDIT_TERM'] = test['AMT_CREDIT'] / test['AMT_ANNUITY']\n",
        "\n",
        "data['CREDIT_REPAY'] = data['CREDIT_TERM'] + data['MONTHS_BIRTH']\n",
        "test['CREDIT_REPAY'] = test['CREDIT_TERM']  + test['MONTHS_BIRTH']"
      ]
    },
    {
      "cell_type": "code",
      "source": [
        "data['CREDIT_TO_GOODS_RATIO'] = data['AMT_CREDIT'] / data['AMT_GOODS_PRICE']\n",
        "test['CREDIT_TO_GOODS_RATIO'] = test['AMT_CREDIT'] / test['AMT_GOODS_PRICE']"
      ],
      "metadata": {
        "id": "d_jiaTxRov9V"
      },
      "execution_count": 126,
      "outputs": []
    },
    {
      "cell_type": "code",
      "execution_count": 127,
      "metadata": {
        "id": "5pYCjGXmwz-2"
      },
      "outputs": [],
      "source": [
        "# 欠測値であれば'_NAN'を加えたカラムを作る\n",
        "def flag_isNan(column_target):\n",
        "  if type(column_target)==str:\n",
        "    data[column_target+'_NAN']=0\n",
        "    test[column_target+'_NAN']=0\n",
        "    #\n",
        "    data.loc[data[column_target].isna(),column_target+'_NAN']=1\n",
        "    test.loc[test[column_target].isna(),column_target+'_NAN']=1"
      ]
    },
    {
      "cell_type": "code",
      "execution_count": 128,
      "metadata": {
        "colab": {
          "base_uri": "https://localhost:8080/"
        },
        "id": "kvnyK8cwqoVL",
        "outputId": "6b438343-f2b6-4994-afda-3a6d0a0a1e6d"
      },
      "outputs": [
        {
          "output_type": "execute_result",
          "data": {
            "text/plain": [
              "['AMT_INCOME_TOTAL',\n",
              " 'AMT_CREDIT',\n",
              " 'AMT_ANNUITY',\n",
              " 'AMT_GOODS_PRICE',\n",
              " 'REGION_POPULATION_RELATIVE',\n",
              " 'DAYS_REGISTRATION',\n",
              " 'OWN_CAR_AGE',\n",
              " 'CNT_FAM_MEMBERS',\n",
              " 'EXT_SOURCE_1',\n",
              " 'EXT_SOURCE_2',\n",
              " 'EXT_SOURCE_3',\n",
              " 'OBS_30_CNT_SOCIAL_CIRCLE',\n",
              " 'DEF_30_CNT_SOCIAL_CIRCLE',\n",
              " 'OBS_60_CNT_SOCIAL_CIRCLE',\n",
              " 'DEF_60_CNT_SOCIAL_CIRCLE',\n",
              " 'DAYS_LAST_PHONE_CHANGE',\n",
              " 'AMT_REQ_CREDIT_BUREAU_HOUR',\n",
              " 'AMT_REQ_CREDIT_BUREAU_MON',\n",
              " 'AMT_REQ_CREDIT_BUREAU_QRT',\n",
              " 'AMT_REQ_CREDIT_BUREAU_YEAR',\n",
              " 'YEARS_BIRTH',\n",
              " 'MONTHS_BIRTH',\n",
              " 'YEARS_ID_PUBLISH',\n",
              " 'YEARS_REGISTRATION',\n",
              " 'YEARS_EMPLOYED',\n",
              " (False, 'REGION_POPULATION_RELATIVE'),\n",
              " (False, 'OWN_CAR_AGE'),\n",
              " 'CREDIT_TERM',\n",
              " 'CREDIT_REPAY',\n",
              " 'CREDIT_TO_GOODS_RATIO']"
            ]
          },
          "metadata": {},
          "execution_count": 128
        }
      ],
      "source": [
        "list(test.dtypes[data.dtypes=='float'].keys())"
      ]
    },
    {
      "cell_type": "code",
      "execution_count": 129,
      "metadata": {
        "id": "UtcXCBAGzfQZ"
      },
      "outputs": [],
      "source": [
        "for col in ['AMT_INCOME_TOTAL',\n",
        " 'AMT_CREDIT',\n",
        " 'AMT_ANNUITY',\n",
        " 'AMT_GOODS_PRICE',\n",
        " 'REGION_POPULATION_RELATIVE',\n",
        " 'DAYS_REGISTRATION',\n",
        " 'OWN_CAR_AGE',\n",
        " 'CNT_FAM_MEMBERS',\n",
        " 'EXT_SOURCE_1',\n",
        " 'EXT_SOURCE_2',\n",
        " 'EXT_SOURCE_3',\n",
        " 'OBS_30_CNT_SOCIAL_CIRCLE',\n",
        " 'DEF_30_CNT_SOCIAL_CIRCLE',\n",
        " 'OBS_60_CNT_SOCIAL_CIRCLE',\n",
        " 'DEF_60_CNT_SOCIAL_CIRCLE',\n",
        " 'DAYS_LAST_PHONE_CHANGE',\n",
        " 'AMT_REQ_CREDIT_BUREAU_HOUR',\n",
        " 'AMT_REQ_CREDIT_BUREAU_MON',\n",
        " 'AMT_REQ_CREDIT_BUREAU_QRT',\n",
        " 'AMT_REQ_CREDIT_BUREAU_YEAR',\n",
        " 'YEARS_BIRTH',\n",
        " 'YEARS_ID_PUBLISH',\n",
        " 'YEARS_REGISTRATION',\n",
        " 'YEARS_EMPLOYED',\n",
        " #(False, 'REGION_POPULATION_RELATIVE'),\n",
        " #(False, 'OWN_CAR_AGE')\n",
        " ]:\n",
        "  if (test.loc[test[col].isna(),'SK_ID_CURR'].count()>0):\n",
        "    flag_isNan(col)"
      ]
    },
    {
      "cell_type": "code",
      "execution_count": 130,
      "metadata": {
        "id": "NOeyCa9ylhzq"
      },
      "outputs": [],
      "source": [
        "#for col in list(test.dtypes[data.dtypes!='float'].keys()):\n",
        "#  if (test.loc[test[col].isna(),'SK_ID_CURR'].count()>0):\n",
        "#    flag_isNan(col)"
      ]
    },
    {
      "cell_type": "code",
      "execution_count": 131,
      "metadata": {
        "id": "COyKL4UZZZYc"
      },
      "outputs": [],
      "source": [
        "data['RT_CREDIT']=data['AMT_CREDIT']/data['AMT_INCOME_TOTAL']\n",
        "test['RT_CREDIT']=test['AMT_CREDIT']/test['AMT_INCOME_TOTAL']\n",
        "\n",
        "#data['FLAG_RT_CREDIT_OVER1']=0\n",
        "#test['FLAG_RT_CREDIT_OVER1']=0\n",
        "#data.loc[data['RT_CREDIT']>1,'FLAG_RT_CREDIT_OVER1']=1\n",
        "#test.loc[data['RT_CREDIT']>1,'FLAG_RT_CREDIT_OVER1']=1"
      ]
    },
    {
      "cell_type": "code",
      "execution_count": 132,
      "metadata": {
        "id": "zpaSJddDn5TT"
      },
      "outputs": [],
      "source": [
        "data['ROUND_RT_CREDIT']=round(data['RT_CREDIT'])\n",
        "data['ROUND_RT_CREDIT'].fillna(0,inplace=True)\n",
        "data.loc[data['ROUND_RT_CREDIT']>6,'ROUND_RT_CREDIT']=6\n",
        "data['ROUND_RT_CREDIT']=data['ROUND_RT_CREDIT'].astype(str)\n",
        "\n",
        "data=pd.get_dummies(data,columns=['ROUND_RT_CREDIT'])\n",
        "\n",
        "test['ROUND_RT_CREDIT']=round(test['RT_CREDIT'])\n",
        "test['ROUND_RT_CREDIT'].fillna(0,inplace=True)\n",
        "test.loc[test['ROUND_RT_CREDIT']>6,'ROUND_RT_CREDIT']=6\n",
        "test['ROUND_RT_CREDIT']=test['ROUND_RT_CREDIT'].astype(str)\n",
        "\n",
        "test=pd.get_dummies(test,columns=['ROUND_RT_CREDIT'])"
      ]
    },
    {
      "cell_type": "code",
      "execution_count": 133,
      "metadata": {
        "id": "3sqbzKd94syY"
      },
      "outputs": [],
      "source": [
        "data['AGE_EMP']=data['YEARS_BIRTH']-data['YEARS_EMPLOYED']\n",
        "test['AGE_EMP']=test['YEARS_BIRTH']-test['YEARS_EMPLOYED']\n",
        "\n",
        "# 26歳までの上昇局面とそれ以降の下降局面を別のカラムにする\n",
        "data['AGE_EMP1']=np.NAN\n",
        "test['AGE_EMP1']=np.NAN\n",
        "data.loc[data['AGE_EMP']>26,'AGE_EMP1']=data['AGE_EMP']\n",
        "test.loc[test['AGE_EMP']>26,'AGE_EMP1']=test['AGE_EMP']\n",
        "data.loc[data['AGE_EMP']>26,'AGE_EMP']=np.NAN\n",
        "test.loc[test['AGE_EMP']>26,'AGE_EMP']=np.NAN"
      ]
    },
    {
      "cell_type": "code",
      "execution_count": 134,
      "metadata": {
        "id": "qA2NRgcEC6EF"
      },
      "outputs": [],
      "source": [
        "#data['TMP_FLAG_OWN_REALTY']=data['FLAG_OWN_REALTY']\n",
        "#data.loc[data['TMP_FLAG_OWN_REALTY'].isna(),'TMP_FLAG_OWN_REALTY']='O'\n",
        "#data['ROUND_AMT_INCOME_TOTAL']=round(data['AMT_INCOME_TOTAL']/100000)\n",
        "#data.loc[data['ROUND_AMT_INCOME_TOTAL']>6,'ROUND_AMT_INCOME_TOTAL']=6\n",
        "#data['ROUND_AMT_INCOME_TOTAL']=data['ROUND_AMT_INCOME_TOTAL'].astype(str)\n",
        "#data['ROUND_RT_CREDIT']=round(data['RT_CREDIT'])\n",
        "#data.loc[data['ROUND_RT_CREDIT']>6,'ROUND_RT_CREDIT']=6\n",
        "#data['ROUND_RT_CREDIT'].fillna(0,inplace=True)\n",
        "#data['ROUND_RT_CREDIT']=data['ROUND_RT_CREDIT'].astype(str)\n",
        "#data['REALTY_INCOME_CREDIT']=data['TMP_FLAG_OWN_REALTY']+data['ROUND_AMT_INCOME_TOTAL']+data['ROUND_RT_CREDIT']\n",
        "#data.drop(['TMP_FLAG_OWN_REALTY'], axis=1, inplace=True)\n",
        "#data.drop(['ROUND_AMT_INCOME_TOTAL'], axis=1, inplace=True)\n",
        "#data.drop(['ROUND_RT_CREDIT'], axis=1, inplace=True)\n",
        "\n",
        "#test['TMP_FLAG_OWN_REALTY']=test['FLAG_OWN_REALTY']\n",
        "#test.loc[test['TMP_FLAG_OWN_REALTY'].isna(),'TMP_FLAG_OWN_REALTY']='O'\n",
        "#test['ROUND_AMT_INCOME_TOTAL']=round(test['AMT_INCOME_TOTAL']/100000)\n",
        "#test['ROUND_AMT_INCOME_TOTAL'].fillna(0,inplace=True)\n",
        "#test.loc[test['ROUND_AMT_INCOME_TOTAL']>6,'ROUND_AMT_INCOME_TOTAL']=6\n",
        "#test['ROUND_AMT_INCOME_TOTAL']=test['ROUND_AMT_INCOME_TOTAL'].astype(str)\n",
        "#test['ROUND_RT_CREDIT']=round(test['RT_CREDIT'])\n",
        "#test.loc[test['ROUND_RT_CREDIT']>6,'ROUND_RT_CREDIT']=6\n",
        "#test['ROUND_RT_CREDIT'].fillna(0,inplace=True)\n",
        "#test['ROUND_RT_CREDIT']=test['ROUND_RT_CREDIT'].astype(str)\n",
        "#test['REALTY_INCOME_CREDIT']=test['TMP_FLAG_OWN_REALTY']+test['ROUND_AMT_INCOME_TOTAL']+test['ROUND_RT_CREDIT']"
      ]
    },
    {
      "cell_type": "code",
      "execution_count": 135,
      "metadata": {
        "id": "5cJpga-BIi85"
      },
      "outputs": [],
      "source": [
        "data['ROUND_EXT_SOURCE_1']=round(data['EXT_SOURCE_1']*100)\n",
        "data['ROUND_EXT_SOURCE_2']=round(data['EXT_SOURCE_2']*100)\n",
        "data['ROUND_EXT_SOURCE_3']=round(data['EXT_SOURCE_3']*100)\n",
        "\n",
        "test['ROUND_EXT_SOURCE_1']=round(test['EXT_SOURCE_1']*100)\n",
        "test['ROUND_EXT_SOURCE_2']=round(test['EXT_SOURCE_2']*100)\n",
        "test['ROUND_EXT_SOURCE_3']=round(test['EXT_SOURCE_3']*100)"
      ]
    },
    {
      "cell_type": "code",
      "execution_count": 136,
      "metadata": {
        "id": "9EGH5oBkDAwL"
      },
      "outputs": [],
      "source": [
        "t1=data.loc[data['TARGET']==1]\n",
        "t0=data.loc[data['TARGET']==0]\n",
        "ta=data\n",
        "def addColumnOfNumber(column_target):\n",
        "    column_new = 'NEW_NUM_'+column_target\n",
        "    cats = ta[column_target].unique()\n",
        "\n",
        "    dict={}\n",
        "    for cat in cats:\n",
        "      dict[cat]=(t1.loc[ta[column_target]==cat,'SK_ID_CURR'].count()/ta.loc[ta[column_target]==cat,'SK_ID_CURR'].count()).astype(str)\n",
        "\n",
        "    data[column_new]=data[column_target]\n",
        "    test[column_new]=test[column_target]\n",
        "\n",
        "    data[column_new]=data[column_new].map(dict)\n",
        "    test[column_new]=test[column_new].map(dict)\n",
        "\n",
        "    data[column_new]=data[column_new].astype(float)\n",
        "    test[column_new]=test[column_new].astype(float)"
      ]
    },
    {
      "cell_type": "code",
      "execution_count": 137,
      "metadata": {
        "id": "7wNq5TNgDPIo",
        "colab": {
          "base_uri": "https://localhost:8080/"
        },
        "outputId": "388f37f6-c929-4a16-9e0f-241444f321aa"
      },
      "outputs": [
        {
          "output_type": "stream",
          "name": "stderr",
          "text": [
            "/usr/local/lib/python3.7/dist-packages/ipykernel_launcher.py:10: RuntimeWarning: invalid value encountered in long_scalars\n",
            "  # Remove the CWD from sys.path while we load stuff.\n"
          ]
        }
      ],
      "source": [
        "#addColumnOfNumber('REALTY_INCOME_CREDIT')\n",
        "addColumnOfNumber('ROUND_EXT_SOURCE_1')\n",
        "addColumnOfNumber('ROUND_EXT_SOURCE_2')\n",
        "addColumnOfNumber('ROUND_EXT_SOURCE_3')\n",
        "data.drop(['ROUND_EXT_SOURCE_1'],axis=1,inplace=True)\n",
        "test.drop(['ROUND_EXT_SOURCE_1'],axis=1,inplace=True)\n",
        "data.drop(['ROUND_EXT_SOURCE_2'],axis=1,inplace=True)\n",
        "test.drop(['ROUND_EXT_SOURCE_2'],axis=1,inplace=True)\n",
        "data.drop(['ROUND_EXT_SOURCE_3'],axis=1,inplace=True)\n",
        "test.drop(['ROUND_EXT_SOURCE_3'],axis=1,inplace=True)"
      ]
    },
    {
      "cell_type": "code",
      "execution_count": 138,
      "metadata": {
        "id": "y40rbuRAonMq"
      },
      "outputs": [],
      "source": [
        "# Create an anomalous flag column\n",
        "data['DAYS_EMPLOYED_ANOM'] = data[\"DAYS_EMPLOYED\"] == -365243\n",
        "\n",
        "# Replace the anomalous values with nan\n",
        "data['DAYS_EMPLOYED'].replace({-365243: np.nan}, inplace = True)\n",
        "\n",
        "# Create an anomalous flag column\n",
        "test['DAYS_EMPLOYED_ANOM'] = test[\"DAYS_EMPLOYED\"] == -365243\n",
        "\n",
        "# Replace the anomalous values with nan\n",
        "test['DAYS_EMPLOYED'].replace({-365243: np.nan}, inplace = True)"
      ]
    },
    {
      "cell_type": "code",
      "execution_count": 139,
      "metadata": {
        "id": "Ozd_2gLronMr"
      },
      "outputs": [],
      "source": [
        "data['DAYS_LAST_PHONE_CHANGE']=data['DAYS_LAST_PHONE_CHANGE']*(-1)\n",
        "test['DAYS_LAST_PHONE_CHANGE']=test['DAYS_LAST_PHONE_CHANGE']*(-1)\n",
        "\n",
        "data['DAYS_LAST_PHONE_CHANGE'].replace(0, np.nan, inplace=True)\n",
        "test['DAYS_LAST_PHONE_CHANGE'].replace(0, np.nan, inplace=True)\n",
        "\n",
        "data['YEARS_LAST_PHONE_CHANGE']=round(data['DAYS_LAST_PHONE_CHANGE']/365.25)\n",
        "test['YEARS_LAST_PHONE_CHANGE']=round(test['DAYS_LAST_PHONE_CHANGE']/365.25)\n",
        "\n",
        "data['MONTH_LAST_PHONE_CHANGE']=round(data['DAYS_LAST_PHONE_CHANGE']/30.475)\n",
        "test['MONTH_LAST_PHONE_CHANGE']=round(test['DAYS_LAST_PHONE_CHANGE']/30.475)"
      ]
    },
    {
      "cell_type": "code",
      "execution_count": 140,
      "metadata": {
        "id": "-cbgC9G8yy8-"
      },
      "outputs": [],
      "source": [
        "#Separate target variable\n",
        "y = data['TARGET']\n",
        "del data['TARGET']\n",
        "\n",
        "#One-hot encoding of categorical features in data and test sets\n",
        "categorical_features = [col for col in data.columns if data[col].dtype == 'object']\n",
        "\n",
        "one_hot_df = pd.concat([data,test])\n",
        "one_hot_df = pd.get_dummies(one_hot_df, columns=categorical_features)\n",
        "\n",
        "data = one_hot_df.iloc[:data.shape[0],:]\n",
        "test = one_hot_df.iloc[data.shape[0]:,]\n",
        "\n"
      ]
    },
    {
      "cell_type": "code",
      "execution_count": 141,
      "metadata": {
        "colab": {
          "base_uri": "https://localhost:8080/"
        },
        "id": "jkf6FEVeonMu",
        "outputId": "3015b266-531f-4290-bb13-9bbc9b911cec"
      },
      "outputs": [
        {
          "output_type": "stream",
          "name": "stdout",
          "text": [
            "dataing Features shape:  (171202, 208)\n",
            "Testing Features shape:  (61500, 207)\n"
          ]
        }
      ],
      "source": [
        "# Align data and test\n",
        "\n",
        "data_labels = y\n",
        "\n",
        "# Align the dataing and testing data, keep only columns present in both dataframes\n",
        "data, test = data.align(test, join = 'inner', axis = 1)\n",
        "\n",
        "# Add the target back in\n",
        "data['TARGET'] = y\n",
        "\n",
        "print('dataing Features shape: ', data.shape)\n",
        "print('Testing Features shape: ', test.shape)"
      ]
    },
    {
      "cell_type": "code",
      "execution_count": 142,
      "metadata": {
        "id": "Q9bMtZCTonMw"
      },
      "outputs": [],
      "source": [
        "#Polynomial Features\n",
        "\n",
        "# Make a new dataframe for polynomial features\n",
        "poly_features = data[['EXT_SOURCE_1', 'EXT_SOURCE_2', 'EXT_SOURCE_3', 'DAYS_BIRTH', 'CREDIT_TERM','TARGET']]\n",
        "poly_features_test = test[['EXT_SOURCE_1', 'EXT_SOURCE_2', 'EXT_SOURCE_3', 'DAYS_BIRTH', 'CREDIT_TERM']]\n",
        "\n",
        "# imputer for handling missing values\n",
        "from sklearn.impute import SimpleImputer\n",
        "imputer = SimpleImputer(strategy = 'median')\n",
        "\n",
        "poly_target = poly_features['TARGET']\n",
        "\n",
        "poly_features = poly_features.drop(columns = ['TARGET'])\n",
        "\n",
        "# Need to impute missing values\n",
        "poly_features = imputer.fit_transform(poly_features)\n",
        "poly_features_test = imputer.transform(poly_features_test)\n",
        "\n",
        "from sklearn.preprocessing import PolynomialFeatures\n",
        "                                  \n",
        "# Create the polynomial object with specified degree\n",
        "poly_transformer = PolynomialFeatures(degree = 3)"
      ]
    },
    {
      "cell_type": "code",
      "execution_count": 143,
      "metadata": {
        "colab": {
          "base_uri": "https://localhost:8080/"
        },
        "id": "_-IaPc9eonMw",
        "outputId": "2bec5889-8b04-4e24-c201-2fb19f0b49ec"
      },
      "outputs": [
        {
          "output_type": "stream",
          "name": "stdout",
          "text": [
            "Polynomial Features shape:  (171202, 56)\n"
          ]
        }
      ],
      "source": [
        "# data the polynomial features\n",
        "poly_transformer.fit(poly_features)\n",
        "\n",
        "# Transform the features\n",
        "poly_features = poly_transformer.transform(poly_features)\n",
        "poly_features_test = poly_transformer.transform(poly_features_test)\n",
        "print('Polynomial Features shape: ', poly_features.shape)"
      ]
    },
    {
      "cell_type": "code",
      "execution_count": 144,
      "metadata": {
        "colab": {
          "base_uri": "https://localhost:8080/"
        },
        "id": "xJjUa1VbonMx",
        "outputId": "ed3b1903-21a1-4fd9-bc4e-e047d81244ff"
      },
      "outputs": [
        {
          "output_type": "stream",
          "name": "stderr",
          "text": [
            "/usr/local/lib/python3.7/dist-packages/sklearn/utils/deprecation.py:87: FutureWarning: Function get_feature_names is deprecated; get_feature_names is deprecated in 1.0 and will be removed in 1.2. Please use get_feature_names_out instead.\n",
            "  warnings.warn(msg, category=FutureWarning)\n"
          ]
        },
        {
          "output_type": "execute_result",
          "data": {
            "text/plain": [
              "['1',\n",
              " 'EXT_SOURCE_1',\n",
              " 'EXT_SOURCE_2',\n",
              " 'EXT_SOURCE_3',\n",
              " 'DAYS_BIRTH',\n",
              " 'CREDIT_TERM',\n",
              " 'EXT_SOURCE_1^2',\n",
              " 'EXT_SOURCE_1 EXT_SOURCE_2',\n",
              " 'EXT_SOURCE_1 EXT_SOURCE_3',\n",
              " 'EXT_SOURCE_1 DAYS_BIRTH',\n",
              " 'EXT_SOURCE_1 CREDIT_TERM',\n",
              " 'EXT_SOURCE_2^2',\n",
              " 'EXT_SOURCE_2 EXT_SOURCE_3',\n",
              " 'EXT_SOURCE_2 DAYS_BIRTH',\n",
              " 'EXT_SOURCE_2 CREDIT_TERM']"
            ]
          },
          "metadata": {},
          "execution_count": 144
        }
      ],
      "source": [
        "poly_transformer.get_feature_names(input_features = ['EXT_SOURCE_1', 'EXT_SOURCE_2', 'EXT_SOURCE_3','DAYS_BIRTH', 'CREDIT_TERM'])[:15]"
      ]
    },
    {
      "cell_type": "code",
      "execution_count": 145,
      "metadata": {
        "colab": {
          "base_uri": "https://localhost:8080/"
        },
        "id": "Bo1ma7ZponMx",
        "outputId": "f355499b-5953-42a2-fd47-ca62c6835792"
      },
      "outputs": [
        {
          "output_type": "stream",
          "name": "stderr",
          "text": [
            "/usr/local/lib/python3.7/dist-packages/sklearn/utils/deprecation.py:87: FutureWarning: Function get_feature_names is deprecated; get_feature_names is deprecated in 1.0 and will be removed in 1.2. Please use get_feature_names_out instead.\n",
            "  warnings.warn(msg, category=FutureWarning)\n"
          ]
        },
        {
          "output_type": "stream",
          "name": "stdout",
          "text": [
            "EXT_SOURCE_2 EXT_SOURCE_3                -0.190619\n",
            "EXT_SOURCE_1 EXT_SOURCE_2 EXT_SOURCE_3   -0.187364\n",
            "EXT_SOURCE_2 EXT_SOURCE_3 DAYS_BIRTH     -0.179790\n",
            "EXT_SOURCE_2^2 EXT_SOURCE_3              -0.174604\n",
            "EXT_SOURCE_2 EXT_SOURCE_3^2              -0.169516\n",
            "EXT_SOURCE_1 EXT_SOURCE_2                -0.165062\n",
            "EXT_SOURCE_2                             -0.162383\n",
            "EXT_SOURCE_2 DAYS_BIRTH                  -0.159863\n",
            "EXT_SOURCE_1 EXT_SOURCE_2 DAYS_BIRTH     -0.157203\n",
            "EXT_SOURCE_1 EXT_SOURCE_2^2              -0.155854\n",
            "EXT_SOURCE_2 EXT_SOURCE_3 CREDIT_TERM    -0.155820\n",
            "EXT_SOURCE_2^2 DAYS_BIRTH                -0.152261\n",
            "EXT_SOURCE_2^2                           -0.151487\n",
            "EXT_SOURCE_1 EXT_SOURCE_3                -0.150418\n",
            "EXT_SOURCE_1 EXT_SOURCE_3 DAYS_BIRTH     -0.143557\n",
            "EXT_SOURCE_3                             -0.142190\n",
            "EXT_SOURCE_2^3                           -0.142178\n",
            "EXT_SOURCE_3 DAYS_BIRTH                  -0.141401\n",
            "EXT_SOURCE_1 EXT_SOURCE_3^2              -0.138980\n",
            "EXT_SOURCE_1^2 EXT_SOURCE_2              -0.138804\n",
            "Name: TARGET, dtype: float64\n",
            "EXT_SOURCE_1^2 DAYS_BIRTH             -0.089520\n",
            "EXT_SOURCE_3 CREDIT_TERM^2            -0.082830\n",
            "EXT_SOURCE_1                          -0.081994\n",
            "EXT_SOURCE_1 DAYS_BIRTH CREDIT_TERM   -0.079828\n",
            "DAYS_BIRTH                            -0.079541\n",
            "DAYS_BIRTH^2                          -0.077987\n",
            "EXT_SOURCE_1^2                        -0.075605\n",
            "DAYS_BIRTH^3                          -0.075583\n",
            "EXT_SOURCE_1^2 CREDIT_TERM            -0.070985\n",
            "EXT_SOURCE_1^3                        -0.068726\n",
            "DAYS_BIRTH^2 CREDIT_TERM              -0.068006\n",
            "EXT_SOURCE_1 CREDIT_TERM              -0.066201\n",
            "DAYS_BIRTH CREDIT_TERM                -0.062853\n",
            "EXT_SOURCE_1 CREDIT_TERM^2            -0.056806\n",
            "DAYS_BIRTH CREDIT_TERM^2              -0.052914\n",
            "CREDIT_TERM^3                         -0.041306\n",
            "CREDIT_TERM^2                         -0.039091\n",
            "CREDIT_TERM                           -0.033746\n",
            "TARGET                                 1.000000\n",
            "1                                           NaN\n",
            "Name: TARGET, dtype: float64\n"
          ]
        }
      ],
      "source": [
        "# Create a dataframe of the features \n",
        "poly_features = pd.DataFrame(poly_features, \n",
        "                             columns = poly_transformer.get_feature_names(['EXT_SOURCE_1', 'EXT_SOURCE_2', \n",
        "                                                                           'EXT_SOURCE_3', 'DAYS_BIRTH', 'CREDIT_TERM']))\n",
        "\n",
        "# Add in the target\n",
        "poly_features['TARGET'] = poly_target\n",
        "\n",
        "# Find the correlations with the target\n",
        "poly_corrs = poly_features.corr()['TARGET'].sort_values()\n",
        "\n",
        "# Display most negative and most positive\n",
        "print(poly_corrs.head(20))\n",
        "print(poly_corrs.tail(20))"
      ]
    },
    {
      "cell_type": "code",
      "execution_count": 146,
      "metadata": {
        "colab": {
          "base_uri": "https://localhost:8080/"
        },
        "id": "bWg1TKruonMy",
        "outputId": "819e9da6-4382-4780-d8f9-2c6360948e10"
      },
      "outputs": [
        {
          "output_type": "stream",
          "name": "stderr",
          "text": [
            "/usr/local/lib/python3.7/dist-packages/sklearn/utils/deprecation.py:87: FutureWarning: Function get_feature_names is deprecated; get_feature_names is deprecated in 1.0 and will be removed in 1.2. Please use get_feature_names_out instead.\n",
            "  warnings.warn(msg, category=FutureWarning)\n"
          ]
        },
        {
          "output_type": "stream",
          "name": "stdout",
          "text": [
            "dataing data with polynomial features shape:  (171202, 263)\n",
            "Testing data with polynomial features shape:   (61500, 263)\n"
          ]
        }
      ],
      "source": [
        "# Put test features into dataframe\n",
        "poly_features_test = pd.DataFrame(poly_features_test, \n",
        "                                  columns = poly_transformer.get_feature_names(['EXT_SOURCE_1', 'EXT_SOURCE_2', \n",
        "                                                                                'EXT_SOURCE_3','DAYS_BIRTH', 'CREDIT_TERM']))\n",
        "\n",
        "# Merge polynomial features into dataing dataframe\n",
        "poly_features['SK_ID_CURR'] = data['SK_ID_CURR']\n",
        "app_train_poly = data.merge(poly_features, on = 'SK_ID_CURR', how = 'left')\n",
        "\n",
        "# Merge polnomial features into testing dataframe\n",
        "poly_features_test['SK_ID_CURR'] = test['SK_ID_CURR']\n",
        "app_test_poly = test.merge(poly_features_test, on = 'SK_ID_CURR', how = 'left')\n",
        "\n",
        "# Align the dataframes\n",
        "app_train_poly, app_test_poly = app_train_poly.align(app_test_poly, join = 'inner', axis = 1)\n",
        "\n",
        "# Print out the new shapes\n",
        "print('dataing data with polynomial features shape: ', app_train_poly.shape)\n",
        "print('Testing data with polynomial features shape:  ', app_test_poly.shape)"
      ]
    },
    {
      "cell_type": "code",
      "execution_count": 147,
      "metadata": {
        "id": "Nx8q0Wt8onMy"
      },
      "outputs": [],
      "source": [
        "app_train_poly.head()\n",
        "\n",
        "app_train_poly=app_train_poly.rename(columns={'EXT_SOURCE_1_x':'EXT_SOURCE_1','EXT_SOURCE_2_x':'EXT_SOURCE_2','EXT_SOURCE_3_x':'EXT_SOURCE_3','DAYS_BIRTH_x':'DAYS_BIRTH'})\n",
        "#app_train_poly=app_train_poly.drop('1',inplace=True)\n",
        "\n",
        "app_test_poly=app_test_poly.rename(columns={'EXT_SOURCE_1_x':'EXT_SOURCE_1','EXT_SOURCE_2_x':'EXT_SOURCE_2','EXT_SOURCE_3_x':'EXT_SOURCE_3','DAYS_BIRTH_x':'DAYS_BIRTH'})"
      ]
    },
    {
      "cell_type": "code",
      "execution_count": 148,
      "metadata": {
        "id": "I4WHW6wqonMy"
      },
      "outputs": [],
      "source": [
        "app_test_poly.drop('1',axis=1,inplace=True)\n",
        "app_train_poly.drop('1',axis=1,inplace=True)"
      ]
    },
    {
      "cell_type": "code",
      "execution_count": 149,
      "metadata": {
        "id": "EeXj1CY4onMz"
      },
      "outputs": [],
      "source": [
        "#app_train_poly['NAME_TYPE_SUITE_Spouse, partner_x']"
      ]
    },
    {
      "cell_type": "code",
      "execution_count": 150,
      "metadata": {
        "id": "TXWT6dREonMz"
      },
      "outputs": [],
      "source": [
        "# check and remove constant columns\n",
        "#colsToRemove = []\n",
        "#for col in app_train_poly.columns:\n",
        "#    if col != 'SK_ID_CURR' and col != 'TARGET':\n",
        "#        if app_train_poly[col].std() == 0: \n",
        "#            colsToRemove.append(col)\n",
        "        \n",
        "# remove constant columns in the training set\n",
        "#app_train_poly.drop(colsToRemove, axis=1, inplace=True)\n",
        "\n",
        "# remove constant columns in the test set\n",
        "#app_test_poly.drop(colsToRemove, axis=1, inplace=True) \n",
        "\n",
        "#print(\"Removed `{}` Constant Columns\\n\".format(len(colsToRemove)))\n",
        "#print(colsToRemove)"
      ]
    },
    {
      "cell_type": "code",
      "execution_count": 151,
      "metadata": {
        "id": "0XnhH-PDonMz"
      },
      "outputs": [],
      "source": [
        "#app_train_domain['SK_ID_CURR']"
      ]
    },
    {
      "cell_type": "code",
      "execution_count": 152,
      "metadata": {
        "id": "0yIeCNBOonM0"
      },
      "outputs": [],
      "source": [
        "# create temp DF\n",
        "#data1 = pd.read_csv('../input/application_train.csv')\n",
        "#test1 = pd.read_csv('../input/application_test.csv')\n",
        "\n",
        "#app_train_domain = app_test_domain.drop('SK_ID_PREV_x',axis=1)\n",
        "#app_test_domain = app_test_domain.drop('SK_ID_PREV_x',axis=1)\n",
        "\n",
        "#app_train_domain = app_test_domain.drop('SK_ID_PREV_y',axis=1)\n",
        "#app_test_domain = app_test_domain.drop('SK_ID_PREV_y',axis=1)"
      ]
    },
    {
      "cell_type": "code",
      "execution_count": 153,
      "metadata": {
        "id": "EnrINXikonM0"
      },
      "outputs": [],
      "source": [
        "#app_train_poly['AMT_CREDIT'] = data1['AMT_CREDIT']\n",
        "#app_test_poly['AMT_CREDIT'] = test1['AMT_CREDIT']\n",
        "#app_train_poly['AMT_GOODS_PRICE'] = data1['AMT_GOODS_PRICE']\n",
        "#app_test_poly['AMT_GOODS_PRICE'] = test1['AMT_GOODS_PRICE']\n",
        "app_train_poly=app_train_poly.rename(columns={'AMT_CREDIT_x':'AMT_CREDIT','AMT_GOODS_PRICE_x':'AMT_GOODS_PRICE'})\n",
        "app_test_poly=app_test_poly.rename(columns={'AMT_CREDIT_x':'AMT_CREDIT','AMT_GOODS_PRICE_x':'AMT_GOODS_PRICE'})"
      ]
    },
    {
      "cell_type": "code",
      "execution_count": 154,
      "metadata": {
        "id": "-37XbYmgonM1"
      },
      "outputs": [],
      "source": [
        "app_train_domain = app_train_poly.copy()\n",
        "app_test_domain = app_test_poly.copy()\n",
        "\n",
        "app_train_domain['CREDIT_INCOME_PERCENT'] = app_train_domain['AMT_CREDIT'] / app_train_domain['AMT_INCOME_TOTAL']\n",
        "app_train_domain['ANNUITY_INCOME_PERCENT'] = app_train_domain['AMT_ANNUITY'] / app_train_domain['AMT_INCOME_TOTAL']\n",
        "app_train_domain['CREDIT_TERM_INV'] = app_train_domain['AMT_ANNUITY'] / app_train_domain['AMT_CREDIT']\n",
        "app_train_domain['DAYS_EMPLOYED_PERCENT'] = app_train_domain['DAYS_EMPLOYED'] / app_train_domain['DAYS_BIRTH']\n",
        "app_train_domain['NEW_EXT_SOURCES_MEAN'] = app_train_domain[['EXT_SOURCE_1', 'EXT_SOURCE_2', 'EXT_SOURCE_3']].mean(axis=1)\n",
        "app_train_domain['NEW_EMPLOY_TO_BIRTH_RATIO'] = app_train_domain['DAYS_EMPLOYED'] / app_train_domain['DAYS_BIRTH']\n",
        "#\n",
        "app_train_domain['NEW_EMPLOY_TO_BIRTH_NUM'] = app_train_domain['DAYS_BIRTH'] - app_train_domain['DAYS_EMPLOYED']\n",
        "app_train_domain['NEW_PHONE_TO_BIRTH_NUM'] = app_train_domain['DAYS_BIRTH'] - app_train_domain['DAYS_LAST_PHONE_CHANGE']\n",
        "app_train_domain['NEW_REGISTRATION_TO_BIRTH_NUM'] = app_train_domain['DAYS_BIRTH'] - app_train_domain['DAYS_REGISTRATION']\n",
        "app_train_domain['NEW_ID_PUBLISH_TO_BIRTH_NUM'] = app_train_domain['DAYS_BIRTH'] - app_train_domain['DAYS_ID_PUBLISH']\n",
        "app_train_domain['NEW_PHONE_TO_REGISTRATION_NUM'] = app_train_domain['DAYS_REGISTRATION'] - app_train_domain['DAYS_LAST_PHONE_CHANGE']\n",
        "app_train_domain['NEW_EMPLOY_TO_REGISTRATION_NUM'] = app_train_domain['DAYS_REGISTRATION'] - app_train_domain['DAYS_EMPLOYED']\n",
        "app_train_domain['NEW_ID_PUBLISH_TO_REGISTRATION_NUM'] = app_train_domain['DAYS_REGISTRATION'] - app_train_domain['DAYS_ID_PUBLISH']\n",
        "app_train_domain['NEW_PHONE_TO_EMPLOY_NUM'] = app_train_domain['DAYS_EMPLOYED'] - app_train_domain['DAYS_LAST_PHONE_CHANGE']\n",
        "app_train_domain['NEW_ID_PUBLISH_TO_EMPLOY_NUM'] = app_train_domain['DAYS_EMPLOYED'] - app_train_domain['DAYS_ID_PUBLISH']\n",
        "app_train_domain['NEW_REGION_RATING_CLIENT_NUM'] = app_train_domain['REGION_RATING_CLIENT_W_CITY'] - app_train_domain['REGION_RATING_CLIENT']\n",
        "app_train_domain['NEW_FAM_MEMBERS_NUM'] = app_train_domain['CNT_FAM_MEMBERS'] - app_train_domain['CNT_CHILDREN']\n",
        "app_train_domain['NEW_EMPLOY_TO_BIRTH_YEAR'] = app_train_domain['YEARS_BIRTH'] - app_train_domain['YEARS_EMPLOYED']\n",
        "app_train_domain['NEW_PHONE_TO_BIRTH_YEAR'] = app_train_domain['YEARS_BIRTH'] - app_train_domain['YEARS_LAST_PHONE_CHANGE']\n",
        "app_train_domain['NEW_REGISTRATION_TO_BIRTH_YEAR'] = app_train_domain['YEARS_BIRTH'] - app_train_domain['YEARS_REGISTRATION']\n",
        "app_train_domain['NEW_ID_PUBLISH_TO_BIRTH_YEAR'] = app_train_domain['YEARS_BIRTH'] - app_train_domain['YEARS_ID_PUBLISH']\n",
        "app_train_domain['NEW_OWN_CAR_TO_BIRTH_YEAR'] = app_train_domain['YEARS_BIRTH'] - app_train_domain['OWN_CAR_AGE']\n",
        "app_train_domain['NEW_PHONE_TO_REGISTRATION_YEAR'] = app_train_domain['YEARS_REGISTRATION'] - app_train_domain['YEARS_LAST_PHONE_CHANGE']\n",
        "app_train_domain['NEW_EMPLOY_TO_REGISTRATION_YEAR'] = app_train_domain['YEARS_REGISTRATION'] - app_train_domain['YEARS_EMPLOYED']\n",
        "app_train_domain['NEW_ID_PUBLISH_TO_REGISTRATION_YEAR'] = app_train_domain['YEARS_REGISTRATION'] - app_train_domain['YEARS_ID_PUBLISH']\n",
        "app_train_domain['NEW_OWN_CAR_TO_REGISTRATION_YEAR'] = app_train_domain['YEARS_REGISTRATION'] - app_train_domain['OWN_CAR_AGE']\n",
        "app_train_domain['NEW_PHONE_TO_EMPLOY_YEAR'] = app_train_domain['YEARS_EMPLOYED'] - app_train_domain['YEARS_LAST_PHONE_CHANGE']\n",
        "app_train_domain['NEW_ID_PUBLISH_TO_EMPLOY_YEAR'] = app_train_domain['YEARS_EMPLOYED'] - app_train_domain['YEARS_ID_PUBLISH']\n",
        "app_train_domain['NEW_OWN_CAR_TO_EMPLOY_YEAR'] = app_train_domain['YEARS_EMPLOYED'] - app_train_domain['OWN_CAR_AGE']\n",
        "app_train_domain['NEW_ID_PUBLISH_TO_OWN_CAR'] = app_train_domain['OWN_CAR_AGE'] - app_train_domain['YEARS_ID_PUBLISH']"
      ]
    },
    {
      "cell_type": "code",
      "execution_count": 155,
      "metadata": {
        "id": "YK6YfTJJonM1"
      },
      "outputs": [],
      "source": [
        "app_test_domain['CREDIT_INCOME_PERCENT'] = app_test_domain['AMT_CREDIT'] / app_test_domain['AMT_INCOME_TOTAL']\n",
        "app_test_domain['ANNUITY_INCOME_PERCENT'] = app_test_domain['AMT_ANNUITY'] / app_test_domain['AMT_INCOME_TOTAL']\n",
        "app_test_domain['CREDIT_TERM_INV'] = app_test_domain['AMT_ANNUITY'] / app_test_domain['AMT_CREDIT']\n",
        "app_test_domain['DAYS_EMPLOYED_PERCENT'] = app_test_domain['DAYS_EMPLOYED'] / app_test_domain['DAYS_BIRTH']\n",
        "\n",
        "app_test_domain['NEW_EXT_SOURCES_MEAN'] = app_test_domain[['EXT_SOURCE_1', 'EXT_SOURCE_2', 'EXT_SOURCE_3']].mean(axis=1)\n",
        "app_test_domain['NEW_EMPLOY_TO_BIRTH_RATIO'] = app_test_domain['DAYS_EMPLOYED'] / app_test_domain['DAYS_BIRTH']\n",
        "\n",
        "#\n",
        "app_test_domain['NEW_EMPLOY_TO_BIRTH_NUM'] = app_test_domain['DAYS_BIRTH'] - app_test_domain['DAYS_EMPLOYED']\n",
        "app_test_domain['NEW_PHONE_TO_BIRTH_NUM'] = app_test_domain['DAYS_BIRTH'] - app_test_domain['DAYS_LAST_PHONE_CHANGE']\n",
        "app_test_domain['NEW_REGISTRATION_TO_BIRTH_NUM'] = app_test_domain['DAYS_BIRTH'] - app_test_domain['DAYS_REGISTRATION']\n",
        "app_test_domain['NEW_ID_PUBLISH_TO_BIRTH_NUM'] = app_test_domain['DAYS_BIRTH'] - app_test_domain['DAYS_ID_PUBLISH']\n",
        "app_test_domain['NEW_PHONE_TO_REGISTRATION_NUM'] = app_test_domain['DAYS_REGISTRATION'] - app_test_domain['DAYS_LAST_PHONE_CHANGE']\n",
        "app_test_domain['NEW_EMPLOY_TO_REGISTRATION_NUM'] = app_test_domain['DAYS_REGISTRATION'] - app_test_domain['DAYS_EMPLOYED']\n",
        "app_test_domain['NEW_ID_PUBLISH_TO_REGISTRATION_NUM'] = app_test_domain['DAYS_REGISTRATION'] - app_test_domain['DAYS_ID_PUBLISH']\n",
        "app_test_domain['NEW_PHONE_TO_EMPLOY_NUM'] = app_test_domain['DAYS_EMPLOYED'] - app_test_domain['DAYS_LAST_PHONE_CHANGE']\n",
        "app_test_domain['NEW_ID_PUBLISH_TO_EMPLOY_NUM'] = app_test_domain['DAYS_EMPLOYED'] - app_test_domain['DAYS_ID_PUBLISH']\n",
        "app_test_domain['NEW_REGION_RATING_CLIENT_NUM'] = app_test_domain['REGION_RATING_CLIENT_W_CITY'] - app_test_domain['REGION_RATING_CLIENT']\n",
        "app_test_domain['NEW_FAM_MEMBERS_NUM'] = app_test_domain['CNT_FAM_MEMBERS'] - app_test_domain['CNT_CHILDREN']\n",
        "app_test_domain['NEW_EMPLOY_TO_BIRTH_YEAR'] = app_test_domain['YEARS_BIRTH'] - app_test_domain['YEARS_EMPLOYED']\n",
        "app_test_domain['NEW_PHONE_TO_BIRTH_YEAR'] = app_test_domain['YEARS_BIRTH'] - app_test_domain['YEARS_LAST_PHONE_CHANGE']\n",
        "app_test_domain['NEW_REGISTRATION_TO_BIRTH_YEAR'] = app_test_domain['YEARS_BIRTH'] - app_test_domain['YEARS_REGISTRATION']\n",
        "app_test_domain['NEW_ID_PUBLISH_TO_BIRTH_YEAR'] = app_test_domain['YEARS_BIRTH'] - app_test_domain['YEARS_ID_PUBLISH']\n",
        "app_test_domain['NEW_OWN_CAR_TO_BIRTH_YEAR'] = app_test_domain['YEARS_BIRTH'] - app_test_domain['OWN_CAR_AGE']\n",
        "app_test_domain['NEW_PHONE_TO_REGISTRATION_YEAR'] = app_test_domain['YEARS_REGISTRATION'] - app_test_domain['YEARS_LAST_PHONE_CHANGE']\n",
        "app_test_domain['NEW_EMPLOY_TO_REGISTRATION_YEAR'] = app_test_domain['YEARS_REGISTRATION'] - app_test_domain['YEARS_EMPLOYED']\n",
        "app_test_domain['NEW_ID_PUBLISH_TO_REGISTRATION_YEAR'] = app_test_domain['YEARS_REGISTRATION'] - app_test_domain['YEARS_ID_PUBLISH']\n",
        "app_test_domain['NEW_OWN_CAR_TO_REGISTRATION_YEAR'] = app_test_domain['YEARS_REGISTRATION'] - app_test_domain['OWN_CAR_AGE']\n",
        "app_test_domain['NEW_PHONE_TO_EMPLOY_YEAR'] = app_test_domain['YEARS_EMPLOYED'] - app_test_domain['YEARS_LAST_PHONE_CHANGE']\n",
        "app_test_domain['NEW_ID_PUBLISH_TO_EMPLOY_YEAR'] = app_test_domain['YEARS_EMPLOYED'] - app_test_domain['YEARS_ID_PUBLISH']\n",
        "app_test_domain['NEW_OWN_CAR_TO_EMPLOY_YEAR'] = app_test_domain['YEARS_EMPLOYED'] - app_test_domain['OWN_CAR_AGE']\n",
        "app_test_domain['NEW_ID_PUBLISH_TO_OWN_CAR'] = app_test_domain['OWN_CAR_AGE'] - app_test_domain['YEARS_ID_PUBLISH']"
      ]
    },
    {
      "cell_type": "code",
      "execution_count": 156,
      "metadata": {
        "colab": {
          "base_uri": "https://localhost:8080/"
        },
        "id": "2HYOhQeFonM2",
        "outputId": "e93aad4e-ed09-4ec9-c238-317e1b431475"
      },
      "outputs": [
        {
          "output_type": "stream",
          "name": "stdout",
          "text": [
            "Training data with polynomial features shape:  (171202, 293)\n",
            "Testing data with polynomial features shape:   (61500, 292)\n"
          ]
        }
      ],
      "source": [
        "app_train_domain['TARGET'] = poly_target\n",
        "print('Training data with polynomial features shape: ', app_train_domain.shape)\n",
        "print('Testing data with polynomial features shape:  ', app_test_domain.shape)"
      ]
    },
    {
      "cell_type": "code",
      "execution_count": 157,
      "metadata": {
        "colab": {
          "base_uri": "https://localhost:8080/"
        },
        "id": "Pf7NVRztonM3",
        "outputId": "ff778230-392d-4259-becf-4f1bcd34e2c2"
      },
      "outputs": [
        {
          "output_type": "stream",
          "name": "stdout",
          "text": [
            "Training data with polynomial features shape:  (171202, 293)\n",
            "Testing data with polynomial features shape:   (61500, 292)\n"
          ]
        }
      ],
      "source": [
        "app_train_domain['TARGET'] = poly_target\n",
        "print('Training data with polynomial features shape: ', app_train_domain.shape)\n",
        "print('Testing data with polynomial features shape:  ', app_test_domain.shape)"
      ]
    },
    {
      "cell_type": "code",
      "execution_count": 177,
      "metadata": {
        "id": "W9WgYpa-onM4"
      },
      "outputs": [],
      "source": [
        "from sklearn.model_selection import KFold\n",
        "from sklearn.metrics import roc_auc_score\n",
        "import lightgbm as lgb\n",
        "import gc\n",
        "\n",
        "def model(features, test_features, encoding = 'ohe', n_folds =5 ):\n",
        "    \n",
        "    \"\"\"Train and test a light gradient boosting model using\n",
        "    cross validation. \n",
        "    \n",
        "    Parameters\n",
        "    --------\n",
        "        features (pd.DataFrame): \n",
        "            dataframe of training features to use \n",
        "            for training a model. Must include the TARGET column.\n",
        "        test_features (pd.DataFrame): \n",
        "            dataframe of testing features to use\n",
        "            for making predictions with the model. \n",
        "        encoding (str, default = 'ohe'): \n",
        "            method for encoding categorical variables. Either 'ohe' for one-hot encoding or 'le' for integer label encoding\n",
        "            n_folds (int, default = 5): number of folds to use for cross validation\n",
        "        \n",
        "    Return\n",
        "    --------\n",
        "        submission (pd.DataFrame): \n",
        "            dataframe with `SK_ID_CURR` and `TARGET` probabilities\n",
        "            predicted by the model.\n",
        "        feature_importances (pd.DataFrame): \n",
        "            dataframe with the feature importances from the model.\n",
        "        valid_metrics (pd.DataFrame): \n",
        "            dataframe with training and validation metrics (ROC AUC) for each fold and overall.\n",
        "        \n",
        "    \"\"\"\n",
        "    \n",
        "    # Extract the ids\n",
        "    train_ids = features['SK_ID_CURR']\n",
        "    test_ids = test_features['SK_ID_CURR']\n",
        "    \n",
        "    # Extract the labels for training\n",
        "    labels = features['TARGET']\n",
        "    \n",
        "    # Remove the ids and target\n",
        "    features = features.drop(columns = ['SK_ID_CURR', 'TARGET'])\n",
        "    test_features = test_features.drop(columns = ['SK_ID_CURR'])\n",
        "    \n",
        "    \n",
        "    # One Hot Encoding\n",
        "    if encoding == 'ohe':\n",
        "        features = pd.get_dummies(features)\n",
        "        test_features = pd.get_dummies(test_features)\n",
        "        \n",
        "        # Align the dataframes by the columns\n",
        "        features, test_features = features.align(test_features, join = 'inner', axis = 1)\n",
        "        \n",
        "        # No categorical indices to record\n",
        "        cat_indices = 'auto'\n",
        "    \n",
        "    # Integer label encoding\n",
        "    elif encoding == 'le':\n",
        "        \n",
        "        # Create a label encoder\n",
        "        label_encoder = LabelEncoder()\n",
        "        \n",
        "        # List for storing categorical indices\n",
        "        cat_indices = []\n",
        "        \n",
        "        # Iterate through each column\n",
        "        for i, col in enumerate(features):\n",
        "            if features[col].dtype == 'object':\n",
        "                # Map the categorical features to integers\n",
        "                features[col] = label_encoder.fit_transform(np.array(features[col].astype(str)).reshape((-1,)))\n",
        "                test_features[col] = label_encoder.transform(np.array(test_features[col].astype(str)).reshape((-1,)))\n",
        "\n",
        "                # Record the categorical indices\n",
        "                cat_indices.append(i)\n",
        "    \n",
        "    # Catch error if label encoding scheme is not valid\n",
        "    else:\n",
        "        raise ValueError(\"Encoding must be either 'ohe' or 'le'\")\n",
        "        \n",
        "    print('Training Data Shape: ', features.shape)\n",
        "    print('Testing Data Shape: ', test_features.shape)\n",
        "    \n",
        "    # Extract feature names\n",
        "    feature_names = list(features.columns)\n",
        "    \n",
        "    # Convert to np arrays\n",
        "    features = np.array(features)\n",
        "    test_features = np.array(test_features)\n",
        "    \n",
        "    # Create the kfold object\n",
        "    k_fold = KFold(n_splits = n_folds, shuffle = True, random_state = 50)\n",
        "    \n",
        "    # Empty array for feature importances\n",
        "    feature_importance_values = np.zeros(len(feature_names))\n",
        "    \n",
        "    # Empty array for test predictions\n",
        "    test_predictions = np.zeros(test_features.shape[0])\n",
        "    \n",
        "    # Empty array for out of fold validation predictions\n",
        "    out_of_fold = np.zeros(features.shape[0])\n",
        "    \n",
        "    # Lists for recording validation and training scores\n",
        "    valid_scores = []\n",
        "    train_scores = []\n",
        "    \n",
        "    # Iterate through each fold\n",
        "    for train_indices, valid_indices in k_fold.split(features):\n",
        "        \n",
        "        # Training data for the fold\n",
        "        train_features, train_labels = features[train_indices], labels[train_indices]\n",
        "        # Validation data for the fold\n",
        "        valid_features, valid_labels = features[valid_indices], labels[valid_indices]\n",
        "        \n",
        "        # Create the model\n",
        "        model = lgb.LGBMClassifier(n_estimators=10000, nthread=4,objective = 'binary', \n",
        "                                   class_weight = 'balanced', learning_rate = 0.015, \n",
        "                                   reg_alpha = 0.041545473, reg_lambda = 0.1, \n",
        "                                   n_jobs = -1, random_state = 50,num_leaves=15,colsample_bytree=.9497036,subsample=.8715623,\n",
        "                                  max_depth=5,min_split_gain=.0222415,min_child_weight=39.3259775,max_bin=200,num_boost_round=3000,min_data_in_leaf=100,bagging_fraction=0.5,bagging_freq=10)\n",
        "        \n",
        "        # Train the model\n",
        "        model.fit(train_features, train_labels, eval_metric = 'auc',\n",
        "                  eval_set = [(valid_features, valid_labels), (train_features, train_labels)],\n",
        "                  eval_names = ['valid', 'train'], categorical_feature = cat_indices,\n",
        "                  early_stopping_rounds = 100, verbose = 200)\n",
        "        \n",
        "        # Record the best iteration\n",
        "        best_iteration = model.best_iteration_\n",
        "        \n",
        "        # Record the feature importances\n",
        "        feature_importance_values += model.feature_importances_ / k_fold.n_splits\n",
        "        \n",
        "        # Make predictions\n",
        "        test_predictions += model.predict_proba(test_features, num_iteration = best_iteration)[:, 1] / k_fold.n_splits\n",
        "        \n",
        "        # Record the out of fold predictions\n",
        "        out_of_fold[valid_indices] = model.predict_proba(valid_features, num_iteration = best_iteration)[:, 1]\n",
        "        \n",
        "        # Record the best score\n",
        "        valid_score = model.best_score_['valid']['auc']\n",
        "        train_score = model.best_score_['train']['auc']\n",
        "        \n",
        "        valid_scores.append(valid_score)\n",
        "        train_scores.append(train_score)\n",
        "        \n",
        "        # Clean up memory\n",
        "        gc.enable()\n",
        "        del model, train_features, valid_features\n",
        "        gc.collect()\n",
        "        \n",
        "    # Make the submission dataframe\n",
        "    submission = pd.DataFrame({'SK_ID_CURR': test_ids, 'TARGET': test_predictions})\n",
        "    \n",
        "    # Make the feature importance dataframe\n",
        "    feature_importances = pd.DataFrame({'feature': feature_names, 'importance': feature_importance_values})\n",
        "    \n",
        "    # Overall validation score\n",
        "    valid_auc = roc_auc_score(labels, out_of_fold)\n",
        "    \n",
        "    # Add the overall scores to the metrics\n",
        "    valid_scores.append(valid_auc)\n",
        "    train_scores.append(np.mean(train_scores))\n",
        "    \n",
        "    # Needed for creating dataframe of validation scores\n",
        "    fold_names = list(range(n_folds))\n",
        "    fold_names.append('overall')\n",
        "    \n",
        "    # Dataframe of validation scores\n",
        "    metrics = pd.DataFrame({'fold': fold_names,\n",
        "                            'train': train_scores,\n",
        "                            'valid': valid_scores}) \n",
        "    \n",
        "    return submission, feature_importances, metrics"
      ]
    },
    {
      "cell_type": "code",
      "execution_count": 178,
      "metadata": {
        "colab": {
          "base_uri": "https://localhost:8080/"
        },
        "id": "-yJV0Cm9onM4",
        "outputId": "c2c08437-1c77-4136-a246-29a569350ef4"
      },
      "outputs": [
        {
          "output_type": "stream",
          "name": "stdout",
          "text": [
            "Training Data Shape:  (171202, 291)\n",
            "Testing Data Shape:  (61500, 291)\n"
          ]
        },
        {
          "output_type": "stream",
          "name": "stderr",
          "text": [
            "/usr/local/lib/python3.7/dist-packages/lightgbm/engine.py:118: UserWarning: Found `num_boost_round` in params. Will use it instead of argument\n",
            "  warnings.warn(\"Found `{}` in params. Will use it instead of argument\".format(alias))\n"
          ]
        },
        {
          "output_type": "stream",
          "name": "stdout",
          "text": [
            "Training until validation scores don't improve for 100 rounds.\n",
            "[200]\ttrain's auc: 0.75666\ttrain's binary_logloss: 0.589633\tvalid's auc: 0.748098\tvalid's binary_logloss: 0.589862\n",
            "[400]\ttrain's auc: 0.773004\ttrain's binary_logloss: 0.571932\tvalid's auc: 0.757743\tvalid's binary_logloss: 0.574805\n",
            "[600]\ttrain's auc: 0.782687\ttrain's binary_logloss: 0.561925\tvalid's auc: 0.760386\tvalid's binary_logloss: 0.56768\n",
            "[800]\ttrain's auc: 0.791424\ttrain's binary_logloss: 0.553111\tvalid's auc: 0.762845\tvalid's binary_logloss: 0.562385\n",
            "Early stopping, best iteration is:\n",
            "[800]\ttrain's auc: 0.791424\ttrain's binary_logloss: 0.553111\tvalid's auc: 0.762845\tvalid's binary_logloss: 0.562385\n"
          ]
        },
        {
          "output_type": "stream",
          "name": "stderr",
          "text": [
            "/usr/local/lib/python3.7/dist-packages/lightgbm/engine.py:118: UserWarning: Found `num_boost_round` in params. Will use it instead of argument\n",
            "  warnings.warn(\"Found `{}` in params. Will use it instead of argument\".format(alias))\n"
          ]
        },
        {
          "output_type": "stream",
          "name": "stdout",
          "text": [
            "Training until validation scores don't improve for 100 rounds.\n",
            "[200]\ttrain's auc: 0.757758\ttrain's binary_logloss: 0.589116\tvalid's auc: 0.748502\tvalid's binary_logloss: 0.592582\n",
            "[400]\ttrain's auc: 0.773528\ttrain's binary_logloss: 0.571555\tvalid's auc: 0.757123\tvalid's binary_logloss: 0.57914\n",
            "[600]\ttrain's auc: 0.783523\ttrain's binary_logloss: 0.561225\tvalid's auc: 0.759587\tvalid's binary_logloss: 0.573061\n",
            "[800]\ttrain's auc: 0.791344\ttrain's binary_logloss: 0.552985\tvalid's auc: 0.760711\tvalid's binary_logloss: 0.566887\n",
            "Early stopping, best iteration is:\n",
            "[790]\ttrain's auc: 0.790901\ttrain's binary_logloss: 0.553416\tvalid's auc: 0.760656\tvalid's binary_logloss: 0.566114\n"
          ]
        },
        {
          "output_type": "stream",
          "name": "stderr",
          "text": [
            "/usr/local/lib/python3.7/dist-packages/lightgbm/engine.py:118: UserWarning: Found `num_boost_round` in params. Will use it instead of argument\n",
            "  warnings.warn(\"Found `{}` in params. Will use it instead of argument\".format(alias))\n"
          ]
        },
        {
          "output_type": "stream",
          "name": "stdout",
          "text": [
            "Training until validation scores don't improve for 100 rounds.\n",
            "[200]\ttrain's auc: 0.756857\ttrain's binary_logloss: 0.589486\tvalid's auc: 0.753022\tvalid's binary_logloss: 0.5877\n",
            "[400]\ttrain's auc: 0.773279\ttrain's binary_logloss: 0.571632\tvalid's auc: 0.760379\tvalid's binary_logloss: 0.574041\n",
            "[600]\ttrain's auc: 0.783452\ttrain's binary_logloss: 0.561199\tvalid's auc: 0.762519\tvalid's binary_logloss: 0.5687\n",
            "[800]\ttrain's auc: 0.792494\ttrain's binary_logloss: 0.552134\tvalid's auc: 0.763317\tvalid's binary_logloss: 0.562471\n",
            "Early stopping, best iteration is:\n",
            "[858]\ttrain's auc: 0.794655\ttrain's binary_logloss: 0.549872\tvalid's auc: 0.763648\tvalid's binary_logloss: 0.560953\n"
          ]
        },
        {
          "output_type": "stream",
          "name": "stderr",
          "text": [
            "/usr/local/lib/python3.7/dist-packages/lightgbm/engine.py:118: UserWarning: Found `num_boost_round` in params. Will use it instead of argument\n",
            "  warnings.warn(\"Found `{}` in params. Will use it instead of argument\".format(alias))\n"
          ]
        },
        {
          "output_type": "stream",
          "name": "stdout",
          "text": [
            "Training until validation scores don't improve for 100 rounds.\n",
            "[200]\ttrain's auc: 0.759753\ttrain's binary_logloss: 0.587149\tvalid's auc: 0.737382\tvalid's binary_logloss: 0.593051\n",
            "[400]\ttrain's auc: 0.77615\ttrain's binary_logloss: 0.568986\tvalid's auc: 0.745187\tvalid's binary_logloss: 0.5789\n",
            "[600]\ttrain's auc: 0.785732\ttrain's binary_logloss: 0.558955\tvalid's auc: 0.747538\tvalid's binary_logloss: 0.571702\n",
            "[800]\ttrain's auc: 0.794049\ttrain's binary_logloss: 0.550407\tvalid's auc: 0.747864\tvalid's binary_logloss: 0.56725\n",
            "Early stopping, best iteration is:\n",
            "[811]\ttrain's auc: 0.794457\ttrain's binary_logloss: 0.549822\tvalid's auc: 0.74807\tvalid's binary_logloss: 0.566306\n"
          ]
        },
        {
          "output_type": "stream",
          "name": "stderr",
          "text": [
            "/usr/local/lib/python3.7/dist-packages/lightgbm/engine.py:118: UserWarning: Found `num_boost_round` in params. Will use it instead of argument\n",
            "  warnings.warn(\"Found `{}` in params. Will use it instead of argument\".format(alias))\n"
          ]
        },
        {
          "output_type": "stream",
          "name": "stdout",
          "text": [
            "Training until validation scores don't improve for 100 rounds.\n",
            "[200]\ttrain's auc: 0.75999\ttrain's binary_logloss: 0.587054\tvalid's auc: 0.739505\tvalid's binary_logloss: 0.590571\n",
            "[400]\ttrain's auc: 0.775313\ttrain's binary_logloss: 0.569734\tvalid's auc: 0.747316\tvalid's binary_logloss: 0.57567\n",
            "[600]\ttrain's auc: 0.785292\ttrain's binary_logloss: 0.559474\tvalid's auc: 0.750137\tvalid's binary_logloss: 0.5695\n",
            "[800]\ttrain's auc: 0.79383\ttrain's binary_logloss: 0.550894\tvalid's auc: 0.752061\tvalid's binary_logloss: 0.565448\n",
            "Early stopping, best iteration is:\n",
            "[790]\ttrain's auc: 0.793344\ttrain's binary_logloss: 0.551381\tvalid's auc: 0.752144\tvalid's binary_logloss: 0.565133\n",
            "Baseline metrics\n",
            "      fold     train     valid\n",
            "0        0  0.791424  0.762845\n",
            "1        1  0.790901  0.760656\n",
            "2        2  0.794655  0.763648\n",
            "3        3  0.794457  0.748070\n",
            "4        4  0.793344  0.752144\n",
            "5  overall  0.792956  0.757393\n"
          ]
        }
      ],
      "source": [
        "submission, fi, metrics = model(app_train_domain, app_test_domain)\n",
        "print('Baseline metrics')\n",
        "print(metrics)"
      ]
    },
    {
      "cell_type": "markdown",
      "metadata": {
        "id": "m-0-xZHuW-h5"
      },
      "source": [
        "*  overall  0.806886  0.757764\n",
        "\n",
        "This is 0.76278 on Public Leader Borard\n",
        "\n",
        "*  overall  0.808611  0.758026\n",
        "\n",
        "*  overall  0.802443  0.757587\n",
        "\n",
        "*  overall  0.803672  0.756758\n",
        "\n",
        "5  overall  0.804967  0.757232"
      ]
    },
    {
      "cell_type": "markdown",
      "source": [
        "5  overall  0.792956  0.757393  Leaf=20に変更の結果"
      ],
      "metadata": {
        "id": "NRpLKKbRI5lo"
      }
    },
    {
      "cell_type": "code",
      "execution_count": 160,
      "metadata": {
        "id": "H3V45Au-onM5"
      },
      "outputs": [],
      "source": [
        "def plot_feature_importances(df):\n",
        "    \"\"\"\n",
        "    Plot importances returned by a model. This can work with any measure of\n",
        "    feature importance provided that higher importance is better. \n",
        "    \n",
        "    Args:\n",
        "        df (dataframe): feature importances. Must have the features in a column\n",
        "        called `features` and the importances in a column called `importance\n",
        "        \n",
        "    Returns:\n",
        "        shows a plot of the 15 most importance features\n",
        "        \n",
        "        df (dataframe): feature importances sorted by importance (highest to lowest) \n",
        "        with a column for normalized importance\n",
        "        \"\"\"\n",
        "    \n",
        "    # Sort features according to importance\n",
        "    df = df.sort_values('importance', ascending = False).reset_index()\n",
        "    \n",
        "    # Normalize the feature importances to add up to one\n",
        "    df['importance_normalized'] = df['importance'] / df['importance'].sum()\n",
        "\n",
        "    # Make a horizontal bar chart of feature importances\n",
        "    plt.figure(figsize = (20, 20))\n",
        "    ax = plt.subplot()\n",
        "    \n",
        "    # Need to reverse the index to plot most important on top\n",
        "    ax.barh(list(reversed(list(df.index[:50]))), \n",
        "            df['importance_normalized'].head(50), \n",
        "            align = 'center', edgecolor = 'k')\n",
        "    \n",
        "    # Set the yticks and labels\n",
        "    ax.set_yticks(list(reversed(list(df.index[:50]))))\n",
        "    ax.set_yticklabels(df['feature'].head(50))\n",
        "    \n",
        "    # Plot labeling\n",
        "    plt.xlabel('Normalized Importance'); plt.title('Feature Importances')\n",
        "    plt.show()\n",
        "    \n",
        "    return df"
      ]
    },
    {
      "cell_type": "code",
      "execution_count": 161,
      "metadata": {
        "id": "yT__4iaXonM5",
        "colab": {
          "base_uri": "https://localhost:8080/",
          "height": 542
        },
        "outputId": "cfb567e5-d8b9-40cf-a001-3e5cc2035c54"
      },
      "outputs": [
        {
          "output_type": "display_data",
          "data": {
            "text/plain": [
              "<Figure size 1440x1440 with 1 Axes>"
            ],
            "image/png": "[encoded data removed]"
          },
          "metadata": {
            "needs_background": "light"
          }
        }
      ],
      "source": [
        "fi_sorted = plot_feature_importances(fi)"
      ]
    },
    {
      "cell_type": "code",
      "execution_count": 162,
      "metadata": {
        "id": "LSQ2ifqaonM5"
      },
      "outputs": [],
      "source": [
        "submission.to_csv('second_sub.csv', index = False)"
      ]
    },
    {
      "cell_type": "code",
      "source": [
        "app_train_domain=app_train_domain.rename(columns=lambda x: str(x).replace(u' ', u''))\n",
        "app_test_domain=app_test_domain.rename(columns=lambda x: str(x).replace(u' ', u''))"
      ],
      "metadata": {
        "id": "JSrfqyeWNhSx"
      },
      "execution_count": 163,
      "outputs": []
    },
    {
      "cell_type": "code",
      "execution_count": 164,
      "metadata": {
        "colab": {
          "base_uri": "https://localhost:8080/"
        },
        "id": "N2WyglcIXPax",
        "outputId": "31e7f865-8165-4040-ca35-0552fc059f4f"
      },
      "outputs": [
        {
          "output_type": "stream",
          "name": "stdout",
          "text": [
            "Training Data Shape:  (171202, 205)\n",
            "Testing Data Shape:  (61500, 205)\n"
          ]
        },
        {
          "output_type": "stream",
          "name": "stderr",
          "text": [
            "/usr/local/lib/python3.7/dist-packages/lightgbm/engine.py:118: UserWarning: Found `num_boost_round` in params. Will use it instead of argument\n",
            "  warnings.warn(\"Found `{}` in params. Will use it instead of argument\".format(alias))\n"
          ]
        },
        {
          "output_type": "stream",
          "name": "stdout",
          "text": [
            "Training until validation scores don't improve for 100 rounds.\n",
            "[200]\ttrain's auc: 0.76831\ttrain's binary_logloss: 0.579757\tvalid's auc: 0.750903\tvalid's binary_logloss: 0.581222\n",
            "[400]\ttrain's auc: 0.78521\ttrain's binary_logloss: 0.560744\tvalid's auc: 0.758293\tvalid's binary_logloss: 0.567069\n",
            "[600]\ttrain's auc: 0.796305\ttrain's binary_logloss: 0.549312\tvalid's auc: 0.760603\tvalid's binary_logloss: 0.559146\n",
            "[800]\ttrain's auc: 0.806146\ttrain's binary_logloss: 0.539147\tvalid's auc: 0.762746\tvalid's binary_logloss: 0.553275\n",
            "Early stopping, best iteration is:\n",
            "[795]\ttrain's auc: 0.80594\ttrain's binary_logloss: 0.539356\tvalid's auc: 0.762799\tvalid's binary_logloss: 0.553247\n"
          ]
        },
        {
          "output_type": "stream",
          "name": "stderr",
          "text": [
            "/usr/local/lib/python3.7/dist-packages/lightgbm/engine.py:118: UserWarning: Found `num_boost_round` in params. Will use it instead of argument\n",
            "  warnings.warn(\"Found `{}` in params. Will use it instead of argument\".format(alias))\n"
          ]
        },
        {
          "output_type": "stream",
          "name": "stdout",
          "text": [
            "Training until validation scores don't improve for 100 rounds.\n",
            "[200]\ttrain's auc: 0.767728\ttrain's binary_logloss: 0.580312\tvalid's auc: 0.749265\tvalid's binary_logloss: 0.584458\n",
            "[400]\ttrain's auc: 0.78449\ttrain's binary_logloss: 0.561666\tvalid's auc: 0.756503\tvalid's binary_logloss: 0.571923\n",
            "[600]\ttrain's auc: 0.795996\ttrain's binary_logloss: 0.549761\tvalid's auc: 0.758841\tvalid's binary_logloss: 0.565305\n",
            "[800]\ttrain's auc: 0.805008\ttrain's binary_logloss: 0.540246\tvalid's auc: 0.760142\tvalid's binary_logloss: 0.558471\n",
            "Early stopping, best iteration is:\n",
            "[732]\ttrain's auc: 0.802449\ttrain's binary_logloss: 0.542786\tvalid's auc: 0.76021\tvalid's binary_logloss: 0.558637\n"
          ]
        },
        {
          "output_type": "stream",
          "name": "stderr",
          "text": [
            "/usr/local/lib/python3.7/dist-packages/lightgbm/engine.py:118: UserWarning: Found `num_boost_round` in params. Will use it instead of argument\n",
            "  warnings.warn(\"Found `{}` in params. Will use it instead of argument\".format(alias))\n"
          ]
        },
        {
          "output_type": "stream",
          "name": "stdout",
          "text": [
            "Training until validation scores don't improve for 100 rounds.\n",
            "[200]\ttrain's auc: 0.767708\ttrain's binary_logloss: 0.5803\tvalid's auc: 0.754682\tvalid's binary_logloss: 0.579609\n",
            "[400]\ttrain's auc: 0.785927\ttrain's binary_logloss: 0.560304\tvalid's auc: 0.760394\tvalid's binary_logloss: 0.566131\n",
            "[600]\ttrain's auc: 0.797033\ttrain's binary_logloss: 0.548695\tvalid's auc: 0.762757\tvalid's binary_logloss: 0.560291\n",
            "[800]\ttrain's auc: 0.807279\ttrain's binary_logloss: 0.538175\tvalid's auc: 0.762722\tvalid's binary_logloss: 0.553545\n",
            "Early stopping, best iteration is:\n",
            "[760]\ttrain's auc: 0.805033\ttrain's binary_logloss: 0.540445\tvalid's auc: 0.763073\tvalid's binary_logloss: 0.553618\n"
          ]
        },
        {
          "output_type": "stream",
          "name": "stderr",
          "text": [
            "/usr/local/lib/python3.7/dist-packages/lightgbm/engine.py:118: UserWarning: Found `num_boost_round` in params. Will use it instead of argument\n",
            "  warnings.warn(\"Found `{}` in params. Will use it instead of argument\".format(alias))\n"
          ]
        },
        {
          "output_type": "stream",
          "name": "stdout",
          "text": [
            "Training until validation scores don't improve for 100 rounds.\n",
            "[200]\ttrain's auc: 0.770335\ttrain's binary_logloss: 0.577852\tvalid's auc: 0.739875\tvalid's binary_logloss: 0.584934\n",
            "[400]\ttrain's auc: 0.78834\ttrain's binary_logloss: 0.557729\tvalid's auc: 0.746175\tvalid's binary_logloss: 0.570897\n",
            "[600]\ttrain's auc: 0.798567\ttrain's binary_logloss: 0.546981\tvalid's auc: 0.74782\tvalid's binary_logloss: 0.563974\n",
            "[800]\ttrain's auc: 0.807455\ttrain's binary_logloss: 0.537585\tvalid's auc: 0.748181\tvalid's binary_logloss: 0.558881\n",
            "Early stopping, best iteration is:\n",
            "[818]\ttrain's auc: 0.808065\ttrain's binary_logloss: 0.536672\tvalid's auc: 0.748487\tvalid's binary_logloss: 0.557124\n"
          ]
        },
        {
          "output_type": "stream",
          "name": "stderr",
          "text": [
            "/usr/local/lib/python3.7/dist-packages/lightgbm/engine.py:118: UserWarning: Found `num_boost_round` in params. Will use it instead of argument\n",
            "  warnings.warn(\"Found `{}` in params. Will use it instead of argument\".format(alias))\n"
          ]
        },
        {
          "output_type": "stream",
          "name": "stdout",
          "text": [
            "Training until validation scores don't improve for 100 rounds.\n",
            "[200]\ttrain's auc: 0.770371\ttrain's binary_logloss: 0.577954\tvalid's auc: 0.741184\tvalid's binary_logloss: 0.582535\n",
            "[400]\ttrain's auc: 0.787888\ttrain's binary_logloss: 0.558038\tvalid's auc: 0.747501\tvalid's binary_logloss: 0.567401\n",
            "[600]\ttrain's auc: 0.798942\ttrain's binary_logloss: 0.546627\tvalid's auc: 0.750108\tvalid's binary_logloss: 0.561037\n",
            "[800]\ttrain's auc: 0.807666\ttrain's binary_logloss: 0.537583\tvalid's auc: 0.751588\tvalid's binary_logloss: 0.556569\n",
            "Early stopping, best iteration is:\n",
            "[799]\ttrain's auc: 0.807623\ttrain's binary_logloss: 0.537633\tvalid's auc: 0.751607\tvalid's binary_logloss: 0.556549\n"
          ]
        }
      ],
      "source": [
        "nonZero=fi_sorted['feature'].count()-fi_sorted.loc[fi_sorted['importance_normalized']==0,'feature'].count()\n",
        "metrics_dict={}\n",
        "loop_from = 1\n",
        "loop_to = 0\n",
        "for n in range(nonZero-loop_from,nonZero-loop_to):\n",
        "  feats=list(fi_sorted['feature'].iloc[0:n:1])\n",
        "  feats = list(map(lambda x: str(x).replace(u' ', u''),feats))\n",
        "  feats.append('SK_ID_CURR')\n",
        "  feats_test = feats.copy()\n",
        "  feats.append('TARGET')  \n",
        "  submission_n, fi_n, metrics_n = model(app_train_domain[feats], app_test_domain[feats_test])\n",
        "#  submission_n.to_csv('/content/drive/MyDrive/submission'+str(n)+'.csv', index = False)\n",
        "  submission_n.to_csv('submission'+str(n)+'.csv', index = False)\n",
        "  metrics_dict[n]=metrics_n.iloc[5,2]\n",
        "result=pd.DataFrame.from_dict(metrics_dict,orient='index')"
      ]
    },
    {
      "cell_type": "code",
      "source": [
        "print(result)"
      ],
      "metadata": {
        "colab": {
          "base_uri": "https://localhost:8080/"
        },
        "id": "7XYiKx2bRIL-",
        "outputId": "8273fa5e-2bd8-4087-dc04-b0266cde5ac7"
      },
      "execution_count": 165,
      "outputs": [
        {
          "output_type": "stream",
          "name": "stdout",
          "text": [
            "            0\n",
            "205  0.757129\n"
          ]
        }
      ]
    },
    {
      "cell_type": "markdown",
      "source": [
        "205  0.757129\n",
        "\n",
        "291  0.756978"
      ],
      "metadata": {
        "id": "wMx1Y9ztRUn8"
      }
    },
    {
      "cell_type": "code",
      "source": [
        "#result.to_csv('/content/drive/MyDrive/result.csv',index=False)\n",
        "result.to_csv('result.csv',index=False)"
      ],
      "metadata": {
        "id": "sQ-y_XBjGCUf"
      },
      "execution_count": 166,
      "outputs": []
    },
    {
      "cell_type": "code",
      "source": [
        "#feats=list(fi_sorted['feature'].iloc[0:189:1])\n",
        "#feats = list(map(lambda x: str(x).replace(u' ', u''),feats))\n",
        "#feats.append('SK_ID_CURR')\n",
        "#feats_test = feats.copy()\n",
        "#feats.append('TARGET')  \n",
        "#submission_189, fi_189, metrics_189 = model(app_train_domain[feats], app_test_domain[feats_test])\n",
        "#submission_189.to_csv('/content/drive/MyDrive/submission189'.csv', index = False)\n",
        "#metrics_n.iloc[5,2]\n",
        "#fi189_sorted = plot_feature_importances(fi_189)"
      ],
      "metadata": {
        "id": "pxYhyb-igCnT"
      },
      "execution_count": 167,
      "outputs": []
    },
    {
      "cell_type": "code",
      "source": [
        ""
      ],
      "metadata": {
        "id": "Zd9pC5-U6EnH"
      },
      "execution_count": 167,
      "outputs": []
    },
    {
      "cell_type": "markdown",
      "source": [
        "revolving loan のみ"
      ],
      "metadata": {
        "id": "4J0Al-ahDISg"
      }
    },
    {
      "cell_type": "code",
      "source": [
        "feats=list(fi_sorted['feature'])\n",
        "feats = list(map(lambda x: str(x).replace(u' ', u''),feats))\n",
        "feats.append('SK_ID_CURR')\n",
        "feats_test = feats.copy()\n",
        "feats.append('TARGET')  \n",
        "feats.remove('NAME_CONTRACT_TYPE_Revolvingloans')\n",
        "feats.remove('NAME_CONTRACT_TYPE_Cashloans')\n",
        "revo_train=app_train_domain.loc[app_train_domain['NAME_CONTRACT_TYPE_Revolvingloans']==1,feats].reset_index(drop=True)\n",
        "revo_test=app_test_domain.loc[app_test_domain['NAME_CONTRACT_TYPE_Revolvingloans']==1,feats_test].reset_index(drop=True)\n",
        "submission_2nd, fi_2nd, metrics_2nd = model(revo_train, revo_test)\n"
      ],
      "metadata": {
        "id": "tmjsL88duEYb",
        "colab": {
          "base_uri": "https://localhost:8080/"
        },
        "outputId": "1004ffad-336e-4e20-dc75-fd4ca3885096"
      },
      "execution_count": 179,
      "outputs": [
        {
          "output_type": "stream",
          "name": "stdout",
          "text": [
            "Training Data Shape:  (16214, 289)\n",
            "Testing Data Shape:  (5706, 289)\n"
          ]
        },
        {
          "output_type": "stream",
          "name": "stderr",
          "text": [
            "/usr/local/lib/python3.7/dist-packages/lightgbm/engine.py:118: UserWarning: Found `num_boost_round` in params. Will use it instead of argument\n",
            "  warnings.warn(\"Found `{}` in params. Will use it instead of argument\".format(alias))\n"
          ]
        },
        {
          "output_type": "stream",
          "name": "stdout",
          "text": [
            "Training until validation scores don't improve for 100 rounds.\n",
            "[200]\ttrain's auc: 0.831984\ttrain's binary_logloss: 0.515378\tvalid's auc: 0.70954\tvalid's binary_logloss: 0.549203\n",
            "Early stopping, best iteration is:\n",
            "[215]\ttrain's auc: 0.835199\ttrain's binary_logloss: 0.510261\tvalid's auc: 0.710087\tvalid's binary_logloss: 0.543541\n"
          ]
        },
        {
          "output_type": "stream",
          "name": "stderr",
          "text": [
            "/usr/local/lib/python3.7/dist-packages/lightgbm/engine.py:118: UserWarning: Found `num_boost_round` in params. Will use it instead of argument\n",
            "  warnings.warn(\"Found `{}` in params. Will use it instead of argument\".format(alias))\n"
          ]
        },
        {
          "output_type": "stream",
          "name": "stdout",
          "text": [
            "Training until validation scores don't improve for 100 rounds.\n",
            "Early stopping, best iteration is:\n",
            "[12]\ttrain's auc: 0.770141\ttrain's binary_logloss: 0.660329\tvalid's auc: 0.737395\tvalid's binary_logloss: 0.655381\n"
          ]
        },
        {
          "output_type": "stream",
          "name": "stderr",
          "text": [
            "/usr/local/lib/python3.7/dist-packages/lightgbm/engine.py:118: UserWarning: Found `num_boost_round` in params. Will use it instead of argument\n",
            "  warnings.warn(\"Found `{}` in params. Will use it instead of argument\".format(alias))\n"
          ]
        },
        {
          "output_type": "stream",
          "name": "stdout",
          "text": [
            "Training until validation scores don't improve for 100 rounds.\n",
            "Early stopping, best iteration is:\n",
            "[49]\ttrain's auc: 0.797565\ttrain's binary_logloss: 0.598668\tvalid's auc: 0.74962\tvalid's binary_logloss: 0.594074\n"
          ]
        },
        {
          "output_type": "stream",
          "name": "stderr",
          "text": [
            "/usr/local/lib/python3.7/dist-packages/lightgbm/engine.py:118: UserWarning: Found `num_boost_round` in params. Will use it instead of argument\n",
            "  warnings.warn(\"Found `{}` in params. Will use it instead of argument\".format(alias))\n"
          ]
        },
        {
          "output_type": "stream",
          "name": "stdout",
          "text": [
            "Training until validation scores don't improve for 100 rounds.\n",
            "[200]\ttrain's auc: 0.824944\ttrain's binary_logloss: 0.524989\tvalid's auc: 0.778779\tvalid's binary_logloss: 0.532101\n",
            "Early stopping, best iteration is:\n",
            "[224]\ttrain's auc: 0.830442\ttrain's binary_logloss: 0.518862\tvalid's auc: 0.779176\tvalid's binary_logloss: 0.530195\n"
          ]
        },
        {
          "output_type": "stream",
          "name": "stderr",
          "text": [
            "/usr/local/lib/python3.7/dist-packages/lightgbm/engine.py:118: UserWarning: Found `num_boost_round` in params. Will use it instead of argument\n",
            "  warnings.warn(\"Found `{}` in params. Will use it instead of argument\".format(alias))\n"
          ]
        },
        {
          "output_type": "stream",
          "name": "stdout",
          "text": [
            "Training until validation scores don't improve for 100 rounds.\n",
            "[200]\ttrain's auc: 0.827023\ttrain's binary_logloss: 0.522798\tvalid's auc: 0.75984\tvalid's binary_logloss: 0.519055\n",
            "Early stopping, best iteration is:\n",
            "[280]\ttrain's auc: 0.84922\ttrain's binary_logloss: 0.497358\tvalid's auc: 0.764118\tvalid's binary_logloss: 0.495767\n"
          ]
        }
      ]
    },
    {
      "cell_type": "code",
      "source": [
        "metrics_2nd"
      ],
      "metadata": {
        "colab": {
          "base_uri": "https://localhost:8080/",
          "height": 237
        },
        "id": "2sX3aUjlDDER",
        "outputId": "e21764c7-f200-4235-921d-db7691b5e073"
      },
      "execution_count": 174,
      "outputs": [
        {
          "output_type": "execute_result",
          "data": {
            "text/plain": [
              "      fold     train     valid\n",
              "0        0  0.839223  0.709550\n",
              "1        1  0.776533  0.737977\n",
              "2        2  0.801547  0.748024\n",
              "3        3  0.829126  0.779229\n",
              "4        4  0.851138  0.766096\n",
              "5  overall  0.819513  0.732832"
            ],
            "text/html": [
              "\n",
              "  <div id=\"df-2a71d92a-2d10-4971-9b8a-6a36070a7138\">\n",
              "    <div class=\"colab-df-container\">\n",
              "      <div>\n",
              "<style scoped>\n",
              "    .dataframe tbody tr th:only-of-type {\n",
              "        vertical-align: middle;\n",
              "    }\n",
              "\n",
              "    .dataframe tbody tr th {\n",
              "        vertical-align: top;\n",
              "    }\n",
              "\n",
              "    .dataframe thead th {\n",
              "        text-align: right;\n",
              "    }\n",
              "</style>\n",
              "<table border=\"1\" class=\"dataframe\">\n",
              "  <thead>\n",
              "    <tr style=\"text-align: right;\">\n",
              "      <th></th>\n",
              "      <th>fold</th>\n",
              "      <th>train</th>\n",
              "      <th>valid</th>\n",
              "    </tr>\n",
              "  </thead>\n",
              "  <tbody>\n",
              "    <tr>\n",
              "      <th>0</th>\n",
              "      <td>0</td>\n",
              "      <td>0.839223</td>\n",
              "      <td>0.709550</td>\n",
              "    </tr>\n",
              "    <tr>\n",
              "      <th>1</th>\n",
              "      <td>1</td>\n",
              "      <td>0.776533</td>\n",
              "      <td>0.737977</td>\n",
              "    </tr>\n",
              "    <tr>\n",
              "      <th>2</th>\n",
              "      <td>2</td>\n",
              "      <td>0.801547</td>\n",
              "      <td>0.748024</td>\n",
              "    </tr>\n",
              "    <tr>\n",
              "      <th>3</th>\n",
              "      <td>3</td>\n",
              "      <td>0.829126</td>\n",
              "      <td>0.779229</td>\n",
              "    </tr>\n",
              "    <tr>\n",
              "      <th>4</th>\n",
              "      <td>4</td>\n",
              "      <td>0.851138</td>\n",
              "      <td>0.766096</td>\n",
              "    </tr>\n",
              "    <tr>\n",
              "      <th>5</th>\n",
              "      <td>overall</td>\n",
              "      <td>0.819513</td>\n",
              "      <td>0.732832</td>\n",
              "    </tr>\n",
              "  </tbody>\n",
              "</table>\n",
              "</div>\n",
              "      <button class=\"colab-df-convert\" onclick=\"convertToInteractive('df-2a71d92a-2d10-4971-9b8a-6a36070a7138')\"\n",
              "              title=\"Convert this dataframe to an interactive table.\"\n",
              "              style=\"display:none;\">\n",
              "        \n",
              "  <svg xmlns=\"http://www.w3.org/2000/svg\" height=\"24px\"viewBox=\"0 0 24 24\"\n",
              "       width=\"24px\">\n",
              "    <path d=\"M0 0h24v24H0V0z\" fill=\"none\"/>\n",
              "    <path d=\"M18.56 5.44l.94 2.06.94-2.06 2.06-.94-2.06-.94-.94-2.06-.94 2.06-2.06.94zm-11 1L8.5 8.5l.94-2.06 2.06-.94-2.06-.94L8.5 2.5l-.94 2.06-2.06.94zm10 10l.94 2.06.94-2.06 2.06-.94-2.06-.94-.94-2.06-.94 2.06-2.06.94z\"/><path d=\"M17.41 7.96l-1.37-1.37c-.4-.4-.92-.59-1.43-.59-.52 0-1.04.2-1.43.59L10.3 9.45l-7.72 7.72c-.78.78-.78 2.05 0 2.83L4 21.41c.39.39.9.59 1.41.59.51 0 1.02-.2 1.41-.59l7.78-7.78 2.81-2.81c.8-.78.8-2.07 0-2.86zM5.41 20L4 18.59l7.72-7.72 1.47 1.35L5.41 20z\"/>\n",
              "  </svg>\n",
              "      </button>\n",
              "      \n",
              "  <style>\n",
              "    .colab-df-container {\n",
              "      display:flex;\n",
              "      flex-wrap:wrap;\n",
              "      gap: 12px;\n",
              "    }\n",
              "\n",
              "    .colab-df-convert {\n",
              "      background-color: #E8F0FE;\n",
              "      border: none;\n",
              "      border-radius: 50%;\n",
              "      cursor: pointer;\n",
              "      display: none;\n",
              "      fill: #1967D2;\n",
              "      height: 32px;\n",
              "      padding: 0 0 0 0;\n",
              "      width: 32px;\n",
              "    }\n",
              "\n",
              "    .colab-df-convert:hover {\n",
              "      background-color: #E2EBFA;\n",
              "      box-shadow: 0px 1px 2px rgba(60, 64, 67, 0.3), 0px 1px 3px 1px rgba(60, 64, 67, 0.15);\n",
              "      fill: #174EA6;\n",
              "    }\n",
              "\n",
              "    [theme=dark] .colab-df-convert {\n",
              "      background-color: #3B4455;\n",
              "      fill: #D2E3FC;\n",
              "    }\n",
              "\n",
              "    [theme=dark] .colab-df-convert:hover {\n",
              "      background-color: #434B5C;\n",
              "      box-shadow: 0px 1px 3px 1px rgba(0, 0, 0, 0.15);\n",
              "      filter: drop-shadow(0px 1px 2px rgba(0, 0, 0, 0.3));\n",
              "      fill: #FFFFFF;\n",
              "    }\n",
              "  </style>\n",
              "\n",
              "      <script>\n",
              "        const buttonEl =\n",
              "          document.querySelector('#df-2a71d92a-2d10-4971-9b8a-6a36070a7138 button.colab-df-convert');\n",
              "        buttonEl.style.display =\n",
              "          google.colab.kernel.accessAllowed ? 'block' : 'none';\n",
              "\n",
              "        async function convertToInteractive(key) {\n",
              "          const element = document.querySelector('#df-2a71d92a-2d10-4971-9b8a-6a36070a7138');\n",
              "          const dataTable =\n",
              "            await google.colab.kernel.invokeFunction('convertToInteractive',\n",
              "                                                     [key], {});\n",
              "          if (!dataTable) return;\n",
              "\n",
              "          const docLinkHtml = 'Like what you see? Visit the ' +\n",
              "            '<a target=\"_blank\" href=https://colab.research.google.com/notebooks/data_table.ipynb>data table notebook</a>'\n",
              "            + ' to learn more about interactive tables.';\n",
              "          element.innerHTML = '';\n",
              "          dataTable['output_type'] = 'display_data';\n",
              "          await google.colab.output.renderOutput(dataTable, element);\n",
              "          const docLink = document.createElement('div');\n",
              "          docLink.innerHTML = docLinkHtml;\n",
              "          element.appendChild(docLink);\n",
              "        }\n",
              "      </script>\n",
              "    </div>\n",
              "  </div>\n",
              "  "
            ]
          },
          "metadata": {},
          "execution_count": 174
        }
      ]
    },
    {
      "cell_type": "code",
      "source": [
        ""
      ],
      "metadata": {
        "id": "X_H3dkawJ_K3"
      },
      "execution_count": null,
      "outputs": []
    },
    {
      "cell_type": "code",
      "execution_count": 182,
      "metadata": {
        "colab": {
          "base_uri": "https://localhost:8080/",
          "height": 529
        },
        "outputId": "42a3f15e-b7ae-4805-b544-dfb7a276a917",
        "id": "2IgR5EL-J_pb"
      },
      "outputs": [
        {
          "output_type": "display_data",
          "data": {
            "text/plain": [
              "<Figure size 1440x1440 with 1 Axes>"
            ],
            "image/png": "[encoded data removed]"
          },
          "metadata": {
            "needs_background": "light"
          }
        }
      ],
      "source": [
        "fi_2nd_sorted = plot_feature_importances(fi_2nd)"
      ]
    },
    {
      "cell_type": "code",
      "source": [
        ""
      ],
      "metadata": {
        "id": "FIrS_k8zOuxu"
      },
      "execution_count": null,
      "outputs": []
    },
    {
      "cell_type": "code",
      "execution_count": null,
      "metadata": {
        "id": "hbmeNwY-OwHn"
      },
      "outputs": [],
      "source": [
        "nonZero=fi_2nd_sorted['feature'].count()-fi_2nd_sorted.loc[fi_2nd_sorted['importance_normalized']==0,'feature'].count()\n",
        "metrics_dict={}\n",
        "loop_from =131\n",
        "loop_to = 91\n",
        "for n in range(nonZero-loop_from,nonZero-loop_to):\n",
        "  feats=list(fi_2nd_sorted['feature'].iloc[0:n:1])\n",
        "  feats = list(map(lambda x: str(x).replace(u' ', u''),feats))\n",
        "  feats.append('SK_ID_CURR')\n",
        "  feats_test = feats.copy()\n",
        "  feats.append('TARGET')  \n",
        "  revo_train=app_train_domain.loc[app_train_domain['NAME_CONTRACT_TYPE_Revolvingloans']==1,feats].reset_index(drop=True)\n",
        "  revo_test=app_test_domain.loc[app_test_domain['NAME_CONTRACT_TYPE_Revolvingloans']==1,feats_test].reset_index(drop=True)\n",
        "  submission_2nd_n, fi_2nd_n, metrics_2nd_n = model(revo_train, revo_test)\n",
        "#  submission_n.to_csv('/content/drive/MyDrive/submission'+str(n)+'.csv', index = False)\n",
        "  submission_2nd_n.to_csv('submission_2nd_'+str(n)+'.csv', index = False)\n",
        "  metrics_dict[n]=metrics_2nd_n.iloc[5,2]\n",
        "result=pd.DataFrame.from_dict(metrics_dict,orient='index')"
      ]
    },
    {
      "cell_type": "code",
      "source": [
        "print(result)"
      ],
      "metadata": {
        "colab": {
          "base_uri": "https://localhost:8080/"
        },
        "id": "vElRI5K-RnL5",
        "outputId": "85060fa9-664c-4928-9b9e-dde727d3f466"
      },
      "execution_count": 197,
      "outputs": [
        {
          "output_type": "stream",
          "name": "stdout",
          "text": [
            "           0\n",
            "8   0.718599\n",
            "9   0.720420\n",
            "10  0.732478\n",
            "11  0.734700\n",
            "12  0.734437\n",
            "13  0.732970\n",
            "14  0.728105\n",
            "15  0.732858\n",
            "16  0.731862\n",
            "17  0.730605\n",
            "18  0.731175\n",
            "19  0.734213\n",
            "20  0.733767\n",
            "21  0.735644\n",
            "22  0.741031\n",
            "23  0.728133\n",
            "24  0.744061\n",
            "25  0.744175\n",
            "26  0.744437\n",
            "27  0.735809\n",
            "28  0.743749\n",
            "29  0.734155\n",
            "30  0.732860\n",
            "31  0.745666\n",
            "32  0.732757\n",
            "33  0.730795\n",
            "34  0.744425\n",
            "35  0.746036\n",
            "36  0.734766\n",
            "37  0.735143\n",
            "38  0.733023\n",
            "39  0.733590\n",
            "40  0.733407\n",
            "41  0.734224\n",
            "42  0.735439\n",
            "43  0.743419\n",
            "44  0.740757\n",
            "45  0.733055\n",
            "46  0.743809\n",
            "47  0.746437\n"
          ]
        }
      ]
    },
    {
      "cell_type": "markdown",
      "source": [
        "8   0.718599\n",
        "\n",
        "9   0.720420\n",
        "\n",
        "10  0.732478\n",
        "\n",
        "11  0.734700\n",
        "\n",
        "12  0.734437\n",
        "\n",
        "13  0.732970\n",
        "\n",
        "14  0.728105\n",
        "\n",
        "15  0.732858\n",
        "\n",
        "16  0.731862\n",
        "\n",
        "17  0.730605\n",
        "\n",
        "18  0.731175\n",
        "\n",
        "19  0.734213\n",
        "\n",
        "20  0.733767\n",
        "\n",
        "21  0.735644\n",
        "\n",
        "22  0.741031\n",
        "\n",
        "23  0.728133\n",
        "\n",
        "24  0.744061\n",
        "\n",
        "25  0.744175\n",
        "\n",
        "26  0.744437\n",
        "\n",
        "27  0.735809\n",
        "\n",
        "28  0.743749\n",
        "\n",
        "29  0.734155\n",
        "\n",
        "30  0.732860\n",
        "\n",
        "31  0.745666\n",
        "\n",
        "32  0.732757\n",
        "\n",
        "33  0.730795\n",
        "\n",
        "34  0.744425\n",
        "\n",
        "35  0.746036 〇\n",
        "\n",
        "36  0.734766\n",
        "\n",
        "37  0.735143\n",
        "\n",
        "38  0.733023\n",
        "\n",
        "39  0.733590\n",
        "\n",
        "40  0.733407\n",
        "\n",
        "41  0.734224\n",
        "\n",
        "42  0.735439\n",
        "\n",
        "43  0.743419\n",
        "\n",
        "44  0.740757\n",
        "\n",
        "45  0.733055\n",
        "\n",
        "46  0.743809\n",
        "\n",
        "47  0.746437\n",
        "\n",
        "48  0.732705\n",
        "\n",
        "49  0.741783\n",
        "\n",
        "50  0.741060\n",
        "\n",
        "51  0.732533\n",
        "\n",
        "52  0.732178\n",
        "\n",
        "53  0.741308\n",
        "\n",
        "54  0.733538\n",
        "\n",
        "55  0.740938\n",
        "\n",
        "56  0.744332\n",
        "\n",
        "57  0.732690\n",
        "\n",
        "58  0.728445\n",
        "\n",
        "59  0.743225\n",
        "\n",
        "60  0.732828\n",
        "\n",
        "61  0.732262\n",
        "\n",
        "62  0.742241\n",
        "\n",
        "63  0.734101\n",
        "\n",
        "64  0.733825\n",
        "\n",
        "65  0.732940\n",
        "\n",
        "66  0.743951\n",
        "\n",
        "67  0.727522\n",
        "\n",
        "68  0.731830\n",
        "\n",
        "69  0.742402\n",
        "\n",
        "70  0.729870\n",
        "\n",
        "71  0.729400\n",
        "\n",
        "72  0.732178\n",
        "\n",
        "73  0.733725\n",
        "\n",
        "74  0.734411\n",
        "\n",
        "75  0.742463\n",
        "\n",
        "76  0.733069\n",
        "\n",
        "77  0.733480\n",
        "\n",
        "78  0.731923\n",
        "\n",
        "79  0.732999\n",
        "\n",
        "80  0.729459\n",
        "\n",
        "81  0.732809\n",
        "\n",
        "82  0.733225\n",
        "\n",
        "83  0.732004\n",
        "\n",
        "84  0.731016\n",
        "\n",
        "85  0.735809\n",
        "\n",
        "86  0.729636\n",
        "\n",
        "87  0.735552\n",
        "\n",
        "88   0.735583\n",
        "\n",
        "89   0.733502\n",
        "\n",
        "90   0.731446\n",
        "\n",
        "91   0.731058\n",
        "\n",
        "92   0.732083\n",
        "\n",
        "93   0.732947\n",
        "\n",
        "94   0.731889\n",
        "\n",
        "95   0.733629\n",
        "\n",
        "96   0.732708\n",
        "\n",
        "97   0.733546\n",
        "\n",
        "98   0.732416\n",
        "\n",
        "99   0.733766\n",
        "\n",
        "100  0.733880\n",
        "\n",
        "101  0.735065\n",
        "\n",
        "102  0.733079\n",
        "\n",
        "103  0.732319\n",
        "\n",
        "104  0.733750\n",
        "\n",
        "105  0.732590\n",
        "\n",
        "106  0.735086\n",
        "\n",
        "107  0.733111\n",
        "\n",
        "108  0.733482\n",
        "\n",
        "109  0.734988\n",
        "\n",
        "110  0.732817\n",
        "\n",
        "111  0.732727\n",
        "\n",
        "112  0.732303\n",
        "\n",
        "113  0.735208\n",
        "\n",
        "114  0.733909\n",
        "\n",
        "115  0.731276\n",
        "\n",
        "116  0.733535\n",
        "\n",
        "117  0.734309\n",
        "\n",
        "118  0.736479\n",
        "\n",
        "119  0.730632\n",
        "\n",
        "120  0.733483\n",
        "\n",
        "121  0.734218\n",
        "\n",
        "122  0.734842\n",
        "\n",
        "123  0.734710\n",
        "\n",
        "124  0.733504\n",
        "\n",
        "125  0.735024\n",
        "\n",
        "126  0.735037\n",
        "\n",
        "127  0.732611\n",
        "\n",
        "128  0.733240\n",
        "\n",
        "129  0.733850\n",
        "\n",
        "130  0.732859\n",
        "\n",
        "131  0.732703\n",
        "\n",
        "132  0.733259\n",
        "\n",
        "133  0.733308\n",
        "\n",
        "134  0.740923\n",
        "\n",
        "135  0.731336\n",
        "\n",
        "136  0.734097\n",
        "\n",
        "137  0.733136\n",
        "\n",
        "138  0.732003"
      ],
      "metadata": {
        "id": "z6pykRlPRxAE"
      }
    },
    {
      "cell_type": "markdown",
      "source": [
        "# Cash Loan のみ"
      ],
      "metadata": {
        "id": "D4mPegCeOzSG"
      }
    },
    {
      "cell_type": "code",
      "source": [
        "feats=list(fi_sorted['feature'])\n",
        "feats = list(map(lambda x: str(x).replace(u' ', u''),feats))\n",
        "feats.append('SK_ID_CURR')\n",
        "feats_test = feats.copy()\n",
        "feats.append('TARGET')\n",
        "feats.remove('NAME_CONTRACT_TYPE_Revolvingloans')\n",
        "feats.remove('NAME_CONTRACT_TYPE_Cashloans')\n",
        "non_revo_train=app_train_domain.loc[app_train_domain['NAME_CONTRACT_TYPE_Revolvingloans']==0,feats].reset_index(drop=True)\n",
        "non_revo_test=app_test_domain.loc[app_test_domain['NAME_CONTRACT_TYPE_Revolvingloans']==0,feats_test].reset_index(drop=True)\n",
        "submission_3rd, fi_3rd, metrics_3rd = model(non_revo_train, non_revo_test)\n"
      ],
      "metadata": {
        "colab": {
          "base_uri": "https://localhost:8080/"
        },
        "id": "iZ4CCWdwDO8Q",
        "outputId": "b5d2fb26-a4eb-4352-c464-01144325e20a"
      },
      "execution_count": 180,
      "outputs": [
        {
          "output_type": "stream",
          "name": "stdout",
          "text": [
            "Training Data Shape:  (154988, 289)\n",
            "Testing Data Shape:  (55794, 289)\n"
          ]
        },
        {
          "output_type": "stream",
          "name": "stderr",
          "text": [
            "/usr/local/lib/python3.7/dist-packages/lightgbm/engine.py:118: UserWarning: Found `num_boost_round` in params. Will use it instead of argument\n",
            "  warnings.warn(\"Found `{}` in params. Will use it instead of argument\".format(alias))\n"
          ]
        },
        {
          "output_type": "stream",
          "name": "stdout",
          "text": [
            "Training until validation scores don't improve for 100 rounds.\n",
            "[200]\ttrain's auc: 0.758023\ttrain's binary_logloss: 0.588873\tvalid's auc: 0.746131\tvalid's binary_logloss: 0.589757\n",
            "[400]\ttrain's auc: 0.773984\ttrain's binary_logloss: 0.571376\tvalid's auc: 0.754094\tvalid's binary_logloss: 0.576655\n",
            "[600]\ttrain's auc: 0.785139\ttrain's binary_logloss: 0.559971\tvalid's auc: 0.756939\tvalid's binary_logloss: 0.568824\n",
            "Early stopping, best iteration is:\n",
            "[580]\ttrain's auc: 0.784149\ttrain's binary_logloss: 0.560956\tvalid's auc: 0.756794\tvalid's binary_logloss: 0.568372\n"
          ]
        },
        {
          "output_type": "stream",
          "name": "stderr",
          "text": [
            "/usr/local/lib/python3.7/dist-packages/lightgbm/engine.py:118: UserWarning: Found `num_boost_round` in params. Will use it instead of argument\n",
            "  warnings.warn(\"Found `{}` in params. Will use it instead of argument\".format(alias))\n"
          ]
        },
        {
          "output_type": "stream",
          "name": "stdout",
          "text": [
            "Training until validation scores don't improve for 100 rounds.\n",
            "[200]\ttrain's auc: 0.75984\ttrain's binary_logloss: 0.587306\tvalid's auc: 0.74158\tvalid's binary_logloss: 0.590662\n",
            "[400]\ttrain's auc: 0.775364\ttrain's binary_logloss: 0.569568\tvalid's auc: 0.748808\tvalid's binary_logloss: 0.576077\n",
            "[600]\ttrain's auc: 0.785462\ttrain's binary_logloss: 0.559056\tvalid's auc: 0.75163\tvalid's binary_logloss: 0.567646\n",
            "[800]\ttrain's auc: 0.793834\ttrain's binary_logloss: 0.550465\tvalid's auc: 0.752915\tvalid's binary_logloss: 0.563058\n",
            "[1000]\ttrain's auc: 0.801974\ttrain's binary_logloss: 0.542093\tvalid's auc: 0.754081\tvalid's binary_logloss: 0.557449\n",
            "[1200]\ttrain's auc: 0.808927\ttrain's binary_logloss: 0.535043\tvalid's auc: 0.754145\tvalid's binary_logloss: 0.555294\n",
            "Early stopping, best iteration is:\n",
            "[1100]\ttrain's auc: 0.805539\ttrain's binary_logloss: 0.538462\tvalid's auc: 0.754318\tvalid's binary_logloss: 0.55586\n"
          ]
        },
        {
          "output_type": "stream",
          "name": "stderr",
          "text": [
            "/usr/local/lib/python3.7/dist-packages/lightgbm/engine.py:118: UserWarning: Found `num_boost_round` in params. Will use it instead of argument\n",
            "  warnings.warn(\"Found `{}` in params. Will use it instead of argument\".format(alias))\n"
          ]
        },
        {
          "output_type": "stream",
          "name": "stdout",
          "text": [
            "Training until validation scores don't improve for 100 rounds.\n",
            "[200]\ttrain's auc: 0.757108\ttrain's binary_logloss: 0.589634\tvalid's auc: 0.750331\tvalid's binary_logloss: 0.588463\n",
            "[400]\ttrain's auc: 0.772845\ttrain's binary_logloss: 0.572491\tvalid's auc: 0.75785\tvalid's binary_logloss: 0.574113\n",
            "[600]\ttrain's auc: 0.783782\ttrain's binary_logloss: 0.56137\tvalid's auc: 0.761089\tvalid's binary_logloss: 0.567282\n",
            "[800]\ttrain's auc: 0.792821\ttrain's binary_logloss: 0.552459\tvalid's auc: 0.761721\tvalid's binary_logloss: 0.560571\n",
            "[1000]\ttrain's auc: 0.80077\ttrain's binary_logloss: 0.544373\tvalid's auc: 0.762348\tvalid's binary_logloss: 0.555409\n",
            "Early stopping, best iteration is:\n",
            "[934]\ttrain's auc: 0.798144\ttrain's binary_logloss: 0.54691\tvalid's auc: 0.762372\tvalid's binary_logloss: 0.55599\n"
          ]
        },
        {
          "output_type": "stream",
          "name": "stderr",
          "text": [
            "/usr/local/lib/python3.7/dist-packages/lightgbm/engine.py:118: UserWarning: Found `num_boost_round` in params. Will use it instead of argument\n",
            "  warnings.warn(\"Found `{}` in params. Will use it instead of argument\".format(alias))\n"
          ]
        },
        {
          "output_type": "stream",
          "name": "stdout",
          "text": [
            "Training until validation scores don't improve for 100 rounds.\n",
            "[200]\ttrain's auc: 0.758119\ttrain's binary_logloss: 0.588483\tvalid's auc: 0.745473\tvalid's binary_logloss: 0.59266\n",
            "[400]\ttrain's auc: 0.774694\ttrain's binary_logloss: 0.570597\tvalid's auc: 0.752792\tvalid's binary_logloss: 0.579066\n",
            "[600]\ttrain's auc: 0.78588\ttrain's binary_logloss: 0.559134\tvalid's auc: 0.755778\tvalid's binary_logloss: 0.572919\n",
            "[800]\ttrain's auc: 0.79492\ttrain's binary_logloss: 0.549824\tvalid's auc: 0.756487\tvalid's binary_logloss: 0.566185\n",
            "Early stopping, best iteration is:\n",
            "[789]\ttrain's auc: 0.794486\ttrain's binary_logloss: 0.550286\tvalid's auc: 0.756705\tvalid's binary_logloss: 0.566434\n"
          ]
        },
        {
          "output_type": "stream",
          "name": "stderr",
          "text": [
            "/usr/local/lib/python3.7/dist-packages/lightgbm/engine.py:118: UserWarning: Found `num_boost_round` in params. Will use it instead of argument\n",
            "  warnings.warn(\"Found `{}` in params. Will use it instead of argument\".format(alias))\n"
          ]
        },
        {
          "output_type": "stream",
          "name": "stdout",
          "text": [
            "Training until validation scores don't improve for 100 rounds.\n",
            "[200]\ttrain's auc: 0.759142\ttrain's binary_logloss: 0.588063\tvalid's auc: 0.74305\tvalid's binary_logloss: 0.590528\n",
            "[400]\ttrain's auc: 0.775103\ttrain's binary_logloss: 0.570259\tvalid's auc: 0.750086\tvalid's binary_logloss: 0.579944\n",
            "[600]\ttrain's auc: 0.784719\ttrain's binary_logloss: 0.560434\tvalid's auc: 0.751747\tvalid's binary_logloss: 0.57188\n",
            "[800]\ttrain's auc: 0.794546\ttrain's binary_logloss: 0.550584\tvalid's auc: 0.753732\tvalid's binary_logloss: 0.565323\n",
            "Early stopping, best iteration is:\n",
            "[760]\ttrain's auc: 0.792836\ttrain's binary_logloss: 0.552275\tvalid's auc: 0.753586\tvalid's binary_logloss: 0.564539\n"
          ]
        }
      ]
    },
    {
      "cell_type": "code",
      "source": [
        "metrics_3rd"
      ],
      "metadata": {
        "colab": {
          "base_uri": "https://localhost:8080/",
          "height": 237
        },
        "id": "2dTXa5SeGHEM",
        "outputId": "519271d0-fdc8-4f66-e83d-13ea82503b82"
      },
      "execution_count": 181,
      "outputs": [
        {
          "output_type": "execute_result",
          "data": {
            "text/plain": [
              "      fold     train     valid\n",
              "0        0  0.784149  0.756794\n",
              "1        1  0.805539  0.754318\n",
              "2        2  0.798144  0.762372\n",
              "3        3  0.794486  0.756705\n",
              "4        4  0.792836  0.753586\n",
              "5  overall  0.795031  0.756694"
            ],
            "text/html": [
              "\n",
              "  <div id=\"df-203dd56d-0ef2-4e52-bd76-1c8ad9d8ffa0\">\n",
              "    <div class=\"colab-df-container\">\n",
              "      <div>\n",
              "<style scoped>\n",
              "    .dataframe tbody tr th:only-of-type {\n",
              "        vertical-align: middle;\n",
              "    }\n",
              "\n",
              "    .dataframe tbody tr th {\n",
              "        vertical-align: top;\n",
              "    }\n",
              "\n",
              "    .dataframe thead th {\n",
              "        text-align: right;\n",
              "    }\n",
              "</style>\n",
              "<table border=\"1\" class=\"dataframe\">\n",
              "  <thead>\n",
              "    <tr style=\"text-align: right;\">\n",
              "      <th></th>\n",
              "      <th>fold</th>\n",
              "      <th>train</th>\n",
              "      <th>valid</th>\n",
              "    </tr>\n",
              "  </thead>\n",
              "  <tbody>\n",
              "    <tr>\n",
              "      <th>0</th>\n",
              "      <td>0</td>\n",
              "      <td>0.784149</td>\n",
              "      <td>0.756794</td>\n",
              "    </tr>\n",
              "    <tr>\n",
              "      <th>1</th>\n",
              "      <td>1</td>\n",
              "      <td>0.805539</td>\n",
              "      <td>0.754318</td>\n",
              "    </tr>\n",
              "    <tr>\n",
              "      <th>2</th>\n",
              "      <td>2</td>\n",
              "      <td>0.798144</td>\n",
              "      <td>0.762372</td>\n",
              "    </tr>\n",
              "    <tr>\n",
              "      <th>3</th>\n",
              "      <td>3</td>\n",
              "      <td>0.794486</td>\n",
              "      <td>0.756705</td>\n",
              "    </tr>\n",
              "    <tr>\n",
              "      <th>4</th>\n",
              "      <td>4</td>\n",
              "      <td>0.792836</td>\n",
              "      <td>0.753586</td>\n",
              "    </tr>\n",
              "    <tr>\n",
              "      <th>5</th>\n",
              "      <td>overall</td>\n",
              "      <td>0.795031</td>\n",
              "      <td>0.756694</td>\n",
              "    </tr>\n",
              "  </tbody>\n",
              "</table>\n",
              "</div>\n",
              "      <button class=\"colab-df-convert\" onclick=\"convertToInteractive('df-203dd56d-0ef2-4e52-bd76-1c8ad9d8ffa0')\"\n",
              "              title=\"Convert this dataframe to an interactive table.\"\n",
              "              style=\"display:none;\">\n",
              "        \n",
              "  <svg xmlns=\"http://www.w3.org/2000/svg\" height=\"24px\"viewBox=\"0 0 24 24\"\n",
              "       width=\"24px\">\n",
              "    <path d=\"M0 0h24v24H0V0z\" fill=\"none\"/>\n",
              "    <path d=\"M18.56 5.44l.94 2.06.94-2.06 2.06-.94-2.06-.94-.94-2.06-.94 2.06-2.06.94zm-11 1L8.5 8.5l.94-2.06 2.06-.94-2.06-.94L8.5 2.5l-.94 2.06-2.06.94zm10 10l.94 2.06.94-2.06 2.06-.94-2.06-.94-.94-2.06-.94 2.06-2.06.94z\"/><path d=\"M17.41 7.96l-1.37-1.37c-.4-.4-.92-.59-1.43-.59-.52 0-1.04.2-1.43.59L10.3 9.45l-7.72 7.72c-.78.78-.78 2.05 0 2.83L4 21.41c.39.39.9.59 1.41.59.51 0 1.02-.2 1.41-.59l7.78-7.78 2.81-2.81c.8-.78.8-2.07 0-2.86zM5.41 20L4 18.59l7.72-7.72 1.47 1.35L5.41 20z\"/>\n",
              "  </svg>\n",
              "      </button>\n",
              "      \n",
              "  <style>\n",
              "    .colab-df-container {\n",
              "      display:flex;\n",
              "      flex-wrap:wrap;\n",
              "      gap: 12px;\n",
              "    }\n",
              "\n",
              "    .colab-df-convert {\n",
              "      background-color: #E8F0FE;\n",
              "      border: none;\n",
              "      border-radius: 50%;\n",
              "      cursor: pointer;\n",
              "      display: none;\n",
              "      fill: #1967D2;\n",
              "      height: 32px;\n",
              "      padding: 0 0 0 0;\n",
              "      width: 32px;\n",
              "    }\n",
              "\n",
              "    .colab-df-convert:hover {\n",
              "      background-color: #E2EBFA;\n",
              "      box-shadow: 0px 1px 2px rgba(60, 64, 67, 0.3), 0px 1px 3px 1px rgba(60, 64, 67, 0.15);\n",
              "      fill: #174EA6;\n",
              "    }\n",
              "\n",
              "    [theme=dark] .colab-df-convert {\n",
              "      background-color: #3B4455;\n",
              "      fill: #D2E3FC;\n",
              "    }\n",
              "\n",
              "    [theme=dark] .colab-df-convert:hover {\n",
              "      background-color: #434B5C;\n",
              "      box-shadow: 0px 1px 3px 1px rgba(0, 0, 0, 0.15);\n",
              "      filter: drop-shadow(0px 1px 2px rgba(0, 0, 0, 0.3));\n",
              "      fill: #FFFFFF;\n",
              "    }\n",
              "  </style>\n",
              "\n",
              "      <script>\n",
              "        const buttonEl =\n",
              "          document.querySelector('#df-203dd56d-0ef2-4e52-bd76-1c8ad9d8ffa0 button.colab-df-convert');\n",
              "        buttonEl.style.display =\n",
              "          google.colab.kernel.accessAllowed ? 'block' : 'none';\n",
              "\n",
              "        async function convertToInteractive(key) {\n",
              "          const element = document.querySelector('#df-203dd56d-0ef2-4e52-bd76-1c8ad9d8ffa0');\n",
              "          const dataTable =\n",
              "            await google.colab.kernel.invokeFunction('convertToInteractive',\n",
              "                                                     [key], {});\n",
              "          if (!dataTable) return;\n",
              "\n",
              "          const docLinkHtml = 'Like what you see? Visit the ' +\n",
              "            '<a target=\"_blank\" href=https://colab.research.google.com/notebooks/data_table.ipynb>data table notebook</a>'\n",
              "            + ' to learn more about interactive tables.';\n",
              "          element.innerHTML = '';\n",
              "          dataTable['output_type'] = 'display_data';\n",
              "          await google.colab.output.renderOutput(dataTable, element);\n",
              "          const docLink = document.createElement('div');\n",
              "          docLink.innerHTML = docLinkHtml;\n",
              "          element.appendChild(docLink);\n",
              "        }\n",
              "      </script>\n",
              "    </div>\n",
              "  </div>\n",
              "  "
            ]
          },
          "metadata": {},
          "execution_count": 181
        }
      ]
    },
    {
      "cell_type": "markdown",
      "source": [
        "5\toverall\t0.795031\t0.756694"
      ],
      "metadata": {
        "id": "jObLmr5QOPxX"
      }
    },
    {
      "cell_type": "code",
      "source": [
        ""
      ],
      "metadata": {
        "id": "-rsJQ1WjKQ9W"
      },
      "execution_count": null,
      "outputs": []
    },
    {
      "cell_type": "code",
      "execution_count": 183,
      "metadata": {
        "colab": {
          "base_uri": "https://localhost:8080/",
          "height": 545
        },
        "outputId": "07541707-af24-4a65-ab44-8026ecd1fe27",
        "id": "_eh9YSheKRZP"
      },
      "outputs": [
        {
          "output_type": "display_data",
          "data": {
            "text/plain": [
              "<Figure size 1440x1440 with 1 Axes>"
            ],
            "image/png": "[encoded data removed]"
          },
          "metadata": {
            "needs_background": "light"
          }
        }
      ],
      "source": [
        "fi_3rd_sorted = plot_feature_importances(fi_3rd)"
      ]
    },
    {
      "cell_type": "code",
      "execution_count": 218,
      "metadata": {
        "colab": {
          "base_uri": "https://localhost:8080/"
        },
        "id": "ndMhGvsGkBkh",
        "outputId": "5ac537bc-60de-48f5-8954-db58e6edba29"
      },
      "outputs": [
        {
          "output_type": "stream",
          "name": "stdout",
          "text": [
            "Training Data Shape:  (154988, 197)\n",
            "Testing Data Shape:  (55794, 197)\n"
          ]
        },
        {
          "output_type": "stream",
          "name": "stderr",
          "text": [
            "/usr/local/lib/python3.7/dist-packages/lightgbm/engine.py:118: UserWarning: Found `num_boost_round` in params. Will use it instead of argument\n",
            "  warnings.warn(\"Found `{}` in params. Will use it instead of argument\".format(alias))\n"
          ]
        },
        {
          "output_type": "stream",
          "name": "stdout",
          "text": [
            "Training until validation scores don't improve for 100 rounds.\n",
            "[200]\ttrain's auc: 0.758005\ttrain's binary_logloss: 0.588884\tvalid's auc: 0.745754\tvalid's binary_logloss: 0.589925\n",
            "[400]\ttrain's auc: 0.77418\ttrain's binary_logloss: 0.571315\tvalid's auc: 0.753804\tvalid's binary_logloss: 0.576881\n",
            "[600]\ttrain's auc: 0.785311\ttrain's binary_logloss: 0.559887\tvalid's auc: 0.756878\tvalid's binary_logloss: 0.568984\n",
            "Early stopping, best iteration is:\n",
            "[580]\ttrain's auc: 0.784278\ttrain's binary_logloss: 0.560891\tvalid's auc: 0.756668\tvalid's binary_logloss: 0.56856\n"
          ]
        },
        {
          "output_type": "stream",
          "name": "stderr",
          "text": [
            "/usr/local/lib/python3.7/dist-packages/lightgbm/engine.py:118: UserWarning: Found `num_boost_round` in params. Will use it instead of argument\n",
            "  warnings.warn(\"Found `{}` in params. Will use it instead of argument\".format(alias))\n"
          ]
        },
        {
          "output_type": "stream",
          "name": "stdout",
          "text": [
            "Training until validation scores don't improve for 100 rounds.\n",
            "[200]\ttrain's auc: 0.759757\ttrain's binary_logloss: 0.587352\tvalid's auc: 0.741934\tvalid's binary_logloss: 0.590738\n",
            "[400]\ttrain's auc: 0.775179\ttrain's binary_logloss: 0.569678\tvalid's auc: 0.749111\tvalid's binary_logloss: 0.576265\n",
            "[600]\ttrain's auc: 0.785372\ttrain's binary_logloss: 0.559136\tvalid's auc: 0.751902\tvalid's binary_logloss: 0.56782\n",
            "[800]\ttrain's auc: 0.793814\ttrain's binary_logloss: 0.550488\tvalid's auc: 0.753108\tvalid's binary_logloss: 0.563121\n",
            "[1000]\ttrain's auc: 0.801839\ttrain's binary_logloss: 0.542262\tvalid's auc: 0.754396\tvalid's binary_logloss: 0.557674\n",
            "Early stopping, best iteration is:\n",
            "[995]\ttrain's auc: 0.801683\ttrain's binary_logloss: 0.542459\tvalid's auc: 0.754441\tvalid's binary_logloss: 0.557531\n"
          ]
        },
        {
          "output_type": "stream",
          "name": "stderr",
          "text": [
            "/usr/local/lib/python3.7/dist-packages/lightgbm/engine.py:118: UserWarning: Found `num_boost_round` in params. Will use it instead of argument\n",
            "  warnings.warn(\"Found `{}` in params. Will use it instead of argument\".format(alias))\n"
          ]
        },
        {
          "output_type": "stream",
          "name": "stdout",
          "text": [
            "Training until validation scores don't improve for 100 rounds.\n",
            "[200]\ttrain's auc: 0.757138\ttrain's binary_logloss: 0.58967\tvalid's auc: 0.750487\tvalid's binary_logloss: 0.588626\n",
            "[400]\ttrain's auc: 0.772725\ttrain's binary_logloss: 0.57253\tvalid's auc: 0.758087\tvalid's binary_logloss: 0.574226\n",
            "[600]\ttrain's auc: 0.783427\ttrain's binary_logloss: 0.561615\tvalid's auc: 0.761061\tvalid's binary_logloss: 0.567583\n",
            "[800]\ttrain's auc: 0.792206\ttrain's binary_logloss: 0.552909\tvalid's auc: 0.761786\tvalid's binary_logloss: 0.560908\n",
            "[1000]\ttrain's auc: 0.800209\ttrain's binary_logloss: 0.544771\tvalid's auc: 0.762461\tvalid's binary_logloss: 0.555699\n",
            "Early stopping, best iteration is:\n",
            "[944]\ttrain's auc: 0.79795\ttrain's binary_logloss: 0.546957\tvalid's auc: 0.762491\tvalid's binary_logloss: 0.556417\n"
          ]
        },
        {
          "output_type": "stream",
          "name": "stderr",
          "text": [
            "/usr/local/lib/python3.7/dist-packages/lightgbm/engine.py:118: UserWarning: Found `num_boost_round` in params. Will use it instead of argument\n",
            "  warnings.warn(\"Found `{}` in params. Will use it instead of argument\".format(alias))\n"
          ]
        },
        {
          "output_type": "stream",
          "name": "stdout",
          "text": [
            "Training until validation scores don't improve for 100 rounds.\n",
            "[200]\ttrain's auc: 0.758016\ttrain's binary_logloss: 0.588551\tvalid's auc: 0.745646\tvalid's binary_logloss: 0.592774\n",
            "[400]\ttrain's auc: 0.774826\ttrain's binary_logloss: 0.570475\tvalid's auc: 0.752945\tvalid's binary_logloss: 0.579118\n",
            "[600]\ttrain's auc: 0.785836\ttrain's binary_logloss: 0.559178\tvalid's auc: 0.755436\tvalid's binary_logloss: 0.573292\n",
            "Early stopping, best iteration is:\n",
            "[560]\ttrain's auc: 0.78395\ttrain's binary_logloss: 0.561245\tvalid's auc: 0.75562\tvalid's binary_logloss: 0.574849\n"
          ]
        },
        {
          "output_type": "stream",
          "name": "stderr",
          "text": [
            "/usr/local/lib/python3.7/dist-packages/lightgbm/engine.py:118: UserWarning: Found `num_boost_round` in params. Will use it instead of argument\n",
            "  warnings.warn(\"Found `{}` in params. Will use it instead of argument\".format(alias))\n"
          ]
        },
        {
          "output_type": "stream",
          "name": "stdout",
          "text": [
            "Training until validation scores don't improve for 100 rounds.\n",
            "[200]\ttrain's auc: 0.759108\ttrain's binary_logloss: 0.588062\tvalid's auc: 0.743359\tvalid's binary_logloss: 0.590539\n",
            "[400]\ttrain's auc: 0.77504\ttrain's binary_logloss: 0.570347\tvalid's auc: 0.750255\tvalid's binary_logloss: 0.58\n",
            "[600]\ttrain's auc: 0.784535\ttrain's binary_logloss: 0.560592\tvalid's auc: 0.752063\tvalid's binary_logloss: 0.571961\n",
            "[800]\ttrain's auc: 0.794326\ttrain's binary_logloss: 0.550774\tvalid's auc: 0.753871\tvalid's binary_logloss: 0.565508\n",
            "Early stopping, best iteration is:\n",
            "[760]\ttrain's auc: 0.792501\ttrain's binary_logloss: 0.552556\tvalid's auc: 0.753721\tvalid's binary_logloss: 0.564809\n",
            "Training Data Shape:  (154988, 198)\n",
            "Testing Data Shape:  (55794, 198)\n"
          ]
        },
        {
          "output_type": "stream",
          "name": "stderr",
          "text": [
            "/usr/local/lib/python3.7/dist-packages/lightgbm/engine.py:118: UserWarning: Found `num_boost_round` in params. Will use it instead of argument\n",
            "  warnings.warn(\"Found `{}` in params. Will use it instead of argument\".format(alias))\n"
          ]
        },
        {
          "output_type": "stream",
          "name": "stdout",
          "text": [
            "Training until validation scores don't improve for 100 rounds.\n",
            "[200]\ttrain's auc: 0.757932\ttrain's binary_logloss: 0.588971\tvalid's auc: 0.745866\tvalid's binary_logloss: 0.590006\n",
            "[400]\ttrain's auc: 0.774188\ttrain's binary_logloss: 0.571299\tvalid's auc: 0.753646\tvalid's binary_logloss: 0.57691\n",
            "[600]\ttrain's auc: 0.785395\ttrain's binary_logloss: 0.559751\tvalid's auc: 0.75637\tvalid's binary_logloss: 0.56911\n",
            "Early stopping, best iteration is:\n",
            "[580]\ttrain's auc: 0.784453\ttrain's binary_logloss: 0.560715\tvalid's auc: 0.756185\tvalid's binary_logloss: 0.568656\n"
          ]
        },
        {
          "output_type": "stream",
          "name": "stderr",
          "text": [
            "/usr/local/lib/python3.7/dist-packages/lightgbm/engine.py:118: UserWarning: Found `num_boost_round` in params. Will use it instead of argument\n",
            "  warnings.warn(\"Found `{}` in params. Will use it instead of argument\".format(alias))\n"
          ]
        },
        {
          "output_type": "stream",
          "name": "stdout",
          "text": [
            "Training until validation scores don't improve for 100 rounds.\n",
            "[200]\ttrain's auc: 0.759758\ttrain's binary_logloss: 0.58742\tvalid's auc: 0.74166\tvalid's binary_logloss: 0.590791\n",
            "[400]\ttrain's auc: 0.775301\ttrain's binary_logloss: 0.569649\tvalid's auc: 0.748967\tvalid's binary_logloss: 0.576262\n",
            "[600]\ttrain's auc: 0.785664\ttrain's binary_logloss: 0.558897\tvalid's auc: 0.751918\tvalid's binary_logloss: 0.567699\n",
            "[800]\ttrain's auc: 0.794106\ttrain's binary_logloss: 0.550204\tvalid's auc: 0.753125\tvalid's binary_logloss: 0.562925\n",
            "[1000]\ttrain's auc: 0.802018\ttrain's binary_logloss: 0.542101\tvalid's auc: 0.754657\tvalid's binary_logloss: 0.557459\n",
            "Early stopping, best iteration is:\n",
            "[1060]\ttrain's auc: 0.803973\ttrain's binary_logloss: 0.540085\tvalid's auc: 0.754827\tvalid's binary_logloss: 0.557084\n"
          ]
        },
        {
          "output_type": "stream",
          "name": "stderr",
          "text": [
            "/usr/local/lib/python3.7/dist-packages/lightgbm/engine.py:118: UserWarning: Found `num_boost_round` in params. Will use it instead of argument\n",
            "  warnings.warn(\"Found `{}` in params. Will use it instead of argument\".format(alias))\n"
          ]
        },
        {
          "output_type": "stream",
          "name": "stdout",
          "text": [
            "Training until validation scores don't improve for 100 rounds.\n",
            "[200]\ttrain's auc: 0.75697\ttrain's binary_logloss: 0.589739\tvalid's auc: 0.750632\tvalid's binary_logloss: 0.588658\n",
            "[400]\ttrain's auc: 0.772691\ttrain's binary_logloss: 0.572497\tvalid's auc: 0.757894\tvalid's binary_logloss: 0.574243\n",
            "[600]\ttrain's auc: 0.783615\ttrain's binary_logloss: 0.561438\tvalid's auc: 0.761354\tvalid's binary_logloss: 0.567529\n",
            "[800]\ttrain's auc: 0.792374\ttrain's binary_logloss: 0.552753\tvalid's auc: 0.761929\tvalid's binary_logloss: 0.560832\n",
            "[1000]\ttrain's auc: 0.800336\ttrain's binary_logloss: 0.544596\tvalid's auc: 0.762518\tvalid's binary_logloss: 0.555538\n",
            "Early stopping, best iteration is:\n",
            "[932]\ttrain's auc: 0.797555\ttrain's binary_logloss: 0.547312\tvalid's auc: 0.762608\tvalid's binary_logloss: 0.55604\n"
          ]
        },
        {
          "output_type": "stream",
          "name": "stderr",
          "text": [
            "/usr/local/lib/python3.7/dist-packages/lightgbm/engine.py:118: UserWarning: Found `num_boost_round` in params. Will use it instead of argument\n",
            "  warnings.warn(\"Found `{}` in params. Will use it instead of argument\".format(alias))\n"
          ]
        },
        {
          "output_type": "stream",
          "name": "stdout",
          "text": [
            "Training until validation scores don't improve for 100 rounds.\n",
            "[200]\ttrain's auc: 0.758061\ttrain's binary_logloss: 0.588476\tvalid's auc: 0.745041\tvalid's binary_logloss: 0.592759\n",
            "[400]\ttrain's auc: 0.774921\ttrain's binary_logloss: 0.570337\tvalid's auc: 0.75282\tvalid's binary_logloss: 0.579062\n",
            "[600]\ttrain's auc: 0.786104\ttrain's binary_logloss: 0.558917\tvalid's auc: 0.755383\tvalid's binary_logloss: 0.572945\n",
            "[800]\ttrain's auc: 0.794965\ttrain's binary_logloss: 0.549736\tvalid's auc: 0.756529\tvalid's binary_logloss: 0.566133\n",
            "Early stopping, best iteration is:\n",
            "[789]\ttrain's auc: 0.794494\ttrain's binary_logloss: 0.550238\tvalid's auc: 0.756724\tvalid's binary_logloss: 0.566476\n"
          ]
        },
        {
          "output_type": "stream",
          "name": "stderr",
          "text": [
            "/usr/local/lib/python3.7/dist-packages/lightgbm/engine.py:118: UserWarning: Found `num_boost_round` in params. Will use it instead of argument\n",
            "  warnings.warn(\"Found `{}` in params. Will use it instead of argument\".format(alias))\n"
          ]
        },
        {
          "output_type": "stream",
          "name": "stdout",
          "text": [
            "Training until validation scores don't improve for 100 rounds.\n",
            "[200]\ttrain's auc: 0.759081\ttrain's binary_logloss: 0.588149\tvalid's auc: 0.743197\tvalid's binary_logloss: 0.590631\n",
            "[400]\ttrain's auc: 0.775292\ttrain's binary_logloss: 0.570211\tvalid's auc: 0.750662\tvalid's binary_logloss: 0.579792\n",
            "[600]\ttrain's auc: 0.784726\ttrain's binary_logloss: 0.56052\tvalid's auc: 0.752315\tvalid's binary_logloss: 0.571796\n",
            "[800]\ttrain's auc: 0.794357\ttrain's binary_logloss: 0.5508\tvalid's auc: 0.754231\tvalid's binary_logloss: 0.565325\n",
            "Early stopping, best iteration is:\n",
            "[760]\ttrain's auc: 0.792605\ttrain's binary_logloss: 0.552531\tvalid's auc: 0.753996\tvalid's binary_logloss: 0.564649\n",
            "Training Data Shape:  (154988, 199)\n",
            "Testing Data Shape:  (55794, 199)\n"
          ]
        },
        {
          "output_type": "stream",
          "name": "stderr",
          "text": [
            "/usr/local/lib/python3.7/dist-packages/lightgbm/engine.py:118: UserWarning: Found `num_boost_round` in params. Will use it instead of argument\n",
            "  warnings.warn(\"Found `{}` in params. Will use it instead of argument\".format(alias))\n"
          ]
        },
        {
          "output_type": "stream",
          "name": "stdout",
          "text": [
            "Training until validation scores don't improve for 100 rounds.\n",
            "[200]\ttrain's auc: 0.757805\ttrain's binary_logloss: 0.589026\tvalid's auc: 0.745881\tvalid's binary_logloss: 0.589942\n",
            "[400]\ttrain's auc: 0.773883\ttrain's binary_logloss: 0.571504\tvalid's auc: 0.753875\tvalid's binary_logloss: 0.576904\n",
            "[600]\ttrain's auc: 0.785084\ttrain's binary_logloss: 0.559999\tvalid's auc: 0.756826\tvalid's binary_logloss: 0.569074\n",
            "[800]\ttrain's auc: 0.794085\ttrain's binary_logloss: 0.550821\tvalid's auc: 0.757897\tvalid's binary_logloss: 0.563273\n",
            "[1000]\ttrain's auc: 0.801883\ttrain's binary_logloss: 0.542565\tvalid's auc: 0.758329\tvalid's binary_logloss: 0.560182\n",
            "Early stopping, best iteration is:\n",
            "[990]\ttrain's auc: 0.801749\ttrain's binary_logloss: 0.542837\tvalid's auc: 0.758547\tvalid's binary_logloss: 0.560578\n"
          ]
        },
        {
          "output_type": "stream",
          "name": "stderr",
          "text": [
            "/usr/local/lib/python3.7/dist-packages/lightgbm/engine.py:118: UserWarning: Found `num_boost_round` in params. Will use it instead of argument\n",
            "  warnings.warn(\"Found `{}` in params. Will use it instead of argument\".format(alias))\n"
          ]
        },
        {
          "output_type": "stream",
          "name": "stdout",
          "text": [
            "Training until validation scores don't improve for 100 rounds.\n",
            "[200]\ttrain's auc: 0.759572\ttrain's binary_logloss: 0.587454\tvalid's auc: 0.741627\tvalid's binary_logloss: 0.590787\n",
            "[400]\ttrain's auc: 0.77524\ttrain's binary_logloss: 0.569687\tvalid's auc: 0.748821\tvalid's binary_logloss: 0.576236\n",
            "[600]\ttrain's auc: 0.785742\ttrain's binary_logloss: 0.558871\tvalid's auc: 0.752129\tvalid's binary_logloss: 0.567477\n",
            "[800]\ttrain's auc: 0.794016\ttrain's binary_logloss: 0.550329\tvalid's auc: 0.752863\tvalid's binary_logloss: 0.563079\n",
            "[1000]\ttrain's auc: 0.801861\ttrain's binary_logloss: 0.542197\tvalid's auc: 0.754267\tvalid's binary_logloss: 0.557504\n",
            "[1200]\ttrain's auc: 0.808738\ttrain's binary_logloss: 0.535237\tvalid's auc: 0.754315\tvalid's binary_logloss: 0.555488\n",
            "Early stopping, best iteration is:\n",
            "[1111]\ttrain's auc: 0.805667\ttrain's binary_logloss: 0.538364\tvalid's auc: 0.754496\tvalid's binary_logloss: 0.556445\n"
          ]
        },
        {
          "output_type": "stream",
          "name": "stderr",
          "text": [
            "/usr/local/lib/python3.7/dist-packages/lightgbm/engine.py:118: UserWarning: Found `num_boost_round` in params. Will use it instead of argument\n",
            "  warnings.warn(\"Found `{}` in params. Will use it instead of argument\".format(alias))\n"
          ]
        },
        {
          "output_type": "stream",
          "name": "stdout",
          "text": [
            "Training until validation scores don't improve for 100 rounds.\n",
            "[200]\ttrain's auc: 0.757101\ttrain's binary_logloss: 0.589628\tvalid's auc: 0.750492\tvalid's binary_logloss: 0.58854\n",
            "[400]\ttrain's auc: 0.772878\ttrain's binary_logloss: 0.572326\tvalid's auc: 0.757817\tvalid's binary_logloss: 0.57412\n",
            "[600]\ttrain's auc: 0.783784\ttrain's binary_logloss: 0.561281\tvalid's auc: 0.761072\tvalid's binary_logloss: 0.567439\n",
            "[800]\ttrain's auc: 0.792622\ttrain's binary_logloss: 0.552494\tvalid's auc: 0.76161\tvalid's binary_logloss: 0.560744\n",
            "[1000]\ttrain's auc: 0.800621\ttrain's binary_logloss: 0.544349\tvalid's auc: 0.762344\tvalid's binary_logloss: 0.555579\n",
            "Early stopping, best iteration is:\n",
            "[932]\ttrain's auc: 0.797794\ttrain's binary_logloss: 0.547077\tvalid's auc: 0.762431\tvalid's binary_logloss: 0.555967\n"
          ]
        },
        {
          "output_type": "stream",
          "name": "stderr",
          "text": [
            "/usr/local/lib/python3.7/dist-packages/lightgbm/engine.py:118: UserWarning: Found `num_boost_round` in params. Will use it instead of argument\n",
            "  warnings.warn(\"Found `{}` in params. Will use it instead of argument\".format(alias))\n"
          ]
        },
        {
          "output_type": "stream",
          "name": "stdout",
          "text": [
            "Training until validation scores don't improve for 100 rounds.\n",
            "[200]\ttrain's auc: 0.758133\ttrain's binary_logloss: 0.588451\tvalid's auc: 0.745404\tvalid's binary_logloss: 0.59266\n",
            "[400]\ttrain's auc: 0.774982\ttrain's binary_logloss: 0.570383\tvalid's auc: 0.752744\tvalid's binary_logloss: 0.579021\n",
            "[600]\ttrain's auc: 0.786227\ttrain's binary_logloss: 0.558897\tvalid's auc: 0.755565\tvalid's binary_logloss: 0.572829\n",
            "[800]\ttrain's auc: 0.795155\ttrain's binary_logloss: 0.549611\tvalid's auc: 0.756311\tvalid's binary_logloss: 0.566151\n",
            "Early stopping, best iteration is:\n",
            "[788]\ttrain's auc: 0.794692\ttrain's binary_logloss: 0.550136\tvalid's auc: 0.756621\tvalid's binary_logloss: 0.566489\n"
          ]
        },
        {
          "output_type": "stream",
          "name": "stderr",
          "text": [
            "/usr/local/lib/python3.7/dist-packages/lightgbm/engine.py:118: UserWarning: Found `num_boost_round` in params. Will use it instead of argument\n",
            "  warnings.warn(\"Found `{}` in params. Will use it instead of argument\".format(alias))\n"
          ]
        },
        {
          "output_type": "stream",
          "name": "stdout",
          "text": [
            "Training until validation scores don't improve for 100 rounds.\n",
            "[200]\ttrain's auc: 0.759096\ttrain's binary_logloss: 0.588127\tvalid's auc: 0.743051\tvalid's binary_logloss: 0.590646\n",
            "[400]\ttrain's auc: 0.775268\ttrain's binary_logloss: 0.570175\tvalid's auc: 0.750462\tvalid's binary_logloss: 0.579843\n",
            "[600]\ttrain's auc: 0.784733\ttrain's binary_logloss: 0.560447\tvalid's auc: 0.752158\tvalid's binary_logloss: 0.571798\n",
            "[800]\ttrain's auc: 0.794582\ttrain's binary_logloss: 0.55067\tvalid's auc: 0.754069\tvalid's binary_logloss: 0.565445\n",
            "Early stopping, best iteration is:\n",
            "[760]\ttrain's auc: 0.792715\ttrain's binary_logloss: 0.552455\tvalid's auc: 0.753806\tvalid's binary_logloss: 0.564688\n",
            "Training Data Shape:  (154988, 200)\n",
            "Testing Data Shape:  (55794, 200)\n"
          ]
        },
        {
          "output_type": "stream",
          "name": "stderr",
          "text": [
            "/usr/local/lib/python3.7/dist-packages/lightgbm/engine.py:118: UserWarning: Found `num_boost_round` in params. Will use it instead of argument\n",
            "  warnings.warn(\"Found `{}` in params. Will use it instead of argument\".format(alias))\n"
          ]
        },
        {
          "output_type": "stream",
          "name": "stdout",
          "text": [
            "Training until validation scores don't improve for 100 rounds.\n",
            "[200]\ttrain's auc: 0.757989\ttrain's binary_logloss: 0.588907\tvalid's auc: 0.746113\tvalid's binary_logloss: 0.589908\n",
            "[400]\ttrain's auc: 0.774049\ttrain's binary_logloss: 0.57138\tvalid's auc: 0.753821\tvalid's binary_logloss: 0.576977\n",
            "[600]\ttrain's auc: 0.785219\ttrain's binary_logloss: 0.559925\tvalid's auc: 0.756821\tvalid's binary_logloss: 0.568927\n",
            "Early stopping, best iteration is:\n",
            "[580]\ttrain's auc: 0.784235\ttrain's binary_logloss: 0.560886\tvalid's auc: 0.756619\tvalid's binary_logloss: 0.568475\n"
          ]
        },
        {
          "output_type": "stream",
          "name": "stderr",
          "text": [
            "/usr/local/lib/python3.7/dist-packages/lightgbm/engine.py:118: UserWarning: Found `num_boost_round` in params. Will use it instead of argument\n",
            "  warnings.warn(\"Found `{}` in params. Will use it instead of argument\".format(alias))\n"
          ]
        },
        {
          "output_type": "stream",
          "name": "stdout",
          "text": [
            "Training until validation scores don't improve for 100 rounds.\n",
            "[200]\ttrain's auc: 0.759716\ttrain's binary_logloss: 0.587423\tvalid's auc: 0.741572\tvalid's binary_logloss: 0.590976\n",
            "[400]\ttrain's auc: 0.775247\ttrain's binary_logloss: 0.569721\tvalid's auc: 0.748559\tvalid's binary_logloss: 0.576529\n",
            "[600]\ttrain's auc: 0.785347\ttrain's binary_logloss: 0.559209\tvalid's auc: 0.751039\tvalid's binary_logloss: 0.568206\n",
            "[800]\ttrain's auc: 0.793804\ttrain's binary_logloss: 0.550464\tvalid's auc: 0.752236\tvalid's binary_logloss: 0.563299\n",
            "[1000]\ttrain's auc: 0.801617\ttrain's binary_logloss: 0.542387\tvalid's auc: 0.753461\tvalid's binary_logloss: 0.557891\n",
            "Early stopping, best iteration is:\n",
            "[950]\ttrain's auc: 0.799899\ttrain's binary_logloss: 0.544357\tvalid's auc: 0.753669\tvalid's binary_logloss: 0.560184\n"
          ]
        },
        {
          "output_type": "stream",
          "name": "stderr",
          "text": [
            "/usr/local/lib/python3.7/dist-packages/lightgbm/engine.py:118: UserWarning: Found `num_boost_round` in params. Will use it instead of argument\n",
            "  warnings.warn(\"Found `{}` in params. Will use it instead of argument\".format(alias))\n"
          ]
        },
        {
          "output_type": "stream",
          "name": "stdout",
          "text": [
            "Training until validation scores don't improve for 100 rounds.\n",
            "[200]\ttrain's auc: 0.757253\ttrain's binary_logloss: 0.589563\tvalid's auc: 0.750614\tvalid's binary_logloss: 0.588401\n",
            "[400]\ttrain's auc: 0.773087\ttrain's binary_logloss: 0.572248\tvalid's auc: 0.758142\tvalid's binary_logloss: 0.573839\n",
            "[600]\ttrain's auc: 0.78406\ttrain's binary_logloss: 0.561062\tvalid's auc: 0.761228\tvalid's binary_logloss: 0.567151\n",
            "[800]\ttrain's auc: 0.792868\ttrain's binary_logloss: 0.552306\tvalid's auc: 0.761715\tvalid's binary_logloss: 0.560555\n",
            "Early stopping, best iteration is:\n",
            "[720]\ttrain's auc: 0.78932\ttrain's binary_logloss: 0.55572\tvalid's auc: 0.761808\tvalid's binary_logloss: 0.563351\n"
          ]
        },
        {
          "output_type": "stream",
          "name": "stderr",
          "text": [
            "/usr/local/lib/python3.7/dist-packages/lightgbm/engine.py:118: UserWarning: Found `num_boost_round` in params. Will use it instead of argument\n",
            "  warnings.warn(\"Found `{}` in params. Will use it instead of argument\".format(alias))\n"
          ]
        },
        {
          "output_type": "stream",
          "name": "stdout",
          "text": [
            "Training until validation scores don't improve for 100 rounds.\n",
            "[200]\ttrain's auc: 0.758035\ttrain's binary_logloss: 0.588537\tvalid's auc: 0.745299\tvalid's binary_logloss: 0.592816\n",
            "[400]\ttrain's auc: 0.774824\ttrain's binary_logloss: 0.57045\tvalid's auc: 0.752662\tvalid's binary_logloss: 0.579306\n",
            "[600]\ttrain's auc: 0.786039\ttrain's binary_logloss: 0.558967\tvalid's auc: 0.755052\tvalid's binary_logloss: 0.573366\n",
            "Early stopping, best iteration is:\n",
            "[560]\ttrain's auc: 0.784265\ttrain's binary_logloss: 0.560992\tvalid's auc: 0.755366\tvalid's binary_logloss: 0.574878\n"
          ]
        },
        {
          "output_type": "stream",
          "name": "stderr",
          "text": [
            "/usr/local/lib/python3.7/dist-packages/lightgbm/engine.py:118: UserWarning: Found `num_boost_round` in params. Will use it instead of argument\n",
            "  warnings.warn(\"Found `{}` in params. Will use it instead of argument\".format(alias))\n"
          ]
        },
        {
          "output_type": "stream",
          "name": "stdout",
          "text": [
            "Training until validation scores don't improve for 100 rounds.\n",
            "[200]\ttrain's auc: 0.75895\ttrain's binary_logloss: 0.588292\tvalid's auc: 0.74296\tvalid's binary_logloss: 0.59073\n",
            "[400]\ttrain's auc: 0.775144\ttrain's binary_logloss: 0.570294\tvalid's auc: 0.750327\tvalid's binary_logloss: 0.579843\n",
            "[600]\ttrain's auc: 0.784597\ttrain's binary_logloss: 0.560501\tvalid's auc: 0.751993\tvalid's binary_logloss: 0.571696\n",
            "[800]\ttrain's auc: 0.794586\ttrain's binary_logloss: 0.550537\tvalid's auc: 0.754134\tvalid's binary_logloss: 0.564971\n",
            "Early stopping, best iteration is:\n",
            "[760]\ttrain's auc: 0.79269\ttrain's binary_logloss: 0.552353\tvalid's auc: 0.7538\tvalid's binary_logloss: 0.564357\n",
            "Training Data Shape:  (154988, 201)\n",
            "Testing Data Shape:  (55794, 201)\n"
          ]
        },
        {
          "output_type": "stream",
          "name": "stderr",
          "text": [
            "/usr/local/lib/python3.7/dist-packages/lightgbm/engine.py:118: UserWarning: Found `num_boost_round` in params. Will use it instead of argument\n",
            "  warnings.warn(\"Found `{}` in params. Will use it instead of argument\".format(alias))\n"
          ]
        },
        {
          "output_type": "stream",
          "name": "stdout",
          "text": [
            "Training until validation scores don't improve for 100 rounds.\n",
            "[200]\ttrain's auc: 0.75799\ttrain's binary_logloss: 0.588887\tvalid's auc: 0.746308\tvalid's binary_logloss: 0.589793\n",
            "[400]\ttrain's auc: 0.774132\ttrain's binary_logloss: 0.571316\tvalid's auc: 0.754373\tvalid's binary_logloss: 0.57658\n",
            "[600]\ttrain's auc: 0.785339\ttrain's binary_logloss: 0.559841\tvalid's auc: 0.757067\tvalid's binary_logloss: 0.56866\n",
            "Early stopping, best iteration is:\n",
            "[580]\ttrain's auc: 0.784335\ttrain's binary_logloss: 0.560842\tvalid's auc: 0.756872\tvalid's binary_logloss: 0.568216\n"
          ]
        },
        {
          "output_type": "stream",
          "name": "stderr",
          "text": [
            "/usr/local/lib/python3.7/dist-packages/lightgbm/engine.py:118: UserWarning: Found `num_boost_round` in params. Will use it instead of argument\n",
            "  warnings.warn(\"Found `{}` in params. Will use it instead of argument\".format(alias))\n"
          ]
        },
        {
          "output_type": "stream",
          "name": "stdout",
          "text": [
            "Training until validation scores don't improve for 100 rounds.\n",
            "[200]\ttrain's auc: 0.759683\ttrain's binary_logloss: 0.587454\tvalid's auc: 0.741521\tvalid's binary_logloss: 0.590861\n",
            "[400]\ttrain's auc: 0.775126\ttrain's binary_logloss: 0.569797\tvalid's auc: 0.748495\tvalid's binary_logloss: 0.576467\n",
            "[600]\ttrain's auc: 0.785291\ttrain's binary_logloss: 0.559274\tvalid's auc: 0.75112\tvalid's binary_logloss: 0.568042\n",
            "[800]\ttrain's auc: 0.793808\ttrain's binary_logloss: 0.550539\tvalid's auc: 0.752163\tvalid's binary_logloss: 0.563459\n",
            "[1000]\ttrain's auc: 0.801898\ttrain's binary_logloss: 0.542242\tvalid's auc: 0.753213\tvalid's binary_logloss: 0.557945\n",
            "Early stopping, best iteration is:\n",
            "[1052]\ttrain's auc: 0.803717\ttrain's binary_logloss: 0.540415\tvalid's auc: 0.753311\tvalid's binary_logloss: 0.558238\n"
          ]
        },
        {
          "output_type": "stream",
          "name": "stderr",
          "text": [
            "/usr/local/lib/python3.7/dist-packages/lightgbm/engine.py:118: UserWarning: Found `num_boost_round` in params. Will use it instead of argument\n",
            "  warnings.warn(\"Found `{}` in params. Will use it instead of argument\".format(alias))\n"
          ]
        },
        {
          "output_type": "stream",
          "name": "stdout",
          "text": [
            "Training until validation scores don't improve for 100 rounds.\n",
            "[200]\ttrain's auc: 0.757035\ttrain's binary_logloss: 0.589699\tvalid's auc: 0.750709\tvalid's binary_logloss: 0.588531\n",
            "[400]\ttrain's auc: 0.772765\ttrain's binary_logloss: 0.572506\tvalid's auc: 0.758241\tvalid's binary_logloss: 0.573955\n",
            "[600]\ttrain's auc: 0.783603\ttrain's binary_logloss: 0.561517\tvalid's auc: 0.761341\tvalid's binary_logloss: 0.567441\n",
            "[800]\ttrain's auc: 0.792234\ttrain's binary_logloss: 0.552913\tvalid's auc: 0.761931\tvalid's binary_logloss: 0.560861\n",
            "Early stopping, best iteration is:\n",
            "[780]\ttrain's auc: 0.791572\ttrain's binary_logloss: 0.553716\tvalid's auc: 0.761959\tvalid's binary_logloss: 0.561348\n"
          ]
        },
        {
          "output_type": "stream",
          "name": "stderr",
          "text": [
            "/usr/local/lib/python3.7/dist-packages/lightgbm/engine.py:118: UserWarning: Found `num_boost_round` in params. Will use it instead of argument\n",
            "  warnings.warn(\"Found `{}` in params. Will use it instead of argument\".format(alias))\n"
          ]
        },
        {
          "output_type": "stream",
          "name": "stdout",
          "text": [
            "Training until validation scores don't improve for 100 rounds.\n",
            "[200]\ttrain's auc: 0.75809\ttrain's binary_logloss: 0.588472\tvalid's auc: 0.745378\tvalid's binary_logloss: 0.592697\n",
            "[400]\ttrain's auc: 0.774622\ttrain's binary_logloss: 0.570613\tvalid's auc: 0.752591\tvalid's binary_logloss: 0.579366\n",
            "[600]\ttrain's auc: 0.785891\ttrain's binary_logloss: 0.5591\tvalid's auc: 0.755278\tvalid's binary_logloss: 0.573269\n",
            "[800]\ttrain's auc: 0.794785\ttrain's binary_logloss: 0.549879\tvalid's auc: 0.755985\tvalid's binary_logloss: 0.566541\n",
            "Early stopping, best iteration is:\n",
            "[781]\ttrain's auc: 0.794113\ttrain's binary_logloss: 0.55072\tvalid's auc: 0.756155\tvalid's binary_logloss: 0.567583\n"
          ]
        },
        {
          "output_type": "stream",
          "name": "stderr",
          "text": [
            "/usr/local/lib/python3.7/dist-packages/lightgbm/engine.py:118: UserWarning: Found `num_boost_round` in params. Will use it instead of argument\n",
            "  warnings.warn(\"Found `{}` in params. Will use it instead of argument\".format(alias))\n"
          ]
        },
        {
          "output_type": "stream",
          "name": "stdout",
          "text": [
            "Training until validation scores don't improve for 100 rounds.\n",
            "[200]\ttrain's auc: 0.759165\ttrain's binary_logloss: 0.588064\tvalid's auc: 0.743282\tvalid's binary_logloss: 0.590357\n",
            "[400]\ttrain's auc: 0.775248\ttrain's binary_logloss: 0.570169\tvalid's auc: 0.750381\tvalid's binary_logloss: 0.579759\n",
            "[600]\ttrain's auc: 0.784596\ttrain's binary_logloss: 0.560556\tvalid's auc: 0.75217\tvalid's binary_logloss: 0.571844\n",
            "[800]\ttrain's auc: 0.794527\ttrain's binary_logloss: 0.550592\tvalid's auc: 0.754103\tvalid's binary_logloss: 0.565225\n",
            "Early stopping, best iteration is:\n",
            "[760]\ttrain's auc: 0.792689\ttrain's binary_logloss: 0.55236\tvalid's auc: 0.753905\tvalid's binary_logloss: 0.564516\n",
            "Training Data Shape:  (154988, 202)\n",
            "Testing Data Shape:  (55794, 202)\n"
          ]
        },
        {
          "output_type": "stream",
          "name": "stderr",
          "text": [
            "/usr/local/lib/python3.7/dist-packages/lightgbm/engine.py:118: UserWarning: Found `num_boost_round` in params. Will use it instead of argument\n",
            "  warnings.warn(\"Found `{}` in params. Will use it instead of argument\".format(alias))\n"
          ]
        },
        {
          "output_type": "stream",
          "name": "stdout",
          "text": [
            "Training until validation scores don't improve for 100 rounds.\n",
            "[200]\ttrain's auc: 0.757855\ttrain's binary_logloss: 0.58895\tvalid's auc: 0.745462\tvalid's binary_logloss: 0.589921\n",
            "[400]\ttrain's auc: 0.77392\ttrain's binary_logloss: 0.571507\tvalid's auc: 0.753473\tvalid's binary_logloss: 0.576906\n",
            "[600]\ttrain's auc: 0.785129\ttrain's binary_logloss: 0.560094\tvalid's auc: 0.756598\tvalid's binary_logloss: 0.568989\n",
            "[800]\ttrain's auc: 0.794113\ttrain's binary_logloss: 0.55092\tvalid's auc: 0.757824\tvalid's binary_logloss: 0.563117\n",
            "[1000]\ttrain's auc: 0.801923\ttrain's binary_logloss: 0.542596\tvalid's auc: 0.758143\tvalid's binary_logloss: 0.560218\n",
            "Early stopping, best iteration is:\n",
            "[990]\ttrain's auc: 0.801699\ttrain's binary_logloss: 0.54292\tvalid's auc: 0.758377\tvalid's binary_logloss: 0.560567\n"
          ]
        },
        {
          "output_type": "stream",
          "name": "stderr",
          "text": [
            "/usr/local/lib/python3.7/dist-packages/lightgbm/engine.py:118: UserWarning: Found `num_boost_round` in params. Will use it instead of argument\n",
            "  warnings.warn(\"Found `{}` in params. Will use it instead of argument\".format(alias))\n"
          ]
        },
        {
          "output_type": "stream",
          "name": "stdout",
          "text": [
            "Training until validation scores don't improve for 100 rounds.\n",
            "[200]\ttrain's auc: 0.759791\ttrain's binary_logloss: 0.587354\tvalid's auc: 0.741763\tvalid's binary_logloss: 0.590825\n",
            "[400]\ttrain's auc: 0.775163\ttrain's binary_logloss: 0.569757\tvalid's auc: 0.748944\tvalid's binary_logloss: 0.5763\n",
            "[600]\ttrain's auc: 0.785306\ttrain's binary_logloss: 0.55917\tvalid's auc: 0.752047\tvalid's binary_logloss: 0.567742\n",
            "[800]\ttrain's auc: 0.793613\ttrain's binary_logloss: 0.550552\tvalid's auc: 0.753117\tvalid's binary_logloss: 0.563211\n",
            "[1000]\ttrain's auc: 0.801767\ttrain's binary_logloss: 0.542301\tvalid's auc: 0.75465\tvalid's binary_logloss: 0.557612\n",
            "Early stopping, best iteration is:\n",
            "[1060]\ttrain's auc: 0.803756\ttrain's binary_logloss: 0.54026\tvalid's auc: 0.75486\tvalid's binary_logloss: 0.557328\n"
          ]
        },
        {
          "output_type": "stream",
          "name": "stderr",
          "text": [
            "/usr/local/lib/python3.7/dist-packages/lightgbm/engine.py:118: UserWarning: Found `num_boost_round` in params. Will use it instead of argument\n",
            "  warnings.warn(\"Found `{}` in params. Will use it instead of argument\".format(alias))\n"
          ]
        },
        {
          "output_type": "stream",
          "name": "stdout",
          "text": [
            "Training until validation scores don't improve for 100 rounds.\n",
            "[200]\ttrain's auc: 0.757\ttrain's binary_logloss: 0.589758\tvalid's auc: 0.750414\tvalid's binary_logloss: 0.588519\n",
            "[400]\ttrain's auc: 0.772663\ttrain's binary_logloss: 0.572555\tvalid's auc: 0.758022\tvalid's binary_logloss: 0.57425\n",
            "[600]\ttrain's auc: 0.783554\ttrain's binary_logloss: 0.561504\tvalid's auc: 0.761085\tvalid's binary_logloss: 0.567571\n",
            "[800]\ttrain's auc: 0.792495\ttrain's binary_logloss: 0.55268\tvalid's auc: 0.761841\tvalid's binary_logloss: 0.560863\n",
            "[1000]\ttrain's auc: 0.800469\ttrain's binary_logloss: 0.544545\tvalid's auc: 0.762557\tvalid's binary_logloss: 0.555567\n",
            "[1200]\ttrain's auc: 0.807418\ttrain's binary_logloss: 0.537405\tvalid's auc: 0.761952\tvalid's binary_logloss: 0.551979\n",
            "Early stopping, best iteration is:\n",
            "[1119]\ttrain's auc: 0.804721\ttrain's binary_logloss: 0.540073\tvalid's auc: 0.762637\tvalid's binary_logloss: 0.552723\n"
          ]
        },
        {
          "output_type": "stream",
          "name": "stderr",
          "text": [
            "/usr/local/lib/python3.7/dist-packages/lightgbm/engine.py:118: UserWarning: Found `num_boost_round` in params. Will use it instead of argument\n",
            "  warnings.warn(\"Found `{}` in params. Will use it instead of argument\".format(alias))\n"
          ]
        },
        {
          "output_type": "stream",
          "name": "stdout",
          "text": [
            "Training until validation scores don't improve for 100 rounds.\n",
            "[200]\ttrain's auc: 0.758056\ttrain's binary_logloss: 0.588486\tvalid's auc: 0.745491\tvalid's binary_logloss: 0.592609\n",
            "[400]\ttrain's auc: 0.774763\ttrain's binary_logloss: 0.570521\tvalid's auc: 0.752898\tvalid's binary_logloss: 0.578982\n",
            "[600]\ttrain's auc: 0.785869\ttrain's binary_logloss: 0.559141\tvalid's auc: 0.755534\tvalid's binary_logloss: 0.573054\n",
            "Early stopping, best iteration is:\n",
            "[561]\ttrain's auc: 0.784096\ttrain's binary_logloss: 0.561136\tvalid's auc: 0.755671\tvalid's binary_logloss: 0.574568\n"
          ]
        },
        {
          "output_type": "stream",
          "name": "stderr",
          "text": [
            "/usr/local/lib/python3.7/dist-packages/lightgbm/engine.py:118: UserWarning: Found `num_boost_round` in params. Will use it instead of argument\n",
            "  warnings.warn(\"Found `{}` in params. Will use it instead of argument\".format(alias))\n"
          ]
        },
        {
          "output_type": "stream",
          "name": "stdout",
          "text": [
            "Training until validation scores don't improve for 100 rounds.\n",
            "[200]\ttrain's auc: 0.759117\ttrain's binary_logloss: 0.588117\tvalid's auc: 0.743018\tvalid's binary_logloss: 0.590593\n",
            "[400]\ttrain's auc: 0.77517\ttrain's binary_logloss: 0.570271\tvalid's auc: 0.750079\tvalid's binary_logloss: 0.579922\n",
            "[600]\ttrain's auc: 0.784644\ttrain's binary_logloss: 0.560533\tvalid's auc: 0.751939\tvalid's binary_logloss: 0.571785\n",
            "[800]\ttrain's auc: 0.794389\ttrain's binary_logloss: 0.550839\tvalid's auc: 0.753608\tvalid's binary_logloss: 0.565377\n",
            "Early stopping, best iteration is:\n",
            "[760]\ttrain's auc: 0.792519\ttrain's binary_logloss: 0.552593\tvalid's auc: 0.753402\tvalid's binary_logloss: 0.564577\n",
            "Training Data Shape:  (154988, 203)\n",
            "Testing Data Shape:  (55794, 203)\n"
          ]
        },
        {
          "output_type": "stream",
          "name": "stderr",
          "text": [
            "/usr/local/lib/python3.7/dist-packages/lightgbm/engine.py:118: UserWarning: Found `num_boost_round` in params. Will use it instead of argument\n",
            "  warnings.warn(\"Found `{}` in params. Will use it instead of argument\".format(alias))\n"
          ]
        },
        {
          "output_type": "stream",
          "name": "stdout",
          "text": [
            "Training until validation scores don't improve for 100 rounds.\n",
            "[200]\ttrain's auc: 0.757755\ttrain's binary_logloss: 0.589035\tvalid's auc: 0.745968\tvalid's binary_logloss: 0.589903\n",
            "[400]\ttrain's auc: 0.77384\ttrain's binary_logloss: 0.571483\tvalid's auc: 0.75376\tvalid's binary_logloss: 0.576862\n",
            "[600]\ttrain's auc: 0.785111\ttrain's binary_logloss: 0.560042\tvalid's auc: 0.756893\tvalid's binary_logloss: 0.568772\n",
            "Early stopping, best iteration is:\n",
            "[580]\ttrain's auc: 0.7842\ttrain's binary_logloss: 0.560939\tvalid's auc: 0.75671\tvalid's binary_logloss: 0.568292\n"
          ]
        },
        {
          "output_type": "stream",
          "name": "stderr",
          "text": [
            "/usr/local/lib/python3.7/dist-packages/lightgbm/engine.py:118: UserWarning: Found `num_boost_round` in params. Will use it instead of argument\n",
            "  warnings.warn(\"Found `{}` in params. Will use it instead of argument\".format(alias))\n"
          ]
        },
        {
          "output_type": "stream",
          "name": "stdout",
          "text": [
            "Training until validation scores don't improve for 100 rounds.\n",
            "[200]\ttrain's auc: 0.7598\ttrain's binary_logloss: 0.587349\tvalid's auc: 0.741486\tvalid's binary_logloss: 0.590981\n",
            "[400]\ttrain's auc: 0.775122\ttrain's binary_logloss: 0.569806\tvalid's auc: 0.748396\tvalid's binary_logloss: 0.576456\n",
            "[600]\ttrain's auc: 0.785255\ttrain's binary_logloss: 0.559229\tvalid's auc: 0.751209\tvalid's binary_logloss: 0.568186\n",
            "[800]\ttrain's auc: 0.793635\ttrain's binary_logloss: 0.550606\tvalid's auc: 0.752545\tvalid's binary_logloss: 0.563454\n",
            "[1000]\ttrain's auc: 0.801679\ttrain's binary_logloss: 0.5424\tvalid's auc: 0.753988\tvalid's binary_logloss: 0.557998\n",
            "Early stopping, best iteration is:\n",
            "[1051]\ttrain's auc: 0.803471\ttrain's binary_logloss: 0.540582\tvalid's auc: 0.754036\tvalid's binary_logloss: 0.558299\n"
          ]
        },
        {
          "output_type": "stream",
          "name": "stderr",
          "text": [
            "/usr/local/lib/python3.7/dist-packages/lightgbm/engine.py:118: UserWarning: Found `num_boost_round` in params. Will use it instead of argument\n",
            "  warnings.warn(\"Found `{}` in params. Will use it instead of argument\".format(alias))\n"
          ]
        },
        {
          "output_type": "stream",
          "name": "stdout",
          "text": [
            "Training until validation scores don't improve for 100 rounds.\n",
            "[200]\ttrain's auc: 0.757183\ttrain's binary_logloss: 0.589617\tvalid's auc: 0.750342\tvalid's binary_logloss: 0.588679\n",
            "[400]\ttrain's auc: 0.772817\ttrain's binary_logloss: 0.572546\tvalid's auc: 0.758181\tvalid's binary_logloss: 0.574252\n",
            "[600]\ttrain's auc: 0.783895\ttrain's binary_logloss: 0.561271\tvalid's auc: 0.761042\tvalid's binary_logloss: 0.56748\n",
            "[800]\ttrain's auc: 0.79269\ttrain's binary_logloss: 0.552564\tvalid's auc: 0.76154\tvalid's binary_logloss: 0.560902\n",
            "Early stopping, best iteration is:\n",
            "[721]\ttrain's auc: 0.789309\ttrain's binary_logloss: 0.555873\tvalid's auc: 0.761704\tvalid's binary_logloss: 0.563497\n"
          ]
        },
        {
          "output_type": "stream",
          "name": "stderr",
          "text": [
            "/usr/local/lib/python3.7/dist-packages/lightgbm/engine.py:118: UserWarning: Found `num_boost_round` in params. Will use it instead of argument\n",
            "  warnings.warn(\"Found `{}` in params. Will use it instead of argument\".format(alias))\n"
          ]
        },
        {
          "output_type": "stream",
          "name": "stdout",
          "text": [
            "Training until validation scores don't improve for 100 rounds.\n",
            "[200]\ttrain's auc: 0.757891\ttrain's binary_logloss: 0.58863\tvalid's auc: 0.745413\tvalid's binary_logloss: 0.592802\n",
            "[400]\ttrain's auc: 0.774788\ttrain's binary_logloss: 0.570518\tvalid's auc: 0.752803\tvalid's binary_logloss: 0.579351\n",
            "[600]\ttrain's auc: 0.786034\ttrain's binary_logloss: 0.558984\tvalid's auc: 0.755288\tvalid's binary_logloss: 0.573357\n",
            "Early stopping, best iteration is:\n",
            "[568]\ttrain's auc: 0.784521\ttrain's binary_logloss: 0.560615\tvalid's auc: 0.755411\tvalid's binary_logloss: 0.574113\n"
          ]
        },
        {
          "output_type": "stream",
          "name": "stderr",
          "text": [
            "/usr/local/lib/python3.7/dist-packages/lightgbm/engine.py:118: UserWarning: Found `num_boost_round` in params. Will use it instead of argument\n",
            "  warnings.warn(\"Found `{}` in params. Will use it instead of argument\".format(alias))\n"
          ]
        },
        {
          "output_type": "stream",
          "name": "stdout",
          "text": [
            "Training until validation scores don't improve for 100 rounds.\n",
            "[200]\ttrain's auc: 0.759244\ttrain's binary_logloss: 0.588019\tvalid's auc: 0.743721\tvalid's binary_logloss: 0.590418\n",
            "[400]\ttrain's auc: 0.775275\ttrain's binary_logloss: 0.570215\tvalid's auc: 0.750609\tvalid's binary_logloss: 0.579883\n",
            "[600]\ttrain's auc: 0.784614\ttrain's binary_logloss: 0.560559\tvalid's auc: 0.752314\tvalid's binary_logloss: 0.571922\n",
            "[800]\ttrain's auc: 0.79448\ttrain's binary_logloss: 0.550687\tvalid's auc: 0.75426\tvalid's binary_logloss: 0.565383\n",
            "Early stopping, best iteration is:\n",
            "[760]\ttrain's auc: 0.792623\ttrain's binary_logloss: 0.552521\tvalid's auc: 0.753984\tvalid's binary_logloss: 0.564704\n",
            "Training Data Shape:  (154988, 204)\n",
            "Testing Data Shape:  (55794, 204)\n"
          ]
        },
        {
          "output_type": "stream",
          "name": "stderr",
          "text": [
            "/usr/local/lib/python3.7/dist-packages/lightgbm/engine.py:118: UserWarning: Found `num_boost_round` in params. Will use it instead of argument\n",
            "  warnings.warn(\"Found `{}` in params. Will use it instead of argument\".format(alias))\n"
          ]
        },
        {
          "output_type": "stream",
          "name": "stdout",
          "text": [
            "Training until validation scores don't improve for 100 rounds.\n",
            "[200]\ttrain's auc: 0.757806\ttrain's binary_logloss: 0.588997\tvalid's auc: 0.74577\tvalid's binary_logloss: 0.590031\n",
            "[400]\ttrain's auc: 0.773906\ttrain's binary_logloss: 0.57151\tvalid's auc: 0.75352\tvalid's binary_logloss: 0.576928\n",
            "[600]\ttrain's auc: 0.785021\ttrain's binary_logloss: 0.560112\tvalid's auc: 0.756577\tvalid's binary_logloss: 0.568988\n",
            "Early stopping, best iteration is:\n",
            "[580]\ttrain's auc: 0.784122\ttrain's binary_logloss: 0.561008\tvalid's auc: 0.756419\tvalid's binary_logloss: 0.56849\n"
          ]
        },
        {
          "output_type": "stream",
          "name": "stderr",
          "text": [
            "/usr/local/lib/python3.7/dist-packages/lightgbm/engine.py:118: UserWarning: Found `num_boost_round` in params. Will use it instead of argument\n",
            "  warnings.warn(\"Found `{}` in params. Will use it instead of argument\".format(alias))\n"
          ]
        },
        {
          "output_type": "stream",
          "name": "stdout",
          "text": [
            "Training until validation scores don't improve for 100 rounds.\n",
            "[200]\ttrain's auc: 0.759691\ttrain's binary_logloss: 0.587353\tvalid's auc: 0.7414\tvalid's binary_logloss: 0.590867\n",
            "[400]\ttrain's auc: 0.775229\ttrain's binary_logloss: 0.569701\tvalid's auc: 0.748406\tvalid's binary_logloss: 0.57646\n",
            "[600]\ttrain's auc: 0.785419\ttrain's binary_logloss: 0.559116\tvalid's auc: 0.751398\tvalid's binary_logloss: 0.567954\n",
            "[800]\ttrain's auc: 0.793902\ttrain's binary_logloss: 0.550461\tvalid's auc: 0.752632\tvalid's binary_logloss: 0.563187\n",
            "[1000]\ttrain's auc: 0.801901\ttrain's binary_logloss: 0.542187\tvalid's auc: 0.754056\tvalid's binary_logloss: 0.557646\n",
            "[1200]\ttrain's auc: 0.808989\ttrain's binary_logloss: 0.534996\tvalid's auc: 0.754118\tvalid's binary_logloss: 0.555438\n",
            "Early stopping, best iteration is:\n",
            "[1100]\ttrain's auc: 0.805467\ttrain's binary_logloss: 0.538538\tvalid's auc: 0.754414\tvalid's binary_logloss: 0.555991\n"
          ]
        },
        {
          "output_type": "stream",
          "name": "stderr",
          "text": [
            "/usr/local/lib/python3.7/dist-packages/lightgbm/engine.py:118: UserWarning: Found `num_boost_round` in params. Will use it instead of argument\n",
            "  warnings.warn(\"Found `{}` in params. Will use it instead of argument\".format(alias))\n"
          ]
        },
        {
          "output_type": "stream",
          "name": "stdout",
          "text": [
            "Training until validation scores don't improve for 100 rounds.\n",
            "[200]\ttrain's auc: 0.757045\ttrain's binary_logloss: 0.589672\tvalid's auc: 0.75076\tvalid's binary_logloss: 0.588676\n",
            "[400]\ttrain's auc: 0.772709\ttrain's binary_logloss: 0.572543\tvalid's auc: 0.758221\tvalid's binary_logloss: 0.57432\n",
            "[600]\ttrain's auc: 0.783477\ttrain's binary_logloss: 0.561566\tvalid's auc: 0.761213\tvalid's binary_logloss: 0.567681\n",
            "[800]\ttrain's auc: 0.792404\ttrain's binary_logloss: 0.552773\tvalid's auc: 0.761863\tvalid's binary_logloss: 0.560868\n",
            "[1000]\ttrain's auc: 0.800219\ttrain's binary_logloss: 0.544751\tvalid's auc: 0.762532\tvalid's binary_logloss: 0.555795\n",
            "Early stopping, best iteration is:\n",
            "[1001]\ttrain's auc: 0.800253\ttrain's binary_logloss: 0.544704\tvalid's auc: 0.762536\tvalid's binary_logloss: 0.555759\n"
          ]
        },
        {
          "output_type": "stream",
          "name": "stderr",
          "text": [
            "/usr/local/lib/python3.7/dist-packages/lightgbm/engine.py:118: UserWarning: Found `num_boost_round` in params. Will use it instead of argument\n",
            "  warnings.warn(\"Found `{}` in params. Will use it instead of argument\".format(alias))\n"
          ]
        },
        {
          "output_type": "stream",
          "name": "stdout",
          "text": [
            "Training until validation scores don't improve for 100 rounds.\n",
            "[200]\ttrain's auc: 0.757884\ttrain's binary_logloss: 0.588566\tvalid's auc: 0.745267\tvalid's binary_logloss: 0.592722\n",
            "[400]\ttrain's auc: 0.774531\ttrain's binary_logloss: 0.570694\tvalid's auc: 0.752541\tvalid's binary_logloss: 0.579344\n",
            "[600]\ttrain's auc: 0.785889\ttrain's binary_logloss: 0.559151\tvalid's auc: 0.755397\tvalid's binary_logloss: 0.573218\n",
            "[800]\ttrain's auc: 0.794727\ttrain's binary_logloss: 0.549958\tvalid's auc: 0.756165\tvalid's binary_logloss: 0.566599\n",
            "Early stopping, best iteration is:\n",
            "[785]\ttrain's auc: 0.794221\ttrain's binary_logloss: 0.550603\tvalid's auc: 0.756467\tvalid's binary_logloss: 0.567219\n"
          ]
        },
        {
          "output_type": "stream",
          "name": "stderr",
          "text": [
            "/usr/local/lib/python3.7/dist-packages/lightgbm/engine.py:118: UserWarning: Found `num_boost_round` in params. Will use it instead of argument\n",
            "  warnings.warn(\"Found `{}` in params. Will use it instead of argument\".format(alias))\n"
          ]
        },
        {
          "output_type": "stream",
          "name": "stdout",
          "text": [
            "Training until validation scores don't improve for 100 rounds.\n",
            "[200]\ttrain's auc: 0.759052\ttrain's binary_logloss: 0.588117\tvalid's auc: 0.743049\tvalid's binary_logloss: 0.590672\n",
            "[400]\ttrain's auc: 0.77505\ttrain's binary_logloss: 0.570327\tvalid's auc: 0.750276\tvalid's binary_logloss: 0.580012\n",
            "[600]\ttrain's auc: 0.784522\ttrain's binary_logloss: 0.560662\tvalid's auc: 0.75222\tvalid's binary_logloss: 0.571933\n",
            "[800]\ttrain's auc: 0.794388\ttrain's binary_logloss: 0.550758\tvalid's auc: 0.754559\tvalid's binary_logloss: 0.56521\n",
            "Early stopping, best iteration is:\n",
            "[760]\ttrain's auc: 0.792514\ttrain's binary_logloss: 0.552571\tvalid's auc: 0.754174\tvalid's binary_logloss: 0.564588\n",
            "Training Data Shape:  (154988, 205)\n",
            "Testing Data Shape:  (55794, 205)\n"
          ]
        },
        {
          "output_type": "stream",
          "name": "stderr",
          "text": [
            "/usr/local/lib/python3.7/dist-packages/lightgbm/engine.py:118: UserWarning: Found `num_boost_round` in params. Will use it instead of argument\n",
            "  warnings.warn(\"Found `{}` in params. Will use it instead of argument\".format(alias))\n"
          ]
        },
        {
          "output_type": "stream",
          "name": "stdout",
          "text": [
            "Training until validation scores don't improve for 100 rounds.\n",
            "[200]\ttrain's auc: 0.757828\ttrain's binary_logloss: 0.588969\tvalid's auc: 0.745884\tvalid's binary_logloss: 0.589996\n",
            "[400]\ttrain's auc: 0.7739\ttrain's binary_logloss: 0.571505\tvalid's auc: 0.753736\tvalid's binary_logloss: 0.577107\n",
            "[600]\ttrain's auc: 0.785077\ttrain's binary_logloss: 0.559986\tvalid's auc: 0.756987\tvalid's binary_logloss: 0.568995\n",
            "Early stopping, best iteration is:\n",
            "[580]\ttrain's auc: 0.784147\ttrain's binary_logloss: 0.560973\tvalid's auc: 0.756799\tvalid's binary_logloss: 0.568493\n"
          ]
        },
        {
          "output_type": "stream",
          "name": "stderr",
          "text": [
            "/usr/local/lib/python3.7/dist-packages/lightgbm/engine.py:118: UserWarning: Found `num_boost_round` in params. Will use it instead of argument\n",
            "  warnings.warn(\"Found `{}` in params. Will use it instead of argument\".format(alias))\n"
          ]
        },
        {
          "output_type": "stream",
          "name": "stdout",
          "text": [
            "Training until validation scores don't improve for 100 rounds.\n",
            "[200]\ttrain's auc: 0.759914\ttrain's binary_logloss: 0.587267\tvalid's auc: 0.741394\tvalid's binary_logloss: 0.590795\n",
            "[400]\ttrain's auc: 0.775373\ttrain's binary_logloss: 0.56955\tvalid's auc: 0.748438\tvalid's binary_logloss: 0.576239\n",
            "[600]\ttrain's auc: 0.785582\ttrain's binary_logloss: 0.559035\tvalid's auc: 0.751253\tvalid's binary_logloss: 0.567718\n",
            "[800]\ttrain's auc: 0.793902\ttrain's binary_logloss: 0.550393\tvalid's auc: 0.75241\tvalid's binary_logloss: 0.563025\n",
            "[1000]\ttrain's auc: 0.801838\ttrain's binary_logloss: 0.542224\tvalid's auc: 0.753462\tvalid's binary_logloss: 0.55767\n",
            "[1200]\ttrain's auc: 0.808771\ttrain's binary_logloss: 0.535214\tvalid's auc: 0.753478\tvalid's binary_logloss: 0.555405\n",
            "Early stopping, best iteration is:\n",
            "[1109]\ttrain's auc: 0.805509\ttrain's binary_logloss: 0.538488\tvalid's auc: 0.753673\tvalid's binary_logloss: 0.556545\n"
          ]
        },
        {
          "output_type": "stream",
          "name": "stderr",
          "text": [
            "/usr/local/lib/python3.7/dist-packages/lightgbm/engine.py:118: UserWarning: Found `num_boost_round` in params. Will use it instead of argument\n",
            "  warnings.warn(\"Found `{}` in params. Will use it instead of argument\".format(alias))\n"
          ]
        },
        {
          "output_type": "stream",
          "name": "stdout",
          "text": [
            "Training until validation scores don't improve for 100 rounds.\n",
            "[200]\ttrain's auc: 0.757008\ttrain's binary_logloss: 0.589731\tvalid's auc: 0.750507\tvalid's binary_logloss: 0.588753\n",
            "[400]\ttrain's auc: 0.772648\ttrain's binary_logloss: 0.572584\tvalid's auc: 0.758073\tvalid's binary_logloss: 0.574347\n",
            "[600]\ttrain's auc: 0.783548\ttrain's binary_logloss: 0.561559\tvalid's auc: 0.760781\tvalid's binary_logloss: 0.56793\n",
            "[800]\ttrain's auc: 0.792477\ttrain's binary_logloss: 0.552709\tvalid's auc: 0.761482\tvalid's binary_logloss: 0.561108\n",
            "[1000]\ttrain's auc: 0.800558\ttrain's binary_logloss: 0.544473\tvalid's auc: 0.762084\tvalid's binary_logloss: 0.555889\n",
            "Early stopping, best iteration is:\n",
            "[934]\ttrain's auc: 0.797887\ttrain's binary_logloss: 0.547047\tvalid's auc: 0.76212\tvalid's binary_logloss: 0.556507\n"
          ]
        },
        {
          "output_type": "stream",
          "name": "stderr",
          "text": [
            "/usr/local/lib/python3.7/dist-packages/lightgbm/engine.py:118: UserWarning: Found `num_boost_round` in params. Will use it instead of argument\n",
            "  warnings.warn(\"Found `{}` in params. Will use it instead of argument\".format(alias))\n"
          ]
        },
        {
          "output_type": "stream",
          "name": "stdout",
          "text": [
            "Training until validation scores don't improve for 100 rounds.\n",
            "[200]\ttrain's auc: 0.758245\ttrain's binary_logloss: 0.588356\tvalid's auc: 0.74559\tvalid's binary_logloss: 0.592547\n",
            "[400]\ttrain's auc: 0.774749\ttrain's binary_logloss: 0.570577\tvalid's auc: 0.752785\tvalid's binary_logloss: 0.579244\n",
            "[600]\ttrain's auc: 0.785919\ttrain's binary_logloss: 0.559026\tvalid's auc: 0.755307\tvalid's binary_logloss: 0.573287\n",
            "Early stopping, best iteration is:\n",
            "[561]\ttrain's auc: 0.78411\ttrain's binary_logloss: 0.56108\tvalid's auc: 0.755621\tvalid's binary_logloss: 0.574776\n"
          ]
        },
        {
          "output_type": "stream",
          "name": "stderr",
          "text": [
            "/usr/local/lib/python3.7/dist-packages/lightgbm/engine.py:118: UserWarning: Found `num_boost_round` in params. Will use it instead of argument\n",
            "  warnings.warn(\"Found `{}` in params. Will use it instead of argument\".format(alias))\n"
          ]
        },
        {
          "output_type": "stream",
          "name": "stdout",
          "text": [
            "Training until validation scores don't improve for 100 rounds.\n",
            "[200]\ttrain's auc: 0.759199\ttrain's binary_logloss: 0.588073\tvalid's auc: 0.743419\tvalid's binary_logloss: 0.590462\n",
            "[400]\ttrain's auc: 0.77528\ttrain's binary_logloss: 0.570172\tvalid's auc: 0.750572\tvalid's binary_logloss: 0.579787\n",
            "[600]\ttrain's auc: 0.784553\ttrain's binary_logloss: 0.560548\tvalid's auc: 0.752238\tvalid's binary_logloss: 0.571925\n",
            "[800]\ttrain's auc: 0.794684\ttrain's binary_logloss: 0.550536\tvalid's auc: 0.754341\tvalid's binary_logloss: 0.565247\n",
            "Early stopping, best iteration is:\n",
            "[760]\ttrain's auc: 0.792704\ttrain's binary_logloss: 0.552379\tvalid's auc: 0.753963\tvalid's binary_logloss: 0.564601\n"
          ]
        }
      ],
      "source": [
        "nonZero=fi_3rd_sorted['feature'].count()-fi_3rd_sorted.loc[fi_3rd_sorted['importance_normalized']==0,'feature'].count()\n",
        "metrics_dict={}\n",
        "loop_from =10\n",
        "loop_to = 1\n",
        "for n in range(nonZero-loop_from,nonZero-loop_to):\n",
        "  feats=list(fi_3rd_sorted['feature'].iloc[0:n:1])\n",
        "  feats = list(map(lambda x: str(x).replace(u' ', u''),feats))\n",
        "  feats.append('SK_ID_CURR')\n",
        "  feats_test = feats.copy()\n",
        "  feats.append('TARGET')  \n",
        "  revo_train=app_train_domain.loc[app_train_domain['NAME_CONTRACT_TYPE_Revolvingloans']==0,feats].reset_index(drop=True)\n",
        "  revo_test=app_test_domain.loc[app_test_domain['NAME_CONTRACT_TYPE_Revolvingloans']==0,feats_test].reset_index(drop=True)\n",
        "  submission_3rd_n, fi_3rd_n, metrics_3rd_n = model(revo_train, revo_test)\n",
        "#  submission_n.to_csv('/content/drive/MyDrive/submission'+str(n)+'.csv', index = False)\n",
        "  submission_3rd_n.to_csv('submission_3rd_'+str(n)+'.csv', index = False)\n",
        "  metrics_dict[n]=metrics_3rd_n.iloc[5,2]\n",
        "result=pd.DataFrame.from_dict(metrics_dict,orient='index')"
      ]
    },
    {
      "cell_type": "code",
      "source": [
        "print(result)"
      ],
      "metadata": {
        "colab": {
          "base_uri": "https://localhost:8080/"
        },
        "outputId": "377f96cb-6eec-4664-d3ad-3e5db72db243",
        "id": "ujiP5VFzmL3s"
      },
      "execution_count": 219,
      "outputs": [
        {
          "output_type": "stream",
          "name": "stdout",
          "text": [
            "            0\n",
            "197  0.756499\n",
            "198  0.756827\n",
            "199  0.757156\n",
            "200  0.756187\n",
            "201  0.756381\n",
            "202  0.756915\n",
            "203  0.756290\n",
            "204  0.756747\n",
            "205  0.756345\n"
          ]
        }
      ]
    },
    {
      "cell_type": "markdown",
      "source": [
        "35  0.754061\n",
        "\n",
        "45  0.754844\n",
        "\n",
        "55  0.754712\n",
        "\n",
        "65  0.754756\n",
        "\n",
        "76  0.755654\n",
        "\n",
        "85  0.755951\n",
        "\n",
        "95  0.755952\n",
        "\n",
        "115  0.755962\n",
        "\n",
        "135  0.756375\n",
        "\n",
        "197  0.756499\n",
        "\n",
        "198  0.756827\n",
        "\n",
        "199  0.757156\n",
        "\n",
        "200  0.756187\n",
        "\n",
        "201  0.756381\n",
        "\n",
        "202  0.756915　〇\n",
        "\n",
        "203  0.756290\n",
        "\n",
        "204  0.756747\n",
        "\n",
        "205  0.756345\n",
        "\n",
        "206  0.756544\n",
        "\n",
        "289  0.756694"
      ],
      "metadata": {
        "id": "d71JYoJMmWYW"
      }
    },
    {
      "cell_type": "code",
      "source": [
        "best_2nd = pd.read_csv('submission_2nd_35.csv')\n",
        "best_3rd = pd.read_csv('submission_3rd_202.csv')"
      ],
      "metadata": {
        "id": "CzZb1xotHDjg"
      },
      "execution_count": 220,
      "outputs": []
    },
    {
      "cell_type": "code",
      "source": [
        "best_submission=pd.concat([best_3rd,best_2nd],axis=0)"
      ],
      "metadata": {
        "id": "fQiOrUd6Hfz-"
      },
      "execution_count": 223,
      "outputs": []
    },
    {
      "cell_type": "code",
      "source": [
        "best_submission.sort_values(by='SK_ID_CURR',inplace=True)"
      ],
      "metadata": {
        "id": "D8y8nS6ZHyGw"
      },
      "execution_count": 225,
      "outputs": []
    },
    {
      "cell_type": "code",
      "source": [
        "best_submission.to_csv('best_submission.csv',index=False)"
      ],
      "metadata": {
        "id": "lKhz31pxH_SO"
      },
      "execution_count": 227,
      "outputs": []
    }
  ],
  "metadata": {
    "colab": {
      "collapsed_sections": [],
      "name": "July08_1400_0.76278.ipynb",
      "provenance": [],
      "include_colab_link": true
    },
    "kernelspec": {
      "display_name": "Python 3",
      "language": "python",
      "name": "python3"
    },
    "language_info": {
      "codemirror_mode": {
        "name": "ipython",
        "version": 3
      },
      "file_extension": ".py",
      "mimetype": "text/x-python",
      "name": "python",
      "nbconvert_exporter": "python",
      "pygments_lexer": "ipython3",
      "version": "3.6.6"
    }
  },
  "nbformat": 4,
  "nbformat_minor": 0
}