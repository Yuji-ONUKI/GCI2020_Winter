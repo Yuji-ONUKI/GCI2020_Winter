{
 "metadata": {
  "language_info": {
   "codemirror_mode": {
    "name": "ipython",
    "version": 3
   },
   "file_extension": ".py",
   "mimetype": "text/x-python",
   "name": "python",
   "nbconvert_exporter": "python",
   "pygments_lexer": "ipython3",
   "version": "3.6.5-final"
  },
  "orig_nbformat": 2,
  "kernelspec": {
   "name": "python3",
   "display_name": "Python 3",
   "language": "python"
  }
 },
 "nbformat": 4,
 "nbformat_minor": 2,
 "cells": [
  {
   "source": [
    "## Import Library"
   ],
   "cell_type": "markdown",
   "metadata": {}
  },
  {
   "cell_type": "code",
   "execution_count": 74,
   "metadata": {},
   "outputs": [],
   "source": [
    "import pandas as pd\n",
    "import numpy as np\n",
    "import matplotlib.pyplot as plt\n",
    "%matplotlib inline\n",
    "import seaborn as sns\n",
    "from sklearn.preprocessing import LabelBinarizer,LabelEncoder\n",
    "from sklearn.model_selection import train_test_split\n",
    "import lightgbm as lgbm\n",
    "from lightgbm import LGBMClassifier\n",
    "from tqdm import tqdm\n",
    "\n",
    "import warnings\n",
    "warnings.filterwarnings('ignore')\n",
    "pd.set_option('Display.max_columns',100)\n",
    "pd.set_option('Display.max_rows',100)"
   ]
  },
  {
   "source": [
    "## Import Dataset"
   ],
   "cell_type": "markdown",
   "metadata": {}
  },
  {
   "cell_type": "code",
   "execution_count": 75,
   "metadata": {},
   "outputs": [
    {
     "output_type": "stream",
     "name": "stdout",
     "text": [
      "df:\n100000 rows × 100 columns\n\n"
     ]
    }
   ],
   "source": [
    "path    = \"../final_assignment_public/Telecom_customer_churn.csv\"\n",
    "df      = pd.read_csv( path )\n",
    "\n",
    "print( 'df:\\n{} rows × {} columns\\n'.format( df.shape[0], df.shape[1] ) )"
   ]
  },
  {
   "cell_type": "code",
   "execution_count": 76,
   "metadata": {},
   "outputs": [
    {
     "output_type": "stream",
     "name": "stdout",
     "text": [
      "df_feature:\n22 rows × 1 columns\n\n"
     ]
    }
   ],
   "source": [
    "path = '../csv/f_imp_core.csv'\n",
    "df_feature = pd.read_csv( path, index_col=0 )\n",
    "\n",
    "print( 'df_feature:\\n{} rows × {} columns\\n'.format( df_feature.shape[0], df_feature.shape[1] ) )"
   ]
  },
  {
   "cell_type": "code",
   "execution_count": 77,
   "metadata": {},
   "outputs": [],
   "source": [
    "# 重要度が高い22種類のカラムだけ取得\n",
    "df_core = df[df_feature['feature']]\n",
    "df_core['churn'] = df['churn']"
   ]
  },
  {
   "cell_type": "code",
   "execution_count": 81,
   "metadata": {},
   "outputs": [
    {
     "output_type": "execute_result",
     "data": {
      "text/plain": [
       "pandas.core.frame.DataFrame"
      ]
     },
     "metadata": {},
     "execution_count": 81
    }
   ],
   "source": [
    "type( df_core['eqpdays']"
   ]
  },
  {
   "source": [
    "## Data Preprocessing"
   ],
   "cell_type": "markdown",
   "metadata": {}
  },
  {
   "source": [
    "### Categorical data"
   ],
   "cell_type": "markdown",
   "metadata": {}
  },
  {
   "cell_type": "code",
   "execution_count": null,
   "metadata": {},
   "outputs": [],
   "source": [
    "# カテゴリカル変数を表示\n",
    "x_cat = df_core[df_core.select_dtypes( include=object ).columns].columns\n",
    "\n",
    "# カテゴリカル変数を落とす(理解不能なため)\n",
    "df_core = df_core.drop( columns=x_cat )"
   ]
  },
  {
   "source": [
    "### Numerical data"
   ],
   "cell_type": "markdown",
   "metadata": {}
  },
  {
   "cell_type": "code",
   "execution_count": null,
   "metadata": {},
   "outputs": [],
   "source": [
    "def check_null( _df ):\n",
    "    print( _df.isnull().sum() )"
   ]
  },
  {
   "cell_type": "code",
   "execution_count": null,
   "metadata": {},
   "outputs": [],
   "source": [
    "# 欠損が多いカラムを落とす\n",
    "df_core = df_core.drop( columns='lor' )"
   ]
  },
  {
   "cell_type": "code",
   "execution_count": null,
   "metadata": {},
   "outputs": [],
   "source": [
    "# 不要なカラム(groupbyの結果，解約者と非解約者で差がないデータ)を落とす\n",
    "df_core = df_core[ ['churn', 'eqpdays', 'change_mou', 'hnd_price'] ]"
   ]
  },
  {
   "cell_type": "code",
   "execution_count": null,
   "metadata": {},
   "outputs": [],
   "source": [
    "# 欠損値を埋める\n",
    "df_core['eqpdays']      = df_core['eqpdays'].fillna( df_core['eqpdays'].median() )\n",
    "df_core['hnd_price']    = df_core['hnd_price'].fillna( df_core['hnd_price'].median() )\n",
    "df_core['change_mou']   = df_core['change_mou'].fillna( df_core['change_mou'].median() )\n",
    "\n",
    "check_null( df_core )"
   ]
  },
  {
   "source": [
    "## EDA"
   ],
   "cell_type": "markdown",
   "metadata": {}
  },
  {
   "cell_type": "code",
   "execution_count": null,
   "metadata": {},
   "outputs": [],
   "source": [
    "df_core['churn'].value_counts()"
   ]
  },
  {
   "cell_type": "code",
   "execution_count": null,
   "metadata": {},
   "outputs": [],
   "source": [
    "def plot_churn_ratio():\n",
    "    plt.rcParams[\"figure.figsize\"] = (7, 7)\n",
    "    plt.pie( df_core['churn'].value_counts(), counterclock=True, startangle=90, colors=['tab:blue','tab:orange'])\n",
    "    plt.show()"
   ]
  },
  {
   "cell_type": "code",
   "execution_count": null,
   "metadata": {},
   "outputs": [],
   "source": [
    "plot_churn_ratio()"
   ]
  },
  {
   "source": [
    "### 解約者の特徴分析をおこなうために手がかりとする3種類のデータ\n",
    "|  重要度  |  カラム名  |  内容  |  分類  |\n",
    "| ---- | ---- | ---- | ---- |\n",
    "|  1  |  eqpdays  |  現在の端末の使用日数  |  使用日数  |\n",
    "|  2  |  change_mou  |  過去3か月の毎月の平均使用時間の変化率(%)  |  使用時間  |\n",
    "|  3  |  hnd_price  |  現在の携帯電話の料金  |  料金  |"
   ],
   "cell_type": "markdown",
   "metadata": {}
  },
  {
   "source": [
    "### 解約者の特徴を分析する"
   ],
   "cell_type": "markdown",
   "metadata": {}
  },
  {
   "cell_type": "code",
   "execution_count": null,
   "metadata": {},
   "outputs": [],
   "source": [
    "# 解約者と非解約者で，明らかに差がありそうなデータを探す\n",
    "for column_name in df_core.columns:\n",
    "    print( '{}\\n'.format( df_core.groupby('churn')[column_name].mean() ) )"
   ]
  },
  {
   "cell_type": "code",
   "execution_count": null,
   "metadata": {},
   "outputs": [],
   "source": [
    "# 解約者と非解約者で，明らかに差がありそうなデータを探す\n",
    "for column_name in df_core.columns:\n",
    "    print( '{}\\n'.format( df_core.groupby('churn')[column_name].median() ) )"
   ]
  },
  {
   "cell_type": "code",
   "execution_count": null,
   "metadata": {},
   "outputs": [],
   "source": [
    "# 解約者と非解約者で，明らかに差がありそうなデータを探す\n",
    "for column_name in df_core.columns:\n",
    "    print( '{}\\n'.format( df_core.groupby('churn')[column_name].std() ) )"
   ]
  },
  {
   "cell_type": "code",
   "execution_count": null,
   "metadata": {},
   "outputs": [],
   "source": [
    "def plot( _y, _ylabel ):\n",
    "    plt.rcParams[\"figure.figsize\"] = (10, 10)\n",
    "    # plt.title( 'Cumulative Feature Importance', fontsize=24 )\n",
    "\n",
    "    # parameters\n",
    "    x = [0, 1]\n",
    "    bar_width = 0.5\n",
    "    line_width = 0.5\n",
    "\n",
    "    plt.bar( x[0], _y[0], bar_width, edgecolor='black', linewidth=line_width )\n",
    "    plt.bar( x[1], _y[1], bar_width, edgecolor='black', linewidth=line_width )\n",
    "\n",
    "    plt.xticks( [0, 1], fontsize=20 )\n",
    "    plt.yticks( fontsize=20 )\n",
    "    plt.xlabel( 'churn', fontsize=24 )\n",
    "    plt.ylabel( _ylabel, fontsize=24 )\n",
    "    plt.show()"
   ]
  },
  {
   "source": [
    "#### 1. eqpday(現在の端末の使用日数)"
   ],
   "cell_type": "markdown",
   "metadata": {}
  },
  {
   "cell_type": "code",
   "execution_count": null,
   "metadata": {},
   "outputs": [],
   "source": [
    "plot( df_core.groupby('churn')['eqpdays'].mean(), 'Mean of eqpdays' )"
   ]
  },
  {
   "source": [
    "#### 2. change_mou(過去3か月の月間平均使用時間の変化率(%))"
   ],
   "cell_type": "markdown",
   "metadata": {}
  },
  {
   "cell_type": "code",
   "execution_count": null,
   "metadata": {},
   "outputs": [],
   "source": [
    "# 平均と標準偏差を計算\n",
    "change_mou_mean = df_core['change_mou'].mean()\n",
    "change_mou_std = df_core['change_mou'].std()\n",
    "\n",
    "# 閾値を計算\n",
    "change_mou_th_upper = change_mou_mean + 2*change_mou_std\n",
    "change_mou_th_lower = change_mou_mean - 2*change_mou_std\n",
    "\n",
    "# 外れ値を除去\n",
    "df_change_mou = df_core[ (df_core['change_mou'] < change_mou_th_upper) & (df_core['change_mou'] > change_mou_th_lower) ]\n",
    "df_change_mou = df_change_mou[ ['change_mou', 'churn'] ]"
   ]
  },
  {
   "cell_type": "code",
   "execution_count": null,
   "metadata": {},
   "outputs": [],
   "source": [
    "# plot( df_core.groupby('churn')['change_mou'].mean(), 'Mean of change_mou(%)' )\n",
    "plot( df_change_mou.groupby('churn')['change_mou'].mean(), 'Mean of change_mou(%)' )"
   ]
  },
  {
   "source": [
    "#### 3. hnd_price(現在の携帯電話の価格)"
   ],
   "cell_type": "markdown",
   "metadata": {}
  },
  {
   "cell_type": "code",
   "execution_count": null,
   "metadata": {},
   "outputs": [],
   "source": [
    "plot( df_core.groupby('churn')['hnd_price'].mean(), 'Mean of hnd_price' )"
   ]
  },
  {
   "source": [
    "## Export to csv file"
   ],
   "cell_type": "markdown",
   "metadata": {}
  },
  {
   "cell_type": "code",
   "execution_count": null,
   "metadata": {},
   "outputs": [],
   "source": [
    "df_core.to_csv( '../csv/df_core.csv' )"
   ]
  },
  {
   "source": [
    "## 3つの特徴量について，非解約者の分布を確認"
   ],
   "cell_type": "markdown",
   "metadata": {}
  },
  {
   "cell_type": "code",
   "execution_count": null,
   "metadata": {},
   "outputs": [],
   "source": [
    "df_churn0 = df_core[df_core['churn'] == 0]\n",
    "df_churn1 = df_core[df_core['churn'] == 1]"
   ]
  },
  {
   "cell_type": "code",
   "execution_count": null,
   "metadata": {},
   "outputs": [],
   "source": [
    "def plot_dist( _df, _feature, _bins=100 ):\n",
    "    plt.rcParams[\"figure.figsize\"] = (10, 10)\n",
    "\n",
    "    sns.distplot( _df[_feature], kde=True, bins=_bins, color='#1e77b4' )"
   ]
  },
  {
   "cell_type": "code",
   "execution_count": null,
   "metadata": {},
   "outputs": [],
   "source": [
    "def plot_2dist( _df0, _df1,  _feature, _bins=100, _kde=True ):\n",
    "    plt.rcParams[\"figure.figsize\"] = (10, 10)\n",
    "\n",
    "    sns.distplot( _df0[_feature], kde=_kde, bins=_bins, color='#1e77b4' )\n",
    "    sns.distplot( _df1[_feature], kde=_kde, bins=_bins, color='#f97f10' )\n",
    "    # sns.distplot( _df0[_feature], kde=_kde, color='#1e77b4' )\n",
    "    # sns.distplot( _df1[_feature], kde=_kde, color='#f97f10' )"
   ]
  },
  {
   "source": [
    "### eqpdays"
   ],
   "cell_type": "markdown",
   "metadata": {}
  },
  {
   "cell_type": "code",
   "execution_count": null,
   "metadata": {},
   "outputs": [],
   "source": [
    "plot_2dist( df_churn0, df_churn1, 'eqpdays', 200 )"
   ]
  },
  {
   "source": [
    "### hnd_price"
   ],
   "cell_type": "markdown",
   "metadata": {}
  },
  {
   "cell_type": "code",
   "execution_count": null,
   "metadata": {},
   "outputs": [],
   "source": [
    "def plot_box( _df, _feature ):\n",
    "    plt.rcParams[\"figure.figsize\"] = (10, 5)\n",
    "\n",
    "    sns.boxplot( _df[_feature], color='tab:blue', linewidth=2 )"
   ]
  },
  {
   "cell_type": "code",
   "execution_count": null,
   "metadata": {},
   "outputs": [],
   "source": [
    "# plot_dist( df_churn0, 'hnd_price', 30 )\n",
    "\n",
    "display( df_churn0['hnd_price'].describe() )\n",
    "plot_box( df_churn0, 'hnd_price' )"
   ]
  },
  {
   "cell_type": "code",
   "execution_count": null,
   "metadata": {},
   "outputs": [],
   "source": [
    "plot_2dist( df_churn0, df_churn1, 'hnd_price', 100 )"
   ]
  },
  {
   "source": [
    "### change_mou"
   ],
   "cell_type": "markdown",
   "metadata": {}
  },
  {
   "cell_type": "code",
   "execution_count": null,
   "metadata": {},
   "outputs": [],
   "source": [
    "df_change_mou_churn0 = df_change_mou[df_change_mou['churn'] == 0]\n",
    "df_change_mou_churn1 = df_change_mou[df_change_mou['churn'] == 1]"
   ]
  },
  {
   "cell_type": "code",
   "execution_count": null,
   "metadata": {},
   "outputs": [],
   "source": [
    "plot_2dist( df_change_mou_churn0, df_change_mou_churn1, 'change_mou', 100, True )"
   ]
  },
  {
   "cell_type": "code",
   "execution_count": null,
   "metadata": {},
   "outputs": [],
   "source": [
    "# plot_box( df_change_mou_churn0, 'change_mou' )\n",
    "# display( df_change_mou_churn0['change_mou'].describe() )\n",
    "\n",
    "plot_box( df_churn0, 'change_mou' )\n",
    "display( df_churn0['change_mou'].describe() )"
   ]
  },
  {
   "source": [
    "### change_rev"
   ],
   "cell_type": "markdown",
   "metadata": {}
  },
  {
   "cell_type": "code",
   "execution_count": null,
   "metadata": {},
   "outputs": [],
   "source": [
    "df_change_rev_churn0 = df_change_rev[df_change_rev['churn'] == 0]\n",
    "df_change_rev_churn1 = df_change_rev[df_change_rev['churn'] == 1]"
   ]
  },
  {
   "cell_type": "code",
   "execution_count": null,
   "metadata": {},
   "outputs": [],
   "source": [
    "plot_2dist( df_change_rev_churn0, df_change_rev_churn1, 'change_rev', 80, False )"
   ]
  },
  {
   "cell_type": "code",
   "execution_count": null,
   "metadata": {},
   "outputs": [],
   "source": [
    "plot_box( df_change_rev_churn0, 'change_rev' )\n",
    "display( df_change_rev_churn0['change_rev'].describe() )"
   ]
  },
  {
   "cell_type": "code",
   "execution_count": null,
   "metadata": {},
   "outputs": [],
   "source": [
    "df_churn0_tmp = df[df['churn'] == 0]\n",
    "df_churn1_tmp = df[df['churn'] == 1]\n",
    "\n",
    "plot_box( df_churn0_tmp, 'rev_Mean' )\n",
    "display( df_churn0_tmp['rev_Mean'].describe() )"
   ]
  },
  {
   "cell_type": "code",
   "execution_count": null,
   "metadata": {},
   "outputs": [],
   "source": []
  },
  {
   "cell_type": "code",
   "execution_count": null,
   "metadata": {},
   "outputs": [],
   "source": [
    "df_core"
   ]
  },
  {
   "cell_type": "code",
   "execution_count": null,
   "metadata": {},
   "outputs": [],
   "source": [
    "def pair_plot( _df ):\n",
    "    plt.rcParams[\"figure.figsize\"] = (20, 20)\n",
    "    # sns.pairplot( _df, hue='churn', vars=['eqpdays'] )\n",
    "    sns.pairplot( _df, hue='churn' )"
   ]
  },
  {
   "cell_type": "code",
   "execution_count": null,
   "metadata": {},
   "outputs": [],
   "source": [
    "pair_plot( df_core[:1000] )"
   ]
  },
  {
   "source": [
    "### change_mouとchange_revの相関を可視化"
   ],
   "cell_type": "markdown",
   "metadata": {}
  },
  {
   "cell_type": "code",
   "execution_count": null,
   "metadata": {},
   "outputs": [],
   "source": [
    "# 外れ値を除去\n",
    "df_core['change_mou'].idxmax()\n",
    "df_core.iloc[39170]\n",
    "df_core = df_core.drop( 39170 )"
   ]
  },
  {
   "cell_type": "code",
   "execution_count": null,
   "metadata": {},
   "outputs": [],
   "source": [
    "# 相関係数を計算\n",
    "df_core.corr()\n",
    "\n",
    "display( df_churn0.corr(), df_churn1.corr() )"
   ]
  },
  {
   "cell_type": "code",
   "execution_count": null,
   "metadata": {},
   "outputs": [],
   "source": [
    "def scatter( _df, _x, _y ):\n",
    "    plt.rcParams[\"figure.figsize\"] = (10, 10)\n",
    "    # _df.plot( kind='scatter', x='change_mou', y='change_rev', c='churn', cmap='viridis' )\n",
    "    _df.plot( kind='scatter', x=_x, y=_y, c='black', alpha=0.1, s=5, xlim=[-2000, 2000], ylim=[-1000, 1000] )"
   ]
  },
  {
   "cell_type": "code",
   "execution_count": null,
   "metadata": {},
   "outputs": [],
   "source": [
    "# scatter( df_core, 'eqpdays', 'hnd_price' )\n",
    "scatter( df_core, 'change_mou', 'change_rev' )"
   ]
  },
  {
   "cell_type": "code",
   "execution_count": null,
   "metadata": {},
   "outputs": [],
   "source": [
    "def lmplot():\n",
    "    sns.lmplot( data=df_core, x='change_mou', y='change_rev', hue='churn', col='churn', height=7, aspect=1 )\n",
    "    # plt.savefig( '../figures/corr_mou-rev.png' )"
   ]
  },
  {
   "cell_type": "code",
   "execution_count": null,
   "metadata": {},
   "outputs": [],
   "source": [
    "lmplot()"
   ]
  },
  {
   "cell_type": "code",
   "execution_count": null,
   "metadata": {},
   "outputs": [],
   "source": []
  }
 ]
}