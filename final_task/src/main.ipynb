{
 "metadata": {
  "language_info": {
   "codemirror_mode": {
    "name": "ipython",
    "version": 3
   },
   "file_extension": ".py",
   "mimetype": "text/x-python",
   "name": "python",
   "nbconvert_exporter": "python",
   "pygments_lexer": "ipython3",
   "version": "3.6.5-final"
  },
  "orig_nbformat": 2,
  "kernelspec": {
   "name": "python3",
   "display_name": "Python 3",
   "language": "python"
  }
 },
 "nbformat": 4,
 "nbformat_minor": 2,
 "cells": [
  {
   "source": [
    "## Import Library"
   ],
   "cell_type": "markdown",
   "metadata": {}
  },
  {
   "cell_type": "code",
   "execution_count": 15,
   "metadata": {},
   "outputs": [],
   "source": [
    "import pandas as pd\n",
    "import numpy as np\n",
    "import matplotlib.pyplot as plt\n",
    "%matplotlib inline\n",
    "import seaborn as sns\n",
    "from sklearn.preprocessing import LabelBinarizer,LabelEncoder\n",
    "from sklearn.model_selection import train_test_split\n",
    "import lightgbm as lgbm\n",
    "from lightgbm import LGBMClassifier\n",
    "from tqdm import tqdm\n",
    "\n",
    "import warnings\n",
    "warnings.filterwarnings('ignore')\n",
    "pd.set_option('Display.max_columns',100)\n",
    "pd.set_option('Display.max_rows',100)"
   ]
  },
  {
   "source": [
    "## Import Dataset"
   ],
   "cell_type": "markdown",
   "metadata": {}
  },
  {
   "cell_type": "code",
   "execution_count": 16,
   "metadata": {},
   "outputs": [
    {
     "output_type": "stream",
     "name": "stdout",
     "text": [
      "df:\n100000 rows × 100 columns\n\n"
     ]
    }
   ],
   "source": [
    "# Read csv file\n",
    "path    = \"../../final_assignment_public/Telecom_customer_churn.csv\"\n",
    "df      = pd.read_csv( path )\n",
    "\n",
    "print( 'df:\\n{} rows × {} columns\\n'.format( df.shape[0], df.shape[1] ) )"
   ]
  },
  {
   "cell_type": "code",
   "execution_count": 17,
   "metadata": {},
   "outputs": [
    {
     "output_type": "stream",
     "name": "stdout",
     "text": [
      "df:\n22 rows × 1 columns\n\n"
     ]
    }
   ],
   "source": [
    "# Read csv file\n",
    "path = '../csv/f_imp_core.csv'\n",
    "df_feature = pd.read_csv( path, index_col=0 )\n",
    "\n",
    "print( 'df:\\n{} rows × {} columns\\n'.format( df_feature.shape[0], df_feature.shape[1] ) )"
   ]
  },
  {
   "source": [
    "## データの説明（日本語訳）\n",
    "|  重要度  |  カラム名  |  内容  |\n",
    "| ---- | ---- | ---- |\n",
    "|  1  |  eqpdays  |  現在の端末の使用日数  |\n",
    "|  2  |  months  |  契約してから何ヶ月か  |\n",
    "|  3  |  change_mou  |  過去3か月の平均に対する月間使用時間の変化率  |\n",
    "|  4  |  mou_Mean  |  毎月の平均使用分数  |\n",
    "|  5  |  totmrc_Mean  |  毎月の請求額の平均  |\n",
    "|  6  |  hnd_price  |  現在の携帯電話の価格  |\n",
    "|  7  |  avgqty  |  顧客の生涯にわたる平均月間通話数  |\n",
    "|  8(NG)  |  lor  |  居住期間  |\n",
    "|  9(NG)  |  mou_cvce_Mean  |  完了した音声通話の平均使用時間  |\n",
    "|  10 |  change_rev  |  過去3か月の平均に対する月間収益の変化率  |\n",
    "|  11(NG) |  Customer_ID  |  NaN  |\n",
    "|  12 |  totcalls  |  顧客の生涯にわたる通話の総数  |\n",
    "|  13 |  avg3mou  |  過去3か月間の平均月間使用時間  |\n",
    "|  14(cat) |  crclscod  |  クレジットクラスコード  |\n",
    "|  15(cat) |  refurb_new  |  ハンドセット：再生品または新品  |\n",
    "|  16(cat) |  hnd_webcap  |  ハンドセットのWeb機能  |\n",
    "|  17(NG) |  avgrev  |  顧客の生涯にわたる平均月間収益  |\n",
    "|  18(NG) |  ovrmou_Mean  |  使用の平均超過分数  |\n",
    "|  19(NG) |  drop_vce_Mean  |  切断された（失敗した）音声通話の平均数  |\n",
    "|  20(NG) |  phones  |  発行された携帯電話の数  |\n",
    "|  21(NG) |  ovrrev_Mean  |  平均超過収入  |\n",
    "|  22(NG) |  mouiwylisv_Mean  |  アウトバウンドワイヤレスからワイヤレスへの音声通話の平均使用時間  |"
   ],
   "cell_type": "markdown",
   "metadata": {}
  },
  {
   "cell_type": "code",
   "execution_count": 19,
   "metadata": {},
   "outputs": [
    {
     "output_type": "execute_result",
     "data": {
      "text/plain": [
       "       eqpdays  months  change_mou  mou_Mean  totmrc_Mean  hnd_price  avgqty  \\\n",
       "0        361.0      61     -157.25    219.25       22.500  149.98999   32.69   \n",
       "1        240.0      56      532.25    482.75       37.425        NaN  265.89   \n",
       "2       1504.0      58       -4.25     10.25       16.990   29.98999  140.86   \n",
       "3       1812.0      60       -1.50      7.50       38.000   29.98999   30.81   \n",
       "4        434.0      57       38.50    570.50       71.980  149.98999   79.50   \n",
       "...        ...     ...         ...       ...          ...        ...     ...   \n",
       "99995    773.0      25         NaN       NaN          NaN   29.98999  178.62   \n",
       "99996    835.0      27         NaN       NaN          NaN   29.98999  181.45   \n",
       "99997    433.0      31         NaN       NaN          NaN  199.98999   65.16   \n",
       "99998     75.0      25         NaN       NaN          NaN  149.98999  472.43   \n",
       "99999      5.0      25         NaN       NaN          NaN  149.98999   64.79   \n",
       "\n",
       "        lor  mou_cvce_Mean  change_rev  Customer_ID  totcalls  avg3mou  \\\n",
       "0      15.0      90.643333    -18.9975      1000001      1652      272   \n",
       "1       1.0     189.396667     50.9875      1000002     14654      305   \n",
       "2       7.0       5.426667      0.0000      1000003      7903       12   \n",
       "3       6.0       8.410000      0.0000      1000004      1502        8   \n",
       "4       5.0     285.233333      0.0000      1000005      4485      558   \n",
       "...     ...            ...         ...          ...       ...      ...   \n",
       "99995  15.0      94.866667         NaN      1099996      3771      410   \n",
       "99996   9.0     100.760000         NaN      1099997      3675      382   \n",
       "99997   NaN       0.000000         NaN      1099998      1271      662   \n",
       "99998   NaN     564.233333         NaN      1099999     10082     1031   \n",
       "99999   2.0     164.436667         NaN      1100000      1303      105   \n",
       "\n",
       "      crclscod refurb_new hnd_webcap  avgrev  ovrmou_Mean  drop_vce_Mean  \\\n",
       "0            A          N       WCMB   29.66         0.00       0.666667   \n",
       "1           EA          N         WC   51.53        22.75       8.333333   \n",
       "2            C          N        NaN   34.54         0.00       0.333333   \n",
       "3            B          N        NaN   40.45         0.00       0.000000   \n",
       "4            A          N       WCMB   38.69         0.00       9.666667   \n",
       "...        ...        ...        ...     ...          ...            ...   \n",
       "99995        B          N         WC   74.34          NaN       2.000000   \n",
       "99996       CY          N         WC   72.59          NaN       3.000000   \n",
       "99997       DA          N       WCMB   55.58          NaN       0.000000   \n",
       "99998       EA          N       WCMB  123.49          NaN      18.666667   \n",
       "99999        B          N       WCMB   46.63          NaN       5.666667   \n",
       "\n",
       "       phones  ovrrev_Mean  mouiwylisv_Mean  churn  \n",
       "0         2.0          0.0         0.000000      1  \n",
       "1         7.0          9.1         3.696667      0  \n",
       "2         2.0          0.0         0.000000      1  \n",
       "3         1.0          0.0         0.000000      0  \n",
       "4         6.0          0.0         0.366667      0  \n",
       "...       ...          ...              ...    ...  \n",
       "99995     1.0          NaN         0.000000      1  \n",
       "99996     1.0          NaN         0.000000      0  \n",
       "99997     2.0          NaN         0.000000      0  \n",
       "99998     7.0          NaN        32.883333      0  \n",
       "99999     3.0          NaN         0.000000      1  \n",
       "\n",
       "[100000 rows x 23 columns]"
      ],
      "text/html": "<div>\n<style scoped>\n    .dataframe tbody tr th:only-of-type {\n        vertical-align: middle;\n    }\n\n    .dataframe tbody tr th {\n        vertical-align: top;\n    }\n\n    .dataframe thead th {\n        text-align: right;\n    }\n</style>\n<table border=\"1\" class=\"dataframe\">\n  <thead>\n    <tr style=\"text-align: right;\">\n      <th></th>\n      <th>eqpdays</th>\n      <th>months</th>\n      <th>change_mou</th>\n      <th>mou_Mean</th>\n      <th>totmrc_Mean</th>\n      <th>hnd_price</th>\n      <th>avgqty</th>\n      <th>lor</th>\n      <th>mou_cvce_Mean</th>\n      <th>change_rev</th>\n      <th>Customer_ID</th>\n      <th>totcalls</th>\n      <th>avg3mou</th>\n      <th>crclscod</th>\n      <th>refurb_new</th>\n      <th>hnd_webcap</th>\n      <th>avgrev</th>\n      <th>ovrmou_Mean</th>\n      <th>drop_vce_Mean</th>\n      <th>phones</th>\n      <th>ovrrev_Mean</th>\n      <th>mouiwylisv_Mean</th>\n      <th>churn</th>\n    </tr>\n  </thead>\n  <tbody>\n    <tr>\n      <th>0</th>\n      <td>361.0</td>\n      <td>61</td>\n      <td>-157.25</td>\n      <td>219.25</td>\n      <td>22.500</td>\n      <td>149.98999</td>\n      <td>32.69</td>\n      <td>15.0</td>\n      <td>90.643333</td>\n      <td>-18.9975</td>\n      <td>1000001</td>\n      <td>1652</td>\n      <td>272</td>\n      <td>A</td>\n      <td>N</td>\n      <td>WCMB</td>\n      <td>29.66</td>\n      <td>0.00</td>\n      <td>0.666667</td>\n      <td>2.0</td>\n      <td>0.0</td>\n      <td>0.000000</td>\n      <td>1</td>\n    </tr>\n    <tr>\n      <th>1</th>\n      <td>240.0</td>\n      <td>56</td>\n      <td>532.25</td>\n      <td>482.75</td>\n      <td>37.425</td>\n      <td>NaN</td>\n      <td>265.89</td>\n      <td>1.0</td>\n      <td>189.396667</td>\n      <td>50.9875</td>\n      <td>1000002</td>\n      <td>14654</td>\n      <td>305</td>\n      <td>EA</td>\n      <td>N</td>\n      <td>WC</td>\n      <td>51.53</td>\n      <td>22.75</td>\n      <td>8.333333</td>\n      <td>7.0</td>\n      <td>9.1</td>\n      <td>3.696667</td>\n      <td>0</td>\n    </tr>\n    <tr>\n      <th>2</th>\n      <td>1504.0</td>\n      <td>58</td>\n      <td>-4.25</td>\n      <td>10.25</td>\n      <td>16.990</td>\n      <td>29.98999</td>\n      <td>140.86</td>\n      <td>7.0</td>\n      <td>5.426667</td>\n      <td>0.0000</td>\n      <td>1000003</td>\n      <td>7903</td>\n      <td>12</td>\n      <td>C</td>\n      <td>N</td>\n      <td>NaN</td>\n      <td>34.54</td>\n      <td>0.00</td>\n      <td>0.333333</td>\n      <td>2.0</td>\n      <td>0.0</td>\n      <td>0.000000</td>\n      <td>1</td>\n    </tr>\n    <tr>\n      <th>3</th>\n      <td>1812.0</td>\n      <td>60</td>\n      <td>-1.50</td>\n      <td>7.50</td>\n      <td>38.000</td>\n      <td>29.98999</td>\n      <td>30.81</td>\n      <td>6.0</td>\n      <td>8.410000</td>\n      <td>0.0000</td>\n      <td>1000004</td>\n      <td>1502</td>\n      <td>8</td>\n      <td>B</td>\n      <td>N</td>\n      <td>NaN</td>\n      <td>40.45</td>\n      <td>0.00</td>\n      <td>0.000000</td>\n      <td>1.0</td>\n      <td>0.0</td>\n      <td>0.000000</td>\n      <td>0</td>\n    </tr>\n    <tr>\n      <th>4</th>\n      <td>434.0</td>\n      <td>57</td>\n      <td>38.50</td>\n      <td>570.50</td>\n      <td>71.980</td>\n      <td>149.98999</td>\n      <td>79.50</td>\n      <td>5.0</td>\n      <td>285.233333</td>\n      <td>0.0000</td>\n      <td>1000005</td>\n      <td>4485</td>\n      <td>558</td>\n      <td>A</td>\n      <td>N</td>\n      <td>WCMB</td>\n      <td>38.69</td>\n      <td>0.00</td>\n      <td>9.666667</td>\n      <td>6.0</td>\n      <td>0.0</td>\n      <td>0.366667</td>\n      <td>0</td>\n    </tr>\n    <tr>\n      <th>...</th>\n      <td>...</td>\n      <td>...</td>\n      <td>...</td>\n      <td>...</td>\n      <td>...</td>\n      <td>...</td>\n      <td>...</td>\n      <td>...</td>\n      <td>...</td>\n      <td>...</td>\n      <td>...</td>\n      <td>...</td>\n      <td>...</td>\n      <td>...</td>\n      <td>...</td>\n      <td>...</td>\n      <td>...</td>\n      <td>...</td>\n      <td>...</td>\n      <td>...</td>\n      <td>...</td>\n      <td>...</td>\n      <td>...</td>\n    </tr>\n    <tr>\n      <th>99995</th>\n      <td>773.0</td>\n      <td>25</td>\n      <td>NaN</td>\n      <td>NaN</td>\n      <td>NaN</td>\n      <td>29.98999</td>\n      <td>178.62</td>\n      <td>15.0</td>\n      <td>94.866667</td>\n      <td>NaN</td>\n      <td>1099996</td>\n      <td>3771</td>\n      <td>410</td>\n      <td>B</td>\n      <td>N</td>\n      <td>WC</td>\n      <td>74.34</td>\n      <td>NaN</td>\n      <td>2.000000</td>\n      <td>1.0</td>\n      <td>NaN</td>\n      <td>0.000000</td>\n      <td>1</td>\n    </tr>\n    <tr>\n      <th>99996</th>\n      <td>835.0</td>\n      <td>27</td>\n      <td>NaN</td>\n      <td>NaN</td>\n      <td>NaN</td>\n      <td>29.98999</td>\n      <td>181.45</td>\n      <td>9.0</td>\n      <td>100.760000</td>\n      <td>NaN</td>\n      <td>1099997</td>\n      <td>3675</td>\n      <td>382</td>\n      <td>CY</td>\n      <td>N</td>\n      <td>WC</td>\n      <td>72.59</td>\n      <td>NaN</td>\n      <td>3.000000</td>\n      <td>1.0</td>\n      <td>NaN</td>\n      <td>0.000000</td>\n      <td>0</td>\n    </tr>\n    <tr>\n      <th>99997</th>\n      <td>433.0</td>\n      <td>31</td>\n      <td>NaN</td>\n      <td>NaN</td>\n      <td>NaN</td>\n      <td>199.98999</td>\n      <td>65.16</td>\n      <td>NaN</td>\n      <td>0.000000</td>\n      <td>NaN</td>\n      <td>1099998</td>\n      <td>1271</td>\n      <td>662</td>\n      <td>DA</td>\n      <td>N</td>\n      <td>WCMB</td>\n      <td>55.58</td>\n      <td>NaN</td>\n      <td>0.000000</td>\n      <td>2.0</td>\n      <td>NaN</td>\n      <td>0.000000</td>\n      <td>0</td>\n    </tr>\n    <tr>\n      <th>99998</th>\n      <td>75.0</td>\n      <td>25</td>\n      <td>NaN</td>\n      <td>NaN</td>\n      <td>NaN</td>\n      <td>149.98999</td>\n      <td>472.43</td>\n      <td>NaN</td>\n      <td>564.233333</td>\n      <td>NaN</td>\n      <td>1099999</td>\n      <td>10082</td>\n      <td>1031</td>\n      <td>EA</td>\n      <td>N</td>\n      <td>WCMB</td>\n      <td>123.49</td>\n      <td>NaN</td>\n      <td>18.666667</td>\n      <td>7.0</td>\n      <td>NaN</td>\n      <td>32.883333</td>\n      <td>0</td>\n    </tr>\n    <tr>\n      <th>99999</th>\n      <td>5.0</td>\n      <td>25</td>\n      <td>NaN</td>\n      <td>NaN</td>\n      <td>NaN</td>\n      <td>149.98999</td>\n      <td>64.79</td>\n      <td>2.0</td>\n      <td>164.436667</td>\n      <td>NaN</td>\n      <td>1100000</td>\n      <td>1303</td>\n      <td>105</td>\n      <td>B</td>\n      <td>N</td>\n      <td>WCMB</td>\n      <td>46.63</td>\n      <td>NaN</td>\n      <td>5.666667</td>\n      <td>3.0</td>\n      <td>NaN</td>\n      <td>0.000000</td>\n      <td>1</td>\n    </tr>\n  </tbody>\n</table>\n<p>100000 rows × 23 columns</p>\n</div>"
     },
     "metadata": {},
     "execution_count": 19
    }
   ],
   "source": [
    "# 必要なカラムだけ取得\n",
    "df_core = df[df_feature['feature']]\n",
    "df_core['churn'] = df['churn']\n",
    "df_core"
   ]
  },
  {
   "source": [
    "## Data Preprocessing"
   ],
   "cell_type": "markdown",
   "metadata": {}
  },
  {
   "source": [
    "### Categorical data"
   ],
   "cell_type": "markdown",
   "metadata": {}
  },
  {
   "cell_type": "code",
   "execution_count": 42,
   "metadata": {},
   "outputs": [
    {
     "output_type": "execute_result",
     "data": {
      "text/plain": [
       "       eqpdays  months  change_mou  mou_Mean  totmrc_Mean  hnd_price  avgqty  \\\n",
       "0        361.0      61     -157.25    219.25       22.500  149.98999   32.69   \n",
       "1        240.0      56      532.25    482.75       37.425        NaN  265.89   \n",
       "2       1504.0      58       -4.25     10.25       16.990   29.98999  140.86   \n",
       "3       1812.0      60       -1.50      7.50       38.000   29.98999   30.81   \n",
       "4        434.0      57       38.50    570.50       71.980  149.98999   79.50   \n",
       "...        ...     ...         ...       ...          ...        ...     ...   \n",
       "99995    773.0      25         NaN       NaN          NaN   29.98999  178.62   \n",
       "99996    835.0      27         NaN       NaN          NaN   29.98999  181.45   \n",
       "99997    433.0      31         NaN       NaN          NaN  199.98999   65.16   \n",
       "99998     75.0      25         NaN       NaN          NaN  149.98999  472.43   \n",
       "99999      5.0      25         NaN       NaN          NaN  149.98999   64.79   \n",
       "\n",
       "        lor  mou_cvce_Mean  change_rev  Customer_ID  totcalls  avg3mou  \\\n",
       "0      15.0      90.643333    -18.9975      1000001      1652      272   \n",
       "1       1.0     189.396667     50.9875      1000002     14654      305   \n",
       "2       7.0       5.426667      0.0000      1000003      7903       12   \n",
       "3       6.0       8.410000      0.0000      1000004      1502        8   \n",
       "4       5.0     285.233333      0.0000      1000005      4485      558   \n",
       "...     ...            ...         ...          ...       ...      ...   \n",
       "99995  15.0      94.866667         NaN      1099996      3771      410   \n",
       "99996   9.0     100.760000         NaN      1099997      3675      382   \n",
       "99997   NaN       0.000000         NaN      1099998      1271      662   \n",
       "99998   NaN     564.233333         NaN      1099999     10082     1031   \n",
       "99999   2.0     164.436667         NaN      1100000      1303      105   \n",
       "\n",
       "       avgrev  ovrmou_Mean  drop_vce_Mean  phones  ovrrev_Mean  \\\n",
       "0       29.66         0.00       0.666667     2.0          0.0   \n",
       "1       51.53        22.75       8.333333     7.0          9.1   \n",
       "2       34.54         0.00       0.333333     2.0          0.0   \n",
       "3       40.45         0.00       0.000000     1.0          0.0   \n",
       "4       38.69         0.00       9.666667     6.0          0.0   \n",
       "...       ...          ...            ...     ...          ...   \n",
       "99995   74.34          NaN       2.000000     1.0          NaN   \n",
       "99996   72.59          NaN       3.000000     1.0          NaN   \n",
       "99997   55.58          NaN       0.000000     2.0          NaN   \n",
       "99998  123.49          NaN      18.666667     7.0          NaN   \n",
       "99999   46.63          NaN       5.666667     3.0          NaN   \n",
       "\n",
       "       mouiwylisv_Mean  churn  \n",
       "0             0.000000      1  \n",
       "1             3.696667      0  \n",
       "2             0.000000      1  \n",
       "3             0.000000      0  \n",
       "4             0.366667      0  \n",
       "...                ...    ...  \n",
       "99995         0.000000      1  \n",
       "99996         0.000000      0  \n",
       "99997         0.000000      0  \n",
       "99998        32.883333      0  \n",
       "99999         0.000000      1  \n",
       "\n",
       "[100000 rows x 20 columns]"
      ],
      "text/html": "<div>\n<style scoped>\n    .dataframe tbody tr th:only-of-type {\n        vertical-align: middle;\n    }\n\n    .dataframe tbody tr th {\n        vertical-align: top;\n    }\n\n    .dataframe thead th {\n        text-align: right;\n    }\n</style>\n<table border=\"1\" class=\"dataframe\">\n  <thead>\n    <tr style=\"text-align: right;\">\n      <th></th>\n      <th>eqpdays</th>\n      <th>months</th>\n      <th>change_mou</th>\n      <th>mou_Mean</th>\n      <th>totmrc_Mean</th>\n      <th>hnd_price</th>\n      <th>avgqty</th>\n      <th>lor</th>\n      <th>mou_cvce_Mean</th>\n      <th>change_rev</th>\n      <th>Customer_ID</th>\n      <th>totcalls</th>\n      <th>avg3mou</th>\n      <th>avgrev</th>\n      <th>ovrmou_Mean</th>\n      <th>drop_vce_Mean</th>\n      <th>phones</th>\n      <th>ovrrev_Mean</th>\n      <th>mouiwylisv_Mean</th>\n      <th>churn</th>\n    </tr>\n  </thead>\n  <tbody>\n    <tr>\n      <th>0</th>\n      <td>361.0</td>\n      <td>61</td>\n      <td>-157.25</td>\n      <td>219.25</td>\n      <td>22.500</td>\n      <td>149.98999</td>\n      <td>32.69</td>\n      <td>15.0</td>\n      <td>90.643333</td>\n      <td>-18.9975</td>\n      <td>1000001</td>\n      <td>1652</td>\n      <td>272</td>\n      <td>29.66</td>\n      <td>0.00</td>\n      <td>0.666667</td>\n      <td>2.0</td>\n      <td>0.0</td>\n      <td>0.000000</td>\n      <td>1</td>\n    </tr>\n    <tr>\n      <th>1</th>\n      <td>240.0</td>\n      <td>56</td>\n      <td>532.25</td>\n      <td>482.75</td>\n      <td>37.425</td>\n      <td>NaN</td>\n      <td>265.89</td>\n      <td>1.0</td>\n      <td>189.396667</td>\n      <td>50.9875</td>\n      <td>1000002</td>\n      <td>14654</td>\n      <td>305</td>\n      <td>51.53</td>\n      <td>22.75</td>\n      <td>8.333333</td>\n      <td>7.0</td>\n      <td>9.1</td>\n      <td>3.696667</td>\n      <td>0</td>\n    </tr>\n    <tr>\n      <th>2</th>\n      <td>1504.0</td>\n      <td>58</td>\n      <td>-4.25</td>\n      <td>10.25</td>\n      <td>16.990</td>\n      <td>29.98999</td>\n      <td>140.86</td>\n      <td>7.0</td>\n      <td>5.426667</td>\n      <td>0.0000</td>\n      <td>1000003</td>\n      <td>7903</td>\n      <td>12</td>\n      <td>34.54</td>\n      <td>0.00</td>\n      <td>0.333333</td>\n      <td>2.0</td>\n      <td>0.0</td>\n      <td>0.000000</td>\n      <td>1</td>\n    </tr>\n    <tr>\n      <th>3</th>\n      <td>1812.0</td>\n      <td>60</td>\n      <td>-1.50</td>\n      <td>7.50</td>\n      <td>38.000</td>\n      <td>29.98999</td>\n      <td>30.81</td>\n      <td>6.0</td>\n      <td>8.410000</td>\n      <td>0.0000</td>\n      <td>1000004</td>\n      <td>1502</td>\n      <td>8</td>\n      <td>40.45</td>\n      <td>0.00</td>\n      <td>0.000000</td>\n      <td>1.0</td>\n      <td>0.0</td>\n      <td>0.000000</td>\n      <td>0</td>\n    </tr>\n    <tr>\n      <th>4</th>\n      <td>434.0</td>\n      <td>57</td>\n      <td>38.50</td>\n      <td>570.50</td>\n      <td>71.980</td>\n      <td>149.98999</td>\n      <td>79.50</td>\n      <td>5.0</td>\n      <td>285.233333</td>\n      <td>0.0000</td>\n      <td>1000005</td>\n      <td>4485</td>\n      <td>558</td>\n      <td>38.69</td>\n      <td>0.00</td>\n      <td>9.666667</td>\n      <td>6.0</td>\n      <td>0.0</td>\n      <td>0.366667</td>\n      <td>0</td>\n    </tr>\n    <tr>\n      <th>...</th>\n      <td>...</td>\n      <td>...</td>\n      <td>...</td>\n      <td>...</td>\n      <td>...</td>\n      <td>...</td>\n      <td>...</td>\n      <td>...</td>\n      <td>...</td>\n      <td>...</td>\n      <td>...</td>\n      <td>...</td>\n      <td>...</td>\n      <td>...</td>\n      <td>...</td>\n      <td>...</td>\n      <td>...</td>\n      <td>...</td>\n      <td>...</td>\n      <td>...</td>\n    </tr>\n    <tr>\n      <th>99995</th>\n      <td>773.0</td>\n      <td>25</td>\n      <td>NaN</td>\n      <td>NaN</td>\n      <td>NaN</td>\n      <td>29.98999</td>\n      <td>178.62</td>\n      <td>15.0</td>\n      <td>94.866667</td>\n      <td>NaN</td>\n      <td>1099996</td>\n      <td>3771</td>\n      <td>410</td>\n      <td>74.34</td>\n      <td>NaN</td>\n      <td>2.000000</td>\n      <td>1.0</td>\n      <td>NaN</td>\n      <td>0.000000</td>\n      <td>1</td>\n    </tr>\n    <tr>\n      <th>99996</th>\n      <td>835.0</td>\n      <td>27</td>\n      <td>NaN</td>\n      <td>NaN</td>\n      <td>NaN</td>\n      <td>29.98999</td>\n      <td>181.45</td>\n      <td>9.0</td>\n      <td>100.760000</td>\n      <td>NaN</td>\n      <td>1099997</td>\n      <td>3675</td>\n      <td>382</td>\n      <td>72.59</td>\n      <td>NaN</td>\n      <td>3.000000</td>\n      <td>1.0</td>\n      <td>NaN</td>\n      <td>0.000000</td>\n      <td>0</td>\n    </tr>\n    <tr>\n      <th>99997</th>\n      <td>433.0</td>\n      <td>31</td>\n      <td>NaN</td>\n      <td>NaN</td>\n      <td>NaN</td>\n      <td>199.98999</td>\n      <td>65.16</td>\n      <td>NaN</td>\n      <td>0.000000</td>\n      <td>NaN</td>\n      <td>1099998</td>\n      <td>1271</td>\n      <td>662</td>\n      <td>55.58</td>\n      <td>NaN</td>\n      <td>0.000000</td>\n      <td>2.0</td>\n      <td>NaN</td>\n      <td>0.000000</td>\n      <td>0</td>\n    </tr>\n    <tr>\n      <th>99998</th>\n      <td>75.0</td>\n      <td>25</td>\n      <td>NaN</td>\n      <td>NaN</td>\n      <td>NaN</td>\n      <td>149.98999</td>\n      <td>472.43</td>\n      <td>NaN</td>\n      <td>564.233333</td>\n      <td>NaN</td>\n      <td>1099999</td>\n      <td>10082</td>\n      <td>1031</td>\n      <td>123.49</td>\n      <td>NaN</td>\n      <td>18.666667</td>\n      <td>7.0</td>\n      <td>NaN</td>\n      <td>32.883333</td>\n      <td>0</td>\n    </tr>\n    <tr>\n      <th>99999</th>\n      <td>5.0</td>\n      <td>25</td>\n      <td>NaN</td>\n      <td>NaN</td>\n      <td>NaN</td>\n      <td>149.98999</td>\n      <td>64.79</td>\n      <td>2.0</td>\n      <td>164.436667</td>\n      <td>NaN</td>\n      <td>1100000</td>\n      <td>1303</td>\n      <td>105</td>\n      <td>46.63</td>\n      <td>NaN</td>\n      <td>5.666667</td>\n      <td>3.0</td>\n      <td>NaN</td>\n      <td>0.000000</td>\n      <td>1</td>\n    </tr>\n  </tbody>\n</table>\n<p>100000 rows × 20 columns</p>\n</div>"
     },
     "metadata": {},
     "execution_count": 42
    }
   ],
   "source": [
    "# カテゴリカル変数を表示\n",
    "x_cat = df_core[df_core.select_dtypes( include=object ).columns].columns\n",
    "\n",
    "# カテゴリカル変数を落とす(理解不能なため)\n",
    "df_core = df_core.drop( columns=x_cat )\n",
    "df_core"
   ]
  },
  {
   "source": [
    "### Numerical data"
   ],
   "cell_type": "markdown",
   "metadata": {}
  },
  {
   "cell_type": "code",
   "execution_count": 44,
   "metadata": {},
   "outputs": [],
   "source": [
    "def check_null( _df ):\n",
    "    print( _df.isnull().sum() )"
   ]
  },
  {
   "cell_type": "code",
   "execution_count": 46,
   "metadata": {},
   "outputs": [],
   "source": [
    "# 欠損が多いカラムを落とす\n",
    "df_core = df_core.drop( columns='lor' )"
   ]
  },
  {
   "cell_type": "code",
   "execution_count": 50,
   "metadata": {},
   "outputs": [],
   "source": [
    "# その他不要なカラムを落とす\n",
    "df_core = df_core.drop( columns=['Customer_ID', 'mouiwylisv_Mean'] )"
   ]
  },
  {
   "source": [
    "## EDA"
   ],
   "cell_type": "markdown",
   "metadata": {}
  },
  {
   "cell_type": "code",
   "execution_count": 79,
   "metadata": {},
   "outputs": [
    {
     "output_type": "stream",
     "name": "stdout",
     "text": [
      "churn\n0    363.280925\n1    421.089524\nName: eqpdays, dtype: float64\n\nchurn\n0    18.633074\n1    19.038457\nName: months, dtype: float64\n\nchurn\n0    -5.344265\n1   -22.759003\nName: change_mou, dtype: float64\n\nchurn\n0    543.206895\n1    483.306417\nName: mou_Mean, dtype: float64\n\nchurn\n0    47.782378\n1    44.543091\nName: totmrc_Mean, dtype: float64\n\nchurn\n0    108.129344\n1     95.539523\nName: hnd_price, dtype: float64\n\nchurn\n0    177.505869\n1    169.533305\nName: avgqty, dtype: float64\n\nchurn\n0   -1.410195\n1   -0.621263\nName: change_rev, dtype: float64\n\nchurn\n0    2936.439609\n1    2816.796174\nName: totcalls, dtype: float64\n\nchurn\n0    545.850073\n1    492.969109\nName: avg3mou, dtype: float64\n\nchurn\n0    0\n1    1\nName: churn, dtype: int64\n\n"
     ]
    }
   ],
   "source": [
    "# 解約者と非解約者で，明らかに差がありそうなデータを探す\n",
    "for column_name in df_core.columns:\n",
    "    print( '{}\\n'.format( df_core.groupby('churn')[column_name].mean() ) )"
   ]
  },
  {
   "cell_type": "code",
   "execution_count": 78,
   "metadata": {},
   "outputs": [
    {
     "output_type": "stream",
     "name": "stdout",
     "text": [
      "churn\n0    249.986138\n1    259.705607\nName: eqpdays, dtype: float64\n\nchurn\n0    9.975607\n1    9.314720\nName: months, dtype: float64\n\nchurn\n0    250.239558\n1    300.083099\nName: change_mou, dtype: float64\n\nchurn\n0    540.310876\n1    507.474688\nName: mou_Mean, dtype: float64\n\nchurn\n0    24.263099\n1    22.836931\nName: totmrc_Mean, dtype: float64\n\nchurn\n0    61.123188\n1    60.228330\nName: hnd_price, dtype: float64\n\nchurn\n0    175.447096\n1    159.595591\nName: avgqty, dtype: float64\n\nchurn\n0    35.996984\n1    61.732442\nName: change_rev, dtype: float64\n\nchurn\n0    4086.929791\n1    3462.678410\nName: totcalls, dtype: float64\n\nchurn\n0    549.270722\n1    515.876242\nName: avg3mou, dtype: float64\n\nchurn\n0    0.0\n1    0.0\nName: churn, dtype: float64\n\n"
     ]
    }
   ],
   "source": [
    "# 解約者と非解約者で，明らかに差がありそうなデータを探す\n",
    "for column_name in df_core.columns:\n",
    "    print( '{}\\n'.format( df_core.groupby('churn')[column_name].std() ) )"
   ]
  },
  {
   "cell_type": "code",
   "execution_count": 70,
   "metadata": {},
   "outputs": [
    {
     "output_type": "error",
     "ename": "KeyError",
     "evalue": "\"['mou_cvce_Mean' 'drop_vce_Mean' 'ovrmou_Mean' 'phones' 'ovrrev_Mean'] not found in axis\"",
     "traceback": [
      "\u001b[0;31m---------------------------------------------------------------------------\u001b[0m",
      "\u001b[0;31mKeyError\u001b[0m                                  Traceback (most recent call last)",
      "\u001b[0;32m<ipython-input-70-eb41c62c1f8c>\u001b[0m in \u001b[0;36m<module>\u001b[0;34m()\u001b[0m\n\u001b[1;32m      1\u001b[0m \u001b[0;31m# 改めて，不要なカラムを落とす\u001b[0m\u001b[0;34m\u001b[0m\u001b[0;34m\u001b[0m\u001b[0m\n\u001b[0;32m----> 2\u001b[0;31m \u001b[0mdf_core\u001b[0m \u001b[0;34m=\u001b[0m \u001b[0mdf_core\u001b[0m\u001b[0;34m.\u001b[0m\u001b[0mdrop\u001b[0m\u001b[0;34m(\u001b[0m \u001b[0mcolumns\u001b[0m\u001b[0;34m=\u001b[0m\u001b[0;34m[\u001b[0m\u001b[0;34m'mou_cvce_Mean'\u001b[0m\u001b[0;34m,\u001b[0m \u001b[0;34m'drop_vce_Mean'\u001b[0m\u001b[0;34m,\u001b[0m \u001b[0;34m'ovrmou_Mean'\u001b[0m\u001b[0;34m,\u001b[0m \u001b[0;34m'phones'\u001b[0m\u001b[0;34m,\u001b[0m \u001b[0;34m'ovrrev_Mean'\u001b[0m\u001b[0;34m]\u001b[0m \u001b[0;34m)\u001b[0m\u001b[0;34m\u001b[0m\u001b[0m\n\u001b[0m\u001b[1;32m      3\u001b[0m \u001b[0mcheck_null\u001b[0m\u001b[0;34m(\u001b[0m \u001b[0mdf_core\u001b[0m \u001b[0;34m)\u001b[0m\u001b[0;34m\u001b[0m\u001b[0m\n",
      "\u001b[0;32m/anaconda3/lib/python3.6/site-packages/pandas/core/frame.py\u001b[0m in \u001b[0;36mdrop\u001b[0;34m(self, labels, axis, index, columns, level, inplace, errors)\u001b[0m\n\u001b[1;32m   3995\u001b[0m             \u001b[0mlevel\u001b[0m\u001b[0;34m=\u001b[0m\u001b[0mlevel\u001b[0m\u001b[0;34m,\u001b[0m\u001b[0;34m\u001b[0m\u001b[0m\n\u001b[1;32m   3996\u001b[0m             \u001b[0minplace\u001b[0m\u001b[0;34m=\u001b[0m\u001b[0minplace\u001b[0m\u001b[0;34m,\u001b[0m\u001b[0;34m\u001b[0m\u001b[0m\n\u001b[0;32m-> 3997\u001b[0;31m             \u001b[0merrors\u001b[0m\u001b[0;34m=\u001b[0m\u001b[0merrors\u001b[0m\u001b[0;34m,\u001b[0m\u001b[0;34m\u001b[0m\u001b[0m\n\u001b[0m\u001b[1;32m   3998\u001b[0m         )\n\u001b[1;32m   3999\u001b[0m \u001b[0;34m\u001b[0m\u001b[0m\n",
      "\u001b[0;32m/anaconda3/lib/python3.6/site-packages/pandas/core/generic.py\u001b[0m in \u001b[0;36mdrop\u001b[0;34m(self, labels, axis, index, columns, level, inplace, errors)\u001b[0m\n\u001b[1;32m   3934\u001b[0m         \u001b[0;32mfor\u001b[0m \u001b[0maxis\u001b[0m\u001b[0;34m,\u001b[0m \u001b[0mlabels\u001b[0m \u001b[0;32min\u001b[0m \u001b[0maxes\u001b[0m\u001b[0;34m.\u001b[0m\u001b[0mitems\u001b[0m\u001b[0;34m(\u001b[0m\u001b[0;34m)\u001b[0m\u001b[0;34m:\u001b[0m\u001b[0;34m\u001b[0m\u001b[0m\n\u001b[1;32m   3935\u001b[0m             \u001b[0;32mif\u001b[0m \u001b[0mlabels\u001b[0m \u001b[0;32mis\u001b[0m \u001b[0;32mnot\u001b[0m \u001b[0;32mNone\u001b[0m\u001b[0;34m:\u001b[0m\u001b[0;34m\u001b[0m\u001b[0m\n\u001b[0;32m-> 3936\u001b[0;31m                 \u001b[0mobj\u001b[0m \u001b[0;34m=\u001b[0m \u001b[0mobj\u001b[0m\u001b[0;34m.\u001b[0m\u001b[0m_drop_axis\u001b[0m\u001b[0;34m(\u001b[0m\u001b[0mlabels\u001b[0m\u001b[0;34m,\u001b[0m \u001b[0maxis\u001b[0m\u001b[0;34m,\u001b[0m \u001b[0mlevel\u001b[0m\u001b[0;34m=\u001b[0m\u001b[0mlevel\u001b[0m\u001b[0;34m,\u001b[0m \u001b[0merrors\u001b[0m\u001b[0;34m=\u001b[0m\u001b[0merrors\u001b[0m\u001b[0;34m)\u001b[0m\u001b[0;34m\u001b[0m\u001b[0m\n\u001b[0m\u001b[1;32m   3937\u001b[0m \u001b[0;34m\u001b[0m\u001b[0m\n\u001b[1;32m   3938\u001b[0m         \u001b[0;32mif\u001b[0m \u001b[0minplace\u001b[0m\u001b[0;34m:\u001b[0m\u001b[0;34m\u001b[0m\u001b[0m\n",
      "\u001b[0;32m/anaconda3/lib/python3.6/site-packages/pandas/core/generic.py\u001b[0m in \u001b[0;36m_drop_axis\u001b[0;34m(self, labels, axis, level, errors)\u001b[0m\n\u001b[1;32m   3968\u001b[0m                 \u001b[0mnew_axis\u001b[0m \u001b[0;34m=\u001b[0m \u001b[0maxis\u001b[0m\u001b[0;34m.\u001b[0m\u001b[0mdrop\u001b[0m\u001b[0;34m(\u001b[0m\u001b[0mlabels\u001b[0m\u001b[0;34m,\u001b[0m \u001b[0mlevel\u001b[0m\u001b[0;34m=\u001b[0m\u001b[0mlevel\u001b[0m\u001b[0;34m,\u001b[0m \u001b[0merrors\u001b[0m\u001b[0;34m=\u001b[0m\u001b[0merrors\u001b[0m\u001b[0;34m)\u001b[0m\u001b[0;34m\u001b[0m\u001b[0m\n\u001b[1;32m   3969\u001b[0m             \u001b[0;32melse\u001b[0m\u001b[0;34m:\u001b[0m\u001b[0;34m\u001b[0m\u001b[0m\n\u001b[0;32m-> 3970\u001b[0;31m                 \u001b[0mnew_axis\u001b[0m \u001b[0;34m=\u001b[0m \u001b[0maxis\u001b[0m\u001b[0;34m.\u001b[0m\u001b[0mdrop\u001b[0m\u001b[0;34m(\u001b[0m\u001b[0mlabels\u001b[0m\u001b[0;34m,\u001b[0m \u001b[0merrors\u001b[0m\u001b[0;34m=\u001b[0m\u001b[0merrors\u001b[0m\u001b[0;34m)\u001b[0m\u001b[0;34m\u001b[0m\u001b[0m\n\u001b[0m\u001b[1;32m   3971\u001b[0m             \u001b[0mresult\u001b[0m \u001b[0;34m=\u001b[0m \u001b[0mself\u001b[0m\u001b[0;34m.\u001b[0m\u001b[0mreindex\u001b[0m\u001b[0;34m(\u001b[0m\u001b[0;34m**\u001b[0m\u001b[0;34m{\u001b[0m\u001b[0maxis_name\u001b[0m\u001b[0;34m:\u001b[0m \u001b[0mnew_axis\u001b[0m\u001b[0;34m}\u001b[0m\u001b[0;34m)\u001b[0m\u001b[0;34m\u001b[0m\u001b[0m\n\u001b[1;32m   3972\u001b[0m \u001b[0;34m\u001b[0m\u001b[0m\n",
      "\u001b[0;32m/anaconda3/lib/python3.6/site-packages/pandas/core/indexes/base.py\u001b[0m in \u001b[0;36mdrop\u001b[0;34m(self, labels, errors)\u001b[0m\n\u001b[1;32m   5016\u001b[0m         \u001b[0;32mif\u001b[0m \u001b[0mmask\u001b[0m\u001b[0;34m.\u001b[0m\u001b[0many\u001b[0m\u001b[0;34m(\u001b[0m\u001b[0;34m)\u001b[0m\u001b[0;34m:\u001b[0m\u001b[0;34m\u001b[0m\u001b[0m\n\u001b[1;32m   5017\u001b[0m             \u001b[0;32mif\u001b[0m \u001b[0merrors\u001b[0m \u001b[0;34m!=\u001b[0m \u001b[0;34m\"ignore\"\u001b[0m\u001b[0;34m:\u001b[0m\u001b[0;34m\u001b[0m\u001b[0m\n\u001b[0;32m-> 5018\u001b[0;31m                 \u001b[0;32mraise\u001b[0m \u001b[0mKeyError\u001b[0m\u001b[0;34m(\u001b[0m\u001b[0;34mf\"{labels[mask]} not found in axis\"\u001b[0m\u001b[0;34m)\u001b[0m\u001b[0;34m\u001b[0m\u001b[0m\n\u001b[0m\u001b[1;32m   5019\u001b[0m             \u001b[0mindexer\u001b[0m \u001b[0;34m=\u001b[0m \u001b[0mindexer\u001b[0m\u001b[0;34m[\u001b[0m\u001b[0;34m~\u001b[0m\u001b[0mmask\u001b[0m\u001b[0;34m]\u001b[0m\u001b[0;34m\u001b[0m\u001b[0m\n\u001b[1;32m   5020\u001b[0m         \u001b[0;32mreturn\u001b[0m \u001b[0mself\u001b[0m\u001b[0;34m.\u001b[0m\u001b[0mdelete\u001b[0m\u001b[0;34m(\u001b[0m\u001b[0mindexer\u001b[0m\u001b[0;34m)\u001b[0m\u001b[0;34m\u001b[0m\u001b[0m\n",
      "\u001b[0;31mKeyError\u001b[0m: \"['mou_cvce_Mean' 'drop_vce_Mean' 'ovrmou_Mean' 'phones' 'ovrrev_Mean'] not found in axis\""
     ]
    }
   ],
   "source": [
    "# 改めて，不要なカラム(groupbyの結果，解約者と非解約者で差がないデータ)を落とす\n",
    "df_core = df_core.drop( columns=['mou_cvce_Mean', 'drop_vce_Mean', 'ovrmou_Mean', 'phones', 'ovrrev_Mean', 'avgrev'] )"
   ]
  },
  {
   "source": [
    "### 残ったデータ\n",
    "|  重要度  |  カラム名  |  内容  |  分類  |\n",
    "| ---- | ---- | ---- | ---- |\n",
    "|  1  |  eqpdays  |  現在の端末の使用日数  |  使用日数  |\n",
    "|  2  |  months  |  契約してから何ヶ月か  |  使用月数  |\n",
    "|  3  |  change_mou  |  過去3か月の月間平均使用時間の変化率  |  使用時間  |\n",
    "|  4  |  mou_Mean  |  毎月の平均使用分数  |  使用時間  |\n",
    "|  5  |  totmrc_Mean  |  毎月の請求額の平均  |  金額  |\n",
    "|  6  |  hnd_price  |  現在の携帯電話の価格  |  金額  |\n",
    "|  7  |  avgqty  |  顧客の生涯にわたる平均月間通話数  |  通話数  |\n",
    "|  8 |  change_rev  |  過去3か月の平均に対する月間収益の変化率  |  収益  |\n",
    "|  9 |  totcalls  |  顧客の生涯にわたる通話の総数  |  通話数  |\n",
    "|  10 |  avg3mou  |  過去3か月間の平均月間使用時間  |  使用時間  |"
   ],
   "cell_type": "markdown",
   "metadata": {}
  },
  {
   "cell_type": "code",
   "execution_count": null,
   "metadata": {},
   "outputs": [],
   "source": [
    "def plot():\n",
    "    plt.rcParams[\"figure.figsize\"] = (10, 10)\n",
    "    plt.title( 'Cumulative Feature Importance', fontsize=24 )\n",
    "\n",
    "    x = df_importance['feature']\n",
    "    y = df_importance['cum_imp']\n",
    "    plt.bar( x, y )\n",
    "    # plt.hlines( 0.8, 0, 99, \"red\", linestyles='dashed')\n",
    "    plt.xticks( range( df_importance['feature'].size ), x, rotation=90, fontsize=10 )\n",
    "    plt.yticks( [0.0, 0.2, 0.4, 0.6, 0.8, 1.0], fontsize=18 )\n",
    "    plt.ylabel( 'Normalized Feature Importance', fontsize=18 )\n",
    "    plt.show()"
   ]
  },
  {
   "cell_type": "code",
   "execution_count": 82,
   "metadata": {},
   "outputs": [
    {
     "output_type": "execute_result",
     "data": {
      "text/plain": [
       "churn\n",
       "0    -5.344265\n",
       "1   -22.759003\n",
       "Name: change_mou, dtype: float64"
      ]
     },
     "metadata": {},
     "execution_count": 82
    }
   ],
   "source": [
    "df_core.groupby('churn')['change_mou'].mean()"
   ]
  },
  {
   "cell_type": "code",
   "execution_count": 25,
   "metadata": {},
   "outputs": [],
   "source": [
    "def plot_hist(x):\n",
    "    plt.rcParams[\"figure.figsize\"] = (20, 4)\n",
    "    ax = sns.countplot( x=x, data=df_core )\n",
    "    plt.xlabel( str(x) )\n",
    "    plt.title( 'Histogram of ' + str(x) )\n",
    "    plt.xticks( rotation=70 )\n",
    "    # plt.xticks()\n",
    "    plt.show()"
   ]
  },
  {
   "cell_type": "code",
   "execution_count": 26,
   "metadata": {},
   "outputs": [
    {
     "output_type": "execute_result",
     "data": {
      "text/plain": [
       "Index(['eqpdays', 'months', 'change_mou', 'mou_Mean', 'totmrc_Mean',\n",
       "       'hnd_price', 'avgqty', 'lor', 'mou_cvce_Mean', 'change_rev',\n",
       "       'Customer_ID', 'totcalls', 'avg3mou', 'crclscod', 'refurb_new',\n",
       "       'hnd_webcap', 'avgrev', 'ovrmou_Mean', 'drop_vce_Mean', 'phones',\n",
       "       'ovrrev_Mean', 'mouiwylisv_Mean', 'churn'],\n",
       "      dtype='object')"
      ]
     },
     "metadata": {},
     "execution_count": 26
    }
   ],
   "source": [
    "x_call = df_core.columns"
   ]
  },
  {
   "cell_type": "code",
   "execution_count": null,
   "metadata": {},
   "outputs": [],
   "source": [
    "for x in x_call:\n",
    "    plot_hist( x )"
   ]
  },
  {
   "source": [
    "### Numerical data"
   ],
   "cell_type": "markdown",
   "metadata": {}
  },
  {
   "cell_type": "code",
   "execution_count": null,
   "metadata": {},
   "outputs": [],
   "source": [
    "# 数値変数を確認\n",
    "numerical = df[df.select_dtypes( exclude=object ).columns]\n",
    "x_num = numerical.columns\n",
    "numerical.head()"
   ]
  },
  {
   "cell_type": "code",
   "execution_count": null,
   "metadata": {},
   "outputs": [],
   "source": [
    "# 欠損値を0で埋める\n",
    "numerical = numerical.fillna(0)\n",
    "check_null( numerical )"
   ]
  },
  {
   "cell_type": "code",
   "execution_count": null,
   "metadata": {},
   "outputs": [],
   "source": [
    "# 反映\n",
    "df[x_num] = numerical"
   ]
  },
  {
   "source": [
    "### Categorical data encoding"
   ],
   "cell_type": "markdown",
   "metadata": {}
  },
  {
   "cell_type": "code",
   "execution_count": null,
   "metadata": {},
   "outputs": [],
   "source": [
    "# カテゴリカル変数を確認\n",
    "categorical = df[df.select_dtypes( include=object ).columns]\n",
    "x_cat = categorical.columns\n",
    "categorical.head()"
   ]
  },
  {
   "cell_type": "code",
   "execution_count": null,
   "metadata": {},
   "outputs": [],
   "source": [
    "def plot_hist(x):\n",
    "    plt.rcParams[\"figure.figsize\"] = (20, 4)\n",
    "    ax = sns.countplot( x=x, data=df )\n",
    "    plt.xlabel( str(x) )\n",
    "    plt.title( 'Histogram of ' + str(x) )\n",
    "    plt.xticks( rotation=70 )\n",
    "    # plt.xticks()\n",
    "    plt.show()"
   ]
  },
  {
   "cell_type": "code",
   "execution_count": null,
   "metadata": {},
   "outputs": [],
   "source": [
    "for x in x_cat:\n",
    "    plot_hist( x )"
   ]
  },
  {
   "cell_type": "code",
   "execution_count": null,
   "metadata": {},
   "outputs": [],
   "source": [
    "categorical = categorical.dropna( axis=0 )\n",
    "check_null( categorical )"
   ]
  },
  {
   "cell_type": "code",
   "execution_count": null,
   "metadata": {},
   "outputs": [],
   "source": [
    "# 反映\n",
    "df[x_cat] = categorical"
   ]
  },
  {
   "cell_type": "code",
   "execution_count": null,
   "metadata": {},
   "outputs": [],
   "source": [
    "df = df.dropna( axis=0 )\n",
    "check_null( df )"
   ]
  },
  {
   "cell_type": "code",
   "execution_count": null,
   "metadata": {},
   "outputs": [],
   "source": [
    "# For Categorical data, converted to numerical using Label Encoder. \n",
    "# By this method, all categorical data are sorted by alphabetically.\n",
    "for x in x_cat:\n",
    "    df[x] = LabelEncoder().fit_transform( df[x] )"
   ]
  },
  {
   "cell_type": "code",
   "execution_count": null,
   "metadata": {},
   "outputs": [],
   "source": [
    "col_num = df[df.select_dtypes( exclude=object ).columns].columns\n",
    "df = pd.DataFrame( df[col_num] )\n",
    "df"
   ]
  },
  {
   "source": [
    "## Train Test Split"
   ],
   "cell_type": "markdown",
   "metadata": {}
  },
  {
   "cell_type": "code",
   "execution_count": null,
   "metadata": {},
   "outputs": [],
   "source": [
    "# y = df['churn']\n",
    "# X_train, X_test, y_train, y_test = train_test_split( df, y, random_state=1 )\n",
    "\n",
    "# churnを目的変数に設定\n",
    "y_train = df['churn']\n",
    "\n",
    "# 目的変数のみ落とす\n",
    "X_train = df.drop( columns=['churn'] )"
   ]
  },
  {
   "cell_type": "code",
   "execution_count": null,
   "metadata": {},
   "outputs": [],
   "source": [
    "# LightGBM parameters\n",
    "\n",
    "# lgbm_params = {\n",
    "#         'reg_lambda': 0.06875461198761648, \n",
    "#         'reg_alpha': 2.2293651627955215, \n",
    "#         'colsample_bytree': 0.7208495854217002, \n",
    "#         'subsample': 0.781401201566485, \n",
    "#         'max_depth': 8, \n",
    "#         'min_child_weight': 3.109569481392587\n",
    "# }\n",
    "\n",
    "# lgbm_params = {\n",
    "#         'boosting_type': 'gbdt',\n",
    "#         'objective': 'regression',\n",
    "#         'metric': 'rmse',\n",
    "#         'max_depth': 5,\n",
    "#         'min_data_in_leaf': 20,\n",
    "#         'min_child_weight': 3,\n",
    "#         'feature_fraction': 1.0,\n",
    "#         'min_data_in_leaf': 20,\n",
    "#         'num_iterations': 100,\n",
    "#         'seed': 0,\n",
    "#         'verbose': -1,\n",
    "#         'reg_lambda': 0.07, \n",
    "#         'reg_alpha': 2.23, \n",
    "#         'colsample_bytree': 0.72, \n",
    "#         'subsample': 0.78\n",
    "# }\n",
    "\n",
    "# LightGBM model\n",
    "model_lgbm = LGBMClassifier(\n",
    "        boosting_type='gbdt', \n",
    "        class_weight='balanced',\n",
    "        reg_lambda=1.1564659040946654, \n",
    "        reg_alpha=9.90877329623665,\n",
    "        colsample_bytree=0.5034991685866442, \n",
    "        subsample=0.6055998601661783, \n",
    "        max_depth=5,\n",
    "        min_child_weight=39.72586351155486, \n",
    "        learning_rate=0.0732489659779158,\n",
    "        num_threads=1 )"
   ]
  },
  {
   "cell_type": "code",
   "execution_count": null,
   "metadata": {},
   "outputs": [],
   "source": [
    "# model_lgbm.fit( train_df[x_calls], train_df['TARGET'] )\n",
    "model_lgbm.fit( X_train, y_train )\n",
    "\n",
    "# clf.fit(train_x, train_y, eval_set=[(train_x, train_y), (valid_x, valid_y)], eval_metric= 'auc', verbose= 100, early_stopping_rounds= 200)"
   ]
  },
  {
   "cell_type": "code",
   "execution_count": null,
   "metadata": {},
   "outputs": [],
   "source": [
    "lgbm.plot_importance( model_lgbm, importance_type=\"gain\", max_num_features=100, figsize=(10, 20) )"
   ]
  },
  {
   "cell_type": "code",
   "execution_count": null,
   "metadata": {},
   "outputs": [],
   "source": [
    "f_name = model_lgbm.feature_name_\n",
    "\n",
    "# f_importance = model_lgbm.feature_importances_\n",
    "f_importance = model_lgbm.booster_.feature_importance( importance_type='gain' )\n",
    "f_importance = f_importance / np.sum( f_importance )\n",
    "\n",
    "df_importance = pd.DataFrame( {'feature':f_name, 'importance':f_importance} )\n",
    "df_importance = df_importance.sort_values('importance', ascending=False)\n",
    "\n",
    "# インデックスを振り直す\n",
    "df_importance = df_importance.reset_index()\n",
    "\n",
    "display( df_importance )"
   ]
  },
  {
   "cell_type": "code",
   "execution_count": null,
   "metadata": {},
   "outputs": [],
   "source": [
    "# 寄与率が低いカラムをリストアップ\n",
    "f_mean = df_importance['importance'].mean()\n",
    "f_sd = df_importance['importance'].std()\n",
    "print( 'mean: {}'.format( f_mean ) )\n",
    "print( 'sd: {}'.format( f_sd ) )\n",
    "\n",
    "print( 'mean +   sd: {}'.format( f_mean +   f_sd ) )\n",
    "print( 'mean + 2*sd: {}'.format( f_mean + 2*f_sd ) )\n",
    "print( 'mean + 3*sd: {}'.format( f_mean + 3*f_sd ) )"
   ]
  },
  {
   "cell_type": "code",
   "execution_count": null,
   "metadata": {},
   "outputs": [],
   "source": [
    "# 累積寄与率\n",
    "# この○個のデータが，結果の80%を占めている．\n",
    "tmp_sum = 0\n",
    "cum_importance = []\n",
    "for i in range( 98 ):\n",
    "    tmp_sum += df_importance['importance'][i]\n",
    "\n",
    "    if tmp_sum < 0.8:\n",
    "        f_th = i+1\n",
    "        print( '{}. {}:\\n   {}\\n'.format( i+1, df_importance['feature'][i], tmp_sum ) )\n",
    "        cum_importance.append( tmp_sum )"
   ]
  },
  {
   "cell_type": "code",
   "execution_count": null,
   "metadata": {},
   "outputs": [],
   "source": [
    "df_importance_core = df_importance[:f_th]\n",
    "df_importance_core['cum_importance'] = cum_importance\n",
    "\n",
    "display( df_importance_core )"
   ]
  },
  {
   "cell_type": "code",
   "execution_count": null,
   "metadata": {},
   "outputs": [],
   "source": [
    "def plot_cum_importance( _np_array ):\n",
    "    "
   ]
  },
  {
   "cell_type": "code",
   "execution_count": null,
   "metadata": {},
   "outputs": [],
   "source": [
    "plot_cum_importance( df_importance_core['cum_importance'] )"
   ]
  },
  {
   "cell_type": "code",
   "execution_count": null,
   "metadata": {},
   "outputs": [],
   "source": [
    "display( df_importance_core['feature'] )"
   ]
  },
  {
   "cell_type": "code",
   "execution_count": null,
   "metadata": {},
   "outputs": [],
   "source": [
    "df_importance_core['feature'].to_csv( './f_importance_core.csv' )"
   ]
  }
 ]
}