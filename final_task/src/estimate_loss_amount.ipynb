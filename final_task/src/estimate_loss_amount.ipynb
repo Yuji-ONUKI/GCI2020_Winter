{
 "metadata": {
  "language_info": {
   "codemirror_mode": {
    "name": "ipython",
    "version": 3
   },
   "file_extension": ".py",
   "mimetype": "text/x-python",
   "name": "python",
   "nbconvert_exporter": "python",
   "pygments_lexer": "ipython3",
   "version": "3.6.5-final"
  },
  "orig_nbformat": 2,
  "kernelspec": {
   "name": "python3",
   "display_name": "Python 3",
   "language": "python"
  }
 },
 "nbformat": 4,
 "nbformat_minor": 2,
 "cells": [
  {
   "cell_type": "code",
   "execution_count": 1,
   "metadata": {},
   "outputs": [],
   "source": [
    "import pandas as pd\n",
    "import numpy as np\n",
    "import matplotlib.pyplot as plt\n",
    "%matplotlib inline\n",
    "import seaborn as sns\n",
    "\n",
    "import warnings\n",
    "warnings.filterwarnings('ignore')\n",
    "pd.set_option('Display.max_columns',100)\n",
    "pd.set_option('Display.max_rows',100)"
   ]
  },
  {
   "cell_type": "code",
   "execution_count": 2,
   "metadata": {},
   "outputs": [
    {
     "output_type": "stream",
     "name": "stdout",
     "text": [
      "df:\n100000 rows × 100 columns\n\n"
     ]
    }
   ],
   "source": [
    "path    = \"../final_assignment_public/Telecom_customer_churn.csv\"\n",
    "df      = pd.read_csv( path )\n",
    "\n",
    "print( 'df:\\n{} rows × {} columns\\n'.format( df.shape[0], df.shape[1] ) )"
   ]
  },
  {
   "cell_type": "code",
   "execution_count": 3,
   "metadata": {},
   "outputs": [
    {
     "output_type": "execute_result",
     "data": {
      "text/plain": [
       "       rev_Mean  totmrc_Mean  churn\n",
       "0       23.9975       22.500      1\n",
       "1       57.4925       37.425      0\n",
       "2       16.9900       16.990      1\n",
       "3       38.0000       38.000      0\n",
       "4       55.2300       71.980      0\n",
       "...         ...          ...    ...\n",
       "99995       NaN          NaN      1\n",
       "99996       NaN          NaN      0\n",
       "99997       NaN          NaN      0\n",
       "99998       NaN          NaN      0\n",
       "99999       NaN          NaN      1\n",
       "\n",
       "[100000 rows x 3 columns]"
      ],
      "text/html": "<div>\n<style scoped>\n    .dataframe tbody tr th:only-of-type {\n        vertical-align: middle;\n    }\n\n    .dataframe tbody tr th {\n        vertical-align: top;\n    }\n\n    .dataframe thead th {\n        text-align: right;\n    }\n</style>\n<table border=\"1\" class=\"dataframe\">\n  <thead>\n    <tr style=\"text-align: right;\">\n      <th></th>\n      <th>rev_Mean</th>\n      <th>totmrc_Mean</th>\n      <th>churn</th>\n    </tr>\n  </thead>\n  <tbody>\n    <tr>\n      <th>0</th>\n      <td>23.9975</td>\n      <td>22.500</td>\n      <td>1</td>\n    </tr>\n    <tr>\n      <th>1</th>\n      <td>57.4925</td>\n      <td>37.425</td>\n      <td>0</td>\n    </tr>\n    <tr>\n      <th>2</th>\n      <td>16.9900</td>\n      <td>16.990</td>\n      <td>1</td>\n    </tr>\n    <tr>\n      <th>3</th>\n      <td>38.0000</td>\n      <td>38.000</td>\n      <td>0</td>\n    </tr>\n    <tr>\n      <th>4</th>\n      <td>55.2300</td>\n      <td>71.980</td>\n      <td>0</td>\n    </tr>\n    <tr>\n      <th>...</th>\n      <td>...</td>\n      <td>...</td>\n      <td>...</td>\n    </tr>\n    <tr>\n      <th>99995</th>\n      <td>NaN</td>\n      <td>NaN</td>\n      <td>1</td>\n    </tr>\n    <tr>\n      <th>99996</th>\n      <td>NaN</td>\n      <td>NaN</td>\n      <td>0</td>\n    </tr>\n    <tr>\n      <th>99997</th>\n      <td>NaN</td>\n      <td>NaN</td>\n      <td>0</td>\n    </tr>\n    <tr>\n      <th>99998</th>\n      <td>NaN</td>\n      <td>NaN</td>\n      <td>0</td>\n    </tr>\n    <tr>\n      <th>99999</th>\n      <td>NaN</td>\n      <td>NaN</td>\n      <td>1</td>\n    </tr>\n  </tbody>\n</table>\n<p>100000 rows × 3 columns</p>\n</div>"
     },
     "metadata": {},
     "execution_count": 3
    }
   ],
   "source": [
    "df = df[['rev_Mean', 'totmrc_Mean', 'churn']]\n",
    "df"
   ]
  },
  {
   "cell_type": "code",
   "execution_count": 7,
   "metadata": {},
   "outputs": [
    {
     "output_type": "display_data",
     "data": {
      "text/plain": "churn\n0    59.218692\n1    58.211074\nName: rev_Mean, dtype: float64"
     },
     "metadata": {}
    },
    {
     "output_type": "display_data",
     "data": {
      "text/plain": "churn\n0    47.782378\n1    44.543091\nName: totmrc_Mean, dtype: float64"
     },
     "metadata": {}
    }
   ],
   "source": [
    "display(\n",
    "    df.groupby('churn')['rev_Mean'].mean(),\n",
    "    df.groupby('churn')['totmrc_Mean'].mean()\n",
    ")"
   ]
  },
  {
   "cell_type": "code",
   "execution_count": 8,
   "metadata": {},
   "outputs": [],
   "source": [
    "df = df.fillna(0)"
   ]
  },
  {
   "cell_type": "code",
   "execution_count": 40,
   "metadata": {},
   "outputs": [
    {
     "output_type": "stream",
     "name": "stdout",
     "text": [
      "sum_of_rev_Mean:\t 2870795.533333632\nsum_of_totmrc_Mean:\t 2196731.6324998485\nsum_of_charge:\t\t 5067527.165833481\n"
     ]
    }
   ],
   "source": [
    "sum_of_rev_Mean = df.groupby('churn')['rev_Mean'].sum()[1]\n",
    "sum_of_totmrc_Mean = df.groupby('churn')['totmrc_Mean'].sum()[1]\n",
    "\n",
    "# 解約者に対する請求額の合計(損失額の合計)\n",
    "sum_of_charge = sum_of_rev_Mean + sum_of_totmrc_Mean\n",
    "\n",
    "print( 'sum_of_rev_Mean:\\t', sum_of_rev_Mean )\n",
    "print( 'sum_of_totmrc_Mean:\\t', sum_of_totmrc_Mean )\n",
    "print( 'sum_of_charge:\\t\\t', sum_of_charge )"
   ]
  },
  {
   "cell_type": "code",
   "execution_count": 41,
   "metadata": {},
   "outputs": [
    {
     "output_type": "execute_result",
     "data": {
      "text/plain": [
       "       rev_Mean  totmrc_Mean  churn\n",
       "0       23.9975       22.500      1\n",
       "1       57.4925       37.425      0\n",
       "2       16.9900       16.990      1\n",
       "3       38.0000       38.000      0\n",
       "4       55.2300       71.980      0\n",
       "...         ...          ...    ...\n",
       "99995    0.0000        0.000      1\n",
       "99996    0.0000        0.000      0\n",
       "99997    0.0000        0.000      0\n",
       "99998    0.0000        0.000      0\n",
       "99999    0.0000        0.000      1\n",
       "\n",
       "[100000 rows x 3 columns]"
      ],
      "text/html": "<div>\n<style scoped>\n    .dataframe tbody tr th:only-of-type {\n        vertical-align: middle;\n    }\n\n    .dataframe tbody tr th {\n        vertical-align: top;\n    }\n\n    .dataframe thead th {\n        text-align: right;\n    }\n</style>\n<table border=\"1\" class=\"dataframe\">\n  <thead>\n    <tr style=\"text-align: right;\">\n      <th></th>\n      <th>rev_Mean</th>\n      <th>totmrc_Mean</th>\n      <th>churn</th>\n    </tr>\n  </thead>\n  <tbody>\n    <tr>\n      <th>0</th>\n      <td>23.9975</td>\n      <td>22.500</td>\n      <td>1</td>\n    </tr>\n    <tr>\n      <th>1</th>\n      <td>57.4925</td>\n      <td>37.425</td>\n      <td>0</td>\n    </tr>\n    <tr>\n      <th>2</th>\n      <td>16.9900</td>\n      <td>16.990</td>\n      <td>1</td>\n    </tr>\n    <tr>\n      <th>3</th>\n      <td>38.0000</td>\n      <td>38.000</td>\n      <td>0</td>\n    </tr>\n    <tr>\n      <th>4</th>\n      <td>55.2300</td>\n      <td>71.980</td>\n      <td>0</td>\n    </tr>\n    <tr>\n      <th>...</th>\n      <td>...</td>\n      <td>...</td>\n      <td>...</td>\n    </tr>\n    <tr>\n      <th>99995</th>\n      <td>0.0000</td>\n      <td>0.000</td>\n      <td>1</td>\n    </tr>\n    <tr>\n      <th>99996</th>\n      <td>0.0000</td>\n      <td>0.000</td>\n      <td>0</td>\n    </tr>\n    <tr>\n      <th>99997</th>\n      <td>0.0000</td>\n      <td>0.000</td>\n      <td>0</td>\n    </tr>\n    <tr>\n      <th>99998</th>\n      <td>0.0000</td>\n      <td>0.000</td>\n      <td>0</td>\n    </tr>\n    <tr>\n      <th>99999</th>\n      <td>0.0000</td>\n      <td>0.000</td>\n      <td>1</td>\n    </tr>\n  </tbody>\n</table>\n<p>100000 rows × 3 columns</p>\n</div>"
     },
     "metadata": {},
     "execution_count": 41
    }
   ],
   "source": [
    "df['tot_charge_Mean'] = df['rev_Mean'] + df['totmrc_Mean']\n",
    "df"
   ]
  },
  {
   "cell_type": "code",
   "execution_count": null,
   "metadata": {},
   "outputs": [],
   "source": []
  }
 ]
}