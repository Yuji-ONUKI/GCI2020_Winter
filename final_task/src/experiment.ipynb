{
 "metadata": {
  "language_info": {
   "codemirror_mode": {
    "name": "ipython",
    "version": 3
   },
   "file_extension": ".py",
   "mimetype": "text/x-python",
   "name": "python",
   "nbconvert_exporter": "python",
   "pygments_lexer": "ipython3",
   "version": "3.6.5-final"
  },
  "orig_nbformat": 2,
  "kernelspec": {
   "name": "python3",
   "display_name": "Python 3",
   "language": "python"
  }
 },
 "nbformat": 4,
 "nbformat_minor": 2,
 "cells": [
  {
   "source": [
    "## Import library"
   ],
   "cell_type": "markdown",
   "metadata": {}
  },
  {
   "cell_type": "code",
   "execution_count": 1,
   "metadata": {},
   "outputs": [],
   "source": [
    "import pandas as pd\n",
    "import numpy as np\n",
    "import matplotlib.pyplot as plt\n",
    "%matplotlib inline\n",
    "import seaborn as sns\n",
    "from sklearn.preprocessing import LabelBinarizer,LabelEncoder\n",
    "import lightgbm as lgbm\n",
    "from lightgbm import LGBMClassifier\n",
    "from sklearn.model_selection import train_test_split\n",
    "from sklearn.metrics import mean_squared_error\n",
    "from sklearn.metrics import accuracy_score # モデル評価用(正答率)\n",
    "from sklearn.metrics import log_loss # モデル評価用(logloss)     \n",
    "from sklearn.metrics import roc_auc_score # モデル評価用(auc)\n",
    "from tqdm import tqdm\n",
    "\n",
    "import warnings\n",
    "warnings.filterwarnings('ignore')\n",
    "pd.set_option('Display.max_columns',100)\n",
    "pd.set_option('Display.max_rows',100)"
   ]
  },
  {
   "source": [
    "## Import Dataset"
   ],
   "cell_type": "markdown",
   "metadata": {}
  },
  {
   "cell_type": "code",
   "execution_count": 2,
   "metadata": {},
   "outputs": [],
   "source": [
    "path = \"../final_assignment_public/Telecom_customer_churn.csv\"\n",
    "df = pd.read_csv( path )"
   ]
  },
  {
   "source": [
    "## Data Preprocessing"
   ],
   "cell_type": "markdown",
   "metadata": {}
  },
  {
   "source": [
    "### Categorical data"
   ],
   "cell_type": "markdown",
   "metadata": {}
  },
  {
   "cell_type": "code",
   "execution_count": 3,
   "metadata": {},
   "outputs": [
    {
     "output_type": "execute_result",
     "data": {
      "text/plain": [
       "       rev_Mean  mou_Mean  totmrc_Mean  da_Mean  ovrmou_Mean  ovrrev_Mean  \\\n",
       "0       23.9975    219.25       22.500   0.2475         0.00          0.0   \n",
       "1       57.4925    482.75       37.425   0.2475        22.75          9.1   \n",
       "2       16.9900     10.25       16.990   0.0000         0.00          0.0   \n",
       "3       38.0000      7.50       38.000   0.0000         0.00          0.0   \n",
       "4       55.2300    570.50       71.980   0.0000         0.00          0.0   \n",
       "...         ...       ...          ...      ...          ...          ...   \n",
       "99995       NaN       NaN          NaN      NaN          NaN          NaN   \n",
       "99996       NaN       NaN          NaN      NaN          NaN          NaN   \n",
       "99997       NaN       NaN          NaN      NaN          NaN          NaN   \n",
       "99998       NaN       NaN          NaN      NaN          NaN          NaN   \n",
       "99999       NaN       NaN          NaN      NaN          NaN          NaN   \n",
       "\n",
       "       vceovr_Mean  datovr_Mean  roam_Mean  change_mou  change_rev  \\\n",
       "0              0.0          0.0        0.0     -157.25    -18.9975   \n",
       "1              9.1          0.0        0.0      532.25     50.9875   \n",
       "2              0.0          0.0        0.0       -4.25      0.0000   \n",
       "3              0.0          0.0        0.0       -1.50      0.0000   \n",
       "4              0.0          0.0        0.0       38.50      0.0000   \n",
       "...            ...          ...        ...         ...         ...   \n",
       "99995          NaN          NaN        NaN         NaN         NaN   \n",
       "99996          NaN          NaN        NaN         NaN         NaN   \n",
       "99997          NaN          NaN        NaN         NaN         NaN   \n",
       "99998          NaN          NaN        NaN         NaN         NaN   \n",
       "99999          NaN          NaN        NaN         NaN         NaN   \n",
       "\n",
       "       drop_vce_Mean  drop_dat_Mean  blck_vce_Mean  blck_dat_Mean  \\\n",
       "0           0.666667            0.0       0.666667            0.0   \n",
       "1           8.333333            0.0       1.000000            0.0   \n",
       "2           0.333333            0.0       0.000000            0.0   \n",
       "3           0.000000            0.0       0.000000            0.0   \n",
       "4           9.666667            0.0       0.666667            0.0   \n",
       "...              ...            ...            ...            ...   \n",
       "99995       2.000000            0.0       0.000000            0.0   \n",
       "99996       3.000000            0.0       1.000000            0.0   \n",
       "99997       0.000000            0.0       0.000000            0.0   \n",
       "99998      18.666667            0.0       0.666667            0.0   \n",
       "99999       5.666667            0.0       0.666667            0.0   \n",
       "\n",
       "       unan_vce_Mean  unan_dat_Mean  plcd_vce_Mean  plcd_dat_Mean  \\\n",
       "0           6.333333            0.0      52.333333       0.000000   \n",
       "1          61.333333            0.0     263.333333       0.000000   \n",
       "2           2.666667            0.0       9.000000       0.000000   \n",
       "3           0.000000            0.0       3.666667       0.000000   \n",
       "4          77.000000            0.0     222.333333       0.000000   \n",
       "...              ...            ...            ...            ...   \n",
       "99995       7.666667            0.0      54.666667       0.000000   \n",
       "99996      12.333333            0.0      69.333333       0.000000   \n",
       "99997       0.000000            0.0       0.000000       0.000000   \n",
       "99998     117.333333            0.0     550.666667       0.333333   \n",
       "99999      19.333333            0.0     155.666667       0.000000   \n",
       "\n",
       "       recv_vce_Mean  recv_sms_Mean  comp_vce_Mean  comp_dat_Mean  \\\n",
       "0          42.333333            0.0      45.000000       0.000000   \n",
       "1          69.000000            0.0     193.333333       0.000000   \n",
       "2           0.333333            0.0       6.000000       0.000000   \n",
       "3           1.333333            0.0       3.666667       0.000000   \n",
       "4          94.666667            0.0     137.000000       0.000000   \n",
       "...              ...            ...            ...            ...   \n",
       "99995       3.000000            0.0      45.333333       0.000000   \n",
       "99996      15.333333            0.0      53.333333       0.000000   \n",
       "99997       0.000000            0.0       0.000000       0.000000   \n",
       "99998     327.000000            0.0     417.000000       0.333333   \n",
       "99999       1.333333            0.0     130.000000       0.000000   \n",
       "\n",
       "       custcare_Mean  ccrndmou_Mean  cc_mou_Mean  inonemin_Mean  \\\n",
       "0           0.000000       0.000000     0.000000      18.000000   \n",
       "1           1.666667       6.333333     5.463333      53.000000   \n",
       "2           0.000000       0.000000     0.000000       0.333333   \n",
       "3           0.000000       0.000000     0.000000       1.333333   \n",
       "4           8.666667      15.000000    11.076667      66.000000   \n",
       "...              ...            ...          ...            ...   \n",
       "99995       0.000000       0.000000     0.000000       1.666667   \n",
       "99996       0.000000       0.000000     0.000000       9.000000   \n",
       "99997       0.000000       0.000000     0.000000       0.000000   \n",
       "99998       1.333333       1.333333     0.106667     235.333333   \n",
       "99999       0.666667       0.666667     0.183333       1.333333   \n",
       "\n",
       "       threeway_Mean  mou_cvce_Mean  mou_cdat_Mean  mou_rvce_Mean  \\\n",
       "0           0.000000      90.643333       0.000000      97.176667   \n",
       "1           0.333333     189.396667       0.000000      55.280000   \n",
       "2           0.000000       5.426667       0.000000       0.000000   \n",
       "3           0.000000       8.410000       0.000000       0.413333   \n",
       "4           0.000000     285.233333       0.000000     106.330000   \n",
       "...              ...            ...            ...            ...   \n",
       "99995       0.000000      94.866667       0.000000       2.016667   \n",
       "99996       0.333333     100.760000       0.000000      21.413333   \n",
       "99997       0.000000       0.000000       0.000000       0.000000   \n",
       "99998       1.000000     564.233333       1.656667     330.890000   \n",
       "99999       3.666667     164.436667       0.000000       0.000000   \n",
       "\n",
       "       owylis_vce_Mean  mouowylisv_Mean  iwylis_vce_Mean  mouiwylisv_Mean  \\\n",
       "0             0.000000         0.000000         0.000000         0.000000   \n",
       "1            46.333333        24.216667         6.333333         3.696667   \n",
       "2             0.000000         0.000000         0.000000         0.000000   \n",
       "3             0.333333         0.256667         0.000000         0.000000   \n",
       "4            14.666667        10.816667         0.666667         0.366667   \n",
       "...                ...              ...              ...              ...   \n",
       "99995         2.666667         1.680000         0.000000         0.000000   \n",
       "99996         6.666667        14.893333         0.000000         0.000000   \n",
       "99997         0.000000         0.000000         0.000000         0.000000   \n",
       "99998        55.000000        62.896667        16.666667        32.883333   \n",
       "99999         4.666667         7.110000         0.000000         0.000000   \n",
       "\n",
       "       peak_vce_Mean  peak_dat_Mean  mou_peav_Mean  mou_pead_Mean  \\\n",
       "0          58.000000       0.000000     132.600000       0.000000   \n",
       "1          83.666667       0.000000      75.333333       0.000000   \n",
       "2           5.000000       0.000000       5.193333       0.000000   \n",
       "3           1.333333       0.000000       3.380000       0.000000   \n",
       "4          97.333333       0.000000     173.476667       0.000000   \n",
       "...              ...            ...            ...            ...   \n",
       "99995      20.666667       0.000000      23.566667       0.000000   \n",
       "99996      60.333333       0.000000     121.790000       0.000000   \n",
       "99997       0.000000       0.000000       0.000000       0.000000   \n",
       "99998     442.333333       0.333333     641.230000       1.656667   \n",
       "99999      99.000000       0.000000     133.690000       0.000000   \n",
       "\n",
       "       opk_vce_Mean  opk_dat_Mean  mou_opkv_Mean  mou_opkd_Mean  \\\n",
       "0         24.000000           0.0      55.220000            0.0   \n",
       "1        157.000000           0.0     169.343333            0.0   \n",
       "2          1.000000           0.0       0.233333            0.0   \n",
       "3          3.666667           0.0       5.450000            0.0   \n",
       "4         90.333333           0.0     218.086667            0.0   \n",
       "...             ...           ...            ...            ...   \n",
       "99995     26.666667           0.0      73.316667            0.0   \n",
       "99996      1.000000           0.0       0.383333            0.0   \n",
       "99997      0.000000           0.0       0.000000            0.0   \n",
       "99998    167.333333           0.0     253.893333            0.0   \n",
       "99999     32.333333           0.0      30.746667            0.0   \n",
       "\n",
       "       drop_blk_Mean  attempt_Mean  complete_Mean  callfwdv_Mean  \\\n",
       "0           1.333333     52.333333      45.000000            0.0   \n",
       "1           9.333333    263.333333     193.333333            0.0   \n",
       "2           0.333333      9.000000       6.000000            0.0   \n",
       "3           0.000000      3.666667       3.666667            0.0   \n",
       "4          10.333333    222.333333     137.000000            0.0   \n",
       "...              ...           ...            ...            ...   \n",
       "99995       2.000000     54.666667      45.333333            0.0   \n",
       "99996       4.000000     69.333333      53.333333            0.0   \n",
       "99997       0.000000      0.000000       0.000000            0.0   \n",
       "99998      19.333333    551.000000     417.333333            0.0   \n",
       "99999       6.333333    155.666667     130.000000            0.0   \n",
       "\n",
       "       callwait_Mean  churn  months  uniqsubs  actvsubs  totcalls  \\\n",
       "0           0.333333      1      61         2         1      1652   \n",
       "1           5.666667      0      56         1         1     14654   \n",
       "2           0.000000      1      58         1         1      7903   \n",
       "3           0.000000      0      60         1         1      1502   \n",
       "4           0.000000      0      57         1         1      4485   \n",
       "...              ...    ...     ...       ...       ...       ...   \n",
       "99995       0.000000      1      25         1         1      3771   \n",
       "99996       0.000000      0      27         1         1      3675   \n",
       "99997       0.000000      0      31         1         1      1271   \n",
       "99998       0.000000      0      25         1         1     10082   \n",
       "99999       0.000000      1      25         1         1      1303   \n",
       "\n",
       "            totmou   totrev   adjrev    adjmou  adjqty  avgrev  avgmou  \\\n",
       "0       4228.00000  1504.62  1453.44   4085.00    1602   29.66   83.37   \n",
       "1      26400.00000  2851.68  2833.88  26367.00   14624   51.53  479.40   \n",
       "2      24385.05333  2155.91  1934.47  24303.05    7888   34.54  433.98   \n",
       "3       3065.00000  2000.90  1941.81   3035.00    1479   40.45   63.23   \n",
       "4      14028.00000  2181.12  2166.48  13965.00    4452   38.69  249.38   \n",
       "...            ...      ...      ...       ...     ...     ...     ...   \n",
       "99995   9534.00000  1594.83  1561.14   9494.00    3751   74.34  452.10   \n",
       "99996   8887.00000  1517.10  1451.85   8805.00    3629   72.59  440.25   \n",
       "99997   9336.00000  1114.91  1055.93   9234.00    1238   55.58  486.00   \n",
       "99998  20784.00000  2669.20  2593.26  20488.00    9921  123.49  975.62   \n",
       "99999   2355.00000   956.47   885.94   2225.00    1231   46.63  117.11   \n",
       "\n",
       "       avgqty  avg3mou  avg3qty  avg3rev  avg6mou  avg6qty  avg6rev  \\\n",
       "0       32.69      272      116       30    322.0    136.0     38.0   \n",
       "1      265.89      305      158       40    477.0    275.0     48.0   \n",
       "2      140.86       12        7       17     11.0      6.0     17.0   \n",
       "3       30.81        8        3       38     50.0     25.0     40.0   \n",
       "4       79.50      558      191       55    586.0    196.0     80.0   \n",
       "...       ...      ...      ...      ...      ...      ...      ...   \n",
       "99995  178.62      410      121       73    603.0    159.0    100.0   \n",
       "99996  181.45      382      126       73    410.0    143.0     69.0   \n",
       "99997   65.16      662       85       61    712.0     88.0     72.0   \n",
       "99998  472.43     1031      450      148    943.0    433.0    165.0   \n",
       "99999   64.79      105       60       51    111.0     64.0     51.0   \n",
       "\n",
       "       hnd_price  phones  models  truck   rv   lor  adults  income  numbcars  \\\n",
       "0      149.98999     2.0     2.0    0.0  0.0  15.0     1.0     4.0       3.0   \n",
       "1            NaN     7.0     6.0    1.0  1.0   1.0     1.0     5.0       1.0   \n",
       "2       29.98999     2.0     1.0    0.0  0.0   7.0     2.0     5.0       2.0   \n",
       "3       29.98999     1.0     1.0    0.0  0.0   6.0     4.0     6.0       1.0   \n",
       "4      149.98999     6.0     4.0    0.0  0.0   5.0     1.0     6.0       1.0   \n",
       "...          ...     ...     ...    ...  ...   ...     ...     ...       ...   \n",
       "99995   29.98999     1.0     1.0    0.0  0.0  15.0     5.0     4.0       2.0   \n",
       "99996   29.98999     1.0     1.0    0.0  0.0   9.0     3.0     7.0       2.0   \n",
       "99997  199.98999     2.0     2.0    0.0  0.0   NaN     1.0     9.0       NaN   \n",
       "99998  149.98999     7.0     5.0    0.0  0.0   NaN     NaN     NaN       NaN   \n",
       "99999  149.98999     3.0     2.0    0.0  0.0   2.0     2.0     4.0       NaN   \n",
       "\n",
       "       forgntvl  eqpdays  Customer_ID  \n",
       "0           0.0    361.0      1000001  \n",
       "1           0.0    240.0      1000002  \n",
       "2           0.0   1504.0      1000003  \n",
       "3           0.0   1812.0      1000004  \n",
       "4           0.0    434.0      1000005  \n",
       "...         ...      ...          ...  \n",
       "99995       0.0    773.0      1099996  \n",
       "99996       0.0    835.0      1099997  \n",
       "99997       0.0    433.0      1099998  \n",
       "99998       0.0     75.0      1099999  \n",
       "99999       0.0      5.0      1100000  \n",
       "\n",
       "[100000 rows x 79 columns]"
      ],
      "text/html": "<div>\n<style scoped>\n    .dataframe tbody tr th:only-of-type {\n        vertical-align: middle;\n    }\n\n    .dataframe tbody tr th {\n        vertical-align: top;\n    }\n\n    .dataframe thead th {\n        text-align: right;\n    }\n</style>\n<table border=\"1\" class=\"dataframe\">\n  <thead>\n    <tr style=\"text-align: right;\">\n      <th></th>\n      <th>rev_Mean</th>\n      <th>mou_Mean</th>\n      <th>totmrc_Mean</th>\n      <th>da_Mean</th>\n      <th>ovrmou_Mean</th>\n      <th>ovrrev_Mean</th>\n      <th>vceovr_Mean</th>\n      <th>datovr_Mean</th>\n      <th>roam_Mean</th>\n      <th>change_mou</th>\n      <th>change_rev</th>\n      <th>drop_vce_Mean</th>\n      <th>drop_dat_Mean</th>\n      <th>blck_vce_Mean</th>\n      <th>blck_dat_Mean</th>\n      <th>unan_vce_Mean</th>\n      <th>unan_dat_Mean</th>\n      <th>plcd_vce_Mean</th>\n      <th>plcd_dat_Mean</th>\n      <th>recv_vce_Mean</th>\n      <th>recv_sms_Mean</th>\n      <th>comp_vce_Mean</th>\n      <th>comp_dat_Mean</th>\n      <th>custcare_Mean</th>\n      <th>ccrndmou_Mean</th>\n      <th>cc_mou_Mean</th>\n      <th>inonemin_Mean</th>\n      <th>threeway_Mean</th>\n      <th>mou_cvce_Mean</th>\n      <th>mou_cdat_Mean</th>\n      <th>mou_rvce_Mean</th>\n      <th>owylis_vce_Mean</th>\n      <th>mouowylisv_Mean</th>\n      <th>iwylis_vce_Mean</th>\n      <th>mouiwylisv_Mean</th>\n      <th>peak_vce_Mean</th>\n      <th>peak_dat_Mean</th>\n      <th>mou_peav_Mean</th>\n      <th>mou_pead_Mean</th>\n      <th>opk_vce_Mean</th>\n      <th>opk_dat_Mean</th>\n      <th>mou_opkv_Mean</th>\n      <th>mou_opkd_Mean</th>\n      <th>drop_blk_Mean</th>\n      <th>attempt_Mean</th>\n      <th>complete_Mean</th>\n      <th>callfwdv_Mean</th>\n      <th>callwait_Mean</th>\n      <th>churn</th>\n      <th>months</th>\n      <th>uniqsubs</th>\n      <th>actvsubs</th>\n      <th>totcalls</th>\n      <th>totmou</th>\n      <th>totrev</th>\n      <th>adjrev</th>\n      <th>adjmou</th>\n      <th>adjqty</th>\n      <th>avgrev</th>\n      <th>avgmou</th>\n      <th>avgqty</th>\n      <th>avg3mou</th>\n      <th>avg3qty</th>\n      <th>avg3rev</th>\n      <th>avg6mou</th>\n      <th>avg6qty</th>\n      <th>avg6rev</th>\n      <th>hnd_price</th>\n      <th>phones</th>\n      <th>models</th>\n      <th>truck</th>\n      <th>rv</th>\n      <th>lor</th>\n      <th>adults</th>\n      <th>income</th>\n      <th>numbcars</th>\n      <th>forgntvl</th>\n      <th>eqpdays</th>\n      <th>Customer_ID</th>\n    </tr>\n  </thead>\n  <tbody>\n    <tr>\n      <th>0</th>\n      <td>23.9975</td>\n      <td>219.25</td>\n      <td>22.500</td>\n      <td>0.2475</td>\n      <td>0.00</td>\n      <td>0.0</td>\n      <td>0.0</td>\n      <td>0.0</td>\n      <td>0.0</td>\n      <td>-157.25</td>\n      <td>-18.9975</td>\n      <td>0.666667</td>\n      <td>0.0</td>\n      <td>0.666667</td>\n      <td>0.0</td>\n      <td>6.333333</td>\n      <td>0.0</td>\n      <td>52.333333</td>\n      <td>0.000000</td>\n      <td>42.333333</td>\n      <td>0.0</td>\n      <td>45.000000</td>\n      <td>0.000000</td>\n      <td>0.000000</td>\n      <td>0.000000</td>\n      <td>0.000000</td>\n      <td>18.000000</td>\n      <td>0.000000</td>\n      <td>90.643333</td>\n      <td>0.000000</td>\n      <td>97.176667</td>\n      <td>0.000000</td>\n      <td>0.000000</td>\n      <td>0.000000</td>\n      <td>0.000000</td>\n      <td>58.000000</td>\n      <td>0.000000</td>\n      <td>132.600000</td>\n      <td>0.000000</td>\n      <td>24.000000</td>\n      <td>0.0</td>\n      <td>55.220000</td>\n      <td>0.0</td>\n      <td>1.333333</td>\n      <td>52.333333</td>\n      <td>45.000000</td>\n      <td>0.0</td>\n      <td>0.333333</td>\n      <td>1</td>\n      <td>61</td>\n      <td>2</td>\n      <td>1</td>\n      <td>1652</td>\n      <td>4228.00000</td>\n      <td>1504.62</td>\n      <td>1453.44</td>\n      <td>4085.00</td>\n      <td>1602</td>\n      <td>29.66</td>\n      <td>83.37</td>\n      <td>32.69</td>\n      <td>272</td>\n      <td>116</td>\n      <td>30</td>\n      <td>322.0</td>\n      <td>136.0</td>\n      <td>38.0</td>\n      <td>149.98999</td>\n      <td>2.0</td>\n      <td>2.0</td>\n      <td>0.0</td>\n      <td>0.0</td>\n      <td>15.0</td>\n      <td>1.0</td>\n      <td>4.0</td>\n      <td>3.0</td>\n      <td>0.0</td>\n      <td>361.0</td>\n      <td>1000001</td>\n    </tr>\n    <tr>\n      <th>1</th>\n      <td>57.4925</td>\n      <td>482.75</td>\n      <td>37.425</td>\n      <td>0.2475</td>\n      <td>22.75</td>\n      <td>9.1</td>\n      <td>9.1</td>\n      <td>0.0</td>\n      <td>0.0</td>\n      <td>532.25</td>\n      <td>50.9875</td>\n      <td>8.333333</td>\n      <td>0.0</td>\n      <td>1.000000</td>\n      <td>0.0</td>\n      <td>61.333333</td>\n      <td>0.0</td>\n      <td>263.333333</td>\n      <td>0.000000</td>\n      <td>69.000000</td>\n      <td>0.0</td>\n      <td>193.333333</td>\n      <td>0.000000</td>\n      <td>1.666667</td>\n      <td>6.333333</td>\n      <td>5.463333</td>\n      <td>53.000000</td>\n      <td>0.333333</td>\n      <td>189.396667</td>\n      <td>0.000000</td>\n      <td>55.280000</td>\n      <td>46.333333</td>\n      <td>24.216667</td>\n      <td>6.333333</td>\n      <td>3.696667</td>\n      <td>83.666667</td>\n      <td>0.000000</td>\n      <td>75.333333</td>\n      <td>0.000000</td>\n      <td>157.000000</td>\n      <td>0.0</td>\n      <td>169.343333</td>\n      <td>0.0</td>\n      <td>9.333333</td>\n      <td>263.333333</td>\n      <td>193.333333</td>\n      <td>0.0</td>\n      <td>5.666667</td>\n      <td>0</td>\n      <td>56</td>\n      <td>1</td>\n      <td>1</td>\n      <td>14654</td>\n      <td>26400.00000</td>\n      <td>2851.68</td>\n      <td>2833.88</td>\n      <td>26367.00</td>\n      <td>14624</td>\n      <td>51.53</td>\n      <td>479.40</td>\n      <td>265.89</td>\n      <td>305</td>\n      <td>158</td>\n      <td>40</td>\n      <td>477.0</td>\n      <td>275.0</td>\n      <td>48.0</td>\n      <td>NaN</td>\n      <td>7.0</td>\n      <td>6.0</td>\n      <td>1.0</td>\n      <td>1.0</td>\n      <td>1.0</td>\n      <td>1.0</td>\n      <td>5.0</td>\n      <td>1.0</td>\n      <td>0.0</td>\n      <td>240.0</td>\n      <td>1000002</td>\n    </tr>\n    <tr>\n      <th>2</th>\n      <td>16.9900</td>\n      <td>10.25</td>\n      <td>16.990</td>\n      <td>0.0000</td>\n      <td>0.00</td>\n      <td>0.0</td>\n      <td>0.0</td>\n      <td>0.0</td>\n      <td>0.0</td>\n      <td>-4.25</td>\n      <td>0.0000</td>\n      <td>0.333333</td>\n      <td>0.0</td>\n      <td>0.000000</td>\n      <td>0.0</td>\n      <td>2.666667</td>\n      <td>0.0</td>\n      <td>9.000000</td>\n      <td>0.000000</td>\n      <td>0.333333</td>\n      <td>0.0</td>\n      <td>6.000000</td>\n      <td>0.000000</td>\n      <td>0.000000</td>\n      <td>0.000000</td>\n      <td>0.000000</td>\n      <td>0.333333</td>\n      <td>0.000000</td>\n      <td>5.426667</td>\n      <td>0.000000</td>\n      <td>0.000000</td>\n      <td>0.000000</td>\n      <td>0.000000</td>\n      <td>0.000000</td>\n      <td>0.000000</td>\n      <td>5.000000</td>\n      <td>0.000000</td>\n      <td>5.193333</td>\n      <td>0.000000</td>\n      <td>1.000000</td>\n      <td>0.0</td>\n      <td>0.233333</td>\n      <td>0.0</td>\n      <td>0.333333</td>\n      <td>9.000000</td>\n      <td>6.000000</td>\n      <td>0.0</td>\n      <td>0.000000</td>\n      <td>1</td>\n      <td>58</td>\n      <td>1</td>\n      <td>1</td>\n      <td>7903</td>\n      <td>24385.05333</td>\n      <td>2155.91</td>\n      <td>1934.47</td>\n      <td>24303.05</td>\n      <td>7888</td>\n      <td>34.54</td>\n      <td>433.98</td>\n      <td>140.86</td>\n      <td>12</td>\n      <td>7</td>\n      <td>17</td>\n      <td>11.0</td>\n      <td>6.0</td>\n      <td>17.0</td>\n      <td>29.98999</td>\n      <td>2.0</td>\n      <td>1.0</td>\n      <td>0.0</td>\n      <td>0.0</td>\n      <td>7.0</td>\n      <td>2.0</td>\n      <td>5.0</td>\n      <td>2.0</td>\n      <td>0.0</td>\n      <td>1504.0</td>\n      <td>1000003</td>\n    </tr>\n    <tr>\n      <th>3</th>\n      <td>38.0000</td>\n      <td>7.50</td>\n      <td>38.000</td>\n      <td>0.0000</td>\n      <td>0.00</td>\n      <td>0.0</td>\n      <td>0.0</td>\n      <td>0.0</td>\n      <td>0.0</td>\n      <td>-1.50</td>\n      <td>0.0000</td>\n      <td>0.000000</td>\n      <td>0.0</td>\n      <td>0.000000</td>\n      <td>0.0</td>\n      <td>0.000000</td>\n      <td>0.0</td>\n      <td>3.666667</td>\n      <td>0.000000</td>\n      <td>1.333333</td>\n      <td>0.0</td>\n      <td>3.666667</td>\n      <td>0.000000</td>\n      <td>0.000000</td>\n      <td>0.000000</td>\n      <td>0.000000</td>\n      <td>1.333333</td>\n      <td>0.000000</td>\n      <td>8.410000</td>\n      <td>0.000000</td>\n      <td>0.413333</td>\n      <td>0.333333</td>\n      <td>0.256667</td>\n      <td>0.000000</td>\n      <td>0.000000</td>\n      <td>1.333333</td>\n      <td>0.000000</td>\n      <td>3.380000</td>\n      <td>0.000000</td>\n      <td>3.666667</td>\n      <td>0.0</td>\n      <td>5.450000</td>\n      <td>0.0</td>\n      <td>0.000000</td>\n      <td>3.666667</td>\n      <td>3.666667</td>\n      <td>0.0</td>\n      <td>0.000000</td>\n      <td>0</td>\n      <td>60</td>\n      <td>1</td>\n      <td>1</td>\n      <td>1502</td>\n      <td>3065.00000</td>\n      <td>2000.90</td>\n      <td>1941.81</td>\n      <td>3035.00</td>\n      <td>1479</td>\n      <td>40.45</td>\n      <td>63.23</td>\n      <td>30.81</td>\n      <td>8</td>\n      <td>3</td>\n      <td>38</td>\n      <td>50.0</td>\n      <td>25.0</td>\n      <td>40.0</td>\n      <td>29.98999</td>\n      <td>1.0</td>\n      <td>1.0</td>\n      <td>0.0</td>\n      <td>0.0</td>\n      <td>6.0</td>\n      <td>4.0</td>\n      <td>6.0</td>\n      <td>1.0</td>\n      <td>0.0</td>\n      <td>1812.0</td>\n      <td>1000004</td>\n    </tr>\n    <tr>\n      <th>4</th>\n      <td>55.2300</td>\n      <td>570.50</td>\n      <td>71.980</td>\n      <td>0.0000</td>\n      <td>0.00</td>\n      <td>0.0</td>\n      <td>0.0</td>\n      <td>0.0</td>\n      <td>0.0</td>\n      <td>38.50</td>\n      <td>0.0000</td>\n      <td>9.666667</td>\n      <td>0.0</td>\n      <td>0.666667</td>\n      <td>0.0</td>\n      <td>77.000000</td>\n      <td>0.0</td>\n      <td>222.333333</td>\n      <td>0.000000</td>\n      <td>94.666667</td>\n      <td>0.0</td>\n      <td>137.000000</td>\n      <td>0.000000</td>\n      <td>8.666667</td>\n      <td>15.000000</td>\n      <td>11.076667</td>\n      <td>66.000000</td>\n      <td>0.000000</td>\n      <td>285.233333</td>\n      <td>0.000000</td>\n      <td>106.330000</td>\n      <td>14.666667</td>\n      <td>10.816667</td>\n      <td>0.666667</td>\n      <td>0.366667</td>\n      <td>97.333333</td>\n      <td>0.000000</td>\n      <td>173.476667</td>\n      <td>0.000000</td>\n      <td>90.333333</td>\n      <td>0.0</td>\n      <td>218.086667</td>\n      <td>0.0</td>\n      <td>10.333333</td>\n      <td>222.333333</td>\n      <td>137.000000</td>\n      <td>0.0</td>\n      <td>0.000000</td>\n      <td>0</td>\n      <td>57</td>\n      <td>1</td>\n      <td>1</td>\n      <td>4485</td>\n      <td>14028.00000</td>\n      <td>2181.12</td>\n      <td>2166.48</td>\n      <td>13965.00</td>\n      <td>4452</td>\n      <td>38.69</td>\n      <td>249.38</td>\n      <td>79.50</td>\n      <td>558</td>\n      <td>191</td>\n      <td>55</td>\n      <td>586.0</td>\n      <td>196.0</td>\n      <td>80.0</td>\n      <td>149.98999</td>\n      <td>6.0</td>\n      <td>4.0</td>\n      <td>0.0</td>\n      <td>0.0</td>\n      <td>5.0</td>\n      <td>1.0</td>\n      <td>6.0</td>\n      <td>1.0</td>\n      <td>0.0</td>\n      <td>434.0</td>\n      <td>1000005</td>\n    </tr>\n    <tr>\n      <th>...</th>\n      <td>...</td>\n      <td>...</td>\n      <td>...</td>\n      <td>...</td>\n      <td>...</td>\n      <td>...</td>\n      <td>...</td>\n      <td>...</td>\n      <td>...</td>\n      <td>...</td>\n      <td>...</td>\n      <td>...</td>\n      <td>...</td>\n      <td>...</td>\n      <td>...</td>\n      <td>...</td>\n      <td>...</td>\n      <td>...</td>\n      <td>...</td>\n      <td>...</td>\n      <td>...</td>\n      <td>...</td>\n      <td>...</td>\n      <td>...</td>\n      <td>...</td>\n      <td>...</td>\n      <td>...</td>\n      <td>...</td>\n      <td>...</td>\n      <td>...</td>\n      <td>...</td>\n      <td>...</td>\n      <td>...</td>\n      <td>...</td>\n      <td>...</td>\n      <td>...</td>\n      <td>...</td>\n      <td>...</td>\n      <td>...</td>\n      <td>...</td>\n      <td>...</td>\n      <td>...</td>\n      <td>...</td>\n      <td>...</td>\n      <td>...</td>\n      <td>...</td>\n      <td>...</td>\n      <td>...</td>\n      <td>...</td>\n      <td>...</td>\n      <td>...</td>\n      <td>...</td>\n      <td>...</td>\n      <td>...</td>\n      <td>...</td>\n      <td>...</td>\n      <td>...</td>\n      <td>...</td>\n      <td>...</td>\n      <td>...</td>\n      <td>...</td>\n      <td>...</td>\n      <td>...</td>\n      <td>...</td>\n      <td>...</td>\n      <td>...</td>\n      <td>...</td>\n      <td>...</td>\n      <td>...</td>\n      <td>...</td>\n      <td>...</td>\n      <td>...</td>\n      <td>...</td>\n      <td>...</td>\n      <td>...</td>\n      <td>...</td>\n      <td>...</td>\n      <td>...</td>\n      <td>...</td>\n    </tr>\n    <tr>\n      <th>99995</th>\n      <td>NaN</td>\n      <td>NaN</td>\n      <td>NaN</td>\n      <td>NaN</td>\n      <td>NaN</td>\n      <td>NaN</td>\n      <td>NaN</td>\n      <td>NaN</td>\n      <td>NaN</td>\n      <td>NaN</td>\n      <td>NaN</td>\n      <td>2.000000</td>\n      <td>0.0</td>\n      <td>0.000000</td>\n      <td>0.0</td>\n      <td>7.666667</td>\n      <td>0.0</td>\n      <td>54.666667</td>\n      <td>0.000000</td>\n      <td>3.000000</td>\n      <td>0.0</td>\n      <td>45.333333</td>\n      <td>0.000000</td>\n      <td>0.000000</td>\n      <td>0.000000</td>\n      <td>0.000000</td>\n      <td>1.666667</td>\n      <td>0.000000</td>\n      <td>94.866667</td>\n      <td>0.000000</td>\n      <td>2.016667</td>\n      <td>2.666667</td>\n      <td>1.680000</td>\n      <td>0.000000</td>\n      <td>0.000000</td>\n      <td>20.666667</td>\n      <td>0.000000</td>\n      <td>23.566667</td>\n      <td>0.000000</td>\n      <td>26.666667</td>\n      <td>0.0</td>\n      <td>73.316667</td>\n      <td>0.0</td>\n      <td>2.000000</td>\n      <td>54.666667</td>\n      <td>45.333333</td>\n      <td>0.0</td>\n      <td>0.000000</td>\n      <td>1</td>\n      <td>25</td>\n      <td>1</td>\n      <td>1</td>\n      <td>3771</td>\n      <td>9534.00000</td>\n      <td>1594.83</td>\n      <td>1561.14</td>\n      <td>9494.00</td>\n      <td>3751</td>\n      <td>74.34</td>\n      <td>452.10</td>\n      <td>178.62</td>\n      <td>410</td>\n      <td>121</td>\n      <td>73</td>\n      <td>603.0</td>\n      <td>159.0</td>\n      <td>100.0</td>\n      <td>29.98999</td>\n      <td>1.0</td>\n      <td>1.0</td>\n      <td>0.0</td>\n      <td>0.0</td>\n      <td>15.0</td>\n      <td>5.0</td>\n      <td>4.0</td>\n      <td>2.0</td>\n      <td>0.0</td>\n      <td>773.0</td>\n      <td>1099996</td>\n    </tr>\n    <tr>\n      <th>99996</th>\n      <td>NaN</td>\n      <td>NaN</td>\n      <td>NaN</td>\n      <td>NaN</td>\n      <td>NaN</td>\n      <td>NaN</td>\n      <td>NaN</td>\n      <td>NaN</td>\n      <td>NaN</td>\n      <td>NaN</td>\n      <td>NaN</td>\n      <td>3.000000</td>\n      <td>0.0</td>\n      <td>1.000000</td>\n      <td>0.0</td>\n      <td>12.333333</td>\n      <td>0.0</td>\n      <td>69.333333</td>\n      <td>0.000000</td>\n      <td>15.333333</td>\n      <td>0.0</td>\n      <td>53.333333</td>\n      <td>0.000000</td>\n      <td>0.000000</td>\n      <td>0.000000</td>\n      <td>0.000000</td>\n      <td>9.000000</td>\n      <td>0.333333</td>\n      <td>100.760000</td>\n      <td>0.000000</td>\n      <td>21.413333</td>\n      <td>6.666667</td>\n      <td>14.893333</td>\n      <td>0.000000</td>\n      <td>0.000000</td>\n      <td>60.333333</td>\n      <td>0.000000</td>\n      <td>121.790000</td>\n      <td>0.000000</td>\n      <td>1.000000</td>\n      <td>0.0</td>\n      <td>0.383333</td>\n      <td>0.0</td>\n      <td>4.000000</td>\n      <td>69.333333</td>\n      <td>53.333333</td>\n      <td>0.0</td>\n      <td>0.000000</td>\n      <td>0</td>\n      <td>27</td>\n      <td>1</td>\n      <td>1</td>\n      <td>3675</td>\n      <td>8887.00000</td>\n      <td>1517.10</td>\n      <td>1451.85</td>\n      <td>8805.00</td>\n      <td>3629</td>\n      <td>72.59</td>\n      <td>440.25</td>\n      <td>181.45</td>\n      <td>382</td>\n      <td>126</td>\n      <td>73</td>\n      <td>410.0</td>\n      <td>143.0</td>\n      <td>69.0</td>\n      <td>29.98999</td>\n      <td>1.0</td>\n      <td>1.0</td>\n      <td>0.0</td>\n      <td>0.0</td>\n      <td>9.0</td>\n      <td>3.0</td>\n      <td>7.0</td>\n      <td>2.0</td>\n      <td>0.0</td>\n      <td>835.0</td>\n      <td>1099997</td>\n    </tr>\n    <tr>\n      <th>99997</th>\n      <td>NaN</td>\n      <td>NaN</td>\n      <td>NaN</td>\n      <td>NaN</td>\n      <td>NaN</td>\n      <td>NaN</td>\n      <td>NaN</td>\n      <td>NaN</td>\n      <td>NaN</td>\n      <td>NaN</td>\n      <td>NaN</td>\n      <td>0.000000</td>\n      <td>0.0</td>\n      <td>0.000000</td>\n      <td>0.0</td>\n      <td>0.000000</td>\n      <td>0.0</td>\n      <td>0.000000</td>\n      <td>0.000000</td>\n      <td>0.000000</td>\n      <td>0.0</td>\n      <td>0.000000</td>\n      <td>0.000000</td>\n      <td>0.000000</td>\n      <td>0.000000</td>\n      <td>0.000000</td>\n      <td>0.000000</td>\n      <td>0.000000</td>\n      <td>0.000000</td>\n      <td>0.000000</td>\n      <td>0.000000</td>\n      <td>0.000000</td>\n      <td>0.000000</td>\n      <td>0.000000</td>\n      <td>0.000000</td>\n      <td>0.000000</td>\n      <td>0.000000</td>\n      <td>0.000000</td>\n      <td>0.000000</td>\n      <td>0.000000</td>\n      <td>0.0</td>\n      <td>0.000000</td>\n      <td>0.0</td>\n      <td>0.000000</td>\n      <td>0.000000</td>\n      <td>0.000000</td>\n      <td>0.0</td>\n      <td>0.000000</td>\n      <td>0</td>\n      <td>31</td>\n      <td>1</td>\n      <td>1</td>\n      <td>1271</td>\n      <td>9336.00000</td>\n      <td>1114.91</td>\n      <td>1055.93</td>\n      <td>9234.00</td>\n      <td>1238</td>\n      <td>55.58</td>\n      <td>486.00</td>\n      <td>65.16</td>\n      <td>662</td>\n      <td>85</td>\n      <td>61</td>\n      <td>712.0</td>\n      <td>88.0</td>\n      <td>72.0</td>\n      <td>199.98999</td>\n      <td>2.0</td>\n      <td>2.0</td>\n      <td>0.0</td>\n      <td>0.0</td>\n      <td>NaN</td>\n      <td>1.0</td>\n      <td>9.0</td>\n      <td>NaN</td>\n      <td>0.0</td>\n      <td>433.0</td>\n      <td>1099998</td>\n    </tr>\n    <tr>\n      <th>99998</th>\n      <td>NaN</td>\n      <td>NaN</td>\n      <td>NaN</td>\n      <td>NaN</td>\n      <td>NaN</td>\n      <td>NaN</td>\n      <td>NaN</td>\n      <td>NaN</td>\n      <td>NaN</td>\n      <td>NaN</td>\n      <td>NaN</td>\n      <td>18.666667</td>\n      <td>0.0</td>\n      <td>0.666667</td>\n      <td>0.0</td>\n      <td>117.333333</td>\n      <td>0.0</td>\n      <td>550.666667</td>\n      <td>0.333333</td>\n      <td>327.000000</td>\n      <td>0.0</td>\n      <td>417.000000</td>\n      <td>0.333333</td>\n      <td>1.333333</td>\n      <td>1.333333</td>\n      <td>0.106667</td>\n      <td>235.333333</td>\n      <td>1.000000</td>\n      <td>564.233333</td>\n      <td>1.656667</td>\n      <td>330.890000</td>\n      <td>55.000000</td>\n      <td>62.896667</td>\n      <td>16.666667</td>\n      <td>32.883333</td>\n      <td>442.333333</td>\n      <td>0.333333</td>\n      <td>641.230000</td>\n      <td>1.656667</td>\n      <td>167.333333</td>\n      <td>0.0</td>\n      <td>253.893333</td>\n      <td>0.0</td>\n      <td>19.333333</td>\n      <td>551.000000</td>\n      <td>417.333333</td>\n      <td>0.0</td>\n      <td>0.000000</td>\n      <td>0</td>\n      <td>25</td>\n      <td>1</td>\n      <td>1</td>\n      <td>10082</td>\n      <td>20784.00000</td>\n      <td>2669.20</td>\n      <td>2593.26</td>\n      <td>20488.00</td>\n      <td>9921</td>\n      <td>123.49</td>\n      <td>975.62</td>\n      <td>472.43</td>\n      <td>1031</td>\n      <td>450</td>\n      <td>148</td>\n      <td>943.0</td>\n      <td>433.0</td>\n      <td>165.0</td>\n      <td>149.98999</td>\n      <td>7.0</td>\n      <td>5.0</td>\n      <td>0.0</td>\n      <td>0.0</td>\n      <td>NaN</td>\n      <td>NaN</td>\n      <td>NaN</td>\n      <td>NaN</td>\n      <td>0.0</td>\n      <td>75.0</td>\n      <td>1099999</td>\n    </tr>\n    <tr>\n      <th>99999</th>\n      <td>NaN</td>\n      <td>NaN</td>\n      <td>NaN</td>\n      <td>NaN</td>\n      <td>NaN</td>\n      <td>NaN</td>\n      <td>NaN</td>\n      <td>NaN</td>\n      <td>NaN</td>\n      <td>NaN</td>\n      <td>NaN</td>\n      <td>5.666667</td>\n      <td>0.0</td>\n      <td>0.666667</td>\n      <td>0.0</td>\n      <td>19.333333</td>\n      <td>0.0</td>\n      <td>155.666667</td>\n      <td>0.000000</td>\n      <td>1.333333</td>\n      <td>0.0</td>\n      <td>130.000000</td>\n      <td>0.000000</td>\n      <td>0.666667</td>\n      <td>0.666667</td>\n      <td>0.183333</td>\n      <td>1.333333</td>\n      <td>3.666667</td>\n      <td>164.436667</td>\n      <td>0.000000</td>\n      <td>0.000000</td>\n      <td>4.666667</td>\n      <td>7.110000</td>\n      <td>0.000000</td>\n      <td>0.000000</td>\n      <td>99.000000</td>\n      <td>0.000000</td>\n      <td>133.690000</td>\n      <td>0.000000</td>\n      <td>32.333333</td>\n      <td>0.0</td>\n      <td>30.746667</td>\n      <td>0.0</td>\n      <td>6.333333</td>\n      <td>155.666667</td>\n      <td>130.000000</td>\n      <td>0.0</td>\n      <td>0.000000</td>\n      <td>1</td>\n      <td>25</td>\n      <td>1</td>\n      <td>1</td>\n      <td>1303</td>\n      <td>2355.00000</td>\n      <td>956.47</td>\n      <td>885.94</td>\n      <td>2225.00</td>\n      <td>1231</td>\n      <td>46.63</td>\n      <td>117.11</td>\n      <td>64.79</td>\n      <td>105</td>\n      <td>60</td>\n      <td>51</td>\n      <td>111.0</td>\n      <td>64.0</td>\n      <td>51.0</td>\n      <td>149.98999</td>\n      <td>3.0</td>\n      <td>2.0</td>\n      <td>0.0</td>\n      <td>0.0</td>\n      <td>2.0</td>\n      <td>2.0</td>\n      <td>4.0</td>\n      <td>NaN</td>\n      <td>0.0</td>\n      <td>5.0</td>\n      <td>1100000</td>\n    </tr>\n  </tbody>\n</table>\n<p>100000 rows × 79 columns</p>\n</div>"
     },
     "metadata": {},
     "execution_count": 3
    }
   ],
   "source": [
    "# カテゴリカル変数を表示\n",
    "x_cat = df[df.select_dtypes( include=object ).columns].columns\n",
    "\n",
    "# カテゴリカル変数を落とす(理解不能なため)\n",
    "df = df.drop( columns=x_cat )\n",
    "df"
   ]
  },
  {
   "source": [
    "### Numerical data"
   ],
   "cell_type": "markdown",
   "metadata": {}
  },
  {
   "cell_type": "code",
   "execution_count": 4,
   "metadata": {},
   "outputs": [
    {
     "output_type": "execute_result",
     "data": {
      "text/plain": [
       "       rev_Mean  mou_Mean  totmrc_Mean  da_Mean  ovrmou_Mean  ovrrev_Mean  \\\n",
       "0       23.9975    219.25       22.500   0.2475         0.00          0.0   \n",
       "1       57.4925    482.75       37.425   0.2475        22.75          9.1   \n",
       "2       16.9900     10.25       16.990   0.0000         0.00          0.0   \n",
       "3       38.0000      7.50       38.000   0.0000         0.00          0.0   \n",
       "4       55.2300    570.50       71.980   0.0000         0.00          0.0   \n",
       "...         ...       ...          ...      ...          ...          ...   \n",
       "99995    0.0000      0.00        0.000   0.0000         0.00          0.0   \n",
       "99996    0.0000      0.00        0.000   0.0000         0.00          0.0   \n",
       "99997    0.0000      0.00        0.000   0.0000         0.00          0.0   \n",
       "99998    0.0000      0.00        0.000   0.0000         0.00          0.0   \n",
       "99999    0.0000      0.00        0.000   0.0000         0.00          0.0   \n",
       "\n",
       "       vceovr_Mean  datovr_Mean  roam_Mean  change_mou  change_rev  \\\n",
       "0              0.0          0.0        0.0     -157.25    -18.9975   \n",
       "1              9.1          0.0        0.0      532.25     50.9875   \n",
       "2              0.0          0.0        0.0       -4.25      0.0000   \n",
       "3              0.0          0.0        0.0       -1.50      0.0000   \n",
       "4              0.0          0.0        0.0       38.50      0.0000   \n",
       "...            ...          ...        ...         ...         ...   \n",
       "99995          0.0          0.0        0.0        0.00      0.0000   \n",
       "99996          0.0          0.0        0.0        0.00      0.0000   \n",
       "99997          0.0          0.0        0.0        0.00      0.0000   \n",
       "99998          0.0          0.0        0.0        0.00      0.0000   \n",
       "99999          0.0          0.0        0.0        0.00      0.0000   \n",
       "\n",
       "       drop_vce_Mean  drop_dat_Mean  blck_vce_Mean  blck_dat_Mean  \\\n",
       "0           0.666667            0.0       0.666667            0.0   \n",
       "1           8.333333            0.0       1.000000            0.0   \n",
       "2           0.333333            0.0       0.000000            0.0   \n",
       "3           0.000000            0.0       0.000000            0.0   \n",
       "4           9.666667            0.0       0.666667            0.0   \n",
       "...              ...            ...            ...            ...   \n",
       "99995       2.000000            0.0       0.000000            0.0   \n",
       "99996       3.000000            0.0       1.000000            0.0   \n",
       "99997       0.000000            0.0       0.000000            0.0   \n",
       "99998      18.666667            0.0       0.666667            0.0   \n",
       "99999       5.666667            0.0       0.666667            0.0   \n",
       "\n",
       "       unan_vce_Mean  unan_dat_Mean  plcd_vce_Mean  plcd_dat_Mean  \\\n",
       "0           6.333333            0.0      52.333333       0.000000   \n",
       "1          61.333333            0.0     263.333333       0.000000   \n",
       "2           2.666667            0.0       9.000000       0.000000   \n",
       "3           0.000000            0.0       3.666667       0.000000   \n",
       "4          77.000000            0.0     222.333333       0.000000   \n",
       "...              ...            ...            ...            ...   \n",
       "99995       7.666667            0.0      54.666667       0.000000   \n",
       "99996      12.333333            0.0      69.333333       0.000000   \n",
       "99997       0.000000            0.0       0.000000       0.000000   \n",
       "99998     117.333333            0.0     550.666667       0.333333   \n",
       "99999      19.333333            0.0     155.666667       0.000000   \n",
       "\n",
       "       recv_vce_Mean  recv_sms_Mean  comp_vce_Mean  comp_dat_Mean  \\\n",
       "0          42.333333            0.0      45.000000       0.000000   \n",
       "1          69.000000            0.0     193.333333       0.000000   \n",
       "2           0.333333            0.0       6.000000       0.000000   \n",
       "3           1.333333            0.0       3.666667       0.000000   \n",
       "4          94.666667            0.0     137.000000       0.000000   \n",
       "...              ...            ...            ...            ...   \n",
       "99995       3.000000            0.0      45.333333       0.000000   \n",
       "99996      15.333333            0.0      53.333333       0.000000   \n",
       "99997       0.000000            0.0       0.000000       0.000000   \n",
       "99998     327.000000            0.0     417.000000       0.333333   \n",
       "99999       1.333333            0.0     130.000000       0.000000   \n",
       "\n",
       "       custcare_Mean  ccrndmou_Mean  cc_mou_Mean  inonemin_Mean  \\\n",
       "0           0.000000       0.000000     0.000000      18.000000   \n",
       "1           1.666667       6.333333     5.463333      53.000000   \n",
       "2           0.000000       0.000000     0.000000       0.333333   \n",
       "3           0.000000       0.000000     0.000000       1.333333   \n",
       "4           8.666667      15.000000    11.076667      66.000000   \n",
       "...              ...            ...          ...            ...   \n",
       "99995       0.000000       0.000000     0.000000       1.666667   \n",
       "99996       0.000000       0.000000     0.000000       9.000000   \n",
       "99997       0.000000       0.000000     0.000000       0.000000   \n",
       "99998       1.333333       1.333333     0.106667     235.333333   \n",
       "99999       0.666667       0.666667     0.183333       1.333333   \n",
       "\n",
       "       threeway_Mean  mou_cvce_Mean  mou_cdat_Mean  mou_rvce_Mean  \\\n",
       "0           0.000000      90.643333       0.000000      97.176667   \n",
       "1           0.333333     189.396667       0.000000      55.280000   \n",
       "2           0.000000       5.426667       0.000000       0.000000   \n",
       "3           0.000000       8.410000       0.000000       0.413333   \n",
       "4           0.000000     285.233333       0.000000     106.330000   \n",
       "...              ...            ...            ...            ...   \n",
       "99995       0.000000      94.866667       0.000000       2.016667   \n",
       "99996       0.333333     100.760000       0.000000      21.413333   \n",
       "99997       0.000000       0.000000       0.000000       0.000000   \n",
       "99998       1.000000     564.233333       1.656667     330.890000   \n",
       "99999       3.666667     164.436667       0.000000       0.000000   \n",
       "\n",
       "       owylis_vce_Mean  mouowylisv_Mean  iwylis_vce_Mean  mouiwylisv_Mean  \\\n",
       "0             0.000000         0.000000         0.000000         0.000000   \n",
       "1            46.333333        24.216667         6.333333         3.696667   \n",
       "2             0.000000         0.000000         0.000000         0.000000   \n",
       "3             0.333333         0.256667         0.000000         0.000000   \n",
       "4            14.666667        10.816667         0.666667         0.366667   \n",
       "...                ...              ...              ...              ...   \n",
       "99995         2.666667         1.680000         0.000000         0.000000   \n",
       "99996         6.666667        14.893333         0.000000         0.000000   \n",
       "99997         0.000000         0.000000         0.000000         0.000000   \n",
       "99998        55.000000        62.896667        16.666667        32.883333   \n",
       "99999         4.666667         7.110000         0.000000         0.000000   \n",
       "\n",
       "       peak_vce_Mean  peak_dat_Mean  mou_peav_Mean  mou_pead_Mean  \\\n",
       "0          58.000000       0.000000     132.600000       0.000000   \n",
       "1          83.666667       0.000000      75.333333       0.000000   \n",
       "2           5.000000       0.000000       5.193333       0.000000   \n",
       "3           1.333333       0.000000       3.380000       0.000000   \n",
       "4          97.333333       0.000000     173.476667       0.000000   \n",
       "...              ...            ...            ...            ...   \n",
       "99995      20.666667       0.000000      23.566667       0.000000   \n",
       "99996      60.333333       0.000000     121.790000       0.000000   \n",
       "99997       0.000000       0.000000       0.000000       0.000000   \n",
       "99998     442.333333       0.333333     641.230000       1.656667   \n",
       "99999      99.000000       0.000000     133.690000       0.000000   \n",
       "\n",
       "       opk_vce_Mean  opk_dat_Mean  mou_opkv_Mean  mou_opkd_Mean  \\\n",
       "0         24.000000           0.0      55.220000            0.0   \n",
       "1        157.000000           0.0     169.343333            0.0   \n",
       "2          1.000000           0.0       0.233333            0.0   \n",
       "3          3.666667           0.0       5.450000            0.0   \n",
       "4         90.333333           0.0     218.086667            0.0   \n",
       "...             ...           ...            ...            ...   \n",
       "99995     26.666667           0.0      73.316667            0.0   \n",
       "99996      1.000000           0.0       0.383333            0.0   \n",
       "99997      0.000000           0.0       0.000000            0.0   \n",
       "99998    167.333333           0.0     253.893333            0.0   \n",
       "99999     32.333333           0.0      30.746667            0.0   \n",
       "\n",
       "       drop_blk_Mean  attempt_Mean  complete_Mean  callfwdv_Mean  \\\n",
       "0           1.333333     52.333333      45.000000            0.0   \n",
       "1           9.333333    263.333333     193.333333            0.0   \n",
       "2           0.333333      9.000000       6.000000            0.0   \n",
       "3           0.000000      3.666667       3.666667            0.0   \n",
       "4          10.333333    222.333333     137.000000            0.0   \n",
       "...              ...           ...            ...            ...   \n",
       "99995       2.000000     54.666667      45.333333            0.0   \n",
       "99996       4.000000     69.333333      53.333333            0.0   \n",
       "99997       0.000000      0.000000       0.000000            0.0   \n",
       "99998      19.333333    551.000000     417.333333            0.0   \n",
       "99999       6.333333    155.666667     130.000000            0.0   \n",
       "\n",
       "       callwait_Mean  churn  months  uniqsubs  actvsubs  totcalls  \\\n",
       "0           0.333333      1      61         2         1      1652   \n",
       "1           5.666667      0      56         1         1     14654   \n",
       "2           0.000000      1      58         1         1      7903   \n",
       "3           0.000000      0      60         1         1      1502   \n",
       "4           0.000000      0      57         1         1      4485   \n",
       "...              ...    ...     ...       ...       ...       ...   \n",
       "99995       0.000000      1      25         1         1      3771   \n",
       "99996       0.000000      0      27         1         1      3675   \n",
       "99997       0.000000      0      31         1         1      1271   \n",
       "99998       0.000000      0      25         1         1     10082   \n",
       "99999       0.000000      1      25         1         1      1303   \n",
       "\n",
       "            totmou   totrev   adjrev    adjmou  adjqty  avgrev  avgmou  \\\n",
       "0       4228.00000  1504.62  1453.44   4085.00    1602   29.66   83.37   \n",
       "1      26400.00000  2851.68  2833.88  26367.00   14624   51.53  479.40   \n",
       "2      24385.05333  2155.91  1934.47  24303.05    7888   34.54  433.98   \n",
       "3       3065.00000  2000.90  1941.81   3035.00    1479   40.45   63.23   \n",
       "4      14028.00000  2181.12  2166.48  13965.00    4452   38.69  249.38   \n",
       "...            ...      ...      ...       ...     ...     ...     ...   \n",
       "99995   9534.00000  1594.83  1561.14   9494.00    3751   74.34  452.10   \n",
       "99996   8887.00000  1517.10  1451.85   8805.00    3629   72.59  440.25   \n",
       "99997   9336.00000  1114.91  1055.93   9234.00    1238   55.58  486.00   \n",
       "99998  20784.00000  2669.20  2593.26  20488.00    9921  123.49  975.62   \n",
       "99999   2355.00000   956.47   885.94   2225.00    1231   46.63  117.11   \n",
       "\n",
       "       avgqty  avg3mou  avg3qty  avg3rev  avg6mou  avg6qty  avg6rev  \\\n",
       "0       32.69      272      116       30    322.0    136.0     38.0   \n",
       "1      265.89      305      158       40    477.0    275.0     48.0   \n",
       "2      140.86       12        7       17     11.0      6.0     17.0   \n",
       "3       30.81        8        3       38     50.0     25.0     40.0   \n",
       "4       79.50      558      191       55    586.0    196.0     80.0   \n",
       "...       ...      ...      ...      ...      ...      ...      ...   \n",
       "99995  178.62      410      121       73    603.0    159.0    100.0   \n",
       "99996  181.45      382      126       73    410.0    143.0     69.0   \n",
       "99997   65.16      662       85       61    712.0     88.0     72.0   \n",
       "99998  472.43     1031      450      148    943.0    433.0    165.0   \n",
       "99999   64.79      105       60       51    111.0     64.0     51.0   \n",
       "\n",
       "       hnd_price  phones  models  truck   rv   lor  adults  income  numbcars  \\\n",
       "0      149.98999     2.0     2.0    0.0  0.0  15.0     1.0     4.0       3.0   \n",
       "1        0.00000     7.0     6.0    1.0  1.0   1.0     1.0     5.0       1.0   \n",
       "2       29.98999     2.0     1.0    0.0  0.0   7.0     2.0     5.0       2.0   \n",
       "3       29.98999     1.0     1.0    0.0  0.0   6.0     4.0     6.0       1.0   \n",
       "4      149.98999     6.0     4.0    0.0  0.0   5.0     1.0     6.0       1.0   \n",
       "...          ...     ...     ...    ...  ...   ...     ...     ...       ...   \n",
       "99995   29.98999     1.0     1.0    0.0  0.0  15.0     5.0     4.0       2.0   \n",
       "99996   29.98999     1.0     1.0    0.0  0.0   9.0     3.0     7.0       2.0   \n",
       "99997  199.98999     2.0     2.0    0.0  0.0   0.0     1.0     9.0       0.0   \n",
       "99998  149.98999     7.0     5.0    0.0  0.0   0.0     0.0     0.0       0.0   \n",
       "99999  149.98999     3.0     2.0    0.0  0.0   2.0     2.0     4.0       0.0   \n",
       "\n",
       "       forgntvl  eqpdays  Customer_ID  \n",
       "0           0.0    361.0      1000001  \n",
       "1           0.0    240.0      1000002  \n",
       "2           0.0   1504.0      1000003  \n",
       "3           0.0   1812.0      1000004  \n",
       "4           0.0    434.0      1000005  \n",
       "...         ...      ...          ...  \n",
       "99995       0.0    773.0      1099996  \n",
       "99996       0.0    835.0      1099997  \n",
       "99997       0.0    433.0      1099998  \n",
       "99998       0.0     75.0      1099999  \n",
       "99999       0.0      5.0      1100000  \n",
       "\n",
       "[100000 rows x 79 columns]"
      ],
      "text/html": "<div>\n<style scoped>\n    .dataframe tbody tr th:only-of-type {\n        vertical-align: middle;\n    }\n\n    .dataframe tbody tr th {\n        vertical-align: top;\n    }\n\n    .dataframe thead th {\n        text-align: right;\n    }\n</style>\n<table border=\"1\" class=\"dataframe\">\n  <thead>\n    <tr style=\"text-align: right;\">\n      <th></th>\n      <th>rev_Mean</th>\n      <th>mou_Mean</th>\n      <th>totmrc_Mean</th>\n      <th>da_Mean</th>\n      <th>ovrmou_Mean</th>\n      <th>ovrrev_Mean</th>\n      <th>vceovr_Mean</th>\n      <th>datovr_Mean</th>\n      <th>roam_Mean</th>\n      <th>change_mou</th>\n      <th>change_rev</th>\n      <th>drop_vce_Mean</th>\n      <th>drop_dat_Mean</th>\n      <th>blck_vce_Mean</th>\n      <th>blck_dat_Mean</th>\n      <th>unan_vce_Mean</th>\n      <th>unan_dat_Mean</th>\n      <th>plcd_vce_Mean</th>\n      <th>plcd_dat_Mean</th>\n      <th>recv_vce_Mean</th>\n      <th>recv_sms_Mean</th>\n      <th>comp_vce_Mean</th>\n      <th>comp_dat_Mean</th>\n      <th>custcare_Mean</th>\n      <th>ccrndmou_Mean</th>\n      <th>cc_mou_Mean</th>\n      <th>inonemin_Mean</th>\n      <th>threeway_Mean</th>\n      <th>mou_cvce_Mean</th>\n      <th>mou_cdat_Mean</th>\n      <th>mou_rvce_Mean</th>\n      <th>owylis_vce_Mean</th>\n      <th>mouowylisv_Mean</th>\n      <th>iwylis_vce_Mean</th>\n      <th>mouiwylisv_Mean</th>\n      <th>peak_vce_Mean</th>\n      <th>peak_dat_Mean</th>\n      <th>mou_peav_Mean</th>\n      <th>mou_pead_Mean</th>\n      <th>opk_vce_Mean</th>\n      <th>opk_dat_Mean</th>\n      <th>mou_opkv_Mean</th>\n      <th>mou_opkd_Mean</th>\n      <th>drop_blk_Mean</th>\n      <th>attempt_Mean</th>\n      <th>complete_Mean</th>\n      <th>callfwdv_Mean</th>\n      <th>callwait_Mean</th>\n      <th>churn</th>\n      <th>months</th>\n      <th>uniqsubs</th>\n      <th>actvsubs</th>\n      <th>totcalls</th>\n      <th>totmou</th>\n      <th>totrev</th>\n      <th>adjrev</th>\n      <th>adjmou</th>\n      <th>adjqty</th>\n      <th>avgrev</th>\n      <th>avgmou</th>\n      <th>avgqty</th>\n      <th>avg3mou</th>\n      <th>avg3qty</th>\n      <th>avg3rev</th>\n      <th>avg6mou</th>\n      <th>avg6qty</th>\n      <th>avg6rev</th>\n      <th>hnd_price</th>\n      <th>phones</th>\n      <th>models</th>\n      <th>truck</th>\n      <th>rv</th>\n      <th>lor</th>\n      <th>adults</th>\n      <th>income</th>\n      <th>numbcars</th>\n      <th>forgntvl</th>\n      <th>eqpdays</th>\n      <th>Customer_ID</th>\n    </tr>\n  </thead>\n  <tbody>\n    <tr>\n      <th>0</th>\n      <td>23.9975</td>\n      <td>219.25</td>\n      <td>22.500</td>\n      <td>0.2475</td>\n      <td>0.00</td>\n      <td>0.0</td>\n      <td>0.0</td>\n      <td>0.0</td>\n      <td>0.0</td>\n      <td>-157.25</td>\n      <td>-18.9975</td>\n      <td>0.666667</td>\n      <td>0.0</td>\n      <td>0.666667</td>\n      <td>0.0</td>\n      <td>6.333333</td>\n      <td>0.0</td>\n      <td>52.333333</td>\n      <td>0.000000</td>\n      <td>42.333333</td>\n      <td>0.0</td>\n      <td>45.000000</td>\n      <td>0.000000</td>\n      <td>0.000000</td>\n      <td>0.000000</td>\n      <td>0.000000</td>\n      <td>18.000000</td>\n      <td>0.000000</td>\n      <td>90.643333</td>\n      <td>0.000000</td>\n      <td>97.176667</td>\n      <td>0.000000</td>\n      <td>0.000000</td>\n      <td>0.000000</td>\n      <td>0.000000</td>\n      <td>58.000000</td>\n      <td>0.000000</td>\n      <td>132.600000</td>\n      <td>0.000000</td>\n      <td>24.000000</td>\n      <td>0.0</td>\n      <td>55.220000</td>\n      <td>0.0</td>\n      <td>1.333333</td>\n      <td>52.333333</td>\n      <td>45.000000</td>\n      <td>0.0</td>\n      <td>0.333333</td>\n      <td>1</td>\n      <td>61</td>\n      <td>2</td>\n      <td>1</td>\n      <td>1652</td>\n      <td>4228.00000</td>\n      <td>1504.62</td>\n      <td>1453.44</td>\n      <td>4085.00</td>\n      <td>1602</td>\n      <td>29.66</td>\n      <td>83.37</td>\n      <td>32.69</td>\n      <td>272</td>\n      <td>116</td>\n      <td>30</td>\n      <td>322.0</td>\n      <td>136.0</td>\n      <td>38.0</td>\n      <td>149.98999</td>\n      <td>2.0</td>\n      <td>2.0</td>\n      <td>0.0</td>\n      <td>0.0</td>\n      <td>15.0</td>\n      <td>1.0</td>\n      <td>4.0</td>\n      <td>3.0</td>\n      <td>0.0</td>\n      <td>361.0</td>\n      <td>1000001</td>\n    </tr>\n    <tr>\n      <th>1</th>\n      <td>57.4925</td>\n      <td>482.75</td>\n      <td>37.425</td>\n      <td>0.2475</td>\n      <td>22.75</td>\n      <td>9.1</td>\n      <td>9.1</td>\n      <td>0.0</td>\n      <td>0.0</td>\n      <td>532.25</td>\n      <td>50.9875</td>\n      <td>8.333333</td>\n      <td>0.0</td>\n      <td>1.000000</td>\n      <td>0.0</td>\n      <td>61.333333</td>\n      <td>0.0</td>\n      <td>263.333333</td>\n      <td>0.000000</td>\n      <td>69.000000</td>\n      <td>0.0</td>\n      <td>193.333333</td>\n      <td>0.000000</td>\n      <td>1.666667</td>\n      <td>6.333333</td>\n      <td>5.463333</td>\n      <td>53.000000</td>\n      <td>0.333333</td>\n      <td>189.396667</td>\n      <td>0.000000</td>\n      <td>55.280000</td>\n      <td>46.333333</td>\n      <td>24.216667</td>\n      <td>6.333333</td>\n      <td>3.696667</td>\n      <td>83.666667</td>\n      <td>0.000000</td>\n      <td>75.333333</td>\n      <td>0.000000</td>\n      <td>157.000000</td>\n      <td>0.0</td>\n      <td>169.343333</td>\n      <td>0.0</td>\n      <td>9.333333</td>\n      <td>263.333333</td>\n      <td>193.333333</td>\n      <td>0.0</td>\n      <td>5.666667</td>\n      <td>0</td>\n      <td>56</td>\n      <td>1</td>\n      <td>1</td>\n      <td>14654</td>\n      <td>26400.00000</td>\n      <td>2851.68</td>\n      <td>2833.88</td>\n      <td>26367.00</td>\n      <td>14624</td>\n      <td>51.53</td>\n      <td>479.40</td>\n      <td>265.89</td>\n      <td>305</td>\n      <td>158</td>\n      <td>40</td>\n      <td>477.0</td>\n      <td>275.0</td>\n      <td>48.0</td>\n      <td>0.00000</td>\n      <td>7.0</td>\n      <td>6.0</td>\n      <td>1.0</td>\n      <td>1.0</td>\n      <td>1.0</td>\n      <td>1.0</td>\n      <td>5.0</td>\n      <td>1.0</td>\n      <td>0.0</td>\n      <td>240.0</td>\n      <td>1000002</td>\n    </tr>\n    <tr>\n      <th>2</th>\n      <td>16.9900</td>\n      <td>10.25</td>\n      <td>16.990</td>\n      <td>0.0000</td>\n      <td>0.00</td>\n      <td>0.0</td>\n      <td>0.0</td>\n      <td>0.0</td>\n      <td>0.0</td>\n      <td>-4.25</td>\n      <td>0.0000</td>\n      <td>0.333333</td>\n      <td>0.0</td>\n      <td>0.000000</td>\n      <td>0.0</td>\n      <td>2.666667</td>\n      <td>0.0</td>\n      <td>9.000000</td>\n      <td>0.000000</td>\n      <td>0.333333</td>\n      <td>0.0</td>\n      <td>6.000000</td>\n      <td>0.000000</td>\n      <td>0.000000</td>\n      <td>0.000000</td>\n      <td>0.000000</td>\n      <td>0.333333</td>\n      <td>0.000000</td>\n      <td>5.426667</td>\n      <td>0.000000</td>\n      <td>0.000000</td>\n      <td>0.000000</td>\n      <td>0.000000</td>\n      <td>0.000000</td>\n      <td>0.000000</td>\n      <td>5.000000</td>\n      <td>0.000000</td>\n      <td>5.193333</td>\n      <td>0.000000</td>\n      <td>1.000000</td>\n      <td>0.0</td>\n      <td>0.233333</td>\n      <td>0.0</td>\n      <td>0.333333</td>\n      <td>9.000000</td>\n      <td>6.000000</td>\n      <td>0.0</td>\n      <td>0.000000</td>\n      <td>1</td>\n      <td>58</td>\n      <td>1</td>\n      <td>1</td>\n      <td>7903</td>\n      <td>24385.05333</td>\n      <td>2155.91</td>\n      <td>1934.47</td>\n      <td>24303.05</td>\n      <td>7888</td>\n      <td>34.54</td>\n      <td>433.98</td>\n      <td>140.86</td>\n      <td>12</td>\n      <td>7</td>\n      <td>17</td>\n      <td>11.0</td>\n      <td>6.0</td>\n      <td>17.0</td>\n      <td>29.98999</td>\n      <td>2.0</td>\n      <td>1.0</td>\n      <td>0.0</td>\n      <td>0.0</td>\n      <td>7.0</td>\n      <td>2.0</td>\n      <td>5.0</td>\n      <td>2.0</td>\n      <td>0.0</td>\n      <td>1504.0</td>\n      <td>1000003</td>\n    </tr>\n    <tr>\n      <th>3</th>\n      <td>38.0000</td>\n      <td>7.50</td>\n      <td>38.000</td>\n      <td>0.0000</td>\n      <td>0.00</td>\n      <td>0.0</td>\n      <td>0.0</td>\n      <td>0.0</td>\n      <td>0.0</td>\n      <td>-1.50</td>\n      <td>0.0000</td>\n      <td>0.000000</td>\n      <td>0.0</td>\n      <td>0.000000</td>\n      <td>0.0</td>\n      <td>0.000000</td>\n      <td>0.0</td>\n      <td>3.666667</td>\n      <td>0.000000</td>\n      <td>1.333333</td>\n      <td>0.0</td>\n      <td>3.666667</td>\n      <td>0.000000</td>\n      <td>0.000000</td>\n      <td>0.000000</td>\n      <td>0.000000</td>\n      <td>1.333333</td>\n      <td>0.000000</td>\n      <td>8.410000</td>\n      <td>0.000000</td>\n      <td>0.413333</td>\n      <td>0.333333</td>\n      <td>0.256667</td>\n      <td>0.000000</td>\n      <td>0.000000</td>\n      <td>1.333333</td>\n      <td>0.000000</td>\n      <td>3.380000</td>\n      <td>0.000000</td>\n      <td>3.666667</td>\n      <td>0.0</td>\n      <td>5.450000</td>\n      <td>0.0</td>\n      <td>0.000000</td>\n      <td>3.666667</td>\n      <td>3.666667</td>\n      <td>0.0</td>\n      <td>0.000000</td>\n      <td>0</td>\n      <td>60</td>\n      <td>1</td>\n      <td>1</td>\n      <td>1502</td>\n      <td>3065.00000</td>\n      <td>2000.90</td>\n      <td>1941.81</td>\n      <td>3035.00</td>\n      <td>1479</td>\n      <td>40.45</td>\n      <td>63.23</td>\n      <td>30.81</td>\n      <td>8</td>\n      <td>3</td>\n      <td>38</td>\n      <td>50.0</td>\n      <td>25.0</td>\n      <td>40.0</td>\n      <td>29.98999</td>\n      <td>1.0</td>\n      <td>1.0</td>\n      <td>0.0</td>\n      <td>0.0</td>\n      <td>6.0</td>\n      <td>4.0</td>\n      <td>6.0</td>\n      <td>1.0</td>\n      <td>0.0</td>\n      <td>1812.0</td>\n      <td>1000004</td>\n    </tr>\n    <tr>\n      <th>4</th>\n      <td>55.2300</td>\n      <td>570.50</td>\n      <td>71.980</td>\n      <td>0.0000</td>\n      <td>0.00</td>\n      <td>0.0</td>\n      <td>0.0</td>\n      <td>0.0</td>\n      <td>0.0</td>\n      <td>38.50</td>\n      <td>0.0000</td>\n      <td>9.666667</td>\n      <td>0.0</td>\n      <td>0.666667</td>\n      <td>0.0</td>\n      <td>77.000000</td>\n      <td>0.0</td>\n      <td>222.333333</td>\n      <td>0.000000</td>\n      <td>94.666667</td>\n      <td>0.0</td>\n      <td>137.000000</td>\n      <td>0.000000</td>\n      <td>8.666667</td>\n      <td>15.000000</td>\n      <td>11.076667</td>\n      <td>66.000000</td>\n      <td>0.000000</td>\n      <td>285.233333</td>\n      <td>0.000000</td>\n      <td>106.330000</td>\n      <td>14.666667</td>\n      <td>10.816667</td>\n      <td>0.666667</td>\n      <td>0.366667</td>\n      <td>97.333333</td>\n      <td>0.000000</td>\n      <td>173.476667</td>\n      <td>0.000000</td>\n      <td>90.333333</td>\n      <td>0.0</td>\n      <td>218.086667</td>\n      <td>0.0</td>\n      <td>10.333333</td>\n      <td>222.333333</td>\n      <td>137.000000</td>\n      <td>0.0</td>\n      <td>0.000000</td>\n      <td>0</td>\n      <td>57</td>\n      <td>1</td>\n      <td>1</td>\n      <td>4485</td>\n      <td>14028.00000</td>\n      <td>2181.12</td>\n      <td>2166.48</td>\n      <td>13965.00</td>\n      <td>4452</td>\n      <td>38.69</td>\n      <td>249.38</td>\n      <td>79.50</td>\n      <td>558</td>\n      <td>191</td>\n      <td>55</td>\n      <td>586.0</td>\n      <td>196.0</td>\n      <td>80.0</td>\n      <td>149.98999</td>\n      <td>6.0</td>\n      <td>4.0</td>\n      <td>0.0</td>\n      <td>0.0</td>\n      <td>5.0</td>\n      <td>1.0</td>\n      <td>6.0</td>\n      <td>1.0</td>\n      <td>0.0</td>\n      <td>434.0</td>\n      <td>1000005</td>\n    </tr>\n    <tr>\n      <th>...</th>\n      <td>...</td>\n      <td>...</td>\n      <td>...</td>\n      <td>...</td>\n      <td>...</td>\n      <td>...</td>\n      <td>...</td>\n      <td>...</td>\n      <td>...</td>\n      <td>...</td>\n      <td>...</td>\n      <td>...</td>\n      <td>...</td>\n      <td>...</td>\n      <td>...</td>\n      <td>...</td>\n      <td>...</td>\n      <td>...</td>\n      <td>...</td>\n      <td>...</td>\n      <td>...</td>\n      <td>...</td>\n      <td>...</td>\n      <td>...</td>\n      <td>...</td>\n      <td>...</td>\n      <td>...</td>\n      <td>...</td>\n      <td>...</td>\n      <td>...</td>\n      <td>...</td>\n      <td>...</td>\n      <td>...</td>\n      <td>...</td>\n      <td>...</td>\n      <td>...</td>\n      <td>...</td>\n      <td>...</td>\n      <td>...</td>\n      <td>...</td>\n      <td>...</td>\n      <td>...</td>\n      <td>...</td>\n      <td>...</td>\n      <td>...</td>\n      <td>...</td>\n      <td>...</td>\n      <td>...</td>\n      <td>...</td>\n      <td>...</td>\n      <td>...</td>\n      <td>...</td>\n      <td>...</td>\n      <td>...</td>\n      <td>...</td>\n      <td>...</td>\n      <td>...</td>\n      <td>...</td>\n      <td>...</td>\n      <td>...</td>\n      <td>...</td>\n      <td>...</td>\n      <td>...</td>\n      <td>...</td>\n      <td>...</td>\n      <td>...</td>\n      <td>...</td>\n      <td>...</td>\n      <td>...</td>\n      <td>...</td>\n      <td>...</td>\n      <td>...</td>\n      <td>...</td>\n      <td>...</td>\n      <td>...</td>\n      <td>...</td>\n      <td>...</td>\n      <td>...</td>\n      <td>...</td>\n    </tr>\n    <tr>\n      <th>99995</th>\n      <td>0.0000</td>\n      <td>0.00</td>\n      <td>0.000</td>\n      <td>0.0000</td>\n      <td>0.00</td>\n      <td>0.0</td>\n      <td>0.0</td>\n      <td>0.0</td>\n      <td>0.0</td>\n      <td>0.00</td>\n      <td>0.0000</td>\n      <td>2.000000</td>\n      <td>0.0</td>\n      <td>0.000000</td>\n      <td>0.0</td>\n      <td>7.666667</td>\n      <td>0.0</td>\n      <td>54.666667</td>\n      <td>0.000000</td>\n      <td>3.000000</td>\n      <td>0.0</td>\n      <td>45.333333</td>\n      <td>0.000000</td>\n      <td>0.000000</td>\n      <td>0.000000</td>\n      <td>0.000000</td>\n      <td>1.666667</td>\n      <td>0.000000</td>\n      <td>94.866667</td>\n      <td>0.000000</td>\n      <td>2.016667</td>\n      <td>2.666667</td>\n      <td>1.680000</td>\n      <td>0.000000</td>\n      <td>0.000000</td>\n      <td>20.666667</td>\n      <td>0.000000</td>\n      <td>23.566667</td>\n      <td>0.000000</td>\n      <td>26.666667</td>\n      <td>0.0</td>\n      <td>73.316667</td>\n      <td>0.0</td>\n      <td>2.000000</td>\n      <td>54.666667</td>\n      <td>45.333333</td>\n      <td>0.0</td>\n      <td>0.000000</td>\n      <td>1</td>\n      <td>25</td>\n      <td>1</td>\n      <td>1</td>\n      <td>3771</td>\n      <td>9534.00000</td>\n      <td>1594.83</td>\n      <td>1561.14</td>\n      <td>9494.00</td>\n      <td>3751</td>\n      <td>74.34</td>\n      <td>452.10</td>\n      <td>178.62</td>\n      <td>410</td>\n      <td>121</td>\n      <td>73</td>\n      <td>603.0</td>\n      <td>159.0</td>\n      <td>100.0</td>\n      <td>29.98999</td>\n      <td>1.0</td>\n      <td>1.0</td>\n      <td>0.0</td>\n      <td>0.0</td>\n      <td>15.0</td>\n      <td>5.0</td>\n      <td>4.0</td>\n      <td>2.0</td>\n      <td>0.0</td>\n      <td>773.0</td>\n      <td>1099996</td>\n    </tr>\n    <tr>\n      <th>99996</th>\n      <td>0.0000</td>\n      <td>0.00</td>\n      <td>0.000</td>\n      <td>0.0000</td>\n      <td>0.00</td>\n      <td>0.0</td>\n      <td>0.0</td>\n      <td>0.0</td>\n      <td>0.0</td>\n      <td>0.00</td>\n      <td>0.0000</td>\n      <td>3.000000</td>\n      <td>0.0</td>\n      <td>1.000000</td>\n      <td>0.0</td>\n      <td>12.333333</td>\n      <td>0.0</td>\n      <td>69.333333</td>\n      <td>0.000000</td>\n      <td>15.333333</td>\n      <td>0.0</td>\n      <td>53.333333</td>\n      <td>0.000000</td>\n      <td>0.000000</td>\n      <td>0.000000</td>\n      <td>0.000000</td>\n      <td>9.000000</td>\n      <td>0.333333</td>\n      <td>100.760000</td>\n      <td>0.000000</td>\n      <td>21.413333</td>\n      <td>6.666667</td>\n      <td>14.893333</td>\n      <td>0.000000</td>\n      <td>0.000000</td>\n      <td>60.333333</td>\n      <td>0.000000</td>\n      <td>121.790000</td>\n      <td>0.000000</td>\n      <td>1.000000</td>\n      <td>0.0</td>\n      <td>0.383333</td>\n      <td>0.0</td>\n      <td>4.000000</td>\n      <td>69.333333</td>\n      <td>53.333333</td>\n      <td>0.0</td>\n      <td>0.000000</td>\n      <td>0</td>\n      <td>27</td>\n      <td>1</td>\n      <td>1</td>\n      <td>3675</td>\n      <td>8887.00000</td>\n      <td>1517.10</td>\n      <td>1451.85</td>\n      <td>8805.00</td>\n      <td>3629</td>\n      <td>72.59</td>\n      <td>440.25</td>\n      <td>181.45</td>\n      <td>382</td>\n      <td>126</td>\n      <td>73</td>\n      <td>410.0</td>\n      <td>143.0</td>\n      <td>69.0</td>\n      <td>29.98999</td>\n      <td>1.0</td>\n      <td>1.0</td>\n      <td>0.0</td>\n      <td>0.0</td>\n      <td>9.0</td>\n      <td>3.0</td>\n      <td>7.0</td>\n      <td>2.0</td>\n      <td>0.0</td>\n      <td>835.0</td>\n      <td>1099997</td>\n    </tr>\n    <tr>\n      <th>99997</th>\n      <td>0.0000</td>\n      <td>0.00</td>\n      <td>0.000</td>\n      <td>0.0000</td>\n      <td>0.00</td>\n      <td>0.0</td>\n      <td>0.0</td>\n      <td>0.0</td>\n      <td>0.0</td>\n      <td>0.00</td>\n      <td>0.0000</td>\n      <td>0.000000</td>\n      <td>0.0</td>\n      <td>0.000000</td>\n      <td>0.0</td>\n      <td>0.000000</td>\n      <td>0.0</td>\n      <td>0.000000</td>\n      <td>0.000000</td>\n      <td>0.000000</td>\n      <td>0.0</td>\n      <td>0.000000</td>\n      <td>0.000000</td>\n      <td>0.000000</td>\n      <td>0.000000</td>\n      <td>0.000000</td>\n      <td>0.000000</td>\n      <td>0.000000</td>\n      <td>0.000000</td>\n      <td>0.000000</td>\n      <td>0.000000</td>\n      <td>0.000000</td>\n      <td>0.000000</td>\n      <td>0.000000</td>\n      <td>0.000000</td>\n      <td>0.000000</td>\n      <td>0.000000</td>\n      <td>0.000000</td>\n      <td>0.000000</td>\n      <td>0.000000</td>\n      <td>0.0</td>\n      <td>0.000000</td>\n      <td>0.0</td>\n      <td>0.000000</td>\n      <td>0.000000</td>\n      <td>0.000000</td>\n      <td>0.0</td>\n      <td>0.000000</td>\n      <td>0</td>\n      <td>31</td>\n      <td>1</td>\n      <td>1</td>\n      <td>1271</td>\n      <td>9336.00000</td>\n      <td>1114.91</td>\n      <td>1055.93</td>\n      <td>9234.00</td>\n      <td>1238</td>\n      <td>55.58</td>\n      <td>486.00</td>\n      <td>65.16</td>\n      <td>662</td>\n      <td>85</td>\n      <td>61</td>\n      <td>712.0</td>\n      <td>88.0</td>\n      <td>72.0</td>\n      <td>199.98999</td>\n      <td>2.0</td>\n      <td>2.0</td>\n      <td>0.0</td>\n      <td>0.0</td>\n      <td>0.0</td>\n      <td>1.0</td>\n      <td>9.0</td>\n      <td>0.0</td>\n      <td>0.0</td>\n      <td>433.0</td>\n      <td>1099998</td>\n    </tr>\n    <tr>\n      <th>99998</th>\n      <td>0.0000</td>\n      <td>0.00</td>\n      <td>0.000</td>\n      <td>0.0000</td>\n      <td>0.00</td>\n      <td>0.0</td>\n      <td>0.0</td>\n      <td>0.0</td>\n      <td>0.0</td>\n      <td>0.00</td>\n      <td>0.0000</td>\n      <td>18.666667</td>\n      <td>0.0</td>\n      <td>0.666667</td>\n      <td>0.0</td>\n      <td>117.333333</td>\n      <td>0.0</td>\n      <td>550.666667</td>\n      <td>0.333333</td>\n      <td>327.000000</td>\n      <td>0.0</td>\n      <td>417.000000</td>\n      <td>0.333333</td>\n      <td>1.333333</td>\n      <td>1.333333</td>\n      <td>0.106667</td>\n      <td>235.333333</td>\n      <td>1.000000</td>\n      <td>564.233333</td>\n      <td>1.656667</td>\n      <td>330.890000</td>\n      <td>55.000000</td>\n      <td>62.896667</td>\n      <td>16.666667</td>\n      <td>32.883333</td>\n      <td>442.333333</td>\n      <td>0.333333</td>\n      <td>641.230000</td>\n      <td>1.656667</td>\n      <td>167.333333</td>\n      <td>0.0</td>\n      <td>253.893333</td>\n      <td>0.0</td>\n      <td>19.333333</td>\n      <td>551.000000</td>\n      <td>417.333333</td>\n      <td>0.0</td>\n      <td>0.000000</td>\n      <td>0</td>\n      <td>25</td>\n      <td>1</td>\n      <td>1</td>\n      <td>10082</td>\n      <td>20784.00000</td>\n      <td>2669.20</td>\n      <td>2593.26</td>\n      <td>20488.00</td>\n      <td>9921</td>\n      <td>123.49</td>\n      <td>975.62</td>\n      <td>472.43</td>\n      <td>1031</td>\n      <td>450</td>\n      <td>148</td>\n      <td>943.0</td>\n      <td>433.0</td>\n      <td>165.0</td>\n      <td>149.98999</td>\n      <td>7.0</td>\n      <td>5.0</td>\n      <td>0.0</td>\n      <td>0.0</td>\n      <td>0.0</td>\n      <td>0.0</td>\n      <td>0.0</td>\n      <td>0.0</td>\n      <td>0.0</td>\n      <td>75.0</td>\n      <td>1099999</td>\n    </tr>\n    <tr>\n      <th>99999</th>\n      <td>0.0000</td>\n      <td>0.00</td>\n      <td>0.000</td>\n      <td>0.0000</td>\n      <td>0.00</td>\n      <td>0.0</td>\n      <td>0.0</td>\n      <td>0.0</td>\n      <td>0.0</td>\n      <td>0.00</td>\n      <td>0.0000</td>\n      <td>5.666667</td>\n      <td>0.0</td>\n      <td>0.666667</td>\n      <td>0.0</td>\n      <td>19.333333</td>\n      <td>0.0</td>\n      <td>155.666667</td>\n      <td>0.000000</td>\n      <td>1.333333</td>\n      <td>0.0</td>\n      <td>130.000000</td>\n      <td>0.000000</td>\n      <td>0.666667</td>\n      <td>0.666667</td>\n      <td>0.183333</td>\n      <td>1.333333</td>\n      <td>3.666667</td>\n      <td>164.436667</td>\n      <td>0.000000</td>\n      <td>0.000000</td>\n      <td>4.666667</td>\n      <td>7.110000</td>\n      <td>0.000000</td>\n      <td>0.000000</td>\n      <td>99.000000</td>\n      <td>0.000000</td>\n      <td>133.690000</td>\n      <td>0.000000</td>\n      <td>32.333333</td>\n      <td>0.0</td>\n      <td>30.746667</td>\n      <td>0.0</td>\n      <td>6.333333</td>\n      <td>155.666667</td>\n      <td>130.000000</td>\n      <td>0.0</td>\n      <td>0.000000</td>\n      <td>1</td>\n      <td>25</td>\n      <td>1</td>\n      <td>1</td>\n      <td>1303</td>\n      <td>2355.00000</td>\n      <td>956.47</td>\n      <td>885.94</td>\n      <td>2225.00</td>\n      <td>1231</td>\n      <td>46.63</td>\n      <td>117.11</td>\n      <td>64.79</td>\n      <td>105</td>\n      <td>60</td>\n      <td>51</td>\n      <td>111.0</td>\n      <td>64.0</td>\n      <td>51.0</td>\n      <td>149.98999</td>\n      <td>3.0</td>\n      <td>2.0</td>\n      <td>0.0</td>\n      <td>0.0</td>\n      <td>2.0</td>\n      <td>2.0</td>\n      <td>4.0</td>\n      <td>0.0</td>\n      <td>0.0</td>\n      <td>5.0</td>\n      <td>1100000</td>\n    </tr>\n  </tbody>\n</table>\n<p>100000 rows × 79 columns</p>\n</div>"
     },
     "metadata": {},
     "execution_count": 4
    }
   ],
   "source": [
    "# 数値変数を確認\n",
    "numerical = df[df.select_dtypes( exclude=object ).columns]\n",
    "x_num = numerical.columns\n",
    "\n",
    "# 欠損値を0で埋める\n",
    "df[x_num] = numerical.fillna(0)\n",
    "df"
   ]
  },
  {
   "source": [
    "## Train Test Split"
   ],
   "cell_type": "markdown",
   "metadata": {}
  },
  {
   "cell_type": "code",
   "execution_count": 5,
   "metadata": {},
   "outputs": [
    {
     "output_type": "stream",
     "name": "stdout",
     "text": [
      "df_train: 80000\ndf_test : 20000\n"
     ]
    }
   ],
   "source": [
    "df_train, df_test = train_test_split( df, test_size=0.2, random_state=4 )\n",
    "\n",
    "print( 'df_train: {}'.format( len(df_train) ) )\n",
    "print( 'df_test : {}'.format( len(df_test) ) )"
   ]
  },
  {
   "cell_type": "code",
   "execution_count": 6,
   "metadata": {},
   "outputs": [],
   "source": [
    "# trainデータを説明変数(X_train)と目的変数(y_train)に分割\n",
    "X_train = df_train.drop( 'churn', axis=1 )\n",
    "y_train = df_train['churn']\n",
    " \n",
    "# testデータを説明変数(X_test)と目的変数(y_test)に分割\n",
    "X_test  = df_test.drop( 'churn', axis=1 )\n",
    "y_test  = df_test['churn']"
   ]
  },
  {
   "source": [
    "## Train & Predict"
   ],
   "cell_type": "markdown",
   "metadata": {}
  },
  {
   "cell_type": "code",
   "execution_count": 7,
   "metadata": {},
   "outputs": [],
   "source": [
    "# LightGBM model\n",
    "model = LGBMClassifier(\n",
    "        boosting_type='gbdt', \n",
    "        class_weight='balanced',\n",
    "        objective='binary',\n",
    "        metric='auc',\n",
    "        max_depth=10,\n",
    "        num_leaves=100\n",
    "        # num_iteration=100,\n",
    "        # num_threads=1,\n",
    ")"
   ]
  },
  {
   "cell_type": "code",
   "execution_count": 8,
   "metadata": {},
   "outputs": [
    {
     "output_type": "execute_result",
     "data": {
      "text/plain": [
       "LGBMClassifier(class_weight='balanced', max_depth=10, metric='auc',\n",
       "               num_leaves=100, objective='binary')"
      ]
     },
     "metadata": {},
     "execution_count": 8
    }
   ],
   "source": [
    "# 学習\n",
    "model.fit( X_train, y_train )"
   ]
  },
  {
   "cell_type": "code",
   "execution_count": 9,
   "metadata": {},
   "outputs": [],
   "source": [
    "# 予測\n",
    "y_pred = model.predict( X_test )\n",
    "y_pred_prob = model.predict_proba( X_test ) # テストデータのクラス予測確率を返す"
   ]
  },
  {
   "source": [
    "## Evaluate the model"
   ],
   "cell_type": "markdown",
   "metadata": {}
  },
  {
   "cell_type": "code",
   "execution_count": 10,
   "metadata": {},
   "outputs": [
    {
     "output_type": "display_data",
     "data": {
      "text/plain": "       churn_GT  churn_pred\n60645         1           1\n84599         1           1\n59801         0           0\n90055         0           0\n94213         1           0\n...         ...         ...\n3081          0           0\n98897         0           0\n69223         0           0\n34419         1           1\n58585         1           0\n\n[20000 rows x 2 columns]",
      "text/html": "<div>\n<style scoped>\n    .dataframe tbody tr th:only-of-type {\n        vertical-align: middle;\n    }\n\n    .dataframe tbody tr th {\n        vertical-align: top;\n    }\n\n    .dataframe thead th {\n        text-align: right;\n    }\n</style>\n<table border=\"1\" class=\"dataframe\">\n  <thead>\n    <tr style=\"text-align: right;\">\n      <th></th>\n      <th>churn_GT</th>\n      <th>churn_pred</th>\n    </tr>\n  </thead>\n  <tbody>\n    <tr>\n      <th>60645</th>\n      <td>1</td>\n      <td>1</td>\n    </tr>\n    <tr>\n      <th>84599</th>\n      <td>1</td>\n      <td>1</td>\n    </tr>\n    <tr>\n      <th>59801</th>\n      <td>0</td>\n      <td>0</td>\n    </tr>\n    <tr>\n      <th>90055</th>\n      <td>0</td>\n      <td>0</td>\n    </tr>\n    <tr>\n      <th>94213</th>\n      <td>1</td>\n      <td>0</td>\n    </tr>\n    <tr>\n      <th>...</th>\n      <td>...</td>\n      <td>...</td>\n    </tr>\n    <tr>\n      <th>3081</th>\n      <td>0</td>\n      <td>0</td>\n    </tr>\n    <tr>\n      <th>98897</th>\n      <td>0</td>\n      <td>0</td>\n    </tr>\n    <tr>\n      <th>69223</th>\n      <td>0</td>\n      <td>0</td>\n    </tr>\n    <tr>\n      <th>34419</th>\n      <td>1</td>\n      <td>1</td>\n    </tr>\n    <tr>\n      <th>58585</th>\n      <td>1</td>\n      <td>0</td>\n    </tr>\n  </tbody>\n</table>\n<p>20000 rows × 2 columns</p>\n</div>"
     },
     "metadata": {}
    }
   ],
   "source": [
    "# 真値と予測値の表示\n",
    "df_pred = pd.DataFrame( {'churn_GT':y_test, 'churn_pred':y_pred} )\n",
    "display( df_pred )"
   ]
  },
  {
   "cell_type": "code",
   "execution_count": 13,
   "metadata": {},
   "outputs": [
    {
     "output_type": "stream",
     "name": "stdout",
     "text": [
      "GT0: 10030,\tpred0: 9693\nGT1: 9970,\tpred1: 10307\n\nAcc: 0.63655\nAUC: 0.6858626627639649\n"
     ]
    }
   ],
   "source": [
    "GT0   = df_pred['churn_GT'] == 0\n",
    "pred0 = df_pred['churn_pred'] == 0\n",
    "\n",
    "GT1   = df_pred['churn_GT'] == 1\n",
    "pred1 = df_pred['churn_pred'] == 1\n",
    "\n",
    "print( 'GT0: {},\\tpred0: {}'.format( GT0.sum(), pred0.sum() ) )\n",
    "print( 'GT1: {},\\tpred1: {}'.format( GT1.sum(), pred1.sum() ) )\n",
    "\n",
    "# acc: 正答率\n",
    "acc = accuracy_score( y_test, y_pred )\n",
    "print( '\\nAcc:', acc )\n",
    "\n",
    "# AUC\n",
    "auc = roc_auc_score( y_test,y_pred_prob[:,1]) # 引数 : roc_auc_score(正解クラス, クラス1の予測確率)\n",
    "print( 'AUC:', auc )"
   ]
  },
  {
   "cell_type": "code",
   "execution_count": 14,
   "metadata": {},
   "outputs": [],
   "source": [
    "def plot_churn_ratio():\n",
    "    plt.rcParams[\"figure.figsize\"] = (7, 7)\n",
    "    plt.pie( df_pred['churn_pred'].value_counts(), counterclock=True, startangle=90, colors=['tab:blue','tab:orange'])\n",
    "    plt.show()"
   ]
  },
  {
   "cell_type": "code",
   "execution_count": 15,
   "metadata": {},
   "outputs": [
    {
     "output_type": "display_data",
     "data": {
      "text/plain": "<Figure size 504x504 with 1 Axes>",
      "image/svg+xml": "<?xml version=\"1.0\" encoding=\"utf-8\" standalone=\"no\"?>\n<!DOCTYPE svg PUBLIC \"-//W3C//DTD SVG 1.1//EN\"\n  \"http://www.w3.org/Graphics/SVG/1.1/DTD/svg11.dtd\">\n<!-- Created with matplotlib (https://matplotlib.org/) -->\n<svg height=\"394.92pt\" version=\"1.1\" viewBox=\"0 0 394.92 394.92\" width=\"394.92pt\" xmlns=\"http://www.w3.org/2000/svg\" xmlns:xlink=\"http://www.w3.org/1999/xlink\">\n <defs>\n  <style type=\"text/css\">\n*{stroke-linecap:butt;stroke-linejoin:round;}\n  </style>\n </defs>\n <g id=\"figure_1\">\n  <g id=\"patch_1\">\n   <path d=\"M 0 394.92 \nL 394.92 394.92 \nL 394.92 0 \nL 0 0 \nz\n\" style=\"fill:none;\"/>\n  </g>\n  <g id=\"axes_1\">\n   <g id=\"patch_2\">\n    <path d=\"M 197.46 45.252 \nC 176.854521 45.252 156.462012 49.436265 137.521478 57.550569 \nC 118.580944 65.664873 101.483908 77.541482 87.26915 92.458801 \nC 73.054391 107.37612 62.015746 125.025788 54.823898 144.335451 \nC 47.63205 163.645115 44.435664 184.215618 45.428945 204.797142 \nC 46.422226 225.378667 51.584642 245.545768 60.602536 264.073135 \nC 69.62043 282.600503 82.30739 299.105155 97.892585 312.584303 \nC 113.477781 326.063452 131.639046 336.238467 151.272942 342.491138 \nC 170.906838 348.743808 191.607508 350.944883 212.117226 348.96063 \nL 197.46 197.46 \nL 197.46 45.252 \nz\n\" style=\"fill:#1f77b4;\"/>\n   </g>\n   <g id=\"patch_3\">\n    <path d=\"M 212.117226 348.96063 \nC 251.020215 345.196884 287.016944 326.589537 312.584299 297.02742 \nC 338.151653 267.465303 351.375115 229.162067 349.491055 190.122872 \nC 347.606996 151.083677 330.756496 114.231832 302.461214 87.269164 \nC 274.165933 60.306496 236.54466 45.252007 197.460029 45.252 \nL 197.46 197.46 \nL 212.117226 348.96063 \nz\n\" style=\"fill:#ff7f0e;\"/>\n   </g>\n   <g id=\"matplotlib.axis_1\"/>\n   <g id=\"matplotlib.axis_2\"/>\n  </g>\n </g>\n</svg>\n",
      "image/png": "[encoded data removed]"
     },
     "metadata": {}
    }
   ],
   "source": [
    "plot_churn_ratio()"
   ]
  },
  {
   "source": [
    "## 仮説検証"
   ],
   "cell_type": "markdown",
   "metadata": {}
  },
  {
   "source": [
    "### 解約者と予測された人のインデックスを取得"
   ],
   "cell_type": "markdown",
   "metadata": {}
  },
  {
   "cell_type": "code",
   "execution_count": 16,
   "metadata": {},
   "outputs": [],
   "source": [
    "target_idx = df_pred[df_pred['churn_pred'] == 1].index\n",
    "len( target_idx )\n",
    "\n",
    "# 解約者と予測された人のdfを取得\n",
    "df_target = df.iloc[target_idx]"
   ]
  },
  {
   "source": [
    "### 【重要】「解約者と予測された人にのみ」仮説を適用"
   ],
   "cell_type": "markdown",
   "metadata": {}
  },
  {
   "cell_type": "code",
   "execution_count": 17,
   "metadata": {},
   "outputs": [
    {
     "output_type": "display_data",
     "data": {
      "text/plain": "         count        mean        std  min       25%        50%        75%  \\\nchurn                                                                        \n0      50438.0  106.980263  61.800260  0.0  59.98999  129.98999  149.98999   \n1      49562.0   94.940015  60.511218  0.0  29.98999   79.98999  149.98999   \n\n             max  \nchurn             \n0      499.98999  \n1      499.98999  ",
      "text/html": "<div>\n<style scoped>\n    .dataframe tbody tr th:only-of-type {\n        vertical-align: middle;\n    }\n\n    .dataframe tbody tr th {\n        vertical-align: top;\n    }\n\n    .dataframe thead th {\n        text-align: right;\n    }\n</style>\n<table border=\"1\" class=\"dataframe\">\n  <thead>\n    <tr style=\"text-align: right;\">\n      <th></th>\n      <th>count</th>\n      <th>mean</th>\n      <th>std</th>\n      <th>min</th>\n      <th>25%</th>\n      <th>50%</th>\n      <th>75%</th>\n      <th>max</th>\n    </tr>\n    <tr>\n      <th>churn</th>\n      <th></th>\n      <th></th>\n      <th></th>\n      <th></th>\n      <th></th>\n      <th></th>\n      <th></th>\n      <th></th>\n    </tr>\n  </thead>\n  <tbody>\n    <tr>\n      <th>0</th>\n      <td>50438.0</td>\n      <td>106.980263</td>\n      <td>61.800260</td>\n      <td>0.0</td>\n      <td>59.98999</td>\n      <td>129.98999</td>\n      <td>149.98999</td>\n      <td>499.98999</td>\n    </tr>\n    <tr>\n      <th>1</th>\n      <td>49562.0</td>\n      <td>94.940015</td>\n      <td>60.511218</td>\n      <td>0.0</td>\n      <td>29.98999</td>\n      <td>79.98999</td>\n      <td>149.98999</td>\n      <td>499.98999</td>\n    </tr>\n  </tbody>\n</table>\n</div>"
     },
     "metadata": {}
    },
    {
     "output_type": "display_data",
     "data": {
      "text/plain": "         count       mean         std      min   25%   50%    75%       max\nchurn                                                                      \n0      50438.0  -5.321696  249.710847 -3875.00 -76.5 -2.75  69.25   4480.00\n1      49562.0 -22.447663  298.035170 -3041.25 -96.5 -8.75  53.50  31219.25",
      "text/html": "<div>\n<style scoped>\n    .dataframe tbody tr th:only-of-type {\n        vertical-align: middle;\n    }\n\n    .dataframe tbody tr th {\n        vertical-align: top;\n    }\n\n    .dataframe thead th {\n        text-align: right;\n    }\n</style>\n<table border=\"1\" class=\"dataframe\">\n  <thead>\n    <tr style=\"text-align: right;\">\n      <th></th>\n      <th>count</th>\n      <th>mean</th>\n      <th>std</th>\n      <th>min</th>\n      <th>25%</th>\n      <th>50%</th>\n      <th>75%</th>\n      <th>max</th>\n    </tr>\n    <tr>\n      <th>churn</th>\n      <th></th>\n      <th></th>\n      <th></th>\n      <th></th>\n      <th></th>\n      <th></th>\n      <th></th>\n      <th></th>\n    </tr>\n  </thead>\n  <tbody>\n    <tr>\n      <th>0</th>\n      <td>50438.0</td>\n      <td>-5.321696</td>\n      <td>249.710847</td>\n      <td>-3875.00</td>\n      <td>-76.5</td>\n      <td>-2.75</td>\n      <td>69.25</td>\n      <td>4480.00</td>\n    </tr>\n    <tr>\n      <th>1</th>\n      <td>49562.0</td>\n      <td>-22.447663</td>\n      <td>298.035170</td>\n      <td>-3041.25</td>\n      <td>-96.5</td>\n      <td>-8.75</td>\n      <td>53.50</td>\n      <td>31219.25</td>\n    </tr>\n  </tbody>\n</table>\n</div>"
     },
     "metadata": {}
    },
    {
     "output_type": "display_data",
     "data": {
      "text/plain": "         count      mean        std       min       25%     50%     75%  \\\nchurn                                                                     \n0      50438.0 -1.404240  35.921011 -1107.740 -6.702500 -0.2900  1.5525   \n1      49562.0 -0.612764  61.308777  -851.105 -7.646875 -0.2875  1.5375   \n\n             max  \nchurn             \n0      1346.9750  \n1      9963.6575  ",
      "text/html": "<div>\n<style scoped>\n    .dataframe tbody tr th:only-of-type {\n        vertical-align: middle;\n    }\n\n    .dataframe tbody tr th {\n        vertical-align: top;\n    }\n\n    .dataframe thead th {\n        text-align: right;\n    }\n</style>\n<table border=\"1\" class=\"dataframe\">\n  <thead>\n    <tr style=\"text-align: right;\">\n      <th></th>\n      <th>count</th>\n      <th>mean</th>\n      <th>std</th>\n      <th>min</th>\n      <th>25%</th>\n      <th>50%</th>\n      <th>75%</th>\n      <th>max</th>\n    </tr>\n    <tr>\n      <th>churn</th>\n      <th></th>\n      <th></th>\n      <th></th>\n      <th></th>\n      <th></th>\n      <th></th>\n      <th></th>\n      <th></th>\n    </tr>\n  </thead>\n  <tbody>\n    <tr>\n      <th>0</th>\n      <td>50438.0</td>\n      <td>-1.404240</td>\n      <td>35.921011</td>\n      <td>-1107.740</td>\n      <td>-6.702500</td>\n      <td>-0.2900</td>\n      <td>1.5525</td>\n      <td>1346.9750</td>\n    </tr>\n    <tr>\n      <th>1</th>\n      <td>49562.0</td>\n      <td>-0.612764</td>\n      <td>61.308777</td>\n      <td>-851.105</td>\n      <td>-7.646875</td>\n      <td>-0.2875</td>\n      <td>1.5375</td>\n      <td>9963.6575</td>\n    </tr>\n  </tbody>\n</table>\n</div>"
     },
     "metadata": {}
    },
    {
     "output_type": "display_data",
     "data": {
      "text/plain": "         count       mean        std     min    25%       50%        75%  \\\nchurn                                                                      \n0      50438.0  59.087195  44.406267 -6.1675  33.99  48.79125  71.404375   \n1      49562.0  57.923319  48.224653 -3.7300  32.47  47.22875  69.895625   \n\n             max  \nchurn             \n0      1223.3800  \n1      3843.2625  ",
      "text/html": "<div>\n<style scoped>\n    .dataframe tbody tr th:only-of-type {\n        vertical-align: middle;\n    }\n\n    .dataframe tbody tr th {\n        vertical-align: top;\n    }\n\n    .dataframe thead th {\n        text-align: right;\n    }\n</style>\n<table border=\"1\" class=\"dataframe\">\n  <thead>\n    <tr style=\"text-align: right;\">\n      <th></th>\n      <th>count</th>\n      <th>mean</th>\n      <th>std</th>\n      <th>min</th>\n      <th>25%</th>\n      <th>50%</th>\n      <th>75%</th>\n      <th>max</th>\n    </tr>\n    <tr>\n      <th>churn</th>\n      <th></th>\n      <th></th>\n      <th></th>\n      <th></th>\n      <th></th>\n      <th></th>\n      <th></th>\n      <th></th>\n    </tr>\n  </thead>\n  <tbody>\n    <tr>\n      <th>0</th>\n      <td>50438.0</td>\n      <td>59.087195</td>\n      <td>44.406267</td>\n      <td>-6.1675</td>\n      <td>33.99</td>\n      <td>48.79125</td>\n      <td>71.404375</td>\n      <td>1223.3800</td>\n    </tr>\n    <tr>\n      <th>1</th>\n      <td>49562.0</td>\n      <td>57.923319</td>\n      <td>48.224653</td>\n      <td>-3.7300</td>\n      <td>32.47</td>\n      <td>47.22875</td>\n      <td>69.895625</td>\n      <td>3843.2625</td>\n    </tr>\n  </tbody>\n</table>\n</div>"
     },
     "metadata": {}
    }
   ],
   "source": [
    "display(\n",
    "    df.groupby('churn')['hnd_price'].describe(),\n",
    "    df.groupby('churn')['change_mou'].describe(),\n",
    "    df.groupby('churn')['change_rev'].describe(),\n",
    "    df.groupby('churn')['rev_Mean'].describe()\n",
    ")"
   ]
  },
  {
   "cell_type": "code",
   "execution_count": 18,
   "metadata": {},
   "outputs": [],
   "source": [
    "# 1. 端末の使用日数を「0」に設定\n",
    "df_target['eqpdays'] = 0\n",
    "\n",
    "# 2. 端末価格を，「非解約者の第三四分位数(150$)」に設定\n",
    "df_target['hnd_price'] = 150\n",
    "\n",
    "# 3. 月平均の使用時間の変化率を「非解約者の第三四分位数(1.7倍(=70%))」に設定\n",
    "df_target['change_mou'] = 70\n",
    "\n",
    "# 最新機種端末を提供する代わりに，請求額を増額:\n",
    "#   月平均の請求額の変化率を「1.5倍(50%増)」に増額\n",
    "df_target['rev_Mean'] = df_target['rev_Mean'] * 1.5\n",
    "df_target['change_rev'] = 50 # 50%増"
   ]
  },
  {
   "cell_type": "code",
   "execution_count": 22,
   "metadata": {},
   "outputs": [
    {
     "output_type": "execute_result",
     "data": {
      "text/plain": [
       "       rev_Mean  mou_Mean  totmrc_Mean  da_Mean  ovrmou_Mean  ovrrev_Mean  \\\n",
       "0       23.9975    219.25       22.500   0.2475         0.00          0.0   \n",
       "1       57.4925    482.75       37.425   0.2475        22.75          9.1   \n",
       "2       16.9900     10.25       16.990   0.0000         0.00          0.0   \n",
       "3       38.0000      7.50       38.000   0.0000         0.00          0.0   \n",
       "4       55.2300    570.50       71.980   0.0000         0.00          0.0   \n",
       "...         ...       ...          ...      ...          ...          ...   \n",
       "99995    0.0000      0.00        0.000   0.0000         0.00          0.0   \n",
       "99996    0.0000      0.00        0.000   0.0000         0.00          0.0   \n",
       "99997    0.0000      0.00        0.000   0.0000         0.00          0.0   \n",
       "99998    0.0000      0.00        0.000   0.0000         0.00          0.0   \n",
       "99999    0.0000      0.00        0.000   0.0000         0.00          0.0   \n",
       "\n",
       "       vceovr_Mean  datovr_Mean  roam_Mean  change_mou  change_rev  \\\n",
       "0              0.0          0.0        0.0     -157.25    -18.9975   \n",
       "1              9.1          0.0        0.0      532.25     50.9875   \n",
       "2              0.0          0.0        0.0       -4.25      0.0000   \n",
       "3              0.0          0.0        0.0       -1.50      0.0000   \n",
       "4              0.0          0.0        0.0       38.50      0.0000   \n",
       "...            ...          ...        ...         ...         ...   \n",
       "99995          0.0          0.0        0.0        0.00      0.0000   \n",
       "99996          0.0          0.0        0.0        0.00      0.0000   \n",
       "99997          0.0          0.0        0.0       70.00     50.0000   \n",
       "99998          0.0          0.0        0.0        0.00      0.0000   \n",
       "99999          0.0          0.0        0.0        0.00      0.0000   \n",
       "\n",
       "       drop_vce_Mean  drop_dat_Mean  blck_vce_Mean  blck_dat_Mean  \\\n",
       "0           0.666667            0.0       0.666667            0.0   \n",
       "1           8.333333            0.0       1.000000            0.0   \n",
       "2           0.333333            0.0       0.000000            0.0   \n",
       "3           0.000000            0.0       0.000000            0.0   \n",
       "4           9.666667            0.0       0.666667            0.0   \n",
       "...              ...            ...            ...            ...   \n",
       "99995       2.000000            0.0       0.000000            0.0   \n",
       "99996       3.000000            0.0       1.000000            0.0   \n",
       "99997       0.000000            0.0       0.000000            0.0   \n",
       "99998      18.666667            0.0       0.666667            0.0   \n",
       "99999       5.666667            0.0       0.666667            0.0   \n",
       "\n",
       "       unan_vce_Mean  unan_dat_Mean  plcd_vce_Mean  plcd_dat_Mean  \\\n",
       "0           6.333333            0.0      52.333333       0.000000   \n",
       "1          61.333333            0.0     263.333333       0.000000   \n",
       "2           2.666667            0.0       9.000000       0.000000   \n",
       "3           0.000000            0.0       3.666667       0.000000   \n",
       "4          77.000000            0.0     222.333333       0.000000   \n",
       "...              ...            ...            ...            ...   \n",
       "99995       7.666667            0.0      54.666667       0.000000   \n",
       "99996      12.333333            0.0      69.333333       0.000000   \n",
       "99997       0.000000            0.0       0.000000       0.000000   \n",
       "99998     117.333333            0.0     550.666667       0.333333   \n",
       "99999      19.333333            0.0     155.666667       0.000000   \n",
       "\n",
       "       recv_vce_Mean  recv_sms_Mean  comp_vce_Mean  comp_dat_Mean  \\\n",
       "0          42.333333            0.0      45.000000       0.000000   \n",
       "1          69.000000            0.0     193.333333       0.000000   \n",
       "2           0.333333            0.0       6.000000       0.000000   \n",
       "3           1.333333            0.0       3.666667       0.000000   \n",
       "4          94.666667            0.0     137.000000       0.000000   \n",
       "...              ...            ...            ...            ...   \n",
       "99995       3.000000            0.0      45.333333       0.000000   \n",
       "99996      15.333333            0.0      53.333333       0.000000   \n",
       "99997       0.000000            0.0       0.000000       0.000000   \n",
       "99998     327.000000            0.0     417.000000       0.333333   \n",
       "99999       1.333333            0.0     130.000000       0.000000   \n",
       "\n",
       "       custcare_Mean  ccrndmou_Mean  cc_mou_Mean  inonemin_Mean  \\\n",
       "0           0.000000       0.000000     0.000000      18.000000   \n",
       "1           1.666667       6.333333     5.463333      53.000000   \n",
       "2           0.000000       0.000000     0.000000       0.333333   \n",
       "3           0.000000       0.000000     0.000000       1.333333   \n",
       "4           8.666667      15.000000    11.076667      66.000000   \n",
       "...              ...            ...          ...            ...   \n",
       "99995       0.000000       0.000000     0.000000       1.666667   \n",
       "99996       0.000000       0.000000     0.000000       9.000000   \n",
       "99997       0.000000       0.000000     0.000000       0.000000   \n",
       "99998       1.333333       1.333333     0.106667     235.333333   \n",
       "99999       0.666667       0.666667     0.183333       1.333333   \n",
       "\n",
       "       threeway_Mean  mou_cvce_Mean  mou_cdat_Mean  mou_rvce_Mean  \\\n",
       "0           0.000000      90.643333       0.000000      97.176667   \n",
       "1           0.333333     189.396667       0.000000      55.280000   \n",
       "2           0.000000       5.426667       0.000000       0.000000   \n",
       "3           0.000000       8.410000       0.000000       0.413333   \n",
       "4           0.000000     285.233333       0.000000     106.330000   \n",
       "...              ...            ...            ...            ...   \n",
       "99995       0.000000      94.866667       0.000000       2.016667   \n",
       "99996       0.333333     100.760000       0.000000      21.413333   \n",
       "99997       0.000000       0.000000       0.000000       0.000000   \n",
       "99998       1.000000     564.233333       1.656667     330.890000   \n",
       "99999       3.666667     164.436667       0.000000       0.000000   \n",
       "\n",
       "       owylis_vce_Mean  mouowylisv_Mean  iwylis_vce_Mean  mouiwylisv_Mean  \\\n",
       "0             0.000000         0.000000         0.000000         0.000000   \n",
       "1            46.333333        24.216667         6.333333         3.696667   \n",
       "2             0.000000         0.000000         0.000000         0.000000   \n",
       "3             0.333333         0.256667         0.000000         0.000000   \n",
       "4            14.666667        10.816667         0.666667         0.366667   \n",
       "...                ...              ...              ...              ...   \n",
       "99995         2.666667         1.680000         0.000000         0.000000   \n",
       "99996         6.666667        14.893333         0.000000         0.000000   \n",
       "99997         0.000000         0.000000         0.000000         0.000000   \n",
       "99998        55.000000        62.896667        16.666667        32.883333   \n",
       "99999         4.666667         7.110000         0.000000         0.000000   \n",
       "\n",
       "       peak_vce_Mean  peak_dat_Mean  mou_peav_Mean  mou_pead_Mean  \\\n",
       "0          58.000000       0.000000     132.600000       0.000000   \n",
       "1          83.666667       0.000000      75.333333       0.000000   \n",
       "2           5.000000       0.000000       5.193333       0.000000   \n",
       "3           1.333333       0.000000       3.380000       0.000000   \n",
       "4          97.333333       0.000000     173.476667       0.000000   \n",
       "...              ...            ...            ...            ...   \n",
       "99995      20.666667       0.000000      23.566667       0.000000   \n",
       "99996      60.333333       0.000000     121.790000       0.000000   \n",
       "99997       0.000000       0.000000       0.000000       0.000000   \n",
       "99998     442.333333       0.333333     641.230000       1.656667   \n",
       "99999      99.000000       0.000000     133.690000       0.000000   \n",
       "\n",
       "       opk_vce_Mean  opk_dat_Mean  mou_opkv_Mean  mou_opkd_Mean  \\\n",
       "0         24.000000           0.0      55.220000            0.0   \n",
       "1        157.000000           0.0     169.343333            0.0   \n",
       "2          1.000000           0.0       0.233333            0.0   \n",
       "3          3.666667           0.0       5.450000            0.0   \n",
       "4         90.333333           0.0     218.086667            0.0   \n",
       "...             ...           ...            ...            ...   \n",
       "99995     26.666667           0.0      73.316667            0.0   \n",
       "99996      1.000000           0.0       0.383333            0.0   \n",
       "99997      0.000000           0.0       0.000000            0.0   \n",
       "99998    167.333333           0.0     253.893333            0.0   \n",
       "99999     32.333333           0.0      30.746667            0.0   \n",
       "\n",
       "       drop_blk_Mean  attempt_Mean  complete_Mean  callfwdv_Mean  \\\n",
       "0           1.333333     52.333333      45.000000            0.0   \n",
       "1           9.333333    263.333333     193.333333            0.0   \n",
       "2           0.333333      9.000000       6.000000            0.0   \n",
       "3           0.000000      3.666667       3.666667            0.0   \n",
       "4          10.333333    222.333333     137.000000            0.0   \n",
       "...              ...           ...            ...            ...   \n",
       "99995       2.000000     54.666667      45.333333            0.0   \n",
       "99996       4.000000     69.333333      53.333333            0.0   \n",
       "99997       0.000000      0.000000       0.000000            0.0   \n",
       "99998      19.333333    551.000000     417.333333            0.0   \n",
       "99999       6.333333    155.666667     130.000000            0.0   \n",
       "\n",
       "       callwait_Mean  churn  months  uniqsubs  actvsubs  totcalls  \\\n",
       "0           0.333333      1      61         2         1      1652   \n",
       "1           5.666667      0      56         1         1     14654   \n",
       "2           0.000000      1      58         1         1      7903   \n",
       "3           0.000000      0      60         1         1      1502   \n",
       "4           0.000000      0      57         1         1      4485   \n",
       "...              ...    ...     ...       ...       ...       ...   \n",
       "99995       0.000000      1      25         1         1      3771   \n",
       "99996       0.000000      0      27         1         1      3675   \n",
       "99997       0.000000      0      31         1         1      1271   \n",
       "99998       0.000000      0      25         1         1     10082   \n",
       "99999       0.000000      1      25         1         1      1303   \n",
       "\n",
       "            totmou   totrev   adjrev    adjmou  adjqty  avgrev  avgmou  \\\n",
       "0       4228.00000  1504.62  1453.44   4085.00    1602   29.66   83.37   \n",
       "1      26400.00000  2851.68  2833.88  26367.00   14624   51.53  479.40   \n",
       "2      24385.05333  2155.91  1934.47  24303.05    7888   34.54  433.98   \n",
       "3       3065.00000  2000.90  1941.81   3035.00    1479   40.45   63.23   \n",
       "4      14028.00000  2181.12  2166.48  13965.00    4452   38.69  249.38   \n",
       "...            ...      ...      ...       ...     ...     ...     ...   \n",
       "99995   9534.00000  1594.83  1561.14   9494.00    3751   74.34  452.10   \n",
       "99996   8887.00000  1517.10  1451.85   8805.00    3629   72.59  440.25   \n",
       "99997   9336.00000  1114.91  1055.93   9234.00    1238   55.58  486.00   \n",
       "99998  20784.00000  2669.20  2593.26  20488.00    9921  123.49  975.62   \n",
       "99999   2355.00000   956.47   885.94   2225.00    1231   46.63  117.11   \n",
       "\n",
       "       avgqty  avg3mou  avg3qty  avg3rev  avg6mou  avg6qty  avg6rev  \\\n",
       "0       32.69      272      116       30    322.0    136.0     38.0   \n",
       "1      265.89      305      158       40    477.0    275.0     48.0   \n",
       "2      140.86       12        7       17     11.0      6.0     17.0   \n",
       "3       30.81        8        3       38     50.0     25.0     40.0   \n",
       "4       79.50      558      191       55    586.0    196.0     80.0   \n",
       "...       ...      ...      ...      ...      ...      ...      ...   \n",
       "99995  178.62      410      121       73    603.0    159.0    100.0   \n",
       "99996  181.45      382      126       73    410.0    143.0     69.0   \n",
       "99997   65.16      662       85       61    712.0     88.0     72.0   \n",
       "99998  472.43     1031      450      148    943.0    433.0    165.0   \n",
       "99999   64.79      105       60       51    111.0     64.0     51.0   \n",
       "\n",
       "       hnd_price  phones  models  truck   rv   lor  adults  income  numbcars  \\\n",
       "0      149.98999     2.0     2.0    0.0  0.0  15.0     1.0     4.0       3.0   \n",
       "1        0.00000     7.0     6.0    1.0  1.0   1.0     1.0     5.0       1.0   \n",
       "2       29.98999     2.0     1.0    0.0  0.0   7.0     2.0     5.0       2.0   \n",
       "3       29.98999     1.0     1.0    0.0  0.0   6.0     4.0     6.0       1.0   \n",
       "4      149.98999     6.0     4.0    0.0  0.0   5.0     1.0     6.0       1.0   \n",
       "...          ...     ...     ...    ...  ...   ...     ...     ...       ...   \n",
       "99995   29.98999     1.0     1.0    0.0  0.0  15.0     5.0     4.0       2.0   \n",
       "99996   29.98999     1.0     1.0    0.0  0.0   9.0     3.0     7.0       2.0   \n",
       "99997  150.00000     2.0     2.0    0.0  0.0   0.0     1.0     9.0       0.0   \n",
       "99998  149.98999     7.0     5.0    0.0  0.0   0.0     0.0     0.0       0.0   \n",
       "99999  149.98999     3.0     2.0    0.0  0.0   2.0     2.0     4.0       0.0   \n",
       "\n",
       "       forgntvl  eqpdays  Customer_ID  \n",
       "0           0.0    361.0      1000001  \n",
       "1           0.0    240.0      1000002  \n",
       "2           0.0   1504.0      1000003  \n",
       "3           0.0   1812.0      1000004  \n",
       "4           0.0    434.0      1000005  \n",
       "...         ...      ...          ...  \n",
       "99995       0.0    773.0      1099996  \n",
       "99996       0.0    835.0      1099997  \n",
       "99997       0.0      0.0      1099998  \n",
       "99998       0.0     75.0      1099999  \n",
       "99999       0.0      5.0      1100000  \n",
       "\n",
       "[100000 rows x 79 columns]"
      ],
      "text/html": "<div>\n<style scoped>\n    .dataframe tbody tr th:only-of-type {\n        vertical-align: middle;\n    }\n\n    .dataframe tbody tr th {\n        vertical-align: top;\n    }\n\n    .dataframe thead th {\n        text-align: right;\n    }\n</style>\n<table border=\"1\" class=\"dataframe\">\n  <thead>\n    <tr style=\"text-align: right;\">\n      <th></th>\n      <th>rev_Mean</th>\n      <th>mou_Mean</th>\n      <th>totmrc_Mean</th>\n      <th>da_Mean</th>\n      <th>ovrmou_Mean</th>\n      <th>ovrrev_Mean</th>\n      <th>vceovr_Mean</th>\n      <th>datovr_Mean</th>\n      <th>roam_Mean</th>\n      <th>change_mou</th>\n      <th>change_rev</th>\n      <th>drop_vce_Mean</th>\n      <th>drop_dat_Mean</th>\n      <th>blck_vce_Mean</th>\n      <th>blck_dat_Mean</th>\n      <th>unan_vce_Mean</th>\n      <th>unan_dat_Mean</th>\n      <th>plcd_vce_Mean</th>\n      <th>plcd_dat_Mean</th>\n      <th>recv_vce_Mean</th>\n      <th>recv_sms_Mean</th>\n      <th>comp_vce_Mean</th>\n      <th>comp_dat_Mean</th>\n      <th>custcare_Mean</th>\n      <th>ccrndmou_Mean</th>\n      <th>cc_mou_Mean</th>\n      <th>inonemin_Mean</th>\n      <th>threeway_Mean</th>\n      <th>mou_cvce_Mean</th>\n      <th>mou_cdat_Mean</th>\n      <th>mou_rvce_Mean</th>\n      <th>owylis_vce_Mean</th>\n      <th>mouowylisv_Mean</th>\n      <th>iwylis_vce_Mean</th>\n      <th>mouiwylisv_Mean</th>\n      <th>peak_vce_Mean</th>\n      <th>peak_dat_Mean</th>\n      <th>mou_peav_Mean</th>\n      <th>mou_pead_Mean</th>\n      <th>opk_vce_Mean</th>\n      <th>opk_dat_Mean</th>\n      <th>mou_opkv_Mean</th>\n      <th>mou_opkd_Mean</th>\n      <th>drop_blk_Mean</th>\n      <th>attempt_Mean</th>\n      <th>complete_Mean</th>\n      <th>callfwdv_Mean</th>\n      <th>callwait_Mean</th>\n      <th>churn</th>\n      <th>months</th>\n      <th>uniqsubs</th>\n      <th>actvsubs</th>\n      <th>totcalls</th>\n      <th>totmou</th>\n      <th>totrev</th>\n      <th>adjrev</th>\n      <th>adjmou</th>\n      <th>adjqty</th>\n      <th>avgrev</th>\n      <th>avgmou</th>\n      <th>avgqty</th>\n      <th>avg3mou</th>\n      <th>avg3qty</th>\n      <th>avg3rev</th>\n      <th>avg6mou</th>\n      <th>avg6qty</th>\n      <th>avg6rev</th>\n      <th>hnd_price</th>\n      <th>phones</th>\n      <th>models</th>\n      <th>truck</th>\n      <th>rv</th>\n      <th>lor</th>\n      <th>adults</th>\n      <th>income</th>\n      <th>numbcars</th>\n      <th>forgntvl</th>\n      <th>eqpdays</th>\n      <th>Customer_ID</th>\n    </tr>\n  </thead>\n  <tbody>\n    <tr>\n      <th>0</th>\n      <td>23.9975</td>\n      <td>219.25</td>\n      <td>22.500</td>\n      <td>0.2475</td>\n      <td>0.00</td>\n      <td>0.0</td>\n      <td>0.0</td>\n      <td>0.0</td>\n      <td>0.0</td>\n      <td>-157.25</td>\n      <td>-18.9975</td>\n      <td>0.666667</td>\n      <td>0.0</td>\n      <td>0.666667</td>\n      <td>0.0</td>\n      <td>6.333333</td>\n      <td>0.0</td>\n      <td>52.333333</td>\n      <td>0.000000</td>\n      <td>42.333333</td>\n      <td>0.0</td>\n      <td>45.000000</td>\n      <td>0.000000</td>\n      <td>0.000000</td>\n      <td>0.000000</td>\n      <td>0.000000</td>\n      <td>18.000000</td>\n      <td>0.000000</td>\n      <td>90.643333</td>\n      <td>0.000000</td>\n      <td>97.176667</td>\n      <td>0.000000</td>\n      <td>0.000000</td>\n      <td>0.000000</td>\n      <td>0.000000</td>\n      <td>58.000000</td>\n      <td>0.000000</td>\n      <td>132.600000</td>\n      <td>0.000000</td>\n      <td>24.000000</td>\n      <td>0.0</td>\n      <td>55.220000</td>\n      <td>0.0</td>\n      <td>1.333333</td>\n      <td>52.333333</td>\n      <td>45.000000</td>\n      <td>0.0</td>\n      <td>0.333333</td>\n      <td>1</td>\n      <td>61</td>\n      <td>2</td>\n      <td>1</td>\n      <td>1652</td>\n      <td>4228.00000</td>\n      <td>1504.62</td>\n      <td>1453.44</td>\n      <td>4085.00</td>\n      <td>1602</td>\n      <td>29.66</td>\n      <td>83.37</td>\n      <td>32.69</td>\n      <td>272</td>\n      <td>116</td>\n      <td>30</td>\n      <td>322.0</td>\n      <td>136.0</td>\n      <td>38.0</td>\n      <td>149.98999</td>\n      <td>2.0</td>\n      <td>2.0</td>\n      <td>0.0</td>\n      <td>0.0</td>\n      <td>15.0</td>\n      <td>1.0</td>\n      <td>4.0</td>\n      <td>3.0</td>\n      <td>0.0</td>\n      <td>361.0</td>\n      <td>1000001</td>\n    </tr>\n    <tr>\n      <th>1</th>\n      <td>57.4925</td>\n      <td>482.75</td>\n      <td>37.425</td>\n      <td>0.2475</td>\n      <td>22.75</td>\n      <td>9.1</td>\n      <td>9.1</td>\n      <td>0.0</td>\n      <td>0.0</td>\n      <td>532.25</td>\n      <td>50.9875</td>\n      <td>8.333333</td>\n      <td>0.0</td>\n      <td>1.000000</td>\n      <td>0.0</td>\n      <td>61.333333</td>\n      <td>0.0</td>\n      <td>263.333333</td>\n      <td>0.000000</td>\n      <td>69.000000</td>\n      <td>0.0</td>\n      <td>193.333333</td>\n      <td>0.000000</td>\n      <td>1.666667</td>\n      <td>6.333333</td>\n      <td>5.463333</td>\n      <td>53.000000</td>\n      <td>0.333333</td>\n      <td>189.396667</td>\n      <td>0.000000</td>\n      <td>55.280000</td>\n      <td>46.333333</td>\n      <td>24.216667</td>\n      <td>6.333333</td>\n      <td>3.696667</td>\n      <td>83.666667</td>\n      <td>0.000000</td>\n      <td>75.333333</td>\n      <td>0.000000</td>\n      <td>157.000000</td>\n      <td>0.0</td>\n      <td>169.343333</td>\n      <td>0.0</td>\n      <td>9.333333</td>\n      <td>263.333333</td>\n      <td>193.333333</td>\n      <td>0.0</td>\n      <td>5.666667</td>\n      <td>0</td>\n      <td>56</td>\n      <td>1</td>\n      <td>1</td>\n      <td>14654</td>\n      <td>26400.00000</td>\n      <td>2851.68</td>\n      <td>2833.88</td>\n      <td>26367.00</td>\n      <td>14624</td>\n      <td>51.53</td>\n      <td>479.40</td>\n      <td>265.89</td>\n      <td>305</td>\n      <td>158</td>\n      <td>40</td>\n      <td>477.0</td>\n      <td>275.0</td>\n      <td>48.0</td>\n      <td>0.00000</td>\n      <td>7.0</td>\n      <td>6.0</td>\n      <td>1.0</td>\n      <td>1.0</td>\n      <td>1.0</td>\n      <td>1.0</td>\n      <td>5.0</td>\n      <td>1.0</td>\n      <td>0.0</td>\n      <td>240.0</td>\n      <td>1000002</td>\n    </tr>\n    <tr>\n      <th>2</th>\n      <td>16.9900</td>\n      <td>10.25</td>\n      <td>16.990</td>\n      <td>0.0000</td>\n      <td>0.00</td>\n      <td>0.0</td>\n      <td>0.0</td>\n      <td>0.0</td>\n      <td>0.0</td>\n      <td>-4.25</td>\n      <td>0.0000</td>\n      <td>0.333333</td>\n      <td>0.0</td>\n      <td>0.000000</td>\n      <td>0.0</td>\n      <td>2.666667</td>\n      <td>0.0</td>\n      <td>9.000000</td>\n      <td>0.000000</td>\n      <td>0.333333</td>\n      <td>0.0</td>\n      <td>6.000000</td>\n      <td>0.000000</td>\n      <td>0.000000</td>\n      <td>0.000000</td>\n      <td>0.000000</td>\n      <td>0.333333</td>\n      <td>0.000000</td>\n      <td>5.426667</td>\n      <td>0.000000</td>\n      <td>0.000000</td>\n      <td>0.000000</td>\n      <td>0.000000</td>\n      <td>0.000000</td>\n      <td>0.000000</td>\n      <td>5.000000</td>\n      <td>0.000000</td>\n      <td>5.193333</td>\n      <td>0.000000</td>\n      <td>1.000000</td>\n      <td>0.0</td>\n      <td>0.233333</td>\n      <td>0.0</td>\n      <td>0.333333</td>\n      <td>9.000000</td>\n      <td>6.000000</td>\n      <td>0.0</td>\n      <td>0.000000</td>\n      <td>1</td>\n      <td>58</td>\n      <td>1</td>\n      <td>1</td>\n      <td>7903</td>\n      <td>24385.05333</td>\n      <td>2155.91</td>\n      <td>1934.47</td>\n      <td>24303.05</td>\n      <td>7888</td>\n      <td>34.54</td>\n      <td>433.98</td>\n      <td>140.86</td>\n      <td>12</td>\n      <td>7</td>\n      <td>17</td>\n      <td>11.0</td>\n      <td>6.0</td>\n      <td>17.0</td>\n      <td>29.98999</td>\n      <td>2.0</td>\n      <td>1.0</td>\n      <td>0.0</td>\n      <td>0.0</td>\n      <td>7.0</td>\n      <td>2.0</td>\n      <td>5.0</td>\n      <td>2.0</td>\n      <td>0.0</td>\n      <td>1504.0</td>\n      <td>1000003</td>\n    </tr>\n    <tr>\n      <th>3</th>\n      <td>38.0000</td>\n      <td>7.50</td>\n      <td>38.000</td>\n      <td>0.0000</td>\n      <td>0.00</td>\n      <td>0.0</td>\n      <td>0.0</td>\n      <td>0.0</td>\n      <td>0.0</td>\n      <td>-1.50</td>\n      <td>0.0000</td>\n      <td>0.000000</td>\n      <td>0.0</td>\n      <td>0.000000</td>\n      <td>0.0</td>\n      <td>0.000000</td>\n      <td>0.0</td>\n      <td>3.666667</td>\n      <td>0.000000</td>\n      <td>1.333333</td>\n      <td>0.0</td>\n      <td>3.666667</td>\n      <td>0.000000</td>\n      <td>0.000000</td>\n      <td>0.000000</td>\n      <td>0.000000</td>\n      <td>1.333333</td>\n      <td>0.000000</td>\n      <td>8.410000</td>\n      <td>0.000000</td>\n      <td>0.413333</td>\n      <td>0.333333</td>\n      <td>0.256667</td>\n      <td>0.000000</td>\n      <td>0.000000</td>\n      <td>1.333333</td>\n      <td>0.000000</td>\n      <td>3.380000</td>\n      <td>0.000000</td>\n      <td>3.666667</td>\n      <td>0.0</td>\n      <td>5.450000</td>\n      <td>0.0</td>\n      <td>0.000000</td>\n      <td>3.666667</td>\n      <td>3.666667</td>\n      <td>0.0</td>\n      <td>0.000000</td>\n      <td>0</td>\n      <td>60</td>\n      <td>1</td>\n      <td>1</td>\n      <td>1502</td>\n      <td>3065.00000</td>\n      <td>2000.90</td>\n      <td>1941.81</td>\n      <td>3035.00</td>\n      <td>1479</td>\n      <td>40.45</td>\n      <td>63.23</td>\n      <td>30.81</td>\n      <td>8</td>\n      <td>3</td>\n      <td>38</td>\n      <td>50.0</td>\n      <td>25.0</td>\n      <td>40.0</td>\n      <td>29.98999</td>\n      <td>1.0</td>\n      <td>1.0</td>\n      <td>0.0</td>\n      <td>0.0</td>\n      <td>6.0</td>\n      <td>4.0</td>\n      <td>6.0</td>\n      <td>1.0</td>\n      <td>0.0</td>\n      <td>1812.0</td>\n      <td>1000004</td>\n    </tr>\n    <tr>\n      <th>4</th>\n      <td>55.2300</td>\n      <td>570.50</td>\n      <td>71.980</td>\n      <td>0.0000</td>\n      <td>0.00</td>\n      <td>0.0</td>\n      <td>0.0</td>\n      <td>0.0</td>\n      <td>0.0</td>\n      <td>38.50</td>\n      <td>0.0000</td>\n      <td>9.666667</td>\n      <td>0.0</td>\n      <td>0.666667</td>\n      <td>0.0</td>\n      <td>77.000000</td>\n      <td>0.0</td>\n      <td>222.333333</td>\n      <td>0.000000</td>\n      <td>94.666667</td>\n      <td>0.0</td>\n      <td>137.000000</td>\n      <td>0.000000</td>\n      <td>8.666667</td>\n      <td>15.000000</td>\n      <td>11.076667</td>\n      <td>66.000000</td>\n      <td>0.000000</td>\n      <td>285.233333</td>\n      <td>0.000000</td>\n      <td>106.330000</td>\n      <td>14.666667</td>\n      <td>10.816667</td>\n      <td>0.666667</td>\n      <td>0.366667</td>\n      <td>97.333333</td>\n      <td>0.000000</td>\n      <td>173.476667</td>\n      <td>0.000000</td>\n      <td>90.333333</td>\n      <td>0.0</td>\n      <td>218.086667</td>\n      <td>0.0</td>\n      <td>10.333333</td>\n      <td>222.333333</td>\n      <td>137.000000</td>\n      <td>0.0</td>\n      <td>0.000000</td>\n      <td>0</td>\n      <td>57</td>\n      <td>1</td>\n      <td>1</td>\n      <td>4485</td>\n      <td>14028.00000</td>\n      <td>2181.12</td>\n      <td>2166.48</td>\n      <td>13965.00</td>\n      <td>4452</td>\n      <td>38.69</td>\n      <td>249.38</td>\n      <td>79.50</td>\n      <td>558</td>\n      <td>191</td>\n      <td>55</td>\n      <td>586.0</td>\n      <td>196.0</td>\n      <td>80.0</td>\n      <td>149.98999</td>\n      <td>6.0</td>\n      <td>4.0</td>\n      <td>0.0</td>\n      <td>0.0</td>\n      <td>5.0</td>\n      <td>1.0</td>\n      <td>6.0</td>\n      <td>1.0</td>\n      <td>0.0</td>\n      <td>434.0</td>\n      <td>1000005</td>\n    </tr>\n    <tr>\n      <th>...</th>\n      <td>...</td>\n      <td>...</td>\n      <td>...</td>\n      <td>...</td>\n      <td>...</td>\n      <td>...</td>\n      <td>...</td>\n      <td>...</td>\n      <td>...</td>\n      <td>...</td>\n      <td>...</td>\n      <td>...</td>\n      <td>...</td>\n      <td>...</td>\n      <td>...</td>\n      <td>...</td>\n      <td>...</td>\n      <td>...</td>\n      <td>...</td>\n      <td>...</td>\n      <td>...</td>\n      <td>...</td>\n      <td>...</td>\n      <td>...</td>\n      <td>...</td>\n      <td>...</td>\n      <td>...</td>\n      <td>...</td>\n      <td>...</td>\n      <td>...</td>\n      <td>...</td>\n      <td>...</td>\n      <td>...</td>\n      <td>...</td>\n      <td>...</td>\n      <td>...</td>\n      <td>...</td>\n      <td>...</td>\n      <td>...</td>\n      <td>...</td>\n      <td>...</td>\n      <td>...</td>\n      <td>...</td>\n      <td>...</td>\n      <td>...</td>\n      <td>...</td>\n      <td>...</td>\n      <td>...</td>\n      <td>...</td>\n      <td>...</td>\n      <td>...</td>\n      <td>...</td>\n      <td>...</td>\n      <td>...</td>\n      <td>...</td>\n      <td>...</td>\n      <td>...</td>\n      <td>...</td>\n      <td>...</td>\n      <td>...</td>\n      <td>...</td>\n      <td>...</td>\n      <td>...</td>\n      <td>...</td>\n      <td>...</td>\n      <td>...</td>\n      <td>...</td>\n      <td>...</td>\n      <td>...</td>\n      <td>...</td>\n      <td>...</td>\n      <td>...</td>\n      <td>...</td>\n      <td>...</td>\n      <td>...</td>\n      <td>...</td>\n      <td>...</td>\n      <td>...</td>\n      <td>...</td>\n    </tr>\n    <tr>\n      <th>99995</th>\n      <td>0.0000</td>\n      <td>0.00</td>\n      <td>0.000</td>\n      <td>0.0000</td>\n      <td>0.00</td>\n      <td>0.0</td>\n      <td>0.0</td>\n      <td>0.0</td>\n      <td>0.0</td>\n      <td>0.00</td>\n      <td>0.0000</td>\n      <td>2.000000</td>\n      <td>0.0</td>\n      <td>0.000000</td>\n      <td>0.0</td>\n      <td>7.666667</td>\n      <td>0.0</td>\n      <td>54.666667</td>\n      <td>0.000000</td>\n      <td>3.000000</td>\n      <td>0.0</td>\n      <td>45.333333</td>\n      <td>0.000000</td>\n      <td>0.000000</td>\n      <td>0.000000</td>\n      <td>0.000000</td>\n      <td>1.666667</td>\n      <td>0.000000</td>\n      <td>94.866667</td>\n      <td>0.000000</td>\n      <td>2.016667</td>\n      <td>2.666667</td>\n      <td>1.680000</td>\n      <td>0.000000</td>\n      <td>0.000000</td>\n      <td>20.666667</td>\n      <td>0.000000</td>\n      <td>23.566667</td>\n      <td>0.000000</td>\n      <td>26.666667</td>\n      <td>0.0</td>\n      <td>73.316667</td>\n      <td>0.0</td>\n      <td>2.000000</td>\n      <td>54.666667</td>\n      <td>45.333333</td>\n      <td>0.0</td>\n      <td>0.000000</td>\n      <td>1</td>\n      <td>25</td>\n      <td>1</td>\n      <td>1</td>\n      <td>3771</td>\n      <td>9534.00000</td>\n      <td>1594.83</td>\n      <td>1561.14</td>\n      <td>9494.00</td>\n      <td>3751</td>\n      <td>74.34</td>\n      <td>452.10</td>\n      <td>178.62</td>\n      <td>410</td>\n      <td>121</td>\n      <td>73</td>\n      <td>603.0</td>\n      <td>159.0</td>\n      <td>100.0</td>\n      <td>29.98999</td>\n      <td>1.0</td>\n      <td>1.0</td>\n      <td>0.0</td>\n      <td>0.0</td>\n      <td>15.0</td>\n      <td>5.0</td>\n      <td>4.0</td>\n      <td>2.0</td>\n      <td>0.0</td>\n      <td>773.0</td>\n      <td>1099996</td>\n    </tr>\n    <tr>\n      <th>99996</th>\n      <td>0.0000</td>\n      <td>0.00</td>\n      <td>0.000</td>\n      <td>0.0000</td>\n      <td>0.00</td>\n      <td>0.0</td>\n      <td>0.0</td>\n      <td>0.0</td>\n      <td>0.0</td>\n      <td>0.00</td>\n      <td>0.0000</td>\n      <td>3.000000</td>\n      <td>0.0</td>\n      <td>1.000000</td>\n      <td>0.0</td>\n      <td>12.333333</td>\n      <td>0.0</td>\n      <td>69.333333</td>\n      <td>0.000000</td>\n      <td>15.333333</td>\n      <td>0.0</td>\n      <td>53.333333</td>\n      <td>0.000000</td>\n      <td>0.000000</td>\n      <td>0.000000</td>\n      <td>0.000000</td>\n      <td>9.000000</td>\n      <td>0.333333</td>\n      <td>100.760000</td>\n      <td>0.000000</td>\n      <td>21.413333</td>\n      <td>6.666667</td>\n      <td>14.893333</td>\n      <td>0.000000</td>\n      <td>0.000000</td>\n      <td>60.333333</td>\n      <td>0.000000</td>\n      <td>121.790000</td>\n      <td>0.000000</td>\n      <td>1.000000</td>\n      <td>0.0</td>\n      <td>0.383333</td>\n      <td>0.0</td>\n      <td>4.000000</td>\n      <td>69.333333</td>\n      <td>53.333333</td>\n      <td>0.0</td>\n      <td>0.000000</td>\n      <td>0</td>\n      <td>27</td>\n      <td>1</td>\n      <td>1</td>\n      <td>3675</td>\n      <td>8887.00000</td>\n      <td>1517.10</td>\n      <td>1451.85</td>\n      <td>8805.00</td>\n      <td>3629</td>\n      <td>72.59</td>\n      <td>440.25</td>\n      <td>181.45</td>\n      <td>382</td>\n      <td>126</td>\n      <td>73</td>\n      <td>410.0</td>\n      <td>143.0</td>\n      <td>69.0</td>\n      <td>29.98999</td>\n      <td>1.0</td>\n      <td>1.0</td>\n      <td>0.0</td>\n      <td>0.0</td>\n      <td>9.0</td>\n      <td>3.0</td>\n      <td>7.0</td>\n      <td>2.0</td>\n      <td>0.0</td>\n      <td>835.0</td>\n      <td>1099997</td>\n    </tr>\n    <tr>\n      <th>99997</th>\n      <td>0.0000</td>\n      <td>0.00</td>\n      <td>0.000</td>\n      <td>0.0000</td>\n      <td>0.00</td>\n      <td>0.0</td>\n      <td>0.0</td>\n      <td>0.0</td>\n      <td>0.0</td>\n      <td>70.00</td>\n      <td>50.0000</td>\n      <td>0.000000</td>\n      <td>0.0</td>\n      <td>0.000000</td>\n      <td>0.0</td>\n      <td>0.000000</td>\n      <td>0.0</td>\n      <td>0.000000</td>\n      <td>0.000000</td>\n      <td>0.000000</td>\n      <td>0.0</td>\n      <td>0.000000</td>\n      <td>0.000000</td>\n      <td>0.000000</td>\n      <td>0.000000</td>\n      <td>0.000000</td>\n      <td>0.000000</td>\n      <td>0.000000</td>\n      <td>0.000000</td>\n      <td>0.000000</td>\n      <td>0.000000</td>\n      <td>0.000000</td>\n      <td>0.000000</td>\n      <td>0.000000</td>\n      <td>0.000000</td>\n      <td>0.000000</td>\n      <td>0.000000</td>\n      <td>0.000000</td>\n      <td>0.000000</td>\n      <td>0.000000</td>\n      <td>0.0</td>\n      <td>0.000000</td>\n      <td>0.0</td>\n      <td>0.000000</td>\n      <td>0.000000</td>\n      <td>0.000000</td>\n      <td>0.0</td>\n      <td>0.000000</td>\n      <td>0</td>\n      <td>31</td>\n      <td>1</td>\n      <td>1</td>\n      <td>1271</td>\n      <td>9336.00000</td>\n      <td>1114.91</td>\n      <td>1055.93</td>\n      <td>9234.00</td>\n      <td>1238</td>\n      <td>55.58</td>\n      <td>486.00</td>\n      <td>65.16</td>\n      <td>662</td>\n      <td>85</td>\n      <td>61</td>\n      <td>712.0</td>\n      <td>88.0</td>\n      <td>72.0</td>\n      <td>150.00000</td>\n      <td>2.0</td>\n      <td>2.0</td>\n      <td>0.0</td>\n      <td>0.0</td>\n      <td>0.0</td>\n      <td>1.0</td>\n      <td>9.0</td>\n      <td>0.0</td>\n      <td>0.0</td>\n      <td>0.0</td>\n      <td>1099998</td>\n    </tr>\n    <tr>\n      <th>99998</th>\n      <td>0.0000</td>\n      <td>0.00</td>\n      <td>0.000</td>\n      <td>0.0000</td>\n      <td>0.00</td>\n      <td>0.0</td>\n      <td>0.0</td>\n      <td>0.0</td>\n      <td>0.0</td>\n      <td>0.00</td>\n      <td>0.0000</td>\n      <td>18.666667</td>\n      <td>0.0</td>\n      <td>0.666667</td>\n      <td>0.0</td>\n      <td>117.333333</td>\n      <td>0.0</td>\n      <td>550.666667</td>\n      <td>0.333333</td>\n      <td>327.000000</td>\n      <td>0.0</td>\n      <td>417.000000</td>\n      <td>0.333333</td>\n      <td>1.333333</td>\n      <td>1.333333</td>\n      <td>0.106667</td>\n      <td>235.333333</td>\n      <td>1.000000</td>\n      <td>564.233333</td>\n      <td>1.656667</td>\n      <td>330.890000</td>\n      <td>55.000000</td>\n      <td>62.896667</td>\n      <td>16.666667</td>\n      <td>32.883333</td>\n      <td>442.333333</td>\n      <td>0.333333</td>\n      <td>641.230000</td>\n      <td>1.656667</td>\n      <td>167.333333</td>\n      <td>0.0</td>\n      <td>253.893333</td>\n      <td>0.0</td>\n      <td>19.333333</td>\n      <td>551.000000</td>\n      <td>417.333333</td>\n      <td>0.0</td>\n      <td>0.000000</td>\n      <td>0</td>\n      <td>25</td>\n      <td>1</td>\n      <td>1</td>\n      <td>10082</td>\n      <td>20784.00000</td>\n      <td>2669.20</td>\n      <td>2593.26</td>\n      <td>20488.00</td>\n      <td>9921</td>\n      <td>123.49</td>\n      <td>975.62</td>\n      <td>472.43</td>\n      <td>1031</td>\n      <td>450</td>\n      <td>148</td>\n      <td>943.0</td>\n      <td>433.0</td>\n      <td>165.0</td>\n      <td>149.98999</td>\n      <td>7.0</td>\n      <td>5.0</td>\n      <td>0.0</td>\n      <td>0.0</td>\n      <td>0.0</td>\n      <td>0.0</td>\n      <td>0.0</td>\n      <td>0.0</td>\n      <td>0.0</td>\n      <td>75.0</td>\n      <td>1099999</td>\n    </tr>\n    <tr>\n      <th>99999</th>\n      <td>0.0000</td>\n      <td>0.00</td>\n      <td>0.000</td>\n      <td>0.0000</td>\n      <td>0.00</td>\n      <td>0.0</td>\n      <td>0.0</td>\n      <td>0.0</td>\n      <td>0.0</td>\n      <td>0.00</td>\n      <td>0.0000</td>\n      <td>5.666667</td>\n      <td>0.0</td>\n      <td>0.666667</td>\n      <td>0.0</td>\n      <td>19.333333</td>\n      <td>0.0</td>\n      <td>155.666667</td>\n      <td>0.000000</td>\n      <td>1.333333</td>\n      <td>0.0</td>\n      <td>130.000000</td>\n      <td>0.000000</td>\n      <td>0.666667</td>\n      <td>0.666667</td>\n      <td>0.183333</td>\n      <td>1.333333</td>\n      <td>3.666667</td>\n      <td>164.436667</td>\n      <td>0.000000</td>\n      <td>0.000000</td>\n      <td>4.666667</td>\n      <td>7.110000</td>\n      <td>0.000000</td>\n      <td>0.000000</td>\n      <td>99.000000</td>\n      <td>0.000000</td>\n      <td>133.690000</td>\n      <td>0.000000</td>\n      <td>32.333333</td>\n      <td>0.0</td>\n      <td>30.746667</td>\n      <td>0.0</td>\n      <td>6.333333</td>\n      <td>155.666667</td>\n      <td>130.000000</td>\n      <td>0.0</td>\n      <td>0.000000</td>\n      <td>1</td>\n      <td>25</td>\n      <td>1</td>\n      <td>1</td>\n      <td>1303</td>\n      <td>2355.00000</td>\n      <td>956.47</td>\n      <td>885.94</td>\n      <td>2225.00</td>\n      <td>1231</td>\n      <td>46.63</td>\n      <td>117.11</td>\n      <td>64.79</td>\n      <td>105</td>\n      <td>60</td>\n      <td>51</td>\n      <td>111.0</td>\n      <td>64.0</td>\n      <td>51.0</td>\n      <td>149.98999</td>\n      <td>3.0</td>\n      <td>2.0</td>\n      <td>0.0</td>\n      <td>0.0</td>\n      <td>2.0</td>\n      <td>2.0</td>\n      <td>4.0</td>\n      <td>0.0</td>\n      <td>0.0</td>\n      <td>5.0</td>\n      <td>1100000</td>\n    </tr>\n  </tbody>\n</table>\n<p>100000 rows × 79 columns</p>\n</div>"
     },
     "metadata": {},
     "execution_count": 22
    }
   ],
   "source": [
    "# 仮説を反映\n",
    "df.iloc[target_idx] = df_target\n",
    "df"
   ]
  },
  {
   "source": [
    "### 再度分割"
   ],
   "cell_type": "markdown",
   "metadata": {}
  },
  {
   "cell_type": "code",
   "execution_count": 23,
   "metadata": {},
   "outputs": [
    {
     "output_type": "stream",
     "name": "stdout",
     "text": [
      "df_train: 80000\ndf_test : 20000\n"
     ]
    }
   ],
   "source": [
    "df_train, df_test = train_test_split( df, test_size=0.2, random_state=4 )\n",
    "\n",
    "print( 'df_train: {}'.format( len(df_train) ) )\n",
    "print( 'df_test : {}'.format( len(df_test) ) )\n",
    "\n",
    "# trainデータを説明変数(X_train)と目的変数(y_train)に分割\n",
    "X_train = df_train.drop( 'churn', axis=1 )\n",
    "y_train = df_train['churn']\n",
    " \n",
    "# testデータを説明変数(X_test)と目的変数(y_test)に分割\n",
    "X_test  = df_test.drop( 'churn', axis=1 )\n",
    "y_test  = df_test['churn']"
   ]
  },
  {
   "source": [
    "### 再度学習&予測"
   ],
   "cell_type": "markdown",
   "metadata": {}
  },
  {
   "cell_type": "code",
   "execution_count": 24,
   "metadata": {},
   "outputs": [
    {
     "output_type": "display_data",
     "data": {
      "text/plain": "       churn_GT  churn_pred\n60645         1           0\n84599         1           1\n59801         0           0\n90055         0           0\n94213         1           0\n...         ...         ...\n3081          0           0\n98897         0           0\n69223         0           0\n34419         1           0\n58585         1           0\n\n[20000 rows x 2 columns]",
      "text/html": "<div>\n<style scoped>\n    .dataframe tbody tr th:only-of-type {\n        vertical-align: middle;\n    }\n\n    .dataframe tbody tr th {\n        vertical-align: top;\n    }\n\n    .dataframe thead th {\n        text-align: right;\n    }\n</style>\n<table border=\"1\" class=\"dataframe\">\n  <thead>\n    <tr style=\"text-align: right;\">\n      <th></th>\n      <th>churn_GT</th>\n      <th>churn_pred</th>\n    </tr>\n  </thead>\n  <tbody>\n    <tr>\n      <th>60645</th>\n      <td>1</td>\n      <td>0</td>\n    </tr>\n    <tr>\n      <th>84599</th>\n      <td>1</td>\n      <td>1</td>\n    </tr>\n    <tr>\n      <th>59801</th>\n      <td>0</td>\n      <td>0</td>\n    </tr>\n    <tr>\n      <th>90055</th>\n      <td>0</td>\n      <td>0</td>\n    </tr>\n    <tr>\n      <th>94213</th>\n      <td>1</td>\n      <td>0</td>\n    </tr>\n    <tr>\n      <th>...</th>\n      <td>...</td>\n      <td>...</td>\n    </tr>\n    <tr>\n      <th>3081</th>\n      <td>0</td>\n      <td>0</td>\n    </tr>\n    <tr>\n      <th>98897</th>\n      <td>0</td>\n      <td>0</td>\n    </tr>\n    <tr>\n      <th>69223</th>\n      <td>0</td>\n      <td>0</td>\n    </tr>\n    <tr>\n      <th>34419</th>\n      <td>1</td>\n      <td>0</td>\n    </tr>\n    <tr>\n      <th>58585</th>\n      <td>1</td>\n      <td>0</td>\n    </tr>\n  </tbody>\n</table>\n<p>20000 rows × 2 columns</p>\n</div>"
     },
     "metadata": {}
    }
   ],
   "source": [
    "# 学習\n",
    "model.fit( X_train, y_train )\n",
    "\n",
    "# 予測\n",
    "y_pred = model.predict( X_test )\n",
    "y_pred_prob = model.predict_proba( X_test ) # テストデータのクラス予測確率を返す\n",
    "\n",
    "# 真値と予測値の表示\n",
    "df_pred = pd.DataFrame( {'churn_GT':y_test, 'churn_pred':y_pred} )\n",
    "display( df_pred )"
   ]
  },
  {
   "source": [
    "### モデルの再評価"
   ],
   "cell_type": "markdown",
   "metadata": {}
  },
  {
   "cell_type": "code",
   "execution_count": 25,
   "metadata": {},
   "outputs": [
    {
     "output_type": "stream",
     "name": "stdout",
     "text": [
      "GT0: 10030,\tpred0: 18014\nGT1: 9970,\tpred1: 1986\n\nAcc: 0.541\nAUC: 0.5847245225207026\n"
     ]
    }
   ],
   "source": [
    "GT0   = df_pred['churn_GT'] == 0\n",
    "pred0 = df_pred['churn_pred'] == 0\n",
    "\n",
    "GT1   = df_pred['churn_GT'] == 1\n",
    "pred1 = df_pred['churn_pred'] == 1\n",
    "\n",
    "print( 'GT0: {},\\tpred0: {}'.format( GT0.sum(), pred0.sum() ) )\n",
    "print( 'GT1: {},\\tpred1: {}'.format( GT1.sum(), pred1.sum() ) )\n",
    "\n",
    "# acc: 正答率\n",
    "acc = accuracy_score( y_test, y_pred )\n",
    "print( '\\nAcc:', acc )\n",
    "\n",
    "# AUC\n",
    "auc = roc_auc_score( y_test,y_pred_prob[:,1]) # 引数 : roc_auc_score(正解クラス, クラス1の予測確率)\n",
    "print( 'AUC:', auc )"
   ]
  },
  {
   "cell_type": "code",
   "execution_count": 26,
   "metadata": {},
   "outputs": [
    {
     "output_type": "display_data",
     "data": {
      "text/plain": "<Figure size 504x504 with 1 Axes>",
      "image/svg+xml": "<?xml version=\"1.0\" encoding=\"utf-8\" standalone=\"no\"?>\n<!DOCTYPE svg PUBLIC \"-//W3C//DTD SVG 1.1//EN\"\n  \"http://www.w3.org/Graphics/SVG/1.1/DTD/svg11.dtd\">\n<!-- Created with matplotlib (https://matplotlib.org/) -->\n<svg height=\"394.92pt\" version=\"1.1\" viewBox=\"0 0 394.92 394.92\" width=\"394.92pt\" xmlns=\"http://www.w3.org/2000/svg\" xmlns:xlink=\"http://www.w3.org/1999/xlink\">\n <defs>\n  <style type=\"text/css\">\n*{stroke-linecap:butt;stroke-linejoin:round;}\n  </style>\n </defs>\n <g id=\"figure_1\">\n  <g id=\"patch_1\">\n   <path d=\"M 0 394.92 \nL 394.92 394.92 \nL 394.92 0 \nL 0 0 \nz\n\" style=\"fill:none;\"/>\n  </g>\n  <g id=\"axes_1\">\n   <g id=\"patch_2\">\n    <path d=\"M 197.46 45.252 \nC 179.467828 45.252 161.617351 48.442222 144.738964 54.67426 \nC 127.860577 60.906297 112.220126 70.08199 98.545198 81.77449 \nC 84.870269 93.466991 73.376252 107.492133 64.597843 123.197476 \nC 55.819434 138.902818 49.894899 156.04099 47.099844 173.814732 \nC 44.304789 191.588474 44.683238 209.717838 48.217587 227.359454 \nC 51.751935 245.00107 58.386514 261.877071 67.812686 277.202394 \nC 77.238859 292.527716 89.308155 306.060976 103.459119 317.172613 \nC 117.610083 328.284249 133.619826 336.799247 150.743583 342.321491 \nC 167.86734 347.843736 185.8354 350.286248 203.811898 349.535405 \nC 221.788396 348.784561 239.490189 344.852187 256.093799 337.921215 \nC 272.697409 330.990243 287.941318 321.169841 301.116386 308.916848 \nC 314.291454 296.663856 325.190164 282.171266 333.305516 266.113268 \nC 341.420867 250.055269 346.625036 232.684786 348.675928 214.809885 \nC 350.726819 196.934984 349.59213 178.837208 345.324646 161.358454 \nC 341.057162 143.879701 333.724099 127.295274 323.666586 112.376671 \nC 313.609074 97.458069 300.985526 84.440271 286.383182 73.928858 \nL 197.46 197.46 \nL 197.46 45.252 \nz\n\" style=\"fill:#1f77b4;\"/>\n   </g>\n   <g id=\"patch_3\">\n    <path d=\"M 286.383182 73.928858 \nC 273.511596 64.663321 259.270576 57.466229 244.176431 52.598513 \nC 229.082285 47.730797 213.319659 45.252003 197.460029 45.252 \nL 197.46 197.46 \nL 286.383182 73.928858 \nz\n\" style=\"fill:#ff7f0e;\"/>\n   </g>\n   <g id=\"matplotlib.axis_1\"/>\n   <g id=\"matplotlib.axis_2\"/>\n  </g>\n </g>\n</svg>\n",
      "image/png": "[encoded data removed]"
     },
     "metadata": {}
    }
   ],
   "source": [
    "plot_churn_ratio()"
   ]
  },
  {
   "cell_type": "code",
   "execution_count": null,
   "metadata": {},
   "outputs": [],
   "source": []
  }
 ]
}