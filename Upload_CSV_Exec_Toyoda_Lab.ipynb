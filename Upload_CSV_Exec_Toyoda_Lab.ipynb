{
  "nbformat": 4,
  "nbformat_minor": 0,
  "metadata": {
    "colab": {
      "name": "Upload_CSV_Exec_Toyoda_Lab.ipynb",
      "provenance": [],
      "collapsed_sections": [],
      "include_colab_link": true
    },
    "kernelspec": {
      "name": "python3",
      "display_name": "Python 3"
    },
    "language_info": {
      "name": "python"
    }
  },
  "cells": [
    {
      "cell_type": "markdown",
      "metadata": {
        "id": "view-in-github",
        "colab_type": "text"
      },
      "source": [
        "<a href=\"https://colab.research.google.com/github/Yuji-ONUKI/GCI2020_Winter/blob/main/Upload_CSV_Exec_Toyoda_Lab.ipynb\" target=\"_parent\"><img src=\"https://colab.research.google.com/assets/colab-badge.svg\" alt=\"Open In Colab\"/></a>"
      ]
    },
    {
      "cell_type": "markdown",
      "source": [
        "早稲田大学豊田研究室からRスクリプトをダウンロードし、文字コードをutf-8に変更します。\n"
      ],
      "metadata": {
        "id": "pyYEAzF8cA-1"
      }
    },
    {
      "cell_type": "code",
      "source": [
        "\n",
        "!rm 放送大学心理統計17/*.pdf\n",
        "!rm 放送大学心理統計17/Astan219/stan/*.*\n",
        "!rm 放送大学心理統計17/Astan219/myfunc/*.*\n",
        "!rm 放送大学心理統計17/Astan219/scrB/*.*\n",
        "!rm 放送大学心理統計17/Astan219/scrB/*.pdf\n",
        "!rm 放送大学心理統計17/Astan219/scrB/*.txt\n",
        "!rmdir 放送大学心理統計17/Astan219/scrB\n",
        "!rmdir 放送大学心理統計17/Astan219/myfunc\n",
        "!rmdir 放送大学心理統計17/Astan219/stan\n",
        "!rm 放送大学心理統計17/Astan219/*.*\n",
        "!rmdir 放送大学心理統計17/Astan219\n",
        "!rmdir 放送大学心理統計17\n",
        "!rm ShinriTokei17.zip"
      ],
      "metadata": {
        "colab": {
          "base_uri": "https://localhost:8080/"
        },
        "id": "LFKguBTDHPyO",
        "outputId": "1827d4ca-4f76-4adf-86cd-b6ed2fa75029"
      },
      "execution_count": 66,
      "outputs": [
        {
          "output_type": "stream",
          "name": "stdout",
          "text": [
            "rm: cannot remove '放送大学心理統計17/Astan219/scrB/*.pdf': No such file or directory\n",
            "rm: cannot remove '放送大学心理統計17/Astan219/scrB/*.txt': No such file or directory\n"
          ]
        }
      ]
    },
    {
      "cell_type": "markdown",
      "source": [
        "最初のセルを実行した後、必要な章のセルを実行してください。\n"
      ],
      "metadata": {
        "id": "nNQWMKSscO-T"
      }
    },
    {
      "cell_type": "code",
      "execution_count": 67,
      "metadata": {
        "id": "CXvbKidNW7yI",
        "colab": {
          "base_uri": "https://localhost:8080/"
        },
        "outputId": "cccd0d16-e803-424f-8f22-95da0863adc7"
      },
      "outputs": [
        {
          "output_type": "stream",
          "name": "stdout",
          "text": [
            "Archive:  toyoda.zip\n",
            "   creating: 放送大学心理統計17/Astan219/\n",
            "   creating: 放送大学心理統計17/Astan219/myfunc/\n",
            "  inflating: 放送大学心理統計17/Astan219/myfunc/alpha.co.R  \n",
            "  inflating: 放送大学心理統計17/Astan219/myfunc/Bi01.R  \n",
            "  inflating: 放送大学心理統計17/Astan219/myfunc/Bi02.R  \n",
            "  inflating: 放送大学心理統計17/Astan219/myfunc/Bi03.R  \n",
            "  inflating: 放送大学心理統計17/Astan219/myfunc/con_hist.R  \n",
            "  inflating: 放送大学心理統計17/Astan219/myfunc/cumcurve.R  \n",
            "  inflating: 放送大学心理統計17/Astan219/myfunc/disc.co.R  \n",
            "  inflating: 放送大学心理統計17/Astan219/myfunc/E1Ind.R  \n",
            "  inflating: 放送大学心理統計17/Astan219/myfunc/E2Ind.R  \n",
            "  inflating: 放送大学心理統計17/Astan219/myfunc/G1mean.R  \n",
            "  inflating: 放送大学心理統計17/Astan219/myfunc/G2Ind.R  \n",
            "  inflating: 放送大学心理統計17/Astan219/myfunc/G2pair.R  \n",
            "  inflating: 放送大学心理統計17/Astan219/myfunc/gqcal.R  \n",
            "  inflating: 放送大学心理統計17/Astan219/myfunc/Mu01.R  \n",
            "  inflating: 放送大学心理統計17/Astan219/myfunc/Mu02.R  \n",
            "  inflating: 放送大学心理統計17/Astan219/myfunc/myfunc.R  \n",
            "  inflating: 放送大学心理統計17/Astan219/myfunc/phc01.R  \n",
            "  inflating: 放送大学心理統計17/Astan219/myfunc/phc02.R  \n",
            "  inflating: 放送大学心理統計17/Astan219/myfunc/Reg.R  \n",
            "  inflating: 放送大学心理統計17/Astan219/myfunc/stop.watch.R  \n",
            "  inflating: 放送大学心理統計17/Astan219/myfunc/test.table.R  \n",
            "  inflating: 放送大学心理統計17/Astan219/myfunc/因子分析宿題データ作成.R  \n",
            "  inflating: 放送大学心理統計17/Astan219/readme.txt  \n",
            "  inflating: 放送大学心理統計17/Astan219/RstanStan.pdf  \n",
            "   creating: 放送大学心理統計17/Astan219/scrB/\n",
            "  inflating: 放送大学心理統計17/Astan219/scrB/chap03.R  \n",
            "  inflating: 放送大学心理統計17/Astan219/scrB/chap04.R  \n",
            "  inflating: 放送大学心理統計17/Astan219/scrB/chap05.R  \n",
            "  inflating: 放送大学心理統計17/Astan219/scrB/chap07.R  \n",
            "  inflating: 放送大学心理統計17/Astan219/scrB/chap09.R  \n",
            "  inflating: 放送大学心理統計17/Astan219/scrB/chap10.R  \n",
            "  inflating: 放送大学心理統計17/Astan219/scrB/chap11.R  \n",
            "  inflating: 放送大学心理統計17/Astan219/scrB/chap12.R  \n",
            "  inflating: 放送大学心理統計17/Astan219/scrB/chapter01.R  \n",
            "  inflating: 放送大学心理統計17/Astan219/scrB/chapter02.R  \n",
            "  inflating: 放送大学心理統計17/Astan219/scrB/chapter03.R  \n",
            "  inflating: 放送大学心理統計17/Astan219/scrB/chapter04.R  \n",
            "  inflating: 放送大学心理統計17/Astan219/scrB/chapter05.R  \n",
            "  inflating: 放送大学心理統計17/Astan219/scrB/chapter07.R  \n",
            "  inflating: 放送大学心理統計17/Astan219/scrB/chapter09.R  \n",
            "  inflating: 放送大学心理統計17/Astan219/scrB/chapter10.R  \n",
            "  inflating: 放送大学心理統計17/Astan219/scrB/chapter11.R  \n",
            "  inflating: 放送大学心理統計17/Astan219/scrB/chapter12.R  \n",
            "  inflating: 放送大学心理統計17/Astan219/scrB/chapter13.R  \n",
            "  inflating: 放送大学心理統計17/Astan219/scrB/chapter14.R  \n",
            " extracting: 放送大学心理統計17/Astan219/scrB/chapter15.R  \n",
            "  inflating: 放送大学心理統計17/Astan219/scrB/smoke.csv  \n",
            "  inflating: 放送大学心理統計17/Astan219/scrB/ファイル名の説明.txt  \n",
            "  inflating: 放送大学心理統計17/Astan219/scrB/大腸がん.csv  \n",
            "  inflating: 放送大学心理統計17/Astan219/seigo.pdf  \n",
            "   creating: 放送大学心理統計17/Astan219/stan/\n",
            "  inflating: 放送大学心理統計17/Astan219/stan/Bi01.stan  \n",
            "  inflating: 放送大学心理統計17/Astan219/stan/Bi02.stan  \n",
            "  inflating: 放送大学心理統計17/Astan219/stan/Bi03.stan  \n",
            "  inflating: 放送大学心理統計17/Astan219/stan/E1IndPF.stan  \n",
            "  inflating: 放送大学心理統計17/Astan219/stan/E1IndPT.stan  \n",
            "  inflating: 放送大学心理統計17/Astan219/stan/E2IndPF.stan  \n",
            "  inflating: 放送大学心理統計17/Astan219/stan/E2IndPT.stan  \n",
            "  inflating: 放送大学心理統計17/Astan219/stan/G1meanPF.stan  \n",
            "  inflating: 放送大学心理統計17/Astan219/stan/G1meanPT.stan  \n",
            "  inflating: 放送大学心理統計17/Astan219/stan/G2IndPF.stan  \n",
            "  inflating: 放送大学心理統計17/Astan219/stan/G2IndPT.stan  \n",
            "  inflating: 放送大学心理統計17/Astan219/stan/G2pairPF.stan  \n",
            "  inflating: 放送大学心理統計17/Astan219/stan/G2pairPT.stan  \n",
            "  inflating: 放送大学心理統計17/Astan219/stan/Mu01.stan  \n",
            "  inflating: 放送大学心理統計17/Astan219/stan/Mu02.stan  \n",
            "  inflating: 放送大学心理統計17/Astan219/stan/Reg.stan  \n",
            "  inflating: 放送大学心理統計17/Astan219/stan/Reg02.stan  \n",
            "  inflating: 放送大学心理統計17/Astan219/動作確認時に生じたトラブルの報告.txt  \n",
            "  inflating: 放送大学心理統計17/質問返答.pdf  \n",
            "  inflating: 放送大学心理統計17/修正対照.pdf  \n",
            "/content/放送大学心理統計17/Astan219/myfunc/Mu02.R\n",
            "/content/放送大学心理統計17/Astan219/myfunc/disc.co.R\n",
            "/content/放送大学心理統計17/Astan219/myfunc/因子分析宿題データ作成.R\n",
            "/content/放送大学心理統計17/Astan219/myfunc/gqcal.R\n",
            "/content/放送大学心理統計17/Astan219/myfunc/alpha.co.R\n",
            "/content/放送大学心理統計17/Astan219/myfunc/Bi01.R\n",
            "/content/放送大学心理統計17/Astan219/myfunc/cumcurve.R\n",
            "/content/放送大学心理統計17/Astan219/myfunc/G2pair.R\n",
            "/content/放送大学心理統計17/Astan219/myfunc/con_hist.R\n",
            "/content/放送大学心理統計17/Astan219/myfunc/Bi03.R\n",
            "/content/放送大学心理統計17/Astan219/myfunc/Bi02.R\n",
            "/content/放送大学心理統計17/Astan219/myfunc/phc02.R\n",
            "/content/放送大学心理統計17/Astan219/myfunc/myfunc.R\n",
            "/content/放送大学心理統計17/Astan219/myfunc/E1Ind.R\n",
            "/content/放送大学心理統計17/Astan219/myfunc/Reg.R\n",
            "/content/放送大学心理統計17/Astan219/myfunc/E2Ind.R\n",
            "/content/放送大学心理統計17/Astan219/myfunc/phc01.R\n",
            "/content/放送大学心理統計17/Astan219/myfunc/stop.watch.R\n",
            "/content/放送大学心理統計17/Astan219/myfunc/test.table.R\n",
            "/content/放送大学心理統計17/Astan219/myfunc/G1mean.R\n",
            "/content/放送大学心理統計17/Astan219/myfunc/G2Ind.R\n",
            "/content/放送大学心理統計17/Astan219/myfunc/Mu01.R\n",
            "/content/放送大学心理統計17/Astan219/myfunc/Mu02.R\n",
            "/content/放送大学心理統計17/Astan219/myfunc/disc.co.R\n",
            "/content/放送大学心理統計17/Astan219/myfunc/因子分析宿題データ作成.R\n",
            "/content/放送大学心理統計17/Astan219/myfunc/gqcal.R\n",
            "/content/放送大学心理統計17/Astan219/myfunc/alpha.co.R\n",
            "/content/放送大学心理統計17/Astan219/myfunc/Bi01.R\n",
            "/content/放送大学心理統計17/Astan219/myfunc/cumcurve.R\n",
            "/content/放送大学心理統計17/Astan219/myfunc/G2pair.R\n",
            "/content/放送大学心理統計17/Astan219/myfunc/con_hist.R\n",
            "/content/放送大学心理統計17/Astan219/myfunc/Bi03.R\n",
            "/content/放送大学心理統計17/Astan219/myfunc/Bi02.R\n",
            "/content/放送大学心理統計17/Astan219/myfunc/phc02.R\n",
            "/content/放送大学心理統計17/Astan219/myfunc/myfunc.R\n",
            "/content/放送大学心理統計17/Astan219/myfunc/E1Ind.R\n",
            "/content/放送大学心理統計17/Astan219/myfunc/Reg.R\n",
            "/content/放送大学心理統計17/Astan219/myfunc/E2Ind.R\n",
            "/content/放送大学心理統計17/Astan219/myfunc/phc01.R\n",
            "/content/放送大学心理統計17/Astan219/myfunc/stop.watch.R\n",
            "/content/放送大学心理統計17/Astan219/myfunc/test.table.R\n",
            "/content/放送大学心理統計17/Astan219/myfunc/G1mean.R\n",
            "/content/放送大学心理統計17/Astan219/myfunc/G2Ind.R\n",
            "/content/放送大学心理統計17/Astan219/myfunc/Mu01.R\n",
            "/content/放送大学心理統計17/Astan219/myfunc/Reg.R\n",
            "/content/放送大学心理統計17/Astan219/scrB/chap07.R\n",
            "/content/放送大学心理統計17/Astan219/scrB/chapter01.R\n",
            "/content/放送大学心理統計17/Astan219/scrB/chap03.R\n",
            "/content/放送大学心理統計17/Astan219/scrB/chap05.R\n",
            "/content/放送大学心理統計17/Astan219/scrB/chap09.R\n",
            "/content/放送大学心理統計17/Astan219/scrB/chapter07.R\n",
            "/content/放送大学心理統計17/Astan219/scrB/chapter14.R\n",
            "/content/放送大学心理統計17/Astan219/scrB/chapter02.R\n",
            "/content/放送大学心理統計17/Astan219/scrB/chapter09.R\n",
            "/content/放送大学心理統計17/Astan219/scrB/chapter11.R\n",
            "/content/放送大学心理統計17/Astan219/scrB/chap12.R\n",
            "/content/放送大学心理統計17/Astan219/scrB/chap11.R\n",
            "/content/放送大学心理統計17/Astan219/scrB/chap10.R\n",
            "/content/放送大学心理統計17/Astan219/scrB/chapter12.R\n",
            "/content/放送大学心理統計17/Astan219/scrB/chapter05.R\n",
            "/content/放送大学心理統計17/Astan219/scrB/chapter03.R\n",
            "/content/放送大学心理統計17/Astan219/scrB/chapter15.R\n",
            "/content/放送大学心理統計17/Astan219/scrB/chapter04.R\n",
            "/content/放送大学心理統計17/Astan219/scrB/chapter13.R\n",
            "/content/放送大学心理統計17/Astan219/scrB/chapter10.R\n",
            "/content/放送大学心理統計17/Astan219/scrB/chap04.R\n",
            "/content/放送大学心理統計17/Astan219/scrB/chap07.R\n",
            "/content/放送大学心理統計17/Astan219/scrB/chapter01.R\n",
            "/content/放送大学心理統計17/Astan219/scrB/chap03.R\n",
            "/content/放送大学心理統計17/Astan219/scrB/chap05.R\n",
            "/content/放送大学心理統計17/Astan219/scrB/chap09.R\n",
            "/content/放送大学心理統計17/Astan219/scrB/chapter07.R\n",
            "/content/放送大学心理統計17/Astan219/scrB/chapter14.R\n",
            "/content/放送大学心理統計17/Astan219/scrB/chapter02.R\n",
            "/content/放送大学心理統計17/Astan219/scrB/chapter09.R\n",
            "/content/放送大学心理統計17/Astan219/scrB/chapter11.R\n",
            "/content/放送大学心理統計17/Astan219/scrB/chap12.R\n",
            "/content/放送大学心理統計17/Astan219/scrB/chap11.R\n",
            "/content/放送大学心理統計17/Astan219/scrB/chap10.R\n",
            "/content/放送大学心理統計17/Astan219/scrB/chapter12.R\n",
            "/content/放送大学心理統計17/Astan219/scrB/chapter05.R\n",
            "/content/放送大学心理統計17/Astan219/scrB/chapter03.R\n",
            "/content/放送大学心理統計17/Astan219/scrB/chapter15.R\n",
            "/content/放送大学心理統計17/Astan219/scrB/chapter04.R\n",
            "/content/放送大学心理統計17/Astan219/scrB/chapter13.R\n",
            "/content/放送大学心理統計17/Astan219/scrB/chapter10.R\n",
            "/content/放送大学心理統計17/Astan219/scrB/chap04.R\n",
            "/content/放送大学心理統計17/Astan219/scrB/smoke.csv\n",
            "/content/放送大学心理統計17/Astan219/scrB/大腸がん.csv\n",
            "/content/放送大学心理統計17/Astan219/stan/E1IndPT.stan\n",
            "/content/放送大学心理統計17/Astan219/stan/Mu01.stan\n",
            "/content/放送大学心理統計17/Astan219/stan/E2IndPF.stan\n",
            "/content/放送大学心理統計17/Astan219/stan/Bi03.stan\n",
            "/content/放送大学心理統計17/Astan219/stan/G2pairPF.stan\n",
            "/content/放送大学心理統計17/Astan219/stan/Mu02.stan\n",
            "/content/放送大学心理統計17/Astan219/stan/Bi01.stan\n",
            "/content/放送大学心理統計17/Astan219/stan/G2IndPT.stan\n",
            "/content/放送大学心理統計17/Astan219/stan/G2IndPF.stan\n",
            "/content/放送大学心理統計17/Astan219/stan/Reg02.stan\n",
            "/content/放送大学心理統計17/Astan219/stan/Reg.stan\n",
            "/content/放送大学心理統計17/Astan219/stan/E2IndPT.stan\n",
            "/content/放送大学心理統計17/Astan219/stan/E1IndPF.stan\n",
            "/content/放送大学心理統計17/Astan219/stan/Bi02.stan\n",
            "/content/放送大学心理統計17/Astan219/stan/G1meanPT.stan\n",
            "/content/放送大学心理統計17/Astan219/stan/G1meanPF.stan\n",
            "/content/放送大学心理統計17/Astan219/stan/G2pairPT.stan\n",
            "/content/放送大学心理統計17/Astan219/stan/E1IndPT.stan\n",
            "/content/放送大学心理統計17/Astan219/stan/Mu01.stan\n",
            "/content/放送大学心理統計17/Astan219/stan/E2IndPF.stan\n",
            "/content/放送大学心理統計17/Astan219/stan/Bi03.stan\n",
            "/content/放送大学心理統計17/Astan219/stan/G2pairPF.stan\n",
            "/content/放送大学心理統計17/Astan219/stan/Mu02.stan\n",
            "/content/放送大学心理統計17/Astan219/stan/Bi01.stan\n",
            "/content/放送大学心理統計17/Astan219/stan/G2IndPT.stan\n",
            "/content/放送大学心理統計17/Astan219/stan/G2IndPF.stan\n",
            "/content/放送大学心理統計17/Astan219/stan/Reg02.stan\n",
            "/content/放送大学心理統計17/Astan219/stan/Reg.stan\n",
            "/content/放送大学心理統計17/Astan219/stan/E2IndPT.stan\n",
            "/content/放送大学心理統計17/Astan219/stan/E1IndPF.stan\n",
            "/content/放送大学心理統計17/Astan219/stan/Bi02.stan\n",
            "/content/放送大学心理統計17/Astan219/stan/G1meanPT.stan\n",
            "/content/放送大学心理統計17/Astan219/stan/G1meanPF.stan\n",
            "/content/放送大学心理統計17/Astan219/stan/G2pairPT.stan\n",
            "/content/放送大学心理統計17/Astan219/readme.txt\n",
            "/content/放送大学心理統計17/Astan219/scrB/ファイル名の説明.txt\n",
            "/content/放送大学心理統計17/Astan219/動作確認時に生じたトラブルの報告.txt\n",
            "  adding: content/放送大学心理統計17/ (stored 0%)\n",
            "  adding: content/放送大学心理統計17/修正対照.pdf (deflated 2%)\n",
            "  adding: content/放送大学心理統計17/Astan219/ (stored 0%)\n",
            "  adding: content/放送大学心理統計17/Astan219/readme.txt (deflated 49%)\n",
            "  adding: content/放送大学心理統計17/Astan219/RstanStan.pdf (deflated 1%)\n",
            "  adding: content/放送大学心理統計17/Astan219/myfunc/ (stored 0%)\n",
            "  adding: content/放送大学心理統計17/Astan219/myfunc/Mu02.R (deflated 51%)\n",
            "  adding: content/放送大学心理統計17/Astan219/myfunc/disc.co.R (deflated 38%)\n",
            "  adding: content/放送大学心理統計17/Astan219/myfunc/因子分析宿題データ作成.R (deflated 57%)\n",
            "  adding: content/放送大学心理統計17/Astan219/myfunc/gqcal.R (deflated 19%)\n",
            "  adding: content/放送大学心理統計17/Astan219/myfunc/alpha.co.R (deflated 12%)\n",
            "  adding: content/放送大学心理統計17/Astan219/myfunc/Bi01.R (deflated 55%)\n",
            "  adding: content/放送大学心理統計17/Astan219/myfunc/cumcurve.R (deflated 17%)\n",
            "  adding: content/放送大学心理統計17/Astan219/myfunc/G2pair.R (deflated 68%)\n",
            "  adding: content/放送大学心理統計17/Astan219/myfunc/con_hist.R (deflated 55%)\n",
            "  adding: content/放送大学心理統計17/Astan219/myfunc/Bi03.R (deflated 51%)\n",
            "  adding: content/放送大学心理統計17/Astan219/myfunc/Bi02.R (deflated 55%)\n",
            "  adding: content/放送大学心理統計17/Astan219/myfunc/phc02.R (deflated 28%)\n",
            "  adding: content/放送大学心理統計17/Astan219/myfunc/myfunc.R (deflated 65%)\n",
            "  adding: content/放送大学心理統計17/Astan219/myfunc/E1Ind.R (deflated 58%)\n",
            "  adding: content/放送大学心理統計17/Astan219/myfunc/Reg.R (deflated 57%)\n",
            "  adding: content/放送大学心理統計17/Astan219/myfunc/E2Ind.R (deflated 60%)\n",
            "  adding: content/放送大学心理統計17/Astan219/myfunc/phc01.R (deflated 46%)\n",
            "  adding: content/放送大学心理統計17/Astan219/myfunc/stop.watch.R (deflated 3%)\n",
            "  adding: content/放送大学心理統計17/Astan219/myfunc/test.table.R (deflated 61%)\n",
            "  adding: content/放送大学心理統計17/Astan219/myfunc/G1mean.R (deflated 70%)\n",
            "  adding: content/放送大学心理統計17/Astan219/myfunc/G2Ind.R (deflated 65%)\n",
            "  adding: content/放送大学心理統計17/Astan219/myfunc/Mu01.R (deflated 51%)\n",
            "  adding: content/放送大学心理統計17/Astan219/scrB/ (stored 0%)\n",
            "  adding: content/放送大学心理統計17/Astan219/scrB/chap07.R (deflated 62%)\n",
            "  adding: content/放送大学心理統計17/Astan219/scrB/smoke.csv (deflated 43%)\n",
            "  adding: content/放送大学心理統計17/Astan219/scrB/大腸がん.csv (deflated 61%)\n",
            "  adding: content/放送大学心理統計17/Astan219/scrB/chapter01.R (deflated 46%)\n",
            "  adding: content/放送大学心理統計17/Astan219/scrB/chap03.R (deflated 32%)\n",
            "  adding: content/放送大学心理統計17/Astan219/scrB/chap05.R (deflated 61%)\n",
            "  adding: content/放送大学心理統計17/Astan219/scrB/chap09.R (deflated 47%)\n",
            "  adding: content/放送大学心理統計17/Astan219/scrB/chapter07.R (deflated 50%)\n",
            "  adding: content/放送大学心理統計17/Astan219/scrB/ファイル名の説明.txt (deflated 46%)\n",
            "  adding: content/放送大学心理統計17/Astan219/scrB/chapter14.R (deflated 44%)\n",
            "  adding: content/放送大学心理統計17/Astan219/scrB/chapter02.R (deflated 43%)\n",
            "  adding: content/放送大学心理統計17/Astan219/scrB/chapter09.R (deflated 41%)\n",
            "  adding: content/放送大学心理統計17/Astan219/scrB/chapter11.R (deflated 53%)\n",
            "  adding: content/放送大学心理統計17/Astan219/scrB/chap12.R (deflated 50%)\n",
            "  adding: content/放送大学心理統計17/Astan219/scrB/chap11.R (deflated 51%)\n",
            "  adding: content/放送大学心理統計17/Astan219/scrB/chap10.R (deflated 60%)\n",
            "  adding: content/放送大学心理統計17/Astan219/scrB/chapter12.R (deflated 45%)\n",
            "  adding: content/放送大学心理統計17/Astan219/scrB/chapter05.R (deflated 43%)\n",
            "  adding: content/放送大学心理統計17/Astan219/scrB/chapter03.R (deflated 32%)\n",
            "  adding: content/放送大学心理統計17/Astan219/scrB/chapter15.R (stored 0%)\n",
            "  adding: content/放送大学心理統計17/Astan219/scrB/chapter04.R (deflated 39%)\n",
            "  adding: content/放送大学心理統計17/Astan219/scrB/chapter13.R (deflated 55%)\n",
            "  adding: content/放送大学心理統計17/Astan219/scrB/chapter10.R (deflated 52%)\n",
            "  adding: content/放送大学心理統計17/Astan219/scrB/chap04.R (deflated 40%)\n",
            "  adding: content/放送大学心理統計17/Astan219/動作確認時に生じたトラブルの報告.txt (deflated 49%)\n",
            "  adding: content/放送大学心理統計17/Astan219/stan/ (stored 0%)\n",
            "  adding: content/放送大学心理統計17/Astan219/stan/E1IndPT.stan (deflated 58%)\n",
            "  adding: content/放送大学心理統計17/Astan219/stan/Mu01.stan (deflated 42%)\n",
            "  adding: content/放送大学心理統計17/Astan219/stan/E2IndPF.stan (deflated 73%)\n",
            "  adding: content/放送大学心理統計17/Astan219/stan/Bi03.stan (deflated 50%)\n",
            "  adding: content/放送大学心理統計17/Astan219/stan/G2pairPF.stan (deflated 52%)\n",
            "  adding: content/放送大学心理統計17/Astan219/stan/Mu02.stan (deflated 62%)\n",
            "  adding: content/放送大学心理統計17/Astan219/stan/Bi01.stan (deflated 44%)\n",
            "  adding: content/放送大学心理統計17/Astan219/stan/G2IndPT.stan (deflated 54%)\n",
            "  adding: content/放送大学心理統計17/Astan219/stan/G2IndPF.stan (deflated 55%)\n",
            "  adding: content/放送大学心理統計17/Astan219/stan/Reg02.stan (deflated 52%)\n",
            "  adding: content/放送大学心理統計17/Astan219/stan/Reg.stan (deflated 56%)\n",
            "  adding: content/放送大学心理統計17/Astan219/stan/E2IndPT.stan (deflated 73%)\n",
            "  adding: content/放送大学心理統計17/Astan219/stan/E1IndPF.stan (deflated 59%)\n",
            "  adding: content/放送大学心理統計17/Astan219/stan/Bi02.stan (deflated 48%)\n",
            "  adding: content/放送大学心理統計17/Astan219/stan/G1meanPT.stan (deflated 47%)\n",
            "  adding: content/放送大学心理統計17/Astan219/stan/G1meanPF.stan (deflated 48%)\n",
            "  adding: content/放送大学心理統計17/Astan219/stan/G2pairPT.stan (deflated 52%)\n",
            "  adding: content/放送大学心理統計17/Astan219/seigo.pdf (deflated 3%)\n",
            "  adding: content/放送大学心理統計17/質問返答.pdf (deflated 1%)\n"
          ]
        }
      ],
      "source": [
        "import requests\n",
        "url='http://www.waseda.jp/sem-toyoda-lab/data/%E6%94%BE%E9%80%81%E5%A4%A7%E5%AD%A6%E5%BF%83%E7%90%86%E7%B5%B1%E8%A8%8817.zip'\n",
        "response = requests.get(url)\n",
        "open(\"toyoda.zip\", \"wb\").write(response.content)\n",
        "!unzip -Ocp932 toyoda.zip\n",
        "!rm toyoda.zip\n",
        "!find /content/放送大学心理統計17/Astan219/myfunc -name \"*.R\" -exec bash -c 'echo {} && iconv -t utf8 -f sjis {} > {}.new && mv {}.new {}' \\;\n",
        "!find /content/放送大学心理統計17/Astan219/myfunc -name \"*.R\" -exec bash -c 'echo {} && sed \"s/\\.R/\\.R'\\'',encoding='\\''utf-8/\" {} > {}.new && mv {}.new {}' \\;\n",
        "!find /content/放送大学心理統計17/Astan219/myfunc -name \"Reg.R\" -exec bash -c 'echo {} && sed \"s/R.,encoding=.utf-8eg/Reg/\" {} > {}.new && mv {}.new {}' \\;\n",
        "\n",
        "!find /content/放送大学心理統計17/Astan219/scrB -name \"*.R\" -exec bash -c 'echo {} && iconv -t utf8 -f sjis {} > {}.new && mv {}.new {}' \\;\n",
        "!find /content/放送大学心理統計17/Astan219/scrB -name \"*.R\" -exec bash -c 'echo {} && sed \"s/\\.R/\\.R'\\'',encoding='\\''utf-8/\" {} > {}.new && mv {}.new {}' \\;\n",
        "\n",
        "!find /content/放送大学心理統計17/Astan219/scrB -name \"*.csv\" -exec bash -c 'echo {} && iconv -t utf8 -f sjis {} > {}.new && mv {}.new {}' \\;\n",
        "!find /content/放送大学心理統計17/Astan219/stan -name \"*.stan\" -exec bash -c 'echo {} && iconv -t utf8 -f sjis {}  > {}.new && mv {}.new {}' \\;\n",
        "!find /content/放送大学心理統計17/Astan219/stan -name \"*.stan\" -exec bash -c 'echo {} && sed \"s/‾/~/g\" {} > {}.new && mv {}.new {}' \\;\n",
        "!find /content/放送大学心理統計17/Astan219 -name \"*.txt\" -exec bash -c 'echo {} && iconv -t utf8 -f sjis {} > {}.new && mv {}.new {}' \\;\n",
        "!zip -r ShinriTokei17.zip /content/放送大学心理統計17\n",
        "from google.colab import files\n",
        "#files.download('ShinriTokei17.zip')\n",
        "#!rm ShinriTokei17.zip"
      ]
    },
    {
      "cell_type": "markdown",
      "source": [
        "ここから、Rスクリプトを実行してみます。\n"
      ],
      "metadata": {
        "id": "HPgT-fLSjGH8"
      }
    },
    {
      "cell_type": "markdown",
      "source": [
        "# CSVファイルを読み込む方法 第3章スクリプトのケース\n",
        "ファイルメニューからcsvファイルをドライブのscrBディレクトリにアップロードしておきます。そのファイル名はtest.csvだったとします。"
      ],
      "metadata": {
        "id": "cv10NYDGyyqk"
      }
    },
    {
      "cell_type": "code",
      "source": [
        "!apt-get install -y fonts-noto-cjk"
      ],
      "metadata": {
        "id": "9QPokuyc0PhR"
      },
      "execution_count": null,
      "outputs": []
    },
    {
      "cell_type": "code",
      "source": [
        "import rpy2\n",
        "%load_ext rpy2.ipython"
      ],
      "metadata": {
        "id": "BcvCQ0nUzWj9"
      },
      "execution_count": null,
      "outputs": []
    },
    {
      "cell_type": "code",
      "source": [
        "%%R\n",
        "library(ggplot2)\n",
        "par(family = \"NotoSansCJKkr-Bold\")\n",
        "theme(base_family = \"NotoSansCJKkr-Bold\")\n",
        "\n",
        "setwd('/content/放送大学心理統計17/Astan219')\n",
        "install.packages('rstan')\n",
        "#第3章用スクリプト\n",
        "getwd()                        #working directoryの確認\n",
        "source('myfunc/myfunc.R')      #自作関数の読み込み\n",
        "library(rstan)                 #パッケージrstanの呼び出し\n",
        "rstan_options(auto_write=T)\n",
        "options(mc.cores=parallel::detectCores())\n",
        "\n",
        "#表1.1の「知覚時間」のデータ入力\n",
        "#x<-c(31.43,31.09,33.38,30.49,29.62,\n",
        "#     35.40,32.58,28.96,29.43,28.52,\n",
        "#     25.39,32.68,30.51,30.15,32.33,\n",
        "#     30.43,32.50,32.07,32.35,31.57)\n",
        "# データを入力している上の4行をコメントアウトして下の2行に差し替えました。\n",
        "library(tidyverse)\n",
        "x <- read_csv('scrB/test.csv')\n",
        "\n",
        "out <-G1mean(x,prior=F, fi=NA)#正規分布に関する推測\n",
        "#図3.1 トレースプロット\n",
        "traceplot(out$fit, inc_warmup = F, pars=c(\"mu\",\"sigma\"))\n",
        "out2<-print(out,2)            #表3.1, 表3.2\n",
        "\n",
        "hist(out$mu,breaks=100)       #図3.3 平均の事後分布\n",
        "hist(out$sigma,breaks=100)    #図3.4 sdの事後分布\n",
        "hist(out$xaste,breaks=100)    #図3.5 事後予測分布\n",
        "\n"
      ],
      "metadata": {
        "id": "pLuosBPbyxBy"
      },
      "execution_count": null,
      "outputs": []
    },
    {
      "cell_type": "markdown",
      "source": [
        "# CSVファイルを読み込む方法　第４章スクリプトのケース"
      ],
      "metadata": {
        "id": "rP7iyXoe0Vje"
      }
    },
    {
      "cell_type": "code",
      "source": [
        "!apt-get install -y fonts-noto-cjk"
      ],
      "metadata": {
        "id": "AIe4-Kuw0ks1"
      },
      "execution_count": null,
      "outputs": []
    },
    {
      "cell_type": "code",
      "source": [
        "import rpy2\n",
        "%load_ext rpy2.ipython"
      ],
      "metadata": {
        "id": "rG3EdvHa0osB"
      },
      "execution_count": null,
      "outputs": []
    },
    {
      "cell_type": "code",
      "source": [
        "%%R\n",
        "library(ggplot2)\n",
        "par(family = \"NotoSansCJKkr-Bold\")\n",
        "theme(base_family = \"NotoSansCJKkr-Bold\")\n",
        "\n",
        "setwd('/content/放送大学心理統計17/Astan219')\n",
        "install.packages('rstan')\n",
        "#第4章用スクリプト\n",
        "getwd()                        #working directoryの確認\n",
        "source('myfunc/myfunc.R')      #自作関数の読み込み\n",
        "library(rstan)                 #パッケージrstanの呼び出し\n",
        "rstan_options(auto_write=T)\n",
        "options(mc.cores=parallel::detectCores())\n",
        "\n",
        "#表1.1の「知覚時間」のデータ入力\n",
        "x<-c(31.43,31.09,33.38,30.49,29.62,\n",
        "     35.40,32.58,28.96,29.43,28.52,\n",
        "     25.39,32.68,30.51,30.15,32.33,\n",
        "     30.43,32.50,32.07,32.35,31.57)\n",
        "# データを入力している上の4行をコメントアウトして下の2行に差し替えました。\n",
        "library(tidyverse)\n",
        "x <- read_csv('scrB/test.csv')\n",
        "\n",
        "out <-G1mean(x,prior=F, fi=NA) #平均値等に関する推測\n",
        "out2<-print(out,degits=2,cr1=30,cr2a=30.5,cr2b=29.5,\n",
        "             cr3=30,cr4=30,cr5=0.5,pr1=0.25,pr2=0.2)\n",
        "\n",
        "#各種事後分布\n",
        "hist(out2$G[,1],breaks=100)       #図4.1\n",
        "hist(out2$G[,2],breaks=100)       #図4.2\n",
        "hist(out2$G[,3],breaks=100)       #図4.3\n",
        "hist(out2$G[,4],breaks=100)       #図4.4\n",
        "hist(out2$G[,5],breaks=100)       #図4.5\n",
        "hist(out2$G[,6],breaks=100)       #図4.6\n"
      ],
      "metadata": {
        "id": "x2Snmpox0sfn"
      },
      "execution_count": null,
      "outputs": []
    },
    {
      "cell_type": "markdown",
      "source": [
        "# 第1章"
      ],
      "metadata": {
        "id": "HnsUHf5cnJva"
      }
    },
    {
      "cell_type": "code",
      "source": [
        "!apt-get install -y fonts-noto-cjk"
      ],
      "metadata": {
        "id": "pWeaF16HBRCY"
      },
      "execution_count": null,
      "outputs": []
    },
    {
      "cell_type": "code",
      "source": [
        "import rpy2\n",
        "%load_ext rpy2.ipython\n"
      ],
      "metadata": {
        "id": "e_J_hkvIe3c9"
      },
      "execution_count": null,
      "outputs": []
    },
    {
      "cell_type": "code",
      "source": [
        "%%R\n",
        "f <- systemfonts::system_fonts()\n",
        "f$name"
      ],
      "metadata": {
        "id": "nI5ZtznvB4jf"
      },
      "execution_count": null,
      "outputs": []
    },
    {
      "cell_type": "code",
      "source": [
        "%%R\n",
        "library(ggplot2)\n",
        "par(family = \"NotoSansCJKkr-Bold\")\n",
        "theme(base_family = \"NotoSansCJKkr-Bold\")\n",
        "setwd('/content/放送大学心理統計17/Astan219')\n",
        "source(file='scrB/chapter01.R')"
      ],
      "metadata": {
        "id": "dHcNPSA7mpGs",
        "colab": {
          "base_uri": "https://localhost:8080/"
        },
        "outputId": "7aaa0147-d1e8-490d-af7e-3f7f0ffcc06e"
      },
      "execution_count": null,
      "outputs": [
        {
          "output_type": "stream",
          "name": "stdout",
          "text": [
            "[1] 31.044\n",
            "[1] 4.275\n",
            "[1] 2.068\n"
          ]
        }
      ]
    },
    {
      "cell_type": "markdown",
      "source": [
        "# 第２章"
      ],
      "metadata": {
        "id": "T3EOkjfOnPby"
      }
    },
    {
      "cell_type": "code",
      "source": [
        "!apt-get install -y fonts-noto-cjk"
      ],
      "metadata": {
        "id": "SHwhu94IDGx6",
        "colab": {
          "base_uri": "https://localhost:8080/"
        },
        "outputId": "cbfeff80-d029-4129-bcb5-47162306b8e4"
      },
      "execution_count": null,
      "outputs": [
        {
          "output_type": "stream",
          "name": "stdout",
          "text": [
            "Reading package lists... Done\n",
            "Building dependency tree       \n",
            "Reading state information... Done\n",
            "fonts-noto-cjk is already the newest version (1:20190409+repack1-0ubuntu0.18.04).\n",
            "The following package was automatically installed and is no longer required:\n",
            "  libnvidia-common-460\n",
            "Use 'apt autoremove' to remove it.\n",
            "0 upgraded, 0 newly installed, 0 to remove and 49 not upgraded.\n"
          ]
        }
      ]
    },
    {
      "cell_type": "code",
      "source": [
        "import rpy2\n",
        "%load_ext rpy2.ipython\n"
      ],
      "metadata": {
        "id": "I0f2JDFVezyG",
        "colab": {
          "base_uri": "https://localhost:8080/"
        },
        "outputId": "bc0c269a-4ed9-42d8-df42-79a69bc37537"
      },
      "execution_count": null,
      "outputs": [
        {
          "output_type": "stream",
          "name": "stdout",
          "text": [
            "The rpy2.ipython extension is already loaded. To reload it, use:\n",
            "  %reload_ext rpy2.ipython\n"
          ]
        }
      ]
    },
    {
      "cell_type": "code",
      "source": [
        "%%R\n",
        "library(ggplot2)\n",
        "par(family = \"NotoSansCJKkr-Bold\")\n",
        "theme(base_family = \"NotoSansCJKkr-Bold\")\n",
        "setwd('/content/放送大学心理統計17/Astan219')\n",
        "source(file='scrB/chapter02.R')"
      ],
      "metadata": {
        "id": "QpOpQ-TknUX4",
        "colab": {
          "base_uri": "https://localhost:8080/",
          "height": 497
        },
        "outputId": "383e06a9-d153-4c24-fd08-7a6a163e90f3"
      },
      "execution_count": null,
      "outputs": [
        {
          "output_type": "display_data",
          "data": {
            "image/png": "[encoded data removed]"
          },
          "metadata": {}
        }
      ]
    },
    {
      "cell_type": "markdown",
      "source": [
        "# 第３章"
      ],
      "metadata": {
        "id": "_TCIkTMQneGS"
      }
    },
    {
      "cell_type": "code",
      "source": [
        "!apt-get install -y fonts-noto-cjk"
      ],
      "metadata": {
        "id": "RBHLOKfYDI31",
        "colab": {
          "base_uri": "https://localhost:8080/"
        },
        "outputId": "9e129d40-48d0-444d-c6f6-83eb222416ac"
      },
      "execution_count": null,
      "outputs": [
        {
          "output_type": "stream",
          "name": "stdout",
          "text": [
            "Reading package lists... Done\n",
            "Building dependency tree       \n",
            "Reading state information... Done\n",
            "The following package was automatically installed and is no longer required:\n",
            "  libnvidia-common-460\n",
            "Use 'apt autoremove' to remove it.\n",
            "Suggested packages:\n",
            "  fonts-noto-cjk-extra\n",
            "The following NEW packages will be installed:\n",
            "  fonts-noto-cjk\n",
            "0 upgraded, 1 newly installed, 0 to remove and 49 not upgraded.\n",
            "Need to get 55.7 MB of archives.\n",
            "After this operation, 92.0 MB of additional disk space will be used.\n",
            "Get:1 http://archive.ubuntu.com/ubuntu bionic-updates/main amd64 fonts-noto-cjk all 1:20190409+repack1-0ubuntu0.18.04 [55.7 MB]\n",
            "Fetched 55.7 MB in 3s (17.0 MB/s)\n",
            "Selecting previously unselected package fonts-noto-cjk.\n",
            "(Reading database ... 155639 files and directories currently installed.)\n",
            "Preparing to unpack .../fonts-noto-cjk_1%3a20190409+repack1-0ubuntu0.18.04_all.deb ...\n",
            "Unpacking fonts-noto-cjk (1:20190409+repack1-0ubuntu0.18.04) ...\n",
            "Setting up fonts-noto-cjk (1:20190409+repack1-0ubuntu0.18.04) ...\n",
            "Processing triggers for fontconfig (2.12.6-0ubuntu2) ...\n"
          ]
        }
      ]
    },
    {
      "cell_type": "code",
      "source": [
        "import rpy2\n",
        "%load_ext rpy2.ipython\n"
      ],
      "metadata": {
        "id": "b4-TFo15ewoM",
        "colab": {
          "base_uri": "https://localhost:8080/"
        },
        "outputId": "8be43d35-906b-45a4-901c-28629e379dca"
      },
      "execution_count": null,
      "outputs": [
        {
          "output_type": "stream",
          "name": "stdout",
          "text": [
            "The rpy2.ipython extension is already loaded. To reload it, use:\n",
            "  %reload_ext rpy2.ipython\n"
          ]
        }
      ]
    },
    {
      "cell_type": "code",
      "source": [
        "%%R\n",
        "library(ggplot2)\n",
        "par(family = \"NotoSansCJKkr-Bold\")\n",
        "theme(base_family = \"NotoSansCJKkr-Bold\")\n",
        "\n",
        "setwd('/content/放送大学心理統計17/Astan219')\n",
        "install.packages('rstan')\n",
        "source(file='scrB/chapter03.R')"
      ],
      "metadata": {
        "id": "NjWDFDfInkJT"
      },
      "execution_count": null,
      "outputs": []
    },
    {
      "cell_type": "markdown",
      "source": [
        "# 第４章"
      ],
      "metadata": {
        "id": "AYjpW-QQoF5p"
      }
    },
    {
      "cell_type": "code",
      "source": [
        "!apt-get install -y fonts-noto-cjk"
      ],
      "metadata": {
        "id": "7TxscAPADLAL"
      },
      "execution_count": null,
      "outputs": []
    },
    {
      "cell_type": "markdown",
      "source": [
        ""
      ],
      "metadata": {
        "id": "y2QmXkuO0Lv3"
      }
    },
    {
      "cell_type": "code",
      "source": [
        "import rpy2\n",
        "%load_ext rpy2.ipython\n"
      ],
      "metadata": {
        "id": "kRqymirzer71"
      },
      "execution_count": null,
      "outputs": []
    },
    {
      "cell_type": "code",
      "source": [
        "%%R\n",
        "library(ggplot2)\n",
        "par(family = \"NotoSansCJKkr-Bold\")\n",
        "theme(base_family = \"NotoSansCJKkr-Bold\")\n",
        "\n",
        "setwd('/content/放送大学心理統計17/Astan219')\n",
        "install.packages('rstan')\n",
        "source(file='scrB/chapter04.R')"
      ],
      "metadata": {
        "id": "AjgOoT6woGzH"
      },
      "execution_count": null,
      "outputs": []
    },
    {
      "cell_type": "markdown",
      "source": [
        "# 第５章"
      ],
      "metadata": {
        "id": "wobLZQ_zoVh5"
      }
    },
    {
      "cell_type": "code",
      "source": [
        "!apt-get install -y fonts-noto-cjk"
      ],
      "metadata": {
        "id": "mbDaye3-DNA0"
      },
      "execution_count": null,
      "outputs": []
    },
    {
      "cell_type": "code",
      "source": [
        "import rpy2\n",
        "%load_ext rpy2.ipython\n"
      ],
      "metadata": {
        "id": "o8-bqVX0eoai"
      },
      "execution_count": null,
      "outputs": []
    },
    {
      "cell_type": "code",
      "source": [
        "%%R\n",
        "library(ggplot2)\n",
        "par(family = \"NotoSansCJKkr-Bold\")\n",
        "theme(base_family = \"NotoSansCJKkr-Bold\")\n",
        "\n",
        "setwd('/content/放送大学心理統計17/Astan219')\n",
        "install.packages('rstan')\n",
        "source(file='scrB/chapter05.R')"
      ],
      "metadata": {
        "id": "Tx09skhlocd1"
      },
      "execution_count": null,
      "outputs": []
    },
    {
      "cell_type": "markdown",
      "source": [
        "# 第７章\n"
      ],
      "metadata": {
        "id": "ha3aLO-iolP4"
      }
    },
    {
      "cell_type": "code",
      "source": [
        "!apt-get install -y fonts-noto-cjk"
      ],
      "metadata": {
        "id": "RDjjD7g9DPJp"
      },
      "execution_count": null,
      "outputs": []
    },
    {
      "cell_type": "code",
      "source": [
        "import rpy2\n",
        "%load_ext rpy2.ipython\n"
      ],
      "metadata": {
        "id": "tK1jrK30elVv"
      },
      "execution_count": null,
      "outputs": []
    },
    {
      "cell_type": "code",
      "source": [
        "%%R\n",
        "library(ggplot2)\n",
        "par(family = \"NotoSansCJKkr-Bold\")\n",
        "theme(base_family = \"NotoSansCJKkr-Bold\")\n",
        "\n",
        "setwd('/content/放送大学心理統計17/Astan219')\n",
        "install.packages('rstan')\n",
        "source(file='scrB/chapter07.R')"
      ],
      "metadata": {
        "id": "HbOEhYBoosc0"
      },
      "execution_count": null,
      "outputs": []
    },
    {
      "cell_type": "markdown",
      "source": [
        "# 第９章\n"
      ],
      "metadata": {
        "id": "HKL3wGSHpGw9"
      }
    },
    {
      "cell_type": "code",
      "source": [
        "!apt-get install -y fonts-noto-cjk"
      ],
      "metadata": {
        "id": "lxpTieFmDRv9"
      },
      "execution_count": null,
      "outputs": []
    },
    {
      "cell_type": "code",
      "source": [
        "import rpy2\n",
        "%load_ext rpy2.ipython\n"
      ],
      "metadata": {
        "id": "XVSehKYPeiMx"
      },
      "execution_count": null,
      "outputs": []
    },
    {
      "cell_type": "code",
      "source": [
        "%%R\n",
        "library(ggplot2)\n",
        "par(family = \"NotoSansCJKkr-Bold\")\n",
        "theme(base_family = \"NotoSansCJKkr-Bold\")\n",
        "\n",
        "setwd('/content/放送大学心理統計17/Astan219')\n",
        "install.packages('rstan')\n",
        "source(file='scrB/chapter09.R')"
      ],
      "metadata": {
        "id": "vP9ITryKpMP7"
      },
      "execution_count": null,
      "outputs": []
    },
    {
      "cell_type": "markdown",
      "source": [
        "# 第10章\n"
      ],
      "metadata": {
        "id": "Yw5sbtjcpcwc"
      }
    },
    {
      "cell_type": "code",
      "source": [
        "!apt-get install -y fonts-noto-cjk"
      ],
      "metadata": {
        "id": "J3w2kEr9DTpv"
      },
      "execution_count": null,
      "outputs": []
    },
    {
      "cell_type": "code",
      "source": [
        "import rpy2\n",
        "%load_ext rpy2.ipython\n"
      ],
      "metadata": {
        "id": "z0ZhzmimeetS"
      },
      "execution_count": null,
      "outputs": []
    },
    {
      "cell_type": "code",
      "source": [
        "%%R\n",
        "library(ggplot2)\n",
        "par(family = \"NotoSansCJKkr-Bold\")\n",
        "theme(base_family = \"NotoSansCJKkr-Bold\")\n",
        "\n",
        "setwd('/content/放送大学心理統計17/Astan219')\n",
        "install.packages('rstan')\n",
        "source(file='scrB/chapter10.R')"
      ],
      "metadata": {
        "id": "fBZZ29cNpg5d"
      },
      "execution_count": null,
      "outputs": []
    },
    {
      "cell_type": "markdown",
      "source": [
        "# 第11章\n"
      ],
      "metadata": {
        "id": "zTYBWo1Ypoxz"
      }
    },
    {
      "cell_type": "code",
      "source": [
        "!apt-get install -y fonts-noto-cjk"
      ],
      "metadata": {
        "id": "CVRP2Z-0DVgB"
      },
      "execution_count": null,
      "outputs": []
    },
    {
      "cell_type": "code",
      "source": [
        "import rpy2\n",
        "%load_ext rpy2.ipython\n"
      ],
      "metadata": {
        "id": "_QUlbV4FebPz"
      },
      "execution_count": null,
      "outputs": []
    },
    {
      "cell_type": "code",
      "source": [
        "%%R\n",
        "library(ggplot2)\n",
        "par(family = \"NotoSansCJKkr-Bold\")\n",
        "theme(base_family = \"NotoSansCJKkr-Bold\")\n",
        "\n",
        "setwd('/content/放送大学心理統計17/Astan219')\n",
        "install.packages('rstan')\n",
        "source(file='scrB/chapter11.R')"
      ],
      "metadata": {
        "id": "4U4WZd-ppvfB"
      },
      "execution_count": null,
      "outputs": []
    },
    {
      "cell_type": "markdown",
      "source": [
        "# 第12章\n"
      ],
      "metadata": {
        "id": "drxrXrxfp15o"
      }
    },
    {
      "cell_type": "code",
      "source": [
        "!apt-get install -y fonts-noto-cjk"
      ],
      "metadata": {
        "id": "2YwqXFm_DXCO"
      },
      "execution_count": null,
      "outputs": []
    },
    {
      "cell_type": "code",
      "source": [
        "import rpy2\n",
        "%load_ext rpy2.ipython\n"
      ],
      "metadata": {
        "id": "u0JNsEnneXRw"
      },
      "execution_count": null,
      "outputs": []
    },
    {
      "cell_type": "code",
      "source": [
        "%%R\n",
        "library(ggplot2)\n",
        "par(family = \"NotoSansCJKkr-Bold\")\n",
        "theme(base_family = \"NotoSansCJKkr-Bold\")\n",
        "\n",
        "setwd('/content/放送大学心理統計17/Astan219')\n",
        "install.packages('rstan')\n",
        "source(file='scrB/chapter12.R')"
      ],
      "metadata": {
        "id": "XqWNSxbnp63m"
      },
      "execution_count": null,
      "outputs": []
    },
    {
      "cell_type": "markdown",
      "source": [
        "# 第13章\n"
      ],
      "metadata": {
        "id": "x1DYw6LgqAHK"
      }
    },
    {
      "cell_type": "code",
      "source": [
        "!apt-get install -y fonts-noto-cjk"
      ],
      "metadata": {
        "id": "6wXyVJ8JDZBr"
      },
      "execution_count": null,
      "outputs": []
    },
    {
      "cell_type": "code",
      "source": [
        "import rpy2\n",
        "%load_ext rpy2.ipython\n"
      ],
      "metadata": {
        "id": "JeV9cg5ReRqo"
      },
      "execution_count": null,
      "outputs": []
    },
    {
      "cell_type": "code",
      "source": [
        "%%R\n",
        "library(ggplot2)\n",
        "par(family = \"NotoSansCJKkr-Bold\")\n",
        "theme(base_family = \"NotoSansCJKkr-Bold\")\n",
        "\n",
        "setwd('/content/放送大学心理統計17/Astan219')\n",
        "install.packages('rstan')\n",
        "source(file='scrB/chapter13.R')"
      ],
      "metadata": {
        "id": "MPPn0RGQqFLC"
      },
      "execution_count": null,
      "outputs": []
    },
    {
      "cell_type": "markdown",
      "source": [
        "# 第14章\n"
      ],
      "metadata": {
        "id": "8aU1q6swqLVt"
      }
    },
    {
      "cell_type": "code",
      "source": [
        "!apt-get install -y fonts-noto-cjk"
      ],
      "metadata": {
        "id": "5F9sMD1HDb1D"
      },
      "execution_count": null,
      "outputs": []
    },
    {
      "cell_type": "code",
      "source": [
        "import rpy2\n",
        "%load_ext rpy2.ipython\n"
      ],
      "metadata": {
        "id": "6jtJt4D7eMEf"
      },
      "execution_count": null,
      "outputs": []
    },
    {
      "cell_type": "code",
      "source": [
        "%%R\n",
        "library(ggplot2)\n",
        "par(family = \"NotoSansCJKkr-Bold\")\n",
        "theme(base_family = \"NotoSansCJKkr-Bold\")\n",
        "\n",
        "setwd('/content/放送大学心理統計17/Astan219')\n",
        "install.packages('rstan')\n",
        "source(file='scrB/chapter14.R')"
      ],
      "metadata": {
        "colab": {
          "base_uri": "https://localhost:8080/",
          "height": 1000
        },
        "id": "fp71iU8PqP3p",
        "outputId": "842aab64-ed4e-4346-f964-ac4bc747f699"
      },
      "execution_count": null,
      "outputs": [
        {
          "output_type": "stream",
          "name": "stderr",
          "text": [
            "R[write to console]: Installing package into ‘/usr/local/lib/R/site-library’\n",
            "(as ‘lib’ is unspecified)\n",
            "\n",
            "R[write to console]: also installing the dependencies ‘checkmate’, ‘matrixStats’, ‘StanHeaders’, ‘inline’, ‘gridExtra’, ‘Rcpp’, ‘RcppParallel’, ‘loo’, ‘RcppEigen’, ‘BH’\n",
            "\n",
            "\n",
            "R[write to console]: trying URL 'https://cran.rstudio.com/src/contrib/checkmate_2.1.0.tar.gz'\n",
            "\n",
            "R[write to console]: Content type 'application/x-gzip'\n",
            "R[write to console]:  length 170034 bytes (166 KB)\n",
            "\n",
            "R[write to console]: =\n",
            "R[write to console]: =\n",
            "R[write to console]: =\n",
            "R[write to console]: =\n",
            "R[write to console]: =\n",
            "R[write to console]: =\n",
            "R[write to console]: =\n",
            "R[write to console]: =\n",
            "R[write to console]: =\n",
            "R[write to console]: =\n",
            "R[write to console]: =\n",
            "R[write to console]: =\n",
            "R[write to console]: =\n",
            "R[write to console]: =\n",
            "R[write to console]: =\n",
            "R[write to console]: =\n",
            "R[write to console]: =\n",
            "R[write to console]: =\n",
            "R[write to console]: =\n",
            "R[write to console]: =\n",
            "R[write to console]: =\n",
            "R[write to console]: =\n",
            "R[write to console]: =\n",
            "R[write to console]: =\n",
            "R[write to console]: =\n",
            "R[write to console]: =\n",
            "R[write to console]: =\n",
            "R[write to console]: =\n",
            "R[write to console]: =\n",
            "R[write to console]: =\n",
            "R[write to console]: =\n",
            "R[write to console]: =\n",
            "R[write to console]: =\n",
            "R[write to console]: =\n",
            "R[write to console]: =\n",
            "R[write to console]: =\n",
            "R[write to console]: =\n",
            "R[write to console]: =\n",
            "R[write to console]: =\n",
            "R[write to console]: =\n",
            "R[write to console]: =\n",
            "R[write to console]: =\n",
            "R[write to console]: =\n",
            "R[write to console]: =\n",
            "R[write to console]: =\n",
            "R[write to console]: =\n",
            "R[write to console]: =\n",
            "R[write to console]: =\n",
            "R[write to console]: =\n",
            "R[write to console]: =\n",
            "R[write to console]: \n",
            "\n",
            "R[write to console]: downloaded 166 KB\n",
            "\n",
            "\n",
            "R[write to console]: trying URL 'https://cran.rstudio.com/src/contrib/matrixStats_0.62.0.tar.gz'\n",
            "\n",
            "R[write to console]: Content type 'application/x-gzip'\n",
            "R[write to console]:  length 201651 bytes (196 KB)\n",
            "\n",
            "R[write to console]: =\n",
            "R[write to console]: =\n",
            "R[write to console]: =\n",
            "R[write to console]: =\n",
            "R[write to console]: =\n",
            "R[write to console]: =\n",
            "R[write to console]: =\n",
            "R[write to console]: =\n",
            "R[write to console]: =\n",
            "R[write to console]: =\n",
            "R[write to console]: =\n",
            "R[write to console]: =\n",
            "R[write to console]: =\n",
            "R[write to console]: =\n",
            "R[write to console]: =\n",
            "R[write to console]: =\n",
            "R[write to console]: =\n",
            "R[write to console]: =\n",
            "R[write to console]: =\n",
            "R[write to console]: =\n",
            "R[write to console]: =\n",
            "R[write to console]: =\n",
            "R[write to console]: =\n",
            "R[write to console]: =\n",
            "R[write to console]: =\n",
            "R[write to console]: =\n",
            "R[write to console]: =\n",
            "R[write to console]: =\n",
            "R[write to console]: =\n",
            "R[write to console]: =\n",
            "R[write to console]: =\n",
            "R[write to console]: =\n",
            "R[write to console]: =\n",
            "R[write to console]: =\n",
            "R[write to console]: =\n",
            "R[write to console]: =\n",
            "R[write to console]: =\n",
            "R[write to console]: =\n",
            "R[write to console]: =\n",
            "R[write to console]: =\n",
            "R[write to console]: =\n",
            "R[write to console]: =\n",
            "R[write to console]: =\n",
            "R[write to console]: =\n",
            "R[write to console]: =\n",
            "R[write to console]: =\n",
            "R[write to console]: =\n",
            "R[write to console]: =\n",
            "R[write to console]: =\n",
            "R[write to console]: =\n",
            "R[write to console]: \n",
            "\n",
            "R[write to console]: downloaded 196 KB\n",
            "\n",
            "\n",
            "R[write to console]: trying URL 'https://cran.rstudio.com/src/contrib/StanHeaders_2.21.0-7.tar.gz'\n",
            "\n",
            "R[write to console]: Content type 'application/x-gzip'\n",
            "R[write to console]:  length 1402572 bytes (1.3 MB)\n",
            "\n",
            "R[write to console]: =\n",
            "R[write to console]: =\n",
            "R[write to console]: =\n",
            "R[write to console]: =\n",
            "R[write to console]: =\n",
            "R[write to console]: =\n",
            "R[write to console]: =\n",
            "R[write to console]: =\n",
            "R[write to console]: =\n",
            "R[write to console]: =\n",
            "R[write to console]: =\n",
            "R[write to console]: =\n",
            "R[write to console]: =\n",
            "R[write to console]: =\n",
            "R[write to console]: =\n",
            "R[write to console]: =\n",
            "R[write to console]: =\n",
            "R[write to console]: =\n",
            "R[write to console]: =\n",
            "R[write to console]: =\n",
            "R[write to console]: =\n",
            "R[write to console]: =\n",
            "R[write to console]: =\n",
            "R[write to console]: =\n",
            "R[write to console]: =\n",
            "R[write to console]: =\n",
            "R[write to console]: =\n",
            "R[write to console]: =\n",
            "R[write to console]: =\n",
            "R[write to console]: =\n",
            "R[write to console]: =\n",
            "R[write to console]: =\n",
            "R[write to console]: =\n",
            "R[write to console]: =\n",
            "R[write to console]: =\n",
            "R[write to console]: =\n",
            "R[write to console]: =\n",
            "R[write to console]: =\n",
            "R[write to console]: =\n",
            "R[write to console]: =\n",
            "R[write to console]: =\n",
            "R[write to console]: =\n",
            "R[write to console]: =\n",
            "R[write to console]: =\n",
            "R[write to console]: =\n",
            "R[write to console]: =\n",
            "R[write to console]: =\n",
            "R[write to console]: =\n",
            "R[write to console]: =\n",
            "R[write to console]: =\n",
            "R[write to console]: \n",
            "\n",
            "R[write to console]: downloaded 1.3 MB\n",
            "\n",
            "\n",
            "R[write to console]: trying URL 'https://cran.rstudio.com/src/contrib/inline_0.3.19.tar.gz'\n",
            "\n",
            "R[write to console]: Content type 'application/x-gzip'\n",
            "R[write to console]:  length 25074 bytes (24 KB)\n",
            "\n",
            "R[write to console]: =\n",
            "R[write to console]: =\n",
            "R[write to console]: =\n",
            "R[write to console]: =\n",
            "R[write to console]: =\n",
            "R[write to console]: =\n",
            "R[write to console]: =\n",
            "R[write to console]: =\n",
            "R[write to console]: =\n",
            "R[write to console]: =\n",
            "R[write to console]: =\n",
            "R[write to console]: =\n",
            "R[write to console]: =\n",
            "R[write to console]: =\n",
            "R[write to console]: =\n",
            "R[write to console]: =\n",
            "R[write to console]: =\n",
            "R[write to console]: =\n",
            "R[write to console]: =\n",
            "R[write to console]: =\n",
            "R[write to console]: =\n",
            "R[write to console]: =\n",
            "R[write to console]: =\n",
            "R[write to console]: =\n",
            "R[write to console]: =\n",
            "R[write to console]: =\n",
            "R[write to console]: =\n",
            "R[write to console]: =\n",
            "R[write to console]: =\n",
            "R[write to console]: =\n",
            "R[write to console]: =\n",
            "R[write to console]: =\n",
            "R[write to console]: =\n",
            "R[write to console]: =\n",
            "R[write to console]: =\n",
            "R[write to console]: =\n",
            "R[write to console]: =\n",
            "R[write to console]: =\n",
            "R[write to console]: =\n",
            "R[write to console]: =\n",
            "R[write to console]: =\n",
            "R[write to console]: =\n",
            "R[write to console]: =\n",
            "R[write to console]: =\n",
            "R[write to console]: =\n",
            "R[write to console]: =\n",
            "R[write to console]: =\n",
            "R[write to console]: =\n",
            "R[write to console]: =\n",
            "R[write to console]: =\n",
            "R[write to console]: \n",
            "\n",
            "R[write to console]: downloaded 24 KB\n",
            "\n",
            "\n",
            "R[write to console]: trying URL 'https://cran.rstudio.com/src/contrib/gridExtra_2.3.tar.gz'\n",
            "\n",
            "R[write to console]: Content type 'application/x-gzip'\n",
            "R[write to console]:  length 1062844 bytes (1.0 MB)\n",
            "\n",
            "R[write to console]: =\n",
            "R[write to console]: =\n",
            "R[write to console]: =\n",
            "R[write to console]: =\n",
            "R[write to console]: =\n",
            "R[write to console]: =\n",
            "R[write to console]: =\n",
            "R[write to console]: =\n",
            "R[write to console]: =\n",
            "R[write to console]: =\n",
            "R[write to console]: =\n",
            "R[write to console]: =\n",
            "R[write to console]: =\n",
            "R[write to console]: =\n",
            "R[write to console]: =\n",
            "R[write to console]: =\n",
            "R[write to console]: =\n",
            "R[write to console]: =\n",
            "R[write to console]: =\n",
            "R[write to console]: =\n",
            "R[write to console]: =\n",
            "R[write to console]: =\n",
            "R[write to console]: =\n",
            "R[write to console]: =\n",
            "R[write to console]: =\n",
            "R[write to console]: =\n",
            "R[write to console]: =\n",
            "R[write to console]: =\n",
            "R[write to console]: =\n",
            "R[write to console]: =\n",
            "R[write to console]: =\n",
            "R[write to console]: =\n",
            "R[write to console]: =\n",
            "R[write to console]: =\n",
            "R[write to console]: =\n",
            "R[write to console]: =\n",
            "R[write to console]: =\n",
            "R[write to console]: =\n",
            "R[write to console]: =\n",
            "R[write to console]: =\n",
            "R[write to console]: =\n",
            "R[write to console]: =\n",
            "R[write to console]: =\n",
            "R[write to console]: =\n",
            "R[write to console]: =\n",
            "R[write to console]: =\n",
            "R[write to console]: =\n",
            "R[write to console]: =\n",
            "R[write to console]: =\n",
            "R[write to console]: =\n",
            "R[write to console]: \n",
            "\n",
            "R[write to console]: downloaded 1.0 MB\n",
            "\n",
            "\n",
            "R[write to console]: trying URL 'https://cran.rstudio.com/src/contrib/Rcpp_1.0.8.3.tar.gz'\n",
            "\n",
            "R[write to console]: Content type 'application/x-gzip'\n",
            "R[write to console]:  length 3086192 bytes (2.9 MB)\n",
            "\n",
            "R[write to console]: =\n",
            "R[write to console]: =\n",
            "R[write to console]: =\n",
            "R[write to console]: =\n",
            "R[write to console]: =\n",
            "R[write to console]: =\n",
            "R[write to console]: =\n",
            "R[write to console]: =\n",
            "R[write to console]: =\n",
            "R[write to console]: =\n",
            "R[write to console]: =\n",
            "R[write to console]: =\n",
            "R[write to console]: =\n",
            "R[write to console]: =\n",
            "R[write to console]: =\n",
            "R[write to console]: =\n",
            "R[write to console]: =\n",
            "R[write to console]: =\n",
            "R[write to console]: =\n",
            "R[write to console]: =\n",
            "R[write to console]: =\n",
            "R[write to console]: =\n",
            "R[write to console]: =\n",
            "R[write to console]: =\n",
            "R[write to console]: =\n",
            "R[write to console]: =\n",
            "R[write to console]: =\n",
            "R[write to console]: =\n",
            "R[write to console]: =\n",
            "R[write to console]: =\n",
            "R[write to console]: =\n",
            "R[write to console]: =\n",
            "R[write to console]: =\n",
            "R[write to console]: =\n",
            "R[write to console]: =\n",
            "R[write to console]: =\n",
            "R[write to console]: =\n",
            "R[write to console]: =\n",
            "R[write to console]: =\n",
            "R[write to console]: =\n",
            "R[write to console]: =\n",
            "R[write to console]: =\n",
            "R[write to console]: =\n",
            "R[write to console]: =\n",
            "R[write to console]: =\n",
            "R[write to console]: =\n",
            "R[write to console]: =\n",
            "R[write to console]: =\n",
            "R[write to console]: =\n",
            "R[write to console]: =\n",
            "R[write to console]: \n",
            "\n",
            "R[write to console]: downloaded 2.9 MB\n",
            "\n",
            "\n",
            "R[write to console]: trying URL 'https://cran.rstudio.com/src/contrib/RcppParallel_5.1.5.tar.gz'\n",
            "\n",
            "R[write to console]: Content type 'application/x-gzip'\n",
            "R[write to console]:  length 1967672 bytes (1.9 MB)\n",
            "\n",
            "R[write to console]: =\n",
            "R[write to console]: =\n",
            "R[write to console]: =\n",
            "R[write to console]: =\n",
            "R[write to console]: =\n",
            "R[write to console]: =\n",
            "R[write to console]: =\n",
            "R[write to console]: =\n",
            "R[write to console]: =\n",
            "R[write to console]: =\n",
            "R[write to console]: =\n",
            "R[write to console]: =\n",
            "R[write to console]: =\n",
            "R[write to console]: =\n",
            "R[write to console]: =\n",
            "R[write to console]: =\n",
            "R[write to console]: =\n",
            "R[write to console]: =\n",
            "R[write to console]: =\n",
            "R[write to console]: =\n",
            "R[write to console]: =\n",
            "R[write to console]: =\n",
            "R[write to console]: =\n",
            "R[write to console]: =\n",
            "R[write to console]: =\n",
            "R[write to console]: =\n",
            "R[write to console]: =\n",
            "R[write to console]: =\n",
            "R[write to console]: =\n",
            "R[write to console]: =\n",
            "R[write to console]: =\n",
            "R[write to console]: =\n",
            "R[write to console]: =\n",
            "R[write to console]: =\n",
            "R[write to console]: =\n",
            "R[write to console]: =\n",
            "R[write to console]: =\n",
            "R[write to console]: =\n",
            "R[write to console]: =\n",
            "R[write to console]: =\n",
            "R[write to console]: =\n",
            "R[write to console]: =\n",
            "R[write to console]: =\n",
            "R[write to console]: =\n",
            "R[write to console]: =\n",
            "R[write to console]: =\n",
            "R[write to console]: =\n",
            "R[write to console]: =\n",
            "R[write to console]: =\n",
            "R[write to console]: =\n",
            "R[write to console]: \n",
            "\n",
            "R[write to console]: downloaded 1.9 MB\n",
            "\n",
            "\n",
            "R[write to console]: trying URL 'https://cran.rstudio.com/src/contrib/loo_2.5.1.tar.gz'\n",
            "\n",
            "R[write to console]: Content type 'application/x-gzip'\n",
            "R[write to console]:  length 2606977 bytes (2.5 MB)\n",
            "\n",
            "R[write to console]: =\n",
            "R[write to console]: =\n",
            "R[write to console]: =\n",
            "R[write to console]: =\n",
            "R[write to console]: =\n",
            "R[write to console]: =\n",
            "R[write to console]: =\n",
            "R[write to console]: =\n",
            "R[write to console]: =\n",
            "R[write to console]: =\n",
            "R[write to console]: =\n",
            "R[write to console]: =\n",
            "R[write to console]: =\n",
            "R[write to console]: =\n",
            "R[write to console]: =\n",
            "R[write to console]: =\n",
            "R[write to console]: =\n",
            "R[write to console]: =\n",
            "R[write to console]: =\n",
            "R[write to console]: =\n",
            "R[write to console]: =\n",
            "R[write to console]: =\n",
            "R[write to console]: =\n",
            "R[write to console]: =\n",
            "R[write to console]: =\n",
            "R[write to console]: =\n",
            "R[write to console]: =\n",
            "R[write to console]: =\n",
            "R[write to console]: =\n",
            "R[write to console]: =\n",
            "R[write to console]: =\n",
            "R[write to console]: =\n",
            "R[write to console]: =\n",
            "R[write to console]: =\n",
            "R[write to console]: =\n",
            "R[write to console]: =\n",
            "R[write to console]: =\n",
            "R[write to console]: =\n",
            "R[write to console]: =\n",
            "R[write to console]: =\n",
            "R[write to console]: =\n",
            "R[write to console]: =\n",
            "R[write to console]: =\n",
            "R[write to console]: =\n",
            "R[write to console]: =\n",
            "R[write to console]: =\n",
            "R[write to console]: =\n",
            "R[write to console]: =\n",
            "R[write to console]: =\n",
            "R[write to console]: =\n",
            "R[write to console]: \n",
            "\n",
            "R[write to console]: downloaded 2.5 MB\n",
            "\n",
            "\n",
            "R[write to console]: trying URL 'https://cran.rstudio.com/src/contrib/RcppEigen_0.3.3.9.2.tar.gz'\n",
            "\n",
            "R[write to console]: Content type 'application/x-gzip'\n",
            "R[write to console]:  length 1476004 bytes (1.4 MB)\n",
            "\n",
            "R[write to console]: =\n",
            "R[write to console]: =\n",
            "R[write to console]: =\n",
            "R[write to console]: =\n",
            "R[write to console]: =\n",
            "R[write to console]: =\n",
            "R[write to console]: =\n",
            "R[write to console]: =\n",
            "R[write to console]: =\n",
            "R[write to console]: =\n",
            "R[write to console]: =\n",
            "R[write to console]: =\n",
            "R[write to console]: =\n",
            "R[write to console]: =\n",
            "R[write to console]: =\n",
            "R[write to console]: =\n",
            "R[write to console]: =\n",
            "R[write to console]: =\n",
            "R[write to console]: =\n",
            "R[write to console]: =\n",
            "R[write to console]: =\n",
            "R[write to console]: =\n",
            "R[write to console]: =\n",
            "R[write to console]: =\n",
            "R[write to console]: =\n",
            "R[write to console]: =\n",
            "R[write to console]: =\n",
            "R[write to console]: =\n",
            "R[write to console]: =\n",
            "R[write to console]: =\n",
            "R[write to console]: =\n",
            "R[write to console]: =\n",
            "R[write to console]: =\n",
            "R[write to console]: =\n",
            "R[write to console]: =\n",
            "R[write to console]: =\n",
            "R[write to console]: =\n",
            "R[write to console]: =\n",
            "R[write to console]: =\n",
            "R[write to console]: =\n",
            "R[write to console]: =\n",
            "R[write to console]: =\n",
            "R[write to console]: =\n",
            "R[write to console]: =\n",
            "R[write to console]: =\n",
            "R[write to console]: =\n",
            "R[write to console]: =\n",
            "R[write to console]: =\n",
            "R[write to console]: =\n",
            "R[write to console]: =\n",
            "R[write to console]: \n",
            "\n",
            "R[write to console]: downloaded 1.4 MB\n",
            "\n",
            "\n",
            "R[write to console]: trying URL 'https://cran.rstudio.com/src/contrib/BH_1.78.0-0.tar.gz'\n",
            "\n",
            "R[write to console]: Content type 'application/x-gzip'\n",
            "R[write to console]:  length 13269768 bytes (12.7 MB)\n",
            "\n",
            "R[write to console]: =\n",
            "R[write to console]: =\n",
            "R[write to console]: =\n",
            "R[write to console]: =\n",
            "R[write to console]: =\n",
            "R[write to console]: =\n",
            "R[write to console]: =\n",
            "R[write to console]: =\n",
            "R[write to console]: =\n",
            "R[write to console]: =\n",
            "R[write to console]: =\n",
            "R[write to console]: =\n",
            "R[write to console]: =\n",
            "R[write to console]: =\n",
            "R[write to console]: =\n",
            "R[write to console]: =\n",
            "R[write to console]: =\n",
            "R[write to console]: =\n",
            "R[write to console]: =\n",
            "R[write to console]: =\n",
            "R[write to console]: =\n",
            "R[write to console]: =\n",
            "R[write to console]: =\n",
            "R[write to console]: =\n",
            "R[write to console]: =\n",
            "R[write to console]: =\n",
            "R[write to console]: =\n",
            "R[write to console]: =\n",
            "R[write to console]: =\n",
            "R[write to console]: =\n",
            "R[write to console]: =\n",
            "R[write to console]: =\n",
            "R[write to console]: =\n",
            "R[write to console]: =\n",
            "R[write to console]: =\n",
            "R[write to console]: =\n",
            "R[write to console]: =\n",
            "R[write to console]: =\n",
            "R[write to console]: =\n",
            "R[write to console]: =\n",
            "R[write to console]: =\n",
            "R[write to console]: =\n",
            "R[write to console]: =\n",
            "R[write to console]: =\n",
            "R[write to console]: =\n",
            "R[write to console]: =\n",
            "R[write to console]: =\n",
            "R[write to console]: =\n",
            "R[write to console]: =\n",
            "R[write to console]: =\n",
            "R[write to console]: \n",
            "\n",
            "R[write to console]: downloaded 12.7 MB\n",
            "\n",
            "\n",
            "R[write to console]: trying URL 'https://cran.rstudio.com/src/contrib/rstan_2.21.5.tar.gz'\n",
            "\n",
            "R[write to console]: Content type 'application/x-gzip'\n",
            "R[write to console]:  length 1189130 bytes (1.1 MB)\n",
            "\n",
            "R[write to console]: =\n",
            "R[write to console]: =\n",
            "R[write to console]: =\n",
            "R[write to console]: =\n",
            "R[write to console]: =\n",
            "R[write to console]: =\n",
            "R[write to console]: =\n",
            "R[write to console]: =\n",
            "R[write to console]: =\n",
            "R[write to console]: =\n",
            "R[write to console]: =\n",
            "R[write to console]: =\n",
            "R[write to console]: =\n",
            "R[write to console]: =\n",
            "R[write to console]: =\n",
            "R[write to console]: =\n",
            "R[write to console]: =\n",
            "R[write to console]: =\n",
            "R[write to console]: =\n",
            "R[write to console]: =\n",
            "R[write to console]: =\n",
            "R[write to console]: =\n",
            "R[write to console]: =\n",
            "R[write to console]: =\n",
            "R[write to console]: =\n",
            "R[write to console]: =\n",
            "R[write to console]: =\n",
            "R[write to console]: =\n",
            "R[write to console]: =\n",
            "R[write to console]: =\n",
            "R[write to console]: =\n",
            "R[write to console]: =\n",
            "R[write to console]: =\n",
            "R[write to console]: =\n",
            "R[write to console]: =\n",
            "R[write to console]: =\n",
            "R[write to console]: =\n",
            "R[write to console]: =\n",
            "R[write to console]: =\n",
            "R[write to console]: =\n",
            "R[write to console]: =\n",
            "R[write to console]: =\n",
            "R[write to console]: =\n",
            "R[write to console]: =\n",
            "R[write to console]: =\n",
            "R[write to console]: =\n",
            "R[write to console]: =\n",
            "R[write to console]: =\n",
            "R[write to console]: =\n",
            "R[write to console]: =\n",
            "R[write to console]: \n",
            "\n",
            "R[write to console]: downloaded 1.1 MB\n",
            "\n",
            "\n",
            "R[write to console]: \n",
            "\n",
            "R[write to console]: \n",
            "R[write to console]: The downloaded source packages are in\n",
            "\t‘/tmp/RtmpR1yaHk/downloaded_packages’\n",
            "R[write to console]: \n",
            "R[write to console]: \n",
            "\n",
            "R[write to console]: Loading required package: StanHeaders\n",
            "\n",
            "R[write to console]: Loading required package: ggplot2\n",
            "\n",
            "R[write to console]: rstan (Version 2.21.5, GitRev: 2e1f913d3ca3)\n",
            "\n",
            "R[write to console]: For execution on a local, multicore CPU with excess RAM we recommend calling\n",
            "options(mc.cores = parallel::detectCores()).\n",
            "To avoid recompilation of unchanged Stan programs, we recommend calling\n",
            "rstan_options(auto_write = TRUE)\n",
            "\n"
          ]
        },
        {
          "output_type": "stream",
          "name": "stdout",
          "text": [
            "Inference for Stan model: Reg.\n",
            "5 chains, each with iter=21000; warmup=1000; thin=1; \n",
            "post-warmup draws per chain=20000, total post-warmup draws=1e+05.\n",
            "\n",
            "              mean se_mean      sd       2.5%         5%        50%        95%\n",
            "a          0.54737 0.01494 2.99910   -5.36392   -4.38193    0.54830    5.47620\n",
            "b[1]       0.00054 0.00001 0.00143   -0.00229   -0.00183    0.00054    0.00290\n",
            "b[2]       0.01733 0.00001 0.00301    0.01141    0.01237    0.01733    0.02224\n",
            "b[3]      -0.00151 0.00002 0.00361   -0.00859   -0.00742   -0.00152    0.00440\n",
            "b[4]       0.01384 0.00003 0.00650    0.00111    0.00325    0.01383    0.02456\n",
            "sigma      2.31162 0.00127 0.26339    1.86686    1.92550    2.28772    2.78109\n",
            "r2         0.75044 0.00022 0.05271    0.62862    0.65432    0.75719    0.82415\n",
            "r          0.86572 0.00013 0.03095    0.79285    0.80890    0.87016    0.90783\n",
            "log_lik -105.28464 0.01042 1.89275 -109.89701 -108.88992 -104.92989 -102.90311\n",
            "             97.5% n_eff    Rhat\n",
            "a          6.43709 40311 1.00005\n",
            "b[1]       0.00337 38326 1.00006\n",
            "b[2]       0.02323 62707 1.00002\n",
            "b[3]       0.00561 51911 1.00006\n",
            "b[4]       0.02672 46121 1.00006\n",
            "sigma      2.89654 42925 1.00020\n",
            "r2         0.83396 56229 1.00020\n",
            "r          0.91321 55942 1.00020\n",
            "log_lik -102.68594 33009 1.00010\n",
            "\n",
            "Samples were drawn using NUTS(diag_e) at Wed Jun 15 22:24:18 2022.\n",
            "For each parameter, n_eff is a crude measure of effective sample size,\n",
            "and Rhat is the potential scale reduction factor on split chains (at \n",
            "convergence, Rhat=1).\n",
            "標準偏回帰係数と重相関\n",
            "        EAP post.sd    0.025     0.05      0.5    0.95   0.975\n",
            "b1  0.05935 0.15874 -0.25316 -0.20222  0.05934 0.32111 0.37293\n",
            "b2  0.74256 0.12878  0.48905  0.53011  0.74278 0.95320 0.99537\n",
            "b3 -0.05329 0.12724 -0.30273 -0.26144 -0.05340 0.15501 0.19785\n",
            "b4  0.22752 0.10691  0.01831  0.05336  0.22732 0.40372 0.43907\n",
            "情報量規準\n",
            "[1] \"waic=215.61464\"\n",
            "Inference for Stan model: Reg.\n",
            "5 chains, each with iter=21000; warmup=1000; thin=1; \n",
            "post-warmup draws per chain=20000, total post-warmup draws=1e+05.\n",
            "\n",
            "            mean se_mean    sd     2.5%       5%      50%      95%    97.5%\n",
            "a          1.571   0.003 0.681    0.233    0.449    1.569    2.683    2.906\n",
            "b[1]       0.017   0.000 0.002    0.013    0.014    0.017    0.020    0.021\n",
            "b[2]       0.016   0.000 0.005    0.006    0.007    0.016    0.024    0.025\n",
            "sigma      2.263   0.001 0.250    1.835    1.894    2.242    2.705    2.810\n",
            "r2         0.755   0.000 0.051    0.637    0.662    0.761    0.828    0.837\n",
            "r          0.869   0.000 0.030    0.798    0.814    0.873    0.910    0.915\n",
            "log_lik -104.271   0.008 1.503 -108.075 -107.190 -103.928 -102.520 -102.399\n",
            "        n_eff Rhat\n",
            "a       50415    1\n",
            "b[1]    74679    1\n",
            "b[2]    59561    1\n",
            "sigma   51712    1\n",
            "r2      52774    1\n",
            "r       52160    1\n",
            "log_lik 34024    1\n",
            "\n",
            "Samples were drawn using NUTS(diag_e) at Wed Jun 15 22:24:31 2022.\n",
            "For each parameter, n_eff is a crude measure of effective sample size,\n",
            "and Rhat is the potential scale reduction factor on split chains (at \n",
            "convergence, Rhat=1).\n",
            "標準偏回帰係数と重相関\n",
            "     EAP post.sd 0.025  0.05   0.5  0.95 0.975\n",
            "b1 0.737   0.082 0.576 0.603 0.737 0.871 0.898\n",
            "b2 0.255   0.082 0.093 0.120 0.255 0.390 0.418\n",
            "情報量規準\n",
            "[1] \"waic=211.704\"\n",
            "Inference for Stan model: Reg.\n",
            "5 chains, each with iter=21000; warmup=1000; thin=1; \n",
            "post-warmup draws per chain=20000, total post-warmup draws=1e+05.\n",
            "\n",
            "            mean se_mean    sd     2.5%       5%      50%      95%    97.5%\n",
            "a          1.571   0.003 0.681    0.233    0.449    1.569    2.683    2.906\n",
            "b[1]       0.017   0.000 0.002    0.013    0.014    0.017    0.020    0.021\n",
            "b[2]       0.016   0.000 0.005    0.006    0.007    0.016    0.024    0.025\n",
            "sigma      2.263   0.001 0.250    1.835    1.894    2.242    2.705    2.810\n",
            "r2         0.755   0.000 0.051    0.637    0.662    0.761    0.828    0.837\n",
            "r          0.869   0.000 0.030    0.798    0.814    0.873    0.910    0.915\n",
            "log_lik -104.271   0.008 1.503 -108.075 -107.190 -103.928 -102.520 -102.399\n",
            "        n_eff Rhat\n",
            "a       50415    1\n",
            "b[1]    74679    1\n",
            "b[2]    59561    1\n",
            "sigma   51712    1\n",
            "r2      52774    1\n",
            "r       52160    1\n",
            "log_lik 34024    1\n",
            "\n",
            "Samples were drawn using NUTS(diag_e) at Wed Jun 15 22:24:31 2022.\n",
            "For each parameter, n_eff is a crude measure of effective sample size,\n",
            "and Rhat is the potential scale reduction factor on split chains (at \n",
            "convergence, Rhat=1).\n",
            "標準偏回帰係数と重相関\n",
            "     EAP post.sd 0.025  0.05   0.5  0.95 0.975\n",
            "b1 0.737   0.082 0.576 0.603 0.737 0.871 0.898\n",
            "b2 0.255   0.082 0.093 0.120 0.255 0.390 0.418\n",
            "情報量規準\n",
            "[1] \"waic=211.704\"\n",
            "回帰式の事後分布\n",
            "       EAP post.sd 0.025  0.05   0.5  0.95 0.975\n",
            "[1,] 1.571   0.681 0.233 0.449 1.569 2.683 2.906\n",
            "[2,] 6.733   0.635 5.483 5.690 6.733 7.774 7.984\n",
            "[3,] 3.124   0.656 1.836 2.046 3.121 4.198 4.408\n",
            "[4,] 4.928   0.455 4.030 4.180 4.929 5.675 5.826\n",
            "基準変数の予測分布\n",
            "       EAP    sd  0.025   0.05   0.5   0.95  0.975\n",
            "[1,] 1.577 2.382 -3.106 -2.338 1.573  5.472  6.259\n",
            "[2,] 6.725 2.364  2.062  2.839 6.729 10.605 11.347\n",
            "[3,] 3.130 2.368 -1.508 -0.747 3.122  7.039  7.797\n",
            "[4,] 4.926 2.323  0.328  1.109 4.922  8.739  9.488\n"
          ]
        },
        {
          "output_type": "display_data",
          "data": {
            "image/png": "[encoded data removed]"
          },
          "metadata": {}
        },
        {
          "output_type": "display_data",
          "data": {
            "image/png": "[encoded data removed]"
          },
          "metadata": {}
        }
      ]
    }
  ]
}