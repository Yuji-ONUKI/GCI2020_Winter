{
  "metadata": {
    "kernelspec": {
      "display_name": "Python 3",
      "language": "python",
      "name": "python3"
    },
    "language_info": {
      "name": "python",
      "version": "3.6.6",
      "mimetype": "text/x-python",
      "codemirror_mode": {
        "name": "ipython",
        "version": 3
      },
      "pygments_lexer": "ipython3",
      "nbconvert_exporter": "python",
      "file_extension": ".py"
    },
    "colab": {
      "name": "June2_0500_simple-home-default-credit-lb-score-0-789.ipynb",
      "provenance": [],
      "include_colab_link": true
    }
  },
  "nbformat_minor": 0,
  "nbformat": 4,
  "cells": [
    {
      "cell_type": "markdown",
      "metadata": {
        "id": "view-in-github",
        "colab_type": "text"
      },
      "source": [
        "<a href=\"https://colab.research.google.com/github/Yuji-ONUKI/GCI2020_Winter/blob/main/June2_0500_simple_home_default_credit_lb_score_0_789.ipynb\" target=\"_parent\"><img src=\"https://colab.research.google.com/assets/colab-badge.svg\" alt=\"Open In Colab\"/></a>"
      ]
    },
    {
      "cell_type": "code",
      "source": [
        "import pandas as pd\n",
        "import numpy as np\n",
        "from sklearn.preprocessing import MinMaxScaler, LabelEncoder\n",
        "from sklearn.model_selection import train_test_split\n",
        "from sklearn.metrics import accuracy_score, roc_auc_score, confusion_matrix\n",
        "from sklearn.feature_selection import VarianceThreshold\n",
        "import lightgbm as lgb\n",
        "import matplotlib.pyplot as plt\n",
        "import seaborn as sns\n",
        "\n",
        "print('Importing data...')\n",
        "# Google Colaboratoryで作業する場合はこちらも実行してください。\n",
        "from google.colab import drive\n",
        "drive.mount('/content/drive')\n",
        "# %cd 以降にこのnotebookを置いているディレクトリを指定してください。\n",
        "data = pd.read_csv(\"/content/drive/MyDrive/GCI/02.（公開）コンペ2-20220621T094535Z-001.zip (Unzipped Files)/02.（公開）コンペ2/input/train.csv\")\n",
        "test = pd.read_csv(\"/content/drive/MyDrive/GCI/02.（公開）コンペ2-20220621T094535Z-001.zip (Unzipped Files)/02.（公開）コンペ2/input/test.csv\")\n",
        "\n",
        "#Separate target variable\n",
        "y = data['TARGET']\n",
        "del data['TARGET']\n",
        "\n",
        "#Feature engineering\n",
        "#data['loan_to_income'] = data.AMT_ANNUITY/data.AMT_INCOME_TOTAL\n",
        "#test['loan_to_income'] = test.AMT_ANNUITY/test.AMT_INCOME_TOTAL\n",
        "\n",
        "#One-hot encoding of categorical features in data and test sets\n",
        "categorical_features = [col for col in data.columns if data[col].dtype == 'object']\n",
        "\n",
        "one_hot_df = pd.concat([data,test])\n",
        "one_hot_df = pd.get_dummies(one_hot_df, columns=categorical_features)\n",
        "\n",
        "data = one_hot_df.iloc[:data.shape[0],:]\n",
        "test = one_hot_df.iloc[data.shape[0]:,]\n",
        "\n"
      ],
      "metadata": {
        "_uuid": "1ff174931af1e4c26e808ab542c8d0a299d08c09",
        "trusted": true,
        "colab": {
          "base_uri": "https://localhost:8080/"
        },
        "id": "HehSKiyFonMe",
        "outputId": "4519773a-dd15-49e4-d423-21671332443f"
      },
      "execution_count": null,
      "outputs": [
        {
          "output_type": "stream",
          "name": "stdout",
          "text": [
            "Importing data...\n",
            "Drive already mounted at /content/drive; to attempt to forcibly remount, call drive.mount(\"/content/drive\", force_remount=True).\n"
          ]
        }
      ]
    },
    {
      "cell_type": "code",
      "source": [
        "test = test[test.columns[data.isnull().mean() < 0.85]]\n",
        "data = data[data.columns[data.isnull().mean() < 0.85]]"
      ],
      "metadata": {
        "_uuid": "71cb6a2bc692e7dc940ce445740e5bf067cc4e16",
        "trusted": true,
        "id": "TWiL7ZhXonMo"
      },
      "execution_count": null,
      "outputs": []
    },
    {
      "cell_type": "code",
      "execution_count": null,
      "metadata": {
        "id": "wcaqCGyJgUdx"
      },
      "outputs": [],
      "source": [
        "data['FLAG_NOT_EMPLOYED']=0\n",
        "data.loc[data['DAYS_EMPLOYED']==365243,'FLAG_NOT_EMPLOYED']=1\n",
        "#data.loc[data['DAYS_EMPLOYED']==365243,'DAYS_EMPLOYED']=np.NAN\n",
        "test['FLAG_NOT_EMPLOYED']=0\n",
        "test.loc[test['DAYS_EMPLOYED']==365243,'FLAG_NOT_EMPLOYED']=1\n",
        "#test.loc[test['DAYS_EMPLOYED']==365243,'DAYS_EMPLOYED']=np.NAN"
      ]
    },
    {
      "cell_type": "code",
      "execution_count": null,
      "metadata": {
        "id": "YbB7BC-ap5iK"
      },
      "outputs": [],
      "source": [
        "data['YEARS_BIRTH']=round(data['DAYS_BIRTH']/365)\n",
        "test['YEARS_BIRTH']=round(test['DAYS_BIRTH']/365)\n",
        "\n",
        "data['YEARS_ID_PUBLISH']=round(data['DAYS_ID_PUBLISH']/365)\n",
        "test['YEARS_ID_PUBLISH']=round(test['DAYS_ID_PUBLISH']/365)\n",
        "\n",
        "data['YEARS_REGISTRATION']=round(data['DAYS_REGISTRATION']/365)\n",
        "test['YEARS_REGISTRATION']=round(test['DAYS_REGISTRATION']/365)\n",
        "\n",
        "\n",
        "data['YEARS_EMPLOYED']=round(data['DAYS_EMPLOYED']/365)\n",
        "test['YEARS_EMPLOYED']=round(test['DAYS_EMPLOYED']/365)"
      ]
    },
    {
      "cell_type": "code",
      "source": [
        ""
      ],
      "metadata": {
        "id": "utnmj5332Ci1"
      },
      "execution_count": null,
      "outputs": []
    },
    {
      "cell_type": "code",
      "execution_count": null,
      "metadata": {
        "id": "VMv3GVRdNWe_"
      },
      "outputs": [],
      "source": [
        "dict={}\n",
        "for item in data['AMT_INCOME_TOTAL'].unique():\n",
        "  dict[item]=data.loc[data['AMT_INCOME_TOTAL']==item,'SK_ID_CURR'].count()\n",
        "df = pd.DataFrame.from_dict(dict,orient='index')\n",
        "\n",
        "items = list(df[df[0]>10])"
      ]
    },
    {
      "cell_type": "code",
      "execution_count": null,
      "metadata": {
        "id": "zdHMsgUQMyin"
      },
      "outputs": [],
      "source": [
        "data['AMT_INCOME_TOTAL_2']=np.NAN\n",
        "test['AMT_INCOME_TOTAL_2']=np.NAN\n",
        "for item in items:\n",
        "  data.loc[data['AMT_INCOME_TOTAL']==item,'AMT_INCOME_TOTAL_2']=data.loc[data['AMT_INCOME_TOTAL']==item,'AMT_INCOME_TOTAL']\n",
        "  test.loc[test['AMT_INCOME_TOTAL']==item,'AMT_INCOME_TOTAL_2']=test.loc[test['AMT_INCOME_TOTAL']==item,'AMT_INCOME_TOTAL']\n",
        "\n",
        "data=pd.get_dummies(data,columns=['AMT_INCOME_TOTAL_2'])\n",
        "test=pd.get_dummies(test,columns={'AMT_INCOME_TOTAL_2'})"
      ]
    },
    {
      "cell_type": "code",
      "execution_count": null,
      "metadata": {
        "colab": {
          "base_uri": "https://localhost:8080/"
        },
        "id": "EvbVtWnV-ksW",
        "outputId": "a1fc39fd-c4e8-4920-bd4f-30ed36454d2d"
      },
      "outputs": [
        {
          "output_type": "execute_result",
          "data": {
            "text/plain": [
              "array([0.072508, 0.04622 ])"
            ]
          },
          "metadata": {},
          "execution_count": 85
        }
      ],
      "source": [
        "data.loc[data['REGION_POPULATION_RELATIVE']>0.04,'REGION_POPULATION_RELATIVE'].unique()"
      ]
    },
    {
      "cell_type": "code",
      "execution_count": null,
      "metadata": {
        "id": "0RnkvlFI-mxA"
      },
      "outputs": [],
      "source": [
        "data['REGION_POPULATION_RELATIVE_0.04622']=0\n",
        "data['REGION_POPULATION_RELATIVE'==0.4622,'REGION_POPULATION_RELATIVE_0.04622']=1\n",
        "data['REGION_POPULATION_RELATIVE'==0.4622,'REGION_POPULATION_RELATIVE']=np.nan\n",
        "\n",
        "test['REGION_POPULATION_RELATIVE_0.04622']=0\n",
        "test['REGION_POPULATION_RELATIVE'==0.4622,'REGION_POPULATION_RELATIVE_0.04622']=1\n",
        "test['REGION_POPULATION_RELATIVE'==0.4622,'REGION_POPULATION_RELATIVE']=np.nan\n",
        "\n",
        "data['REGION_POPULATION_RELATIVE_0.072508']=0\n",
        "data['REGION_POPULATION_RELATIVE'==0.072508,'REGION_POPULATION_RELATIVE_0.072508']=1\n",
        "data['REGION_POPULATION_RELATIVE'==0.072508,'REGION_POPULATION_RELATIVE']=np.nan\n",
        "\n",
        "test['REGION_POPULATION_RELATIVE_0.072508']=0\n",
        "test['REGION_POPULATION_RELATIVE'==0.072508,'REGION_POPULATION_RELATIVE_0.072508']=1\n",
        "test['REGION_POPULATION_RELATIVE'==0.072508,'REGION_POPULATION_RELATIVE']=np.nan"
      ]
    },
    {
      "cell_type": "code",
      "execution_count": null,
      "metadata": {
        "id": "o3KNWUU8yasX"
      },
      "outputs": [],
      "source": [
        "data['OWN_CAR_AGE_64']=0\n",
        "data['OWN_CAR_AGE'==64,'OWN_CAR_AGE_64']=1\n",
        "data['OWN_CAR_AGE'==64,'OWN_CAR_AGE']=np.nan\n",
        "\n",
        "test['OWN_CAR_AGE_64']=0\n",
        "test['OWN_CAR_AGE'==64,'OWN_CAR_AGE_64']=1\n",
        "test['OWN_CAR_AGE'==64,'OWN_CAR_AGE']=np.nan\n",
        "\n",
        "data['OWN_CAR_AGE_65']=0\n",
        "data['OWN_CAR_AGE'==65,'OWN_CAR_AGE_65']=1\n",
        "data['OWN_CAR_AGE'==65,'OWN_CAR_AGE']=np.nan\n",
        "\n",
        "test['OWN_CAR_AGE_65']=0\n",
        "test['OWN_CAR_AGE'==65,'OWN_CAR_AGE_65']=1\n",
        "test['OWN_CAR_AGE'==65,'OWN_CAR_AGE']=np.nan\n"
      ]
    },
    {
      "cell_type": "code",
      "execution_count": null,
      "metadata": {
        "id": "v29vVfC0ljQm"
      },
      "outputs": [],
      "source": [
        "#data['LOW_DEFAULT_ORG']=0\n",
        "##data.loc[data['ORGANIZATION_TYPE']=='Industry: type 12','LOW_DEFAULT_ORG' ]=1\n",
        "#data.loc[data['ORGANIZATION_TYPE']=='Trade: type 4','LOW_DEFAULT_ORG' ]=1\n",
        "#test['LOW_DEFAULT_ORG']=0\n",
        "#test.loc[test['ORGANIZATION_TYPE']=='Industry: type 12','LOW_DEFAULT_ORG' ]=1\n",
        "#test.loc[test['ORGANIZATION_TYPE']=='Trade: type 4','LOW_DEFAULT_ORG' ]=1\n",
        "\n",
        "#data['HIGH_DEFAULT_ORG']=0\n",
        "#data.loc[data['ORGANIZATION_TYPE']=='Transport: type 3','HIGH_DEFAULT_ORG']=1\n",
        "#test['HIGH_DEFAULT_ORG']=0\n",
        "#test.loc[test['ORGANIZATION_TYPE']=='Transport: type 3','HIGH_DEFAULT_ORG']=1"
      ]
    },
    {
      "cell_type": "code",
      "execution_count": null,
      "metadata": {
        "id": "5pYCjGXmwz-2"
      },
      "outputs": [],
      "source": [
        "# 欠測値であれば'_NAN'を加えたカラムを作る\n",
        "def flag_isNan(column_target):\n",
        "  if type(column_target)==str:\n",
        "    data[column_target+'_NAN']=0\n",
        "    test[column_target+'_NAN']=0\n",
        "    #\n",
        "    data.loc[data[column_target].isna(),column_target+'_NAN']=1\n",
        "    test.loc[test[column_target].isna(),column_target+'_NAN']=1"
      ]
    },
    {
      "cell_type": "code",
      "execution_count": null,
      "metadata": {
        "id": "UtcXCBAGzfQZ"
      },
      "outputs": [],
      "source": [
        "for col in list(test.dtypes[data.dtypes=='float'].keys()):\n",
        "  if (test.loc[test[col].isna(),'SK_ID_CURR'].count()>0):\n",
        "    flag_isNan(col)"
      ]
    },
    {
      "cell_type": "code",
      "execution_count": null,
      "metadata": {
        "id": "COyKL4UZZZYc"
      },
      "outputs": [],
      "source": [
        "data['RT_CREDIT']=data['AMT_CREDIT']/data['AMT_INCOME_TOTAL']\n",
        "test['RT_CREDIT']=test['AMT_CREDIT']/test['AMT_INCOME_TOTAL']\n",
        "\n",
        "data['FLAG_RT_CREDIT_OVER1']=0\n",
        "test['FLAG_RT_CREDIT_OVER1']=0\n",
        "data.loc[data['RT_CREDIT']>1,'FLAG_RT_CREDIT_OVER1']=1\n",
        "test.loc[data['RT_CREDIT']>1,'FLAG_RT_CREDIT_OVER1']=1\n",
        "\n"
      ]
    },
    {
      "cell_type": "code",
      "execution_count": null,
      "metadata": {
        "id": "zpaSJddDn5TT"
      },
      "outputs": [],
      "source": [
        "data['ROUND_RT_CREDIT']=round(data['RT_CREDIT'])\n",
        "data['ROUND_RT_CREDIT'].fillna(0,inplace=True)\n",
        "#data.loc[data['ROUND_RT_CREDIT']>6,'ROUND_RT_CREDIT']=6\n",
        "#data['ROUND_RT_CREDIT']=data['ROUND_RT_CREDIT'].astype(str)\n",
        "\n",
        "data=pd.get_dummies(data,columns=['ROUND_RT_CREDIT'])\n",
        "\n",
        "test['ROUND_RT_CREDIT']=round(test['RT_CREDIT'])\n",
        "test['ROUND_RT_CREDIT'].fillna(0,inplace=True)\n",
        "#test.loc[test['ROUND_RT_CREDIT']>6,'ROUND_RT_CREDIT']=6\n",
        "#test['ROUND_RT_CREDIT']=test['ROUND_RT_CREDIT'].astype(str)\n",
        "\n",
        "test=pd.get_dummies(test,columns=['ROUND_RT_CREDIT'])\n"
      ]
    },
    {
      "cell_type": "code",
      "execution_count": null,
      "metadata": {
        "id": "3sqbzKd94syY"
      },
      "outputs": [],
      "source": [
        "data['AGE_EMP']=data['YEARS_BIRTH']-data['YEARS_EMPLOYED']\n",
        "test['AGE_EMP']=test['YEARS_BIRTH']-test['YEARS_EMPLOYED']\n",
        "\n",
        "# 26歳までの上昇局面とそれ以降の下降局面を別のカラムにする\n",
        "data['AGE_EMP1']=np.NAN\n",
        "test['AGE_EMP1']=np.NAN\n",
        "data.loc[data['AGE_EMP']<-26,'AGE_EMP1']=data['AGE_EMP']\n",
        "test.loc[test['AGE_EMP']<-26,'AGE_EMP1']=test['AGE_EMP']\n",
        "data.loc[data['AGE_EMP']<-26,'AGE_EMP']=np.NAN\n",
        "test.loc[test['AGE_EMP']<-26,'AGE_EMP']=np.NAN"
      ]
    },
    {
      "cell_type": "code",
      "source": [
        "# Create an anomalous flag column\n",
        "data['DAYS_EMPLOYED_ANOM'] = data[\"DAYS_EMPLOYED\"] == 365243\n",
        "\n",
        "# Replace the anomalous values with nan\n",
        "data['DAYS_EMPLOYED'].replace({365243: np.nan}, inplace = True)\n",
        "\n",
        "# Create an anomalous flag column\n",
        "test['DAYS_EMPLOYED_ANOM'] = test[\"DAYS_EMPLOYED\"] == 365243\n",
        "\n",
        "# Replace the anomalous values with nan\n",
        "test['DAYS_EMPLOYED'].replace({365243: np.nan}, inplace = True)"
      ],
      "metadata": {
        "_uuid": "1fe25018b69513696fa11a9f75d548e95010ffa2",
        "trusted": true,
        "id": "y40rbuRAonMq"
      },
      "execution_count": null,
      "outputs": []
    },
    {
      "cell_type": "code",
      "source": [
        "data['DAYS_LAST_PHONE_CHANGE'].replace(0, np.nan, inplace=True)\n",
        "test['DAYS_LAST_PHONE_CHANGE'].replace(0, np.nan, inplace=True)\n",
        "\n",
        "data['YEARS_LAST_PHONE_CHANGE']=round(data['DAYS_LAST_PHONE_CHANGE']/365)\n",
        "test['YEARS_LAST_PHONE_CHANGE']=round(test['DAYS_LAST_PHONE_CHANGE']/365)\n",
        "\n",
        "\n",
        "data['MONTH_LAST_PHONE_CHANGE']=round(data['DAYS_LAST_PHONE_CHANGE']/30)\n",
        "test['MONTH_LAST_PHONE_CHANGE']=round(test['DAYS_LAST_PHONE_CHANGE']/30)"
      ],
      "metadata": {
        "_uuid": "f655026a52241ad6f63bd8260420edb648790bd9",
        "trusted": true,
        "id": "Ozd_2gLronMr"
      },
      "execution_count": null,
      "outputs": []
    },
    {
      "cell_type": "code",
      "source": [
        "# Align data and test\n",
        "\n",
        "data_labels = y\n",
        "\n",
        "# Align the dataing and testing data, keep only columns present in both dataframes\n",
        "data, test = data.align(test, join = 'inner', axis = 1)\n",
        "\n",
        "# Add the target back in\n",
        "data['TARGET'] = y\n",
        "\n",
        "print('dataing Features shape: ', data.shape)\n",
        "print('Testing Features shape: ', test.shape)"
      ],
      "metadata": {
        "_uuid": "6e757d42434a84f5ea6f0db4504d0dec3ed77b09",
        "trusted": true,
        "colab": {
          "base_uri": "https://localhost:8080/"
        },
        "id": "jkf6FEVeonMu",
        "outputId": "dbea7dd2-6afa-4bba-f75c-8e1695e55639"
      },
      "execution_count": null,
      "outputs": [
        {
          "output_type": "stream",
          "name": "stdout",
          "text": [
            "dataing Features shape:  (171202, 200)\n",
            "Testing Features shape:  (61500, 199)\n"
          ]
        }
      ]
    },
    {
      "cell_type": "code",
      "source": [
        "test['DAYS_EMPLOYED_ANOM'] = test[\"DAYS_EMPLOYED\"] == 365243\n",
        "test[\"DAYS_EMPLOYED\"].replace({365243: np.nan}, inplace = True)\n",
        "\n",
        "print('There are %d anomalies in the test data out of %d entries' % (test[\"DAYS_EMPLOYED_ANOM\"].sum(), len(test)))"
      ],
      "metadata": {
        "_uuid": "5f551a724dc078d9f896ad928d064dd034b62f6a",
        "trusted": true,
        "colab": {
          "base_uri": "https://localhost:8080/"
        },
        "id": "6gFmtjzWonMv",
        "outputId": "f859f2bb-d249-4125-8e2a-2d3463d7c2a6"
      },
      "execution_count": null,
      "outputs": [
        {
          "output_type": "stream",
          "name": "stdout",
          "text": [
            "There are 0 anomalies in the test data out of 61500 entries\n"
          ]
        }
      ]
    },
    {
      "cell_type": "code",
      "source": [
        "#data['EXT_SOURCE_1_y']"
      ],
      "metadata": {
        "_uuid": "b7badfd2cfe1d10c58987c50eb9073d6fc7a7793",
        "trusted": true,
        "id": "sSJNDcVzonMv"
      },
      "execution_count": null,
      "outputs": []
    },
    {
      "cell_type": "code",
      "source": [
        "#Polynomial Features\n",
        "\n",
        "# Make a new dataframe for polynomial features\n",
        "poly_features = data[['EXT_SOURCE_1', 'EXT_SOURCE_2', 'EXT_SOURCE_3', 'DAYS_BIRTH', 'TARGET']]\n",
        "poly_features_test = test[['EXT_SOURCE_1', 'EXT_SOURCE_2', 'EXT_SOURCE_3', 'DAYS_BIRTH']]\n",
        "\n",
        "# imputer for handling missing values\n",
        "from sklearn.impute import SimpleImputer\n",
        "imputer = SimpleImputer(strategy = 'median')\n",
        "\n",
        "poly_target = poly_features['TARGET']\n",
        "\n",
        "poly_features = poly_features.drop(columns = ['TARGET'])\n",
        "\n",
        "# Need to impute missing values\n",
        "poly_features = imputer.fit_transform(poly_features)\n",
        "poly_features_test = imputer.transform(poly_features_test)\n",
        "\n",
        "from sklearn.preprocessing import PolynomialFeatures\n",
        "                                  \n",
        "# Create the polynomial object with specified degree\n",
        "poly_transformer = PolynomialFeatures(degree = 3)"
      ],
      "metadata": {
        "_uuid": "736bdd44bf134095f687e2e3b91196d56cc71c53",
        "trusted": true,
        "id": "Q9bMtZCTonMw"
      },
      "execution_count": null,
      "outputs": []
    },
    {
      "cell_type": "code",
      "source": [
        "# data the polynomial features\n",
        "poly_transformer.fit(poly_features)\n",
        "\n",
        "# Transform the features\n",
        "poly_features = poly_transformer.transform(poly_features)\n",
        "poly_features_test = poly_transformer.transform(poly_features_test)\n",
        "print('Polynomial Features shape: ', poly_features.shape)"
      ],
      "metadata": {
        "_uuid": "61ee5da3f1dbcb10867ff7c585745f3808e570e5",
        "trusted": true,
        "colab": {
          "base_uri": "https://localhost:8080/"
        },
        "id": "_-IaPc9eonMw",
        "outputId": "853d035c-3c53-4adf-c291-b10a96e505a5"
      },
      "execution_count": null,
      "outputs": [
        {
          "output_type": "stream",
          "name": "stdout",
          "text": [
            "Polynomial Features shape:  (171202, 35)\n"
          ]
        }
      ]
    },
    {
      "cell_type": "code",
      "source": [
        "poly_transformer.get_feature_names(input_features = ['EXT_SOURCE_1', 'EXT_SOURCE_2', 'EXT_SOURCE_3', 'YEARS_BIRTH'])[:15]"
      ],
      "metadata": {
        "_uuid": "c9b450d23bba070a887b0a4ed3bbb0d9f0e29499",
        "trusted": true,
        "colab": {
          "base_uri": "https://localhost:8080/"
        },
        "id": "xJjUa1VbonMx",
        "outputId": "7b971f39-3826-4873-e866-67f747903866"
      },
      "execution_count": null,
      "outputs": [
        {
          "output_type": "stream",
          "name": "stderr",
          "text": [
            "/usr/local/lib/python3.7/dist-packages/sklearn/utils/deprecation.py:87: FutureWarning: Function get_feature_names is deprecated; get_feature_names is deprecated in 1.0 and will be removed in 1.2. Please use get_feature_names_out instead.\n",
            "  warnings.warn(msg, category=FutureWarning)\n"
          ]
        },
        {
          "output_type": "execute_result",
          "data": {
            "text/plain": [
              "['1',\n",
              " 'EXT_SOURCE_1',\n",
              " 'EXT_SOURCE_2',\n",
              " 'EXT_SOURCE_3',\n",
              " 'DAYS_BIRTH',\n",
              " 'EXT_SOURCE_1^2',\n",
              " 'EXT_SOURCE_1 EXT_SOURCE_2',\n",
              " 'EXT_SOURCE_1 EXT_SOURCE_3',\n",
              " 'EXT_SOURCE_1 DAYS_BIRTH',\n",
              " 'EXT_SOURCE_2^2',\n",
              " 'EXT_SOURCE_2 EXT_SOURCE_3',\n",
              " 'EXT_SOURCE_2 DAYS_BIRTH',\n",
              " 'EXT_SOURCE_3^2',\n",
              " 'EXT_SOURCE_3 DAYS_BIRTH',\n",
              " 'DAYS_BIRTH^2']"
            ]
          },
          "metadata": {},
          "execution_count": 101
        }
      ]
    },
    {
      "cell_type": "code",
      "source": [
        "# Create a dataframe of the features \n",
        "poly_features = pd.DataFrame(poly_features, \n",
        "                             columns = poly_transformer.get_feature_names(['EXT_SOURCE_1', 'EXT_SOURCE_2', \n",
        "                                                                           'EXT_SOURCE_3', 'YEARS_BIRTH']))\n",
        "\n",
        "# Add in the target\n",
        "poly_features['TARGET'] = poly_target\n",
        "\n",
        "# Find the correlations with the target\n",
        "poly_corrs = poly_features.corr()['TARGET'].sort_values()\n",
        "\n",
        "# Display most negative and most positive\n",
        "print(poly_corrs.head(20))\n",
        "print(poly_corrs.tail(20))"
      ],
      "metadata": {
        "_uuid": "153207b73e2b7977487c84cc9260323e30f3561a",
        "trusted": true,
        "colab": {
          "base_uri": "https://localhost:8080/"
        },
        "id": "Bo1ma7ZponMx",
        "outputId": "8b06923d-aaf7-4a0b-907a-2c0c05cdf21b"
      },
      "execution_count": null,
      "outputs": [
        {
          "output_type": "stream",
          "name": "stderr",
          "text": [
            "/usr/local/lib/python3.7/dist-packages/sklearn/utils/deprecation.py:87: FutureWarning: Function get_feature_names is deprecated; get_feature_names is deprecated in 1.0 and will be removed in 1.2. Please use get_feature_names_out instead.\n",
            "  warnings.warn(msg, category=FutureWarning)\n"
          ]
        },
        {
          "output_type": "stream",
          "name": "stdout",
          "text": [
            "EXT_SOURCE_2 EXT_SOURCE_3                -0.190619\n",
            "EXT_SOURCE_1 EXT_SOURCE_2 EXT_SOURCE_3   -0.187364\n",
            "EXT_SOURCE_2^2 EXT_SOURCE_3              -0.174604\n",
            "EXT_SOURCE_2 EXT_SOURCE_3^2              -0.169516\n",
            "EXT_SOURCE_1 EXT_SOURCE_2                -0.165062\n",
            "EXT_SOURCE_2                             -0.162383\n",
            "EXT_SOURCE_1 EXT_SOURCE_2^2              -0.155854\n",
            "EXT_SOURCE_2^2                           -0.151487\n",
            "EXT_SOURCE_1 EXT_SOURCE_3                -0.150418\n",
            "EXT_SOURCE_3                             -0.142190\n",
            "EXT_SOURCE_2^3                           -0.142178\n",
            "EXT_SOURCE_1 EXT_SOURCE_3^2              -0.138980\n",
            "EXT_SOURCE_1^2 EXT_SOURCE_2              -0.138804\n",
            "EXT_SOURCE_2 DAYS_BIRTH^2                -0.135825\n",
            "EXT_SOURCE_3^2                           -0.129820\n",
            "EXT_SOURCE_1^2 EXT_SOURCE_3              -0.127705\n",
            "EXT_SOURCE_3 DAYS_BIRTH^2                -0.120932\n",
            "EXT_SOURCE_3^3                           -0.117608\n",
            "EXT_SOURCE_1 DAYS_BIRTH^2                -0.090729\n",
            "EXT_SOURCE_1                             -0.081994\n",
            "Name: TARGET, dtype: float64\n",
            "EXT_SOURCE_3 DAYS_BIRTH^2              -0.120932\n",
            "EXT_SOURCE_3^3                         -0.117608\n",
            "EXT_SOURCE_1 DAYS_BIRTH^2              -0.090729\n",
            "EXT_SOURCE_1                           -0.081994\n",
            "DAYS_BIRTH^2                           -0.077987\n",
            "EXT_SOURCE_1^2                         -0.075605\n",
            "EXT_SOURCE_1^3                         -0.068726\n",
            "DAYS_BIRTH^3                            0.075583\n",
            "DAYS_BIRTH                              0.079541\n",
            "EXT_SOURCE_1^2 DAYS_BIRTH               0.089520\n",
            "EXT_SOURCE_1 DAYS_BIRTH                 0.097990\n",
            "EXT_SOURCE_3^2 DAYS_BIRTH               0.133807\n",
            "EXT_SOURCE_3 DAYS_BIRTH                 0.141401\n",
            "EXT_SOURCE_1 EXT_SOURCE_3 DAYS_BIRTH    0.143557\n",
            "EXT_SOURCE_2^2 DAYS_BIRTH               0.152261\n",
            "EXT_SOURCE_1 EXT_SOURCE_2 DAYS_BIRTH    0.157203\n",
            "EXT_SOURCE_2 DAYS_BIRTH                 0.159863\n",
            "EXT_SOURCE_2 EXT_SOURCE_3 DAYS_BIRTH    0.179790\n",
            "TARGET                                  1.000000\n",
            "1                                            NaN\n",
            "Name: TARGET, dtype: float64\n"
          ]
        }
      ]
    },
    {
      "cell_type": "code",
      "source": [
        "# Put test features into dataframe\n",
        "poly_features_test = pd.DataFrame(poly_features_test, \n",
        "                                  columns = poly_transformer.get_feature_names(['EXT_SOURCE_1', 'EXT_SOURCE_2', \n",
        "                                                                                'EXT_SOURCE_3', 'YEARS_BIRTH']))\n",
        "\n",
        "# Merge polynomial features into dataing dataframe\n",
        "poly_features['SK_ID_CURR'] = data['SK_ID_CURR']\n",
        "app_train_poly = data.merge(poly_features, on = 'SK_ID_CURR', how = 'left')\n",
        "\n",
        "# Merge polnomial features into testing dataframe\n",
        "poly_features_test['SK_ID_CURR'] = test['SK_ID_CURR']\n",
        "app_test_poly = test.merge(poly_features_test, on = 'SK_ID_CURR', how = 'left')\n",
        "\n",
        "# Align the dataframes\n",
        "app_train_poly, app_test_poly = app_train_poly.align(app_test_poly, join = 'inner', axis = 1)\n",
        "\n",
        "# Print out the new shapes\n",
        "print('dataing data with polynomial features shape: ', app_train_poly.shape)\n",
        "print('Testing data with polynomial features shape:  ', app_test_poly.shape)"
      ],
      "metadata": {
        "_uuid": "9b871b3d3c3779694cc5a91e2871f1843f50ea10",
        "trusted": true,
        "colab": {
          "base_uri": "https://localhost:8080/"
        },
        "id": "bWg1TKruonMy",
        "outputId": "4f71e1c5-f2c3-4f0d-c7d2-07ddf1562f8e"
      },
      "execution_count": null,
      "outputs": [
        {
          "output_type": "stream",
          "name": "stderr",
          "text": [
            "/usr/local/lib/python3.7/dist-packages/sklearn/utils/deprecation.py:87: FutureWarning: Function get_feature_names is deprecated; get_feature_names is deprecated in 1.0 and will be removed in 1.2. Please use get_feature_names_out instead.\n",
            "  warnings.warn(msg, category=FutureWarning)\n"
          ]
        },
        {
          "output_type": "stream",
          "name": "stdout",
          "text": [
            "dataing data with polynomial features shape:  (171202, 234)\n",
            "Testing data with polynomial features shape:   (61500, 234)\n"
          ]
        }
      ]
    },
    {
      "cell_type": "code",
      "source": [
        "app_train_poly.head()\n",
        "\n",
        "app_train_poly=app_train_poly.rename(columns={'EXT_SOURCE_1_x':'EXT_SOURCE_1','EXT_SOURCE_2_x':'EXT_SOURCE_2','EXT_SOURCE_3_x':'EXT_SOURCE_3','YEARS_BIRTH_x':'YEARS_BIRTH'})\n",
        "#app_train_poly=app_train_poly.drop('1',inplace=True)\n",
        "\n",
        "app_test_poly=app_test_poly.rename(columns={'EXT_SOURCE_1_x':'EXT_SOURCE_1','EXT_SOURCE_2_x':'EXT_SOURCE_2','EXT_SOURCE_3_x':'EXT_SOURCE_3','YEARS_BIRTH_x':'YEARS_BIRTH'})"
      ],
      "metadata": {
        "_uuid": "caa0f8362cb926895b0fdfcbaf4e10142bdd59aa",
        "trusted": true,
        "id": "Nx8q0Wt8onMy"
      },
      "execution_count": null,
      "outputs": []
    },
    {
      "cell_type": "code",
      "source": [
        "app_test_poly.drop('1',axis=1,inplace=True)\n",
        "app_train_poly.drop('1',axis=1,inplace=True)"
      ],
      "metadata": {
        "_uuid": "a310f5f00e12cf5caa074727275b1fa2a9bb8351",
        "trusted": true,
        "id": "I4WHW6wqonMy"
      },
      "execution_count": null,
      "outputs": []
    },
    {
      "cell_type": "code",
      "source": [
        "#app_train_poly['NAME_TYPE_SUITE_Spouse, partner_x']"
      ],
      "metadata": {
        "_uuid": "eeb37d66185421105ef0d95ddd62de144ac273d6",
        "trusted": true,
        "id": "EeXj1CY4onMz"
      },
      "execution_count": null,
      "outputs": []
    },
    {
      "cell_type": "code",
      "source": [
        "# check and remove constant columns\n",
        "colsToRemove = []\n",
        "for col in app_train_poly.columns:\n",
        "    if col != 'SK_ID_CURR' and col != 'TARGET':\n",
        "        if app_train_poly[col].std() == 0: \n",
        "            colsToRemove.append(col)\n",
        "        \n",
        "# remove constant columns in the training set\n",
        "app_train_poly.drop(colsToRemove, axis=1, inplace=True)\n",
        "\n",
        "# remove constant columns in the test set\n",
        "app_test_poly.drop(colsToRemove, axis=1, inplace=True) \n",
        "\n",
        "print(\"Removed `{}` Constant Columns\\n\".format(len(colsToRemove)))\n",
        "print(colsToRemove)"
      ],
      "metadata": {
        "_uuid": "3385d341e3db4d3cd7c8f1d822a1eaa9f962a4d9",
        "trusted": true,
        "colab": {
          "base_uri": "https://localhost:8080/"
        },
        "id": "TXWT6dREonMz",
        "outputId": "671c9dc9-af06-44be-f263-821c151d50f8"
      },
      "execution_count": null,
      "outputs": [
        {
          "output_type": "stream",
          "name": "stdout",
          "text": [
            "Removed `8` Constant Columns\n",
            "\n",
            "['REGION_POPULATION_RELATIVE_0.04622', (False, 'REGION_POPULATION_RELATIVE_0.04622'), 'REGION_POPULATION_RELATIVE_0.072508', (False, 'REGION_POPULATION_RELATIVE_0.072508'), 'OWN_CAR_AGE_64', (False, 'OWN_CAR_AGE_64'), 'OWN_CAR_AGE_65', (False, 'OWN_CAR_AGE_65')]\n"
          ]
        }
      ]
    },
    {
      "cell_type": "code",
      "source": [
        "#app_train_domain['SK_ID_CURR']"
      ],
      "metadata": {
        "_uuid": "c6db4452ac6ec7ff57e558e9e84809b019d84e06",
        "trusted": true,
        "id": "0XnhH-PDonMz"
      },
      "execution_count": null,
      "outputs": []
    },
    {
      "cell_type": "code",
      "source": [
        "# create temp DF\n",
        "#data1 = pd.read_csv('../input/application_train.csv')\n",
        "#test1 = pd.read_csv('../input/application_test.csv')\n",
        "\n",
        "#app_train_domain = app_test_domain.drop('SK_ID_PREV_x',axis=1)\n",
        "#app_test_domain = app_test_domain.drop('SK_ID_PREV_x',axis=1)\n",
        "\n",
        "#app_train_domain = app_test_domain.drop('SK_ID_PREV_y',axis=1)\n",
        "#app_test_domain = app_test_domain.drop('SK_ID_PREV_y',axis=1)"
      ],
      "metadata": {
        "_uuid": "68e3df2199a9739da046815e73b6ab5e74014d41",
        "trusted": true,
        "id": "0yIeCNBOonM0"
      },
      "execution_count": null,
      "outputs": []
    },
    {
      "cell_type": "code",
      "source": [
        "#app_train_poly['AMT_CREDIT'] = data1['AMT_CREDIT']\n",
        "#app_test_poly['AMT_CREDIT'] = test1['AMT_CREDIT']\n",
        "#app_train_poly['AMT_GOODS_PRICE'] = data1['AMT_GOODS_PRICE']\n",
        "#app_test_poly['AMT_GOODS_PRICE'] = test1['AMT_GOODS_PRICE']\n",
        "app_train_poly=app_train_poly.rename(columns={'AMT_CREDIT_x':'AMT_CREDIT','AMT_GOODS_PRICE_x':'AMT_GOODS_PRICE'})\n",
        "app_test_poly=app_test_poly.rename(columns={'AMT_CREDIT_x':'AMT_CREDIT','AMT_GOODS_PRICE_x':'AMT_GOODS_PRICE'})"
      ],
      "metadata": {
        "_uuid": "0e2e7d47f1cfb74e80fe0645cdf63f845ccfa24a",
        "trusted": true,
        "id": "EnrINXikonM0"
      },
      "execution_count": null,
      "outputs": []
    },
    {
      "cell_type": "code",
      "source": [
        "#app_train_poly['AMT_ANNUITY_x']"
      ],
      "metadata": {
        "_uuid": "83924f6574e86c8afbc187448b21a96fd5b84957",
        "trusted": true,
        "id": "SwY10T5IonM1"
      },
      "execution_count": null,
      "outputs": []
    },
    {
      "cell_type": "code",
      "source": [
        "test.columns"
      ],
      "metadata": {
        "colab": {
          "base_uri": "https://localhost:8080/"
        },
        "id": "dYE54IO7rA0Z",
        "outputId": "03bad1f3-7e61-450d-d4f1-ea572968f2ab"
      },
      "execution_count": null,
      "outputs": [
        {
          "output_type": "execute_result",
          "data": {
            "text/plain": [
              "Index([                'SK_ID_CURR',               'CNT_CHILDREN',\n",
              "                 'AMT_INCOME_TOTAL',                 'AMT_CREDIT',\n",
              "                      'AMT_ANNUITY',            'AMT_GOODS_PRICE',\n",
              "       'REGION_POPULATION_RELATIVE',                 'DAYS_BIRTH',\n",
              "                    'DAYS_EMPLOYED',          'DAYS_REGISTRATION',\n",
              "       ...\n",
              "              'ROUND_RT_CREDIT_0.0',        'ROUND_RT_CREDIT_1.0',\n",
              "              'ROUND_RT_CREDIT_2.0',        'ROUND_RT_CREDIT_3.0',\n",
              "              'ROUND_RT_CREDIT_4.0',        'ROUND_RT_CREDIT_5.0',\n",
              "              'ROUND_RT_CREDIT_6.0',                    'AGE_EMP',\n",
              "                         'AGE_EMP1',         'DAYS_EMPLOYED_ANOM'],\n",
              "      dtype='object', length=199)"
            ]
          },
          "metadata": {},
          "execution_count": 112
        }
      ]
    },
    {
      "cell_type": "code",
      "source": [
        "app_train_domain.columns"
      ],
      "metadata": {
        "colab": {
          "base_uri": "https://localhost:8080/"
        },
        "id": "97_X7TSZrVcT",
        "outputId": "62fba7b6-2e96-4443-a5fe-0071c26634aa"
      },
      "execution_count": null,
      "outputs": [
        {
          "output_type": "execute_result",
          "data": {
            "text/plain": [
              "Index(['SK_ID_CURR', 'CNT_CHILDREN', 'AMT_INCOME_TOTAL', 'AMT_CREDIT',\n",
              "       'AMT_ANNUITY', 'AMT_GOODS_PRICE', 'REGION_POPULATION_RELATIVE',\n",
              "       'DAYS_BIRTH', 'DAYS_EMPLOYED', 'DAYS_REGISTRATION',\n",
              "       ...\n",
              "       'DAYS_BIRTH^3', 'CREDIT_INCOME_PERCENT', 'ANNUITY_INCOME_PERCENT',\n",
              "       'CREDIT_TERM', 'DAYS_EMPLOYED_PERCENT', 'NEW_CREDIT_TO_ANNUITY_RATIO',\n",
              "       'NEW_CREDIT_TO_GOODS_RATIO', 'NEW_EXT_SOURCES_MEAN',\n",
              "       'NEW_EMPLOY_TO_BIRTH_RATIO', 'TARGET'],\n",
              "      dtype='object', length=200)"
            ]
          },
          "metadata": {},
          "execution_count": 113
        }
      ]
    },
    {
      "cell_type": "code",
      "source": [
        "app_train_domain = app_train_poly.copy()\n",
        "app_test_domain = app_test_poly.copy()\n",
        "\n",
        "app_train_domain['CREDIT_INCOME_PERCENT'] = app_train_domain['AMT_CREDIT'] / app_train_domain['AMT_INCOME_TOTAL']\n",
        "app_train_domain['ANNUITY_INCOME_PERCENT'] = app_train_domain['AMT_ANNUITY'] / app_train_domain['AMT_INCOME_TOTAL']\n",
        "app_train_domain['CREDIT_TERM'] = app_train_domain['AMT_ANNUITY'] / app_train_domain['AMT_CREDIT']\n",
        "app_train_domain['DAYS_EMPLOYED_PERCENT'] = app_train_domain['DAYS_EMPLOYED'] / app_train_domain['DAYS_BIRTH']\n",
        "app_train_domain['NEW_CREDIT_TO_ANNUITY_RATIO'] = app_train_domain['AMT_CREDIT'] / app_train_domain['AMT_ANNUITY']\n",
        "app_train_domain['NEW_CREDIT_TO_GOODS_RATIO'] = app_train_domain['AMT_CREDIT'] / app_train_domain['AMT_GOODS_PRICE']\n",
        "app_train_domain['NEW_EXT_SOURCES_MEAN'] = app_train_domain[['EXT_SOURCE_1', 'EXT_SOURCE_2', 'EXT_SOURCE_3']].mean(axis=1)\n",
        "app_train_domain['NEW_EMPLOY_TO_BIRTH_RATIO'] = app_train_domain['YEARS_EMPLOYED'] / app_train_domain['YEARS_BIRTH']\n"
      ],
      "metadata": {
        "_uuid": "6b77e86a1f80af0623a4bdc6572b1e7d64f868cb",
        "trusted": true,
        "id": "-37XbYmgonM1"
      },
      "execution_count": null,
      "outputs": []
    },
    {
      "cell_type": "code",
      "source": [
        "app_test_domain['CREDIT_INCOME_PERCENT'] = app_test_domain['AMT_CREDIT'] / app_test_domain['AMT_INCOME_TOTAL']\n",
        "app_test_domain['ANNUITY_INCOME_PERCENT'] = app_test_domain['AMT_ANNUITY'] / app_test_domain['AMT_INCOME_TOTAL']\n",
        "app_test_domain['CREDIT_TERM'] = app_test_domain['AMT_ANNUITY'] / app_test_domain['AMT_CREDIT']\n",
        "app_test_domain['DAYS_EMPLOYED_PERCENT'] = app_test_domain['DAYS_EMPLOYED'] / app_test_domain['DAYS_BIRTH']\n",
        "\n",
        "app_test_domain['NEW_CREDIT_TO_ANNUITY_RATIO'] = app_test_domain['AMT_CREDIT'] / app_test_domain['AMT_ANNUITY']\n",
        "app_test_domain['NEW_CREDIT_TO_GOODS_RATIO'] = app_test_domain['AMT_CREDIT'] / app_test_domain['AMT_GOODS_PRICE']\n",
        "app_test_domain['NEW_EXT_SOURCES_MEAN'] = app_test_domain[['EXT_SOURCE_1', 'EXT_SOURCE_2', 'EXT_SOURCE_3']].mean(axis=1)\n",
        "app_test_domain['NEW_EMPLOY_TO_BIRTH_RATIO'] = app_test_domain['YEARS_EMPLOYED'] / app_test_domain['YEARS_BIRTH']"
      ],
      "metadata": {
        "_uuid": "4505cd992232d3158315214fedfd525c4c9977e9",
        "trusted": true,
        "id": "YK6YfTJJonM1"
      },
      "execution_count": null,
      "outputs": []
    },
    {
      "cell_type": "code",
      "source": [
        "app_train_domain['TARGET'] = poly_target\n",
        "print('Training data with polynomial features shape: ', app_train_domain.shape)\n",
        "print('Testing data with polynomial features shape:  ', app_test_domain.shape)"
      ],
      "metadata": {
        "_uuid": "5ea0b3d3ee19c8adfb307fd13f53e02f018be762",
        "trusted": true,
        "colab": {
          "base_uri": "https://localhost:8080/"
        },
        "id": "2HYOhQeFonM2",
        "outputId": "e616a71f-99e1-415c-985e-589747ade975"
      },
      "execution_count": null,
      "outputs": [
        {
          "output_type": "stream",
          "name": "stdout",
          "text": [
            "Training data with polynomial features shape:  (171202, 234)\n",
            "Testing data with polynomial features shape:   (61500, 233)\n"
          ]
        }
      ]
    },
    {
      "cell_type": "code",
      "source": [
        "#app_train_domain = app_train_domain[app_train_domain.columns[app_train_domain.isnull().mean() < 0.80]]\n",
        "#app_test_domain = app_test_domain[app_test_domain.columns[app_test_domain.isnull().mean() < 0.80]]\n",
        "#print('Training data with polynomial features shape: ', app_train_domain.shape)\n",
        "#print('Testing data with polynomial features shape:  ', app_test_domain.shape)"
      ],
      "metadata": {
        "_uuid": "336e903a7a4c4be26bc3cc4943cd11c243970c02",
        "trusted": true,
        "id": "b_eUsThqonM2"
      },
      "execution_count": null,
      "outputs": []
    },
    {
      "cell_type": "code",
      "source": [
        "#app_train_domain = app_test_domain.drop('AMT_ANNUITY',axis=1)\n",
        "#app_test_domain = app_test_domain.drop('AMT_ANNUITY',axis=1)"
      ],
      "metadata": {
        "_uuid": "d6d064e084efb6373abd92c4961fab4552b02d71",
        "trusted": true,
        "id": "CWyvuokconM2"
      },
      "execution_count": null,
      "outputs": []
    },
    {
      "cell_type": "code",
      "source": [
        "#app_train_domain['TARGET']"
      ],
      "metadata": {
        "_uuid": "f293952bbffde2a8b4e6ad4524cf9de08eb8e6dd",
        "trusted": true,
        "id": "xwfRLeVoonM2"
      },
      "execution_count": null,
      "outputs": []
    },
    {
      "cell_type": "code",
      "source": [
        "app_train_domain['TARGET'] = poly_target\n",
        "print('Training data with polynomial features shape: ', app_train_domain.shape)\n",
        "print('Testing data with polynomial features shape:  ', app_test_domain.shape)"
      ],
      "metadata": {
        "_uuid": "f4621c5cdf5ed89f3a3806f689e93c64bd1d4fae",
        "trusted": true,
        "colab": {
          "base_uri": "https://localhost:8080/"
        },
        "id": "Pf7NVRztonM3",
        "outputId": "922df452-0cfd-4c98-ceff-805e2083ac93"
      },
      "execution_count": null,
      "outputs": [
        {
          "output_type": "stream",
          "name": "stdout",
          "text": [
            "Training data with polynomial features shape:  (171202, 234)\n",
            "Testing data with polynomial features shape:   (61500, 233)\n"
          ]
        }
      ]
    },
    {
      "cell_type": "code",
      "source": [
        "#app_train_domain = app_train_domain.reindex(\n",
        " #   np.random.permutation(app_train_domain.index))"
      ],
      "metadata": {
        "_uuid": "b50311403d93e99586819404a60997fd815db0cf",
        "trusted": true,
        "id": "cHKp00mAonM3"
      },
      "execution_count": null,
      "outputs": []
    },
    {
      "cell_type": "code",
      "source": [
        "#app_train_domain=app_train_domain.drop('TARGET',axis=1)\n",
        "#app_train_domain = np.log1p(app_train_domain)\n",
        "#app_test_domain=np.log1p(app_test_domain)\n",
        "#print('Training data with polynomial features shape: ', app_train_domain.shape)\n",
        "#print('Testing data with polynomial features shape:  ', app_test_domain.shape)"
      ],
      "metadata": {
        "_uuid": "70d8c21e78526c445819b3f78647ab3bcd0615de",
        "trusted": true,
        "id": "vann9ARGonM3"
      },
      "execution_count": null,
      "outputs": []
    },
    {
      "cell_type": "code",
      "source": [
        "from sklearn.model_selection import KFold\n",
        "from sklearn.metrics import roc_auc_score\n",
        "import lightgbm as lgb\n",
        "import gc\n",
        "\n",
        "def model(features, test_features, encoding = 'ohe', n_folds =5 ):\n",
        "    \n",
        "    \"\"\"Train and test a light gradient boosting model using\n",
        "    cross validation. \n",
        "    \n",
        "    Parameters\n",
        "    --------\n",
        "        features (pd.DataFrame): \n",
        "            dataframe of training features to use \n",
        "            for training a model. Must include the TARGET column.\n",
        "        test_features (pd.DataFrame): \n",
        "            dataframe of testing features to use\n",
        "            for making predictions with the model. \n",
        "        encoding (str, default = 'ohe'): \n",
        "            method for encoding categorical variables. Either 'ohe' for one-hot encoding or 'le' for integer label encoding\n",
        "            n_folds (int, default = 5): number of folds to use for cross validation\n",
        "        \n",
        "    Return\n",
        "    --------\n",
        "        submission (pd.DataFrame): \n",
        "            dataframe with `SK_ID_CURR` and `TARGET` probabilities\n",
        "            predicted by the model.\n",
        "        feature_importances (pd.DataFrame): \n",
        "            dataframe with the feature importances from the model.\n",
        "        valid_metrics (pd.DataFrame): \n",
        "            dataframe with training and validation metrics (ROC AUC) for each fold and overall.\n",
        "        \n",
        "    \"\"\"\n",
        "    \n",
        "    # Extract the ids\n",
        "    train_ids = features['SK_ID_CURR']\n",
        "    test_ids = test_features['SK_ID_CURR']\n",
        "    \n",
        "    # Extract the labels for training\n",
        "    labels = features['TARGET']\n",
        "    \n",
        "    # Remove the ids and target\n",
        "    features = features.drop(columns = ['SK_ID_CURR', 'TARGET'])\n",
        "    test_features = test_features.drop(columns = ['SK_ID_CURR'])\n",
        "    \n",
        "    \n",
        "    # One Hot Encoding\n",
        "    if encoding == 'ohe':\n",
        "        features = pd.get_dummies(features)\n",
        "        test_features = pd.get_dummies(test_features)\n",
        "        \n",
        "        # Align the dataframes by the columns\n",
        "        features, test_features = features.align(test_features, join = 'inner', axis = 1)\n",
        "        \n",
        "        # No categorical indices to record\n",
        "        cat_indices = 'auto'\n",
        "    \n",
        "    # Integer label encoding\n",
        "    elif encoding == 'le':\n",
        "        \n",
        "        # Create a label encoder\n",
        "        label_encoder = LabelEncoder()\n",
        "        \n",
        "        # List for storing categorical indices\n",
        "        cat_indices = []\n",
        "        \n",
        "        # Iterate through each column\n",
        "        for i, col in enumerate(features):\n",
        "            if features[col].dtype == 'object':\n",
        "                # Map the categorical features to integers\n",
        "                features[col] = label_encoder.fit_transform(np.array(features[col].astype(str)).reshape((-1,)))\n",
        "                test_features[col] = label_encoder.transform(np.array(test_features[col].astype(str)).reshape((-1,)))\n",
        "\n",
        "                # Record the categorical indices\n",
        "                cat_indices.append(i)\n",
        "    \n",
        "    # Catch error if label encoding scheme is not valid\n",
        "    else:\n",
        "        raise ValueError(\"Encoding must be either 'ohe' or 'le'\")\n",
        "        \n",
        "    print('Training Data Shape: ', features.shape)\n",
        "    print('Testing Data Shape: ', test_features.shape)\n",
        "    \n",
        "    # Extract feature names\n",
        "    feature_names = list(features.columns)\n",
        "    \n",
        "    # Convert to np arrays\n",
        "    features = np.array(features)\n",
        "    test_features = np.array(test_features)\n",
        "    \n",
        "    # Create the kfold object\n",
        "    k_fold = KFold(n_splits = n_folds, shuffle = True, random_state = 50)\n",
        "    \n",
        "    # Empty array for feature importances\n",
        "    feature_importance_values = np.zeros(len(feature_names))\n",
        "    \n",
        "    # Empty array for test predictions\n",
        "    test_predictions = np.zeros(test_features.shape[0])\n",
        "    \n",
        "    # Empty array for out of fold validation predictions\n",
        "    out_of_fold = np.zeros(features.shape[0])\n",
        "    \n",
        "    # Lists for recording validation and training scores\n",
        "    valid_scores = []\n",
        "    train_scores = []\n",
        "    \n",
        "    # Iterate through each fold\n",
        "    for train_indices, valid_indices in k_fold.split(features):\n",
        "        \n",
        "        # Training data for the fold\n",
        "        train_features, train_labels = features[train_indices], labels[train_indices]\n",
        "        # Validation data for the fold\n",
        "        valid_features, valid_labels = features[valid_indices], labels[valid_indices]\n",
        "        \n",
        "        # Create the model\n",
        "        model = lgb.LGBMClassifier(n_estimators=10000, nthread=4,objective = 'binary', \n",
        "                                   class_weight = 'balanced', learning_rate = 0.015, \n",
        "                                   reg_alpha = 0.041545473, reg_lambda = 0.1, \n",
        "                                   n_jobs = -1, random_state = 50,num_leaves=32,colsample_bytree=.9497036,subsample=.8715623,\n",
        "                                  max_depth=5,min_split_gain=.0222415,min_child_weight=39.3259775,max_bin=200,num_boost_round=3000,min_data_in_leaf=100,bagging_fraction=0.5,bagging_freq=10)\n",
        "        \n",
        "        # Train the model\n",
        "        model.fit(train_features, train_labels, eval_metric = 'auc',\n",
        "                  eval_set = [(valid_features, valid_labels), (train_features, train_labels)],\n",
        "                  eval_names = ['valid', 'train'], categorical_feature = cat_indices,\n",
        "                  early_stopping_rounds = 100, verbose = 200)\n",
        "        \n",
        "        # Record the best iteration\n",
        "        best_iteration = model.best_iteration_\n",
        "        \n",
        "        # Record the feature importances\n",
        "        feature_importance_values += model.feature_importances_ / k_fold.n_splits\n",
        "        \n",
        "        # Make predictions\n",
        "        test_predictions += model.predict_proba(test_features, num_iteration = best_iteration)[:, 1] / k_fold.n_splits\n",
        "        \n",
        "        # Record the out of fold predictions\n",
        "        out_of_fold[valid_indices] = model.predict_proba(valid_features, num_iteration = best_iteration)[:, 1]\n",
        "        \n",
        "        # Record the best score\n",
        "        valid_score = model.best_score_['valid']['auc']\n",
        "        train_score = model.best_score_['train']['auc']\n",
        "        \n",
        "        valid_scores.append(valid_score)\n",
        "        train_scores.append(train_score)\n",
        "        \n",
        "        # Clean up memory\n",
        "        gc.enable()\n",
        "        del model, train_features, valid_features\n",
        "        gc.collect()\n",
        "        \n",
        "    # Make the submission dataframe\n",
        "    submission = pd.DataFrame({'SK_ID_CURR': test_ids, 'TARGET': test_predictions})\n",
        "    \n",
        "    # Make the feature importance dataframe\n",
        "    feature_importances = pd.DataFrame({'feature': feature_names, 'importance': feature_importance_values})\n",
        "    \n",
        "    # Overall validation score\n",
        "    valid_auc = roc_auc_score(labels, out_of_fold)\n",
        "    \n",
        "    # Add the overall scores to the metrics\n",
        "    valid_scores.append(valid_auc)\n",
        "    train_scores.append(np.mean(train_scores))\n",
        "    \n",
        "    # Needed for creating dataframe of validation scores\n",
        "    fold_names = list(range(n_folds))\n",
        "    fold_names.append('overall')\n",
        "    \n",
        "    # Dataframe of validation scores\n",
        "    metrics = pd.DataFrame({'fold': fold_names,\n",
        "                            'train': train_scores,\n",
        "                            'valid': valid_scores}) \n",
        "    \n",
        "    return submission, feature_importances, metrics"
      ],
      "metadata": {
        "_uuid": "b5b517cbd8769326456ce8936659088c2445859b",
        "trusted": true,
        "id": "W9WgYpa-onM4"
      },
      "execution_count": null,
      "outputs": []
    },
    {
      "cell_type": "code",
      "source": [
        "submission, fi, metrics = model(app_train_domain, app_test_domain)\n",
        "print('Baseline metrics')\n",
        "print(metrics)"
      ],
      "metadata": {
        "_uuid": "a1c8b9a78defac7e48f7188ce2b0dc851c1b5788",
        "trusted": true,
        "colab": {
          "base_uri": "https://localhost:8080/"
        },
        "id": "-yJV0Cm9onM4",
        "outputId": "8770e806-dcdb-49e9-c15c-ad4457d44277"
      },
      "execution_count": null,
      "outputs": [
        {
          "output_type": "stream",
          "name": "stdout",
          "text": [
            "Training Data Shape:  (171202, 232)\n",
            "Testing Data Shape:  (61500, 232)\n"
          ]
        },
        {
          "output_type": "stream",
          "name": "stderr",
          "text": [
            "/usr/local/lib/python3.7/dist-packages/lightgbm/engine.py:118: UserWarning: Found `num_boost_round` in params. Will use it instead of argument\n",
            "  warnings.warn(\"Found `{}` in params. Will use it instead of argument\".format(alias))\n"
          ]
        },
        {
          "output_type": "stream",
          "name": "stdout",
          "text": [
            "Training until validation scores don't improve for 100 rounds.\n",
            "[200]\ttrain's binary_logloss: 0.581394\ttrain's auc: 0.766099\tvalid's binary_logloss: 0.582686\tvalid's auc: 0.751504\n",
            "[400]\ttrain's binary_logloss: 0.56306\ttrain's auc: 0.782473\tvalid's binary_logloss: 0.568338\tvalid's auc: 0.759192\n",
            "[600]\ttrain's binary_logloss: 0.552336\ttrain's auc: 0.793139\tvalid's binary_logloss: 0.561211\tvalid's auc: 0.760766\n",
            "[800]\ttrain's binary_logloss: 0.5429\ttrain's auc: 0.802404\tvalid's binary_logloss: 0.556182\tvalid's auc: 0.762325\n",
            "Early stopping, best iteration is:\n",
            "[787]\ttrain's binary_logloss: 0.543544\ttrain's auc: 0.801786\tvalid's binary_logloss: 0.556217\tvalid's auc: 0.762408\n"
          ]
        },
        {
          "output_type": "stream",
          "name": "stderr",
          "text": [
            "/usr/local/lib/python3.7/dist-packages/lightgbm/engine.py:118: UserWarning: Found `num_boost_round` in params. Will use it instead of argument\n",
            "  warnings.warn(\"Found `{}` in params. Will use it instead of argument\".format(alias))\n"
          ]
        },
        {
          "output_type": "stream",
          "name": "stdout",
          "text": [
            "Training until validation scores don't improve for 100 rounds.\n",
            "[200]\ttrain's binary_logloss: 0.581724\ttrain's auc: 0.766141\tvalid's binary_logloss: 0.585218\tvalid's auc: 0.75046\n",
            "[400]\ttrain's binary_logloss: 0.563169\ttrain's auc: 0.783038\tvalid's binary_logloss: 0.572407\tvalid's auc: 0.758152\n",
            "[600]\ttrain's binary_logloss: 0.551645\ttrain's auc: 0.793918\tvalid's binary_logloss: 0.565955\tvalid's auc: 0.760682\n",
            "[800]\ttrain's binary_logloss: 0.543074\ttrain's auc: 0.802061\tvalid's binary_logloss: 0.559781\tvalid's auc: 0.762115\n",
            "Early stopping, best iteration is:\n",
            "[761]\ttrain's binary_logloss: 0.544168\ttrain's auc: 0.801081\tvalid's binary_logloss: 0.560132\tvalid's auc: 0.762174\n"
          ]
        },
        {
          "output_type": "stream",
          "name": "stderr",
          "text": [
            "/usr/local/lib/python3.7/dist-packages/lightgbm/engine.py:118: UserWarning: Found `num_boost_round` in params. Will use it instead of argument\n",
            "  warnings.warn(\"Found `{}` in params. Will use it instead of argument\".format(alias))\n"
          ]
        },
        {
          "output_type": "stream",
          "name": "stdout",
          "text": [
            "Training until validation scores don't improve for 100 rounds.\n",
            "[200]\ttrain's binary_logloss: 0.581789\ttrain's auc: 0.765858\tvalid's binary_logloss: 0.580973\tvalid's auc: 0.754117\n",
            "[400]\ttrain's binary_logloss: 0.562626\ttrain's auc: 0.783222\tvalid's binary_logloss: 0.567994\tvalid's auc: 0.75981\n",
            "[600]\ttrain's binary_logloss: 0.5516\ttrain's auc: 0.793862\tvalid's binary_logloss: 0.562642\tvalid's auc: 0.76143\n",
            "[800]\ttrain's binary_logloss: 0.542062\ttrain's auc: 0.803331\tvalid's binary_logloss: 0.556393\tvalid's auc: 0.761847\n",
            "Early stopping, best iteration is:\n",
            "[881]\ttrain's binary_logloss: 0.538678\ttrain's auc: 0.806816\tvalid's binary_logloss: 0.553883\tvalid's auc: 0.762383\n"
          ]
        },
        {
          "output_type": "stream",
          "name": "stderr",
          "text": [
            "/usr/local/lib/python3.7/dist-packages/lightgbm/engine.py:118: UserWarning: Found `num_boost_round` in params. Will use it instead of argument\n",
            "  warnings.warn(\"Found `{}` in params. Will use it instead of argument\".format(alias))\n"
          ]
        },
        {
          "output_type": "stream",
          "name": "stdout",
          "text": [
            "Training until validation scores don't improve for 100 rounds.\n",
            "[200]\ttrain's binary_logloss: 0.578849\ttrain's auc: 0.76905\tvalid's binary_logloss: 0.5856\tvalid's auc: 0.739824\n",
            "[400]\ttrain's binary_logloss: 0.559592\ttrain's auc: 0.78637\tvalid's binary_logloss: 0.572187\tvalid's auc: 0.745362\n",
            "[600]\ttrain's binary_logloss: 0.548895\ttrain's auc: 0.796416\tvalid's binary_logloss: 0.565396\tvalid's auc: 0.746478\n",
            "[800]\ttrain's binary_logloss: 0.539292\ttrain's auc: 0.805828\tvalid's binary_logloss: 0.559731\tvalid's auc: 0.747617\n",
            "Early stopping, best iteration is:\n",
            "[739]\ttrain's binary_logloss: 0.542118\ttrain's auc: 0.803307\tvalid's binary_logloss: 0.561793\tvalid's auc: 0.748064\n"
          ]
        },
        {
          "output_type": "stream",
          "name": "stderr",
          "text": [
            "/usr/local/lib/python3.7/dist-packages/lightgbm/engine.py:118: UserWarning: Found `num_boost_round` in params. Will use it instead of argument\n",
            "  warnings.warn(\"Found `{}` in params. Will use it instead of argument\".format(alias))\n"
          ]
        },
        {
          "output_type": "stream",
          "name": "stdout",
          "text": [
            "Training until validation scores don't improve for 100 rounds.\n",
            "[200]\ttrain's binary_logloss: 0.579432\ttrain's auc: 0.768295\tvalid's binary_logloss: 0.583929\tvalid's auc: 0.741468\n",
            "[400]\ttrain's binary_logloss: 0.56047\ttrain's auc: 0.785277\tvalid's binary_logloss: 0.568978\tvalid's auc: 0.749187\n",
            "[600]\ttrain's binary_logloss: 0.549991\ttrain's auc: 0.795493\tvalid's binary_logloss: 0.563293\tvalid's auc: 0.751978\n",
            "[800]\ttrain's binary_logloss: 0.53984\ttrain's auc: 0.805399\tvalid's binary_logloss: 0.558259\tvalid's auc: 0.753656\n",
            "Early stopping, best iteration is:\n",
            "[795]\ttrain's binary_logloss: 0.540026\ttrain's auc: 0.805177\tvalid's binary_logloss: 0.558005\tvalid's auc: 0.753708\n",
            "Baseline metrics\n",
            "      fold     train     valid\n",
            "0        0  0.801786  0.762408\n",
            "1        1  0.801081  0.762174\n",
            "2        2  0.806816  0.762383\n",
            "3        3  0.803307  0.748064\n",
            "4        4  0.805177  0.753708\n",
            "5  overall  0.803633  0.757688\n"
          ]
        }
      ]
    },
    {
      "cell_type": "markdown",
      "source": [
        "Baseline metrics\n",
        "      fold     train     valid\n",
        "0        0  0.801786  0.762408\n",
        "1        1  0.801081  0.762174\n",
        "2        2  0.806816  0.762383\n",
        "3        3  0.803307  0.748064\n",
        "4        4  0.805177  0.753708\n",
        "5  overall  0.803633  0.757688"
      ],
      "metadata": {
        "id": "RuqVVuGgZyal"
      }
    },
    {
      "cell_type": "code",
      "source": [
        "def plot_feature_importances(df):\n",
        "    \"\"\"\n",
        "    Plot importances returned by a model. This can work with any measure of\n",
        "    feature importance provided that higher importance is better. \n",
        "    \n",
        "    Args:\n",
        "        df (dataframe): feature importances. Must have the features in a column\n",
        "        called `features` and the importances in a column called `importance\n",
        "        \n",
        "    Returns:\n",
        "        shows a plot of the 15 most importance features\n",
        "        \n",
        "        df (dataframe): feature importances sorted by importance (highest to lowest) \n",
        "        with a column for normalized importance\n",
        "        \"\"\"\n",
        "    \n",
        "    # Sort features according to importance\n",
        "    df = df.sort_values('importance', ascending = False).reset_index()\n",
        "    \n",
        "    # Normalize the feature importances to add up to one\n",
        "    df['importance_normalized'] = df['importance'] / df['importance'].sum()\n",
        "\n",
        "    # Make a horizontal bar chart of feature importances\n",
        "    plt.figure(figsize = (20, 20))\n",
        "    ax = plt.subplot()\n",
        "    \n",
        "    # Need to reverse the index to plot most important on top\n",
        "    ax.barh(list(reversed(list(df.index[:50]))), \n",
        "            df['importance_normalized'].head(50), \n",
        "            align = 'center', edgecolor = 'k')\n",
        "    \n",
        "    # Set the yticks and labels\n",
        "    ax.set_yticks(list(reversed(list(df.index[:50]))))\n",
        "    ax.set_yticklabels(df['feature'].head(50))\n",
        "    \n",
        "    # Plot labeling\n",
        "    plt.xlabel('Normalized Importance'); plt.title('Feature Importances')\n",
        "    plt.show()\n",
        "    \n",
        "    return df"
      ],
      "metadata": {
        "_uuid": "bf1f0015f8b8eb24747a59b13c5f980f450a8da0",
        "trusted": true,
        "id": "H3V45Au-onM5"
      },
      "execution_count": null,
      "outputs": []
    },
    {
      "cell_type": "code",
      "source": [
        "fi_sorted = plot_feature_importances(fi)"
      ],
      "metadata": {
        "_uuid": "8a2d7f50ba5347ab337d851f3a5a5cfe765e098f",
        "trusted": true,
        "colab": {
          "base_uri": "https://localhost:8080/",
          "height": 806
        },
        "id": "yT__4iaXonM5",
        "outputId": "389f4d6e-7ad6-4305-9509-d35c7fbd9017"
      },
      "execution_count": null,
      "outputs": [
        {
          "output_type": "display_data",
          "data": {
            "text/plain": [
              "<Figure size 1440x1440 with 1 Axes>"
            ],
            "image/png": "[encoded data removed]"
          },
          "metadata": {
            "needs_background": "light"
          }
        }
      ]
    },
    {
      "cell_type": "code",
      "source": [
        "submission.to_csv('second_sub.csv', index = False)"
      ],
      "metadata": {
        "_uuid": "6ac3c002d26190d507f2634a11feb98d0569d6f6",
        "trusted": true,
        "id": "LSQ2ifqaonM5"
      },
      "execution_count": null,
      "outputs": []
    },
    {
      "cell_type": "code",
      "source": [
        ""
      ],
      "metadata": {
        "_uuid": "d7d65820dfa0782f770ff075410320167718de27",
        "trusted": true,
        "id": "_TL9vP7oonM5"
      },
      "execution_count": null,
      "outputs": []
    }
  ]
}